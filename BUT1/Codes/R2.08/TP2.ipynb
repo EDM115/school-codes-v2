{
 "cells": [
  {
   "cell_type": "markdown",
   "metadata": {},
   "source": [
    "# <center> R2.08 - Statistique descriptive <br> TP 2 - Description bidimensionnelle </center>\n",
    "\n",
    "<center> A. Ridard </center>"
   ]
  },
  {
   "cell_type": "markdown",
   "metadata": {},
   "source": [
    "L'objectif est d'illustrer le cours 2 avec Python (une illustration avec Excel est disponible sur Moodle)."
   ]
  },
  {
   "cell_type": "markdown",
   "metadata": {},
   "source": [
    "## Importations pour ce TP"
   ]
  },
  {
   "cell_type": "code",
   "execution_count": 31,
   "metadata": {
    "collapsed": true
   },
   "outputs": [],
   "source": [
    "# importation des packages\n",
    "import numpy as np\n",
    "import pandas as pd\n",
    "import seaborn as sns\n",
    "\n",
    "# importation des modules\n",
    "import matplotlib.pyplot as plt\n",
    "import scipy.stats as sps"
   ]
  },
  {
   "cell_type": "markdown",
   "metadata": {},
   "source": [
    "> Charger les données du fichier **TP2_Data.xslx** dans un DataFrame (on reprend les données du TP1 en se limitant au Bac S)."
   ]
  },
  {
   "cell_type": "code",
   "execution_count": 32,
   "metadata": {
    "collapsed": true
   },
   "outputs": [],
   "source": [
    "# importation du fichier Excel\n",
    "\n",
    "df = pd.read_excel(\"./TP2_Data.xlsx\", sheet_name=\"Reponses_Bac_S\")"
   ]
  },
  {
   "cell_type": "markdown",
   "metadata": {},
   "source": [
    "## Deux variables qualitatives"
   ]
  },
  {
   "cell_type": "markdown",
   "metadata": {},
   "source": [
    "***Dans cette section, on s'intéresse à la dépendance entre la mention au bac ($X$) et la formation postbac ($Y$).***"
   ]
  },
  {
   "cell_type": "markdown",
   "metadata": {},
   "source": [
    "> Afficher le tableau de contingence "
   ]
  },
  {
   "cell_type": "code",
   "execution_count": 33,
   "metadata": {
    "collapsed": true
   },
   "outputs": [
    {
     "data": {
      "text/html": [
       "<div>\n",
       "<style scoped>\n",
       "    .dataframe tbody tr th:only-of-type {\n",
       "        vertical-align: middle;\n",
       "    }\n",
       "\n",
       "    .dataframe tbody tr th {\n",
       "        vertical-align: top;\n",
       "    }\n",
       "\n",
       "    .dataframe thead th {\n",
       "        text-align: right;\n",
       "    }\n",
       "</style>\n",
       "<table border=\"1\" class=\"dataframe\">\n",
       "  <thead>\n",
       "    <tr style=\"text-align: right;\">\n",
       "      <th>postbac</th>\n",
       "      <th>Autre</th>\n",
       "      <th>DUT INFO</th>\n",
       "      <th>DUT R&amp;T</th>\n",
       "      <th>Prépa concours (CPGE)</th>\n",
       "      <th>Prépa intégrée (PEI)</th>\n",
       "    </tr>\n",
       "    <tr>\n",
       "      <th>mention_bac</th>\n",
       "      <th></th>\n",
       "      <th></th>\n",
       "      <th></th>\n",
       "      <th></th>\n",
       "      <th></th>\n",
       "    </tr>\n",
       "  </thead>\n",
       "  <tbody>\n",
       "    <tr>\n",
       "      <th>Assez bien</th>\n",
       "      <td>6</td>\n",
       "      <td>12</td>\n",
       "      <td>11</td>\n",
       "      <td>5</td>\n",
       "      <td>3</td>\n",
       "    </tr>\n",
       "    <tr>\n",
       "      <th>Bien</th>\n",
       "      <td>0</td>\n",
       "      <td>14</td>\n",
       "      <td>2</td>\n",
       "      <td>6</td>\n",
       "      <td>5</td>\n",
       "    </tr>\n",
       "    <tr>\n",
       "      <th>Passable</th>\n",
       "      <td>2</td>\n",
       "      <td>3</td>\n",
       "      <td>3</td>\n",
       "      <td>0</td>\n",
       "      <td>0</td>\n",
       "    </tr>\n",
       "    <tr>\n",
       "      <th>Très bien</th>\n",
       "      <td>1</td>\n",
       "      <td>3</td>\n",
       "      <td>1</td>\n",
       "      <td>2</td>\n",
       "      <td>1</td>\n",
       "    </tr>\n",
       "  </tbody>\n",
       "</table>\n",
       "</div>"
      ],
      "text/plain": [
       "postbac      Autre  DUT INFO  DUT R&T  Prépa concours (CPGE)   \n",
       "mention_bac                                                    \n",
       "Assez bien       6        12       11                      5  \\\n",
       "Bien             0        14        2                      6   \n",
       "Passable         2         3        3                      0   \n",
       "Très bien        1         3        1                      2   \n",
       "\n",
       "postbac      Prépa intégrée (PEI)  \n",
       "mention_bac                        \n",
       "Assez bien                      3  \n",
       "Bien                            5  \n",
       "Passable                        0  \n",
       "Très bien                       1  "
      ]
     },
     "execution_count": 33,
     "metadata": {},
     "output_type": "execute_result"
    }
   ],
   "source": [
    "pd.crosstab(df[\"mention_bac\"], df[\"postbac\"])"
   ]
  },
  {
   "cell_type": "markdown",
   "metadata": {},
   "source": [
    "> Afficher le tableau de contingence complété par les marges en lignes et en colonnes"
   ]
  },
  {
   "cell_type": "code",
   "execution_count": 34,
   "metadata": {
    "collapsed": true
   },
   "outputs": [
    {
     "data": {
      "text/html": [
       "<div>\n",
       "<style scoped>\n",
       "    .dataframe tbody tr th:only-of-type {\n",
       "        vertical-align: middle;\n",
       "    }\n",
       "\n",
       "    .dataframe tbody tr th {\n",
       "        vertical-align: top;\n",
       "    }\n",
       "\n",
       "    .dataframe thead th {\n",
       "        text-align: right;\n",
       "    }\n",
       "</style>\n",
       "<table border=\"1\" class=\"dataframe\">\n",
       "  <thead>\n",
       "    <tr style=\"text-align: right;\">\n",
       "      <th>postbac</th>\n",
       "      <th>Autre</th>\n",
       "      <th>DUT INFO</th>\n",
       "      <th>DUT R&amp;T</th>\n",
       "      <th>Prépa concours (CPGE)</th>\n",
       "      <th>Prépa intégrée (PEI)</th>\n",
       "      <th>All</th>\n",
       "    </tr>\n",
       "    <tr>\n",
       "      <th>mention_bac</th>\n",
       "      <th></th>\n",
       "      <th></th>\n",
       "      <th></th>\n",
       "      <th></th>\n",
       "      <th></th>\n",
       "      <th></th>\n",
       "    </tr>\n",
       "  </thead>\n",
       "  <tbody>\n",
       "    <tr>\n",
       "      <th>Assez bien</th>\n",
       "      <td>6</td>\n",
       "      <td>12</td>\n",
       "      <td>11</td>\n",
       "      <td>5</td>\n",
       "      <td>3</td>\n",
       "      <td>37</td>\n",
       "    </tr>\n",
       "    <tr>\n",
       "      <th>Bien</th>\n",
       "      <td>0</td>\n",
       "      <td>14</td>\n",
       "      <td>2</td>\n",
       "      <td>6</td>\n",
       "      <td>5</td>\n",
       "      <td>27</td>\n",
       "    </tr>\n",
       "    <tr>\n",
       "      <th>Passable</th>\n",
       "      <td>2</td>\n",
       "      <td>3</td>\n",
       "      <td>3</td>\n",
       "      <td>0</td>\n",
       "      <td>0</td>\n",
       "      <td>8</td>\n",
       "    </tr>\n",
       "    <tr>\n",
       "      <th>Très bien</th>\n",
       "      <td>1</td>\n",
       "      <td>3</td>\n",
       "      <td>1</td>\n",
       "      <td>2</td>\n",
       "      <td>1</td>\n",
       "      <td>8</td>\n",
       "    </tr>\n",
       "    <tr>\n",
       "      <th>All</th>\n",
       "      <td>9</td>\n",
       "      <td>32</td>\n",
       "      <td>17</td>\n",
       "      <td>13</td>\n",
       "      <td>9</td>\n",
       "      <td>80</td>\n",
       "    </tr>\n",
       "  </tbody>\n",
       "</table>\n",
       "</div>"
      ],
      "text/plain": [
       "postbac      Autre  DUT INFO  DUT R&T  Prépa concours (CPGE)   \n",
       "mention_bac                                                    \n",
       "Assez bien       6        12       11                      5  \\\n",
       "Bien             0        14        2                      6   \n",
       "Passable         2         3        3                      0   \n",
       "Très bien        1         3        1                      2   \n",
       "All              9        32       17                     13   \n",
       "\n",
       "postbac      Prépa intégrée (PEI)  All  \n",
       "mention_bac                             \n",
       "Assez bien                      3   37  \n",
       "Bien                            5   27  \n",
       "Passable                        0    8  \n",
       "Très bien                       1    8  \n",
       "All                             9   80  "
      ]
     },
     "execution_count": 34,
     "metadata": {},
     "output_type": "execute_result"
    }
   ],
   "source": [
    "pd.crosstab(df[\"mention_bac\"], df[\"postbac\"], margins=True)"
   ]
  },
  {
   "cell_type": "markdown",
   "metadata": {},
   "source": [
    "> Afficher le tableau des profils-lignes"
   ]
  },
  {
   "cell_type": "code",
   "execution_count": 35,
   "metadata": {
    "collapsed": true
   },
   "outputs": [
    {
     "data": {
      "text/html": [
       "<div>\n",
       "<style scoped>\n",
       "    .dataframe tbody tr th:only-of-type {\n",
       "        vertical-align: middle;\n",
       "    }\n",
       "\n",
       "    .dataframe tbody tr th {\n",
       "        vertical-align: top;\n",
       "    }\n",
       "\n",
       "    .dataframe thead th {\n",
       "        text-align: right;\n",
       "    }\n",
       "</style>\n",
       "<table border=\"1\" class=\"dataframe\">\n",
       "  <thead>\n",
       "    <tr style=\"text-align: right;\">\n",
       "      <th>postbac</th>\n",
       "      <th>Autre</th>\n",
       "      <th>DUT INFO</th>\n",
       "      <th>DUT R&amp;T</th>\n",
       "      <th>Prépa concours (CPGE)</th>\n",
       "      <th>Prépa intégrée (PEI)</th>\n",
       "    </tr>\n",
       "    <tr>\n",
       "      <th>mention_bac</th>\n",
       "      <th></th>\n",
       "      <th></th>\n",
       "      <th></th>\n",
       "      <th></th>\n",
       "      <th></th>\n",
       "    </tr>\n",
       "  </thead>\n",
       "  <tbody>\n",
       "    <tr>\n",
       "      <th>Assez bien</th>\n",
       "      <td>0.162162</td>\n",
       "      <td>0.324324</td>\n",
       "      <td>0.297297</td>\n",
       "      <td>0.135135</td>\n",
       "      <td>0.081081</td>\n",
       "    </tr>\n",
       "    <tr>\n",
       "      <th>Bien</th>\n",
       "      <td>0.000000</td>\n",
       "      <td>0.518519</td>\n",
       "      <td>0.074074</td>\n",
       "      <td>0.222222</td>\n",
       "      <td>0.185185</td>\n",
       "    </tr>\n",
       "    <tr>\n",
       "      <th>Passable</th>\n",
       "      <td>0.250000</td>\n",
       "      <td>0.375000</td>\n",
       "      <td>0.375000</td>\n",
       "      <td>0.000000</td>\n",
       "      <td>0.000000</td>\n",
       "    </tr>\n",
       "    <tr>\n",
       "      <th>Très bien</th>\n",
       "      <td>0.125000</td>\n",
       "      <td>0.375000</td>\n",
       "      <td>0.125000</td>\n",
       "      <td>0.250000</td>\n",
       "      <td>0.125000</td>\n",
       "    </tr>\n",
       "    <tr>\n",
       "      <th>All</th>\n",
       "      <td>0.112500</td>\n",
       "      <td>0.400000</td>\n",
       "      <td>0.212500</td>\n",
       "      <td>0.162500</td>\n",
       "      <td>0.112500</td>\n",
       "    </tr>\n",
       "  </tbody>\n",
       "</table>\n",
       "</div>"
      ],
      "text/plain": [
       "postbac         Autre  DUT INFO   DUT R&T  Prépa concours (CPGE)   \n",
       "mention_bac                                                        \n",
       "Assez bien   0.162162  0.324324  0.297297               0.135135  \\\n",
       "Bien         0.000000  0.518519  0.074074               0.222222   \n",
       "Passable     0.250000  0.375000  0.375000               0.000000   \n",
       "Très bien    0.125000  0.375000  0.125000               0.250000   \n",
       "All          0.112500  0.400000  0.212500               0.162500   \n",
       "\n",
       "postbac      Prépa intégrée (PEI)  \n",
       "mention_bac                        \n",
       "Assez bien               0.081081  \n",
       "Bien                     0.185185  \n",
       "Passable                 0.000000  \n",
       "Très bien                0.125000  \n",
       "All                      0.112500  "
      ]
     },
     "execution_count": 35,
     "metadata": {},
     "output_type": "execute_result"
    }
   ],
   "source": [
    "pd.crosstab(df[\"mention_bac\"], df[\"postbac\"], margins=True, normalize=\"index\")"
   ]
  },
  {
   "cell_type": "markdown",
   "metadata": {},
   "source": [
    "> Afficher le tableau des profils-colonnes"
   ]
  },
  {
   "cell_type": "code",
   "execution_count": 36,
   "metadata": {
    "collapsed": true
   },
   "outputs": [
    {
     "data": {
      "text/html": [
       "<div>\n",
       "<style scoped>\n",
       "    .dataframe tbody tr th:only-of-type {\n",
       "        vertical-align: middle;\n",
       "    }\n",
       "\n",
       "    .dataframe tbody tr th {\n",
       "        vertical-align: top;\n",
       "    }\n",
       "\n",
       "    .dataframe thead th {\n",
       "        text-align: right;\n",
       "    }\n",
       "</style>\n",
       "<table border=\"1\" class=\"dataframe\">\n",
       "  <thead>\n",
       "    <tr style=\"text-align: right;\">\n",
       "      <th>postbac</th>\n",
       "      <th>Autre</th>\n",
       "      <th>DUT INFO</th>\n",
       "      <th>DUT R&amp;T</th>\n",
       "      <th>Prépa concours (CPGE)</th>\n",
       "      <th>Prépa intégrée (PEI)</th>\n",
       "      <th>All</th>\n",
       "    </tr>\n",
       "    <tr>\n",
       "      <th>mention_bac</th>\n",
       "      <th></th>\n",
       "      <th></th>\n",
       "      <th></th>\n",
       "      <th></th>\n",
       "      <th></th>\n",
       "      <th></th>\n",
       "    </tr>\n",
       "  </thead>\n",
       "  <tbody>\n",
       "    <tr>\n",
       "      <th>Assez bien</th>\n",
       "      <td>0.666667</td>\n",
       "      <td>0.37500</td>\n",
       "      <td>0.647059</td>\n",
       "      <td>0.384615</td>\n",
       "      <td>0.333333</td>\n",
       "      <td>0.4625</td>\n",
       "    </tr>\n",
       "    <tr>\n",
       "      <th>Bien</th>\n",
       "      <td>0.000000</td>\n",
       "      <td>0.43750</td>\n",
       "      <td>0.117647</td>\n",
       "      <td>0.461538</td>\n",
       "      <td>0.555556</td>\n",
       "      <td>0.3375</td>\n",
       "    </tr>\n",
       "    <tr>\n",
       "      <th>Passable</th>\n",
       "      <td>0.222222</td>\n",
       "      <td>0.09375</td>\n",
       "      <td>0.176471</td>\n",
       "      <td>0.000000</td>\n",
       "      <td>0.000000</td>\n",
       "      <td>0.1000</td>\n",
       "    </tr>\n",
       "    <tr>\n",
       "      <th>Très bien</th>\n",
       "      <td>0.111111</td>\n",
       "      <td>0.09375</td>\n",
       "      <td>0.058824</td>\n",
       "      <td>0.153846</td>\n",
       "      <td>0.111111</td>\n",
       "      <td>0.1000</td>\n",
       "    </tr>\n",
       "  </tbody>\n",
       "</table>\n",
       "</div>"
      ],
      "text/plain": [
       "postbac         Autre  DUT INFO   DUT R&T  Prépa concours (CPGE)   \n",
       "mention_bac                                                        \n",
       "Assez bien   0.666667   0.37500  0.647059               0.384615  \\\n",
       "Bien         0.000000   0.43750  0.117647               0.461538   \n",
       "Passable     0.222222   0.09375  0.176471               0.000000   \n",
       "Très bien    0.111111   0.09375  0.058824               0.153846   \n",
       "\n",
       "postbac      Prépa intégrée (PEI)     All  \n",
       "mention_bac                                \n",
       "Assez bien               0.333333  0.4625  \n",
       "Bien                     0.555556  0.3375  \n",
       "Passable                 0.000000  0.1000  \n",
       "Très bien                0.111111  0.1000  "
      ]
     },
     "execution_count": 36,
     "metadata": {},
     "output_type": "execute_result"
    }
   ],
   "source": [
    "pd.crosstab(df[\"mention_bac\"], df[\"postbac\"], margins=True, normalize=\"columns\")"
   ]
  },
  {
   "cell_type": "markdown",
   "metadata": {},
   "source": [
    "> Afficher le tableau des $\\displaystyle\\frac{n_{i.}n_{.j}}{n}$"
   ]
  },
  {
   "cell_type": "code",
   "execution_count": 37,
   "metadata": {
    "collapsed": true
   },
   "outputs": [
    {
     "data": {
      "text/html": [
       "<div>\n",
       "<style scoped>\n",
       "    .dataframe tbody tr th:only-of-type {\n",
       "        vertical-align: middle;\n",
       "    }\n",
       "\n",
       "    .dataframe tbody tr th {\n",
       "        vertical-align: top;\n",
       "    }\n",
       "\n",
       "    .dataframe thead th {\n",
       "        text-align: right;\n",
       "    }\n",
       "</style>\n",
       "<table border=\"1\" class=\"dataframe\">\n",
       "  <thead>\n",
       "    <tr style=\"text-align: right;\">\n",
       "      <th>postbac</th>\n",
       "      <th>Autre</th>\n",
       "      <th>DUT INFO</th>\n",
       "      <th>DUT R&amp;T</th>\n",
       "      <th>Prépa concours (CPGE)</th>\n",
       "      <th>Prépa intégrée (PEI)</th>\n",
       "      <th>All</th>\n",
       "    </tr>\n",
       "    <tr>\n",
       "      <th>mention_bac</th>\n",
       "      <th></th>\n",
       "      <th></th>\n",
       "      <th></th>\n",
       "      <th></th>\n",
       "      <th></th>\n",
       "      <th></th>\n",
       "    </tr>\n",
       "  </thead>\n",
       "  <tbody>\n",
       "    <tr>\n",
       "      <th>Assez bien</th>\n",
       "      <td>0.0750</td>\n",
       "      <td>0.1500</td>\n",
       "      <td>0.1375</td>\n",
       "      <td>0.0625</td>\n",
       "      <td>0.0375</td>\n",
       "      <td>0.4625</td>\n",
       "    </tr>\n",
       "    <tr>\n",
       "      <th>Bien</th>\n",
       "      <td>0.0000</td>\n",
       "      <td>0.1750</td>\n",
       "      <td>0.0250</td>\n",
       "      <td>0.0750</td>\n",
       "      <td>0.0625</td>\n",
       "      <td>0.3375</td>\n",
       "    </tr>\n",
       "    <tr>\n",
       "      <th>Passable</th>\n",
       "      <td>0.0250</td>\n",
       "      <td>0.0375</td>\n",
       "      <td>0.0375</td>\n",
       "      <td>0.0000</td>\n",
       "      <td>0.0000</td>\n",
       "      <td>0.1000</td>\n",
       "    </tr>\n",
       "    <tr>\n",
       "      <th>Très bien</th>\n",
       "      <td>0.0125</td>\n",
       "      <td>0.0375</td>\n",
       "      <td>0.0125</td>\n",
       "      <td>0.0250</td>\n",
       "      <td>0.0125</td>\n",
       "      <td>0.1000</td>\n",
       "    </tr>\n",
       "    <tr>\n",
       "      <th>All</th>\n",
       "      <td>0.1125</td>\n",
       "      <td>0.4000</td>\n",
       "      <td>0.2125</td>\n",
       "      <td>0.1625</td>\n",
       "      <td>0.1125</td>\n",
       "      <td>1.0000</td>\n",
       "    </tr>\n",
       "  </tbody>\n",
       "</table>\n",
       "</div>"
      ],
      "text/plain": [
       "postbac       Autre  DUT INFO  DUT R&T  Prépa concours (CPGE)   \n",
       "mention_bac                                                     \n",
       "Assez bien   0.0750    0.1500   0.1375                 0.0625  \\\n",
       "Bien         0.0000    0.1750   0.0250                 0.0750   \n",
       "Passable     0.0250    0.0375   0.0375                 0.0000   \n",
       "Très bien    0.0125    0.0375   0.0125                 0.0250   \n",
       "All          0.1125    0.4000   0.2125                 0.1625   \n",
       "\n",
       "postbac      Prépa intégrée (PEI)     All  \n",
       "mention_bac                                \n",
       "Assez bien                 0.0375  0.4625  \n",
       "Bien                       0.0625  0.3375  \n",
       "Passable                   0.0000  0.1000  \n",
       "Très bien                  0.0125  0.1000  \n",
       "All                        0.1125  1.0000  "
      ]
     },
     "execution_count": 37,
     "metadata": {},
     "output_type": "execute_result"
    }
   ],
   "source": [
    "pd.crosstab(df[\"mention_bac\"], df[\"postbac\"], margins=True, normalize=\"all\")"
   ]
  },
  {
   "cell_type": "markdown",
   "metadata": {},
   "source": [
    "> Calculer $d^2$ qui mesure l'écart à l'indépendance"
   ]
  },
  {
   "cell_type": "code",
   "execution_count": 38,
   "metadata": {
    "collapsed": true
   },
   "outputs": [
    {
     "name": "stdout",
     "output_type": "stream",
     "text": [
      "d² =  16.61989132168871\n"
     ]
    }
   ],
   "source": [
    "tableau = pd.crosstab(df[\"mention_bac\"], df[\"postbac\"])\n",
    "\n",
    "somme_colonnes = tableau.sum(axis=0)\n",
    "somme_lignes = tableau.sum(axis=1)\n",
    "total = tableau.values.sum()\n",
    "\n",
    "valeurs_attendues = np.outer(somme_lignes, somme_colonnes) / total\n",
    "\n",
    "déviation = (tableau - valeurs_attendues) ** 2 / valeurs_attendues\n",
    "d_carré = déviation.values.sum()\n",
    "\n",
    "print(\"d² = \", d_carré)\n"
   ]
  },
  {
   "cell_type": "markdown",
   "metadata": {},
   "source": [
    "## Une variable quantitative et une variable qualitative"
   ]
  },
  {
   "cell_type": "markdown",
   "metadata": {},
   "source": [
    "***Dans cette section, on se demande si la spécialité ($X$) permet d'expliquer la note de maths pour la crypto ($Y$).***"
   ]
  },
  {
   "cell_type": "markdown",
   "metadata": {},
   "source": [
    "> Afficher le tableau des effectifs, des moyennes et des variances de $Y$ (pour chaque catégorie de $X$ et au total) (cf. exemple sur Excel)"
   ]
  },
  {
   "cell_type": "code",
   "execution_count": 39,
   "metadata": {
    "collapsed": true
   },
   "outputs": [
    {
     "data": {
      "text/html": [
       "<div>\n",
       "<style scoped>\n",
       "    .dataframe tbody tr th:only-of-type {\n",
       "        vertical-align: middle;\n",
       "    }\n",
       "\n",
       "    .dataframe tbody tr th {\n",
       "        vertical-align: top;\n",
       "    }\n",
       "\n",
       "    .dataframe thead tr th {\n",
       "        text-align: left;\n",
       "    }\n",
       "\n",
       "    .dataframe thead tr:last-of-type th {\n",
       "        text-align: right;\n",
       "    }\n",
       "</style>\n",
       "<table border=\"1\" class=\"dataframe\">\n",
       "  <thead>\n",
       "    <tr>\n",
       "      <th>Statistiques</th>\n",
       "      <th colspan=\"10\" halign=\"left\">Effectifs</th>\n",
       "      <th>...</th>\n",
       "      <th colspan=\"3\" halign=\"left\">Moyennes</th>\n",
       "      <th colspan=\"7\" halign=\"left\">Variances</th>\n",
       "    </tr>\n",
       "    <tr>\n",
       "      <th>gpa_maths_crypto</th>\n",
       "      <th>0.0</th>\n",
       "      <th>2.0</th>\n",
       "      <th>2.5</th>\n",
       "      <th>2.75</th>\n",
       "      <th>3.0</th>\n",
       "      <th>3.48</th>\n",
       "      <th>3.5</th>\n",
       "      <th>3.6</th>\n",
       "      <th>4.0</th>\n",
       "      <th>All</th>\n",
       "      <th>...</th>\n",
       "      <th>3.6</th>\n",
       "      <th>4.0</th>\n",
       "      <th>All</th>\n",
       "      <th>0.0</th>\n",
       "      <th>2.0</th>\n",
       "      <th>2.5</th>\n",
       "      <th>3.0</th>\n",
       "      <th>3.5</th>\n",
       "      <th>4.0</th>\n",
       "      <th>All</th>\n",
       "    </tr>\n",
       "    <tr>\n",
       "      <th>specialite_ensibs</th>\n",
       "      <th></th>\n",
       "      <th></th>\n",
       "      <th></th>\n",
       "      <th></th>\n",
       "      <th></th>\n",
       "      <th></th>\n",
       "      <th></th>\n",
       "      <th></th>\n",
       "      <th></th>\n",
       "      <th></th>\n",
       "      <th></th>\n",
       "      <th></th>\n",
       "      <th></th>\n",
       "      <th></th>\n",
       "      <th></th>\n",
       "      <th></th>\n",
       "      <th></th>\n",
       "      <th></th>\n",
       "      <th></th>\n",
       "      <th></th>\n",
       "      <th></th>\n",
       "    </tr>\n",
       "  </thead>\n",
       "  <tbody>\n",
       "    <tr>\n",
       "      <th>CyberData</th>\n",
       "      <td>6.0</td>\n",
       "      <td>NaN</td>\n",
       "      <td>1.0</td>\n",
       "      <td>NaN</td>\n",
       "      <td>3.0</td>\n",
       "      <td>NaN</td>\n",
       "      <td>2.0</td>\n",
       "      <td>NaN</td>\n",
       "      <td>2.0</td>\n",
       "      <td>14</td>\n",
       "      <td>...</td>\n",
       "      <td>NaN</td>\n",
       "      <td>4.0</td>\n",
       "      <td>1.892857</td>\n",
       "      <td>0.0</td>\n",
       "      <td>NaN</td>\n",
       "      <td>NaN</td>\n",
       "      <td>0.0</td>\n",
       "      <td>0.0</td>\n",
       "      <td>0.0</td>\n",
       "      <td>3.045330</td>\n",
       "    </tr>\n",
       "    <tr>\n",
       "      <th>CyberDef</th>\n",
       "      <td>3.0</td>\n",
       "      <td>2.0</td>\n",
       "      <td>2.0</td>\n",
       "      <td>1.0</td>\n",
       "      <td>15.0</td>\n",
       "      <td>1.0</td>\n",
       "      <td>7.0</td>\n",
       "      <td>1.0</td>\n",
       "      <td>10.0</td>\n",
       "      <td>42</td>\n",
       "      <td>...</td>\n",
       "      <td>3.6</td>\n",
       "      <td>4.0</td>\n",
       "      <td>3.055476</td>\n",
       "      <td>0.0</td>\n",
       "      <td>0.0</td>\n",
       "      <td>0.0</td>\n",
       "      <td>0.0</td>\n",
       "      <td>0.0</td>\n",
       "      <td>0.0</td>\n",
       "      <td>1.018869</td>\n",
       "    </tr>\n",
       "    <tr>\n",
       "      <th>CyberLog</th>\n",
       "      <td>2.0</td>\n",
       "      <td>1.0</td>\n",
       "      <td>2.0</td>\n",
       "      <td>NaN</td>\n",
       "      <td>6.0</td>\n",
       "      <td>NaN</td>\n",
       "      <td>7.0</td>\n",
       "      <td>NaN</td>\n",
       "      <td>6.0</td>\n",
       "      <td>24</td>\n",
       "      <td>...</td>\n",
       "      <td>NaN</td>\n",
       "      <td>4.0</td>\n",
       "      <td>3.062500</td>\n",
       "      <td>0.0</td>\n",
       "      <td>NaN</td>\n",
       "      <td>0.0</td>\n",
       "      <td>0.0</td>\n",
       "      <td>0.0</td>\n",
       "      <td>0.0</td>\n",
       "      <td>1.180707</td>\n",
       "    </tr>\n",
       "    <tr>\n",
       "      <th>All</th>\n",
       "      <td>11.0</td>\n",
       "      <td>3.0</td>\n",
       "      <td>5.0</td>\n",
       "      <td>1.0</td>\n",
       "      <td>24.0</td>\n",
       "      <td>1.0</td>\n",
       "      <td>16.0</td>\n",
       "      <td>1.0</td>\n",
       "      <td>18.0</td>\n",
       "      <td>80</td>\n",
       "      <td>...</td>\n",
       "      <td>3.6</td>\n",
       "      <td>4.0</td>\n",
       "      <td>2.854125</td>\n",
       "      <td>0.0</td>\n",
       "      <td>0.0</td>\n",
       "      <td>0.0</td>\n",
       "      <td>0.0</td>\n",
       "      <td>0.0</td>\n",
       "      <td>0.0</td>\n",
       "      <td>1.552507</td>\n",
       "    </tr>\n",
       "  </tbody>\n",
       "</table>\n",
       "<p>4 rows × 27 columns</p>\n",
       "</div>"
      ],
      "text/plain": [
       "Statistiques      Effectifs                                                  \n",
       "gpa_maths_crypto        0.0  2.0  2.5 2.75   3.0 3.48   3.5  3.6   4.0 All   \n",
       "specialite_ensibs                                                            \n",
       "CyberData               6.0  NaN  1.0  NaN   3.0  NaN   2.0  NaN   2.0  14  \\\n",
       "CyberDef                3.0  2.0  2.0  1.0  15.0  1.0   7.0  1.0  10.0  42   \n",
       "CyberLog                2.0  1.0  2.0  NaN   6.0  NaN   7.0  NaN   6.0  24   \n",
       "All                    11.0  3.0  5.0  1.0  24.0  1.0  16.0  1.0  18.0  80   \n",
       "\n",
       "Statistiques       ... Moyennes                Variances                       \n",
       "gpa_maths_crypto   ...      3.6  4.0       All       0.0  2.0  2.5  3.0  3.5   \n",
       "specialite_ensibs  ...                                                         \n",
       "CyberData          ...      NaN  4.0  1.892857       0.0  NaN  NaN  0.0  0.0  \\\n",
       "CyberDef           ...      3.6  4.0  3.055476       0.0  0.0  0.0  0.0  0.0   \n",
       "CyberLog           ...      NaN  4.0  3.062500       0.0  NaN  0.0  0.0  0.0   \n",
       "All                ...      3.6  4.0  2.854125       0.0  0.0  0.0  0.0  0.0   \n",
       "\n",
       "Statistiques                      \n",
       "gpa_maths_crypto   4.0       All  \n",
       "specialite_ensibs                 \n",
       "CyberData          0.0  3.045330  \n",
       "CyberDef           0.0  1.018869  \n",
       "CyberLog           0.0  1.180707  \n",
       "All                0.0  1.552507  \n",
       "\n",
       "[4 rows x 27 columns]"
      ]
     },
     "execution_count": 39,
     "metadata": {},
     "output_type": "execute_result"
    }
   ],
   "source": [
    "table = pd.crosstab(df[\"specialite_ensibs\"], df[\"gpa_maths_crypto\"], values=df[\"gpa_maths_crypto\"], aggfunc=[len, np.mean, np.var], margins=True)\n",
    "table.columns.names = [\"Statistiques\", \"gpa_maths_crypto\"]\n",
    "table.columns = table.columns.set_levels([\"Effectifs\", \"Moyennes\", \"Variances\", \"Total\"], level=0)\n",
    "\n",
    "table\n"
   ]
  },
  {
   "cell_type": "markdown",
   "metadata": {},
   "source": [
    "> Vérifier la décomposition de la variance : Variance de $Y$ = Variance inter-catégories + Variance intra-catégories"
   ]
  },
  {
   "cell_type": "code",
   "execution_count": 40,
   "metadata": {
    "collapsed": true
   },
   "outputs": [
    {
     "name": "stdout",
     "output_type": "stream",
     "text": [
      "Variance : 1.5721587183544306\n",
      "Variance inter-catégories : 0.4532994661753592\n",
      "Variance intra-catégories : 1.3736604581072935\n"
     ]
    }
   ],
   "source": [
    "tableau = pd.pivot_table(df, values=\"gpa_maths_crypto\", index=\"specialite_ensibs\", aggfunc=np.mean)\n",
    "\n",
    "variance_totale = np.var(df[\"gpa_maths_crypto\"], ddof=1)\n",
    "\n",
    "var_inter = np.var(tableau[\"gpa_maths_crypto\"], ddof=1)\n",
    "\n",
    "var_intra = np.var(df[\"gpa_maths_crypto\"] - df.groupby(\"specialite_ensibs\")[\"gpa_maths_crypto\"].transform(\"mean\"), ddof=1)\n",
    "\n",
    "# Print the results\n",
    "print(\"Variance :\", variance_totale)\n",
    "print(\"Variance inter-catégories :\", var_inter)\n",
    "print(\"Variance intra-catégories :\", var_intra)"
   ]
  },
  {
   "cell_type": "markdown",
   "metadata": {},
   "source": [
    "> Calculer le rapport de corrélation empirique de $Y$ sachant $X$"
   ]
  },
  {
   "cell_type": "code",
   "execution_count": 41,
   "metadata": {
    "collapsed": true
   },
   "outputs": [
    {
     "name": "stdout",
     "output_type": "stream",
     "text": [
      "Rapport de corrélation empirique : 0.12468018000066663\n"
     ]
    }
   ],
   "source": [
    "moyenne_totale = df[\"gpa_maths_crypto\"].mean()\n",
    "\n",
    "grouped = df.groupby(\"specialite_ensibs\")\n",
    "moyenne_par_catégorie = grouped[\"gpa_maths_crypto\"].mean()\n",
    "effectifs_par_catégorie = grouped.size()\n",
    "\n",
    "var_total = df[\"gpa_maths_crypto\"].var()\n",
    "var_inter = np.sum(effectifs_par_catégorie * (moyenne_par_catégorie - moyenne_totale)**2)\n",
    "\n",
    "e_carré = (1 / len(df)) * (var_inter / var_total)\n",
    "\n",
    "print(\"Rapport de corrélation empirique :\", e_carré)"
   ]
  }
 ],
 "metadata": {
  "kernelspec": {
   "display_name": "Python 3",
   "language": "python",
   "name": "python3"
  },
  "language_info": {
   "codemirror_mode": {
    "name": "ipython",
    "version": 3
   },
   "file_extension": ".py",
   "mimetype": "text/x-python",
   "name": "python",
   "nbconvert_exporter": "python",
   "pygments_lexer": "ipython3",
   "version": "3.11.2"
  }
 },
 "nbformat": 4,
 "nbformat_minor": 2
}
