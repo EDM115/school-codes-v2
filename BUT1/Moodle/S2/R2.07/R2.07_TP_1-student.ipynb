{
 "cells": [
  {
   "cell_type": "markdown",
   "metadata": {},
   "source": [
    "***\n",
    "\n",
    "# R2.07\n",
    "## TP1. Exemples de graphes\n",
    "\n",
    "***\n",
    "***\n",
    "\n",
    "Dans ce TP tous les graphes seront non-orientés."
   ]
  },
  {
   "cell_type": "code",
   "execution_count": null,
   "metadata": {},
   "outputs": [],
   "source": [
    "import networkx as nx\n",
    "import numpy as np\n",
    "import matplotlib.pyplot as plt\n",
    "%matplotlib inline\n",
    "#magic\n",
    "import warnings\n",
    "warnings.filterwarnings('ignore')"
   ]
  },
  {
   "cell_type": "code",
   "execution_count": null,
   "metadata": {},
   "outputs": [],
   "source": []
  },
  {
   "cell_type": "markdown",
   "metadata": {},
   "source": [
    "***\n",
    "# <font color=blue>Quelques matrices d'adjacence</font> #\n",
    "***\n",
    "\n",
    "**To Do:**\n",
    "\n",
    "**_question 1_**\n",
    "\n",
    "En utilisant le cours, écrire un programme qui renvoie la matrice d'adjacence du graphe complet à $n$ sommets."
   ]
  },
  {
   "cell_type": "code",
   "execution_count": null,
   "metadata": {},
   "outputs": [],
   "source": [
    "\n",
    "def complet(n):\n",
    "    \"\"\"\n",
    "     Renvoie la matrice d'adjacence du graphe complet à $n$ sommets\n",
    "\n",
    "    :param n: nombre de sommets\n",
    "    :type n:  int\n",
    "    :return: matrice d'adjacence du graphe complet à $n$ sommets\n",
    "    :rtype: numpy array of int\n",
    "    \"\"\"\n",
    "    A=np.zeros((n,n))\n",
    "\n",
    "    return A\n",
    "    \n"
   ]
  },
  {
   "cell_type": "markdown",
   "metadata": {},
   "source": [
    "**_question 2_**\n",
    "\n",
    "Même question en partant de <tt>np.ones </tt>.\n",
    "\n",
    "Comparer les deux méthodes"
   ]
  },
  {
   "cell_type": "code",
   "execution_count": null,
   "metadata": {},
   "outputs": [],
   "source": [
    "\n",
    "def complet2(n):\n",
    "    \"\"\"\n",
    "     Renvoie la matrice d'adjacence du graphe complet à $n$ sommets\n",
    "\n",
    "    :param n: nombre de sommets\n",
    "    :type n:  int\n",
    "    :return: matrice d'adjacence du graphe complet à $n$ sommets\n",
    "    :rtype: numpy array of int\n",
    "    \"\"\"\n",
    "    A=np.ones((n,n))\n",
    "\n",
    "    return A"
   ]
  },
  {
   "cell_type": "markdown",
   "metadata": {},
   "source": [
    "**bonus** Même questions pour les autres familles de graphes décrites dans le cours."
   ]
  },
  {
   "cell_type": "markdown",
   "metadata": {},
   "source": [
    "*****\n",
    "**To Do:**\n",
    "\n",
    "\n",
    "**_question 3_**\n",
    "\n",
    "Écrire un programme résumant les informations essentielles sur le graphe :\n",
    "* son ordre (le nombre de sommet)\n",
    "* sa taille (le nombre d'arêtes)\n",
    "* la liste des degrés\n"
   ]
  },
  {
   "cell_type": "code",
   "execution_count": null,
   "metadata": {},
   "outputs": [],
   "source": [
    "def info(A):\n",
    "    \"\"\"\n",
    "     Renvoie caractéristiques essentielles du graphe représenté par la matrice d'adjcence A\n",
    "\n",
    "    :param A: matrice d'adjacence\n",
    "    :type A:  numpy array carrée \n",
    "    :return: ordre [nombre de sommet] (int), taille [nombre d'arêtes] (int) et liste des degrés (array of int)\n",
    "    :rtype: numpy array of int, int, numpy array\n",
    "    \"\"\"\n",
    "    order=0\n",
    "    size=0\n",
    "    \n",
    "    deg=np.zeros(order,int)\n",
    "    \n",
    "    \n",
    "    \n",
    "    return [order,size,deg]\n",
    "    \n"
   ]
  },
  {
   "cell_type": "markdown",
   "metadata": {},
   "source": [
    "Il est toujours agréable d'avoir un support visuel. Pour cela (et pour bien d'autres applications), on va utiliser le module <tt>networkx</tt>.\n",
    "\n",
    "La doc se trouve [ici](https://networkx.org/documentation/stable/index.html)\n"
   ]
  },
  {
   "cell_type": "code",
   "execution_count": null,
   "metadata": {},
   "outputs": [],
   "source": [
    "A=complet(5)\n",
    "G=nx.from_numpy_array(A)\n",
    "#aller voir dans la doc comment fonctionne from_numpy_array\n",
    "nx.draw(G)"
   ]
  },
  {
   "cell_type": "markdown",
   "metadata": {},
   "source": [
    "*****\n",
    "**To Do:**\n",
    "\n",
    "\n",
    "**_question 4_**\n",
    "\n",
    "Définir la matrice d'adjacence du graphe taureau, puis dessiner ce graphe à l'aide de networkx."
   ]
  },
  {
   "cell_type": "code",
   "execution_count": null,
   "metadata": {},
   "outputs": [],
   "source": [
    "#en profiter pour aller voir la doc networkx sur la fonction draw\n",
    "B=np.array(\n",
    "[[0]])\n",
    "G=nx.from_numpy_array(B)\n",
    "nx.draw(G,pos=nx.spectral_layout(G))"
   ]
  },
  {
   "cell_type": "markdown",
   "metadata": {},
   "source": [
    "**_question 5_**\n",
    "\n",
    "Que fait ce morceau de code ? Adapter le un petit peu selon vos envies."
   ]
  },
  {
   "cell_type": "code",
   "execution_count": null,
   "metadata": {},
   "outputs": [],
   "source": [
    "d = info(B)[2]\n",
    "\n",
    "map_col=['black','blue','green','yellow','orange','red','purple']\n",
    "\n",
    "def col_deg(d,m=map_col):\n",
    "    return [m[i] for i in d ]\n",
    "\n",
    "nx.draw(G, nodelist=range(len(d)), node_size=[v * 100 for v in d],node_color=col_deg(d),with_labels=True,pos=nx.spectral_layout(G))\n",
    "plt.show()"
   ]
  },
  {
   "cell_type": "markdown",
   "metadata": {},
   "source": [
    "**Bonus** à l'aide du paramètre <tt>node_size</tt>, dessiner le graphe tel que la taille de chaque sommet soit proportionnelle à son degré."
   ]
  },
  {
   "cell_type": "markdown",
   "metadata": {},
   "source": [
    "***\n",
    "#  <font color=blue>Quelques graphes aléatoires</font> #\n",
    "***\n",
    "\n",
    "\n",
    "Pour des raisons de modélisation ou de test, il peut être utile de créer des graphes aléatoire plutôt que de prendre des exemples dans des familles prédéfinies.\n",
    "\n",
    "On va voir deux constructions classique de graphes aléatoires : les graphes d'Erdös-Renyi et le modèle stochastique par bloc (SBM).\n",
    "\n",
    "\n"
   ]
  },
  {
   "cell_type": "markdown",
   "metadata": {},
   "source": [
    "## Graphe d'Erdös-Renly\n",
    "\n",
    "Le graphe d'Erdös-Renly de paramètre $n$ et $p$ est le graphe d'ordre $n$ tel que deux sommets sont reliés avec probabilité $p$.\n",
    "\n",
    "Concrètement, on le construit en partant d'une matrice  nulle de taille $n \\times n$ puis en ajoutant avec probabilité $p$ l'arête entre $i$ et $j$ (attention, les graphes sont non-orientés donc $iAj \\Longleftarrow jAi$).\n",
    "\n",
    "Une manière d'obtenir cette probabilité est de tirer une pièce biaisée avec <tt>np.random.binomial(1,p)</tt>\n",
    "\n",
    "\n",
    "**_question 7_**\n",
    "\n",
    "écrire une fonction <tt>ErdoxRenly</tt> qui créé la matrice d'adjacence d'un graphe d'Erdos-Renly\n",
    "\n",
    "\n",
    "Tracer ce graphe à l'aide de networkx"
   ]
  },
  {
   "cell_type": "code",
   "execution_count": null,
   "metadata": {},
   "outputs": [],
   "source": [
    "def ErdosRenly(n,p):\n",
    "    \"\"\"\n",
    "     Renvoie la matrice d'adjacence d'un graphe d'Erdös-Renly\n",
    "\n",
    "    :param n: nombre de sommets\n",
    "    :type n:  int\n",
    "    :param p: probabilité d'arête\n",
    "    :type p:  float entre 0 et 1    \n",
    "    :return: matrice d'adjacence \n",
    "    :rtype: numpy array of int\n",
    "    \"\"\"\n",
    "\n",
    "    A=np.zeros((n,n),int)\n",
    " \n",
    "    return A\n",
    "\n",
    "\n",
    "\n",
    "ER=ErdosRenly(10, 0.5)\n",
    "\n",
    "GER=nx.from_numpy_matrix(ER)\n",
    "\n",
    "\n",
    "\n",
    "nx.draw(GER,pos=nx.spring_layout(GER))\n",
    "\n",
    "\n",
    "plt.show()"
   ]
  },
  {
   "cell_type": "code",
   "execution_count": null,
   "metadata": {},
   "outputs": [],
   "source": []
  },
  {
   "cell_type": "markdown",
   "metadata": {},
   "source": [
    "## Graphe stochastique par blocs\n",
    "\n",
    "Le modèle stochastique par bloc est plus complexe, mais offre de nombreuses possibilités de modélisation, notamment de reseaux sociaux. \n",
    "L'idée est de partir d'une liste de $k$ communautés $[c_1,c_2,...,c_k]$, où $c_i$ est la taille de la communauté $i$, puis d'ajouter les arêtes au fur et à mesure selon la règle \"si $i$ et $j$ sont dans la même communauté, ils sont liés avec probabilité $p_{in}$, s'ils ne sont pas dans la même communauté ils sont liés avec probabilité $p_{out}$\".\n",
    "\n",
    "\n",
    "**_question 8_**\n",
    "\n",
    "écrire une fonction <tt>SMB_homebrew</tt> qui créé la matrice d'adjacence d'un graphe stochastique par blocs.\n",
    "\n",
    "\n",
    "Tracer ce graphe à l'aide de networkx"
   ]
  },
  {
   "cell_type": "code",
   "execution_count": null,
   "metadata": {},
   "outputs": [],
   "source": [
    "#SBM homebrew\n",
    "\n",
    "def SBM_homebrew(array,pin,pout):\n",
    "    \"\"\"\n",
    "     Renvoie la matrice d'adjacence d'un SBM\n",
    "\n",
    "    :param array: tailles des différentes communautés\n",
    "    :type array:  array of int\n",
    "    :param pin: probabilité d'arête à l'intérieur d'une communauté\n",
    "    :type pin:  float entre 0 et 1    \n",
    "    :param pout: probabilité d'arête entre deux communautés\n",
    "    :type pout:  float entre 0 et 1       \n",
    "    :return: matrice d'adjacence \n",
    "    :rtype: numpy array of int\n",
    "    \"\"\"\n",
    "    n=np.sum(array)\n",
    "    ncum=np.cumsum(array)\n",
    "    \n",
    "    print(n)\n",
    "    A=np.zeros((n,n),int)\n",
    "    print(ncum)\n",
    "\n",
    "    return A\n",
    "\n",
    "ASBM=SBM_homebrew([10,15,20], 0.5, 0.02)\n",
    "\n",
    "GSBM=nx.from_numpy_matrix(ASBM)\n",
    "\n",
    "\n",
    "\n",
    "\n",
    "d = info(ASBM)[2]\n",
    "\n",
    "\n",
    "\n",
    "\n",
    "nx.draw(GSBM,pos=nx.spring_layout(GSBM))\n",
    "\n",
    "\n",
    "plt.show()"
   ]
  },
  {
   "cell_type": "markdown",
   "metadata": {},
   "source": [
    "**Bonus :** à l'aide de Networkx, améliorer l'affichage de ces graphes. En particulier il serait intéressant de colorier les sommets en fonction de leurs degrés (qui peut être grand dans ce cas). Le mot clef <tt>cmap</tt> pourra être utile."
   ]
  },
  {
   "cell_type": "code",
   "execution_count": null,
   "metadata": {},
   "outputs": [],
   "source": []
  }
 ],
 "metadata": {
  "kernelspec": {
   "display_name": "Python 3",
   "language": "python",
   "name": "python3"
  },
  "language_info": {
   "codemirror_mode": {
    "name": "ipython",
    "version": 3
   },
   "file_extension": ".py",
   "mimetype": "text/x-python",
   "name": "python",
   "nbconvert_exporter": "python",
   "pygments_lexer": "ipython3",
   "version": "3.8.10"
  }
 },
 "nbformat": 4,
 "nbformat_minor": 4
}
