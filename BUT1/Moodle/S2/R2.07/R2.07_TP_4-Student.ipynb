{
 "cells": [
  {
   "cell_type": "markdown",
   "metadata": {},
   "source": [
    "\n",
    "***\n",
    "***\n",
    "\n",
    "# R2.07\n",
    "## TP4. MST\n",
    "***\n",
    "***\n",
    "\n",
    "In this practical, all graphs will be unoriented\n",
    "\n",
    "***\n",
    "***\n",
    "A few ground rules for your report:\n",
    "* _your code must be clear, commented and use explicit variable names_\n",
    "* _every algorithm must be tested on a few examples which show the different use cases_\n",
    "* _markdown comments and examples must be provided, and the report should be self-contained_"
   ]
  },
  {
   "cell_type": "code",
   "execution_count": 2,
   "metadata": {},
   "outputs": [],
   "source": [
    "import networkx as nx\n",
    "import numpy as np\n",
    "import matplotlib.pyplot as plt\n",
    "%matplotlib inline\n",
    "#magic\n",
    "import warnings\n",
    "warnings.filterwarnings('ignore')"
   ]
  },
  {
   "cell_type": "markdown",
   "metadata": {},
   "source": [
    "We recall a few useful functions\n"
   ]
  },
  {
   "cell_type": "code",
   "execution_count": 3,
   "metadata": {},
   "outputs": [
    {
     "name": "stdout",
     "output_type": "stream",
     "text": [
      "[[0.  2.5 1.  inf inf 0.5 0.5 3. ]\n",
      " [2.5 0.  1.5 inf 2.  8.  inf inf]\n",
      " [1.  1.5 0.  inf inf inf inf inf]\n",
      " [inf inf inf 0.  1.  inf 5.  inf]\n",
      " [inf 2.  inf 1.  0.  inf 5.  inf]\n",
      " [0.5 8.  inf inf inf 0.  1.  2. ]\n",
      " [0.5 inf inf 5.  5.  1.  0.  inf]\n",
      " [3.  inf inf inf inf 2.  inf 0. ]]\n",
      "[[0. 1. 1. 0. 0. 1. 1. 1.]\n",
      " [1. 0. 1. 0. 1. 1. 0. 0.]\n",
      " [1. 1. 0. 0. 0. 0. 0. 0.]\n",
      " [0. 0. 0. 0. 1. 0. 1. 0.]\n",
      " [0. 1. 0. 1. 0. 0. 1. 0.]\n",
      " [1. 1. 0. 0. 0. 0. 1. 1.]\n",
      " [1. 0. 0. 1. 1. 1. 0. 0.]\n",
      " [1. 0. 0. 0. 0. 1. 0. 0.]]\n"
     ]
    }
   ],
   "source": [
    "W=np.array([\n",
    " [0     , 2.5   , 1     , np.inf, np.inf, .5    , .5     , 3      ],\n",
    " [ 2.5  , 0     , 1.5   , np.inf, 2     , 8     , np.inf ,np.inf  ],\n",
    " [  1   , 1.5   , 0     , np.inf, np.inf, np.inf, np.inf ,np.inf  ],\n",
    " [np.inf, np.inf, np.inf, 0     ,  1    , np.inf , 5     , np.inf ],\n",
    " [np.inf, 2     , np.inf, 1     ,  0    , np.inf, 5      , np.inf ],\n",
    " [.5    , 8     , np.inf, np.inf, np.inf, 0     , 1      , 2 ],\n",
    " [.5    , np.inf, np.inf, 5     , 5     , 1     , 0      , np.inf ],\n",
    " [3     , np.inf, np.inf, np.inf, np.inf, 2     , np.inf ,0       ]])\n",
    "\n",
    "\n",
    "def ToAdj(W,loop=False):\n",
    "    \"\"\"\n",
    "    Converts a weight matrix to the (most plausible) corresponding adjacency matrix\n",
    "    \n",
    "    :param W: Weight matrix \n",
    "    :type W: two dimensionnal numpy array\n",
    "    :return: a adjacency matrix\n",
    "    :rtype: two dimensionnal numpy array\n",
    "    \n",
    "    \"\"\"\n",
    "    A=np.copy(W)\n",
    "    for i in range(A.shape[0]):\n",
    "        for j in range(A.shape[0]):\n",
    "            if W[i][j]==np.inf:\n",
    "                A[i][j]=0\n",
    "            else :\n",
    "                if W[i][j]==0:\n",
    "                    if i!=j:\n",
    "                        A[i][j]=1\n",
    "                        print(\"Warning: a weight is equal to 0\")\n",
    "                    else : \n",
    "                        if loop :\n",
    "                            A[i][j]=1\n",
    "                        else :\n",
    "                            A[i][j]=0\n",
    "\n",
    "\n",
    "                else :\n",
    "                    A[i][j]=1\n",
    "\n",
    "    return A\n",
    "\n",
    "def ToWeight(A):\n",
    "    \"\"\"\n",
    "    Converts an  adjacency matrix to the corresponding weight matrix\n",
    "    \n",
    "    :param A: adjacency matrix\n",
    "    :type A: two dimensionnal numpy array\n",
    "    :return:  weight matrix \n",
    "    :rtype: two dimensionnal numpy array\n",
    "    \n",
    "    \"\"\"\n",
    "    n=A.shape[0]\n",
    "    W=np.zeros((n,n))\n",
    "    for i in range(n):\n",
    "        for j in range(n):\n",
    "            if A[i][j]==0:\n",
    "                W[i][j]=np.inf\n",
    "            else :\n",
    "                W[i][j]=1\n",
    "\n",
    "    return W\n",
    "\n",
    "print(W)\n",
    "A=ToAdj(W)\n",
    "\n",
    "print(A)\n",
    "\n"
   ]
  },
  {
   "cell_type": "markdown",
   "metadata": {},
   "source": [
    "(Weighted)Graph drawing"
   ]
  },
  {
   "cell_type": "code",
   "execution_count": 4,
   "metadata": {},
   "outputs": [
    {
     "data": {
      "image/png": "[encoded data removed]",
      "text/plain": [
       "<Figure size 432x288 with 1 Axes>"
      ]
     },
     "metadata": {},
     "output_type": "display_data"
    }
   ],
   "source": [
    "G=nx.from_numpy_array(A)\n",
    "\n",
    "\n",
    "\n",
    "edges = G.edges()\n",
    "\n",
    "\n",
    "\n",
    "for u,v in G.edges():\n",
    "    G[u][v]['weight'] = W[u][v]\n",
    "\n",
    "# Visualization with edge weights\n",
    "weights = nx.get_edge_attributes(G, 'weight')\n",
    "pos=nx.spring_layout(G)\n",
    "\n",
    "# Visualization with edge widths equal to edge weights\n",
    "#width = [weights[e] for e in G.edges()]\n",
    "nx.draw_networkx_edge_labels(G, pos, edge_labels = weights)\n",
    "nx.draw(G, pos, edge_color = 'grey',with_labels=True)\n"
   ]
  },
  {
   "cell_type": "markdown",
   "metadata": {},
   "source": [
    "\n",
    "\n",
    "\n",
    "### Minimul spanning trees\n",
    "***\n",
    "**To Do:**\n",
    "\n",
    "**_question 1_**\n",
    "\n",
    "**a**  Write a function computing a list of edges, sorted by weight, from a weight matrix\n",
    "\n",
    "\n",
    "A practical way to know if adding an edge induce a cycle is to create and update an array of connected component. Concretely, one starts with all vertices belonging to no connected component (represented by $-1$, then update the connected component using the following rules :\n",
    "\n",
    "\n",
    "   - if we add 2 vertices that are not in a connected component yet, asign them to a new connected component\n",
    "   - if 1 of the two already belong to a connected component $C$, then add the other vertex to $C$\n",
    "   - if the 2 belong to different components $C$ and $C'$, then put all the vertices of $C'$ in $C$\n",
    "   - if the 2 belong to the same components $C$, then the edge would create a cycle and therefor should not be added\n",
    "\n",
    "\n",
    "**b** Write a function computing a minimum spanning tree of a graph given its weight matrix by Kruskal algorithm.\n",
    "\n",
    "\n"
   ]
  },
  {
   "cell_type": "code",
   "execution_count": 5,
   "metadata": {
    "scrolled": true
   },
   "outputs": [
    {
     "name": "stdout",
     "output_type": "stream",
     "text": [
      "[]\n",
      "[[0. 0. 0. 0. 0. 0. 0. 0.]\n",
      " [0. 0. 0. 0. 0. 0. 0. 0.]\n",
      " [0. 0. 0. 0. 0. 0. 0. 0.]\n",
      " [0. 0. 0. 0. 0. 0. 0. 0.]\n",
      " [0. 0. 0. 0. 0. 0. 0. 0.]\n",
      " [0. 0. 0. 0. 0. 0. 0. 0.]\n",
      " [0. 0. 0. 0. 0. 0. 0. 0.]\n",
      " [0. 0. 0. 0. 0. 0. 0. 0.]]\n"
     ]
    },
    {
     "data": {
      "text/plain": [
       "array([[0., 0., 0., 0., 0., 0., 0., 0.],\n",
       "       [0., 0., 0., 0., 0., 0., 0., 0.],\n",
       "       [0., 0., 0., 0., 0., 0., 0., 0.],\n",
       "       [0., 0., 0., 0., 0., 0., 0., 0.],\n",
       "       [0., 0., 0., 0., 0., 0., 0., 0.],\n",
       "       [0., 0., 0., 0., 0., 0., 0., 0.],\n",
       "       [0., 0., 0., 0., 0., 0., 0., 0.],\n",
       "       [0., 0., 0., 0., 0., 0., 0., 0.]])"
      ]
     },
     "execution_count": 5,
     "metadata": {},
     "output_type": "execute_result"
    },
    {
     "data": {
      "image/png": "[encoded data removed]",
      "text/plain": [
       "<Figure size 432x288 with 1 Axes>"
      ]
     },
     "metadata": {},
     "output_type": "display_data"
    }
   ],
   "source": [
    "\n",
    "\n",
    "def weightToList(W):\n",
    "    \"\"\"\n",
    "     Return the list of edges sorted by weight\n",
    "\n",
    "    :param W: the weight matrix\n",
    "    :type W: a two dimensional square numpy array \n",
    "    :return:  the list of edges sorted by weight\n",
    "    :rtype:  list\n",
    "    \"\"\"\n",
    "            \n",
    "    L=[]\n",
    "    \n",
    "\n",
    "    \n",
    "    return L\n",
    "\n",
    "\n",
    "\n",
    "def Kruskal(W):\n",
    "    \"\"\"\n",
    "     Return the MST (adjacency and weight matrices) given a weight matrix\n",
    "\n",
    "    :param W: the weight matrix\n",
    "    :type W: a two dimensional square numpy array \n",
    "    :return T:  the adjacency and weight matrix of the MST\n",
    "    :rtype: 2  two dimensional square numpy arrays\n",
    "    \"\"\"\n",
    "                \n",
    "    T=np.zeros((W.shape[0],W.shape[0]))\n",
    "    WT=np.ones((W.shape[0],W.shape[0]))*0 #0 to be able to draw\n",
    "\n",
    "    L=weightToList(W)\n",
    "    #list of connected composants (-1 :has been used yet)\n",
    "    cc=[-1 for  i in range(W.shape[0])]\n",
    "    \n",
    "    \n",
    "    cc_count=0\n",
    "    while len(set(cc))>1:\n",
    "        edge=L.pop()  #equivalent to edge=L[0], uses stack/list structure\n",
    "       \n",
    "        i=edge[1]\n",
    "        j=edge[2]\n",
    "        if cc[i] == -1 and cc[i] == -1 : #new CC\n",
    "            #TODO\n",
    "            print('todo')\n",
    "        else:\n",
    "            if cc[i] != cc[j]: #different CC\n",
    "                #TODO\n",
    "                print('todo')\n",
    "\n",
    "    return T,WT\n",
    "\n",
    "                   \n",
    "\n",
    "\n",
    "W=np.array([\n",
    " [0     , 2.5   , 1     , np.inf, np.inf, .5    , .5     , 3      ],\n",
    " [ 2.5  , 0     , 1.5   , np.inf, 2     , 8     , np.inf ,np.inf  ],\n",
    " [  1   , 1.5   , 0     , np.inf, np.inf, np.inf, np.inf ,np.inf  ],\n",
    " [np.inf, np.inf, np.inf, 0     ,  1    , np.inf , 5     , np.inf ],\n",
    " [np.inf, 2     , np.inf, 1     ,  0    , np.inf, 5      , np.inf ],\n",
    " [.5    , 8     , np.inf, np.inf, np.inf, 0     , 1      , 2 ],\n",
    " [.5    , np.inf, np.inf, 5     , 5     , 1     , 0      , np.inf ],\n",
    " [3     , np.inf, np.inf, np.inf, np.inf, 2     , np.inf ,0       ]])\n",
    "\n",
    "\n",
    "A=ToAdj(W)\n",
    "\n",
    "print(weightToList(W))\n",
    "T,WT=Kruskal(W)\n",
    "print(T)\n",
    "nx.draw_networkx(nx.from_numpy_array(T))\n",
    "    \n",
    "WT"
   ]
  },
  {
   "cell_type": "code",
   "execution_count": null,
   "metadata": {},
   "outputs": [],
   "source": []
  },
  {
   "cell_type": "code",
   "execution_count": 6,
   "metadata": {},
   "outputs": [
    {
     "name": "stdout",
     "output_type": "stream",
     "text": [
      "[[0. 1. 1. 0. 0. 1. 1. 1.]\n",
      " [1. 0. 1. 0. 1. 1. 0. 0.]\n",
      " [1. 1. 0. 0. 0. 0. 0. 0.]\n",
      " [0. 0. 0. 0. 1. 0. 1. 0.]\n",
      " [0. 1. 0. 1. 0. 0. 1. 0.]\n",
      " [1. 1. 0. 0. 0. 0. 1. 1.]\n",
      " [1. 0. 0. 1. 1. 1. 0. 0.]\n",
      " [1. 0. 0. 0. 0. 1. 0. 0.]] [[0. 0. 0. 0. 0. 0. 0. 0.]\n",
      " [0. 0. 0. 0. 0. 0. 0. 0.]\n",
      " [0. 0. 0. 0. 0. 0. 0. 0.]\n",
      " [0. 0. 0. 0. 0. 0. 0. 0.]\n",
      " [0. 0. 0. 0. 0. 0. 0. 0.]\n",
      " [0. 0. 0. 0. 0. 0. 0. 0.]\n",
      " [0. 0. 0. 0. 0. 0. 0. 0.]\n",
      " [0. 0. 0. 0. 0. 0. 0. 0.]] [[0. 0. 0. 0. 0. 0. 0. 0.]\n",
      " [0. 0. 0. 0. 0. 0. 0. 0.]\n",
      " [0. 0. 0. 0. 0. 0. 0. 0.]\n",
      " [0. 0. 0. 0. 0. 0. 0. 0.]\n",
      " [0. 0. 0. 0. 0. 0. 0. 0.]\n",
      " [0. 0. 0. 0. 0. 0. 0. 0.]\n",
      " [0. 0. 0. 0. 0. 0. 0. 0.]\n",
      " [0. 0. 0. 0. 0. 0. 0. 0.]]\n",
      "[0.0, 0.0, 0.0, 0.0, 0.0, 0.0, 0.0, 0.0, 0.0, 0.0, 0.0, 0.0, 0.0] [1.0, 1.0, 1.0, 1.0, 1.0, 1.0, 1.0, 1.0, 1.0, 1.0, 1.0, 1.0, 1.0]\n"
     ]
    },
    {
     "data": {
      "image/png": "[encoded data removed]",
      "text/plain": [
       "<Figure size 432x288 with 1 Axes>"
      ]
     },
     "metadata": {},
     "output_type": "display_data"
    }
   ],
   "source": [
    "G=nx.from_numpy_array(A)\n",
    "\n",
    "T,WT=Kruskal(W)\n",
    "\n",
    "\n",
    "print(A,T,WT)\n",
    "edges = G.edges()\n",
    "#À quoi ressemble edges ? (type, forme ...) \n",
    "#Il pourra être utile de convertir edges en np.array en écrivant\n",
    "#edges=np.array(G.edges)\n",
    "\n",
    "\n",
    "colors=[T[u[0]][u[1]] for u in edges]\n",
    "width=[1+WT[u[0]][u[1]] for u in edges]\n",
    "#Que fait-on ici ?\n",
    "\n",
    "print(colors,width)\n",
    "nx.draw(G, pos=pos,edge_color=colors,width=width,with_labels=True)"
   ]
  },
  {
   "cell_type": "markdown",
   "metadata": {},
   "source": [
    "\n",
    "**_question 2_**\n",
    "\n",
    "**a** Write an algorithm which takes as an input a weight matrix and set of edges $E$ and return the (sorted) list of edges such that one extremity is in $E$ and the other is not.\n",
    "\n",
    "**b** Write a function computing a minimum spanning tree of a graph given its weight matrix by Prim algorithm.\n"
   ]
  },
  {
   "cell_type": "code",
   "execution_count": 6,
   "metadata": {},
   "outputs": [
    {
     "name": "stdout",
     "output_type": "stream",
     "text": [
      "[[3.0, 0, 7], [2.5, 0, 1], [1.0, 0, 2], [0.5, 0, 6], [0.5, 0, 5]]\n"
     ]
    },
    {
     "data": {
      "text/plain": [
       "(array([[0., 0., 1., 0., 0., 1., 1., 0.],\n",
       "        [0., 0., 1., 0., 1., 0., 0., 0.],\n",
       "        [1., 1., 0., 0., 0., 0., 0., 0.],\n",
       "        [0., 0., 0., 0., 1., 0., 0., 0.],\n",
       "        [0., 1., 0., 1., 0., 0., 0., 0.],\n",
       "        [1., 0., 0., 0., 0., 0., 0., 1.],\n",
       "        [1., 0., 0., 0., 0., 0., 0., 0.],\n",
       "        [0., 0., 0., 0., 0., 1., 0., 0.]]),\n",
       " array([[0. , 0. , 1. , 0. , 0. , 0.5, 0.5, 0. ],\n",
       "        [0. , 0. , 1.5, 0. , 2. , 0. , 0. , 0. ],\n",
       "        [1. , 1.5, 0. , 0. , 0. , 0. , 0. , 0. ],\n",
       "        [0. , 0. , 0. , 0. , 1. , 0. , 0. , 0. ],\n",
       "        [0. , 2. , 0. , 1. , 0. , 0. , 0. , 0. ],\n",
       "        [0.5, 0. , 0. , 0. , 0. , 0. , 0. , 2. ],\n",
       "        [0.5, 0. , 0. , 0. , 0. , 0. , 0. , 0. ],\n",
       "        [0. , 0. , 0. , 0. , 0. , 2. , 0. , 0. ]]))"
      ]
     },
     "execution_count": 6,
     "metadata": {},
     "output_type": "execute_result"
    }
   ],
   "source": [
    "def outEdges(W,nodes):\n",
    "    \"\"\"\n",
    "     Return the list of edges which have exactly one end in nodes, sorted by weight\n",
    "\n",
    "    :param W: the weight matrix\n",
    "    :type W: a two dimensional square numpy array\n",
    "    :param nodes: a set of nodes\n",
    "    :type nodes: set or array     \n",
    "    :return:  list of edges which have exactly one end in nodes, sorted by weight\n",
    "    :rtype:  list\n",
    "    \"\"\"    \n",
    "    edges=[]\n",
    "\n",
    "    return edges\n",
    "\n",
    "print(outEdges(W,{0}))\n",
    "\n",
    "\n",
    "\n",
    "def Prim(W,initial=0):\n",
    "\n",
    "    \"\"\"\n",
    "     Return the MST (adjacency and weight matrices) given a weight matrix\n",
    "\n",
    "    :param W: the weight matrix\n",
    "    :type W: a two dimensional square numpy array \n",
    "    :return T:  the adjacency and weight matrix of the MST\n",
    "    :rtype: 2  two dimensional square numpy arrays\n",
    "    \"\"\"\n",
    "\n",
    "    T=np.zeros((W.shape[0],W.shape[0]))\n",
    "    WT=np.zeros((W.shape[0],W.shape[0]))\n",
    "\n",
    "    nodes={initial}  #data structure: set\n",
    "    \n",
    "    \n",
    "    \n",
    "\n",
    "    return T,WT \n",
    "    \n",
    "Prim(W)"
   ]
  },
  {
   "cell_type": "code",
   "execution_count": 7,
   "metadata": {},
   "outputs": [
    {
     "name": "stdout",
     "output_type": "stream",
     "text": [
      "[[0. 1. 1. 0. 0. 1. 1. 1.]\n",
      " [1. 0. 1. 0. 1. 1. 0. 0.]\n",
      " [1. 1. 0. 0. 0. 0. 0. 0.]\n",
      " [0. 0. 0. 0. 1. 0. 1. 0.]\n",
      " [0. 1. 0. 1. 0. 0. 1. 0.]\n",
      " [1. 1. 0. 0. 0. 0. 1. 1.]\n",
      " [1. 0. 0. 1. 1. 1. 0. 0.]\n",
      " [1. 0. 0. 0. 0. 1. 0. 0.]] [[0. 0. 1. 0. 0. 1. 1. 0.]\n",
      " [0. 0. 1. 0. 1. 0. 0. 0.]\n",
      " [1. 1. 0. 0. 0. 0. 0. 0.]\n",
      " [0. 0. 0. 0. 1. 0. 0. 0.]\n",
      " [0. 1. 0. 1. 0. 0. 0. 0.]\n",
      " [1. 0. 0. 0. 0. 0. 0. 1.]\n",
      " [1. 0. 0. 0. 0. 0. 0. 0.]\n",
      " [0. 0. 0. 0. 0. 1. 0. 0.]] [[0.  0.  1.  0.  0.  0.5 0.5 0. ]\n",
      " [0.  0.  1.5 0.  2.  0.  0.  0. ]\n",
      " [1.  1.5 0.  0.  0.  0.  0.  0. ]\n",
      " [0.  0.  0.  0.  1.  0.  0.  0. ]\n",
      " [0.  2.  0.  1.  0.  0.  0.  0. ]\n",
      " [0.5 0.  0.  0.  0.  0.  0.  2. ]\n",
      " [0.5 0.  0.  0.  0.  0.  0.  0. ]\n",
      " [0.  0.  0.  0.  0.  2.  0.  0. ]]\n",
      "[0.0, 1.0, 1.0, 1.0, 0.0, 1.0, 1.0, 0.0, 1.0, 0.0, 0.0, 0.0, 1.0] [1.0, 2.0, 1.5, 1.5, 1.0, 2.5, 3.0, 1.0, 2.0, 1.0, 1.0, 1.0, 3.0]\n"
     ]
    },
    {
     "data": {
      "image/png": "[encoded data removed]",
      "text/plain": [
       "<Figure size 432x288 with 1 Axes>"
      ]
     },
     "metadata": {},
     "output_type": "display_data"
    }
   ],
   "source": [
    "G=nx.from_numpy_array(A)\n",
    "\n",
    "T,WT=Prim(W)\n",
    "\n",
    "\n",
    "print(A,T,WT)\n",
    "edges = G.edges()\n",
    "#À quoi ressemble edges ? (type, forme ...) \n",
    "#Il pourra être utile de convertir edges en np.array en écrivant\n",
    "#edges=np.array(G.edges)\n",
    "\n",
    "\n",
    "colors=[T[u[0]][u[1]] for u in edges]\n",
    "width=[1+WT[u[0]][u[1]] for u in edges]\n",
    "#Que fait-on ici ?\n",
    "\n",
    "print(colors,width)\n",
    "nx.draw(G, pos=pos,edge_color=colors,width=width,with_labels=True)"
   ]
  },
  {
   "cell_type": "code",
   "execution_count": null,
   "metadata": {},
   "outputs": [],
   "source": []
  },
  {
   "cell_type": "code",
   "execution_count": null,
   "metadata": {},
   "outputs": [],
   "source": []
  }
 ],
 "metadata": {
  "kernelspec": {
   "display_name": "Python 3",
   "language": "python",
   "name": "python3"
  },
  "language_info": {
   "codemirror_mode": {
    "name": "ipython",
    "version": 3
   },
   "file_extension": ".py",
   "mimetype": "text/x-python",
   "name": "python",
   "nbconvert_exporter": "python",
   "pygments_lexer": "ipython3",
   "version": "3.8.10"
  }
 },
 "nbformat": 4,
 "nbformat_minor": 4
}
