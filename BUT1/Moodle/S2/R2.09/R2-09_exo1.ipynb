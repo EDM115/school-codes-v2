{
 "cells": [
  {
   "cell_type": "markdown",
   "metadata": {},
   "source": [
    "\n",
    "***\n",
    "\n",
    "# R2.09 Méthodes numériques\n",
    "## Exercices de cours\n",
    "***\n",
    "***\n",
    "\n",
    "***\n",
    "***\n"
   ]
  },
  {
   "cell_type": "code",
   "execution_count": 1,
   "metadata": {},
   "outputs": [],
   "source": [
    "from math import log, sqrt\n",
    "import numpy as np\n",
    "import matplotlib.pyplot as plt\n",
    "%matplotlib inline\n",
    "#magic\n",
    "import warnings\n",
    "warnings.filterwarnings('ignore')\n",
    "\n",
    "import time"
   ]
  },
  {
   "cell_type": "code",
   "execution_count": 2,
   "metadata": {},
   "outputs": [],
   "source": [
    "plt.rcParams['figure.figsize'] = (10, 6)\n",
    "#see https://matplotlib.org/stable/tutorials/introductory/pyplot.html for a more complete introduction to mathplot"
   ]
  },
  {
   "cell_type": "markdown",
   "metadata": {},
   "source": [
    "## Un exemple du cours"
   ]
  },
  {
   "cell_type": "markdown",
   "metadata": {},
   "source": [
    "Soit $(u_n)_{n\\in \\mathbb{N}}$ la suite définie par $u_0=1$ et pour $n\\geq 1$,\n",
    "$u_n=\\sqrt{2+u_{n-1}}$.\n",
    "On va étudier cette suite."
   ]
  },
  {
   "cell_type": "code",
   "execution_count": 3,
   "metadata": {},
   "outputs": [],
   "source": [
    "def un(n):\n",
    "    if n==0:\n",
    "        return 1\n",
    "    else:\n",
    "        return(sqrt(2+un(n-1)))\n",
    "    \n",
    "    "
   ]
  },
  {
   "cell_type": "code",
   "execution_count": 4,
   "metadata": {},
   "outputs": [
    {
     "name": "stdout",
     "output_type": "stream",
     "text": [
      "[1, 1.7320508075688772, 1.9318516525781366, 1.9828897227476208, 1.995717846477207, 1.9989291749527314, 1.9997322758191236, 1.9999330678348022, 1.9999832668887012, 1.9999958167178002, 1.9999989541791767, 1.9999997385447772, 1.9999999346361932, 1.9999999836590483, 1.999999995914762, 1.9999999989786905, 1.9999999997446727, 1.9999999999361682, 1.999999999984042, 1.9999999999960105, 1.9999999999990026, 1.9999999999997506, 1.9999999999999376, 1.9999999999999845, 1.999999999999996]\n"
     ]
    },
    {
     "data": {
      "image/png": "[encoded data removed]",
      "text/plain": [
       "<Figure size 720x432 with 1 Axes>"
      ]
     },
     "metadata": {
      "needs_background": "light"
     },
     "output_type": "display_data"
    }
   ],
   "source": [
    "rg = range(0, 25)\n",
    "\n",
    "s1 = [un(n) for n in rg]\n",
    "\n",
    "print(s1)\n",
    "\n",
    "plt.title('')\n",
    "plt.plot(rg, s1, 'ro', markersize=4)\n",
    "\n",
    "\n",
    "plt.grid()\n",
    "plt.show()"
   ]
  },
  {
   "cell_type": "code",
   "execution_count": 5,
   "metadata": {},
   "outputs": [
    {
     "name": "stdout",
     "output_type": "stream",
     "text": [
      "0.7320508075688772\n",
      "1.0\n",
      "0.19980084500925943\n",
      "1.0\n",
      "0.05103807016948414\n",
      "1.0\n",
      "0.012828123729586194\n",
      "1.0\n",
      "0.003211328475524411\n",
      "1.0\n",
      "0.0008031008663922368\n",
      "1.0\n",
      "0.00020079201567857474\n",
      "1.0\n",
      "5.0199053899024904e-05\n",
      "1.0\n",
      "1.254982909904001e-05\n",
      "1.0\n",
      "3.137461376478967e-06\n",
      "1.0\n"
     ]
    }
   ],
   "source": [
    "for i in range(10):\n",
    "    print(un(i+1)-un(i))\n",
    "    print(np.sign(un(i+1)-un(i)))"
   ]
  },
  {
   "cell_type": "code",
   "execution_count": 15,
   "metadata": {},
   "outputs": [
    {
     "name": "stdout",
     "output_type": "stream",
     "text": [
      "2.0\n",
      "[0.001, 2.4494898448452487, 3.000000041666666, 3.2403703684918486, 3.3541019755666346, 3.4095454288291864, 3.436931773489983, 3.4505434365926333, 3.457329172049756, 3.460717050258967, 3.462409746257159, 3.4632557840113805, 3.463678725393587, 3.4638901767192434, 3.4639958975417446, 3.4640487567430425, 3.4640751860412196, 3.4640884006146924, 3.464095007882525, 3.464098311511715, 3.4640999633251286, 3.46410078923154, 3.464101202184672, 3.46410140866122, 3.4641015118994885, 3.464101563518622, 3.4641015893281883, 3.4641016022329714, 3.464101608685363, 3.4641016119115586, 3.4641016135246567, 3.464101614331206, 3.46410161473448, 3.4641016149361175, 3.464101615036936, 3.4641016150873454, 3.46410161511255, 3.4641016151251525, 3.464101615131453, 3.464101615134604, 3.464101615136179, 3.464101615136967, 3.464101615137361, 3.4641016151375577, 3.4641016151376562, 3.4641016151377055, 3.46410161513773, 3.4641016151377424, 3.4641016151377486, 3.4641016151377517, 3.464101615137753, 3.464101615137754, 3.464101615137754, 3.464101615137754, 3.464101615137754, 3.464101615137754, 3.464101615137754, 3.464101615137754, 3.464101615137754, 3.464101615137754, 3.464101615137754, 3.464101615137754, 3.464101615137754, 3.464101615137754, 3.464101615137754, 3.464101615137754, 3.464101615137754, 3.464101615137754, 3.464101615137754, 3.464101615137754, 3.464101615137754, 3.464101615137754, 3.464101615137754, 3.464101615137754, 3.464101615137754, 3.464101615137754, 3.464101615137754, 3.464101615137754, 3.464101615137754, 3.464101615137754, 3.464101615137754, 3.464101615137754, 3.464101615137754, 3.464101615137754, 3.464101615137754, 3.464101615137754, 3.464101615137754, 3.464101615137754, 3.464101615137754, 3.464101615137754, 3.464101615137754, 3.464101615137754, 3.464101615137754, 3.464101615137754, 3.464101615137754, 3.464101615137754, 3.464101615137754, 3.464101615137754, 3.464101615137754, 3.464101615137754, 3.464101615137754, 3.464101615137754, 3.464101615137754, 3.464101615137754, 3.464101615137754, 3.464101615137754, 3.464101615137754, 3.464101615137754, 3.464101615137754, 3.464101615137754, 3.464101615137754, 3.464101615137754, 3.464101615137754, 3.464101615137754, 3.464101615137754, 3.464101615137754, 3.464101615137754, 3.464101615137754, 3.464101615137754, 3.464101615137754, 3.464101615137754, 3.464101615137754, 3.464101615137754, 3.464101615137754, 3.464101615137754, 3.464101615137754, 3.464101615137754, 3.464101615137754, 3.464101615137754, 3.464101615137754, 3.464101615137754, 3.464101615137754, 3.464101615137754, 3.464101615137754, 3.464101615137754, 3.464101615137754, 3.464101615137754, 3.464101615137754, 3.464101615137754, 3.464101615137754, 3.464101615137754, 3.464101615137754, 3.464101615137754, 3.464101615137754, 3.464101615137754, 3.464101615137754, 3.464101615137754, 3.464101615137754, 3.464101615137754, 3.464101615137754, 3.464101615137754, 3.464101615137754, 3.464101615137754, 3.464101615137754, 3.464101615137754, 3.464101615137754, 3.464101615137754, 3.464101615137754, 3.464101615137754, 3.464101615137754, 3.464101615137754, 3.464101615137754, 3.464101615137754, 3.464101615137754, 3.464101615137754, 3.464101615137754, 3.464101615137754, 3.464101615137754, 3.464101615137754, 3.464101615137754, 3.464101615137754, 3.464101615137754, 3.464101615137754, 3.464101615137754, 3.464101615137754, 3.464101615137754, 3.464101615137754, 3.464101615137754, 3.464101615137754, 3.464101615137754, 3.464101615137754, 3.464101615137754, 3.464101615137754, 3.464101615137754, 3.464101615137754, 3.464101615137754, 3.464101615137754, 3.464101615137754, 3.464101615137754, 3.464101615137754, 3.464101615137754, 3.464101615137754, 3.464101615137754, 3.464101615137754, 3.464101615137754, 3.464101615137754, 3.464101615137754, 3.464101615137754, 3.464101615137754, 3.464101615137754, 3.464101615137754, 3.464101615137754, 3.464101615137754, 3.464101615137754, 3.464101615137754, 3.464101615137754, 3.464101615137754, 3.464101615137754, 3.464101615137754, 3.464101615137754, 3.464101615137754, 3.464101615137754, 3.464101615137754, 3.464101615137754, 3.464101615137754, 3.464101615137754, 3.464101615137754, 3.464101615137754, 3.464101615137754, 3.464101615137754, 3.464101615137754, 3.464101615137754, 3.464101615137754, 3.464101615137754, 3.464101615137754, 3.464101615137754, 3.464101615137754, 3.464101615137754, 3.464101615137754, 3.464101615137754, 3.464101615137754, 3.464101615137754, 3.464101615137754, 3.464101615137754, 3.464101615137754, 3.464101615137754, 3.464101615137754, 3.464101615137754, 3.464101615137754, 3.464101615137754, 3.464101615137754, 3.464101615137754, 3.464101615137754, 3.464101615137754, 3.464101615137754, 3.464101615137754, 3.464101615137754, 3.464101615137754, 3.464101615137754, 3.464101615137754]\n"
     ]
    },
    {
     "data": {
      "image/png": "[encoded data removed]",
      "text/plain": [
       "<Figure size 720x432 with 1 Axes>"
      ]
     },
     "metadata": {
      "needs_background": "light"
     },
     "output_type": "display_data"
    }
   ],
   "source": [
    "def PEI(n):\n",
    "    if n==0:\n",
    "        return .001\n",
    "    else :\n",
    "        return np.sqrt(.5*PEI(n-1)**2+6)\n",
    "\n",
    "print(np.sqrt(4))\n",
    "rg = range(0, 250)\n",
    "\n",
    "s1 = [PEI(n) for n in rg]\n",
    "\n",
    "print(s1)\n",
    "\n",
    "plt.title('')\n",
    "plt.plot(rg, s1, 'ro', markersize=4)\n",
    "\n",
    "\n",
    "plt.grid()\n",
    "plt.show()"
   ]
  },
  {
   "cell_type": "markdown",
   "metadata": {},
   "source": [
    "## Interlude théorique :\n",
    "\n",
    "Montrer que toute suite convergente est bornée."
   ]
  },
  {
   "cell_type": "code",
   "execution_count": null,
   "metadata": {},
   "outputs": [],
   "source": []
  },
  {
   "cell_type": "markdown",
   "metadata": {
    "tags": []
   },
   "source": [
    "***\n",
    "\n",
    "## Suite arithmético-géométrique\n",
    "\n",
    "On définit la suite la suite $(u_n)_n$ par $u_0 = a $ et $u_{n+1} = qu_n +r $.\n",
    "\n",
    "On va étudier son comportement.\n",
    "\n",
    "On prend comme exemple $u_0 = 1 $ et $u_{n+1} = 2u_n +3 $."
   ]
  },
  {
   "cell_type": "code",
   "execution_count": 28,
   "metadata": {},
   "outputs": [
    {
     "name": "stdout",
     "output_type": "stream",
     "text": [
      "1\n",
      "5\n",
      "13\n",
      "29\n",
      "61\n",
      "125\n",
      "253\n",
      "509\n",
      "1021\n",
      "2045\n"
     ]
    }
   ],
   "source": [
    "def arithm_geo(a,q,r,n):\n",
    "    if n==0:\n",
    "        return a\n",
    "    else : \n",
    "        return q*arithm_geo(a,q,r,n-1)+r\n",
    "    \n",
    "    \n",
    "for i in range(10):\n",
    "    print(arithm_geo(1,2,3,i))"
   ]
  },
  {
   "cell_type": "code",
   "execution_count": 29,
   "metadata": {},
   "outputs": [
    {
     "data": {
      "text/plain": [
       "[<matplotlib.lines.Line2D at 0x7fa8f144f880>]"
      ]
     },
     "execution_count": 29,
     "metadata": {},
     "output_type": "execute_result"
    },
    {
     "data": {
      "image/png": "[encoded data removed]",
      "text/plain": [
       "<Figure size 720x432 with 1 Axes>"
      ]
     },
     "metadata": {
      "needs_background": "light"
     },
     "output_type": "display_data"
    }
   ],
   "source": [
    "rg = range(1, 50)\n",
    "s1 = [arithm_geo(1,2,3,n) for n in rg]\n",
    "plt.plot(rg, s1, 'ro', markersize=4)"
   ]
  },
  {
   "cell_type": "markdown",
   "metadata": {},
   "source": [
    "On va étudier la _suite auxilliaire_ $v_n = u_n  + x $ (on déterminera plus tard une bonne valeur de $x$).\n",
    "\n",
    "$$\n",
    "\\begin{align*}\n",
    "    v_{n+1} &= u_{n+1} + x \\\\\n",
    "    &= qu_n +r +x \\\\\n",
    "    \\text{On fait apparaitre $v_n$}\\\\\n",
    "    &= q(u_n +x) +r + x - qx \\\\\n",
    "    &= q(v_n) +r + x - qx\n",
    "\\end{align*}\n",
    "$$\n",
    "\n",
    "On va alors chercher $r + x -qx = 0$, soit $x^* = \\frac{-r}{1-q}$. Alors\n",
    "\n",
    "\\begin{align*}\n",
    "    v_{n+1} &= u_{n+1} + x^*  \\\\\n",
    "    &= qu_n +r +x^* \\\\\n",
    "    \\text{On fait apparaitre $v_n$}\\\\\n",
    "    &= q(u_n +x^*) +r + x^* - qx^* \\\\\n",
    "    &= q(v_n) +r + x^* - qx^*\\\\\n",
    "    &= q(v_n)\n",
    "\\end{align*}\n",
    "\n",
    "On s'est donc ramené a une suite géométrique, que l'on connait bien.\n",
    "\n",
    "Ainsi, $v_n = aq^n$ ; donc $u_n = q^n(u_0 - x^*) -x^*$\n",
    "\n",
    "\n",
    "Par exemple, prenons $u_0 = 1 $ et $u_{n+1} = 2u_n +3 $, alors $x^*  =\\frac{-3}{1-2}  = 3$, et ainsi\n",
    "\n",
    "$u_n = 2^n(1+3) + 3$\n",
    "\n",
    "On vérifie numériquement :"
   ]
  },
  {
   "cell_type": "code",
   "execution_count": 44,
   "metadata": {},
   "outputs": [],
   "source": [
    "def geometric_rec(a,q,n):\n",
    "    '''\n",
    "    in: common ratio q, scale factor a, number of iteration n\n",
    "    type: q float, a float, n int\n",
    "    return: n-th term of the geometric progression\n",
    "    rtype:float\n",
    "    '''\n",
    "    if n==0:\n",
    "        return a\n",
    "    else :\n",
    "        return q*geometric_rec(a,q,n-1)\n",
    "\n"
   ]
  },
  {
   "cell_type": "code",
   "execution_count": 45,
   "metadata": {},
   "outputs": [
    {
     "name": "stdout",
     "output_type": "stream",
     "text": [
      "-3\n",
      "-3\n",
      "-3\n",
      "-3\n",
      "-3\n",
      "-3\n",
      "-3\n",
      "-3\n",
      "-3\n",
      "-3\n"
     ]
    }
   ],
   "source": [
    "for i in range(10):\n",
    "    print(arithm_geo(1,2,3,i)-geometric_rec(4,2,i))"
   ]
  },
  {
   "cell_type": "code",
   "execution_count": null,
   "metadata": {},
   "outputs": [],
   "source": []
  },
  {
   "cell_type": "code",
   "execution_count": null,
   "metadata": {},
   "outputs": [],
   "source": []
  },
  {
   "cell_type": "markdown",
   "metadata": {},
   "source": [
    "## Vitesse de Convergence"
   ]
  },
  {
   "cell_type": "markdown",
   "metadata": {},
   "source": [
    "- Donner la limite de $a_n=\\dfrac{1}{10}+\\dfrac{1}{100}+\\cdots+\\dfrac{1}{10^n}$\n",
    "- Donner le plus petit entier $N_a$ tel que $\\dfrac{1}{9}-a_{N_a} < 10^{-6}$\n",
    "\n",
    "- Donner la limite de $b_n=\\dfrac{7}{10}+\\dfrac{7}{100}+\\cdots+\\dfrac{7}{10^n}$\n",
    "- Donner le plus petit entier $N_a$ tel que $\\dfrac{7}{9}-a_{N_b}<10^{-8}$"
   ]
  },
  {
   "cell_type": "code",
   "execution_count": null,
   "metadata": {},
   "outputs": [],
   "source": []
  },
  {
   "cell_type": "markdown",
   "metadata": {},
   "source": [
    "## Suite(s) de Héron\n"
   ]
  },
  {
   "cell_type": "markdown",
   "metadata": {},
   "source": [
    "Soit $u_n$ définie par $u_0 \\in \\mathbb{R}^*_+$, $u_{n+1} = {u_n + {2 \\over u_n}\\over 2}$. \n",
    "\n"
   ]
  },
  {
   "cell_type": "code",
   "execution_count": 17,
   "metadata": {},
   "outputs": [
    {
     "name": "stdout",
     "output_type": "stream",
     "text": [
      "0.0001430511474609375\n",
      "7.0438292026519775\n"
     ]
    }
   ],
   "source": [
    "def Heron(u0,n):\n",
    "    if n==0:\n",
    "        return u0\n",
    "    else : \n",
    "        temp=Heron(u0,n-1)\n",
    "        return 1/2 * (temp+ 2/temp)\n",
    "    \n",
    "def Heron_bad(u0,n):\n",
    "    if n==0:\n",
    "        return u0\n",
    "    else : \n",
    "        \n",
    "        return 1/2 * (Heron_bad(u0,n-1)+ 2/Heron_bad(u0,n-1))\n",
    "    \n",
    "start = time.time()\n",
    "Heron(42,100)\n",
    "end = time.time()\n",
    "print(end - start)\n",
    "\n",
    "start = time.time()\n",
    "Heron_bad(42,25)\n",
    "end = time.time()\n",
    "print(end - start)"
   ]
  },
  {
   "cell_type": "code",
   "execution_count": 18,
   "metadata": {
    "tags": []
   },
   "outputs": [
    {
     "name": "stdout",
     "output_type": "stream",
     "text": [
      "1\n",
      "1.5\n",
      "1.4166666666666665\n",
      "1.4142156862745097\n",
      "1.4142135623746899\n",
      "1.414213562373095\n",
      "1.414213562373095\n",
      "1.414213562373095\n",
      "1.414213562373095\n",
      "1.414213562373095\n",
      "1.414213562373095\n",
      "1.414213562373095\n",
      "1.414213562373095\n",
      "1.414213562373095\n",
      "1.414213562373095\n",
      "1.414213562373095\n",
      "1.414213562373095\n",
      "1.414213562373095\n",
      "1.414213562373095\n",
      "1.414213562373095\n",
      "1.414213562373095\n",
      "1.414213562373095\n",
      "1.414213562373095\n",
      "1.414213562373095\n",
      "1.414213562373095\n"
     ]
    }
   ],
   "source": [
    "for i in range(25):\n",
    "    print(Heron(1,i))"
   ]
  },
  {
   "cell_type": "code",
   "execution_count": 19,
   "metadata": {},
   "outputs": [
    {
     "data": {
      "image/png": "[encoded data removed]",
      "text/plain": [
       "<Figure size 720x432 with 1 Axes>"
      ]
     },
     "metadata": {
      "needs_background": "light"
     },
     "output_type": "display_data"
    }
   ],
   "source": [
    "rg = range(0, 100)\n",
    "\n",
    "s1 = [Heron(1,n) for n in rg]\n",
    "s2 = [Heron(2,n) for n in rg]\n",
    "s3 = [Heron(3,n) for n in rg]\n",
    "\n",
    "plt.title('log')\n",
    "plt.plot(rg, s1, 'ro', markersize=4)\n",
    "#plt.plot(rg, s2, 'bx', markersize=4)\n",
    "#plt.plot(rg, s3, 'g+', markersize=4)\n",
    "\n",
    "plt.grid()\n",
    "plt.show()"
   ]
  },
  {
   "cell_type": "code",
   "execution_count": 22,
   "metadata": {},
   "outputs": [
    {
     "name": "stdout",
     "output_type": "stream",
     "text": [
      "1.75\n",
      "-0.6805555555555556\n",
      "-0.14755408062930186\n",
      "-0.007656077875069167\n",
      "-2.0723415141254975e-05\n",
      "-1.5183720947220536e-10\n",
      "0.0\n",
      "0.0\n",
      "0.0\n",
      "0.0\n"
     ]
    }
   ],
   "source": [
    "for i in range(10):\n",
    "    print(Heron(.5,i+1)-Heron(.5,i))"
   ]
  },
  {
   "cell_type": "markdown",
   "metadata": {},
   "source": [
    "### Généralisation\n",
    "\n",
    "Soit $u_n$ définie par $u_0 = A$, $u_{n+1} = {u_n + {A \\over u_n}\\over 2}$. \n",
    "\n"
   ]
  },
  {
   "cell_type": "code",
   "execution_count": 12,
   "metadata": {},
   "outputs": [],
   "source": [
    "def Heron_gen(A,n):\n",
    "    if n==0:\n",
    "        return A\n",
    "    else : \n",
    "        temp=Heron_gen(A,n-1)\n",
    "        return 1/2 * (temp+ A/temp)\n",
    "    \n",
    "\n",
    "    \n"
   ]
  },
  {
   "cell_type": "markdown",
   "metadata": {},
   "source": [
    "On teste pour quelques valeurs"
   ]
  },
  {
   "cell_type": "code",
   "execution_count": 15,
   "metadata": {},
   "outputs": [
    {
     "data": {
      "text/plain": [
       "[[1, 1.0],\n",
       " [2, 1.414213562373095],\n",
       " [4, 2.0],\n",
       " [8, 2.82842712474619],\n",
       " [9, 3.0],\n",
       " [10, 3.162277660168379],\n",
       " [16, 4.0],\n",
       " [25, 5.0],\n",
       " [100, 10.0],\n",
       " [1000, 31.622776601683793]]"
      ]
     },
     "execution_count": 15,
     "metadata": {},
     "output_type": "execute_result"
    }
   ],
   "source": [
    "[[i,Heron_gen(i,50)] for i in [1,2,4,8,9,10,16,25,100,1000]]\n"
   ]
  },
  {
   "cell_type": "markdown",
   "metadata": {},
   "source": [
    "\n"
   ]
  },
  {
   "cell_type": "code",
   "execution_count": 77,
   "metadata": {},
   "outputs": [
    {
     "data": {
      "text/plain": [
       "[2,\n",
       " 1.5,\n",
       " 1.4166666666666665,\n",
       " 1.4142156862745097,\n",
       " 1.4142135623746899,\n",
       " 1.414213562373095,\n",
       " 1.414213562373095,\n",
       " 1.414213562373095,\n",
       " 1.414213562373095,\n",
       " 1.414213562373095]"
      ]
     },
     "execution_count": 77,
     "metadata": {},
     "output_type": "execute_result"
    }
   ],
   "source": []
  },
  {
   "cell_type": "code",
   "execution_count": null,
   "metadata": {},
   "outputs": [],
   "source": []
  },
  {
   "cell_type": "code",
   "execution_count": null,
   "metadata": {},
   "outputs": [],
   "source": []
  },
  {
   "cell_type": "code",
   "execution_count": null,
   "metadata": {},
   "outputs": [],
   "source": []
  },
  {
   "cell_type": "code",
   "execution_count": null,
   "metadata": {},
   "outputs": [],
   "source": []
  },
  {
   "cell_type": "code",
   "execution_count": null,
   "metadata": {},
   "outputs": [],
   "source": []
  }
 ],
 "metadata": {
  "kernelspec": {
   "display_name": "Python 3",
   "language": "python",
   "name": "python3"
  },
  "language_info": {
   "codemirror_mode": {
    "name": "ipython",
    "version": 3
   },
   "file_extension": ".py",
   "mimetype": "text/x-python",
   "name": "python",
   "nbconvert_exporter": "python",
   "pygments_lexer": "ipython3",
   "version": "3.8.10"
  }
 },
 "nbformat": 4,
 "nbformat_minor": 4
}
