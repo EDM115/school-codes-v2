{
 "cells": [
  {
   "cell_type": "markdown",
   "metadata": {},
   "source": [
    "\n",
    "***\n",
    "\n",
    "# R2.09 \n",
    "## TP1. A warren of rabbits\n",
    "***\n",
    "***\n",
    "Le but principal de ce TP est de vous donner un aperçu de l'analyse quantitative et qualitative sur les suites ; et de s'approprier les outils que l'on utilisera tout au long du module."
   ]
  },
  {
   "cell_type": "code",
   "execution_count": null,
   "metadata": {},
   "outputs": [],
   "source": [
    "#import divers, ne pas prendre en compte\n",
    "import math\n",
    "import numpy as np\n",
    "import matplotlib.pyplot as plt\n",
    "%matplotlib inline\n",
    "#magic\n",
    "import warnings\n",
    "warnings.filterwarnings('ignore')\n",
    "\n",
    "import time\n",
    "import random\n",
    "\n",
    "from IPython.display import HTML      # For animation\n",
    "from matplotlib import animation      # For animation\n"
   ]
  },
  {
   "cell_type": "code",
   "execution_count": null,
   "metadata": {},
   "outputs": [],
   "source": [
    "plt.rcParams['figure.figsize'] = (10, 6)\n",
    "#see https://matplotlib.org/stable/tutorials/introductory/pyplot.html for a more complete introduction to mathplot"
   ]
  },
  {
   "cell_type": "markdown",
   "metadata": {},
   "source": [
    "# 1: 1 lapin, 2 lapins, 3 lapins ...\n",
    "\n",
    "Un mathématicien (très) naïf a entendu dire que les lapins se reproduisent. Il suppose donc que si on commence avec $a$ lapins, la population devrait augmenter.\n",
    "\n",
    "Ayant des connaissances (très) limitées en biologie, il propose de modéliser le nombre de lapins avec la suite la plus simple qu'il connaisse, la **suite arithmétique**.\n",
    "\n",
    "\n",
    "Voici une implémentation récursive de cette suite $u_0=a$ ; $u_{n+1}=u_n + r$."
   ]
  },
  {
   "cell_type": "code",
   "execution_count": null,
   "metadata": {},
   "outputs": [],
   "source": [
    "#DONE\n",
    "\n",
    "def arithmetic_rec(r,a,n):\n",
    "    '''\n",
    "    in: common adding r, initial term , number of iteration n\n",
    "    type: q float, r float, n int\n",
    "    return: n-th term of the arithmetic progression\n",
    "    rtype:float\n",
    "    '''\n",
    "    if n==0:\n",
    "        return a\n",
    "    else :\n",
    "        return arithmetic_rec(r,a,n-1) +r\n",
    "    \n",
    "arithmetic_rec(2,11,5)\n",
    "\n",
    "\n"
   ]
  },
  {
   "cell_type": "markdown",
   "metadata": {},
   "source": [
    "\n",
    "**question 1:** \n",
    "écrire une fonction <tt> arithmetic </tt> qui calcule $u_n$ de manière impérative (c-à-d avec une boucle).\n",
    "\n",
    "Donner une formule explicite pour $u_n$\n"
   ]
  },
  {
   "cell_type": "code",
   "execution_count": null,
   "metadata": {},
   "outputs": [],
   "source": [
    "#TODO\n",
    "\n",
    "\n",
    "def arithmetic(r,a,n):\n",
    "    '''\n",
    "    in: common adding r, initial term , number of iteration n\n",
    "    type: q float, r float, n int\n",
    "    return: n-th term of the arithmetic progression\n",
    "    rtype:float\n",
    "    '''\n",
    "    return -1"
   ]
  },
  {
   "cell_type": "markdown",
   "metadata": {},
   "source": [
    "On peut maintenant tracer les $100$ premiers termes de la suite.\n",
    "\n",
    "\n",
    "\n",
    "\n"
   ]
  },
  {
   "cell_type": "code",
   "execution_count": null,
   "metadata": {},
   "outputs": [],
   "source": [
    "#DONE\n",
    "\n",
    "rg = range(1, 100)\n",
    "s1 = [arithmetic_rec(1.5,2,n) for n in rg]\n",
    "plt.title('arithmetic rabbits')\n",
    "plt.plot(rg, s1, 'ro', markersize=4)\n",
    "plt.show()\n",
    "\n"
   ]
  },
  {
   "cell_type": "markdown",
   "metadata": {},
   "source": [
    "**question 2** Décrire tous les comportements possibles pour $u_n$ selon les choix de $a$ et $r$. Quels choix sont pertinents ici en terme de modélisation ?\n",
    "\n"
   ]
  },
  {
   "cell_type": "markdown",
   "metadata": {},
   "source": [
    "| behaviour of $u_n$ | $r<0$ | $r=0$ | $r>0$ |\n",
    "| :- | -: | :-: |---|\n",
    "| $a<0$ |  | |\n",
    "| $a=0$ |  | |\n",
    "| $a>0$ |  | |\n"
   ]
  },
  {
   "cell_type": "markdown",
   "metadata": {},
   "source": [
    "# 2: 1 couple of rabbits, 2 couples of rabbits, 4 couples of rabbits\n",
    "\n",
    "\n",
    "Une mathématicienne _bien mieux informée_ (mais qui n'a clairement pas souvent vu de vrais lapin) sait que les lapins ont des lapereaux qui peuvent eux-mêmes se reproduire. Elle propose donc une autre modélisation de la croissance de la population : la **suite géométrique** $u_0=a$ ; $u_{n+1}=qu_n$.\n",
    "\n",
    "_Cette modélisation simpliste est une théorie qui a réellement été proposée au XIXème siècle par Thomas R. Malthus, qui prédisait alors une  [explosion démographique](https://en.wikipedia.org/wiki/Malthusianism) et en tirait certaines conclusions très politiques_"
   ]
  },
  {
   "cell_type": "markdown",
   "metadata": {},
   "source": [
    "Voici une implémentation récursive de cette suite, $u_0=a$ ; $u_{n+1}=qu_n$."
   ]
  },
  {
   "cell_type": "code",
   "execution_count": null,
   "metadata": {},
   "outputs": [],
   "source": [
    "#DONE\n",
    "\n",
    "def geometric_rec(q,a,n):\n",
    "    '''\n",
    "    in: common ratio q, scale factor a, number of iteration n\n",
    "    type: q float, a float, n int\n",
    "    return: n-th term of the geometric progression\n",
    "    rtype:float\n",
    "    '''\n",
    "    if n==0:\n",
    "        return a\n",
    "    else :\n",
    "        return q*geometric_rec(q,a,n-1)\n",
    "    \n",
    "geometric_rec(2,11,5)"
   ]
  },
  {
   "cell_type": "markdown",
   "metadata": {},
   "source": [
    "\n",
    "**question 1:** Écrire une fonction <tt>geometric</tt> qui calcule $u_n$ de manière impérative (c-à-d avec une boucle).\n",
    "\n",
    "Donner une formule explicite pour $u_n$"
   ]
  },
  {
   "cell_type": "code",
   "execution_count": null,
   "metadata": {},
   "outputs": [],
   "source": [
    "#TODO\n",
    "\n",
    "\n",
    "def geometric(q,a,n):\n",
    "    '''\n",
    "    in: common ratio q, scale factor a, number of iteration n\n",
    "    type: q float, a float, n int\n",
    "    return: n-th term of the geometric progression\n",
    "    rtype:float\n",
    "    '''\n",
    "    return -1\n"
   ]
  },
  {
   "cell_type": "markdown",
   "metadata": {},
   "source": [
    "On peut maintenant tracer les $100$ premiers termes de la suite.\n",
    "\n",
    "Dans ce genre de situation, comme $u_n$ augmente très rapidement, il peut-être intéressant de tracer $\\log u_n$. On parle _d'échelle logarithmique_.\n",
    "\n",
    "Quelles sont vos observations ?\n",
    "\n"
   ]
  },
  {
   "cell_type": "code",
   "execution_count": null,
   "metadata": {},
   "outputs": [],
   "source": [
    "#DONE\n",
    "\n",
    "rg = range(1, 100)\n",
    "s1 = [geometric_rec(1.5,2,n) for n in rg]\n",
    "plt.title('geometric rabbits usual')\n",
    "plt.plot(rg, s1, 'rx', markersize=4)\n",
    "plt.show()\n",
    "\n",
    "\n",
    "plt.title('geometric rabbits log')\n",
    "plt.yscale('log')\n",
    "plt.plot(rg, s1, 'b+', markersize=4)\n",
    "plt.show()\n"
   ]
  },
  {
   "cell_type": "markdown",
   "metadata": {},
   "source": [
    "**question 2**  Décrire tous les comportements possibles pour $u_n$ selon les choix de $a$ et $r$. Quels choix sont pertinents ici en terme de modélisation ?\n"
   ]
  },
  {
   "cell_type": "markdown",
   "metadata": {},
   "source": [
    "\n",
    "TODO\n",
    "\n",
    "| behaviour of $u_n$ | $q<0$ | $q=0$ | $q>0$ |\n",
    "| :- | -: | :-: |---|\n",
    "| $a<0$ |  | |\n",
    "| $a=0$ |  | |\n",
    "| $a>0$ |  | |"
   ]
  },
  {
   "cell_type": "markdown",
   "metadata": {},
   "source": [
    "**question 3** Comparer les croissances des populations selon le choix de modélisation pour des choix raisonnables de paramètres (si le temps le permet, tracer par exemple le ratio)"
   ]
  },
  {
   "cell_type": "markdown",
   "metadata": {},
   "source": [
    "TODO\n"
   ]
  },
  {
   "cell_type": "markdown",
   "metadata": {},
   "source": [
    "# 3: 1 couple of  rabbits, 1 couple of rabbits and 1 couples kittens, 2 couples of rabbits and 1 couple of kittens, 3 couples of rabbits and 2 couples of kittens ... the Fibonacci sequence"
   ]
  },
  {
   "cell_type": "markdown",
   "metadata": {},
   "source": [
    "[Leonardo Fibonacci](https://fr.wikipedia.org/wiki/Leonardo_Fibonacci), qui a probablement réellement vu des lapins<sup>[reference needed][]</sup> savait que les jeunes lapins ne peuvent pas se reproduire la première année, il suggéra donc que le nombre de lapins l'année  $n+1$ devrait être le nombre de lapins à l'année  $n$ plus le nombre de lapins adultes, c-à-d le nombre de lapins l'année $n-1$. \n",
    "\n",
    "[reference needed]: https://en.wikipedia.org/wiki/Wikipedia:Citation_needed\n",
    "\n"
   ]
  },
  {
   "cell_type": "markdown",
   "metadata": {},
   "source": [
    "On rappelle que la suite de Fibonacci est définie par $F_0=0 , =F_1=1$ et $F_{n+2} = F_{n+1} + F_n$\n",
    "\n",
    "\n",
    "**question 1** écrire une fonction (naïve) `Fibonacci` qui calcule $F_n$.\n",
    "Jusqu'où pouvez vous aller en moins de 30 secondes ?\n",
    "\n"
   ]
  },
  {
   "cell_type": "code",
   "execution_count": null,
   "metadata": {},
   "outputs": [],
   "source": [
    "#TODO\n",
    "\n",
    "\n",
    "def Fibonacci_naive(n):\n",
    "\n",
    "    return -1\n",
    "\n",
    "#DONE\n",
    "\n",
    "start = time.time()\n",
    "Fibonacci_naive(30)\n",
    "end = time.time()\n",
    "\n",
    "print(end - start)"
   ]
  },
  {
   "cell_type": "markdown",
   "metadata": {},
   "source": [
    "On se propose de tracer le temps nécessaire pour calculer $F_n$ comme fonction de $n$ pour  $n\\leq 35$\n"
   ]
  },
  {
   "cell_type": "code",
   "execution_count": null,
   "metadata": {},
   "outputs": [],
   "source": [
    "#DONE\n",
    "\n",
    "n=35\n",
    "rg = range(0, n)\n",
    "t=[0 for i in rg]\n",
    "for i in rg:\n",
    "    start = time.time()\n",
    "    Fibonacci_naive(i)\n",
    "    end = time.time()\n",
    "    t[i]=end-start\n",
    "\n",
    "plt.title('temps de calcul de la suite de Fibonacci, version naive')\n",
    "\n",
    "plt.plot(rg, t, 'ro', markersize=4)\n",
    "plt.grid()\n",
    "plt.show()"
   ]
  },
  {
   "cell_type": "markdown",
   "metadata": {},
   "source": [
    "La version naïve de calcul de Fibonacci s'appelle 2 fois recursivement à chaque passe. Le temps de calcul est donc exponentiel.\n",
    "\n",
    "On va chercher à optimiser cela.\n",
    "\n",
    "**question 2:** écrire une fonction _de complexité linéaire (une boucle ou un appel recursif par passe)_ <tt> fibonacci(n)</tt>  qui renvoie $[F_{n-1},F_{n}]$ pour l'appel `fibonacci(n)`\n",
    "\n",
    "\n",
    "Calculer $F_{500}$ et tracer le temps nécessaire pour calculer $F_n$ comme fonction de $n$ pour  $n\\leq 250$\n"
   ]
  },
  {
   "cell_type": "code",
   "execution_count": null,
   "metadata": {},
   "outputs": [],
   "source": [
    "#TODO\n",
    "\n",
    "\n",
    "def Fibonacci(n):\n",
    "    if n==0:\n",
    "        return [1,1]\n",
    "    else :\n",
    "        return [-1,-1]\n",
    "\n",
    "    \n",
    "    \n",
    "    \n",
    "    \n",
    "    \n",
    "    \n",
    "#DONE    \n",
    "\n",
    "print(Fibonacci(1000)[1])    \n",
    "n=250\n",
    "rg = range(0, n)\n",
    "t=[0 for i in rg]\n",
    "for i in rg:\n",
    "    start = time.time()\n",
    "    Fibonacci(i)\n",
    "    end = time.time()\n",
    "    t[i]=end-start\n",
    "\n",
    "    \n",
    "plt.title('temps de calcul de la suite de Fibonacci, version linéaire')\n",
    "\n",
    "plt.plot(rg, t, 'bo', markersize=4)\n",
    "plt.grid()\n",
    "plt.show()    "
   ]
  },
  {
   "cell_type": "markdown",
   "metadata": {},
   "source": [
    "On peut faire (bien) mieux que linéaire, mais il va falloir faire des maths plus compliquées et **utiliser des matrices**\n",
    "\n",
    "**question 3** Calculer $\n",
    "\\begin{pmatrix}\n",
    "\tu_{1} \\\\\n",
    "\tu_{2} \\\\\n",
    "\\end{pmatrix} = \n",
    "\\begin{pmatrix}\n",
    "\t0 & 1\\\\\n",
    "\t1 & 1\\\\\n",
    "\\end{pmatrix} \n",
    "\\begin{pmatrix}\n",
    "\t0 \\\\\n",
    "\t1 \\\\\n",
    "\\end{pmatrix}  $\n",
    "\n",
    "\n",
    "Calculer maintenant $\\begin{pmatrix}\n",
    "\tu_{n} \\\\\n",
    "\tu_{n+1} \\\\\n",
    "\\end{pmatrix} =\\begin{pmatrix}\n",
    "\t0 & 1\\\\\n",
    "\t1 & 1\\\\\n",
    "\\end{pmatrix}  \\begin{pmatrix}\n",
    "\tu_{n-1} \\\\\n",
    "\tu_{n} \\\\\n",
    "\\end{pmatrix}  $\n",
    "\n",
    "En utilisant cela, `np.array`, `np.prod`, `np.linalg.matrix_power` et eventuellement d'autres fonction numpy, calculer  $F_{500}$."
   ]
  },
  {
   "cell_type": "code",
   "execution_count": null,
   "metadata": {},
   "outputs": [],
   "source": [
    "#matrice\n",
    "F=np.array([[0,1],[1,1]],dtype=object)\n",
    "\n",
    "#dtype=object prevent the computation to blow\n",
    "\n",
    "\n",
    "#TODO\n",
    "#calcul de F_25000\n"
   ]
  },
  {
   "cell_type": "markdown",
   "metadata": {},
   "source": [
    "Tracer le temps nécessaire pour calculer $F_n$ comme fonction de $n$ pour  $n\\leq 25000$\n",
    "\n",
    "On a ici un compromis : on utilise des maths plus poussées, mais la compléxité passe de linéaire ($O(n)$) à logarithmique ($O(\\ln n)$)."
   ]
  },
  {
   "cell_type": "code",
   "execution_count": null,
   "metadata": {},
   "outputs": [],
   "source": [
    "#DONE\n",
    "\n",
    "n=25000\n",
    "rg = range(0, n)\n",
    "t=[0 for i in rg]\n",
    "for i in rg:\n",
    "    start = time.time()\n",
    "    np.dot(np.linalg.matrix_power(F,i),np.array([[0],[1]]))[0]\n",
    "    end = time.time()\n",
    "    t[i]=end-start\n",
    "\n",
    "    \n",
    "\n",
    "\n",
    "\n",
    "plt.title('temps de calcul de la suite de Fibonacci, version \\'R1.07 est utile\\'')\n",
    "\n",
    "plt.plot(rg, t, 'bo', markersize=4)\n",
    "plt.grid()\n",
    "plt.show()  "
   ]
  },
  {
   "cell_type": "markdown",
   "metadata": {},
   "source": [
    "**question 4** Summarize your observations about these 3 methods."
   ]
  },
  {
   "cell_type": "markdown",
   "metadata": {},
   "source": [
    "_TODO_"
   ]
  },
  {
   "cell_type": "code",
   "execution_count": null,
   "metadata": {},
   "outputs": [],
   "source": [
    "#DONE\n",
    "\n",
    "n=35\n",
    "rg = range(0, n)\n",
    "t_n=[0 for i in rg]\n",
    "for i in rg:\n",
    "    start = time.time()\n",
    "    Fibonacci_naive(i)\n",
    "    end = time.time()\n",
    "    t_n[i]=end-start\n",
    "    \n",
    "plt.plot(rg, t_n, 'ro', markersize=4)\n",
    "\n",
    "n=500\n",
    "\n",
    "rg = range(0, n)\n",
    "t_l=[0 for i in rg]\n",
    "for i in rg:\n",
    "    start = time.time()\n",
    "    Fibonacci(i)\n",
    "    end = time.time()\n",
    "    t_l[i]=end-start\n",
    "\n",
    "plt.plot(rg, t_l, 'b+', markersize=2)\n",
    "    \n",
    "    \n",
    "n=2500\n",
    "rg = range(0, n)\n",
    "t=[0 for i in rg]\n",
    "for i in rg:\n",
    "    start = time.time()\n",
    "    np.dot(np.linalg.matrix_power(F,i),np.array([[0],[1]]))[0]\n",
    "    end = time.time()\n",
    "    t[i]=end-start\n",
    "    \n",
    "plt.plot(rg, t, 'gx', markersize=2)\n",
    "\n",
    "\n",
    "plt.grid()\n",
    "plt.show()  "
   ]
  },
  {
   "cell_type": "code",
   "execution_count": null,
   "metadata": {},
   "outputs": [],
   "source": [
    "#DONE\n",
    "\n",
    "\n",
    "n=2000\n",
    "\n",
    "rg = range(0, n)\n",
    "t_l=[0 for i in rg]\n",
    "for i in rg:\n",
    "    start = time.time()\n",
    "    Fibonacci(i)\n",
    "    end = time.time()\n",
    "    t_l[i]=end-start\n",
    "\n",
    "plt.plot(rg, t_l, 'b+', markersize=2)\n",
    "    \n",
    "    \n",
    "n=2500\n",
    "rg = range(0, n)\n",
    "t=[0 for i in rg]\n",
    "for i in rg:\n",
    "    start = time.time()\n",
    "    np.dot(np.linalg.matrix_power(F,i),np.array([[0],[1]]))[0]\n",
    "    end = time.time()\n",
    "    t[i]=end-start\n",
    "    \n",
    "plt.plot(rg, t, 'gx', markersize=2)\n",
    "\n",
    "\n",
    "plt.grid()\n",
    "plt.show()  "
   ]
  },
  {
   "cell_type": "markdown",
   "metadata": {},
   "source": [
    "**question bonus**\n",
    "Tracer (de manière classique et en échelle <tt>log</tt>) la suite $F_n$ pour $n\\leq 250$. Qu'observez vous ? Proposer une approximation de $F_n$ pour $n$ très grand.\n",
    "\n",
    "\n",
    "Pour aller (encore) plus loin, vous pouvez tracer la suite des quotients $(\\frac{F_{n+1}}{F_n})_n$\n",
    "\n",
    "_Un nombre pertinent ici est le nombre d'or $\\phi =\\frac{1+\\sqrt{5}}{2} \\approx 1,618$_"
   ]
  },
  {
   "cell_type": "code",
   "execution_count": null,
   "metadata": {},
   "outputs": [],
   "source": [
    "#TODO"
   ]
  },
  {
   "cell_type": "code",
   "execution_count": null,
   "metadata": {},
   "outputs": [],
   "source": [
    "#TODO"
   ]
  },
  {
   "cell_type": "markdown",
   "metadata": {},
   "source": [
    "### 4: Discrete time logistic map\n",
    "\n",
    "Un biologiste passant par là jette un coup d'œil sur le travail des mathématiciens, et, après un moment de choc et d'effroi, leur explique que les lapins ne peuvent pas se reproduire à l'infini<sup>[reference needed][]</sup> et sont rarement immortels  et peuvent, s'ils sont affamés car la population dépasse la quantité de ressource disponible, mourir.\n",
    "\n",
    "\n",
    "Pour améliorer le modèle, il propose de suivre [Pierre François Verhulst](https://fr.wikipedia.org/wiki/Pierre_Fran%C3%A7ois_Verhulst) et de supposer que la population ne peut en aucun cas excéder une certaine valeur, $M$\n",
    "\n",
    "On suppose également que le taux de reproduction est proportionel au nombre de lapins, mais ralenti si les ressources diminue, avec un taux de  $\\rho$\n",
    "\n",
    "On obtient la suite :\n",
    "\n",
    "$$p_{n+1} = \\rho p_{n}(M-p_{n}) $$\n",
    "\n",
    "_remarque_ au lieu d'utiliser 2 paramètres, on va poser $x_n = \\frac{p_n}{M}$ (donc$0\\leq x_n \\leq 1$ est la portion de lapins par rapport à la population maximale.\n",
    "\n",
    "Alors : \n",
    "\\begin{align*}\n",
    "\\frac{1}{M}p_{n+1} &= \\frac{\\rho}{M}( p_{n}M(1-\\frac{p_{n}}{M})) \\\\\n",
    "x_{n+1} &= {M\\rho}x_{n}(1-x_{n})\n",
    "\\end{align*}\n",
    "\n",
    "Si on pose $\\mu = M \\rho$, on trouve la version classique de la **suite logistique**\n",
    "\n",
    "$$x_{n+1} = \\mu x_{n}(1-x_{n}) $$\n",
    "\n",
    "\n",
    "[reference needed]: https://www.explainxkcd.com/wiki/index.php/285:_Wikipedian_Protester"
   ]
  },
  {
   "cell_type": "markdown",
   "metadata": {},
   "source": [
    "**question 1**  Écrire une fonction <tt>logistic</tt> qui prend en paramètre $\\mu$ et $x$, et qui retourne $\\mu x  (1 - x)$"
   ]
  },
  {
   "cell_type": "code",
   "execution_count": null,
   "metadata": {},
   "outputs": [],
   "source": [
    "#TODO\n",
    "\n",
    "\n",
    "def logistic(mu, x): \n",
    "    return -1"
   ]
  },
  {
   "cell_type": "markdown",
   "metadata": {},
   "source": [
    "**question 2** Étudierl'évolution de la population pour ce modèle, en prenant comme ratio initial $x_0 =.42$ et comme paramètre $\\mu = 1.5$"
   ]
  },
  {
   "cell_type": "code",
   "execution_count": null,
   "metadata": {},
   "outputs": [],
   "source": [
    "#DONE\n",
    "\n",
    "mu = 1.5\n",
    "y0= .42\n",
    "y=np.zeros((100))\n",
    "t = np.linspace(0, 99, 100)\n",
    "\n",
    "y[0]=y0\n",
    "for i in range(1,100):\n",
    "    y[i]=logistic(mu,y[i-1])\n",
    "    \n",
    "print(y)"
   ]
  },
  {
   "cell_type": "code",
   "execution_count": null,
   "metadata": {},
   "outputs": [],
   "source": [
    "#DONE\n",
    "\n",
    "plt.scatter(t, y, label='rabbits')\n",
    "plt.xlabel('time')\n",
    "plt.ylabel('population')\n",
    "plt.grid(linestyle=':')\n",
    "plt.legend()\n",
    "plt.show()"
   ]
  },
  {
   "cell_type": "markdown",
   "metadata": {},
   "source": [
    "**question 2 bis** Même question avec ratio initial $.1$ et paramètre $\\mu = 2.7$"
   ]
  },
  {
   "cell_type": "code",
   "execution_count": null,
   "metadata": {},
   "outputs": [],
   "source": [
    "#TODO\n"
   ]
  },
  {
   "cell_type": "markdown",
   "metadata": {},
   "source": [
    "**question 2 ter** Même question avec ratio initial $.1$ et paramètre $\\mu = 3.2$"
   ]
  },
  {
   "cell_type": "code",
   "execution_count": null,
   "metadata": {},
   "outputs": [],
   "source": [
    "#TODO\n"
   ]
  },
  {
   "cell_type": "markdown",
   "metadata": {},
   "source": [
    "### 5: Discrete time Lotka-Volterra model\n",
    "\n",
    "    \n",
    "Dans la nature, les lapin vivent dans un environnement dangereux et font face à de nombreux danger ([sauf en Australie](https://en.wikipedia.org/wiki/Rabbits_in_Australia)).\n",
    "\n",
    "Parmi ces dangers, les renards.\n",
    "\n",
    "On suppose que les lapins se reproduisent (avec un taux $\\alpha$) mais sont parfois mangés par les renards (avec un taux $\\beta$).\n",
    "\n",
    "D'un autre côté, la population de renards est aussi influencée par la population de lapins : les renards se reproduisent plus s'ils peuvent beaucoup manger (c-à-d s'il y a beaucoup de lapins) mais leur population décroit s'ils sont trop nombreux et rentrent en concurence pour la nouriture.\n",
    "\n",
    "\n",
    "En prenant cela en compte, une seconde biologiste venue à la rescousse des matheux propose d'utiliser deux suites, définies et reliées par les équations :\n",
    "\n",
    "$\\begin{cases} x_{n+1} &= (\\alpha+1)x_n -\\beta x_ny_n \\\\\n",
    "y_{n+1} &= (-\\gamma+1)y_n + \\delta x_ny_n\n",
    "\\end{cases}$\n",
    "\n",
    "\n",
    "_Historiquement, ces équations ont été proposées par Lotka (pour expliquer des réactions chimiques) et indépendamment par Volterra (pour expliquer pourquoi, après la première guerre mondiale, les stock de poissons avaient diminués alors que la pêche s'était quasiment arrêtée  pendant 4 ans)_"
   ]
  },
  {
   "cell_type": "code",
   "execution_count": null,
   "metadata": {},
   "outputs": [],
   "source": [
    "#DONE\n",
    "\n",
    "\n",
    "#pas de temps (le système est la discrétisation d'une équation continue)\n",
    "h=0.01\n",
    "\n",
    "# Parameters.\n",
    "a = 0.5*h\n",
    "b = 0.01*h\n",
    "c = 0.1*h\n",
    "d = 0.01*h\n",
    "\n",
    "t0 = 0.0       # Initial time.\n",
    "t1 = 200.0     # Final time.\n",
    "y0 = [10, 25]  # Initial population of species 0 and 1.\n",
    "\n"
   ]
  },
  {
   "cell_type": "code",
   "execution_count": null,
   "metadata": {},
   "outputs": [],
   "source": [
    "\n",
    "#DONE\n",
    "\n",
    "\n",
    "\n",
    "t = np.arange(t0, t1, h)\n",
    "\n",
    "y=np.zeros((len(t),2))\n",
    "\n",
    "y[0]=y0\n",
    "for i in range(1,len(t)):\n",
    "    xn,yn=y[i-1]\n",
    "    y[i]=[(a +1)*xn -b*xn*yn,(-c+1)*yn + d*xn*yn]\n",
    "    \n",
    "print(y)\n"
   ]
  },
  {
   "cell_type": "code",
   "execution_count": null,
   "metadata": {},
   "outputs": [],
   "source": [
    "#DONE\n",
    "\n",
    "\n",
    "plt.scatter(t, y[:, 0], label='prey')\n",
    "plt.scatter(t, y[:, 1], label='predator')\n",
    "plt.xlabel('time')\n",
    "plt.ylabel('population')\n",
    "plt.grid(linestyle=':')\n",
    "plt.legend()\n",
    "plt.show()"
   ]
  },
  {
   "cell_type": "code",
   "execution_count": null,
   "metadata": {},
   "outputs": [],
   "source": [
    "#DONE\n",
    "\n",
    "\n",
    "# Same plot, but as an animation.\n",
    "# http://louistiao.me/posts/notebooks/embedding-matplotlib-animations-in-jupyter-notebooks/\n",
    "FRAMES = 200\n",
    "\n",
    "fig, ax = plt.subplots()\n",
    "ax.grid(linestyle=':')\n",
    "ax.set_xlim((t0, t1))  # Range of x-axis.\n",
    "ax.set_ylim((0, 100))  # Range of y-axis.\n",
    "\n",
    "line0 = ax.plot([], [], lw=2)[0]\n",
    "line1 = ax.plot([], [], lw=2)[0]\n",
    "\n",
    "def init():\n",
    "    line0.set_data([], [])\n",
    "    line1.set_data([], [])\n",
    "    return [line0, line1]\n",
    "\n",
    "def animate(i):\n",
    "    # Take only first (i/FRAMES) of the total number of points.\n",
    "    k = len(t) * i // FRAMES\n",
    "    line0.set_data(t[:k], y[:k, 0])\n",
    "    line1.set_data(t[:k], y[:k, 1])\n",
    "    return [line0, line1]\n",
    "\n",
    "anim = animation.FuncAnimation(fig, animate, init_func=init,\n",
    "                               frames=FRAMES, interval=50, blit=True)\n",
    "#une fenêtre vide s'ouvre, c'est normal"
   ]
  },
  {
   "cell_type": "code",
   "execution_count": null,
   "metadata": {},
   "outputs": [],
   "source": [
    "#DONE\n",
    "\n",
    "# Creates a video.\n",
    "HTML(anim.to_html5_video())"
   ]
  },
  {
   "cell_type": "code",
   "execution_count": null,
   "metadata": {},
   "outputs": [],
   "source": []
  },
  {
   "cell_type": "code",
   "execution_count": null,
   "metadata": {},
   "outputs": [],
   "source": []
  }
 ],
 "metadata": {
  "kernelspec": {
   "display_name": "Python 3",
   "language": "python",
   "name": "python3"
  },
  "language_info": {
   "codemirror_mode": {
    "name": "ipython",
    "version": 3
   },
   "file_extension": ".py",
   "mimetype": "text/x-python",
   "name": "python",
   "nbconvert_exporter": "python",
   "pygments_lexer": "ipython3",
   "version": "3.8.10"
  }
 },
 "nbformat": 4,
 "nbformat_minor": 4
}
