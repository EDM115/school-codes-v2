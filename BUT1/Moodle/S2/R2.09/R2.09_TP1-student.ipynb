{
 "cells": [
  {
   "cell_type": "markdown",
   "metadata": {},
   "source": [
    "\n",
    "***\n",
    "\n",
    "# R2.09 \n",
    "## TP1. A warren of rabbits\n",
    "***\n",
    "***\n",
    "Le but principal de ce TP est de vous donner un aperçu de l'analyse quantitative et qualitative sur les suites ; et de s'approprier les outils que l'on utilisera tout au long du module."
   ]
  },
  {
   "cell_type": "code",
   "execution_count": 1,
   "metadata": {},
   "outputs": [],
   "source": [
    "#import divers, ne pas prendre en compte\n",
    "import math\n",
    "import numpy as np\n",
    "import matplotlib.pyplot as plt\n",
    "%matplotlib inline\n",
    "#magic\n",
    "import warnings\n",
    "warnings.filterwarnings('ignore')\n",
    "\n",
    "import time\n",
    "import random\n",
    "\n",
    "from IPython.display import HTML      # For animation\n",
    "from matplotlib import animation      # For animation\n"
   ]
  },
  {
   "cell_type": "code",
   "execution_count": 2,
   "metadata": {},
   "outputs": [],
   "source": [
    "plt.rcParams['figure.figsize'] = (10, 6)\n",
    "#see https://matplotlib.org/stable/tutorials/introductory/pyplot.html for a more complete introduction to mathplot"
   ]
  },
  {
   "cell_type": "markdown",
   "metadata": {},
   "source": [
    "# 1: 1 lapin, 2 lapins, 3 lapins ...\n",
    "\n",
    "Un mathématicien (très) naïf a entendu dire que les lapins se reproduisent. Il suppose donc que si on commence avec $a$ lapins, la population devrait augmenter.\n",
    "\n",
    "Ayant des connaissances (très) limitées en biologie, il propose de modéliser le nombre de lapins avec la suite la plus simple qu'il connaisse, la **suite arithmétique**.\n",
    "\n",
    "\n",
    "Voici une implémentation récursive de cette suite $u_0=a$ ; $u_{n+1}=u_n + r$."
   ]
  },
  {
   "cell_type": "code",
   "execution_count": 3,
   "metadata": {},
   "outputs": [
    {
     "data": {
      "text/plain": [
       "21"
      ]
     },
     "execution_count": 3,
     "metadata": {},
     "output_type": "execute_result"
    }
   ],
   "source": [
    "def arithmetic_rec(r,a,n):\n",
    "    '''\n",
    "    in: common adding r, initial term , number of iteration n\n",
    "    type: q float, r float, n int\n",
    "    return: n-th term of the arithmetic progression\n",
    "    rtype:float\n",
    "    '''\n",
    "    if n==0:\n",
    "        return a\n",
    "    else :\n",
    "        return arithmetic_rec(r,a,n-1) +r\n",
    "    \n",
    "arithmetic_rec(2,11,5)\n",
    "\n",
    "\n"
   ]
  },
  {
   "cell_type": "markdown",
   "metadata": {},
   "source": [
    "\n",
    "**question 1:** \n",
    "écrire une fonction <tt> arithmetic </tt> qui calcule $u_n$ de manière impérative (c-à-d avec une boucle).\n",
    "\n",
    "Donner une formule explicite pour $u_n$\n"
   ]
  },
  {
   "cell_type": "code",
   "execution_count": 4,
   "metadata": {},
   "outputs": [],
   "source": [
    "def arithmetic(r,a,n):\n",
    "    '''\n",
    "    in: common adding r, initial term , number of iteration n\n",
    "    type: q float, r float, n int\n",
    "    return: n-th term of the arithmetic progression\n",
    "    rtype:float\n",
    "    '''\n",
    "    return -1"
   ]
  },
  {
   "cell_type": "markdown",
   "metadata": {},
   "source": [
    "On peut maintenant tracer les $100$ premiers termes de la suite.\n",
    "\n",
    "\n",
    "\n",
    "_prendre un peu de temps pour comprendre ce tracé_\n"
   ]
  },
  {
   "cell_type": "code",
   "execution_count": 5,
   "metadata": {},
   "outputs": [
    {
     "data": {
      "image/png": "[encoded data removed]",
      "text/plain": [
       "<Figure size 720x432 with 1 Axes>"
      ]
     },
     "metadata": {
      "needs_background": "light"
     },
     "output_type": "display_data"
    }
   ],
   "source": [
    "rg = range(1, 50)\n",
    "s1 = [arithmetic_rec(0,2,n) for n in rg]\n",
    "s2 = [arithmetic_rec(-1.5,2,n) for n in rg]\n",
    "s3 = [arithmetic_rec(1.5,-2,n) for n in rg]\n",
    "s4 = [arithmetic_rec(-1.5,-2,n) for n in rg]\n",
    "\n",
    "plt.title('arithmetic rabbits')\n",
    "plt.plot(rg, s1, 'ro', markersize=4)\n",
    "plt.plot(rg, s2, 'b+', markersize=4)\n",
    "plt.plot(rg, s3, 'gx', markersize=4)\n",
    "plt.plot(rg, s4, 'yo', markersize=4)\n",
    "\n",
    "plt.show()\n",
    "\n"
   ]
  },
  {
   "cell_type": "markdown",
   "metadata": {},
   "source": [
    "**question 2** Décrire tous les comportements possibles pour $u_n$ selon les choix de $a$ et $r$. Quels choix sont pertinents ici en terme de modélisation ?\n",
    "\n"
   ]
  },
  {
   "cell_type": "markdown",
   "metadata": {},
   "source": [
    "| behaviour of $u_n$ | $r<0$ | $r=0$ | $r>0$ |\n",
    "| :- | -: | :-: |---|\n",
    "| $a<0$ |  | | \n",
    "| $a=0$ |  | | \n",
    "| $a>0$ |  | | "
   ]
  },
  {
   "cell_type": "markdown",
   "metadata": {},
   "source": [
    "# 2: 1 couple of rabbits, 2 couples of rabbits, 4 couples of rabbits\n",
    "\n",
    "\n",
    "Une mathématicienne _bien mieux informée_ (mais qui n'a clairement pas souvent vu de vrais lapin) sait que les lapins ont des lapereaux qui peuvent eux-mêmes se reproduire. Elle propose donc une autre modélisation de la croissance de la population : la **suite géométrique** $u_0=a$ ; $u_{n+1}=qu_n$.\n",
    "\n",
    "_Cette modélisation simpliste est une théorie qui a réellement été proposée au XIXème siècle par Thomas R. Malthus, qui prédisait alors une  [explosion démographique](https://en.wikipedia.org/wiki/Malthusianism) et en tirait certaines conclusions très politiques_"
   ]
  },
  {
   "cell_type": "markdown",
   "metadata": {},
   "source": [
    "Voici une implémentation récursive de cette suite, $u_0=a$ ; $u_{n+1}=qu_n$."
   ]
  },
  {
   "cell_type": "code",
   "execution_count": 6,
   "metadata": {},
   "outputs": [
    {
     "data": {
      "text/plain": [
       "352"
      ]
     },
     "execution_count": 6,
     "metadata": {},
     "output_type": "execute_result"
    }
   ],
   "source": [
    "def geometric_rec(q,a,n):\n",
    "    '''\n",
    "    in: common ratio q, scale factor a, number of iteration n\n",
    "    type: q float, a float, n int\n",
    "    return: n-th term of the geometric progression\n",
    "    rtype:float\n",
    "    '''\n",
    "    if n==0:\n",
    "        return a\n",
    "    else :\n",
    "        return q*geometric_rec(q,a,n-1)\n",
    "    \n",
    "geometric_rec(2,11,5)"
   ]
  },
  {
   "cell_type": "markdown",
   "metadata": {},
   "source": [
    "\n",
    "**question 1:** Écrire une fonction <tt>geometric</tt> qui calcule $u_n$ de manière impérative (c-à-d avec une boucle).\n",
    "\n",
    "Donner une formule explicite pour $u_n$"
   ]
  },
  {
   "cell_type": "code",
   "execution_count": 7,
   "metadata": {},
   "outputs": [],
   "source": [
    "def geometric(q,a,n):\n",
    "    '''\n",
    "    in: common ratio q, scale factor a, number of iteration n\n",
    "    type: q float, a float, n int\n",
    "    return: n-th term of the geometric progression\n",
    "    rtype:float\n",
    "    '''\n",
    "    return -1\n"
   ]
  },
  {
   "cell_type": "markdown",
   "metadata": {},
   "source": [
    "On peut maintenant tracer les $100$ premiers termes de la suite.\n",
    "\n",
    "Dans ce genre de situation, comme $u_n$ augmente très rapidement, il peut-être intéressant de tracer $\\log u_n$. On parle _d'échelle logarithmique_.\n",
    "\n",
    "Quelles sont vos observations ?\n",
    "\n"
   ]
  },
  {
   "cell_type": "code",
   "execution_count": 8,
   "metadata": {},
   "outputs": [
    {
     "data": {
      "image/png": "[encoded data removed]",
      "text/plain": [
       "<Figure size 720x432 with 1 Axes>"
      ]
     },
     "metadata": {
      "needs_background": "light"
     },
     "output_type": "display_data"
    },
    {
     "data": {
      "image/png": "[encoded data removed]",
      "text/plain": [
       "<Figure size 720x432 with 1 Axes>"
      ]
     },
     "metadata": {
      "needs_background": "light"
     },
     "output_type": "display_data"
    }
   ],
   "source": [
    "rg = range(1, 20)\n",
    "s1 = [geometric_rec(-2,1,n) for n in rg]\n",
    "plt.title('geometric rabbits usual')\n",
    "plt.plot(rg, s1, 'rx', markersize=4)\n",
    "plt.show()\n",
    "\n",
    "\n",
    "plt.title('geometric rabbits log')\n",
    "plt.yscale('log')\n",
    "plt.plot(rg, s1, 'b+', markersize=4)\n",
    "plt.show()\n"
   ]
  },
  {
   "cell_type": "markdown",
   "metadata": {},
   "source": [
    "**question 2**  Décrire tous les comportements possibles pour $u_n$ selon les choix de $a$ et $r$. Quels choix sont pertinents ici en terme de modélisation ?\n"
   ]
  },
  {
   "cell_type": "markdown",
   "metadata": {},
   "source": [
    "| behaviour of $u_n$ | $q<0$ | $q=0$ | $q>0$ |\n",
    "| :- | -: | :-: |---|\n",
    "| $a<0$ |  | |\n",
    "| $a=0$ |  | |\n",
    "| $a>0$ |  | |"
   ]
  },
  {
   "cell_type": "markdown",
   "metadata": {},
   "source": [
    "**question 3** Comparer les croissances des populations selon le choix de modélisation pour des choix raisonnables de paramètres (si le temps le permet, tracer par exemple le ratio)"
   ]
  },
  {
   "cell_type": "markdown",
   "metadata": {},
   "source": []
  },
  {
   "cell_type": "markdown",
   "metadata": {},
   "source": [
    "# 3: 1 couple of  rabbits, 1 couple of rabbits and 1 couples kittens, 2 couples of rabbits and 1 couple of kittens, 3 couples of rabbits and 2 couples of kittens ... the Fibonacci sequence"
   ]
  },
  {
   "cell_type": "markdown",
   "metadata": {},
   "source": [
    "[Leonardo Fibonacci](https://fr.wikipedia.org/wiki/Leonardo_Fibonacci), qui a probablement réellement vu des lapins<sup>[reference needed][]</sup> savait que les jeunes lapins ne peuvent pas se reproduire la première année, il suggéra donc que le nombre de lapins l'année  $n+1$ devrait être le nombre de lapins à l'année  $n$ plus le nombre de lapins adultes, c-à-d le nombre de lapins l'année $n-1$. \n",
    "\n",
    "[reference needed]: https://en.wikipedia.org/wiki/Wikipedia:Citation_needed\n",
    "\n"
   ]
  },
  {
   "cell_type": "markdown",
   "metadata": {},
   "source": [
    "On rappelle que la suite de Fibonacci est définie par $F_0=0 , =F_1=1$ et $F_{n+2} = F_{n+1} + F_n$\n",
    "\n",
    "\n",
    "\n",
    "## Comparaison d'algorithmes\n",
    "\n",
    "**Le but de cette partie va être de comparer l'efficacité en temps (c'est-à-dire la complexité algorithmique) de plusieurs implémentations de la suite de Fibonacci**\n",
    "\n",
    "**question 1** écrire une fonction (naïve) `Fibonacci` qui calcule $F_n$.\n",
    "Jusqu'où pouvez vous aller en moins de 30 secondes ?\n",
    "\n"
   ]
  },
  {
   "cell_type": "code",
   "execution_count": 9,
   "metadata": {},
   "outputs": [
    {
     "name": "stdout",
     "output_type": "stream",
     "text": [
      "3.154189109802246\n",
      "0\n",
      "1\n",
      "1\n",
      "2\n",
      "3\n",
      "5\n",
      "8\n",
      "13\n",
      "21\n",
      "34\n"
     ]
    }
   ],
   "source": [
    "def Fibonacci_naive(n):\n",
    "\n",
    "    return -1\n",
    "\n",
    "\n",
    "start = time.time()\n",
    "Fibonacci_naive(35)\n",
    "end = time.time()\n",
    "\n",
    "print(end - start)\n",
    "\n",
    "for i in range(10):\n",
    "    print(Fibonacci_naive(i))"
   ]
  },
  {
   "cell_type": "markdown",
   "metadata": {},
   "source": [
    "On se propose de tracer le temps nécessaire pour calculer $F_n$ comme fonction de $n$ pour  $n\\leq 35$\n"
   ]
  },
  {
   "cell_type": "code",
   "execution_count": 10,
   "metadata": {},
   "outputs": [
    {
     "data": {
      "image/png": "[encoded data removed]",
      "text/plain": [
       "<Figure size 720x432 with 1 Axes>"
      ]
     },
     "metadata": {
      "needs_background": "light"
     },
     "output_type": "display_data"
    }
   ],
   "source": [
    "n=35\n",
    "rg = range(0, n)\n",
    "t=[0 for i in rg]\n",
    "for i in rg:\n",
    "    start = time.time()\n",
    "    Fibonacci_naive(i)\n",
    "    end = time.time()\n",
    "    t[i]=end-start\n",
    "\n",
    "plt.title('temps de calcul de la suite de Fibonacci, version naive')\n",
    "\n",
    "plt.plot(rg, t, 'ro', markersize=4)\n",
    "plt.grid()\n",
    "plt.show()"
   ]
  },
  {
   "cell_type": "markdown",
   "metadata": {},
   "source": [
    "La version naïve de calcul de Fibonacci s'appelle 2 fois recursivement à chaque passe. Le temps de calcul est donc exponentiel.\n",
    "\n",
    "On va chercher à optimiser cela.\n",
    "\n",
    "**question 2:** écrire une fonction _de complexité linéaire (une boucle ou un appel recursif par passe)_ <tt> fibonacci(n,a,b)</tt>  qui renvoie $[F_{n-1},F_{n}]$ pour l'appel `fibonacci(n,0,1)`\n",
    "\n",
    "\n",
    "Calculer $F_{500}$ et tracer le temps nécessaire pour calculer $F_n$ comme fonction de $n$ pour  $n\\leq 250$\n"
   ]
  },
  {
   "cell_type": "code",
   "execution_count": 12,
   "metadata": {},
   "outputs": [
    {
     "name": "stdout",
     "output_type": "stream",
     "text": [
      "113796925398360272257523782552224175572745930353730513145086634176691092536145985470146129334641866902783673042322088625863396052888690096969577173696370562180400527049497109023054114771394568040040412172632376\n",
      "70330367711422815821835254877183549770181269836358732742604905087154537118196933579742249494562611733487750449241765991088186363265450223647106012053374121273867339111198139373125598767690091902245245323403501\n",
      "[1, 1]\n",
      "[1, 2]\n",
      "[2, 3]\n",
      "[3, 5]\n",
      "[5, 8]\n"
     ]
    },
    {
     "data": {
      "image/png": "[encoded data removed]",
      "text/plain": [
       "<Figure size 720x432 with 1 Axes>"
      ]
     },
     "metadata": {
      "needs_background": "light"
     },
     "output_type": "display_data"
    }
   ],
   "source": [
    "def Fibonacci(n,a,b):\n",
    "    return -1\n",
    "print(Fibonacci(1000,1,1)[1])   \n",
    "print(Fibonacci(1000,0,1)[1])   \n",
    "\n",
    "\n",
    "for i in range(5):\n",
    "    print(Fibonacci(i,1,1))\n",
    "n=250\n",
    "\n",
    "rg = range(0, n)\n",
    "t=[0 for i in rg]\n",
    "for i in rg:\n",
    "    start = time.time()\n",
    "    Fibonacci(i,0,1)\n",
    "    end = time.time()\n",
    "    t[i]=end-start\n",
    "\n",
    "    \n",
    "plt.title('temps de calcul de la suite de Fibonacci, version linéaire')\n",
    "\n",
    "plt.plot(rg, t, 'bo', markersize=4)\n",
    "plt.grid()\n",
    "plt.show()    "
   ]
  },
  {
   "cell_type": "markdown",
   "metadata": {},
   "source": [
    "On peut faire (bien) mieux que linéaire, mais il va falloir faire des maths plus compliquées et **utiliser des matrices**\n",
    "\n",
    "**question 3** Calculer $\n",
    "\\begin{pmatrix}\n",
    "\tu_{1} \\\\\n",
    "\tu_{2} \\\\\n",
    "\\end{pmatrix} = \n",
    "\\begin{pmatrix}\n",
    "\t0 & 1\\\\\n",
    "\t1 & 1\\\\\n",
    "\\end{pmatrix} \n",
    "\\begin{pmatrix}\n",
    "\t0 \\\\\n",
    "\t1 \\\\\n",
    "\\end{pmatrix}  $\n",
    "\n",
    "\n",
    "Calculer maintenant $\\begin{pmatrix}\n",
    "\tu_{n} \\\\\n",
    "\tu_{n+1} \\\\\n",
    "\\end{pmatrix} =\\begin{pmatrix}\n",
    "\t0 & 1\\\\\n",
    "\t1 & 1\\\\\n",
    "\\end{pmatrix}  \\begin{pmatrix}\n",
    "\tu_{n-1} \\\\\n",
    "\tu_{n} \\\\\n",
    "\\end{pmatrix}  $\n",
    "\n",
    "En utilisant cela, `np.array`, `np.prod`, `np.linalg.matrix_power` et eventuellement d'autres fonction numpy, calculer  $F_{500}$."
   ]
  },
  {
   "cell_type": "code",
   "execution_count": 13,
   "metadata": {},
   "outputs": [
    {
     "data": {
      "text/plain": [
       "array([70330367711422815821835254877183549770181269836358732742604905087154537118196933579742249494562611733487750449241765991088186363265450223647106012053374121273867339111198139373125598767690091902245245323403501],\n",
       "      dtype=object)"
      ]
     },
     "execution_count": 13,
     "metadata": {},
     "output_type": "execute_result"
    }
   ],
   "source": [
    "F=np.array([[0,1],[1,1]],dtype=object)\n",
    "#dtype=object prevent the computation to blow\n"
   ]
  },
  {
   "cell_type": "markdown",
   "metadata": {},
   "source": [
    "Tracer le temps nécessaire pour calculer $F_n$ comme fonction de $n$ pour  $n\\leq 25000$\n",
    "\n",
    "On a ici un compromis : on utilise des maths plus poussées, mais la compléxité passe de linéaire ($O(n)$) à logarithmique ($O(\\ln n)$)."
   ]
  },
  {
   "cell_type": "code",
   "execution_count": 15,
   "metadata": {},
   "outputs": [
    {
     "data": {
      "image/png": "[encoded data removed]",
      "text/plain": [
       "<Figure size 720x432 with 1 Axes>"
      ]
     },
     "metadata": {
      "needs_background": "light"
     },
     "output_type": "display_data"
    }
   ],
   "source": [
    "n=25000\n",
    "rg = range(0, n)\n",
    "t=[0 for i in rg]\n",
    "\n",
    "\n",
    "    \n",
    "\n",
    "\n",
    "\n",
    "plt.title('temps de calcul de la suite de Fibonacci, version R1.07 est utile')\n",
    "\n",
    "plt.plot(rg, t, 'bo', markersize=4)\n",
    "plt.grid()\n",
    "plt.show()  "
   ]
  },
  {
   "cell_type": "markdown",
   "metadata": {},
   "source": [
    "**question 4** Summarize your observations about these 3 methods."
   ]
  },
  {
   "cell_type": "markdown",
   "metadata": {},
   "source": [
    "_TODO_"
   ]
  },
  {
   "cell_type": "code",
   "execution_count": 16,
   "metadata": {},
   "outputs": [
    {
     "data": {
      "image/png": "[encoded data removed]",
      "text/plain": [
       "<Figure size 720x432 with 1 Axes>"
      ]
     },
     "metadata": {
      "needs_background": "light"
     },
     "output_type": "display_data"
    }
   ],
   "source": [
    "n=35\n",
    "rg = range(0, n)\n",
    "t_n=[0 for i in rg]\n",
    "for i in rg:\n",
    "    start = time.time()\n",
    "    Fibonacci_naive(i)\n",
    "    end = time.time()\n",
    "    t_n[i]=end-start\n",
    "    \n",
    "plt.plot(rg, t_n, 'ro', markersize=4)\n",
    "\n",
    "n=500\n",
    "\n",
    "rg = range(0, n)\n",
    "t_l=[0 for i in rg]\n",
    "for i in rg:\n",
    "    start = time.time()\n",
    "    Fibonacci(i,0,1)\n",
    "    end = time.time()\n",
    "    t_l[i]=end-start\n",
    "\n",
    "plt.plot(rg, t_l, 'b+', markersize=2)\n",
    "    \n",
    "    \n",
    "n=2500\n",
    "rg = range(0, n)\n",
    "t=[0 for i in rg]\n",
    "for i in rg:\n",
    "    start = time.time()\n",
    "    np.dot(np.linalg.matrix_power(F,i),np.array([[0],[1]]))[0]\n",
    "    end = time.time()\n",
    "    t[i]=end-start\n",
    "    \n",
    "plt.plot(rg, t, 'gx', markersize=2)\n",
    "\n",
    "\n",
    "plt.grid()\n",
    "plt.show()  "
   ]
  },
  {
   "cell_type": "code",
   "execution_count": 17,
   "metadata": {},
   "outputs": [
    {
     "data": {
      "image/png": "[encoded data removed]",
      "text/plain": [
       "<Figure size 720x432 with 1 Axes>"
      ]
     },
     "metadata": {
      "needs_background": "light"
     },
     "output_type": "display_data"
    }
   ],
   "source": [
    "n=2000\n",
    "\n",
    "rg = range(0, n)\n",
    "t_l=[0 for i in rg]\n",
    "for i in rg:\n",
    "    start = time.time()\n",
    "    Fibonacci(i,0,1)\n",
    "    end = time.time()\n",
    "    t_l[i]=end-start\n",
    "\n",
    "plt.plot(rg, t_l, 'b+', markersize=2)\n",
    "    \n",
    "    \n",
    "n=2500\n",
    "rg = range(0, n)\n",
    "t=[0 for i in rg]\n",
    "for i in rg:\n",
    "    start = time.time()\n",
    "    np.dot(np.linalg.matrix_power(F,i),np.array([[0],[1]]))[0]\n",
    "    end = time.time()\n",
    "    t[i]=end-start\n",
    "    \n",
    "plt.plot(rg, t, 'gx', markersize=2)\n",
    "\n",
    "\n",
    "plt.grid()\n",
    "plt.show()  "
   ]
  },
  {
   "cell_type": "markdown",
   "metadata": {},
   "source": [
    "**question bonus**  _Estimation de la croissance de la suite de Fibonacci_\n",
    "Tracer (de manière classique et en échelle <tt>log</tt>) la suite $F_n$ pour $n\\leq 250$. Qu'observez vous ? Proposer une approximation de $F_n$ pour $n$ très grand.\n",
    "\n",
    "\n",
    "Pour aller (encore) plus loin, vous pouvez tracer la suite des quotients $(\\frac{F_{n+1}}{F_n})_n$\n",
    "\n",
    "_Un nombre pertinent ici est le nombre d'or $\\phi =\\frac{1+\\sqrt{5}}{2} \\approx 1,618$_"
   ]
  },
  {
   "cell_type": "code",
   "execution_count": 18,
   "metadata": {},
   "outputs": [
    {
     "data": {
      "image/png": "[encoded data removed]",
      "text/plain": [
       "<Figure size 720x432 with 1 Axes>"
      ]
     },
     "metadata": {
      "needs_background": "light"
     },
     "output_type": "display_data"
    }
   ],
   "source": [
    "n=250\n",
    "rg = range(1, n)\n",
    "s1 = [np.dot(np.linalg.matrix_power(F,n),np.array([[0],[1]]))[0] for n in rg]\n",
    "\n",
    "\n",
    "# Setting a logarithmic scale for y-axis\n",
    "plt.plot(rg, s1, 'ro', markersize=4)\n",
    "\n",
    "\n",
    "plt.yscale('log')\n",
    "plt.title('log')\n",
    "plt.grid(True)"
   ]
  },
  {
   "cell_type": "code",
   "execution_count": 17,
   "metadata": {},
   "outputs": [
    {
     "data": {
      "image/png": "[encoded data removed]",
      "text/plain": [
       "<Figure size 720x432 with 1 Axes>"
      ]
     },
     "metadata": {
      "needs_background": "light"
     },
     "output_type": "display_data"
    }
   ],
   "source": [
    "n=250\n",
    "rg = range(1, n)\n",
    "q1 = [np.dot(np.linalg.matrix_power(F,n+1),np.array([[0],[1]]))[0] / np.dot(np.linalg.matrix_power(F,n),np.array([[0],[1]]))[0]  for n in rg]\n",
    "\n",
    "# Setting a logarithmic scale for y-axis\n",
    "plt.plot(rg, q1, 'ro', markersize=4)\n",
    "\n",
    "plt.title('Quotients')\n",
    "plt.grid(True)"
   ]
  },
  {
   "cell_type": "markdown",
   "metadata": {},
   "source": [
    "### Bonus : encore plus de modèles : Discrete time logistic map\n",
    "\n",
    "Un biologiste passant par là jette un coup d'œil sur le travail des mathématiciens, et, après un moment de choc et d'effroi, leur explique que les lapins ne peuvent pas se reproduire à l'infini<sup>[reference needed][]</sup> et sont rarement immortels  et peuvent, s'ils sont affamés car la population dépasse la quantité de ressource disponible, mourir.\n",
    "\n",
    "\n",
    "Pour améliorer le modèle, il propose de suivre [Pierre François Verhulst](https://fr.wikipedia.org/wiki/Pierre_Fran%C3%A7ois_Verhulst) et de supposer que la population ne peut en aucun cas excéder une certaine valeur, $M$\n",
    "\n",
    "On suppose également que le taux de reproduction est proportionel au nombre de lapins, mais ralenti si les ressources diminue, avec un taux de  $\\rho$\n",
    "\n",
    "On obtient la suite :\n",
    "\n",
    "$$p_{n+1} = \\rho p_{n}(M-p_{n}) $$\n",
    "\n",
    "_remarque_ au lieu d'utiliser 2 paramètres, on va poser $x_n = \\frac{p_n}{M}$ (donc$0\\leq x_n \\leq 1$ est la portion de lapins par rapport à la population maximale.\n",
    "\n",
    "Alors : \n",
    "\\begin{align*}\n",
    "\\frac{1}{M}p_{n+1} &= \\frac{\\rho}{M}( p_{n}M(1-\\frac{p_{n}}{M})) \\\\\n",
    "x_{n+1} &= {M\\rho}x_{n}(1-x_{n})\n",
    "\\end{align*}\n",
    "\n",
    "Si on pose $\\mu = M \\rho$, on trouve la version classique de la **suite logistique**\n",
    "\n",
    "$$x_{n+1} = \\mu x_{n}(1-x_{n}) $$\n",
    "\n",
    "\n",
    "[reference needed]: https://www.explainxkcd.com/wiki/index.php/285:_Wikipedian_Protester"
   ]
  },
  {
   "cell_type": "markdown",
   "metadata": {},
   "source": [
    "**question 1**  Écrire une fonction <tt>logistic</tt> qui prend en paramètre $\\mu$ et $x$, et qui retourne $\\mu x  (1 - x)$"
   ]
  },
  {
   "cell_type": "code",
   "execution_count": 20,
   "metadata": {},
   "outputs": [],
   "source": [
    "#https://www.imo.universite-paris-saclay.fr/~perrin/Conferences/logistiqueDP.pdf\n",
    "#https://www.imo.universite-paris-saclay.fr/~perrin/Conferences/logistiqueDP2.pdf\n",
    "\n",
    "def logistic(mu, x): \n",
    "    return  -1"
   ]
  },
  {
   "cell_type": "markdown",
   "metadata": {},
   "source": [
    "**question 2** Étudierl'évolution de la population pour ce modèle, en prenant comme ratio initial $x_0 =.42$ et comme paramètre $\\mu = 1.5$"
   ]
  },
  {
   "cell_type": "code",
   "execution_count": 21,
   "metadata": {},
   "outputs": [
    {
     "name": "stdout",
     "output_type": "stream",
     "text": [
      "[0.42       0.3654     0.34782426 0.34026382 0.33672653 0.33501266\n",
      " 0.33416877 0.33375    0.33354141 0.33343731 0.3333853  0.33335931\n",
      " 0.33334632 0.33333983 0.33333658 0.33333496 0.33333415 0.33333374\n",
      " 0.33333354 0.33333343 0.33333338 0.33333336 0.33333335 0.33333334\n",
      " 0.33333334 0.33333333 0.33333333 0.33333333 0.33333333 0.33333333\n",
      " 0.33333333 0.33333333 0.33333333 0.33333333 0.33333333 0.33333333\n",
      " 0.33333333 0.33333333 0.33333333 0.33333333 0.33333333 0.33333333\n",
      " 0.33333333 0.33333333 0.33333333 0.33333333 0.33333333 0.33333333\n",
      " 0.33333333 0.33333333 0.33333333 0.33333333 0.33333333 0.33333333\n",
      " 0.33333333 0.33333333 0.33333333 0.33333333 0.33333333 0.33333333\n",
      " 0.33333333 0.33333333 0.33333333 0.33333333 0.33333333 0.33333333\n",
      " 0.33333333 0.33333333 0.33333333 0.33333333 0.33333333 0.33333333\n",
      " 0.33333333 0.33333333 0.33333333 0.33333333 0.33333333 0.33333333\n",
      " 0.33333333 0.33333333 0.33333333 0.33333333 0.33333333 0.33333333\n",
      " 0.33333333 0.33333333 0.33333333 0.33333333 0.33333333 0.33333333\n",
      " 0.33333333 0.33333333 0.33333333 0.33333333 0.33333333 0.33333333\n",
      " 0.33333333 0.33333333 0.33333333 0.33333333]\n"
     ]
    }
   ],
   "source": [
    "mu = 1.5\n",
    "y0= .42\n",
    "y=np.zeros((100))\n",
    "t = np.linspace(0, 99, 100)\n",
    "\n"
   ]
  },
  {
   "cell_type": "code",
   "execution_count": 23,
   "metadata": {},
   "outputs": [
    {
     "data": {
      "image/png": "[encoded data removed]",
      "text/plain": [
       "<Figure size 720x432 with 1 Axes>"
      ]
     },
     "metadata": {
      "needs_background": "light"
     },
     "output_type": "display_data"
    }
   ],
   "source": [
    "plt.scatter(t, y, label='rabbits')\n",
    "plt.xlabel('time')\n",
    "plt.ylabel('population')\n",
    "plt.grid(linestyle=':')\n",
    "plt.legend()\n",
    "plt.show()"
   ]
  },
  {
   "cell_type": "markdown",
   "metadata": {},
   "source": [
    "**question 2 bis** Même question avec ratio initial $.1$ et paramètre $\\mu = 2.7$"
   ]
  },
  {
   "cell_type": "code",
   "execution_count": 22,
   "metadata": {},
   "outputs": [
    {
     "data": {
      "image/png": "[encoded data removed]",
      "text/plain": [
       "<Figure size 720x432 with 1 Axes>"
      ]
     },
     "metadata": {
      "needs_background": "light"
     },
     "output_type": "display_data"
    }
   ],
   "source": [
    "mu = 2.7\n",
    "y0= .1\n",
    "y=np.zeros((100))\n",
    "t = np.linspace(0, 99, 100)\n",
    "\n",
    "\n",
    "\n",
    "    \n",
    "plt.scatter(t,y, label='rabbits')\n",
    "plt.xlabel('time')\n",
    "plt.ylabel('population')\n",
    "plt.grid(linestyle=':')\n",
    "plt.legend()\n",
    "plt.show()"
   ]
  },
  {
   "cell_type": "markdown",
   "metadata": {},
   "source": [
    "**question 2 ter** Même question avec ratio initial $.1$ et paramètre $\\mu = 3.2$"
   ]
  },
  {
   "cell_type": "code",
   "execution_count": 25,
   "metadata": {},
   "outputs": [
    {
     "data": {
      "image/png": "[encoded data removed]",
      "text/plain": [
       "<Figure size 720x432 with 1 Axes>"
      ]
     },
     "metadata": {
      "needs_background": "light"
     },
     "output_type": "display_data"
    }
   ],
   "source": [
    "mu = 3.2\n",
    "y0= .1\n",
    "y=np.zeros((100))\n",
    "t = np.linspace(0, 99, 100)\n",
    "\n",
    "\n",
    "\n",
    "    \n",
    "plt.scatter(t,y, label='rabbits')\n",
    "plt.xlabel('time')\n",
    "plt.ylabel('population')\n",
    "plt.grid(linestyle=':')\n",
    "plt.legend()\n",
    "plt.show()"
   ]
  },
  {
   "cell_type": "markdown",
   "metadata": {},
   "source": [
    "### Bonus YAPoMo: yet another population model : Discrete time Lotka-Volterra model\n",
    "\n",
    "    \n",
    "Dans la nature, les lapin vivent dans un environnement dangereux et font face à de nombreux danger ([sauf en Australie](https://en.wikipedia.org/wiki/Rabbits_in_Australia)).\n",
    "\n",
    "Parmi ces dangers, les renards.\n",
    "\n",
    "On suppose que les lapins se reproduisent (avec un taux $\\alpha$) mais sont parfois mangés par les renards (avec un taux $\\beta$).\n",
    "\n",
    "D'un autre côté, la population de renards est aussi influencée par la population de lapins : les renards se reproduisent plus s'ils peuvent beaucoup manger (c-à-d s'il y a beaucoup de lapins) mais leur population décroit s'ils sont trop nombreux et rentrent en concurence pour la nouriture.\n",
    "\n",
    "\n",
    "En prenant cela en compte, une seconde biologiste venue à la rescousse des matheux propose d'utiliser deux suites, définies et reliées par les équations :\n",
    "\n",
    "$\\begin{cases} x_{n+1} &= (\\alpha+1)x_n -\\beta x_ny_n \\\\\n",
    "y_{n+1} &= (-\\gamma+1)y_n + \\delta x_ny_n\n",
    "\\end{cases}$\n",
    "\n",
    "\n",
    "_Historiquement, ces équations ont été proposées par Lotka (pour expliquer des réactions chimiques) et indépendamment par Volterra (pour expliquer pourquoi, après la première guerre mondiale, les stock de poissons avaient diminués alors que la pêche s'était quasiment arrêtée  pendant 4 ans)_"
   ]
  },
  {
   "cell_type": "code",
   "execution_count": 23,
   "metadata": {},
   "outputs": [],
   "source": [
    "#https://webusers.imj-prg.fr/~pierre-antoine.guiheneuf/Fichiers/LotkaDiscret.pdf\n",
    "\n",
    "\n",
    "#pas de temps (le système est la discrétisation d'une équation continue)\n",
    "h=0.01\n",
    "\n",
    "# Parameters.\n",
    "a = 0.5*h\n",
    "b = 0.01*h\n",
    "c = 0.1*h\n",
    "d = 0.01*h\n",
    "\n",
    "t0 = 0.0       # Initial time.\n",
    "t1 = 200.0     # Final time.\n",
    "y0 = [10, 25]  # Initial population of species 0 and 1.\n",
    "\n"
   ]
  },
  {
   "cell_type": "code",
   "execution_count": 24,
   "metadata": {},
   "outputs": [
    {
     "name": "stdout",
     "output_type": "stream",
     "text": [
      "[[10.         25.        ]\n",
      " [10.025      25.        ]\n",
      " [10.0500625  25.0000625 ]\n",
      " ...\n",
      " [ 3.42409256 80.04602282]\n",
      " [ 3.41380453 79.99338529]\n",
      " [ 3.40356537 79.94070009]]\n"
     ]
    }
   ],
   "source": [
    "t = np.arange(t0, t1, h)\n",
    "\n",
    "\n",
    "y=np.zeros((len(t),2))\n",
    "\n",
    "y[0]=y0\n",
    "\n"
   ]
  },
  {
   "cell_type": "code",
   "execution_count": 25,
   "metadata": {},
   "outputs": [
    {
     "data": {
      "image/png": "[encoded data removed]",
      "text/plain": [
       "<Figure size 720x432 with 1 Axes>"
      ]
     },
     "metadata": {
      "needs_background": "light"
     },
     "output_type": "display_data"
    }
   ],
   "source": [
    "plt.scatter(t, y[:, 0], label='prey')\n",
    "plt.scatter(t, y[:, 1], label='predator')\n",
    "plt.xlabel('time')\n",
    "plt.ylabel('population')\n",
    "plt.grid(linestyle=':')\n",
    "plt.legend()\n",
    "plt.show()"
   ]
  },
  {
   "cell_type": "code",
   "execution_count": 26,
   "metadata": {},
   "outputs": [
    {
     "data": {
      "image/png": "[encoded data removed]",
      "text/plain": [
       "<Figure size 720x432 with 1 Axes>"
      ]
     },
     "metadata": {
      "needs_background": "light"
     },
     "output_type": "display_data"
    }
   ],
   "source": [
    "# Same plot, but as an animation.\n",
    "# http://louistiao.me/posts/notebooks/embedding-matplotlib-animations-in-jupyter-notebooks/\n",
    "FRAMES = 200\n",
    "\n",
    "fig, ax = plt.subplots()\n",
    "ax.grid(linestyle=':')\n",
    "ax.set_xlim((t0, t1))  # Range of x-axis.\n",
    "ax.set_ylim((0, 100))  # Range of y-axis.\n",
    "\n",
    "line0 = ax.plot([], [], lw=2)[0]\n",
    "line1 = ax.plot([], [], lw=2)[0]\n",
    "\n",
    "def init():\n",
    "    line0.set_data([], [])\n",
    "    line1.set_data([], [])\n",
    "    return [line0, line1]\n",
    "\n",
    "def animate(i):\n",
    "    # Take only first (i/FRAMES) of the total number of points.\n",
    "    k = len(t) * i // FRAMES\n",
    "    line0.set_data(t[:k], y[:k, 0])\n",
    "    line1.set_data(t[:k], y[:k, 1])\n",
    "    return [line0, line1]\n",
    "\n",
    "anim = animation.FuncAnimation(fig, animate, init_func=init,\n",
    "                               frames=FRAMES, interval=50, blit=True)\n",
    "#une fenêtre vide s'ouvre, c'est normal"
   ]
  },
  {
   "cell_type": "code",
   "execution_count": 27,
   "metadata": {},
   "outputs": [
    {
     "data": {
      "text/html": [
       "<video width=\"720\" height=\"432\" controls autoplay loop>\n",
       "  <source type=\"video/mp4\" src=\"data:video/mp4;base64,AAAAHGZ0eXBNNFYgAAACAGlzb21pc28yYXZjMQAAAAhmcmVlAACyL21kYXQAAAKuBgX//6rcRem9\n",
       "5tlIt5Ys2CDZI+7veDI2NCAtIGNvcmUgMTU1IHIyOTE3IDBhODRkOTggLSBILjI2NC9NUEVHLTQg\n",
       "QVZDIGNvZGVjIC0gQ29weWxlZnQgMjAwMy0yMDE4IC0gaHR0cDovL3d3dy52aWRlb2xhbi5vcmcv\n",
       "eDI2NC5odG1sIC0gb3B0aW9uczogY2FiYWM9MSByZWY9MyBkZWJsb2NrPTE6MDowIGFuYWx5c2U9\n",
       "MHgzOjB4MTEzIG1lPWhleCBzdWJtZT03IHBzeT0xIHBzeV9yZD0xLjAwOjAuMDAgbWl4ZWRfcmVm\n",
       "PTEgbWVfcmFuZ2U9MTYgY2hyb21hX21lPTEgdHJlbGxpcz0xIDh4OGRjdD0xIGNxbT0wIGRlYWR6\n",
       "b25lPTIxLDExIGZhc3RfcHNraXA9MSBjaHJvbWFfcXBfb2Zmc2V0PS0yIHRocmVhZHM9NiBsb29r\n",
       "YWhlYWRfdGhyZWFkcz0xIHNsaWNlZF90aHJlYWRzPTAgbnI9MCBkZWNpbWF0ZT0xIGludGVybGFj\n",
       "ZWQ9MCBibHVyYXlfY29tcGF0PTAgY29uc3RyYWluZWRfaW50cmE9MCBiZnJhbWVzPTMgYl9weXJh\n",
       "bWlkPTIgYl9hZGFwdD0xIGJfYmlhcz0wIGRpcmVjdD0xIHdlaWdodGI9MSBvcGVuX2dvcD0wIHdl\n",
       "aWdodHA9MiBrZXlpbnQ9MjUwIGtleWludF9taW49MjAgc2NlbmVjdXQ9NDAgaW50cmFfcmVmcmVz\n",
       "aD0wIHJjX2xvb2thaGVhZD00MCByYz1jcmYgbWJ0cmVlPTEgY3JmPTIzLjAgcWNvbXA9MC42MCBx\n",
       "cG1pbj0wIHFwbWF4PTY5IHFwc3RlcD00IGlwX3JhdGlvPTEuNDAgYXE9MToxLjAwAIAAACPTZYiE\n",
       "AD///vdonwKbWkN6gOSVxSXbT4H/q2dwfI/pAwAAAwAAAwAAAwAj/AuQLzeVYYFgAAADADPgCY76\n",
       "Eb//gAMsIxQlnJAzFi6WuylKu8SCIhtTxt854z6dujVdk/d2RwxiizsiRwxLi8Neh6IyEPytlOzm\n",
       "a6G6BMWia7TrDBRHOQsJ2IJCFRaBSTEwkX2eF4DkFwgyEsHjxJ27dIiq/uB1iWXMNrqgeRnTIOHk\n",
       "euvBOx/Y8K2S1qprgZLpPV6OYj5xqkhqtfr8RfDgDYyfv9CaED5M0BeuCbhDo7AcPbMOSIeA4mSN\n",
       "Kgv//6zNz+UY5/U7eAxcd+K39V4Lj3Z6eRlqXVFBUYAdBHiAxtYufql2BL//2WSqcCWulpZAKBer\n",
       "RvwwwY/+Dd6FQv/8/PRO4bHTwi90Z8wmVYF6zryNgKoOcgt8seC7EcxGm3KVyFgMFlerP00E/fxs\n",
       "GgPi/HNes/7+ZFjJ8YQGd49NwyLlE5cCRGQxjKa5mp54s6GvFp+fSWSP9Johb+gNLMxU1uHQB4Tp\n",
       "Pjl1YozV/I45Bk13Hs/wVOgQTl83GyrdLcN91JiT5/36ePRiUE9XuRJ/B8DfG+ZNmuf/Itf3fBBB\n",
       "a6LPDPX2DaErf9Jo0yDgql/DWNtWp+5ctHksHEyUmP2RYKJLYGOYIMiUBVD0532zHO7JTJ81DZj4\n",
       "B4MYzZVPx7mq3Vm7dIbtR8BlyTnq4nIWcsq73+RFjfYTdCWQkYAt2d3h4kwAFXjnW4cSqthJnyYm\n",
       "BMDMAK3EcrHKIkhbuz4sFIHc4si6cjUVdJ6/1oNrHBFCPpA5B7l35MbRJse2efWsyldeFlNMHk7f\n",
       "XyC0JwvMfeT5oGII2OvgpIlpXQ1E4MDAJb2Cck4yyFYamMzEQFCo3SwDcFc5pxiXtBF32qZUntUz\n",
       "OyRJPRlSJhnZ8IhbVoAV+Y7gzhbX8U5Oa2622ACTJh/im3EsyfWNfZzpxhdz8Dk6JX//GhP73YxF\n",
       "5aP3xuZQUkuItbvkIXXbq5Ii8LZeR+VJWoMC8rJTPB8moQUNW+upitWSVUGuXVYwbvmnlvUaGo83\n",
       "KQBeemJZ9vwPnjhp0UV8fPpKVDQwo44B9A7rf1Iyx8HCoooMp7hYsSMeNekVdfYwWXcFZMkeRmJh\n",
       "LXKbbmskhmGFVrQQncURO56poKJHfXknKzDGFeLgTuXtG72prG/VnkhHvczbVfx6hqnyO50cuU4X\n",
       "9++QC1X/79sbz8Oy6cqT9t9iqgHje6Txi2Cb2JXb0sHK6WwA+/61LwIi0VjiBaIRPrUvknuKB69f\n",
       "pVWY5n9c1kHT2JGnaIbAXKdvSfMlHA9k3uWA/sS+MVIL2OcrTJEHJguzAqlJn/E03N9DREPamFYV\n",
       "mm88BiVikDRkA3/bP6uqelaoCOibtNVwV8stN5kFV7f/MRcOpY0zZICdCpDclwU3CwabkM8kUC7F\n",
       "8/ygW97rvFm7RVuIGgiiqf33QXT5ck6ShwBFzP15EL2ojgK9NTSsoo1JC7pq+GMZyaZ2fDcdSg0p\n",
       "+NFEi2o2hB5IGBm5qu6pKdKn21h9r/RjAD70pG2Trma/uYWeeh9SuE6Aaa1iin3ZH05+ls5M7269\n",
       "AXqHg3IQdVxmIUJjQDLRiISrU0Tj5qwu5rrWgbi0//8OP+vGVbzoS1L+0KLhXze2+IGg50NQd9QZ\n",
       "+s4r75dzIfADsGglha1KB/mjLYLEcalS5tzflFYX4BkRm42gpGN3zJ5Sw+jfnECZsKjLrTrysQTp\n",
       "ixgherhpyeHBFRmlE2Bb2gx1jDJPDZXMP3s5129fdYw/7kjNG2/sm/iMmCvX4ENGM57De8prwzLg\n",
       "m+sOwqccECr8KwBC03KjiAtEZYTzSKs68zkIJwh4vd27wH2g5zVm5/SRQYCdagk4Pp1i4ywuftYp\n",
       "JkeNk891j9MA0Ds+0zS6uSE+zwayCMKxSICkL+ETsQsSkQ8b/7GcnqISrWpMqfzm8jZm81HzXRcw\n",
       "GCc2YUX+6XxN15W2XkLYxZLRdNtUED4vvyWkldFqqg4yrdOTHhhseOPiidyeCJ9jTBAGsCsWnavs\n",
       "/ImtdosLEa70Q0LUZnbzhagCaOW0tD8/zxE9lq089ecpPqq1GitNyYwI6UVmYLAKL8u1V/GhE0as\n",
       "N60Bf/SjiQ5ysEShqjXoic0rYXdiNLgPE2gfS0eya2WkaYgC5KM/vAHqJPl6uRFEE6MkXE9mg01R\n",
       "Kl+uoMAR/ot6L4BMffHauyZD17QZRY/Mxa6fhyOKLbSdXt1sDrBMFIfn2fnaSCHPLhydp0nYuz4E\n",
       "jLBVCTYo5jDXvSZ0+jWomWcEFDHyWrTxxJXyqpoNNvNfdjYD/6T5881PP6ZHngPA4yE8ktMVWxZU\n",
       "NRv0Ax8X0T/h1UmUkRwuC832AIAN+WSdt/WeUJ87EqPhWaefNVnlprHsHW+k1pGTEWbhj5FtlAaf\n",
       "/qetyfNVaA506dFS6X3XIKwCx9RhrO/YvmhsLTGH8GzqIfO2uOKg5NtGWQMqb5NkrY84d5MvZ237\n",
       "wriA/tUSkFSbgWbkqgmH8NIt/Q0/sfvp75fmnvoBZt65+c0G2pnexFyl/F46cKOdJlUW5atjy1fR\n",
       "wmehPU529MN94rx/Q81gAvFhaN2wbn0X5ll1EFwgAdBMdbFT1XwUdRUGjQxUJLDX/OeKixepPUXb\n",
       "j2DH8PUc0IcxN59mdUw1d9tXmOmPsk2Sa6xXcfk+3uhn8hCXBgguZPd95uWH5kqYVk4KCUd0oUEO\n",
       "jWIOJxsZI6anF/UMg+3xtkJbYloknT58uL1jeroDDE/Ai4TBZKZ1tIKb3/CVHUTHDTvtlkOhGj5E\n",
       "v8UPhReGJHSKzjwcQyb5lizyfTkpEVfNWUMWYPF45prgGB/3RRt3zHihARV4AfkG4+vBLX3tt0SN\n",
       "Az4rT+RDVe+bf0MPoWBGl++TfSjPHtMO9Gu8/yvjpe7gUTl++Uaza3l/G3Ujopo9cOmsBJmT7THD\n",
       "1Ltu3C5HU05aPzmGzbEZTPEXQIjFNkd8Wpe6rxE97+ZR7pxIWfN70MyuKxQF5tacEYU5QTU+o/Kb\n",
       "jYAkqjIEUARkk0czQxJ/rVZ0K6mARGAkoUp6MxKnRznZ9ZsysMNsYyitfzFwI+lVYh8WsXVORevF\n",
       "eVMqYXqqc9arjSKIkz/jG0jKXdjUI8aVZAHoCEz+QAGJmtX3hIIlxZRYNNGBLIaiXzI7n5Tn8X5Y\n",
       "Pv1EdupPBGPrlH4A575RXVBMaa+l4yt4NISr67mhfAYpqgNJtQRQNgKoL+jgXb6iek9p97fZaI1p\n",
       "oHHZ7bq6HpK7L2WqnAPUh8iNm47/0fwz5QAYqDxvSaBaqjE1rM/GhhWUrc2Zva1cp7hvugA82t22\n",
       "t0lD7X/omEy9wQI2+dHe2+iH8ERGEE9ioLdtTDfbl+ESf9OYD8e4EfDwatf8/AbKK2p//SuHaWDc\n",
       "gDXVMrvO/pWU0JYtG/1pRmvs+k2cJvBBtaAuoc8cS/H1b3EMyHP0Y2ShM8+nW4GOS8gD4IbXed/S\n",
       "vSE3vNmkxEsB787XOxCjZFfAGoY60bjn4v1P2qdQb8Uz80P+ftJXLrY1HjEbtizoGcwBNc0XSYaG\n",
       "iI3m/07HedPqfjTiI3vU/ckSmONMNlLh/qcJJ6673pmqzYOBYTHNVITLq6bjFALYp6UPuUolm9gs\n",
       "otJo95wU1XYfKt1BFnmeJgbGjd+JvovhWWKgSFPnOgCHf/tcSI3bKnGmZ/z1b38SHQeAWg2n+bpg\n",
       "P69sTxdmKJ14y+IJDyGQ+aKNQDfnoSkE0Rac2Db2aauiYFR5VYeUycBu48bL/xFPQslZQV08+3si\n",
       "SGlngMTPJOjGIVh4e123CSfRQcu9lkemy+8uBhx4kqDwqktU5siMEuONjJhgoaIWVnQeKPQA5TTK\n",
       "onrosN82LlslPgcKyA992h5Y/1g3qh3J2lJMNPVMZBy+/FxXiAIB9FT+HiO6cn36W5STidPY99kA\n",
       "fdmqSvYFpaUeM628wnNDOlLpAwn3Z826sSFuHMBWr3DUzzP8oXhafpQ+4auoqcD5l7RMctpXdl/6\n",
       "r6CczXOByDzCch42wXNfJB37vva0PApsBBU7Ol1pHUMkMvJKI7cYO8BczM/hrGtutt+ljmxpVUXx\n",
       "QEOB73KVXJmsfb9MEdNs8TFshAyXgXRFuJoytqkiYmjM6CwXLGl2RPGwO01gTZRMpPjOl3FuCwac\n",
       "la9tEoJI9L0jgIkpi187jOe4pYKCsc2e89SO8gxy/RKzDuVZzaiG4InNaJ2QV7XRR3aorEtPugpE\n",
       "byWy7aQhkTrEZLfsJF1ljunxLxA4ZRjSQHxG02NO7afQ0poT/r5VFFNCByP8h6aw2R8pqaFPbUJI\n",
       "cmvXSAklc+L8CUSk9AtfHy2e92Xyav3nWXGmLs02LH9zgSzOqF+MfDMobBgaXo0J3ib3jZTBxaa2\n",
       "dVv4fKVSabFGWTxgh3UEc4bU5VUenHwcbSrIhWfnJCqd5bMX+LS6qu7DGMaUPfQtkbwxrEJ06d9a\n",
       "f86FF9sUC+XQ/YIunJgHUxgsaycWWGfP5+/tDKm1w5o/rhUV88fRRpiatYBNIDK6Lmc9PouObfkU\n",
       "CLi/R6iHFDD937UlJ6GN8NKFMIKVLjn6Ag9f7Un3KAemEKYY4tvh0ioZZyj1j1aWB9q44DQVuhyj\n",
       "ryeUIj8oVYkFl67873l8tpPATTx/YHg8/Dp9bDZhnqoX+dMdut3RXNMVUGlad98UeiZCfzBy1xoM\n",
       "V4ldKfmqsyvWBQgT3z1k109E+u4w8r50mqohG18upoXbSrECWpKdoU1cZ1std7RjG/VDTy4Wt1fo\n",
       "jsBEUvApiIpUCZJV9VotBCb/Epk5Smsuc0Mn3vDl1axUsb2zwKprOTLA6RBt1shra9n5Bt1hE94U\n",
       "SQNSGm/l31Gq/BT5pfpchbU00oxHk0eoqELM1ZojsZIK9cXkyT38jAEFC4/EEgt9IC8yBUDx2igV\n",
       "+p88wjMyjKQY9SdS7E1Lgeezk6ijPhpmRPBrwcNUE7Iu9Yg1B7Bsvt9CUVZ1y0CfZ0jQ5pUMYZbk\n",
       "GZnar9DSHNGYhpbm1PLBYAfV75WtmoanC6bauD1cDSBZpiGQrQmkziNhQKiUC+6Xo3awQzwClsZK\n",
       "a9JjuYJExgLEHVRgusvmnYLK/aHgCPUNvYssNruuyhfNA6ehc04jxPSlY2gupmbBY9+EJ52l2tDk\n",
       "qZd9u7iYxMTrT828JlwJJQf7z/Jfr4LnJWEUxy9IfA53542qtwZf7SGw59q/sreAPOA8Gqk419rh\n",
       "KkzdUoma8Qhg8pVx86cibTe7CwY3OWxaBgpWFuHmHwOZjJCKngsOhWa6YThCbVMV6+2PiVMNqTDe\n",
       "na+vpmVwGeRhVNiRZc74goDrZldUrQh6VsgtJlqUpd5GBZz85kQiNnATUQAckhDQh9t9a6s0nBos\n",
       "KFHL5Vz4IP0Gy8S354Q3+zWpha8VJ1BRPd0oEkN5JKmsw2lgd27nYXk+zIJ2BNt4AUBJUVk1FrTd\n",
       "39ZW74CgMFC5PK2qN8GWVAXbR/gOuZDB3tbfz+4tOLsyZ2oj8rgYMABQEmGcd6SzjH9P3RKUeGpd\n",
       "jz9pAvDKKgLtpA2Xi8jYDt0N16lXYEktbZpdsnhcwe8QQ8iYUzHjahuE+FROscvOQbjYLgiIpgPk\n",
       "2cJC51XgnEF/trdTPeTSbpXUwxs+BOpozYPs3eaq4bmpvlHwbMxTAH11Oq5ulm4cC0Xl9GkAZN/a\n",
       "6D4l6RpXsEf4eamiNn26rdotAp0c8ONSSSCd6W6hN2Ndz3Q+4HQHkltHI5ysHLWvCTRomJoIMSbP\n",
       "JBMG0+HLPTGSnR1GV8y+yYhaoFFG7b89ASgQvgloSPclwU5cG0l6d20VnaXg52f8mJL63drTP//H\n",
       "F8ZEVTp6fBkVICG/ANhXLjKf7WUuzqy7TujL1sIl0EHHkqtL4U7zjlTtND0bA/nOmlccrWBdUZrv\n",
       "6/8JXmwbAQqo/vNHgm3MrJVB1wb2XYNOKh9WcGFjprs8IlaJstBetUB6dFp4smYrWICI5U6fa7oz\n",
       "x0QveIqd339TaTNn3mkRgph36rvv2ZqtgLeSHfU6gEmErgloyAwIvXqIuSFDQKlEmWFm7rEFcN4Y\n",
       "+I8Gr+LbteaaWv5zWHiWbyuXwhkf+IryGPfXkAJ2QcGwck3iK7akduXjvUrg5QsWMPxzM743V74Z\n",
       "A3FCFZYY388+wq1vK1yS0Lt23Lxk/rVbhbKauyoZZKKiiW+dxcqw4ThBGIP3zAvJEhrZ2LU80eEb\n",
       "ahp7yZP8bMvqf18vDEblEcbj0zlg73SOHhvspgpUzGjrXlQXvcS31tLPRdNNPedexuzD6ePJXRFf\n",
       "aJcYjepiX/3E+NGQ/VCoDG/kfRusgwcL0NUvQH5E4gQkS9LBMcWfF+0/57/Mxq/bbsF7/DN+Oq4Z\n",
       "nn38OvP+vkrvpRxV+G1+hdKyleEyaMbQpLrOiPRZ7tLU73KpfBZH7PzC8hQd+dO5WYjB4ajmRBJG\n",
       "pqaHMthDrsVABeY7PSEAetXh7fcRLka7vS6w9YogBoW0QnxVsoHH+JS9j+iF8TFByikp0KjZToNj\n",
       "0umgPWRATmFl7skLq71NnfJ52AxXR7wHss8aTannPovQSXpr71+R6/bHrtGVGSs7LR7JwNGAMbjS\n",
       "bd2uSBhBzGWr8ul6tL+8tRvvvwKZcXLKoG9PYVDxA3U57nXJbm7elOTObmWmoSCK5WVyMOpE5Nrd\n",
       "UH1WPfMbsGai8RPLEHDI1MiajwKadC72h47SyRBNhl2rIjdZEdrxG5sNpplxDHmXdRRXZr+2Hd8r\n",
       "AX9OB7REZwGqExGoJfFVRMlEHYClKOy6y0qxVND/2YOJcDKD9xYeKfo9dNx6700abX83qWb3OGNz\n",
       "7Pz9ns4u7CwiVlaI+ieBDBoMDPIND31csgSvpN0GYv81B8n22CmtQD3bqAzXPMG5WpNieNQpXwJm\n",
       "Ztakl1omSgyWl0S6MHMm3BZqbIFmtkJvT6HbhnLFU6jxHJPmaYJqjojwwonXMaLLKyfixcJF+7U3\n",
       "peC5hmOKvQSflat8c896J16AIy1Vj2oTA6mvdcjDsxQwCNpLT5zCQnrA+q0PIGnieQ0qon3eiQiS\n",
       "5RZBTAAB2Ge6C6elcCTAC0PZ1j3wnBkivca6BCBTDTJ/ZcK9/1Dr7OhpDWbxSTSt1xRxnUh0jUXT\n",
       "OYa1lLDtD8cw2ci/7mZ8enLsRHrZxqJP+rc8a4Zj1/QHfQVXmyG0AJZmxI+EfBhCgJ9Xl4NCCfbp\n",
       "1me75tUDqOXuDbfjaGSVGpf2/ctBbUtTJdj1H//RIfee3Liwm0gP6tRy2tXm3vJniLCOktAJBsMT\n",
       "ipliHatI9ThadEd78B46WgoiYQeNtH6c5dTotbnu9OtSLJErZQHrfc7SBJBhd1muGCyBaf8P+7DT\n",
       "JZUKjvTmvUrSHGqM//WUmmJ5SNrjka/s4hBdhbxJkT8j0j4StH6czq06irtGNO9/FlmywcuvPf1I\n",
       "4VxT5VKj/LZ/FeqTEyKqldi5IlmNuLBA/kJUvNB4CibWLzhncM/n1M/paB6uVwj6bUfxLRhTLqVc\n",
       "b3u8zGxsZ+B/O8cCYbvCFf2IJ7rESsZ04KZP4Zph/4nLipFI2FuZSbFLux0OeQvnRLnbKAhAzCIq\n",
       "8xRC6IQdr+XOGqb276tpFCb7mUtNQk2fjMmqsVxgeXnUEOCH/B7OMR986TQYagQn+P7DqWDK0KXP\n",
       "4KZ+ZmBENSt1WhhpjnBCPTLD+ArSZU2oaSEvNyweUCz2lUjxYk0jpMV42rbT1tnUMSiAFncgjI5r\n",
       "GgkS6hNWi/CbFFyrrjoZVn3IA8dZ+/5V51pSi4AsrFD/i0J3QAfZpRcwr0p3MBhJ+bRjY203+FjW\n",
       "LyVg3a+9ER4U1t9G9XmvYuF133k9jDEjyQGlkCe3A3J13oqoN6/Uua0/MO1otm/WQzxukf0deScD\n",
       "uqrNlxCkGlkBE0VYHMpRwPl43XKFlBvy7grvvW65uw2OYI1Me2rI0oPOR3/rMgLM4mI0BKRts/ZU\n",
       "96qVynnycgc370Ec88wxVm2SNQE+KUwfIvSDye8adq9Tti2gijsBiH3DX6FLkqX4eaCWdp63wR80\n",
       "t87CIxN/a2lVFmTaTkN/5x8kHgfTl4EjggjG/zLIIj4Qitmu2hFuhLWeesCVoXesbrVHbcoi8FxQ\n",
       "Cv5Ppe9zFO9rJ10beoHLrrtu2UuV/kjaqK599GF9LtxL2YOmOPT1QMgiM9C63muyw8ldL/EkpTqz\n",
       "t5HnowIOjxawDavOzlfqsA+5F4PwRTnL3+U+rYBXtL3kVS1+MUoQNJaOXaYn059Xl0JkkDPvo6kr\n",
       "va5aJoiC3tRsnHcL3SPjVgmwZCrBuZt7vmz73duLc3V+Agm+RidNayp49pISdj+2XJj74sNKf5Pf\n",
       "ZPFub8nCp3AOCFXG0FIxiHQztwhVMZttE2ElvTrysOZFLGCFl3dqaVtFU0mlE2BgumOEH1bzeBZ+\n",
       "boZhU3/sA3idBdyNx+ZKCZjXa4JApYrZnk9jsdwXnoZ/xXlw9YdkH3rcsLW+7iJ5WsjRCTBlsRck\n",
       "wQkhBOpAz9vDbHGzBtCdF1rb9ArnKvPR92P2/f4T5yDndCSI8i7Ztz4c3OKC7KnheaMw1BDTmTS0\n",
       "DvPVPwQfYhA2/PbUKQqgP8DFDCYOIbVbp5pPodu6BI9TMdLYj7u1V9fxmSdv8sMHO5QIyyvMG3r7\n",
       "j78o84A20FgIvCx6vtTE3+TeUlXx/YVNFRI0Bl9+tFkWalhO3hb2EYZ/XP8ejQlTpYt1Q0Khrl83\n",
       "I5f5anU40XZUZTdX+gN4c5mDQPItWayZN/Xf/Kynx4LVloLz+qBPZGMGksUtAU9o1K8icV4/3CR8\n",
       "oRQWz8iAUUvWnit/XP/ckh/ZmmIh36rf2WSc2SNOXbAYklTjP71vaQ8oNUoqd1Sn6k7Cu/5/L8oy\n",
       "nRfdJ+fPCsI8detSLc6IhK2Pn1kThzhXTnop3cPo+J6cKYqkstkvlNB+MWQ2xlxaBvwZf/OWLYwL\n",
       "6e6OvF61JpyXLiW7oL8CYnjgN8ZWCWFtEYFxTBld5G9Sl2pZDF/zU/WMsNoDln+e3n84xzwppFek\n",
       "qTZHpPAr9R/iNqgEYX1QGjxDfwj7kuGtKMESltv4/MO49kQGwWECz3H5cuc4hFbvxRxJCdqnwTmP\n",
       "1hKXqXHUbAcdtRjCrbAuwy/NVdcWC862nWJgqvQ31u+p2tGD8hSXsS7CcXB/JAps6mno9ck2oep1\n",
       "8npV98va6EynKQ95At13y1df7BJsBS+sgKrVN6OMcr6d5UJEAxZRx2YWcbVmd9/0YczBjTL1Ccnw\n",
       "ms1Fxchn6X6+KG2Tw/pi1IXbmYmxQgnOWTf344nxjk10Zz1ydNierxwoRQBzVR/fXR+7FD2A5vLt\n",
       "xRTnx6dckhsKApcubFqnabZcafg8hwGMnPqp3WT/NjnAttHMFOP4fByiwB2e+96yfL6IstUNQOCN\n",
       "V0TxcdFPAtwd0/dVy4tj6jxHSz+GwvJwhPCxajzMp3TQgPKX6PHitLNopNw6tJ+dD0g2OaxLBFW9\n",
       "G4TZT/5+tSnVJh0w95fmp+nu54ap8KJ3EitQ4x4w3Gu7hG+H3MCVoljrS8Wd4Sct1dBp7q0uVSO5\n",
       "QEPrZVSOgDf2WYYoGjLPcyPCJ1Yxlb1JaeODg9F15ltoQjSSrRcpTO7+F+Cm6vcgf4TFhqpEF2tp\n",
       "HnkIq7SPqjD06wmv7Lax7U/Ew7DuPNox7CcxeUHGdXJwhbJl/h9IGdSv/1DI9BvRwod0RJPRzkEr\n",
       "MPRuTamEF+J06WrZUvNqmvx1zxBqCbwOe7wflmwtWr8nOzMCpvj8jZQgODhGihmFsa2bcOxtgZhC\n",
       "/Dxv2cAEb4PIbZjyvwpCk7GxLJZTWtAo+X9fmXJdbAj2pZbCdovd3Tcx0ULMobh21fxl2CDtFs12\n",
       "QiSDU0GASZxuKCaP/aS/r8y5y1xLZQ+M1vm0GPE5/dTucXFFkhP7OX8XWDnIuPnNtAtlXoktYVOd\n",
       "vr5v1+FZEJxbKJkZgy7o3Qn0napul5hPrBBuDiR1APoeISjR41FP+URO1C5Obit/KZJvT0+37cI4\n",
       "IlW0nGMb8XxcWZpZTNIwUdUxesUDIRlto0gkaub/MqAYEQeGiTprH0wuy5dqY68RkU8mKmFXO8E3\n",
       "VMXioEDtOl56HnIjQQZIqi7KHo0r4lE+zgz2gsN1Up3CKToGWceZvnjpvwMaWz5uSGQEfC4emXGH\n",
       "OqQAmfk65oiiwrEo1XIPcRChCpIrcJYwoK46vyMiShO6fiYtJS7eT3jMirGdQxE/7czbrFwwuhBw\n",
       "5zsI6/x/PsYT17rWrT34zjwOY9+358a6CYcK6ICHLF2qiujI2T+1uz89v43yywJm/qNCYEy3hM9E\n",
       "xaJfcsVvDm5/3ske7dfz+mgmexlVzKjF7UpU6XY7XDvfrjNjFNxMxz7TJnJaaMvy2S7/rk2dVfmL\n",
       "xOjloRymI37DmCu/xMBl2bcYzpuOhb/Nyf2wWc/LkxmNZFctyP4Dacn/4de4uEbFkk49+WDfSulk\n",
       "T+jRWslU8CRU78BqrTiM77Y+LsZTUCb5V5rfWvuYDHT0yyb3E0yzbvNeMMEeC/0kVlhJA/tFpT7Z\n",
       "qZ53hTZ8S1T82PoodUblbsm+pIcNfX1TtpYnPTInH119Ldv+mYN8dmKq04jqdJO0F15XJA14XeEH\n",
       "885gINHvUffr7//xcnzdzilB+DtITnXowDSMJ67RUIZ4bsLzE/VU+5k6rLa+Fcu20T/x/t8ch05w\n",
       "DUABx7Xs+u1frFRxnR04h3PLXjDLgmIoBAC80fKmnB3XPCkGd4nCsRcUQ4nZPwY4X/Sh1DnDg25/\n",
       "LXaJygSpQvf2G9I+pvRPbn6RMaEQEJpYZIfTgY74JkUkEzn99+lbfcQR4bIkjmvMFeX/uIud8Kk7\n",
       "S8CE6gach9k2gssACKhZD3SF3nEOBu/q3DL2vAnpfF/2BnSXPi2wgulVPiDpH9ddgGMFFsYILC6Q\n",
       "6OaO3pZXD6iGJ9fgZeh3jA7L3NaSkSYDOd5Cl15PrFub2QxoVkFzp7kOeQo+TGanJWXIR+N+Ck6R\n",
       "t+V6D/SnO4D2zRAmcxx/t2/WeDfEsRJl4GdorwCGhB/eWkeGOaavcq5wyYO8YaWlWAqkn1Qet4kk\n",
       "XcoJi4RXd0tEbFKtCnjOfB+DNLp6o5JlqJf9O1fsx5Cd5wmaobEmgJudh+38YhT9a+NGEDDOdRVz\n",
       "qDXY8e+nDmIRW0Unqiob9PhqpsEC2OKy1F0l9iCxGS9UNQ3lgOyvLkiLYbj2BffnTcxy9ijP3t/h\n",
       "rx3CrlMXgE4rQVhjidwRy4UadqK3f0KN9/wV9Kc6gZJPgjtlC7TWh1GHsi7EHkUzsZfFEYmBLlCc\n",
       "hh+vAM3QFCk4SE34IxGsogsDDZHq5YBIeiaQxG1Gw9/D3bihpD1aZP9yYQheCMXWgHJKQjkaSjr9\n",
       "kfpYGtRjXIGNfvZnDz1782k7Ip9OOhhM/ul5EhhEd60x+jM/5DOiyAk7CLb3ZeoPMlh+KZbFkGjZ\n",
       "mdj5qf8s3L31lHR6g2NkLLfCLH7GjusY/ZUkkSFV3QWOFWz1kOV3ujd+S6VfaoxZbdopqt21p1ah\n",
       "oUiZjWxsUkALivrS3XpWVj+wX61Sw8KDsEtb6o18zoVtwiQgg8/Au1JyzlqhZ+42ghPxufy7s1O2\n",
       "/BXO2y3DPk15BMFyzH4BVK8SWC5l5lAXjf/xCyEz1DI/IN421C6uJTOqYu9G8trjAg/i7sHMFrgd\n",
       "bhmC8s7ten7fyXLY959Dok/b7QucD6vA2DLYn99Jp96tRD5hxuSM6kDB7k060NXSnxqVmi/IwxSu\n",
       "JMa5NoqSfkFvlHschhYfBreDU1t9Gw9qkjM/6Yh7Z/bL9/OnuCwTsERnb3XkVEqC9l7m0GVjuydd\n",
       "yJeTSd369xN/z0Ci4mjtquS1f8HzZLLWwFS8jxSAsVLZej/7VGajCco/lwxDcK6HnmveiWIC7B0L\n",
       "GRt9hD8e641sasOkUmRd1kzfJA7GvaYiKcWyDQifYwbf9aBjHxxkON42xOx7KsptySMcf5EntbQu\n",
       "J4L+nI6MzjVUVtlbYxtagZ+HZsGk1PQnZ1VemcPLV4Rpnwm/Nmm5rTMcdcp4FCpev9wE+AGvNKNo\n",
       "doMEaOLIu/3CQmtg6Jb9HPZbzHIwrzgJSdHK/FXwys6ChBOmbghJrRgVKk1khFoSKgnBqR37lk0Y\n",
       "ox5GnJRaZZz5dVhJFIcgtt8tbjpQglSW4pWE8cLG04i79DYwBGvZehDeiMAAADNhAAACC0GaJGxD\n",
       "v/6plgAbSUb/US1atmoQGNmgYd4h+MEIcZwHFIYAEv/7/V8TWk5YttqMiQgXS3C9O8wzEXyh5HOI\n",
       "etFNPsda4jx5wrdyt1U8lTm6txDxavc/59RMIytY3PUhpRsttiE4prCdY7WzaLXSt8bJVv1xffxm\n",
       "QfChjCn2xnmOhOYmL5vRvAYAZEvhl+MV0LKDv9Q0lg62z0xPkyqeL6aw7bL18Trh4Y/88+OmRCt8\n",
       "OVUw+rGZ5MYxeHiX7YWEru5UdiW+4aDSD1TV2ci/A9YBjCBtkPBLB4apwHFukzkhpH+V3M9E9Mfd\n",
       "2ddUlGIdKVfSSbx8XFZssID9Ok3id3ImNorocaiBfwQklUKbQmoLmomrDGxXswN48jIhgzhTJvlg\n",
       "zv1yKzM480+yYCOcYQAz9ZwFN9NPYJmMt0BQi/dl8zxIpvmaixV8IcQg6l/i3+wJ8sE5NQ75IiiR\n",
       "FChqmD6LpXamcE79USg7gn0c6iC1CRH19bvrI4Q4p8ztjmjOm1XcIRwAsD3LkvMCY3L1XVR8G3e/\n",
       "tjpqgFStwgob+Lu2ER9od7+xAt0gqpreLAOAFeH4VfTH9ZcKSr3UebM1mnjA+CzQRAt/3rCCRASS\n",
       "hc2P6FEYCtCPsaCBwEquCan5cD1EdtBsWF2b66b84mAxvsUtWcbR/c3MzGai4v7+bSE6srLhi5V3\n",
       "h7+oar4AAABJQZ5CeIZ/ABffixQDJFr6fU1XHpufNqmN9LpinRAAQ26NHkWot/wW7D0iioVnuPeK\n",
       "hROwOENVzuM9HRapu286wIhMo2oyL2BhQQAAADYBnmF0Qr8ALEmD7ABxK9MpN7k/AbAABYLVYBby\n",
       "PsGnCilbtKPAT0Q1Ua5UzX6i5I7y4r5DLGAAAAAuAZ5jakK/AAADAAPiykaaJ0qitogVas38m7bv\n",
       "9tstMAHFnpAQ6SlS4575AQvcWQAAAepBmmdJqEFomUwIf//+qZYAAAMApPTbQARBzGudoGkn/Ay9\n",
       "3i3ILOtX6ng7oaUdD3N7weU3qEP+eqlyOnXkpacrI46R/djNZjXWAmi/ybXk6RNhWIh24lJqKxrd\n",
       "XK54ltRCLYEv3vooujNYy6P8m0Llzs8mxak5CBYxJM5rB3Huvp/4jloRMtVnmvaKVuRiPaJ7pSk7\n",
       "L3g1iyJFUdDvKbN0h9NcEnWk6Pt90llSCiWEQ5i5kKdbjVRbUBjziF8RLgwQ+RkfX/Sq3P4fPmx3\n",
       "l8JmoIckLP53MzzI5W3suWoYQi9BBEW6BiCO9zyDb+Q/AfANknibGnKDf4QWeTli/Pz/70z/vicc\n",
       "SzRFM4iZzCDq/SGElM93bBVoZP2mrzspYJs3LS8pEy59BHZ6uOY6cFBCDG2J3nyrw+ebAadCcPfJ\n",
       "hV9emp/bBDWF/jVmopmdCTEP1jJksaERR2qeZiByYzTkvr5PiziVKFwyr0nNvhjN1oRe3xwoaxsO\n",
       "575oQN4Jc/cvntwZB4JQ5lkVZvzuQjf0CNyG0Un+fxjNq1FTTEpmaKxAs7b73ETf1Uk32D9WdISO\n",
       "jtnbXvq8MLdtAw6Z8iOUSP0TNS11nr12Cso8GUSZCgvvpArRbSu89DjCBumFaWLGpmu2M/Dgi3Wx\n",
       "AAAAVUGehUURLC//AAADAMQpvjVxmjWTnZlA1BWSNWwARU+zOX6k24iIMuX+Yk4qOGjVtKapdB13\n",
       "zPxNqd9fKL8qdTMnudqSTZD+hdbQVD0liWdXCkwABH0AAAA4AZ6makK/AAADAQXX3wl4lcSAoJcE\n",
       "ECM9XSNQoD943dP38v4izfU5gWeT8GRoSPNDvH8LQnfgEnEAAAMXQZqrSahBbJlMCHf//qmWAAKF\n",
       "wt8ukup2AnwXva30thXBp1LFG9iXXde09cmW6kFXR/NV8wDCDEOfhwpchNMSi27IxO94ZkX6pBGJ\n",
       "PFG/Ev96ABFKMhhSo/EkTJdNLvrqBKTWH0s5xAXRKeiwdvvA7oBWRkOXbLHJ5vuhnzDL8NM2wbD2\n",
       "7Q83dWeWv7eCbt9as+0xosesdCjZC5DoMboo1waDVrKuUg8iTmoXxJCsV91c6P1NHB/eZfSPMaWT\n",
       "rD0lnS7FrHvy+Vx/HS4lUybZ/oR+m0mVRAC+Z+Qxq9Gf8HrIvxqkCgZmDTUi2AXDkz0HfZlJX+Pv\n",
       "mPXAWmZzG9BGkmaryMFFsVkTC5KzytAog0h+8/fIBgzJU+zUE5vLGxCgMnKbeVfNedpczI8xFEqr\n",
       "IHx8qod8oKwPA0oJCA/hmH5BjSgawjW8fbiIdt031gwtn1K458TV8IK0DHDYWE0zIGsVgMdtNyM1\n",
       "a04uorQV4UCLYZFTxLaH+NklIICrBTdJVl+mvA0QcxoY+06wK4MfXXJgQda1SMz1rOSdIKcW4Eg3\n",
       "DENs8IDjwqFGiZ8r+XiRsjHmN39vVPGZGA1ZOHXsXwsHXrzPOssIAosjBUJrhWwJY1mjUC+wWKor\n",
       "84JaI8hNcgvulBUoJPxS1sWXGCWkBMQlMFCvz8L6zq2F33rR0T34yhveSR0n5pxOnLEmH5lAKove\n",
       "v19ovHHsG6oj29Yj9zFckoV00kXNnYq5D0PTWO/XnjFH8mTcyX4gVlKqURV3qk8JCzFmwYi/ARcn\n",
       "riEeE/hnWh53I3U90vyFzn4fyP6PRWqCBO8OSzCz4LBNiGzSX5MHZpBFhnjaze4evNO9aV1hih1h\n",
       "BaqddW0DUieTSijHMzbBP1MThNqu5ehm3mYOjH1BYtuAXVmXYhgTBTxdqQybb+LZy4LQjXlqEEzr\n",
       "Zo7AQInT1q7Wv3tjEsogRKIxCtKNllEvdUKW5iCJhpqTxSPOqRTcvIJyvuGgxoaTWz7SDBCR41go\n",
       "+CUDOHMjtY1XFqGrNgisH4ywP/GIi6HPCV2IvyIaLRMAAABMQZ7JRRUsM/8AAitxWDcsUhH0KPgB\n",
       "NNHvLN4T+dqmPi+JALoGW0v/TKIYiNEHPCrdkjCYzQbNNpLgKE5kPIMzjmWZ02tgJoE/NHAb0AAA\n",
       "AFcBnuh0Qr8AAGcjuGkWtlP3sh0AONnbEZhK4Yi2pZpWuESUY2vWk0nWyXiE5lNQD8W8HLY4o+p4\n",
       "UDU16eBVTYUF22/r7JPr32VdDumyDZAR+s+finPwIeEAAAA5AZ7qakK/AAP4ylOX/ChvxkxN3zQg\n",
       "l2HN4FtMIBpc/aJrfWuBMYAWt/Ox18RMVLuuEKKNhHiX0D/AAAABAkGa7UmoQWyZTBRMP//+qZYA\n",
       "AoTW2JAS/zw0hD1vW5EEgG0oLT8/2vBU93ZwJuDav93DMD/GCdpJKbiujD2wBi+nJMR4uJ5pnGtT\n",
       "dn8U+ydb/qcn9hRB6+IsDU0o6smGg+G5Vpz+8qxTAyV/8ca/oA0Q0aKZEks+uCxqoGhCQHF56lmk\n",
       "wS2ZVoPlt2KO67eVlRcO/dcP32ODX5B2EraQPs31rgAJ6G7p6MWuiSJ2OCE+YmXRurhI7RY3raN4\n",
       "Dic8yBbysxIP5QoHYmzo1DeVEfwVzvkWOfHP73r+4V434mm4na2qVYrcZV4/0cBXEU0k7vmGIYyD\n",
       "CNDyhJuJevUgatWJUgAAADQBnwxqQr8AA/gGp101V4/IJ5pKZG+rcryNBhbbLQc7qG9NwPCMXYL/\n",
       "bAAgtLAnjDv6GQwpAAACAEGbEUnhClJlMCHf/qmWAADKSonAUHOjVhF5ZkKvN0Ku2j/eVoVhXqlE\n",
       "FXwvYtcxjtjB5j2JZT/csQYrvqI5WCUW/LdkOEuZtOMvBntxhT0TyzikPStj2gesWdcbbST9O+v1\n",
       "JvVJHnBODXNGsGai8lpMjI3xz1z+5UfZN829azXOLs7geZGL23JY1DO8bRtaqTgR1WLeWKH5otmn\n",
       "6wCSPr8kXxci1N2L8pPN0ujiibebw71tRh/sd9QV2YWBjMlY8cRMWwsrGElmwUvj4EJdtw/WEN9i\n",
       "QbQ9Zcb22eE1hiHyAu0DzQwKrKc8+vxfAbhBh/AqXvJYxz9UrFW7DUZQkA1L6JC2flX70dbNc2q2\n",
       "/9qxfd5A43xyAgZobReWmdcnHULhA0LwTeiaL5z4S2fUE9y0dEustEiPzSqAVh2XtuGQ6GcLlP0N\n",
       "RnxENk8bqrTKgfUMHZRq8t6cPqHy14szPoV/2WeYUiI80cOeWcdSdH1cOeDYJphxGgTLgAze5x9J\n",
       "GIZoZ6wpVM9gZg0RjnemDy6iK6L2hyt4r2dXvpq+WN8HtQwoanhzHchF9v0KCbQmRuZAvKlZRbX4\n",
       "8IPmgf2eR2N7c79RzNYJ1IWECAV4YleaGTGpj25HIW5+1z+66dP6IVGMPLHAJVHu2eQc24bpxokU\n",
       "vnWQsCJ7CsPvMAf2yXfBAAAAWEGfL0U0TDP/AAIbru/s3Xzl+LPTpbr3bbfjPoAPpi2l2e5XWnz9\n",
       "KMPDM6PqxxcyXEsjoLzOELTlJzT6Sf1ftL/JL2t6kmpebzSRCl/kgFF9XQS9LluZ7aEAAABHAZ9O\n",
       "dEK/AAFQS2KEaRwD46AEO0W3IEth/jbVyurMp+hzVkN7Un73+ty9X4VBkFCFZeU0AALyk3BAi0iq\n",
       "rW4TyUOXZy4efMAAAAA+AZ9QakK/AAFQr+cVpfdS3gA43mIyCeJGqihfsGTBqvb0ydKzqa5L0E+Z\n",
       "5oowGmnXH3vUUiMp6GfoRYXvGVAAAAEMQZtTSahBaJlMFPD//qmWAADKS98AGcvLdpulU74K9nMh\n",
       "olBMznCrNGZhLzkri+26AYFqDVOZLvZ7MjKdlHLs8uoTBXtSz0yOPdJ0QSea73dEJvc1ijdz9oPL\n",
       "HB/wfx2koYicuoolY+P5owtGD6WI+fSE5kcdICVdCWXUMc9RjzSxAQQ750SmzzLtJ96OhkD49KQd\n",
       "Yu1Q8FQz9Rpc2xLVTloH+02ONWEiintgNT4NtcKXIiStef6R/UA4WdcBsCFQPFGYRgbW0Ain3AAH\n",
       "mRM5g36Cs0KAbGhFWnfL0bKflnDo5coIfoy+Ko5VZ+0BYdJ0n/BjFInpMLKbNi5z8mMlyVe84eWB\n",
       "fesWjwBPGwAAAEUBn3JqQr8AA+NejuJQ/J6u5++mRo8QAcQJYfaQ0MiOUuIn43QCNiRsQPQotMbP\n",
       "CM3Kv2f5xN/w0663h91ubhnyZFLEuIAAAAF1QZt3SeEKUmUwId/+qZYAAAMAMYLTd4/gBR5q+ane\n",
       "UkdDhCFQQPRmQ48diFGvVptTOMaaHztQMmNSXm/JW9DYWTcSAWJq4sK0aDTfzVCb0rP6W5JDq9IC\n",
       "R64WjjdZfZUKUtGGf6oQzYyFoXxiducVD5/j7+Na3rnIHivi91zNB5FwFSKqwXKsSX7Q3qCiZ+gx\n",
       "HWwYWGXNUF2ylwaI02M06bGerlrtRb+XEMUNwhizi7rUh6aSBIgMfg9sJGFm2VOJkqMvFalH0Z0A\n",
       "efNhvNjmTVEs76FYBoBefIf15aqyLJMtkcbrTfEdpswjktCR9Gl3JMNsSyTlCLTDZY3jYasKDvPX\n",
       "xZzKA0NKzdt+IpcUpNFsVgMGBa9KZw8z+P+H72BcSIbKoQch/eR0XhUE9F9hHhc23yjm7D+MHhJn\n",
       "15ZNO3vioqJMaIxMsXet18o9p8pZrX1nGY0dRuzJNlQW0sQksLIi3YIhP9iH/AnxwsJQz5zheNWK\n",
       "gAAAADZBn5VFNEwz/wACG5BahO1fvfN4GZODcjhiOMEm//uxR06aAJONnf4NKL9a/Bo2P2v1oXun\n",
       "VMEAAAA0AZ+0dEK/AAFQTCNDXrqA0xq6td6A4FQACG5/OoJmLoD++ihsXReTiqcs0xtlJqzi4pNd\n",
       "0AAAADoBn7ZqQr8AAVCv50INCRunIvvgYsUoABXJAXuEo5sQ37Elc3Fonx54Lg4DR8Mlxge72oM7\n",
       "R4xeJqI/AAABg0Gbu0moQWiZTAh3//6plgAAAwAxUf4QE0Wvs9xI5/6jIsRi13QsMZ654uavlCPZ\n",
       "iY6qeaoem97RIatGeZiOCGqV+xLRF50HysQEEuevh7p5PjyR27Shlf677RBRFGJzaO3SDC3cr8fU\n",
       "assHPHipTQGn0TzD3gS/9/qj+arU9EMk49+OmAKX5zaP8XkU4w3G7W5IBVmA7r4647ZIEIx3F37Z\n",
       "uo/TScyIP6pso7vdNuBD3bt47ADwAtDgvbMrKhVQYFgyKUhXjaXX935rx9ZopCjLP3Z6Ak6rkpvr\n",
       "dipOa5TQS0cETGx2tOB4MJ8gjwDUF/gtXHt+v7HG5X+j2GG1gcDTdSpHiS2fFI1nTiZxoajPvC0h\n",
       "ijwshwg6Lkh3No88sEkOvW3lxQPgFc8C2tRmQxDKRrAGzL9ybFqbM81f59sRRixYFKdtephLVc7A\n",
       "qxBBf403N8IepM0vapMxsdO8aDHVj1HqRPsZve2QxDJ0OQVgfOpxncGA5/sHsS8N/DtW7NNhSQAA\n",
       "ADVBn9lFESwz/wACG67v7cdfvkHvfit7J5XMaglje4QXrWqagCugfUHT7jBZ/BAAajEDkJGP8AAA\n",
       "AC8Bn/h0Qr8AAVBMI0NeudMRmDxvK1JtI+egsBSNfGGBYIhKAE46Li/tKBTKB7EjFwAAADQBn/pq\n",
       "Qr8AAVCv50INCRunUEnXTkkG2eYARgVTWChiOnyPtS4B4BjxQGsrem+6jlFxI0fAAAAAs0Gb/Emo\n",
       "QWyZTAh3//6plgAABjHW8UEB4LXJf9/93GXwtikPNoxWgFUQj8d5Ssh57hEUSNPqOe1kwZQxD4Uq\n",
       "cZPuMGNIjdhERMiF8z5z++ODAyCEOons+4Orf70GMOHSaWchZmhTGI9CDdo1p3BKLMa1AU33RQ4w\n",
       "iQhVRWGVzDMHUh+X678wpozx0UGKdHVC51FEG6gx2ldCen8gLFBUlHaXOX1GwgFPm87mrrz5QL8C\n",
       "23KZAAAAykGaHknhClJlMFFSw//+qZYAAAMABMFm4zYsDUNVj/gDQkisUm/aFIcauS6V6/itIA+b\n",
       "nqXNQ7Uxq3YJzmLGewcTtkk99sBKQooC7t/nBCC7i+rpGz2vC/cIobo7kHG1PK8zw8cICvh/ohAR\n",
       "8TLolq26k/9Y/Qq52/pHBYhZ8Rc16sjVrPTwgrUjSy/mz4nPIWKMko/81YP9foVZMhk1qfI5yBCQ\n",
       "2g8WzfKm2ftDG8ncUDQefC5Rd+oG8ILb2BTh4+Vma/nTHwTMcHEAAAAzAZ49akK/AAAgtV9g6CIk\n",
       "9J63Jp4CuZVpLRUDwAOL7yoRMgzf/oqgzPt4CAHT1eGtcDugAAAB4EGaIknhDomUwIf//qmWAAAD\n",
       "AAFk7AmrvYNsk/+gftIVT9lt/+GLxOLnw3HvlPA7RGx7d3h/HuToxaUpu+D7nQ7QC1pL4IcqXtib\n",
       "c/O+GwmyI44C/HF3EweBZwOaGLAwMpOdOd06l5xJvPFFGk15UN6gct2EtzwAPp+081RrWGFtR+ld\n",
       "/h/9TYfdIip5i5mHAapldXkOoDo6nO5obiPjrR7rxrkFflXW+wi2ksljoRK8px4K99mSLlb/PAld\n",
       "/78GcSUg+oTeFimPP2WlHmP33W9LKgRo29S33QImvUXhZkwDJNz6vB0uBkmNzOSvXCRGVlZCH+iV\n",
       "QXUxth2zfx+XQFuSAEttlD3m8uIMvVKOMn1O3Afs+BnYq2f+Cptr+BHgbqNLKxR+JtBIvaiiyOmK\n",
       "nwGSsurO8yjl9k3JkSHX3ZfqWYMrOV4pGAmQiSBHmdFsikoL6YkOOAGL3W83CfGbjQsgWgLlR5ai\n",
       "V5RbbOTTaejvEd6pfBG3X4WOOgx57qgxAzZP8Iv/ySdh6A55k/15uYmHbDuneB29ZsRFJy4djuSF\n",
       "uVcZEUqppFT7Hj4BJ4pEwJvyOb05i9+0fOw3l9fwqX2yRM3fxYGk96bCKbQKQmuNjNrmiInAZ2ZK\n",
       "F+FoEffuEAAAAE5BnkBFFTwz/wAAAwAdq5L1eXZiqv4FTbXBP6iH9h8AOMYPnClsFNsNPDHcRgwq\n",
       "XH3O6qSl0wHlpzFuh/p/G9kWzzF4ZPmN32fqYnZVQpsAAAAoAZ5/dEK/AAAgwN0+NLmx0Gkss2d3\n",
       "qU/RrknUu29xkALBOdnh8OkCXgAAAD4BnmFqQr8AACC1X140zxnM3qpc1dADgyUwOluRcWzWnH82\n",
       "nbaHQ79jIAH4uaowgOlQJP0PYHtT1//+yRECPwAAApJBmmZJqEFomUwIf//+qZYAAAMAjCAooAEk\n",
       "peS4x95UlyrJHw3RGHnypSz4pC93OremMohW2MZh7aSFJWXq4k84sVxLZ2Yr/Y4Uw8F4d3tNyC72\n",
       "/d2+xUkhQOFLpuh+2/rSFGqsCAMPMYCWjBHH5emsuhOn0Rwa4qGBCsX1PFZYTrVhBFEq5FgOkXDw\n",
       "uXPeJcaRT2b/lioxLrZvQHKqOQmi6nertyRItBV+4fo+ZaM3Q2cN5F/+zNSLnl3tc99GPsjL/4h6\n",
       "EOs5iRgnS+oQx7E15BMIEQ3bLuO5s21XUkKNf4C2mxQKXzj8dofabsRbHCWhVU95MIzr8HenbMwK\n",
       "jI0/Wm3SRdVrHXzyhouof4dKJc7FXiNgCUASXWumpGDjNTAo6bkMyy1n9oqTmE7sIpD/SM5EmU8O\n",
       "+DR0mBFWjDwQ/KjZL7lgQbatw3uXR4o/vpQkZOYxXUEoZgheaB/iC+ycwO90a4y4wA7aX7vh7RHB\n",
       "dJXTZhWCiJxccOwhIHzHs/jdmqEZXj/mUUbHGI3t+H76yESmMhp+LNXkiZTEjC79bu1qvFX22uKV\n",
       "Hp/S5z4tT1ut10KNSiAtMQCyueVLIufCBZZWwYowY2inBOvaUWEeyHWnTy9i6+eUIfgBLmaa6o4D\n",
       "7X6IOJWPgSueYKZ3aPt720TitA+T5rUmwy04bRpylqG9poiAO5HqD4dg7vexF+yY65BRNkQrm2TC\n",
       "ijV5Ze+YtHj7/BKWUc/OREYGyDEDN8m28wNsS/k8axCo+paOwA/taCYuosdiw5VXP3HEBUF1jh/o\n",
       "SAIv8/q/RRALnaxUDF5loTRhtfW/1s6y3k7dW8ssin0fL1qONUewMS79g7oT74K30GcgIojqkVvS\n",
       "TBSYu+lSAAAATEGehEURLDP/AAADAHmLBaXoD3ThaH27ivNiVdr658ACVKvKYKuGQLDaMC+E9clW\n",
       "ne0OARovV7kgfEjxY8N/mlojZC9cirMOdb5SgzMAAABKAZ6jdEK/AAAgwN0+NDn5yJ8VZUYA5Qzu\n",
       "5eoKXApTiBRREUwfTs7rSWHwu+E40WXszFZ1MsA2O2nwjt72/k/9M62R9/FMfC0Lr4EAAABIAZ6l\n",
       "akK/AAAgtV9p88Ycexk+TEAKggSP9LyVderTe0cOIk8HukkGlk9sD201xpMEcdsabQFnvXdNxnNb\n",
       "9OjIIAe++UJCQAHzAAACnEGaqUmoQWyZTAh///6plgACM8r/wlNYgD4tVMOhKbvCUu8PPmVoJiRP\n",
       "EPMAAgryYuOQ4bGb5j/02QOIGnFSkkgXOe7wV+jFsG14M9FmhCelxJJNogjMDpxAdBH6igCCJ2aX\n",
       "auSWz9IlovkXesjJZbjpRRfzWAH3e9z6dyl7VS3LaICNwmFVgtysudfFNOPf9yX6m2OditnzYPR+\n",
       "MuvSW5+CjQglg0lY4UhRxkUQEz86Yy5bH2O5dsyTQDsh/NrxEu6VLADOJd0khUcjzdjVlrwxhy85\n",
       "UfXxEcSxeK0QQtdDCAvOcjJA/Lk6hGHCzYJof4tcN+f1HWLvWs5f3zB6GsDdi4AOUm6G5wRIolJq\n",
       "nrsglMNv5QlL6Vd3TVNtxlP2WBkuLGRywqDTK+BTHdXcrVk0tsipQP8vkXkzAzdiqVMmyRH6fwAA\n",
       "jyPr4BEpCrXPCFsMMksl11DIZ90IOFfX/Unqvi8vusMScFkrGqjLw72dd+YnYS3OvSEa4i5iUoCC\n",
       "ESLzvgB1YtysRS5tpDiGWt1sbJxnBoPd1K8u/eH5JwB2yooUSQ0luqr4r4DO9l3+CdSaC+Jl5+nx\n",
       "CkPL+0fkhjQ1KX8BSxKl3cTZmHZSroitpAbNRhNi8+ElCY02KRQbjqYuHDOx7BKKJaBZd41Z3Yck\n",
       "wHl5rqb57vZFjBtL4CtIxGqUQg2ftSZb/VpEEifDOGjwHuVYKGDnj8nAr+69u7/Zuc/GyPs852d+\n",
       "SxS09ykUjhqtmsI2xJ9Y8d2BHq0gsXh6145rz32a0jVYEqvqFQ/t1x3N4aRRfELQ/2mqIFokzpxp\n",
       "e2riyNreVxjyZiylk2XcIwEnX+9fhlzB8sGTgFgzkHqp2lP1ABJCMC7CqoVtokm5iH4+MEQzFxDx\n",
       "AAAAREGex0UVLC//AAKhPJ1S/eQQy1s1AAuMPBsA9IBlIMgw8Kis0g9c21tCvMB5yRPU61eCBFyw\n",
       "vEPhm3FhLZcLeUX9jATcAAAAOwGe6GpCvwADiskq1a92EP0ANVQAlFOs85PsS6NEFOSRy1azzYhU\n",
       "Z42GFCUJgIk9MVGuYl1tSVEgJYJOAAAB+EGa7UmoQWyZTAh///6plgACMGkIfcpAT4jrTvZZ7mDJ\n",
       "ALaizF+oLtwqRnBLGdIYlc198vZFq79dfzg7xBCuYwPXs381rahzyRnN4vlF8cmIOIR/Rf0kZG95\n",
       "7hbOnrXJODJO+j+M2jrb9dprDP2LQgUyUFj6qNBaqG/Z7EynwNH1p7slUJ2MQMC6CF8ttJV3v9Vy\n",
       "V4EKq8bNHBn8q7PUQhotn/af8an8AjKO+ixJ+8p0zZAGJ/SlQ0T0iXVkK83uaXZsvikYF3kwvATO\n",
       "v/4Zgvcq5j14uRs/nO9hn7QzVLGYgIOLHmmflSpwOva5RqTGN+N+BbrGQMvgjI11i2hYWjrwIhgi\n",
       "GVzIIC7zxNXoonIArFEESIt0mLG2m6bZzVc+XoFuarEIivPKTRGdrTxMywNoFBq5dZTTBif4ZH4d\n",
       "B+yT5zZrFNQWZxpbFfRYDLiJdS7iGjyhqOqymBGR3drfRBSyksjFgIdftsoXMSLUNWF1MnWDefZD\n",
       "lNhGfiEfm21UyvSpHnjq6JSelvEOnCpmLJBqN1cD8AdSDL2xMSXWPoC0nToUseSVMC8V8mzP65oI\n",
       "B7em+eyRiu4PfuDyObmYyLfs3u6arm7r8K5FjGRBd2qu6RtyrMRg3vx/o5CHpwzF3RshTZd6o3tj\n",
       "BLh35gmVR9w8sCr/fuflgQAAAElBnwtFFSwz/wAB5eNYg6ktaYJJwHM5pJSA8r/Ryl7RcPHrOzBY\n",
       "8XU3eb8VIn02bW2KZ7oqhaiI129cRXxS9bYCt3y8Q9fevDFxAAAAOwGfKnRCvwADib9hucE+KF56\n",
       "0nTQT/9CUNfy893PnGZr6k3LQWzPDGrMyGOVeVtGxe51PkSxIoSn7gYEAAAARQGfLGpCvwABULBo\n",
       "SQxADdeRANqR8FMtpU0syB1yTn9LJAvXcOnmQc7Ypnj1GAXvFu5GbI7U4RpGq2B7Z5yacOT9S5ip\n",
       "gQAAAdxBmzFJqEFsmUwIf//+qZYAAK32OHAGRy2i0/ypECrYSjbdmTLIBgSO638TBLVJ4aGf6N3l\n",
       "MEQ9NWLNJcBGTwr5dIBr0/5a7ACknyvnOOkUoHjEkuFqXqF3dA8iG4TEpk4ZGK3jiFTZbITv4V8X\n",
       "OxHqs2kJW5NjAYVP6lva41VJT5pPSUapiWoNXle1Jp0qcw7LG/4VIS8nrJN41F6PVPG2ri4k9BtD\n",
       "9nz3lyFBbL1HUvoi/fv5fa4zTE3S0LcEMXqNSj4D3JKv+jVl8UDCYSdRPZEoAv/++l8uDv1Vuuha\n",
       "vdWJAEgiAogGS/7RoPIzFGVzaBdcEM7hYoR5a52z5qdJS3bX8+dK7lwHwMQzgxbHyI289YZCy8vL\n",
       "lOZcRG6RaNkJeun9arnrfxtcq1d3owtxul4lOrxSLNBQRo0XkAQPB3dv+2G+QdgY5oOBUo+QsSYf\n",
       "KBVFf7W7LAFet3CHwU/OvT2bDHIy5faFPH5OEaVDB2p9TdIotV9ZTYEeQfhHalyqWAMXx0Iar5Xz\n",
       "DxF1teN3RyJH+gZWyBSkhMjnMb6ew7nAoF40LvDiI2eD739CzDpWJm1N4R/53tZnVLyAUJUHYT19\n",
       "55GLVuE4sab9U49pCYARo3/9xJwdpowZYQAAAEdBn09FFSwz/wAAtdNSt3cHoujtAA/nrjIjhW4u\n",
       "falYtjLAdgz4CAmA+PpfVDf6e3td/5sCkdxv0Eij5/IGgGRNAVoOZNKHgQAAAD4Bn250Qr8AAVBM\n",
       "KeEzHEO2EaADiz4vARTZyHdWmE3oNXGtnmpXfvHMYjZBaQO58RgJiDG7KlqzdcsdblYGzAAAADIB\n",
       "n3BqQr8AAVCv50INJztZIc8gWq32aYDWmFLOC3Jp4WBeKR/gwAPHj3C8lNNOb68TMAAAAZpBm3VJ\n",
       "qEFsmUwId//+qZYAAAVvpg0ApNm4er/03ZqT2q6NhpfTUDH4jEm5CgVBbwyCX+RKhZQ9h37mqN0x\n",
       "ZL4WZUwX+fF2K8eoJySu0TO29wChv+jNU/oWuKUeh1TBQBLQw7p47sFKNHpTCJH7VjN2wN/P5AMG\n",
       "HoOq7kBAm2bhjuJwQsYyJN91NNccCmao4Uy4+fIzwXhfYNZH2A10W6VabMHZ0u5DMlMCejvUOcXd\n",
       "HbFyv0vsreBhpjaLDkUyhd6zT7dOmaTVDPfY02WDKcx2HBfai2CNk0iLp9AD6u0sELC4xSCJpcEj\n",
       "56o2JWIcrM0aqRec9n+B1UK5D5dUyUet965ST+Y9GP3da9K9aVfwYOdwQxllZ6IYFyd8wD3DhvRO\n",
       "BUoNN7bc8505vloqrMx+77IEAj4hwssplogykP6D3HqjAIuINEdFV590dVjqFfRj96qtw/YaN/Y2\n",
       "DdmXCvtgVznD4nYZlZ79bk2wbq2UIXCuWsMSTIZgGd8rYP3Tb/7eXY9XGvgYFGaisCRyieBuUnjC\n",
       "n2FBYIzcEQAAAEZBn5NFFSwz/wAAtdNRqqBsecVsthAcAJppAParZPwt99al/bFbEtq5TqDi1wmI\n",
       "8OC1yen0sr8VAgFa4yaj/n4W5PpkSLuAAAAAMgGfsnRCvwABUEwjQ166ZXUVkAN1lOLL6vTuHmJu\n",
       "h+3fXI3G1ICpyOYBVzELZOQEvq7oAAAAOQGftGpCvwABUK/nQg0JS1FXpnvQA2rEZTnGGOONVdfQ\n",
       "qoNEbsdHpoD9ML2oBBiFA7A0xcGy4QE2YQAAAUxBm7hJqEFsmUwId//+qZYAAAMAAVNqk7AHlLWU\n",
       "+lyndtkCnNewBvu4RHowMXL1Mi1y2IyN4f3Lt4cIxdPV11+CbbsX1ZRbYhiQFczDEGpEm+DBpaCv\n",
       "Me2wGnca3oiy2onN+DfH840kreMLlZJoKoBs2DltB3OxZdQNINNW8oP5ca9+25bYbmtnLsEu5/Ng\n",
       "jPTQIjvmTZ8sasS8+xa8vs0CYhoTwOMbQlwpfDlidwBpapyGWBjTT9gMdgkMDxXKudc/bdUD/UbZ\n",
       "JmvnBcdL6qBC/uHCAAI8Bt8EplENlcz/EaIAlE2xy1aoHKeD60/TaZBloltKTDZwTrPgRqhqfej9\n",
       "zLFokhBKigMiuwKyaYHovVa+lWIDDKokzppJtUZv8WZgDqNhXbdyTrsipgUPlhNReMvPjwnKA4+2\n",
       "9A//j0aHD/YMDftWYdsvPK8MoAAAADpBn9ZFFSwv/wAA80RdKNLb97VUqAiXxR+g2CwAHGLtFQlt\n",
       "JDutjkOEPG47EpawPMye0oRjQwj+c7HTAAAALAGf92pCvwABUK/nQg0JF0pUXz9pdRXHK8IQBCMp\n",
       "oFyMUekgBabkz2z6EgalAAAA5UGb+0moQWyZTAh///6plgAALt5wXxRiWqy/Ou4AbEn3DCQqDkP2\n",
       "8ZOzlVyKVrbRW4ojV5jydUb4O3dcJqa5n8701us4ETk40wmVPas03uyv8yKuhyjSj90Z1S9yUTWv\n",
       "kJjx7UeVX7OEJsunRjaQu6cGqA+OJrlMQXr9HeFLVmqTS2GtD3CsQI7UZK/mTl8GDdlyPVJLfmnM\n",
       "+fC7HNPm3XqPooMHnOxmz+YTF1V5UFQN14qMrXENRm1tlCO/yAcZi8KZ+4kT6cr1HTd8Wf1Et+z8\n",
       "wbqu7lDCEY9mHesn02BIFwQmMX4AAAAvQZ4ZRRUsL/8AAPNEXSjS2/e1VKgIwEANHdVM16ZQP3CN\n",
       "L8jN/IEkARHzrs9lR8EAAAA1AZ46akK/AAFQr+dCDQkXSlRfTgsKVTqxABxu7vwGcSkViZYJJUno\n",
       "bx2hun99OwE6SNY0gz4AAAF0QZo/SahBbJlMCHf//qmWAAADAAAKTrZfkpAUoeT/OZpoIEOLHAnB\n",
       "sq39jf5ueTb6e2sEUlzzNMF5T8EKtfOhvsY+UUgLHx+wCMBZzDQ2d4/4Fd970bEt0wHMtYUfujpb\n",
       "Qw7rLK2+nQcyRhaI3f4tpeuzov+hK3WI5Tb85yFMPtdYutIKbhEshf4dLF+UWbpMFd3M3wwHdfiB\n",
       "0mH3LhT71e9r8CQhTXDPykaiqlPGnzh55b8CZQQLNCoh1NK39ywO2ieO3bysCAm4ahJH6xkOEBjt\n",
       "7gPCvwUZLlQ3mVFo7h5SMN5OOghUJJjzbZRdwn8k+R3N6xaKRXV4ZHLGhXGMy8qv+NF/0Wrax0Uw\n",
       "jgWu8VnG8H5XttDYrb/anIetulJVyIaj2nvvHcMHFPmZmhDVN1CfYNwJkldT2wpWG9dKB5AFScb9\n",
       "MukjFfCphXV0E4UTurJnx7TAbRDuJf/5mdhytyoSxXJtAtkfx96Uhf9UNRufyPuBAAAARkGeXUUV\n",
       "LDP/AAC101GorNxb6bqGBdYPQ1XCeZbfy97hYAcGrLfQIhlGTn20G0YzkS7jABXtW4kPGR0bE54q\n",
       "vVJN1e6xQ3sAAAAlAZ58dEK/AAFQTCNDXrnPq/48XJEoRSUvVv7v8dpULgz538ACFgAAACsBnn5q\n",
       "Qr8AAVCv50INCRdKVF9OCwpL7yzWY87OS95ewAWzzFT6PiBZHBUwAAACLEGaY0moQWyZTAh3//6p\n",
       "lgAAAwABODikSAKiPYaovAkdvs4uajhlABrWhrBq+ABDcup3GvMjcdtS5kaTSmO+PYiw09n8vGVY\n",
       "U7v0M0ID0XzuZfo/otjAZtx2fXjboPcjqD8BcP/bHeas/lSNTezH+EK9oZU3vci0Btifr2gU580W\n",
       "GIbEMZLxgk6qNomHPPu2K/cUAowk4dFQABOB/zgB0wDUEohjBY+yNyvksyLSFdn3inPAvnnqk7sv\n",
       "5DKByY8MjEzPWTloB6FJ1yhGfoVGCDfFgMDC43C2UyA8JNif3YSMxmu81AOnFkxVuzZbmQqU3EZQ\n",
       "VpS/Ay7neF9IkqMsG/42HrYV2L8bUYiOpa6iS9K65lUT2aZdHa+dboMx/2JbnE1ZF2ozwms8BNnO\n",
       "Ssi6Sxvc5bxsK3Uidr/5FL4D/ls1sz88xk65QZv3kifjRbyTJh/mP6wx39XnnqhTbcd/2520Fiok\n",
       "GkB9rY3emEfCDADiQl1OlhHHBt0tdsRgqPRSaSeFLb/p+KROH3bj2U5a+BfBh2jjl37yxwc9Ns8B\n",
       "YVMbhIh19OdOv7/iJEZy+w49KSfUFxP9euVDEAsbBba0yKPx62d6yijS3o8WSEwCxxrL2XfCbq8Z\n",
       "SYG7b7SGirrXxa9I+lKcrA4xT+PzXzND70k04YDLXTKzVLspkTNOxI6oJ4zvhQhImlZpvG0JRiTw\n",
       "YxXl3JBIa7a50CLUgeZwtc+/pXIUg1/lsqAzdYkAAABUQZ6BRRUsM/8AALXTUais3FvpuoYF1g98\n",
       "P2cZ8tDd5iuOAC4xtI81HPZ63tF5VNSfxrhgEQWMhRNaLU7WmSuhzmguFdtAuQs00kKosPrQg3kU\n",
       "AGfAAAAAQQGeoHRCvwABUEwjQ165z6v+PFyRKEVb49FT5D8AHByNTKZf+vPXrfDVrrE66yDmi/Tw\n",
       "iJ0Mb2A6PjRTZCP94gFbAAAAVQGeompCvwABUK/nQg0JF0pUX1VD69MaQv52ACOo82npRnaZEkdc\n",
       "rrn/E6APShrTLz8i02oaZLWUxGpKYAhuvCmpU1MfRqW3C0Xre5KJUASJxH0ABbQAAAEfQZqkSahB\n",
       "bJlMCH///qmWAAADAAxmz/6O3isAHNJUwemep/ZZLvUKHqdCCf4cPfphGzQM0suFjE93R36n9+8R\n",
       "3AZvpmtUpl6RobXrt9NtU/a5E7H4y//gIsT6zpnscRrkJLlqaN9IJMBCbNb0WyMU3/9MTdYP2CJ0\n",
       "+hhLgQkRJB2tLgavCCpzjyS6UpdZWwScR06CZzmhTgttGORrta6tVkR8akNQpY59mfebiGr1IY3a\n",
       "zG+tTP/PUe5kWAnpwJ7T9Xm/hXTAaIoVp4cr1ony0y77By7u/vHaF2C1X+HMuFLpNFyyVj3UHuk5\n",
       "cnB00MlX9K/0qTClThRTRSbLVf2lSzPJHLKTqYljJbOj8dF2IkUYEP+W+qoXTWI5PMMZWYEAAAL+\n",
       "QZrISeEKUmUwIf/+qZYAAd06LmAI8REr6EQgq+136ocMRkLrtWRTDWsAP4GaP0NeQcD4SynU4b/B\n",
       "lfv2VMN2paZnPIBdBRgZ0dXRMxLauU2VP13OpfFjxXESc7kPYFcBmj3MyProIcqg/wezLPLsXaRQ\n",
       "C0ADnsKRuCU34Gn9f2mJrWRXCQ0L2jEWyA1fegTApikOPDTcY1mOQ6dgdJ8g/jjsi0ePxhlehsGv\n",
       "5wCiCn3odOpHD9eZi8zYbyZiKHIAJbZV124gNPG3VQQmdyQemhdPG4Wf01aJaNziRWan6NjvpZbL\n",
       "pYkyyIERH+jksY12q3J6qrKcwZC4NBKmAXINQetDz08rJPQX634Sc2ND3ivcLAzTi7lLuMnPUWF3\n",
       "LCkawpdqmlDbBvx67VAtq+A+Zv7CKjjoPSVVlrwEAF+tzqfZ0tXFl4yYmbztEAMjuUe0JmCJ+Asb\n",
       "8O5O4kL1wk+wkJUsMEj8Ys2NnDUsRA16/yDwLPXTf5mr0zIcuzAlmi231gUVWRZVTm8k77J3FmA+\n",
       "KR5tOhcEYh2suaIZmg4595KagzorZjr1zaFQ7mnNUCP7SRyAlbWhvB7gIuxZU4+j4eA5Z1XIFWsN\n",
       "7QeTXSolyq7E9Bf/8+WNCg3DeHtDCQaD7saZPXllmVL+8vKQpvbiKU/rLGcLMPIcW3YP1PrrrE2+\n",
       "VrnmSGs9jZqc1lalDaFhpdFwaGYPiez37EZGVK+jAhhz1UIpNTdCaUbQOH+kHYUdNgMR1nhqOB8O\n",
       "4uQSwuYhJ0GnQrOVpROQOQV0oTvP7wHT/xYNvv8BtgtCoFOfQ195n7VDPMsRbN9JolZMYx1eQwgx\n",
       "JV0qGllNDMMWib4lF/c9eZ+P8Y6tcjpp7KEA2J99tkdOkL56+OViuiy97NZfb3qQcJKNGVRnComv\n",
       "z8Ch/1iUUNCmuvdvGLYYAdoZhWLefPXNgssTKhi141W4i6VPE3oQ4tfl6UBTw6P9+gCbAePAI8UO\n",
       "0VGgfsFUJF9wPVGc1aL2n4jCML52I+fmpQAAAFpBnuZFNEwz/wABpjXmVMP70h3HdWQ0WwjAAWH1\n",
       "4Xx0Bsx5qkk2bIgrcUsw85Wp2jIOlp0qOEgHeJ5NBGcCk7aREMYu9QZSwqOVl3E+YcwjoaG/O/6D\n",
       "vwbEBgUAAABFAZ8FdEK/AAFQTCJdLESv9QeWqQBEg1kqe9MyYdZuCDEj59CNtsrtPLbdZj839fW2\n",
       "U8kf9G0C6g7E5USyGQmPuqgCoDChAAAAVwGfB2pCvwADEOl+mCgOeALFoit5MjAMC4u5ETLrGlVQ\n",
       "Ed9i/gKiPDgMxqU+cmjab6fjbZFnquI7OGS4XZY5uV6JHfsqJuZdIfokz6wARHc4KheqFAAXcAAA\n",
       "AflBmwxJqEFomUwId//+qZYAAd2x1+XFeAUmUXeKQj0ztYri5djK2Da10H9noblO1op4hOpQmOlf\n",
       "/WY6CJjRczMTW+aDeWhaFjfDXLE1DMcA3WDANk23751roLd5g6iTZFyvcuj8YIXW8YzLx8b9PIP7\n",
       "Yy+Ls4RdaYweuRRONXQy8f83bOJTfAMIfzF3mCvqNHwV+zfeao8rKknR1CigqI4W+oT+ExLqo37h\n",
       "ganfN1lGgGdk1ChKJ97airTfZsMLp00RmpTrjG3IL9Z4CKHO6ZGxduKZLNDakqp/7RtBXoV/7z4/\n",
       "Uxs0Oy8eP7LgAFALThORexAUiJmZvtB0FpwP++yEB0ps3eoFKMDKDTKg7JOH9ja2Ucbr3yS2e6Qj\n",
       "UsUt/Z22KEuyw4VLMD2Q7Ld8+uSVl61wQlgk1mm2vDA8UbagCKWoX4GlNHqX78h8+vQAo2J8QMdw\n",
       "JGfLT6NsjgdjhJtkTYieT5sM4k9gxHhq5/ZwUGuAvmVFKsepluBPePFdgnNHFQ0NeA505oUib5l9\n",
       "8Q8LME92rA6E0Rh1WxD+lBiA/CBJnevCrvYgHliLQ4RZBEKfXk8S1ixWkCKHmxKof1b8vWk1siU3\n",
       "YxbLE03MSSPXz3GCzhI0qPNvWDSqjrERN6j38TzGMFnCjqIOonAOSIEVR3RJJF6kqulgAAAAQ0Gf\n",
       "KkURLDP/AAGl+Myuoztpvc5Ma/GwLNTfShGbKWq6NBcOD7YiAz3lC1Hg605gEKRsKO4AC1Yya9R1\n",
       "c+dQ2nNul3EAAABAAZ9JdEK/AAMLCgj1flCAIZZg12c4C/Dv+vsXLJsnKBo8PTc+47P5fRBMoJii\n",
       "dwdPDxoswWOOHHil8CF9Hkz1MwAAADkBn0tqQr8AAVCwPRoH80IAV7C2ZHPJG07ssH8BHTNOQsK2\n",
       "5vOEHuZfL4dX+y70tt2LPKFluWZNCDgAAAH6QZtQSahBbJlMCHf//qmWAAAwEmCQEKuefrfUvCqw\n",
       "T1Mi4tR4FerI7ZJ/2pXznsIcHDF/H1/7RDtL9LloBEmtpfYlz2HagyrCTFniby1+cgNR6P0puuVy\n",
       "Xp5Hz31A6BXc3WAMrnXePHTVxlT8DYSm/8Dv9Y4R7i4kfb8A62DATl8Fojlydi4Fbz0eiU7+WUhk\n",
       "P36cIo4i8PzjnXfa4tnelHpc38IPN2herFDBqacxJ2DPhYB6zihRxz7WjBdryb/ClPWRG/rMiHIm\n",
       "ibBZQ1H9faTTZ9C1KgSbLefB7JYylKrU3f6qmzeHpHWCVLV2n/vLYTzvvMm/f5qGsCheji1HrDcg\n",
       "x6bZMT+4VmJj/0aEEPzQbwof58M9pI14gnFbX14SkKwLoLs2ZNtQcDAepv+6mhEaj/7VlqoeSy/i\n",
       "CsN35ELqaxQaATKQ5eX7TBClE+t3/KI6Azc1P40NBc15DMGqzHg0xQFT8cihkSd6txi5LKqRsPC1\n",
       "ufsoplZs7u79N4tKTZpgLJeNp6AZokIjaSHxA/y2cL8pb+P6IucUkVT0Mx5nMLF/tj80coWXKpQy\n",
       "ZIfi7hT+h2atRQnRpa7z8u+46THNLmX0xsn0PC00+YbrGc6gL09ZY9HAvBEEQH6sR38q+aSJiL6Z\n",
       "pbigShpyv/4K8hDuSUiBXZxbcfEAAABNQZ9uRRUsM/8AALXTWYuMG5jaTBmPVKkAJpDPtaqT/vCn\n",
       "Vuzxh1CtIhyphUPIAWYBIQyBCauIQC0Xu/k2oEI0w5/Qsd8MGxFbpVzah6UAAABGAZ+NdEK/AAFQ\n",
       "THTAe7KqexscpkUAAjAaRHNrG/EAvn5Xb9A9TBq0sjoRWBin9/Ki2ooXG4CM7zcmBeiMYd5tFvAc\n",
       "N2jKgQAAAC8Bn49qQr8AAVCwOSXEI+xDKLxHik6/L1ywt0aHt7i+KGC1APH8Y4MAD+d1iu+5OAAA\n",
       "AQNBm5JJqEFsmUwUTDv//qmWAAAwEf4QFDiPeNuIyCt5WXGrP7sH/cBmUWwRXoGJCvnWh31y3oFT\n",
       "AijrI5aKBIswiV/WgcltFVLD6b5wPJxSAgpW/m5MwXZzSedJQ0CZe2+/5DQ28xDovzhLAqJEDpZK\n",
       "cdVAiS7eK2//pEoKEhaOLRNnKE1una25xViSq44+4o9FONB2kCd/DE2n/u9fKrePS/7YSFcqMQlR\n",
       "Tg7Dl+60p810VLScbqaoRR4UzG7Nlg2q1Yj5bg1ZbPk/PSvu+kLCXrewpcralMFi0IlkL8H6+Wmb\n",
       "hZqmS6GonVF+BJmY1aGI5sRa+OF21p6bIk1MW429vcWMAAAANwGfsWpCvwABUOTgjb8ifYVDPBTQ\n",
       "JQAcbytfU1mG9+AC8C1pP8FmfDQ9PUFzub9AhlaP5Lf2ccEAAAD7QZu1SeEKUmUwId/+qZYAAAMA\n",
       "JQbTUApKkkCMgiCgZw2B1ni3+uFoIffRnn/FIX9MV3HqVLwTPktjfblKm0vv0exbDkJb8KxVaWF+\n",
       "9ss60SneryoxoypZsITEFVpNPWZQ9MRcN3neWa01gCqTCMvuTR8wMvrKuAPsrxGG95M0IMAqFogl\n",
       "ywj5cPZYvT++W8BXkUoOo65/aGCosBifsUWkHcP2k9lMLgTY2vaKkb6of32KLjtKT06wJFB9/c9m\n",
       "6M3RKoJGSZiKuSM0lIQyHVJsmdL2nIob4Hi7apja27KY/Hq19F98cfjzO4WP6POyMfOc6crgJR+Z\n",
       "cU8jrDgAAABEQZ/TRTRML/8AAPM1h3cvIppnVWDKME5X5LwAfiVfRW4Aa4oYt3i1xzBwn+IFup57\n",
       "TGrfNmw79wsLjjEs1+rtIGIpRXwAAAA+AZ/0akK/AAFQsDklxCPsKhmc/QetsZpR/5fXY54OTQAj\n",
       "I6u1kRM4G0BNd6PR2to0lFK7xrSQSu18f4tIAUEAAAENQZv4SahBaJlMCHf//qmWAAADACQKnM66\n",
       "d5AkxRt0+ygISg1Sn1q4tM78TKrbYrzbEFKz2cfFLaPHvH7wF4WtggBfpM3dtVoTgs6OefNzo3Wi\n",
       "/1UdTr3LAek1bZrV7o39ZXlDNJuXNfih+yrb2Hio3NIKVGGQ3t+u2gPfRT6j3M/1/Icdrvo3dgH6\n",
       "fbBSr78QM7brOdElWtmGTXSGDIjQIIVS5ZR5MBaWuopX50NvQ69FcckYnIHPRG6VQNGUAaltdjx7\n",
       "xeFtB9PC0kIx+EcvlSnEDT6OYs65/XLYHzUih1bshKhNCqjKcX/YkfcMYDpxgZr/04p6l3E7B7gX\n",
       "4ZN0JcIvLC8HyzyHRfOxshAAAABBQZ4WRREsL/8AAPNEZ3mcUV5qYCy2K8XIsKahFBo8ZynvgAbP\n",
       "IRKb7OsEbzX9r7RAHKZzr4Y0T0EqvJ1hdUYU1TEAAABDAZ43akK/AAFQsDklxCPsKhmavaLpqCBv\n",
       "9pzaRNBraNAHEx5HqMAUZM1hQAx/z0HMdxIwU+yI7JCnNKfUS5MUhBpnwQAAAGpBmjlJqEFsmUwI\n",
       "d//+qZYAAAMAASA2MgAe71hE/YTj9+bdZy6CeR6EybSq1TAf6G2CIfLt2bHgj9rBw49i76XQPjUN\n",
       "TxUoC2ilzDQonlvFm4yAQwUvX7LHdBx3QH93I1zGPoomAtq5nhOCAAAAwEGaW0nhClJlMFFSw7/+\n",
       "qZYAAAMAABvhabO0lQD4bHnYt496prpe5rO1wz3kpCqU1RgM2R+4fZHQqIn/D0D1llE5Vj4GFpzE\n",
       "YyNEgHqJDwLDbS1C/2qVpl6j7vwKLqfrR6m2bF36J3IMQWeqDG1vdudnqVkeKbswr6ZMXaeTgrax\n",
       "0dzCK8ib58IAxvY9TqbYERUdlr2CNknFFPmhtskVgX8zNk3HRFU/Hk6nO7RiCewZru60weUl9rE0\n",
       "/82PgQ8xYQAAADkBnnpqQr8AACC1X2DoIiT0nrcmnvXRqD3xRVaT3QBQBHjb6c9zLgr3Nfjp8mGm\n",
       "xoZJFvoS4Rx/1h4AAAE3QZp+SeEOiZTAh3/+qZYAAAMAAAjE/6OklgCjaq9432GMkkevO6etvNYK\n",
       "KZ8xY/jVXJv5gwCQ6IdAMdYO0rTsoqWRfoJx6/y96aRI0KCfUbgJv/pAmKsaBIsABSDJCp3HWc8N\n",
       "UmznE+lLQckEqVAkptGGydXLi4/gNpaJ/aPsXlTg8ARW9DYz+6ZRFHZM7GQvIGjStmUpUXckRrE6\n",
       "x8/8PKFv52hmqsGBSqjoICe2HXc950wOHw9WLftQkVI9T4EokNzPrLmkuWdKdFucjgQpb5nmHwpW\n",
       "5YzQdAeci9Nxr/YWxx/iQd4GGJFeE3QP2e7HdXlcrLHDVN+lP1SB/Ta+tjRYinUGrDxfIg1LGuF8\n",
       "2eMIPzdrWYRZVlJqhrgmOw+FYvd+lX4G8Sp6Y/KZzVitS1ZzkGsJC4EAAAA7QZ6cRRU8L/8AAAMA\n",
       "KOdtKvSD8JOw0NLqy0ViCwPe4vRLec78X+rsGBj1AEdrUXOOE97yAcQBCwJF+ekAAAAuAZ69akK/\n",
       "AAAgtV9eNM8ZXTekboAODptmQGx/MDJiCxoG0Da9DsNu+p9aXNgG/AAAAatBmqFJqEFomUwId//+\n",
       "qZYAAAMACpeB5rU8FIT/k3tsJuVNcufCStjASrypPr+ynFoIQYvqs3v+Z98OoG0bjGAy90doPJIH\n",
       "MGlXR6uBL3SmNCBAvZbjCEDGevsmm4abrlgik/sE/t2BvfY6zcvjL2Y4CH6k7AgeVXhnZ52fKUHJ\n",
       "UbUwsPXr8ZTT2r5BZ2/j0Ga41HOB4cXkOY4yraqOJthhT+vQju8qrrpS9kEd7zNtgt7SHuQ5x2Vx\n",
       "MWVVpRJPY6WQWWNyGjqw2IQG2FpD5f06rnFK6vNYe0GafTXHBjetxAkE8O0+yuZvn63lqJeiyXiG\n",
       "IZIUuTovtPiR5HGoEAnqzK1HyjL4QeIfGDAOdUYd66+5gNQNopbotgjZNIxl1tLLUD57wlrktg6r\n",
       "zy29zF4X9VEnpz3KYV0VkXybh5NyzuXlkyMwWBM08b+HVq+cLL4W0uYCPND0C7b5+knl9qlTE22T\n",
       "TlpmTXOeooCMwB024cXFQGfZQmstM/ICL8ZHqbVvZ7me8Oxy3Bc0c1Z2NXUZIrxFBajG2c1dewau\n",
       "LO4+ev3CeDWltnsg0cJgAAAATkGe30URLC//AAADACjnbSr0hZjfHRsZY+8Zjh3THCisGb9VwA2s\n",
       "YvWzwH6EJocWr6+cl9P1oTH4xrgPLOugEnaDt0+zdtarK7X9w9iPgQAAAEoBnuBqQr8AACC1X140\n",
       "zxqenZUSxiAEVgDh6KoHpS3x5tKmlgJzRtBRqsWDCHSMwmmNsd7d18pJ9c3n2zK4YD3iOIDu54JH\n",
       "Hgp0wAAAAOJBmuJJqEFsmUwIf//+qZYAAAMAZSeS6W+zdroXDTm0bNP7nWE61UOBFHotvdUsecq3\n",
       "lKWu+B/BTQoY8NvKPcGOWw9pQHhvPALSK76iep/OacI+W9EVA3QL+9dCBCBMDIhYC9vf2udkX4C6\n",
       "47dfPSPu4LwAG7VzP1xA25XkSuFN+K10vm5Yci0E+sPLEj4pzQEJAkAzhw8o4AV1wE6RWv7AET72\n",
       "oQSrk4WdO9058180uOT/dfh7iGsFd8Ya2Qtl4OzT3I5AYXcsZr/APjE9iscqLg1rtQB5O/T4FxJ/\n",
       "hvmJowYtAAADCkGbBknhClJlMCHf/qmWAACEHE1QATt8NVeAEy+190OjpeDMEHxoax6nnHRlbw5L\n",
       "Q5gRP1yncZeo2ZZAnqORp1LcHPd9c+kwOh2u1k/werBgpVcjUmI+9ABiREx9X1lMVQftDqm9Zvny\n",
       "Ul6eMj9zv94AVmOPlRHP4ngxlQi7cN+KFTUfroI8+6MJS86pv74fxoW2aulpBuiejVnSZoeLn6Ko\n",
       "r1JwTepSYj/VPwlqD5Ox5oAywVbGzTWv/hYILSxHUtg7QtiXp7WTrmChUzIqjxue7BCUCki7fhxG\n",
       "nm5Gxd4q2FNFVr4KH1H/7D3f37mX06UwRsW9/yhMft49iX4g0niwD/aCJqpBh3jkYsa6HjXdY2si\n",
       "8MUL5q1JQSX/3fWheXjxjx8uG2LOg9B/i+QGPmEvgcFZKqzvs5RKlpK0lh+INpsWSgZlZv2sIVaU\n",
       "2eriJMbjjXJpMhnuNZ8c1mouz0sqQsfPLRujiyZGHA516G+jUq0o02R2LF9CJ2l3xZ2VPeXLH4Pt\n",
       "uKG5tNFJWO7AHs5xQRzKKrl1R+MMdj86CnRm4ej0E5FYGKzKZX5FfVnrFxhLdqo5H7rp+g7OlOG4\n",
       "5L14mni3l/F4t58xGSYTEHCxQkFXvqNNBSREUbAPC6DYDfvdFwHhhxILrfyWDfk4UX/tyGS4lyxx\n",
       "YpXk2tnJ81x1sHPQeQQmbauPyqJ4oBbuNVVcqWIg7P0Sq2T61eFW2Xx5U9p1V6voTyP/TaUiNVt/\n",
       "YMFNHSq75Xdcn1xgrnN4caJo8aZmU4smLAh2LdbLgprSfLNUq8FSUahZ0mQeFbjoG06KC/ytoXiM\n",
       "4cDBCkqEYyLRuzBShY2xv/wuXjABXhrer9pBlkREs8QUbmDqBiX/seX36zO075C7+e+i3JHxQCmI\n",
       "fPyJXLSGDC+OOUMhe/zA8lqD4TKAeu53U5efpbQWHUjjo9NuR5y6kXtlGAQPeDlT36Qj98R7eC9K\n",
       "ivRjz4sjrrzZ/qKcEvb3ZeaVb5AiR9YgRAEFLeV1uYdtToS3dHdExkjjEI6cFxAAAABLQZ8kRTRM\n",
       "M/8AAHQLBaWh5OEaWmGmqEvrXgAJ1o+iPbHY3kTHSbzF3MPj4QkzV8zQPorOBiCBb+34k86K5aPl\n",
       "9QEHuxYLnnfn6Xz5AAAARgGfQ3RCvwAAIMDdRy8vzg7NrVe14ARWAL133jsB7v6tlm6pQh7ZI7S0\n",
       "WBIzTi+Y47b5vAatLNPrBD08txt6uJ+dFeYAd0EAAABOAZ9FakK/AADYOk+I4MQnkmzJAAKbwGnK\n",
       "Xl/dIV/ddULMq933wmi68FBwFvedVSVDSnFwjI7zCf7vATKtU+e1G+F0090qvHiD3ztqoAGBAAAC\n",
       "FUGbSUmoQWiZTAh///6plgABqJ6kQDVIeTyNfDFoHFVk6HQwhyglVi1oLheXBgbOZIoA4ZsDqrLu\n",
       "wsAU9X8A4Oa5gBlSuwV15vmJ3HEJpMkbAIUkK8hPDREIVxb3pxquwthDKZDU+PZ0PKvdD1vbepqk\n",
       "aHf8QDwB8S+B2XyAevvyrbel+KuXOac4vrISe5YvG/3vNXJABIkfXxokPrWMHTbrlqFkdei2kER3\n",
       "zPQQ8K4FtBi3Gr/iDBbX9j6nrFNUQZLLcWgv2+ADLLKWaGVdWd89onwRbwXD9fILxn1xgwBtLNst\n",
       "4brQ+05z7eUGOLOuBLTvpjk5yAAkoOWghkYtRMtALQgfd/IfO8G9lUNbdft7toTjXsw6y+vW6qp+\n",
       "H34x/InX6JeE9Q/QOwXy+xDAnUpaSjegExgL+XP1Z95d+OkauvVFAW+70HnM9jaQjqueSHAqvAxj\n",
       "3XhtnXG+CUmVDv9NFb4yLGvT2yB2fGUqm2RUcnQANr9sT6rf62L3Gwi3QR+EvNPZh300UPzTZAJZ\n",
       "d7qC/atbPtDmmYimdyNQysrvfsoZT/RZ+Zlqe6nwxUpYP0dIHdTdfWX32+Cv/dregsKsUVCKkfwi\n",
       "IayPRsQEt8iM99jlWtRW/OiTm4zIgONIlmyQLivpLkInHPclDZD7VtoCC/UGPqJhlmo/+DL5WNHY\n",
       "ReRzS+O7qwLJuxIayjGF5yYZeY4VAAAAUUGfZ0URLC//AAHwQdotB7YAg1zQQyQYLmKOBfQhnLUc\n",
       "YYpPqtYTb4T8PROZvtLTos2NaAIraS/V3D2ZY+tfIixgxKq3HhZrLNxzaka2OmkGZAAAAFMBn4hq\n",
       "Qr8AAsTOmkuIANu5MJgJwyQpdAM4mMPsMFIdARRxGMlizGD1u5r4olpgBJrOg7K4V4/neUV53IW7\n",
       "Ka6nXnVbi9LSiu3axC3+VnEnJ8hB3QAAAhRBm41JqEFsmUwId//+qZYAAaiTBICFXOx9sjP05/+7\n",
       "sRJ/A12SZ5fYtnrkpuBlP6rn9vDqbSPwhBegQtj+64W2+Lva7BgdlN7Sd793g8VNNDzpdKFelzUH\n",
       "N5weqevCNM9/F6bTpRNQ2KQWgMmcIYkyjaPPT/aBFFR+RfUGaEdTbi5CmZUFQuoAY3rcgBVmKbKy\n",
       "bldvUM5IELlsvIMG08JAiL8NLKnsZnL0bH05n7DWNkozD2ZDuFVaSeGu916HGkdhLwjHsc1hhdDX\n",
       "Z8yeMUhDJatxFbyV6ueGux/zKVU4oz8B+g7kdP0yZpCNVMkHW4mg7fhDb3Un96td/v0DgbgUCgUA\n",
       "QAwOvTHzJG91n7h0fZHAbcuY34FCEyO69dKYs64oQKhxTTy6pajydEjb1SAWU/AlrrlyvA+6Odpe\n",
       "WyNbTYf0naQmjM+4zmRmgxVU+SP1+In7CrJFHeYdA/2+HoVbPQ80+zUkWaCU1zLP9ki7ZtmLHgpN\n",
       "1q1HbmVRsThveCq6dkMNvPd7Um6UmJebIKcuGw2jlMCJp4BGljaqImV3bjKKvCp6yfIs7tHQh3eH\n",
       "P1yy+cZDsTPS4nEvY1C1gFU4/3c7KynB2diTJLAnErEpvYnfFa//1GdeFqm7b44WvmMRng+V7b7M\n",
       "PE0JJ9L4jomifePxTS85j8gLoatHFaQ4elWZesL/0Wn1h0OEr3VLIV0q5zyxAAAAVUGfq0UVLDP/\n",
       "AAF0UF+7w/vnCXcgAnbckSdpCjKqtxFAl9/coDuXMQB8j9LRxcgGi3oMujuYEMrhQwf+Bv1r0Q0N\n",
       "HdbGNvU/6DnRaiYEnGfmEnflPaAAAABIAZ/KdEK/AAKylsaTAv0yWIAg8UeaW6dTyfyXWTuUaPia\n",
       "kysCuCTzlrWQJTXCC9j/24uGHe1gXg6T4+H70D8cRfwvtoQYEzScAAAANwGfzGpCvwAAQWR5B5LZ\n",
       "Z2QA3XnCaPUAK7afFdCXyA0ZOe93uwkBACN8QwObCk3AfLl2ez3UqR8AAAE4QZvPSahBbJlMFEw/\n",
       "//6plgAABAAjwvGNSAjYQjkCMwZSORIYIeEda+Esf+33KOh6QHiyy8OIS43dHpzlXZytoworzEfp\n",
       "tMhCCXPZ0bBKmo6mCUUq3C3AvdULJVksgW2hU7H4YCdnMDaPrEqgtfyjWTxmQz1CtljVUXRrnt1h\n",
       "5dtkmVFgM5ITj/ZRDZ+Ri8GskYCFYIJ8lfcCe3coQHA+uKqLapvMq2bJbyk7IGm096iXChLlPXIK\n",
       "w3bK5HYS8BslRxg7g4JhaDxdDGCJXfL0L+NUfxzgXnqyichU6An/JnHjkqhvywY41vFDjbDCtGkv\n",
       "X81YArEci7D1itHBHiJBLUnj1rhozFE6qJYB/T1RlPJ/oJZpcRqcQJ6TXRM9ktxUQXAKOx188hmB\n",
       "QBObWJCuuSk1nCgyPObBAAAAOgGf7mpCvwAAFi5Mn5n7NFq+kuaICRksGrk64UKP+mlQWQ997Fdr\n",
       "WFPtQxJhQAnHNNYJbpqQtrJBh3UAAAFWQZvzSeEKUmUwId/+qZYAAAMBSeQtAKD/vjbCJp9MrgjF\n",
       "hHPuB0dB97/y1yg7IeeI1DAPd2TKG9Fc7oXMvGCG4AorafyZBFg4AcW7/qqiBdoX61Ctfx4Mx12u\n",
       "8XLlkw/rLgMCJcLPVhBaXp7FB9WsAjOHUEv21dHwE4uoQP4ULedTnhhaXroSwH3Ipmc8nCtHwGc9\n",
       "7auykXqsbgQdbS9e21RyaPk5o1jTPpdYDMuRXYR/JCOrmbPNu5ZpHeXNL7PAq8byqyEoMWIaCfE1\n",
       "zR+e6oYw7/8M05OFc0ZQIfyDfcGiht9BxcD0VgvO9qff/Ru7VQb+osj/95WG4ihs761SzfCHNshb\n",
       "y13bdIZNVUYLaR4Io2rzhBJ3e6kAXX/7fxEkeXciGxb7Rjwb1Q0OFwgV2IiM9w665CqPUBdhOFPn\n",
       "0B5vZR/nIyCgzikm3L5+WGGlsagWFOlAAAAAUUGeEUU0TDP/AAAL8m/fQOZNT+5ca28ac0vH4AD+\n",
       "ekpO3MsTGnF0WcmHWvs/X6oZzBlgLq7C5jOMddK62izfTanrc6Mvgy91LL+qoNhk3fxPWAAAADAB\n",
       "njB0Qr8AACDA3/SB/D1AOndvZUANzT3/nE7N/LraOMhIV2A6gI7G7xZQtodcjfkAAAA/AZ4yakK/\n",
       "AAAgtWIYMfCM7xgURXI4OU/BocGmcAQuDijj+H32I6n/ivAymcY0JqJpKL2QQfXrIPTwntP+1v+Q\n",
       "AAABoUGaN0moQWiZTAh3//6plgAAAwAKB4LswFBf5tdGIKcN92giJkt6i2OrEtmqMmEat/JeXRMr\n",
       "QsxvF+F7wgDIGKcppIldLtav3TMT4JCiEVE7Fb9ZMg5bEy0awoVI5GVXvcBBg5rDv3Z4muhNXZ1R\n",
       "fIFVS9mCFt4iJg9ncuou2cq6BBarPqtF0g9WVMEuGtTLPKdRuZtn+Tb/2sCs7mac97bJ5Hqa4lJN\n",
       "OgoLdLeb3gqvhKvIE66JPjmNL1BmEYe6c83UYFRokHfNPIRd9/gxpiz0fNx6vmbtDsDei/eHMrqL\n",
       "Hu3vnsk1OiESdM+OrNor8USU83hURXTUNpBBayv59Mh7qhepfVGdNIBRsoxA8BQ5vSwSv4WFFxF4\n",
       "oVP0gGXuAlZ7L13f6ulbmRWBRjWrhjQGaQzwrwPFsXd7qTH1NMcQ4OJV0TKHbvL48RA4UaqiI7aq\n",
       "mpYnkDr9oDfaOPbRxTYPeOpPm/TOzdkjzmwdWLgQWX77YAFcpe8lBhig1sdpDAAbdQCv7nLUJmeF\n",
       "9q54oTfp1RkwvugSz+LmrN/FPwNzgAAAAFJBnlVFESwz/wAAC/MOKHbi343VfDOVNz//JPXBlwJe\n",
       "yHyy8tYACHfjn1QX3zCKM3cp+UU7hazPcZPkxjrUYoKDQ1qHS9/c+ROqr2WsegztucZVAAAANQGe\n",
       "dHRCvwAAIMDf9IH8PUA091lg37jM9cH/k/pFmAGqTHdqBLEvfhQJpYATLVoHgJGDE81oAAAAOwGe\n",
       "dmpCvwAAILViGDHwjO8YFEVxwnUiBDWqXi76iADVb3A8XzP5IetIkbepCMzKpXf4GzL0oAp5VJTd\n",
       "AAAAWEGaeEmoQWyZTAh3//6plgAAAwAAGKT8zJERuE+4cBN5yWKb0y188C/nXOcRffdxq2cmKum1\n",
       "YPjuGD3IjYXx6AkJ3G9sK1IL9Fg9nuPGzB9+wI9ieHaG1TEAAAFeQZqcSeEKUmUwId/+qZYAAAMA\n",
       "ABix9FjBzAQkfe0C0whv4bzRgVfjG7iN/A4oIJQqvuU+VnsgmerwVrwSY/pjGLaAQNgz1SLa8e3V\n",
       "3mdlcg9mh119YaT219pPnT0JCJceaZe5QaTd5fXU1N+56xtSdCmKGzdqibsIXvvjtC2FUldQn9BW\n",
       "aHpIjj06/V0fDkfVSirL8h4cgmgHhqYZGv36sxVq7WoWl40+G2uZ8cKWoz6gDkwtgcdu+KXKTd+p\n",
       "rmphxxVlcH+mJ7M/nWqLO4CbHlfy6baFkqvLNae2kuKWhMgPddIWNtJctvTabxGt374/l7PYtxtY\n",
       "i8jrYyKZtxjYteAYtxDOfFk2Xt+rksDrYCFuNUxkREmSwwg+4lmECnSIvvaz8x/2QBM3tLWw92Sy\n",
       "7tsFHePsPtd5Y8aAG/D1bSo2ZaTbt9IwxpfLUkoqQReD/wJeyGc5rIaTUHpOvFUAAABFQZ66RTRM\n",
       "M/8AAAvyb99AmM9Aeb1WSauPhr0jHMC6C2sGVuWl23XCO+/zFQvTzLpki8tQAAnHLXWjpzISFElr\n",
       "79dTfJEXAAAAMwGe2XRCvwAAIMDf9IH8PUA091lg37jMkPJ7LjF9+7OM4XAfk1Za1LSgPu5SN2lp\n",
       "G1HKSAAAAEMBnttqQr8AACC1Yhgx8IzvGBRFccJ1If3XDkiy8NACkFZoEqIUQzRHMZPEUGPfjNBw\n",
       "Uqu+X36zURXyXOa2JIyhyjfhAAAAh0Ga3UmoQWiZTAh///6plgAAAwAAB3aNqAQBW/oCgQTc3hhH\n",
       "hpRDp0Lx3qd/KQaxPw2tPtVH+ZEt1DS8dNQs/MlnmqgvpgwaUn5lw5KwORSOk3RA4PbGdeu6LTqs\n",
       "fTLuzN4s7cjvIVnnQ8nKJebeliUr/KkK2OBQ0eoZdSp8GOEURNvgLh6WgQAAAl5BmuFJ4QpSZTAh\n",
       "//6plgAAAwAA6R0XMALDJKFqhDieODH1MuQH2N8UALNeO6S7GG77WVK9jvW1ISlTWlpBERneelIN\n",
       "AQjHf6/DnR8yMkbWCK3A4QZt1wk/fm1bEGX3OZEFoI/+9Tg5OzY9DFWin9UJTPO9sv8/dKRLAGCN\n",
       "aWxQuP3bSiWoFGuSKwkZdhOEXMbUhgwfL0Vu4IyYAdSZdWGrpjEo/BVGu2MZU/bnrlfP0895GUiC\n",
       "XeMsEkfdZv7Vev4aJSMDsNHxsDWiRp/i+pDVAR6icvdAnYDJyOQBMpJjRaN35q+uaEFqglF6NBIl\n",
       "77FGbmN+OfnvLP0KQkA++0QFo0YlvWRm6H8U+woMwiAaGOF5izBP+AdaK+EWQMIllskrn8rFH93V\n",
       "hm4Cg0NNOmZkUH8YF/lC1isd2rfTewsUnheQ74uXjEHS4AAVSJTni8pkzTKXu3R6li+72rDIDHbT\n",
       "3m2ZIQ4My7RlwM1TYR7DV4D7m463FtbyafLqoJVfb34GUVulEqiUfi3Ue9L88MaEM9IHJkfeTcrt\n",
       "D5XnBpqaqaHSwjCwYJy4i7hMGQHAFudlGm6lAF1xLBUIKZ9Hg3ABRiiJWP4l7VQS8NNjAVnpzkw/\n",
       "ze1D+Sq/7twwUONLhJC+fVHcF0PfjiyGjbgXyfPOo/7E2zTiL2lPY3gxmLCb+jVcvPWxcE+DyJcZ\n",
       "ilQ2uH7zjEOkn/M36D0t8/R1I+kmjreErH3pCIZmgViSwDn+W4/fm5KDPxF10lvMO8STUfEZhaqR\n",
       "kK+dv8TD2reWGh9/Dr9haeF1IImws+bvx60AAAB/QZ8fRTRMM/8AAAvyb99AmM9Aeb1WSauPhr0j\n",
       "HNQ1mFRzFPHp9IAbYP7thRH3DPKLX0Q9rFtKjXjJScooCKIyTY7ch2MHW42jrQEFH30C+BOxZ6OC\n",
       "Da7b3qf1EMj+aa2m+gGXS9Tu2DHayM4jTRXmfM1QPHYFC4Amul+7oEJ3QAAAAEMBnz50Qr8AACDA\n",
       "3/SB/D1ANPdZYN+4zJDXBcZ1JHtMsoANq7vlUMU9nTTzmUpDAshoJqd9rXyo30Ns8ZTn4qHxADrh\n",
       "AAAAVwGfIGpCvwAAILViGDHwjO8YFEVxwnUiJbLjkjFADpHVVSz0GhSVoNLoh8vgpBLSAdkm6asM\n",
       "dby9IqyJTTBIt0izwD46pZpAizj3t39skSCx8qx86tAccAAAAvhBmyVJqEFomUwIf//+qZYAAHU2\n",
       "f/BO3wAXVdRkWFH7HQsNbGXvB6y5tb8ETLMj0+U/zB10rDiB70AJJQAFmsd8n+uAufwJ9PN6XyKj\n",
       "j5fEAgKt4nooD/puzYdejz6UiDfou8MIAGHyg04ROl5M05R33KehG1454GDGc4X69ny9G7wkn067\n",
       "APPrCmwc++aPC4V9eN1FGk1VlovZVKJ3x2vERbC4v/sLelCjsDXqJj3rrRKrVRaesNbZM1rrvWiM\n",
       "mzrQONdREiV/M831AuQw9D3Kb3QGZ9KE2WAnx6H7dg8fB6EXbxs+l+/DbtPJp/BFLUxPP6lFi4y0\n",
       "1hH3YInIj1B7MZHS0qKDsdOD/hiPPFlv2MwWnUEFZyBp9Nooe+0vyyuHua3f33tlItvtxvmUEYB7\n",
       "l70K6z68d8sfxu+rzHt4r9f4BZXOaCe+vAiXTMGOkWeo20IPc4AGT80NS/gAN6Mxfq19vOEm9d4M\n",
       "U0NfiagIkBsprSr/q1g7qe+xHpAUYZn5zAaFYy344ts0fwOnaBzmxURmj+AY66ZlN2wo3TPVbwHt\n",
       "etSZjRzcstu27n/jPDWmuRPVopMkJd1lEbR+SEeBmppjJIiL5Y+aqwOXgThDZKaKUztCG9XQEteg\n",
       "bT3lVHLcFCNOQlD6GItLfBd175ohu7RV5G/K/yPr/TmAderBg3jqerefvYIzilxtlgoTIqxRBhbT\n",
       "YIsnOP74f2fdVTP4F/2S5QS9kQJA7M61QvI2ri2c9SZrJwh6iRgqERDPX2OZbvnm5tNJqLMmqc3T\n",
       "blgxrCkpFBArw3ChI8VaT6QNz6LKUfAJgUDDPpxHUf5hn88VcfWeudW60+lFRQrzR6hmlN9eDfrN\n",
       "mkJOyJaZqMQY5QhKlmojp8QmRLme/JkpbRJEkNr1N151GM0EEHfymbmkEoY4ZVNVvLM0qVbQZTK9\n",
       "76vjo/ToUZseeV9MSkWo/EtEWdv2D+uZp1CfPQ2hF4kWd0wZsrcrwqvxvCc17FGth45by6ZGC4yN\n",
       "AAAAXEGfQ0URLDP/AABnDXWlqG5s1wyIvEdL+nC5QAfzylzOOJwTmLNmT0N1QqPp+rmLXaO6iTZa\n",
       "jIdO6I7IyUpbECZoyYnwYqZi7pTBRi2qmLhfOMbSR9cZanjtv4GwAAAAWQGfYnRCvwAAIMDf9IH8\n",
       "PUIe7+PvrVOzdqxK9YZiAFckMboNCPgzoecERPGXSLTlQVbB38gu+ZWksJ6K4+K7yaE/BieOx5fv\n",
       "64YGjtcw+wAC9OeUwu9+PCghAAAATAGfZGpCvwAAvzpPiTp8J5JC/YAL8K0XjF3VMOhPpNlnF4Gd\n",
       "JeVp/bfI9dYr22WbFVPWuIijlfPBbAMJWqSOpSZhwS5pO3gph5WUB80AAAJZQZtpSahBbJlMCH//\n",
       "/qmWAAF44W/BlgHAfP0eHrNXGHXXIpCIo37In3E8XdSEy1ywvbD2k/GENB8Knexl1AvkSUGGJdgu\n",
       "ih7dogGyLVFzU1uFprv7aH6XqigTm4HUQ/ARq/TlM/h8lPD7sECUbFn4G3QKZj55H8yRYAerzsjb\n",
       "4g0gtj1skrI2zCKtuITAc6lKqQLhYh+pCYNoU0OrJloZ1UKPc1bYWJn/FG9VEkwgEBfLPi6Cmlkq\n",
       "Y4YB+SSX8ouW+4aSwYakaB3fAhPGMA9hzac9Y4MoGdUMcIDVlIx5Ba9R1hqY9h7hjSiWlT8Hk779\n",
       "NnAF/w5FSMMIW+3SkdZVWwttoPWxF0lslFu7iytUse1ewxT/Heg1GFdj35FuUjZSbZmlSLwF82lu\n",
       "w3y7M1YFA+pFzB7QYuj4XEBbmklFO86Zmuk58L3zCXuvY0t6VZLTRCamAhJAz9YtEI3arwwgDM0O\n",
       "efnx2iCGmgB6B5pn1xg49gVG3kdGwGJAOt7dxPxjYlUtbi94sgkaHLD/bDQYqe5U4Bzv38yBHIzd\n",
       "Q9P8nh4KNwOAAqD8L+LhMD8P4rba0bCAgSE0O23NTDUPRKxHlngXlv8cuXBRfsruAEmLbjvnypvA\n",
       "K6i9UUUvesiMyCtwl9rumYrycKJHmFL8V5LUxkVGOSTzekZeoXKNjdtOuV0eD1viAuPJoMqXSql3\n",
       "wrreL9aQzwpGNY1c4j/snHt3XhxDyG5tVnNW4IpY4zdH0NEDSh9SfvPFIDhwrpYTXo0C/5BV6j0Q\n",
       "aq63rCTtQA76RIPorq59sumncQAAAGtBn4dFFSwz/wABR1ALAcKkALZb7JyCloxrDDj6zeSbTluk\n",
       "WKo+1wtrJvQQAZAuX8GHVmbQp9wcUFwxX8I1z15NOMVZDhHBhgMtzzXfuhcuzv66Pi7bQa9cx1Al\n",
       "IFwPUjmECzalm837X6h6wQAAAGABn6Z0Qr8AAlsMwMAK5WuHr+sOzzyCjimmak2Z76LbjJj+ZUhR\n",
       "RTcHSxcpqU1mC0wsZ38vZGiHYCLhPs6cXb2GGvhizaXyJJge6R1Gamhro0CH6j9fWkMEU6hTDEmS\n",
       "YScAAABFAZ+oakK/AAJLPKhADdX33xdl/3YfiPSFwWU4L1K12nuxpl1HIfuh4O3eg3TBsRrd7f5X\n",
       "eaHB1hU6boyU1Y3d8XWzxKMqAAAB30GbrUmoQWyZTAh///6plgAAck4LeB+qgDQSa69mFduzvAhk\n",
       "AmKftEvflHOnf5UJyqizXrTIpQfQFFCdJNxf+X0680yO+o547IdP7EZq0+SN4Y9cSGxRxZoqlLN6\n",
       "DfyVG0ewVOWWXcHMvN3qPUCZ5ovcZV2SJZh6i2qLVUyOl7EtCfE+2MwNgdKzbqOetrE6MHPQpx9N\n",
       "Rjz9gSMW0DZAnKkQdIn56wwV0s1YWSZKPJpd6YYNh7eJ/jKp6bKRRNkcSTcV8PFJ6SXmFCao8KJD\n",
       "NMuGdPQPlNaAW6K5ci+IT8IR4j4FEcZahFYxScIPW6YWWm2ueJgpmWCwee2b4cOiWiSQcEWRsujc\n",
       "5Uc67VqKyiTGilBWcUjI/06qNWBjlGX5PgOZm4HXlWllfCmwYNfQNwiWidn5Zg2gMotXgZzMfV2V\n",
       "AVFF2lpPi5ENEmLRqZFU5QR21bcE5fc5dwnzDrTq8jUmSfUPYAEkhLUnCwz+yUWhYu1cTkO1ewp6\n",
       "DYjEI3kSOZ7zb/AOv8e2ipHU/HtanEPY5AJD8BDEHwz6pZVj343lMKBaPxOq6aVnqGhv7ba+X4ky\n",
       "5FjK1bPX4ok7hqFphwN21Nm6QxDN2XTC++zdVjJa6GenQA0aU/jJvHeqXJi3AAAAVkGfy0UVLDP/\n",
       "AABkYu5siRjdVBnAAfz1mvKXovZ/Gx5Dw19Orh4pTIIwqOj6DPvqfc6SEcN+vAIfchQGXYscZOgj\n",
       "YRrjfPqrvvOCo/rad6Q8GjiXQs+AAAAASQGf6nRCvwAAuiYJbD6wA1zAX16QdGV466KYfMZr31mO\n",
       "n5y2vAZ9opmRE95EP8VwQx0PyF4znwCxmFTyAaDxcK1BqHofM6ZELUwAAABFAZ/sakK/AAAgtWIY\n",
       "NS2n4MRPvqgAFgnV91Hfqbhz/zFkNTYQO7FwtrcGjEadDUM+dCBmm/BBrNhOfDl0BP/slK4qx1LP\n",
       "AAABs0Gb8UmoQWyZTAh3//6plgAAcddNnXO3uKA8AE/9FipfegaJAmL9S/QyseUu7g+jKqLkJ5oA\n",
       "Ds4yJLq7rkjwJ5D3mfoCP7GLF4rtIPOQYactw0VpoJgzPn61CLinhbdqcGtL+D1Y+6693ic9PCo1\n",
       "bFuzJJUb4MeHosprDBLEeAvxK2XOUZrtOi5L2Aq9q9QjbeQZ83HOsQwhfLuUak3Dous7LCxLI/NI\n",
       "1vYKkauSLa8S/S/QON7tpLDMJE0WGyYUXtYlqX5LTdl4A/zCMQ6L/MKW+4/ykGQfBJRxPuXMhzZu\n",
       "WEniNCKsR5Ci53atXiSxnGUJhqsJDJ9mTVt+Dj83jZSWjlLTDL7OXdpIbwY/XGJ9e4pwWegaFZjK\n",
       "JykaSiz96srVcW5k8YmqcbyfYKOo8bBCVAkdBSbUi06IcIwv+3ZHUNM4MgMNZwii8KsqJRl0/NFK\n",
       "hUSSviLt5pZxmGZFuWMIwTVlcXxHRa78IDoAE233rMbOz8W+9ZiefToxJnORq8VwX3we1Al//rKT\n",
       "ty/xFw43HGhTs1OsBSuKe6kgyMOVUtftuVGGXvSYcpRdip4+cs3j/QAAAEVBng9FFSwz/wAAC/MO\n",
       "0qLc2jNcCRB70vnAAZ02CACaaVZEcKG+i2b6m14n/VI4PF7vVH8o7s6Ao0rrmXZqmY1A8Tyog48A\n",
       "AAA4AZ4udEK/AAAgwN/0hfIe2FZ9CjYiVE0cWm1gLuhhOryA4ubnPa1K1FQvTnXi4ATt3Uku9xN4\n",
       "a0gAAABCAZ4wakK/AAAgtWIYNOLT7xsjSJ0qGgQqYgBuYUCTSokMNjeFrHGSD7hAAm+JJpeQcEtD\n",
       "oV8M5eE5hdZ29y71W5O6AAABTEGaNEmoQWyZTAh3//6plgAAAwBQO+K0nnk8FYmIOjlCR4wCbDoN\n",
       "d/jdbPy5/qq+s8Asczx9RZefd2M/FQ7oOUn+5cw7R96FK7+AUiY2NM0oLmkw+RdBrXAo6WObZw4Y\n",
       "4BpwjPS+fC5Qti2PRvjvnMi3PpVSJi8lMam+akjQ3kiLHSohvWWKLpAiUjQgiQkNkuXmDmFtaND0\n",
       "Qfe1YVd8AMoZ6s9mz4D34wtiirdhUN8et1ibTT3r/UYswllnmmdOzkExc8JnQNeJ65xQbqq44+s3\n",
       "B9SKTN+m5DI/7TtJFKHdwXgcGSUT1wihRUd3AGR8TQvvUS+QbE+SFsHisMAbeU57Zm6VzHYwTMJs\n",
       "zQgx4Eh1jaJnChIqWBdvy9hiF/obYlWsoTePIBI2Kjq7xQhf4kpYz+1gXqorObYhCtB0AvgBZ7U3\n",
       "YgtjxfyuNVC5AAAAU0GeUkUVLC//AAAP5Ea9qlfUWXh96Mz4LA4TfZN3aG0b043lXfgcANylZYSj\n",
       "8eD5k0Ch+CrmxX7tpXRWguJ7E4xpaNh/XCvqT856SETIHI7NCibgAAAAOQGec2pCvwAAILViGDTi\n",
       "0+8bIz7Br1ReY2cVqIzzHkocF31tGShFFr02f3pa6JSg+SwAnTMZLRhJWAAAAT5BmndJqEFsmUwI\n",
       "d//+qZYAAAMAAERYtDr4OAod0Aw2mt+qaNTQwkoOiWrChz5F6p9BAzxH7u8QKmUyqd4yCnoM3yxO\n",
       "3tJXRu93N97ot72FmOCfT32Uvv7yapMe82ZwWJH/NoZAaWSrLjDvunEoUrCttyKuJn3okzGlINWD\n",
       "fLssL2W1iDU9rKVcfPfTaJt/eAeQx+O9HXyQbhvrWJx7FnufMMnTbqY1ylJI6jyXO0GfXw0iKy6m\n",
       "fxrUSE+CtulWUpz+2dCn15AODLQxx4GFx3+TYNdXj7zRyRZF9L+WUjBJ2mKGM/omoicJiw4QRrGH\n",
       "i+IoGc+uB4KLF1kMLU9wPsF1PQEFyabtyzLreF8OFC9/36CriSA/V6H7ATGt3jmjbwEyaqsEotsS\n",
       "bv9N+1fFlYn9msMjVMi+Wro3xY5Gxs0AAABTQZ6VRRUsL/8AAA/kRr2qV9RZeH3ozPgsDhN9kmFl\n",
       "rwfownb9dLgAqWLl5yXaDcE4T7X1Vep2rgGH7KYyAvllrb6I6Kl3kbDBg1aJz3oNzih/ZV8AAABA\n",
       "AZ62akK/AAAgtWIYNOLT7xsjPsGvVIgOIHjhNiAAODLfh51oENj4yifDIrq7NFs7xGLFXT+OlCoz\n",
       "7cgVYGAOywAAAT9BmrpJqEFsmUwId//+qZYAAAMAUDvivy/MAmOqbgrKVDkP2LaMS3m/3dqoy5eb\n",
       "NeYAvDEIRhTozzSnzPm+V17VznbJEcMlXZJA24HQZo3ozqtUA2tJHStxbScVSD/huPvXnQp2Mlqc\n",
       "tDh9k8AK2Uh6TL7qI1HuQkmWAPd2/0SP8pQghkC48bd5mWyqzXEwj0TcTSETbFoRrIT3qIdpNnt7\n",
       "+Bfhc7flV47Qh5fVuOP24zT3k+8kih0DIqm1tTIc2aoLJlkuoVssNSDpzdT9+3R3JoBHY6zLoP8t\n",
       "FLHx4ZbHJdTduE03Bd0p/MpNXF0GBc/vmb95uYYrlgCjzsiWrZdg33+FC5G4idGRJl3qFz9NYcqU\n",
       "PiKVpiMyMqDjk+vfFkaYPbJVw+54eEdyHln4qSRyyvm5LB5X2yK6JbmzIFSBAAAAW0Ge2EUVLC//\n",
       "AAAP5Ea9qlfUWXh96Mz4LA4TfZJhZgCZ6IBPvnMG1pKLgehni8ARKpanFLfYCrYJ5Q0o3HbjGmeY\n",
       "M65mgHwcjz7mhUaAlvYYONrxhsViQaloz4AAAAAsAZ75akK/AAAgtWIYNOLT7xsjPsGvVIgOIFf9\n",
       "UtALEaPNI/PLYL7NYlmrmVEAAADiQZr8SahBbJlMFEw///6plgAAcc3xiAoTwbjaW/e6ckcvAOJg\n",
       "xCgaJiqsiQmVLYRFxSTH1OCCsbZ/1IOlRqeMDIk//AwjE5QJ+T3i8DtSplmdCZtZcnoPzY+t/+4v\n",
       "zJlfKb51NjP4RxrDxwGfKt3RczJgN0RstYFFuLBtAP1PqC4dmPbO24tuAsNlXvAs4cqlrVSfzart\n",
       "xnxbtP9RGpLyrWt5SMgjGkkd0OzQDYFDg+E/5GwfDLJ2TCMFdg6lJYp4aIb6qB1v6ptDoAayUjKR\n",
       "8uXwu2SPU9FgC3iWAO35P3M0jAAAAEoBnxtqQr8AALXX9VANqU1SrPPk0kzTXLc/toNrm0kDgNAX\n",
       "8FCJVvo8GYAGrapchn5mPqVvQjn2mt+7VpPcjoh/51tJDxjtoQBvwQAAAiFBmwBJ4QpSZTAh//6p\n",
       "lgAAAwBQPLm0HCTK66juC1bvkXo9ACIcgfgaejjkabi6eumH4lfVxbNImp3Z/qu57TpF6i8dSmJ4\n",
       "Z/4IxlokbYm8uG6CqAuKgiLonr/GpXabnIaxw+UWHW1T2wYgdcD96oyTC9oOPUMiRbHMLv5+nC37\n",
       "bcdYFzP8DKvlZwVORM0KMkpozT85fF7X2ypUq0cYmB7jIjgTuM8/rKae5X3z1D9V9/t6BI4T3X6e\n",
       "YEH1TZuIlhLrcTqFABOR/1j53+nRQP/9bXl4dKLyDdc+L/9HBBMxQeNaUPB2UlfjLdKRxtIsxBtS\n",
       "1sVpQ1Mvj4zb2VAEiQNce0bjiAMDamJMpmGaLYybpCgQLQ6I9B+x77DjVIEVLoTDPZ+FUwyh0eek\n",
       "xudK2FhrrQiguADhfVt4KtcjFPanKVeFrgDu0yQL6R4YKTTVeScvkYua8nM6SwlVIUeG2bw8i5ST\n",
       "NFiumHpuYZcBxm7Cbkbnaf/UwJk2W2UDSZkYkRKPeloQXswlp57MNSLNId43+G0lqRm52+VWijOU\n",
       "BtW8z8shlQKCarpSQQzsWxZlNqhO1At37525CmJ8WkBLvho7qGaxr2YRaI/E8d2fmTRKdc+VCThQ\n",
       "V3bILCPdXzpnCb4TqCGZH91lB9+/SVLQ1ZPglRWrYKa6n6HloYVHPseqiIy+fX8HmLSfmVgywH5T\n",
       "cT/YTvjTVD+qpFcL6LXKmKgHXQAAAINBnz5FNEwz/wAAYhhxUglglgwg/BZf3xvdxv+GgH3Xn3to\n",
       "sIokxljnOsABGBvA8dAcw2VDWRAmKQXAS5/VIujxnB3qqRtGHA29DBGh7zzJ0SwmIuKS2+eWjYox\n",
       "gyjqD/YtUjbXCLmOCmCUqFHzjAQpse05djsth3FIAeg/vNJD7tXgmAAAAFcBn110Qr8AALWmE1Ff\n",
       "Kxqll1hZHYO68P6Vmb54KswNl37MAE/60LD2XA760VhElGNojxhLBV+krZporEr8bUMF87mmUS5f\n",
       "w8wfQPCgD3iwi3emkqygB4QAAABXAZ9fakK/AAC11/VQDaj2KYm5hQBDmUu/pjPpKZg7v/Kmjbcg\n",
       "AA3i1w1HuG7U66ZOml9PWiXvTj6gkvAyeRUhcVmQAw+7OW6PZO2jeDk4+LoOnAkgSgKvAAAC4EGb\n",
       "REmoQWiZTAh///6plgAAZbZ/9oceNAB/CHr47hOgQpdGvBTmaZcLFhLAm23XGpOVxnYrQeHohXLa\n",
       "3+rnPK71mtQQ1GXho7u7lUwohfB2w+dfM5Yl/YHJCMyusBfea4CiAIrXxnFZaIBtWy6MtBkbfv4G\n",
       "fGX+8mH+7fQlG/M/LeqT+nHldxmCBuPofo/hfzQcHMtHlJt9KUknHawi/airSHbk6j8L1rEW+kJF\n",
       "wgkmEBrBejShU97xx+MrgyQJqc5GpP3IFpqjDf3/MYreSxv6ysmB6/5xwbyQxf2bB1+FfWITKdMV\n",
       "zozhVrBRQbV7+4pcQWirI2ASs4V4Px0jgYg+egXvicpoCvE6xUTjPzPAwToentk5ToDjzYwoEKrc\n",
       "TKIrX+OUZBtEhhtwBkjhenIValyRylXYPfT8jv7BL70ZbXmMoboFqVQN1AgQmKflhIepkXn4asEL\n",
       "Jx4ytTObbFeq8ok62EyeUjRYFkOpeYl7l8rfY0nrcmh5kkR3bRkKpa3bGzFFsuPnUgylgYTzUpCp\n",
       "flZn2LaXtzxSNTtVljen5v5Gyvzx5vvEXTjrvsXy4kk5MTSNh9mVZ1imQFpRBLpA4Z/shwhErs3B\n",
       "RNQbC1kaK0JShhLJEooPb9ljIN6TVizBQ5l1MLR9wkqOjJfuaGGdphKScAsX8r+QsAF98oofDhyf\n",
       "NUOkFuQWS/7fhAZ/JtIAfcxeGsNvBt3rohvhHPctB6pT5guPgXvtY0koptxMC/FCYfBtaV0DSNZ5\n",
       "+d77nxkPOtLUPhk8hSyaqVcCi9M7DfMhUumTKaZQ06dsE7tB23DKoAePiqKaK+F6i8A8fISu2Vj/\n",
       "5t5Gdj7y8iFmqutoDNrnURMk6aLhfzPrpJoj8GISoBaeaoM6t4ZnWkRWoOJHJ/5QBldv8lG3KGib\n",
       "bgvhAM4Kv35JMZF3OMb1Vp37WNwB/holKT4WXb4nR50QB5DzG36oXfUWCpxwYpN9B9wAAABgQZ9i\n",
       "RREsM/8AAGIYeUGZAzJAvYHhMBWUYZkwxlHDYvb0ABcL/es6GkAywSKOlJSCZc81cCf7cUm7TcdZ\n",
       "BkBUuoVyMp2VsYOF2+ONH2DgowGhgReLtUMWQmrOryoMzOOBAAAAVQGfgXRCvwAAtaYTUV8rGqWX\n",
       "XCCVt/82litgXqhAJpOqrSMfYpClbA7aF6YaB8UPGV4bPoq6z0qbye8pAcFkCs08zT7pmbsaqZNB\n",
       "EA66XH3z47ZABlQAAABQAZ+DakK/AAC12E9h8tJuWy/5LFfyXjBVR2ZSc2kL/PkULQP6oxqHl4A7\n",
       "AdXJsGw9bZg3K2fo4AGyRIDC8mYf6d7ZMohZALp6FRMaaXwAsoEAAAIHQZuISahBbJlMCHf//qmW\n",
       "AAFC4W1Nb2+/OgAbhC/g7yZLBBQxnFUutZUaitJER3RopTyHTbvIlY5syuS/sklxHcxO8QTBhA15\n",
       "tQpXSC5+ziYSnIuAe2zOuuEc3jGn4uOHZRbbeECgd5nlF99RcG8eXmDFFmV9UNw5oSNZ+/5u3WgM\n",
       "+hM9DrIcwYMt/QbEGPBZ1OKgISEJFLjJBXFHnbsSEEBAEHXAyDQXnfsLrMpgGNdNlzyqwny7hEB1\n",
       "cjb5x9DeV4lLwhF3QXtVVKlb//wO+xulf5pfcypjjMZMHBIwQ41Xz+sIk2GOomWAm+jPiKhV80o/\n",
       "efUrAREl5Wzxu9jLRCkDKIziy1EEtZ8gBQdCtqM8a2E2HE9hauONbph1zRwx0vEHsXPhHScWydP/\n",
       "4d4E80hnS6PAZyYUbtC7lYceCzDo7rDEHlmN1iUCrqb1sPJCb0WXGpQl+31OWXmcG2t8DwgvAeuM\n",
       "/jltoyekyHU8Yp3SsADPmScMZQFFcogDoD3WqRWyNv1cXely1i7a2qz9RKYaPpWXyS9AHwpUTewc\n",
       "c9VmA4lg/SE7NdnqZ5MJfWiorG3IN9m/1o6uEL52RfFLY4VKDH2LPttfthmM53N3OGvgQnxKpPW3\n",
       "vQYAdVdp+r//7s14HDzRDZcIrtN0HLynOna+WMtqfWqMP4240EfqQuqA2Y2XdmPhAAAAZUGfpkUV\n",
       "LDP/AAERn4gffXAC2nRNGTtkEojFUBfPJd9I8JpMS5HO8AroskeTSmG1Yx1kHR5UHBuF6Hw3g0AN\n",
       "RgFHxlOr6+xLZ0LbfGmkQKf46IHJNUU48+GzYYmUB5XcJ9iTLHpBAAAAUAGfxXRCvwAB+yA+YwBD\n",
       "15dAMrt1G+0hmKGx6gNOWrt4K4X0Aa2zeM0aeqSFa5we3OI5CUgwoO2OWSgcO4r1qQpMtYHJNTK7\n",
       "5qvBUgP0i0kPAAAAWQGfx2pCvwAB/A0xgBuZ6ljS696E/ZpjjHeQQjQzGAiqrGhPf0JnVhecWA7R\n",
       "icZgjQ/YUAXDEmeyPSDCgRrNV2Xh86GU9vYlcN1MxQ88N1U+g0VWEOiXtCygAAABq0Gby0moQWyZ\n",
       "TAh///6plgAAcddFsJfPSeeaZxAE/51JGWaf9KqBQfDbMU8V7dP4h4qF2OLcmvqgTPU8D7dNqXN/\n",
       "jk8GUcJRn1isJjsCVp0sImXbw24ZuTjOyN4iB+NQ2gJufERWEKneaPz99or7yOZWd5a38ROuJ0s3\n",
       "lxG+z+ynuwQdbnjRteSHgUGU70B0kgRKwwtyMTQschpTUbQSgopxm/jCwLPuqgLMnP3pcy45WHhk\n",
       "bna8rLFNwH9Kf2vyaUCSanH2p7D1Et+PW/ncr6FNvXA4Vlm9cyePZ6kD996cJ4k+oVHBQiPv6Hii\n",
       "2RiAll6WA3pPtNKYY9cxDuU0CnPmOE0yrBWpCJ/CHgiWSV2KzmK2mwUwoVDvkBiWJf0WiXNRcY+B\n",
       "3dHUX77dU7OAzgvHp2Sr7poictO4WPlS3XAkNVjPX5jBZGK8gzN3Ke4wOaH9NrWCnOWAI5GGWZLW\n",
       "0f1NOtHxkyuXF5Dx04vOzeatAhpWFY/hehPEMChBMoSMSAMWU++sP14cehFCKoNg9+uUjGT3JPbW\n",
       "TN63MKklK/dKiXhBdDwuzfJprLwAAABRQZ/pRRUsL/8AAXTIvcvzFHX6szNSIAWCndo3C+fvpBQh\n",
       "Se1TeVf/xFGk2062cxJ27yOIV203TI0ZJhZ7a/78afNoovVLc9dqVJ9nsS5gAO5fAAAATQGeCmpC\n",
       "vwAAqFf3p//ilLkn+1YgBo1iMR9SwGFbsLtjYociQgYOlUFcZHqb/Eb8WijrNA7RT1u1kC0/qMWe\n",
       "vOtA0WIhwmCj2BZE3vHAAAABckGaD0moQWyZTAh3//6plgAACcs8cvfkSwP4Bau9EeYv/59cvFSc\n",
       "wIEcA68ewUN2gYIdjmCYQDkorPD6zNAK7NRLRq+smOGrFHjw/3o4jV9w0xo5VieEhpLkByu0Iu/5\n",
       "efV+f/bzEeb+RVlDf/rs8HxGL/blmQwcx0fHxC/GrbnZ/a2MHMohi1UNY24pw3jaj9X9gNfT7nDe\n",
       "P5uuRPUChuBSOWH9b6OjWfd1N6ZAIOmnQadgGJuiz5Nq7ywYCQ2T7g+z+5A/AQgR/wrudg+lDL37\n",
       "ZuWjHC4MZvR0spdVyOZuDl+WDoZhovc6Kopks08XB1UmrtuSpzr6HE5nvvFsTTO8aC3uQLoUAs5C\n",
       "9QqcGtWVmFRthWg+v6D0dgpeBGUDhpFqg9C0iRXsStRkoRMvSOyksapTgI39+Lw5QH0OxyCn4YVx\n",
       "+OtOYdiPbGJcLnsH0ysooxJYMwJRLaYixcylE9tMWBiPQuZq0NYJi+TbMeqZlpAAAABdQZ4tRRUs\n",
       "M/8AAQ3Xd/bjsmyD/pEYuSRQCpIlaQAmrxVsvsBk706LGEzf3CFIRTckPucD8QYWTAgfDQvyEIcG\n",
       "CA2D/MToMKs4hClRR2KjGy3UgEXRu1U+IXZce0dNAAAAQQGeTHRCvwAAqCYTk18rGW53oElkgBuZ\n",
       "34ooS3VqLCkQFWQcs95aDt6Qjg1bqOwgvAF6svAO5Kd8q7xyf/h6LLuBAAAASwGeTmpCvwAAqFf1\n",
       "kg2o9ODnPwgXXl/ebEAN150m5eAutls9UZDJkC5xKyql5rU+GGbTkpbeILeA8Ov0xk1qRg3bkuv3\n",
       "WYWTLOmk4QAAAXdBmlNJqEFsmUwId//+qZYAAAnLQcfiAaSHXOIn5RR+Q5xU6o7WhRFesbFkYMJi\n",
       "I5JLgAU4Vx5xgTUmSr3zXxXl3YS7qNL+0Ma6Bz0dK/XwbbWldKl+WdmxEPQ36wFRRFYbcdUTeBaJ\n",
       "ToqMZphb5adNr2y9mtx9CwiU/H8iHqLeDiBJNWfVNABfh66wbVZIBnWz5tFbBJAtT7a2z0l0dmLR\n",
       "L6MDRF3o46UD1dtof+Oao93Z8w9wk32VfY88C+gkzue4f9PgVe7cPXxhyKVxyWvPnKAqQX8M/xkF\n",
       "au2P1mHHeeXT2YkUFVXvLwT13lEDlvQix1yyOY0E0SASFcBNSaT0n7NmvOHF7d3SVzv+XWWILhVU\n",
       "SFX4cvF54sFVwGfX3mOYkT0v2IuOyEpzNirpiBPiihJvQkL/ExFnm9s4f+HOh2zU7DdQEoqA1bUe\n",
       "F/4Rv20mcDB1f6fCGN+vyPvi2HWjRgKzJc5POIqmBjF1S6WhyWtguG8L3CQAAABVQZ5xRRUsM/8A\n",
       "AQ3Xd/bjsmyD/pDzSb59VMYIPRCJerJMIgmKRQ12dcaxOgBLUvFcUwl8AqT+JpagIdVXE4ynl3Q6\n",
       "BZmquVDv/s7uOeE8yNCm8DMknAAAAD0BnpB0Qr8AAKgmE5NfKxlf/q+6o4nCmGp2vMC9oAIq9Nm7\n",
       "08nLi21c0UARdbvmRREcezUUWKvXgVm045YFAAAAOAGekmpCvwAAqFf1kg2o9N//L50CXuwiQ8ex\n",
       "P/MANzT05qPcZnPYTkB4ZXrjMxGc6ui5JtwzZfWwAAABH0GalkmoQWyZTAh3//6plgAAAwACc/I7\n",
       "KbtL9LF5sAJgfkIORlJfH8AdHRZmf9rQT98JE7OImKBrnPQrypFuYqIFBiWGE6FaIKAQQO2HnLNj\n",
       "r2+oMd8hqPCU0R1Ofze2PQsseZG1l3B5hyamwi5MwVzO722RuQqaXlt0QicCn8bkC/EnMqsmkECz\n",
       "7SfmLY2WQbY4YMlaEtCxBRd9fOKXJbB048vIS5b25HC45YdchCrifBMWrFeuSeF70HiIZZu1KC5Z\n",
       "bcHHVTjz5EtIbZF3kpMNMQqPnJIlYdfZrN7oCY+JqFZQZrN66Ek0iAreEDlv7n8/33iPTuWkk6as\n",
       "h/ydwC6FGrog1LZCsHz6DBF4vH4jnuMQ9OdUredNdlGNok2AAAAAXkGetEUVLC//AAF0yL3uq9pm\n",
       "8Jo5vK786s8CS3Eh3RBkWkYV0WC7lN+S4l+zACaSjIy5Bn1QU5dTS5qsP/EKj4B7rb7Fct6hCdAv\n",
       "QvjMZ1sLHcjPhflCI7rXkqL3EHEAAAA4AZ7VakK/AACoV/WSDaj03/8vnQJe7CH+Hf83rAEIymgX\n",
       "EyvKGtu0hMsmJGZpKeODhvALpwBLLVQAAADrQZrZSahBbJlMCG///qeEAAADAAB2k8Vh13T8EHk+\n",
       "iANwJejZZNRS9WROqmlDVp+5uEwmlQu7X/27j8YIHhi869QoptaJJFmM4lbM4myjtb0CewGHVff6\n",
       "3+ffp9Msv2tr49acoUSC0Z7USi1pmS+Y9FySkXYgJPtVFt6AAIFmC1semzlyaRiXFFqrsWggbJ+m\n",
       "WtAqUH2IE1psk6pPvkCikPb1c2IIMil4C2mRlYp+ctFd1578rkGgXP3tetVwEVTQoCOFlq1vGP2e\n",
       "J6MiiASO9pNsbasBixq2c/jaOihEUd2X+HYIJngRO8e5IQAAAElBnvdFFSwv/wABdMi97qvaZvCa\n",
       "Obyu/OrPAktxId0QZFpAPvJbhAKm1LUyvy/JJtb0RFf8f35hExBVwANWrMjhUQH99edjTpR9AAAA\n",
       "KwGfGGpCvwAAqFf1kg2o9N//L50CXuwh/QcnJpBDnK2VBpUjZBCk6F6wScAAAAB4QZsaSahBbJlM\n",
       "CHf//qmWAAADAAAF24wSAQQu/efJkFi6rLTFmC/KWf+RrH6iK4+w2DbXyC+Mk5ELnJq3wxnHk/el\n",
       "Fk6SO5RgWc/aEo7mxRU13mOsGONr51WrU5vy8+33HtNH1ojTkOw0Yvp2oPFyJ+TKOs2wI8GBAAAA\n",
       "XUGbO0nhClJlMCHf/qmWAAADAAAFt1L8+gAmgRuZFBx6RpEgrR+n03ZixfszvlJV5c+Mbu684EnJ\n",
       "GJymx/rOuY/jSb1Es/EM66tgdy9OLjbUuX7w/cs90tegnnpYEAAAAYpBm19J4Q6JlMCHf/6plgAA\n",
       "AwAAtvIWgAuq5Yp7c78gPDY8rUOrkiDcETu2IYrOiLsIyg2OJzBeL/G81+EB/g2ghrLyVA4eDXvx\n",
       "1yQxWicS8b2WmGYoR9ANs4CejIuRpD/W9g9iLvcGCMiEc5eVbJKXt2mtARNTktxieiwjAMtkfPqZ\n",
       "T/W2Pu8zXC2E8QlmP1JhQoxF8aj7z6J5fLUZJdCp7sDejYv+0P89wg0rLD/4952oyWpDDRSe7pbK\n",
       "FN6+8t+yPA2pu/g0J+0m4ONDwq3DPeN+nbnNhqSsr3dcMEXxHlD2FsQXwfpSXkGb7eCRdPYVtpWD\n",
       "l9LsJFk9qPqTX7TIHxugs4hrWmQpK2Cd+phHkEBWjFtEegu6UFaMYPdPb2BZ5dYLHwzUqullPEYa\n",
       "kEvOs74yrzBMrM5wJwxz8DhF+5MI9Rxax7vlHfEf5KMKAbHSOVeelqm6g4dcpMYQKA6Ti4Ux2FdF\n",
       "j5VXBMn+2V0dhWUYh389YHitpDlDN/14SeTlW+9yq21R6/zBAAAAbEGffUURPDP/AAENyC1CdrJs\n",
       "PDL/qOTfPqpVpkW654uQorH3WVguq+CwBfjOCw0cdRbuR6nkPq01DmB1xg+QVsu2xk9uJXEFv6YI\n",
       "t1G1hkV+UF+UN0XLCplKqg1Vn42sqVPScPogA4sLr9EdUQAAAD4Bn5x0Qr8AAKgmE5NfKxlf/q+6\n",
       "o4nCfLhEl8T7EYu6WIwJUKEO72ZAC3juU96kydkxRckjrzXJDsc4kt4EXAAAAFcBn55qQr8AAKhX\n",
       "9ZINqPTf/y+dAl7sIhEZei0GSXQVs5IANIENwGBbIFDuai24UjaKoFa0Aat13PjksyyAta+/QoHH\n",
       "F//lSBro9802eAVE10K1VGDPg44AAAI1QZuDSahBaJlMCG///qeEAAA3QbGuAFey8Sd3go3HKq4L\n",
       "jTk6Q/fnmVmJijTsHx2uu8JPpPbDmeOYNC+MF7ldtlz54KsL5wX61EPftUnFfen//WnPfHZebwpb\n",
       "UZzyBqoG+v1xqbjHXLLlFTk2RNzxCgWXmUFSMPvB0OvZxzh+dIZCKUYPGu5IQS8vSx15bn+lDxdE\n",
       "TLxtIJXh5RxbvV4s4ZPRJq4wwRRo5wwIKd6sS0Dr7QJEaLZmejOAhKbGdaLYdnUPsCPN1lEniLql\n",
       "UxbWT3uTkxkYs4LN5CUEQjxwB4/f80WilRoeMq+89ud9eY3tZ1M+6g9buqqIfBTi/2TjXWz4hLVb\n",
       "ZIcI8sN/HByg+AZ6HeoBNndrRv6+HxAU7PVDqZm6vHeb+NiL1U2ZCUEBvJX3CwGbXUdsEkCNskSA\n",
       "VBvmDPAn6+FAFv8YTH/HoJDDFdEerZCV9p2l2RWkTz/3OTf8ZTgEPGBcYaXQOkvuMAY4gD+8ioG4\n",
       "PMoWuzEmCXHcLodL6o/42SC+AjI0GyQyRfbe8RC+n2AknrvncSxz5al16D61K1nrb1S9NoyGO+AH\n",
       "CcrumU+35FLz/jpmK7Hel7JB6/9+0W+dRfs1Cn8yygIzJ9ueOCqtozSbk2bhRk7DVPnPPekkhdX7\n",
       "th3RW9Nsshgy5GOJUGx1b3FdcYk4Eb+DO+a6XU8sOGwKxtDEb9F4CNhNovD6pd4k/07584HGYM/d\n",
       "PEPpq6wA+955p0gXgU8SyttGBQAAAHJBn6FFESwz/wABDdd39uP3iUgarAVA9ACwaN/Qvplo4ARg\n",
       "Ur1hHqUD56ZEQHJpmvqncbU2MR5/crjDv+RXNNk2xM/ey9aAzmzsfqeG/TizIB6kreMR5VAqq3y0\n",
       "6DudODfMix0L58svQUvns8jD+aWKHsAAAABXAZ/AdEK/AACoJhOTXysZYMJwjECg/VLpjUXvjO5+\n",
       "ZAHwIAFgbIY9nxrQ23L57FOxLnIh90yu4vR2+v7IOOOQP7Egf6ApxhlF1vv6uEedyECbs3oqwJuB\n",
       "AAAAUwGfwmpCvwAAqFg5wa8/wNjY9L8SEYQWw0ALVxUDmgkkYYFaAL8PLra7wj3q1zzcr5BWzS/0\n",
       "ab84e4pBg8MJX+npTEQvowl1roUpEQEp6MYd4BewAAABQ0Gbx0moQWyZTAhX//44QAAg3Eu2NOmA\n",
       "LAC0U/+ecKlNhL2ZOuSXyzIkFtwCYtNr/yBAH968ZHanyqG6EDXv9aYmN0SPQb2xGeDUpimJejjA\n",
       "FW+HBdyqOxwWg1EtDH3vAe+1eWC9uMLxjQd9nBgo+9eB7kzraX0a5henRNwCC72pKZrYNoZsbIcY\n",
       "l2cxORQw8ICOMv07EWgvb8xqzjCTnsyffeKXlpQPq3yAU+doY/2hAAWmlemAyFdPaeT04LTpid1M\n",
       "nZZcXPjl9ZEdDZc8k7GaIT1kNU2DTBujNpTlKATEiOg+aNJyqcSpo3ez9ty5qmqJm8Bg9MOAzGX0\n",
       "I/1D7mE/rBnpn6WCM87m2UvmgdbddZ8JPdXRP+F4x1YW7aKsCeM6U+GpdIPAKy48aALPu/Rs19Ny\n",
       "5n10GD+BenMKuSZ/khSBAAAAZUGf5UUVLDP/AAEN14p/FJ3JgAug3HOYJPNo8CuStpV99dbecLfR\n",
       "m8e0otd4d03dwqpANy7gdQl71SQ1Qs4Fa35uMoFBpum4lRFmkhq7keT8cruiMf/MgpN6P3UPn6J1\n",
       "lw0hB6PhAAAATQGeBHRCvwABxCDSvQA4MxMQWvKCY3MJIvkLWbmr4LifbMT8+2QmDSPlI2DG0nWX\n",
       "n9tGRmmV/IGZHtz3TFNhaQtxPKNdew9Xg0bH3QSdAAAASgGeBmpCvwABuRlqEIAWSGgrIDcN9nzM\n",
       "uxyVU7mspOWBlrKQXOb9rUM7lWGN4AOe7qwkdGqoM81TvWRXKjCWkDOdS/HetehW4wm5AAAMDm1v\n",
       "b3YAAABsbXZoZAAAAAAAAAAAAAAAAAAAA+gAACcQAAEAAAEAAAAAAAAAAAAAAAABAAAAAAAAAAAA\n",
       "AAAAAAAAAQAAAAAAAAAAAAAAAAAAQAAAAAAAAAAAAAAAAAAAAAAAAAAAAAAAAAAAAAAAAAIAAAs4\n",
       "dHJhawAAAFx0a2hkAAAAAwAAAAAAAAAAAAAAAQAAAAAAACcQAAAAAAAAAAAAAAAAAAAAAAABAAAA\n",
       "AAAAAAAAAAAAAAAAAQAAAAAAAAAAAAAAAAAAQAAAAALQAAABsAAAAAAAJGVkdHMAAAAcZWxzdAAA\n",
       "AAAAAAABAAAnEAAABAAAAQAAAAAKsG1kaWEAAAAgbWRoZAAAAAAAAAAAAAAAAAAAKAAAAZAAVcQA\n",
       "AAAAAC1oZGxyAAAAAAAAAAB2aWRlAAAAAAAAAAAAAAAAVmlkZW9IYW5kbGVyAAAAClttaW5mAAAA\n",
       "FHZtaGQAAAABAAAAAAAAAAAAAAAkZGluZgAAABxkcmVmAAAAAAAAAAEAAAAMdXJsIAAAAAEAAAob\n",
       "c3RibAAAALNzdHNkAAAAAAAAAAEAAACjYXZjMQAAAAAAAAABAAAAAAAAAAAAAAAAAAAAAALQAbAA\n",
       "SAAAAEgAAAAAAAAAAQAAAAAAAAAAAAAAAAAAAAAAAAAAAAAAAAAAAAAAAAAAABj//wAAADFhdmND\n",
       "AWQAHv/hABhnZAAerNlAtDehAAADAAEAAAMAKA8WLZYBAAZo6+PLIsAAAAAcdXVpZGtoQPJfJE/F\n",
       "ujmlG88DI/MAAAAAAAAAGHN0dHMAAAAAAAAAAQAAAMgAAAIAAAAAFHN0c3MAAAAAAAAAAQAAAAEA\n",
       "AAXQY3R0cwAAAAAAAAC4AAAAAQAABAAAAAABAAAKAAAAAAEAAAQAAAAAAQAAAAAAAAABAAACAAAA\n",
       "AAEAAAgAAAAAAgAAAgAAAAABAAAKAAAAAAEAAAQAAAAAAQAAAAAAAAABAAACAAAAAAEAAAYAAAAA\n",
       "AQAAAgAAAAABAAAKAAAAAAEAAAQAAAAAAQAAAAAAAAABAAACAAAAAAEAAAYAAAAAAQAAAgAAAAAB\n",
       "AAAKAAAAAAEAAAQAAAAAAQAAAAAAAAABAAACAAAAAAEAAAoAAAAAAQAABAAAAAABAAAAAAAAAAEA\n",
       "AAIAAAAAAQAABAAAAAABAAAGAAAAAAEAAAIAAAAAAQAACgAAAAABAAAEAAAAAAEAAAAAAAAAAQAA\n",
       "AgAAAAABAAAKAAAAAAEAAAQAAAAAAQAAAAAAAAABAAACAAAAAAEAAAgAAAAAAgAAAgAAAAABAAAK\n",
       "AAAAAAEAAAQAAAAAAQAAAAAAAAABAAACAAAAAAEAAAoAAAAAAQAABAAAAAABAAAAAAAAAAEAAAIA\n",
       "AAAAAQAACgAAAAABAAAEAAAAAAEAAAAAAAAAAQAAAgAAAAABAAAIAAAAAAIAAAIAAAAAAQAACAAA\n",
       "AAACAAACAAAAAAEAAAoAAAAAAQAABAAAAAABAAAAAAAAAAEAAAIAAAAAAQAACgAAAAABAAAEAAAA\n",
       "AAEAAAAAAAAAAQAAAgAAAAABAAAEAAAAAAEAAAoAAAAAAQAABAAAAAABAAAAAAAAAAEAAAIAAAAA\n",
       "AQAACgAAAAABAAAEAAAAAAEAAAAAAAAAAQAAAgAAAAABAAAKAAAAAAEAAAQAAAAAAQAAAAAAAAAB\n",
       "AAACAAAAAAEAAAYAAAAAAQAAAgAAAAABAAAIAAAAAAIAAAIAAAAAAQAACAAAAAACAAACAAAAAAEA\n",
       "AAQAAAAAAQAABgAAAAABAAACAAAAAAEAAAgAAAAAAgAAAgAAAAABAAAIAAAAAAIAAAIAAAAAAQAA\n",
       "BAAAAAABAAAKAAAAAAEAAAQAAAAAAQAAAAAAAAABAAACAAAAAAEAAAgAAAAAAgAAAgAAAAABAAAK\n",
       "AAAAAAEAAAQAAAAAAQAAAAAAAAABAAACAAAAAAEAAAYAAAAAAQAAAgAAAAABAAAKAAAAAAEAAAQA\n",
       "AAAAAQAAAAAAAAABAAACAAAAAAEAAAoAAAAAAQAABAAAAAABAAAAAAAAAAEAAAIAAAAAAQAABAAA\n",
       "AAABAAAKAAAAAAEAAAQAAAAAAQAAAAAAAAABAAACAAAAAAEAAAQAAAAAAQAACgAAAAABAAAEAAAA\n",
       "AAEAAAAAAAAAAQAAAgAAAAABAAAKAAAAAAEAAAQAAAAAAQAAAAAAAAABAAACAAAAAAEAAAoAAAAA\n",
       "AQAABAAAAAABAAAAAAAAAAEAAAIAAAAAAQAACgAAAAABAAAEAAAAAAEAAAAAAAAAAQAAAgAAAAAB\n",
       "AAAKAAAAAAEAAAQAAAAAAQAAAAAAAAABAAACAAAAAAEAAAgAAAAAAgAAAgAAAAABAAAIAAAAAAIA\n",
       "AAIAAAAAAQAACAAAAAACAAACAAAAAAEAAAYAAAAAAQAAAgAAAAABAAAKAAAAAAEAAAQAAAAAAQAA\n",
       "AAAAAAABAAACAAAAAAEAAAoAAAAAAQAABAAAAAABAAAAAAAAAAEAAAIAAAAAAQAACgAAAAABAAAE\n",
       "AAAAAAEAAAAAAAAAAQAAAgAAAAABAAAIAAAAAAIAAAIAAAAAAQAACgAAAAABAAAEAAAAAAEAAAAA\n",
       "AAAAAQAAAgAAAAABAAAKAAAAAAEAAAQAAAAAAQAAAAAAAAABAAACAAAAAAEAAAgAAAAAAgAAAgAA\n",
       "AAABAAAIAAAAAAIAAAIAAAAAAgAABAAAAAABAAAKAAAAAAEAAAQAAAAAAQAAAAAAAAABAAACAAAA\n",
       "AAEAAAoAAAAAAQAABAAAAAABAAAAAAAAAAEAAAIAAAAAAQAACgAAAAABAAAEAAAAAAEAAAAAAAAA\n",
       "AQAAAgAAAAAcc3RzYwAAAAAAAAABAAAAAQAAAMgAAAABAAADNHN0c3oAAAAAAAAAAAAAAMgAACaJ\n",
       "AAACDwAAAE0AAAA6AAAAMgAAAe4AAABZAAAAPAAAAxsAAABQAAAAWwAAAD0AAAEGAAAAOAAAAgQA\n",
       "AABcAAAASwAAAEIAAAEQAAAASQAAAXkAAAA6AAAAOAAAAD4AAAGHAAAAOQAAADMAAAA4AAAAtwAA\n",
       "AM4AAAA3AAAB5AAAAFIAAAAsAAAAQgAAApYAAABQAAAATgAAAEwAAAKgAAAASAAAAD8AAAH8AAAA\n",
       "TQAAAD8AAABJAAAB4AAAAEsAAABCAAAANgAAAZ4AAABKAAAANgAAAD0AAAFQAAAAPgAAADAAAADp\n",
       "AAAAMwAAADkAAAF4AAAASgAAACkAAAAvAAACMAAAAFgAAABFAAAAWQAAASMAAAMCAAAAXgAAAEkA\n",
       "AABbAAAB/QAAAEcAAABEAAAAPQAAAf4AAABRAAAASgAAADMAAAEHAAAAOwAAAP8AAABIAAAAQgAA\n",
       "AREAAABFAAAARwAAAG4AAADEAAAAPQAAATsAAAA/AAAAMgAAAa8AAABSAAAATgAAAOYAAAMOAAAA\n",
       "TwAAAEoAAABSAAACGQAAAFUAAABXAAACGAAAAFkAAABMAAAAOwAAATwAAAA+AAABWgAAAFUAAAA0\n",
       "AAAAQwAAAaUAAABWAAAAOQAAAD8AAABcAAABYgAAAEkAAAA3AAAARwAAAIsAAAJiAAAAgwAAAEcA\n",
       "AABbAAAC/AAAAGAAAABdAAAAUAAAAl0AAABvAAAAZAAAAEkAAAHjAAAAWgAAAE0AAABJAAABtwAA\n",
       "AEkAAAA8AAAARgAAAVAAAABXAAAAPQAAAUIAAABXAAAARAAAAUMAAABfAAAAMAAAAOYAAABOAAAC\n",
       "JQAAAIcAAABbAAAAWwAAAuQAAABkAAAAWQAAAFQAAAILAAAAaQAAAFQAAABdAAABrwAAAFUAAABR\n",
       "AAABdgAAAGEAAABFAAAATwAAAXsAAABZAAAAQQAAADwAAAEjAAAAYgAAADwAAADvAAAATQAAAC8A\n",
       "AAB8AAAAYQAAAY4AAABwAAAAQgAAAFsAAAI5AAAAdgAAAFsAAABXAAABRwAAAGkAAABRAAAATgAA\n",
       "ABRzdGNvAAAAAAAAAAEAAAAsAAAAYnVkdGEAAABabWV0YQAAAAAAAAAhaGRscgAAAAAAAAAAbWRp\n",
       "cmFwcGwAAAAAAAAAAAAAAAAtaWxzdAAAACWpdG9vAAAAHWRhdGEAAAABAAAAAExhdmY1OC4yOS4x\n",
       "MDA=\n",
       "\">\n",
       "  Your browser does not support the video tag.\n",
       "</video>"
      ],
      "text/plain": [
       "<IPython.core.display.HTML object>"
      ]
     },
     "execution_count": 27,
     "metadata": {},
     "output_type": "execute_result"
    }
   ],
   "source": [
    "# Create a video.\n",
    "HTML(anim.to_html5_video())"
   ]
  },
  {
   "cell_type": "code",
   "execution_count": null,
   "metadata": {},
   "outputs": [],
   "source": []
  },
  {
   "cell_type": "code",
   "execution_count": null,
   "metadata": {},
   "outputs": [],
   "source": []
  }
 ],
 "metadata": {
  "kernelspec": {
   "display_name": "Python 3",
   "language": "python",
   "name": "python3"
  },
  "language_info": {
   "codemirror_mode": {
    "name": "ipython",
    "version": 3
   },
   "file_extension": ".py",
   "mimetype": "text/x-python",
   "name": "python",
   "nbconvert_exporter": "python",
   "pygments_lexer": "ipython3",
   "version": "3.8.10"
  }
 },
 "nbformat": 4,
 "nbformat_minor": 4
}
