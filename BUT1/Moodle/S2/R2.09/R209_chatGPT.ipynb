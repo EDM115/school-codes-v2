{
 "cells": [
  {
   "cell_type": "markdown",
   "id": "53298a96",
   "metadata": {},
   "source": [
    "# R209 et ChatGPT\n",
    "\n",
    "\n",
    "\"Un prof en manque d’inspiration cherche à utiliser les progrès de l’intelligence\n",
    "artificielle pour écrire un examen à sa place.\"\n",
    "\n",
    "\n",
    "Voici une le notebook de ses échanges avec l’IA ChatGPT.\n",
    "\n",
    "\n",
    "-----"
   ]
  },
  {
   "cell_type": "markdown",
   "id": "6cc4de87",
   "metadata": {},
   "source": [
    "l'IA affirme :\n",
    "\n",
    "_cette suite converge vers $0$, le point fixe de $f$_."
   ]
  },
  {
   "cell_type": "code",
   "execution_count": 14,
   "id": "413d93a5",
   "metadata": {},
   "outputs": [
    {
     "name": "stdout",
     "output_type": "stream",
     "text": [
      "Iteration 0: 0.9\n",
      "Iteration 1: 0.09999999999999998\n",
      "Iteration 2: 0.9\n",
      "Iteration 3: 0.09999999999999998\n",
      "Iteration 4: 0.9\n",
      "Iteration 5: 0.09999999999999998\n",
      "Iteration 6: 0.9\n",
      "Iteration 7: 0.09999999999999998\n",
      "Iteration 8: 0.9\n",
      "Iteration 9: 0.09999999999999998\n",
      "Iteration 10: 0.9\n"
     ]
    }
   ],
   "source": [
    "def f(x):\n",
    "    return 1 - abs(x)\n",
    "\n",
    "\n",
    "def recurring_sequence(initial_value, iterations):\n",
    "    sequence = [initial_value]\n",
    "    \n",
    "    for i in range(iterations):\n",
    "        next_value = f(sequence[-1])\n",
    "        sequence.append(next_value)\n",
    "        \n",
    "    return sequence\n",
    "\n",
    "# Example usage\n",
    "initial_value = 0.9\n",
    "iterations = 10\n",
    "sequence = recurring_sequence(initial_value, iterations)\n",
    "\n",
    "# Print the sequence\n",
    "for i,value in enumerate(sequence):\n",
    "    print(f\"Iteration {i}: {value}\")"
   ]
  },
  {
   "cell_type": "markdown",
   "id": "d9078869",
   "metadata": {},
   "source": [
    "### Analyse\n",
    "\n",
    "Si on essaie la solution proposée par chatGPT on doute rapidement.\n",
    "\n",
    "La suite ne converge visiblement pas vers $0$ et semble osciller entre $0.9$ et $0.1$, les valeurs paires de la suites semblant toutes valoir $0.9$ tandis que les impaires semblent constantes à $0.09999999999999998$ (sûrement $0.1$ mais avec un problème lié à la représentation machine des nombres réels).\n",
    "\n",
    "\n",
    "Essayons de comprendre le comportement complet de la suite."
   ]
  },
  {
   "cell_type": "markdown",
   "id": "89a9f160",
   "metadata": {},
   "source": [
    "#### Tracé de la fonction et de la suite\n",
    "\n"
   ]
  },
  {
   "cell_type": "code",
   "execution_count": 15,
   "id": "a5a50707",
   "metadata": {},
   "outputs": [],
   "source": [
    "#import divers, ne pas prendre en compte\n",
    "import math\n",
    "import numpy as np\n",
    "import matplotlib.pyplot as plt\n",
    "%matplotlib inline\n",
    "\n",
    "\n",
    "#magic\n",
    "import warnings\n",
    "warnings.filterwarnings('ignore')"
   ]
  },
  {
   "cell_type": "code",
   "execution_count": 16,
   "id": "b06a8d73",
   "metadata": {},
   "outputs": [],
   "source": [
    "def subdivision(a, b, n):\n",
    "    d = (b - a) / n\n",
    "    return [a + k * d for k in range(n + 1)]"
   ]
  },
  {
   "cell_type": "code",
   "execution_count": 17,
   "id": "a83986cc",
   "metadata": {},
   "outputs": [],
   "source": [
    "def escalier(f, a, b, c, d, x0, n):\n",
    "    xs = subdivision(a, b, 200)\n",
    "    ys = [f(x) for x in xs]\n",
    "    pad = 0.\n",
    "    plt.axis([a - pad, b + pad, c - pad, d + pad])\n",
    "    plt.plot(xs, ys, 'b')\n",
    "    plt.plot(xs, xs, 'k')\n",
    "    x = x0\n",
    "    coul = 'r'\n",
    "    plt.plot([x0, x0], [0, f(x0)], coul)\n",
    "    for k in range(n):\n",
    "        plt.plot([x, f(x)], [f(x), f(x)], coul)\n",
    "        plt.plot([f(x), f(x)], [f(x), f(f(x))], coul)\n",
    "        x = f(x)\n",
    "    plt.grid()\n",
    "    plt.show()"
   ]
  },
  {
   "cell_type": "code",
   "execution_count": 18,
   "id": "70af3a7d",
   "metadata": {},
   "outputs": [
    {
     "data": {
      "image/png": "[encoded data removed]",
      "text/plain": [
       "<Figure size 432x288 with 1 Axes>"
      ]
     },
     "metadata": {
      "needs_background": "light"
     },
     "output_type": "display_data"
    }
   ],
   "source": [
    "escalier(f, -1, 1, -1, 1, .9, 15)"
   ]
  },
  {
   "cell_type": "markdown",
   "id": "7dfb0fb7",
   "metadata": {},
   "source": [
    "On remarque que la fonction $f$ (en bleu) semble croissante jusqu'a $0$ puis décroissante.\n",
    "\n",
    "D'autre part, la courbe bleue ne coupe pas la courbe noire en $0$, donc $0$ n'est pas un point fixe de $f$. On le vérifie numériquement "
   ]
  },
  {
   "cell_type": "code",
   "execution_count": 19,
   "id": "46889811",
   "metadata": {},
   "outputs": [
    {
     "name": "stdout",
     "output_type": "stream",
     "text": [
      "f(0) = 1\n"
     ]
    }
   ],
   "source": [
    "print(\"f(0) =\",f(0))"
   ]
  },
  {
   "cell_type": "markdown",
   "id": "349c5cda",
   "metadata": {},
   "source": [
    "Donc $0$ n'est pas un point fixe de $f$, il est donc _impossible_ que la suite $(u_n)$ converge vers $0$.\n",
    "\n",
    "L'affirmation de l'IA est donc erronnée.\n",
    "\n",
    "\n",
    "_remarque : ces observations suffisaient pour obtenir la note maximale à l'exercice du CT_ "
   ]
  },
  {
   "cell_type": "markdown",
   "id": "cb32c088",
   "metadata": {},
   "source": [
    "#### Comportement réél\n",
    "\n",
    "on remarque que pour les nombre rééls positif, $1-|x| = 1-x$.\n",
    "\n",
    "De plus l'intervalle $[0,1]$ est stable par $f$, donc $(u_n) \\in [0,1]$ est bornée (pour $u_0=0.9$)\n",
    "\n",
    "\n",
    "Le comportement oscillant incite à étudier le les suites des termes pairs et impairs. Posons :\n",
    "\n",
    "$p_n = u_{2n}$ et $i_n = u_{2n+1}$.\n",
    "Donc \n",
    "\\begin{align*}\n",
    "p_{n+1} é&= u_{2(n+1)}\\\\\n",
    "&= u_{2n+2}\\\\\n",
    "&= f(u_{2n + 1})\\\\\n",
    "&= f(f(u_{2n}))\\\\\n",
    "&= f(f(p_n))\n",
    "\\end{align*}\n",
    "\n",
    "\n",
    "Posons $g = f \\circ f$ (ie $g(x) = f(f(x))$\n",
    "On a alors\n",
    "\n",
    "$\\begin{cases}\n",
    "p_0 &= 0.9\\\\\n",
    "p_{n+1} &= g(p_n)\n",
    "\\end{cases}$\n",
    "\n",
    "et de manière similaire\n",
    "\n",
    "\n",
    "$\\begin{cases}\n",
    "i_0 &= u_1 = 0.1\\\\\n",
    "i_{n+1} &= g(i_n)\n",
    "\\end{cases}$\n",
    "\n",
    "-----\n",
    "\n",
    "**étude de $g$**\n",
    "\n",
    "\\begin{align*}\n",
    "g(x) &= f(f(x)) \\\\\n",
    "&= f(1-|x|) \\\\\n",
    "\\text{comme $x \\in [0,1]$}\\\\\n",
    "&= f(1-x)\\\\\n",
    "&= 1-|1-x|\\\\\n",
    "\\text{ comme $1-x \\in [0,1]$}\\\\\n",
    "&= 1-(1-x)\\\\\n",
    "&=x\n",
    "\\end{align*}\n",
    "\n",
    "\n",
    "Donc $g(x) = x$\n",
    "\n",
    "Ainsi \n",
    "\n",
    "$\\begin{cases}\n",
    "p_0 &= 0.9\\\\\n",
    "p_{n+1} &= p_n\n",
    "\\end{cases}$\n",
    "est la suite constante égale à $0.9$\n",
    "\n",
    "tandis que la suite\n",
    "\n",
    "$\\begin{cases}\n",
    "i_0 &= u_1 = 0.1\\\\\n",
    "i_{n+1} &= i_n\n",
    "\\end{cases}$\n",
    "\n",
    "est la suite constante égale à $0.1$\n"
   ]
  },
  {
   "cell_type": "markdown",
   "id": "7712d63f",
   "metadata": {},
   "source": [
    "### Conclusion\n",
    "\n",
    "Le chatbot d'OpenAI fournit une réponse détaillée et convaincante à la question, pourtant complexe et assez spécifique, posée.\n",
    "\n",
    "Le code proposé est fonctionnel, et les explications données sont pertinentes.\n",
    "\n",
    "Le chatbot renvoie effectivement une suite définie par récurrence, et \"explique\" bien le fonctionnement théorique d'une telle suite.\n",
    "\n",
    "Cependant l'affirmation principale \"la suite converge vers $0$\" est erronnée, et cela de manière grossière. Un test rapide permet de se convaincre que la suite des termes pairs est constante tout comme celle des termes impairs.\n",
    "\n",
    "\n",
    "Cela est confirmé par une étude théorique relativement simple est classique.\n",
    "\n"
   ]
  },
  {
   "cell_type": "code",
   "execution_count": null,
   "id": "893a64c7",
   "metadata": {},
   "outputs": [],
   "source": []
  }
 ],
 "metadata": {
  "kernelspec": {
   "display_name": "Python 3",
   "language": "python",
   "name": "python3"
  },
  "language_info": {
   "codemirror_mode": {
    "name": "ipython",
    "version": 3
   },
   "file_extension": ".py",
   "mimetype": "text/x-python",
   "name": "python",
   "nbconvert_exporter": "python",
   "pygments_lexer": "ipython3",
   "version": "3.8.10"
  }
 },
 "nbformat": 4,
 "nbformat_minor": 5
}
