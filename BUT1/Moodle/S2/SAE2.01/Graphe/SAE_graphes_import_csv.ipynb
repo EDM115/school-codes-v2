{
 "cells": [
  {
   "cell_type": "markdown",
   "id": "b0c0f5d8",
   "metadata": {},
   "source": [
    "# SAE2 :  Les vélos de Nantes"
   ]
  },
  {
   "cell_type": "code",
   "execution_count": 18,
   "id": "c6ceac1b",
   "metadata": {
    "scrolled": true
   },
   "outputs": [],
   "source": [
    "# importation des packages\n",
    "import numpy as np\n",
    "import pandas as pd\n",
    "import seaborn as sns\n",
    "import ast as ast\n",
    "from geopy.distance import geodesic\n",
    "# importation des modules\n",
    "import scipy.stats as sps\n",
    "\n",
    "\n",
    "import networkx as nx\n",
    "\n",
    "\n",
    "import matplotlib.pyplot as plt\n",
    "%matplotlib inline\n",
    "#magic\n",
    "import warnings\n",
    "warnings.filterwarnings('ignore')"
   ]
  },
  {
   "cell_type": "markdown",
   "id": "e4eda395",
   "metadata": {},
   "source": [
    "## Le but de ce fichier est d'illustrer des contructions de graphes networkx à partir de données géolocalisée csv\n",
    "\n",
    "### 1 Traitement des données csv :"
   ]
  },
  {
   "cell_type": "code",
   "execution_count": 19,
   "id": "82433641",
   "metadata": {},
   "outputs": [
    {
     "data": {
      "text/html": [
       "<div>\n",
       "<style scoped>\n",
       "    .dataframe tbody tr th:only-of-type {\n",
       "        vertical-align: middle;\n",
       "    }\n",
       "\n",
       "    .dataframe tbody tr th {\n",
       "        vertical-align: top;\n",
       "    }\n",
       "\n",
       "    .dataframe thead th {\n",
       "        text-align: right;\n",
       "    }\n",
       "</style>\n",
       "<table border=\"1\" class=\"dataframe\">\n",
       "  <thead>\n",
       "    <tr style=\"text-align: right;\">\n",
       "      <th></th>\n",
       "      <th>Numeros</th>\n",
       "      <th>Libelle</th>\n",
       "      <th>Geolocalisation</th>\n",
       "    </tr>\n",
       "  </thead>\n",
       "  <tbody>\n",
       "    <tr>\n",
       "      <th>0</th>\n",
       "      <td>788,786,787,785</td>\n",
       "      <td>50 Otages</td>\n",
       "      <td>47.219956631104175, -1.555035376121632</td>\n",
       "    </tr>\n",
       "    <tr>\n",
       "      <th>1</th>\n",
       "      <td>950,949</td>\n",
       "      <td>avenue de la Lib?ration</td>\n",
       "      <td>47.19261758551086, -1.5468218693151887</td>\n",
       "    </tr>\n",
       "    <tr>\n",
       "      <th>2</th>\n",
       "      <td>679</td>\n",
       "      <td>Bd Malakoff vers Gare Sud</td>\n",
       "      <td>47.21316284797035, -1.5359421578632508</td>\n",
       "    </tr>\n",
       "    <tr>\n",
       "      <th>3</th>\n",
       "      <td>665,664</td>\n",
       "      <td>Bonduelle</td>\n",
       "      <td>47.21160939094489, -1.5432599939033043</td>\n",
       "    </tr>\n",
       "    <tr>\n",
       "      <th>4</th>\n",
       "      <td>744,745</td>\n",
       "      <td>Calvaire</td>\n",
       "      <td>47.215489324621586, -1.5606018691288568</td>\n",
       "    </tr>\n",
       "  </tbody>\n",
       "</table>\n",
       "</div>"
      ],
      "text/plain": [
       "           Numeros                    Libelle  \\\n",
       "0  788,786,787,785                  50 Otages   \n",
       "1          950,949    avenue de la Lib?ration   \n",
       "2              679  Bd Malakoff vers Gare Sud   \n",
       "3          665,664                  Bonduelle   \n",
       "4          744,745                   Calvaire   \n",
       "\n",
       "                           Geolocalisation  \n",
       "0   47.219956631104175, -1.555035376121632  \n",
       "1   47.19261758551086, -1.5468218693151887  \n",
       "2   47.21316284797035, -1.5359421578632508  \n",
       "3   47.21160939094489, -1.5432599939033043  \n",
       "4  47.215489324621586, -1.5606018691288568  "
      ]
     },
     "execution_count": 19,
     "metadata": {},
     "output_type": "execute_result"
    }
   ],
   "source": [
    "# importation du fichier csv comme un panda dataframe\n",
    "capteurs=pd.read_csv(\"data_geolocalisationCompteur_uniques.csv\", sep=';')\n",
    "\n",
    "#on affiche les premières lignes du fichier\n",
    "capteurs.head()"
   ]
  },
  {
   "cell_type": "code",
   "execution_count": 20,
   "id": "5e316622",
   "metadata": {},
   "outputs": [
    {
     "data": {
      "text/plain": [
       "(47.219956631104175, -1.555035376121632)"
      ]
     },
     "execution_count": 20,
     "metadata": {},
     "output_type": "execute_result"
    }
   ],
   "source": [
    "# adaptation du format des données de géolocalisation\n",
    "ast.literal_eval(capteurs['Geolocalisation'][0])"
   ]
  },
  {
   "cell_type": "code",
   "execution_count": 21,
   "id": "9de375f4",
   "metadata": {},
   "outputs": [],
   "source": [
    "# création de la colone Latitude\n",
    "capteurs['Latitude']=capteurs['Geolocalisation'].apply(lambda x : ast.literal_eval(x)[0])"
   ]
  },
  {
   "cell_type": "code",
   "execution_count": 22,
   "id": "a07282e0",
   "metadata": {},
   "outputs": [],
   "source": [
    "# création de la colone Longitude\n",
    "capteurs['Longitude']=capteurs['Geolocalisation'].apply(lambda x : ast.literal_eval(x)[1])"
   ]
  },
  {
   "cell_type": "code",
   "execution_count": 23,
   "id": "3a57c82f",
   "metadata": {},
   "outputs": [
    {
     "data": {
      "text/html": [
       "<div>\n",
       "<style scoped>\n",
       "    .dataframe tbody tr th:only-of-type {\n",
       "        vertical-align: middle;\n",
       "    }\n",
       "\n",
       "    .dataframe tbody tr th {\n",
       "        vertical-align: top;\n",
       "    }\n",
       "\n",
       "    .dataframe thead th {\n",
       "        text-align: right;\n",
       "    }\n",
       "</style>\n",
       "<table border=\"1\" class=\"dataframe\">\n",
       "  <thead>\n",
       "    <tr style=\"text-align: right;\">\n",
       "      <th></th>\n",
       "      <th>Numeros</th>\n",
       "      <th>Libelle</th>\n",
       "      <th>Geolocalisation</th>\n",
       "      <th>Latitude</th>\n",
       "      <th>Longitude</th>\n",
       "    </tr>\n",
       "  </thead>\n",
       "  <tbody>\n",
       "    <tr>\n",
       "      <th>0</th>\n",
       "      <td>788,786,787,785</td>\n",
       "      <td>50 Otages</td>\n",
       "      <td>47.219956631104175, -1.555035376121632</td>\n",
       "      <td>47.219957</td>\n",
       "      <td>-1.555035</td>\n",
       "    </tr>\n",
       "    <tr>\n",
       "      <th>1</th>\n",
       "      <td>950,949</td>\n",
       "      <td>avenue de la Lib?ration</td>\n",
       "      <td>47.19261758551086, -1.5468218693151887</td>\n",
       "      <td>47.192618</td>\n",
       "      <td>-1.546822</td>\n",
       "    </tr>\n",
       "    <tr>\n",
       "      <th>2</th>\n",
       "      <td>679</td>\n",
       "      <td>Bd Malakoff vers Gare Sud</td>\n",
       "      <td>47.21316284797035, -1.5359421578632508</td>\n",
       "      <td>47.213163</td>\n",
       "      <td>-1.535942</td>\n",
       "    </tr>\n",
       "    <tr>\n",
       "      <th>3</th>\n",
       "      <td>665,664</td>\n",
       "      <td>Bonduelle</td>\n",
       "      <td>47.21160939094489, -1.5432599939033043</td>\n",
       "      <td>47.211609</td>\n",
       "      <td>-1.543260</td>\n",
       "    </tr>\n",
       "    <tr>\n",
       "      <th>4</th>\n",
       "      <td>744,745</td>\n",
       "      <td>Calvaire</td>\n",
       "      <td>47.215489324621586, -1.5606018691288568</td>\n",
       "      <td>47.215489</td>\n",
       "      <td>-1.560602</td>\n",
       "    </tr>\n",
       "  </tbody>\n",
       "</table>\n",
       "</div>"
      ],
      "text/plain": [
       "           Numeros                    Libelle  \\\n",
       "0  788,786,787,785                  50 Otages   \n",
       "1          950,949    avenue de la Lib?ration   \n",
       "2              679  Bd Malakoff vers Gare Sud   \n",
       "3          665,664                  Bonduelle   \n",
       "4          744,745                   Calvaire   \n",
       "\n",
       "                           Geolocalisation   Latitude  Longitude  \n",
       "0   47.219956631104175, -1.555035376121632  47.219957  -1.555035  \n",
       "1   47.19261758551086, -1.5468218693151887  47.192618  -1.546822  \n",
       "2   47.21316284797035, -1.5359421578632508  47.213163  -1.535942  \n",
       "3   47.21160939094489, -1.5432599939033043  47.211609  -1.543260  \n",
       "4  47.215489324621586, -1.5606018691288568  47.215489  -1.560602  "
      ]
     },
     "execution_count": 23,
     "metadata": {},
     "output_type": "execute_result"
    }
   ],
   "source": [
    "#on affiche les premières lignes du fichier actualisé\n",
    "capteurs.head()"
   ]
  },
  {
   "cell_type": "code",
   "execution_count": 24,
   "id": "91e5fc6e",
   "metadata": {},
   "outputs": [
    {
     "data": {
      "text/plain": [
       "{0: ['788,786,787,785', 47.219956631104175, -1.555035376121632],\n",
       " 1: ['950,949', 47.19261758551086, -1.5468218693151887],\n",
       " 2: ['679', 47.21316284797035, -1.5359421578632508],\n",
       " 3: ['665,664', 47.21160939094489, -1.5432599939033043],\n",
       " 4: ['744,745', 47.215489324621586, -1.5606018691288568],\n",
       " 5: ['994,995', 47.2211808996175, -1.5520557476514105],\n",
       " 6: ['747,746', 47.235601216475615, -1.5495223616419478],\n",
       " 7: ['699,89', 47.20495618318359, -1.767425435319685],\n",
       " 8: ['669,668', 47.20359482806785, -1.5366316681743837],\n",
       " 9: ['667,847', 47.207184415056695, -1.548628245726742],\n",
       " 10: ['1041,1042', 47.252189065198046, -1.5532727474949712],\n",
       " 11: ['880,881', 47.211547513955786, -1.5527808502938574],\n",
       " 12: ['944,946,943,945', 47.21038195207655, -1.5439240750859649],\n",
       " 13: ['742,743', 47.21165736518504, -1.5563430663233755],\n",
       " 14: ['683,682', 47.20889069766999, -1.5663860901495563],\n",
       " 15: ['666', 47.2083580489973, -1.5497189172153978],\n",
       " 16: ['890,670', 47.19812739474562, -1.5422919798047263],\n",
       " 17: ['672,673', 47.20137134043221, -1.548912422726574],\n",
       " 18: ['675,674', 47.20907608646761, -1.555389444114489],\n",
       " 19: ['727,981,725,980', 47.21345667065047, -1.5293317342742991],\n",
       " 20: ['676,677', 47.21266213415891, -1.5365033968187525],\n",
       " 21: ['701,700', 47.22870715868075, -1.4815791173986774],\n",
       " 22: ['960,959', 47.16029353128087, -1.5420923531458324],\n",
       " 23: ['907,889', 47.148193005013226, -1.6939094454872934],\n",
       " 24: ['681,680', 47.21890748612357, -1.5370432491894714],\n",
       " 25: ['996,997', 47.23266720647105, -1.5487986994027731],\n",
       " 26: ['1032', 47.31479810819578, -1.5433372850662073],\n",
       " 27: ['1031', 47.14052901725844, -1.7136944399197964]}"
      ]
     },
     "execution_count": 24,
     "metadata": {},
     "output_type": "execute_result"
    }
   ],
   "source": [
    "# Création de dataframe/dictionary plus lisibles\n",
    "capteurs_lite= capteurs[['Numeros','Latitude','Longitude']].copy()\n",
    "\n",
    "\n",
    "# Création d'un dictionaire, structure proche des graphes networkx\n",
    "#capteurs_dict=capteurs_lite[['Numéro','Latitude','Longitude']].to_dict()\n",
    "\n",
    "capteurs_dict = {x : [capteurs_lite.iloc[x,0],capteurs_lite.iloc[x,1], capteurs_lite.iloc[x,2]] for x in range(len(capteurs_lite['Numeros']))}\n",
    "capteurs_dict"
   ]
  },
  {
   "cell_type": "code",
   "execution_count": 25,
   "id": "f351a7c5",
   "metadata": {},
   "outputs": [
    {
     "data": {
      "text/html": [
       "<div>\n",
       "<style scoped>\n",
       "    .dataframe tbody tr th:only-of-type {\n",
       "        vertical-align: middle;\n",
       "    }\n",
       "\n",
       "    .dataframe tbody tr th {\n",
       "        vertical-align: top;\n",
       "    }\n",
       "\n",
       "    .dataframe thead th {\n",
       "        text-align: right;\n",
       "    }\n",
       "</style>\n",
       "<table border=\"1\" class=\"dataframe\">\n",
       "  <thead>\n",
       "    <tr style=\"text-align: right;\">\n",
       "      <th></th>\n",
       "      <th>Numeros</th>\n",
       "      <th>Latitude</th>\n",
       "      <th>Longitude</th>\n",
       "    </tr>\n",
       "  </thead>\n",
       "  <tbody>\n",
       "    <tr>\n",
       "      <th>0</th>\n",
       "      <td>788,786,787,785</td>\n",
       "      <td>47.219957</td>\n",
       "      <td>-1.555035</td>\n",
       "    </tr>\n",
       "    <tr>\n",
       "      <th>1</th>\n",
       "      <td>950,949</td>\n",
       "      <td>47.192618</td>\n",
       "      <td>-1.546822</td>\n",
       "    </tr>\n",
       "    <tr>\n",
       "      <th>2</th>\n",
       "      <td>679</td>\n",
       "      <td>47.213163</td>\n",
       "      <td>-1.535942</td>\n",
       "    </tr>\n",
       "    <tr>\n",
       "      <th>3</th>\n",
       "      <td>665,664</td>\n",
       "      <td>47.211609</td>\n",
       "      <td>-1.543260</td>\n",
       "    </tr>\n",
       "    <tr>\n",
       "      <th>4</th>\n",
       "      <td>744,745</td>\n",
       "      <td>47.215489</td>\n",
       "      <td>-1.560602</td>\n",
       "    </tr>\n",
       "  </tbody>\n",
       "</table>\n",
       "</div>"
      ],
      "text/plain": [
       "           Numeros   Latitude  Longitude\n",
       "0  788,786,787,785  47.219957  -1.555035\n",
       "1          950,949  47.192618  -1.546822\n",
       "2              679  47.213163  -1.535942\n",
       "3          665,664  47.211609  -1.543260\n",
       "4          744,745  47.215489  -1.560602"
      ]
     },
     "execution_count": 25,
     "metadata": {},
     "output_type": "execute_result"
    }
   ],
   "source": [
    "capteurs_lite.head()"
   ]
  },
  {
   "cell_type": "markdown",
   "id": "6a3ee9cb",
   "metadata": {},
   "source": [
    "### 2 Création d'un graphe en format networkx"
   ]
  },
  {
   "cell_type": "code",
   "execution_count": 26,
   "id": "d8446afd",
   "metadata": {},
   "outputs": [
    {
     "data": {
      "text/plain": [
       "{'numeros': [788, 786, 787, 785],\n",
       " 'lat': 47.219956631104175,\n",
       " 'long': -1.555035376121632}"
      ]
     },
     "execution_count": 26,
     "metadata": {},
     "output_type": "execute_result"
    }
   ],
   "source": [
    "# Ajout des sommets\n",
    "\n",
    "G = nx.Graph(name = \"Vélo_Nantes\")\n",
    "for index, row in capteurs_lite.iterrows():\n",
    "    G.add_node(index,numeros=[int(x) for x in row[0].split(',')],lat=row[1],long=row[2])\n",
    "\n",
    "G.nodes[0]\n"
   ]
  },
  {
   "cell_type": "code",
   "execution_count": 27,
   "id": "3af2a0f1",
   "metadata": {},
   "outputs": [
    {
     "data": {
      "text/plain": [
       "{0: array([ 19.9566311 , -12.03537612]),\n",
       " 1: array([-7.38241449, -3.82186932]),\n",
       " 2: array([13.16284797,  7.05784214]),\n",
       " 3: array([11.60939094, -0.2599939 ]),\n",
       " 4: array([ 15.48932462, -17.60186913]),\n",
       " 5: array([21.18089962, -9.05574765]),\n",
       " 6: array([35.60121648, -6.52236164]),\n",
       " 7: array([   4.95618318, -224.42543532]),\n",
       " 8: array([3.59482807, 6.36833183]),\n",
       " 9: array([ 7.18441506, -5.62824573]),\n",
       " 10: array([ 52.1890652 , -10.27274749]),\n",
       " 11: array([11.54751396, -9.78085029]),\n",
       " 12: array([10.38195208, -0.92407509]),\n",
       " 13: array([ 11.65736519, -13.34306632]),\n",
       " 14: array([  8.89069767, -23.38609015]),\n",
       " 15: array([ 8.358049  , -6.71891722]),\n",
       " 16: array([-1.87260525,  0.7080202 ]),\n",
       " 17: array([ 1.37134043, -5.91242273]),\n",
       " 18: array([  9.07608647, -12.38944411]),\n",
       " 19: array([13.45667065, 13.66826573]),\n",
       " 20: array([12.66213416,  6.49660318]),\n",
       " 21: array([28.70715868, 61.4208826 ]),\n",
       " 22: array([-39.70646872,   0.90764685]),\n",
       " 23: array([ -51.80699499, -150.90944549]),\n",
       " 24: array([18.90748612,  5.95675081]),\n",
       " 25: array([32.66720647, -5.7986994 ]),\n",
       " 26: array([114.7981082 ,  -0.33728507]),\n",
       " 27: array([ -59.47098274, -170.69443992])}"
      ]
     },
     "execution_count": 27,
     "metadata": {},
     "output_type": "execute_result"
    }
   ],
   "source": [
    "# proposition de dictionaire de position pour le tracé en networkx\n",
    "\n",
    "def pos_graph(v):\n",
    "    x=float(v[1])\n",
    "    y=float(v[2])\n",
    "    \n",
    "    #on peut adapter les coordonnées\n",
    "    x=(x-47.20)*1000\n",
    "    y=(y+1.543)*1000\n",
    "    \n",
    "    return np.array([x,y])\n",
    "\n",
    "capteurs_pos = dict((k, pos_graph(v)) for k, v in capteurs_dict.items())\n",
    "\n",
    "capteurs_pos"
   ]
  },
  {
   "cell_type": "code",
   "execution_count": 28,
   "id": "ac500f1f",
   "metadata": {},
   "outputs": [
    {
     "data": {
      "image/png": "[encoded data removed]",
      "text/plain": [
       "<Figure size 432x288 with 1 Axes>"
      ]
     },
     "metadata": {},
     "output_type": "display_data"
    }
   ],
   "source": [
    "nx.draw(G,pos=capteurs_pos,node_size=50, alpha=0.4, edge_color=\"r\", font_size=16, with_labels=True)"
   ]
  },
  {
   "cell_type": "markdown",
   "id": "4d6261ca",
   "metadata": {},
   "source": [
    "#### 2.1 Ajout des arêtes \n"
   ]
  },
  {
   "cell_type": "code",
   "execution_count": 29,
   "id": "5295e367",
   "metadata": {},
   "outputs": [
    {
     "name": "stdout",
     "output_type": "stream",
     "text": [
      "{'numeros': [788, 786, 787, 785], 'lat': 47.219956631104175, 'long': -1.555035376121632}\n",
      "{'numeros': [950, 949], 'lat': 47.19261758551086, 'long': -1.5468218693151887}\n",
      "{'numeros': [679], 'lat': 47.21316284797035, 'long': -1.5359421578632508}\n",
      "{'numeros': [665, 664], 'lat': 47.21160939094489, 'long': -1.5432599939033043}\n",
      "{'numeros': [744, 745], 'lat': 47.215489324621586, 'long': -1.5606018691288568}\n",
      "{'numeros': [994, 995], 'lat': 47.2211808996175, 'long': -1.5520557476514105}\n",
      "{'numeros': [747, 746], 'lat': 47.235601216475615, 'long': -1.5495223616419478}\n",
      "{'numeros': [699, 89], 'lat': 47.20495618318359, 'long': -1.767425435319685}\n",
      "{'numeros': [669, 668], 'lat': 47.20359482806785, 'long': -1.5366316681743837}\n",
      "{'numeros': [667, 847], 'lat': 47.207184415056695, 'long': -1.548628245726742}\n",
      "{'numeros': [1041, 1042], 'lat': 47.252189065198046, 'long': -1.5532727474949712}\n",
      "{'numeros': [880, 881], 'lat': 47.211547513955786, 'long': -1.5527808502938574}\n",
      "{'numeros': [944, 946, 943, 945], 'lat': 47.21038195207655, 'long': -1.5439240750859649}\n",
      "{'numeros': [742, 743], 'lat': 47.21165736518504, 'long': -1.5563430663233755}\n",
      "{'numeros': [683, 682], 'lat': 47.20889069766999, 'long': -1.5663860901495563}\n",
      "{'numeros': [666], 'lat': 47.2083580489973, 'long': -1.5497189172153978}\n",
      "{'numeros': [890, 670], 'lat': 47.19812739474562, 'long': -1.5422919798047263}\n",
      "{'numeros': [672, 673], 'lat': 47.20137134043221, 'long': -1.548912422726574}\n",
      "{'numeros': [675, 674], 'lat': 47.20907608646761, 'long': -1.555389444114489}\n",
      "{'numeros': [727, 981, 725, 980], 'lat': 47.21345667065047, 'long': -1.5293317342742991}\n",
      "{'numeros': [676, 677], 'lat': 47.21266213415891, 'long': -1.5365033968187525}\n",
      "{'numeros': [701, 700], 'lat': 47.22870715868075, 'long': -1.4815791173986774}\n",
      "{'numeros': [960, 959], 'lat': 47.16029353128087, 'long': -1.5420923531458324}\n",
      "{'numeros': [907, 889], 'lat': 47.148193005013226, 'long': -1.6939094454872934}\n",
      "{'numeros': [681, 680], 'lat': 47.21890748612357, 'long': -1.5370432491894714}\n",
      "{'numeros': [996, 997], 'lat': 47.23266720647105, 'long': -1.5487986994027731}\n",
      "{'numeros': [1032], 'lat': 47.31479810819578, 'long': -1.5433372850662073}\n",
      "{'numeros': [1031], 'lat': 47.14052901725844, 'long': -1.7136944399197964}\n"
     ]
    }
   ],
   "source": [
    "##On ajoute les arêtes au graphe\n",
    "\n",
    "##Pour l'exemple, on a choisi de relier deux sommets s'ils sont proches\n",
    "##(distance < 1km) et au minimum à ses trois voisins les plus proches\n",
    "\n",
    "#La pertinence de ce choix est clairement à discuter\n",
    "\n",
    "for s in G.nodes:\n",
    "    d=0\n",
    "    dist_dic={}\n",
    "    print(G.nodes[s])\n",
    "    for t in G.nodes:\n",
    "        dist=geodesic((G.nodes[s]['lat'],G.nodes[s]['long']),(G.nodes[t]['lat'],G.nodes[t]['long'])).km\n",
    "        dist_dic[t]=dist\n",
    "        if  dist<1 and s!=t :\n",
    "            G.add_edge(s,t,distance=dist)\n",
    "            d=d+1\n",
    "    if d<3:\n",
    "        dist_sort=sorted(dist_dic.items(), key=lambda item: item[1])\n",
    "        for i in range(4):\n",
    "            G.add_edge(s,dist_sort[i+1][0],distance=dist_sort[i+1][0])\n",
    " "
   ]
  },
  {
   "cell_type": "code",
   "execution_count": 30,
   "id": "5e1f5a3b",
   "metadata": {},
   "outputs": [
    {
     "data": {
      "image/png": "[encoded data removed]",
      "text/plain": [
       "<Figure size 432x288 with 1 Axes>"
      ]
     },
     "metadata": {},
     "output_type": "display_data"
    }
   ],
   "source": [
    "nx.draw(G,pos=capteurs_pos,node_size=50, alpha=0.4, edge_color=\"r\", font_size=16, with_labels=True)"
   ]
  },
  {
   "cell_type": "markdown",
   "id": "46e21cec",
   "metadata": {},
   "source": [
    "#### 2.2 Une autre modélisation :\n"
   ]
  },
  {
   "cell_type": "code",
   "execution_count": 49,
   "id": "da295fce",
   "metadata": {},
   "outputs": [
    {
     "name": "stdout",
     "output_type": "stream",
     "text": [
      "[[ 0.          3.10246218  1.63162214  1.28717319  0.65149567  0.26355049\n",
      "   1.78870082 16.17558549  2.2918465   1.50061034  3.58593985  0.9503544\n",
      "   1.35702457  0.92797334  1.50094506  1.35090008  2.61184077  2.11764498\n",
      "   1.20994213  2.07677624  1.62118329  5.64777985  6.70515396 13.2078357\n",
      "   1.36777894  1.48995014 10.58119842 14.92001907]\n",
      " [ 3.10246218  0.          2.42831272  2.12858781  2.74876089  3.20018447\n",
      "   4.78308244 16.77207712  1.44415431  1.62523723  6.64086772  2.15241858\n",
      "   1.98711694  2.23629891  2.33892034  1.76365616  0.70217617  0.98600469\n",
      "   1.94151459  2.66900398  2.36161158  6.36609366  3.61144355 12.19603475\n",
      "   3.01521081  4.45503375 13.58607667 13.9144383 ]\n",
      " [ 1.63162214  2.42831272  0.          0.58063566  1.88582699  1.51141496\n",
      "   2.69830376 17.56061204  1.06500556  1.16850512  4.53288922  1.28817986\n",
      "   0.67912387  1.55448825  2.35470906  1.1724352   1.7394168   1.63832271\n",
      "   1.54171499  0.50182222  0.0700456   4.46550964  5.89617287 13.98367569\n",
      "   0.6440837   2.37700163 11.31325245 15.7088069 ]\n",
      " [ 1.28717319  2.12858781  0.58063566  0.          1.38269431  1.25548574\n",
      "   2.70913798 16.99885255  1.02278343  0.6382851   4.57473305  0.72128754\n",
      "   0.14543855  0.99112458  1.77784773  0.6083462   1.50065201  1.21610944\n",
      "   0.96108337  1.07492089  0.5250529   5.04379089  5.70569975 13.42036545\n",
      "   0.93812523  2.37839466 11.47210764 15.14498559]\n",
      " [ 0.65149567  2.74876089  1.88582699  1.38269431  0.          0.90522082\n",
      "   2.38821136 15.71206188  2.24639529  1.29431566  4.11768078  0.73692396\n",
      "   1.38513     0.53438896  0.85450215  1.14379022  2.37697713  1.80216655\n",
      "   0.8150301   2.37950252  1.85236122  6.1629597   6.29467003 12.57272354\n",
      "   1.82451425  2.1086239  11.11779522 14.28716255]\n",
      " [ 0.26355049  3.20018447  1.51141496  1.25548574  0.90522082  0.\n",
      "   1.61462214 16.41432996  2.27767054  1.5775719   3.44857839  1.07239973\n",
      "   1.34936782  1.1074662   1.74508466  1.43652896  2.66757488  2.21516309\n",
      "   1.36924129  1.92359893  1.51154237  5.40281782  6.81110938 13.46996346\n",
      "   1.16484537  1.3005985  10.42888365 15.18253022]\n",
      " [ 1.78870082  4.78308244  2.69830376  2.70913798  2.38821136  1.61462214\n",
      "   0.         16.8525668   3.68984253  3.15996817  1.86589444  2.68553893\n",
      "   2.8356364   2.71162435  3.23258395  3.02880037  4.20200004  3.8057904\n",
      "   2.98222911  2.89817954  2.73423699  5.20184032  8.39121811 14.63424509\n",
      "   2.08270295  0.3307606   8.8172386  16.32572871]\n",
      " [16.17558549 16.77207712 17.56061204 16.99885255 15.71206188 16.41432996\n",
      "  16.8525668   0.         17.48688516 16.57859456 17.04692954 16.27796558\n",
      "  16.94337793 16.00891784 15.23739145 16.49826468 17.0751355  16.56091409\n",
      "  16.07073781 18.06238165 17.51542208 21.81261763 17.7865667   8.41907203\n",
      "  17.52132076 16.84399644 20.89935796  8.23988927]\n",
      " [ 2.2918465   1.44415431  1.06500556  1.02278343  2.24639529  2.27767054\n",
      "   3.68984253 17.48688516  0.          0.99266026  5.54752478  1.50950268\n",
      "   0.9351993   1.74170842  2.32989756  1.1240816   0.74391679  0.96276599\n",
      "   1.54627943  1.22797516  1.00810369  5.01844062  4.83175623 13.41957008\n",
      "   1.70266967  3.36094928 12.37353747 15.14415752]\n",
      " [ 1.50061034  1.62523723  1.16850512  0.6382851   1.29431566  1.5775719\n",
      "   3.15996817 16.57859456  0.99266026  0.          5.01575383  0.57815219\n",
      "   0.50336864  0.76738703  1.35864719  0.15444218  1.11550657  0.64662611\n",
      "   0.5537217   1.61964401  1.10208701  5.6141605   5.23655194 12.8177151\n",
      "   1.57124308  2.83308207 11.97075223 14.54306815]\n",
      " [ 3.58593985  6.64086772  4.53288922  4.57473305  4.11768078  3.44857839\n",
      "   1.86589444 17.04692954  5.54752478  5.01575383  0.          4.51849276\n",
      "   4.70152699  4.5121208   4.91507462  4.88035391  6.0675822   5.65931649\n",
      "   4.79577959  4.67216491  4.57422168  6.0233604  10.25152851 15.72352223\n",
      "   3.89883685  2.19662866  7.00111166 17.37458052]\n",
      " [ 0.9503544   2.15241858  1.28817986  0.72128754  0.73692396  1.07239973\n",
      "   2.68553893 16.27796558  1.50950268  0.57815219  4.51849276  0.\n",
      "   0.68335329  0.27013261  1.07218255  0.42372232  1.6904234   1.168681\n",
      "   0.33844779  1.78899804  1.239301    5.7205128   5.75543183 12.80812282\n",
      "   1.44592     2.36727771 11.50121329 14.53043269]\n",
      " [ 1.35702457  1.98711694  0.67912387  0.14543855  1.38513     1.34936782\n",
      "   2.8356364  16.94337793  0.9351993   0.50336864  4.70152699  0.68335329\n",
      "   0.          0.9514387   1.70973458  0.49331144  1.36799855  1.07067458\n",
      "   0.88064128  1.15708456  0.61666929  5.14298177  5.57028328 13.30625947\n",
      "   1.08169046  2.50492565 11.60865156 15.03123589]\n",
      " [ 0.92797334  2.23629891  1.55448825  0.99112458  0.53438896  1.1074662\n",
      "   2.71162435 16.00891784  1.74170842  0.76738703  4.5121208   0.27013261\n",
      "   0.9514387   0.          0.82065263  0.62159096  1.84280191  1.27460934\n",
      "   0.29592723  2.05596682  1.50708794  5.97166443  5.81159587 12.5903063\n",
      "   1.66943603  2.40465082 11.50894077 14.31122596]\n",
      " [ 1.50094506  2.33892034  2.35470906  1.77784773  0.85450215  1.74508466\n",
      "   3.23258395 15.23739145  2.32989756  1.35864719  4.91507462  1.07218255\n",
      "   1.70973458  0.82065263  0.          1.26408355  2.18275919  1.56572632\n",
      "   0.83334908  2.8526118   2.30230644  6.7909909   5.70791311 11.7888996\n",
      "   2.48613737  2.96004108 11.90287628 13.50796575]\n",
      " [ 1.35090008  1.76365616  1.1724352   0.6083462   1.14379022  1.43652896\n",
      "   3.02880037 16.49826468  1.1240816   0.15444218  4.88035391  0.42372232\n",
      "   0.49331144  0.62159096  1.26408355  0.          1.26897964  0.77914589\n",
      "   0.4369491   1.64518961  1.10963947  5.63531642  5.37472043 12.81426877\n",
      "   1.51576531  2.70347266 11.84342634 14.53911202]\n",
      " [ 2.61184077  0.70217617  1.7394168   1.50065201  2.37697713  2.66757488\n",
      "   4.20200004 17.0751355   0.74391679  1.11550657  6.0675822   1.6904234\n",
      "   1.36799855  1.84280191  2.18275919  1.26897964  0.          0.61782855\n",
      "   1.57047144  1.9668639   1.67435511  5.71928759  4.20618189 12.764509\n",
      "   2.34419651  3.87146803 12.97120618 14.4869796 ]\n",
      " [ 2.11764498  0.98600469  1.63832271  1.21610944  1.80216655  2.21516309\n",
      "   3.8057904  16.56091409  0.96276599  0.64662611  5.65931649  1.168681\n",
      "   1.07067458  1.27460934  1.56572632  0.77914589  0.61782855  0.\n",
      "   0.98718377  2.00146505  1.56828003  5.9372701   4.59596555 12.48093755\n",
      "   2.14694668  3.47933088 12.61737834 14.20629035]\n",
      " [ 1.20994213  1.94151459  1.54171499  0.96108337  0.8150301   1.36924129\n",
      "   2.98222911 16.07073781  1.54627943  0.5537217   4.79577959  0.33844779\n",
      "   0.88064128  0.29592723  0.83334908  0.4369491   1.57047144  0.98718377\n",
      "   0.          2.03320762  1.48524422  6.00164404  5.51622217 12.49266596\n",
      "   1.7680745   2.66983049 11.78908664 14.21589794]\n",
      " [ 2.07677624  2.66900398  0.50182222  1.07492089  2.37950252  1.92359893\n",
      "   2.89817954 18.06238165  1.22797516  1.61964401  4.67216491  1.78899804\n",
      "   1.15708456  2.05596682  2.8526118   1.64518961  1.9668639   2.00146505\n",
      "   2.03320762  0.          0.55041014  3.99453941  5.98898924 14.43141143\n",
      "   0.84169219  2.59523362 11.31648342 16.15702214]\n",
      " [ 1.62118329  2.36161158  0.0700456   0.5250529   1.85236122  1.51154237\n",
      "   2.73423699 17.51542208  1.00810369  1.10208701  4.57422168  1.239301\n",
      "   0.61666929  1.50708794  2.30230644  1.10963947  1.67435511  1.56828003\n",
      "   1.48524422  0.55041014  0.          4.52640197  5.83744132 13.91856701\n",
      "   0.69553051  2.41115813 11.3668398  15.64377422]\n",
      " [ 5.64777985  6.36609366  4.46550964  5.04379089  6.1629597   5.40281782\n",
      "   5.20184032 21.81261763  5.01844062  5.6141605   6.0233604   5.7205128\n",
      "   5.14298177  5.97166443  6.7909909   5.63531642  5.71928759  5.9372701\n",
      "   6.00164404  3.99453941  4.52640197  0.          8.88129645 18.41409122\n",
      "   4.33971439  5.10940903 10.65119161 20.13976412]\n",
      " [ 6.70515396  3.61144355  5.89617287  5.70569975  6.29467003  6.81110938\n",
      "   8.39121811 17.7865667   4.83175623  5.23655194 10.25152851  5.75543183\n",
      "   5.57028328  5.81159587  5.70791311  5.37472043  4.20618189  4.59596555\n",
      "   5.51622217  5.98898924  5.83744132  8.88129645  0.         11.59165349\n",
      "   6.52760482  8.06215194 17.17737819 13.19887661]\n",
      " [13.2078357  12.19603475 13.98367569 13.42036545 12.57272354 13.46996346\n",
      "  14.63424509  8.41907203 13.41957008 12.8177151  15.72352223 12.80812282\n",
      "  13.30625947 12.5903063  11.7888996  12.81426877 12.764509   12.48093755\n",
      "  12.49266596 14.43141143 13.91856701 18.41409122 11.59165349  0.\n",
      "  14.25377607 14.46159835 21.75067699  1.72571451]\n",
      " [ 1.36777894  3.01521081  0.6440837   0.93812523  1.82451425  1.16484537\n",
      "   2.08270295 17.52132076  1.70266967  1.57124308  3.89883685  1.44592\n",
      "   1.08169046  1.66943603  2.48613737  1.51576531  2.34419651  2.14694668\n",
      "   1.7680745   0.84169219  0.69553051  4.33971439  6.52760482 14.25377607\n",
      "   0.          1.76995415 10.67137534 15.97582958]\n",
      " [ 1.48995014  4.45503375  2.37700163  2.37839466  2.1086239   1.3005985\n",
      "   0.3307606  16.84399644  3.36094928  2.83308207  2.19662866  2.36727771\n",
      "   2.50492565  2.40465082  2.96004108  2.70347266  3.87146803  3.47933088\n",
      "   2.66983049  2.59523362  2.41115813  5.10940903  8.06215194 14.46159835\n",
      "   1.76995415  0.          9.14034635 16.15911081]\n",
      " [10.58119842 13.58607667 11.31325245 11.47210764 11.11779522 10.42888365\n",
      "   8.8172386  20.89935796 12.37353747 11.97075223  7.00111166 11.50121329\n",
      "  11.60865156 11.50894077 11.90287628 11.84342634 12.97120618 12.61737834\n",
      "  11.78908664 11.31648342 11.3668398  10.65119161 17.17737819 21.75067699\n",
      "  10.67137534  9.14034635  0.         23.27696632]\n",
      " [14.92001907 13.9144383  15.7088069  15.14498559 14.28716255 15.18253022\n",
      "  16.32572871  8.23988927 15.14415752 14.54306815 17.37458052 14.53043269\n",
      "  15.03123589 14.31122596 13.50796575 14.53911202 14.4869796  14.20629035\n",
      "  14.21589794 16.15702214 15.64377422 20.13976412 13.19887661  1.72571451\n",
      "  15.97582958 16.15911081 23.27696632  0.        ]]\n"
     ]
    }
   ],
   "source": [
    "#version pseudo-geodesique\n",
    "\n",
    "\n",
    "G2 = nx.Graph(name = \"Vélo_Nantes\")\n",
    "for index, row in capteurs_lite.iterrows():\n",
    "    G2.add_node(index,numeros=[int(x) for x in row[0].split(',')],lat=row[1],long=row[2])\n",
    "\n",
    "G2.nodes[0]\n",
    "\n",
    "## table des distance\n",
    "n=len(G2.nodes)\n",
    "dist_table_geo=np.zeros((n,n))\n",
    "\n",
    "\n",
    "\n",
    "for s in G2.nodes:\n",
    "    for t in G2.nodes:\n",
    "        dist=geodesic((G2.nodes[s]['lat'],G2.nodes[s]['long']),(G2.nodes[t]['lat'],G2.nodes[t]['long'])).km\n",
    "        dist_table_geo[s,t]=dist\n",
    "    \n",
    "print(dist_table_geo)\n",
    "\n",
    "\n",
    "#On ajoute l'arête [s,t] si il n'existe pas de sommet u tq d(s,u)+d(u,t) < 1.15 d(s,t)\n",
    "for s in G2.nodes:\n",
    "    for t in G2.nodes:\n",
    "        if dist_table_geo[s,t]>.05 :\n",
    "            add=True\n",
    "            for u in G2.nodes:\n",
    "                #Que fait-on ici ? Quel est l'impact du paramètre ?\n",
    "                if dist_table_geo[s,u]+dist_table_geo[u,t] < 1.15* dist_table_geo[s,t] and dist_table_geo[s,u]>.05 and dist_table_geo[t,u]>.05:\n",
    "                    add=False\n",
    "            if add : \n",
    "                G2.add_edge(s,t,distance=dist_table_geo[s,t])\n"
   ]
  },
  {
   "cell_type": "code",
   "execution_count": 50,
   "id": "2c5de117",
   "metadata": {},
   "outputs": [
    {
     "data": {
      "image/png": "[encoded data removed]",
      "text/plain": [
       "<Figure size 432x288 with 1 Axes>"
      ]
     },
     "metadata": {},
     "output_type": "display_data"
    }
   ],
   "source": [
    "nx.draw(G2,pos=capteurs_pos,node_size=50, alpha=0.4, edge_color=\"r\", font_size=16, with_labels=True)"
   ]
  },
  {
   "cell_type": "code",
   "execution_count": null,
   "id": "85050600",
   "metadata": {},
   "outputs": [],
   "source": []
  }
 ],
 "metadata": {
  "kernelspec": {
   "display_name": "Python 3",
   "language": "python",
   "name": "python3"
  },
  "language_info": {
   "codemirror_mode": {
    "name": "ipython",
    "version": 3
   },
   "file_extension": ".py",
   "mimetype": "text/x-python",
   "name": "python",
   "nbconvert_exporter": "python",
   "pygments_lexer": "ipython3",
   "version": "3.8.10"
  }
 },
 "nbformat": 4,
 "nbformat_minor": 5
}
