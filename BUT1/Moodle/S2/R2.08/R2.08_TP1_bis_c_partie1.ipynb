{
 "cells": [
  {
   "cell_type": "markdown",
   "metadata": {},
   "source": [
    "# <center> R2.08 - Statistique descriptive <br> TP 1 bis - Description unidimensionnelle </center>\n",
    "\n",
    "<center> Eléments de correction - A. Ridard </center>"
   ]
  },
  {
   "cell_type": "markdown",
   "metadata": {},
   "source": [
    "L'objectif est de reprendre le TP1, mais avec Python cette fois !"
   ]
  },
  {
   "cell_type": "markdown",
   "metadata": {},
   "source": [
    "**Deux documents pouvant être utiles :**\n",
    "-  [<font style=\"color:blue\">Une (très) courte introduction à Python</font>](http://math-ridard.fr/wp-content/contenu_wp/ens_iut/Intro_Python.pdf)\n",
    "- [<font style=\"color:blue\">Un aide-mémoire complet</font>](http://math-ridard.fr/wp-content/contenu_wp/ens_iut/Memento_Pointal.pdf)"
   ]
  },
  {
   "cell_type": "markdown",
   "metadata": {},
   "source": [
    "**La référence présentée en cours :** \n",
    "-  [<font style=\"color:blue\">Le GitHub du livre \"Python pour le data scientist\"</font>](https://github.com/emjako/pythondatascientist)"
   ]
  },
  {
   "cell_type": "markdown",
   "metadata": {},
   "source": [
    "## Importations pour ce TP"
   ]
  },
  {
   "cell_type": "code",
   "execution_count": 199,
   "metadata": {},
   "outputs": [],
   "source": [
    "# importation des packages\n",
    "import numpy as np\n",
    "import pandas as pd\n",
    "import seaborn as sns\n",
    "\n",
    "# importation des modules\n",
    "import matplotlib.pyplot as plt\n",
    "import scipy.stats as sps\n",
    "\n",
    "import warnings\n",
    "warnings.filterwarnings('ignore')"
   ]
  },
  {
   "cell_type": "markdown",
   "metadata": {},
   "source": [
    "> Charger les données du fichier **TP1_Data.xslx** dans un DataFrame."
   ]
  },
  {
   "cell_type": "code",
   "execution_count": 170,
   "metadata": {},
   "outputs": [
    {
     "data": {
      "text/html": [
       "<div>\n",
       "<style scoped>\n",
       "    .dataframe tbody tr th:only-of-type {\n",
       "        vertical-align: middle;\n",
       "    }\n",
       "\n",
       "    .dataframe tbody tr th {\n",
       "        vertical-align: top;\n",
       "    }\n",
       "\n",
       "    .dataframe thead th {\n",
       "        text-align: right;\n",
       "    }\n",
       "</style>\n",
       "<table border=\"1\" class=\"dataframe\">\n",
       "  <thead>\n",
       "    <tr style=\"text-align: right;\">\n",
       "      <th></th>\n",
       "      <th>id_etudiant</th>\n",
       "      <th>specialite_ensibs</th>\n",
       "      <th>dpt_entreprise</th>\n",
       "      <th>dpt_lycee</th>\n",
       "      <th>bac</th>\n",
       "      <th>mention_bac</th>\n",
       "      <th>note_maths_bac</th>\n",
       "      <th>postbac</th>\n",
       "      <th>dpt_postbac</th>\n",
       "      <th>gpa_maths_crypto</th>\n",
       "      <th>gpa_protocoles_crypto</th>\n",
       "    </tr>\n",
       "  </thead>\n",
       "  <tbody>\n",
       "    <tr>\n",
       "      <th>0</th>\n",
       "      <td>9</td>\n",
       "      <td>CyberDef</td>\n",
       "      <td>56.0</td>\n",
       "      <td>35</td>\n",
       "      <td>Bac S</td>\n",
       "      <td>Assez bien</td>\n",
       "      <td>Entre 10 et 12 (exclus)</td>\n",
       "      <td>DUT R&amp;T</td>\n",
       "      <td>35</td>\n",
       "      <td>3.5</td>\n",
       "      <td>3.45</td>\n",
       "    </tr>\n",
       "    <tr>\n",
       "      <th>1</th>\n",
       "      <td>10</td>\n",
       "      <td>CyberDef</td>\n",
       "      <td>22.0</td>\n",
       "      <td>22</td>\n",
       "      <td>Bac S</td>\n",
       "      <td>Assez bien</td>\n",
       "      <td>Entre 10 et 12 (exclus)</td>\n",
       "      <td>DUT INFO</td>\n",
       "      <td>22</td>\n",
       "      <td>3.0</td>\n",
       "      <td>3.50</td>\n",
       "    </tr>\n",
       "    <tr>\n",
       "      <th>2</th>\n",
       "      <td>14</td>\n",
       "      <td>CyberDef</td>\n",
       "      <td>35.0</td>\n",
       "      <td>60</td>\n",
       "      <td>Bac S</td>\n",
       "      <td>Bien</td>\n",
       "      <td>Entre 10 et 12 (exclus)</td>\n",
       "      <td>DUT INFO</td>\n",
       "      <td>56</td>\n",
       "      <td>0.0</td>\n",
       "      <td>3.40</td>\n",
       "    </tr>\n",
       "    <tr>\n",
       "      <th>3</th>\n",
       "      <td>19</td>\n",
       "      <td>CyberDef</td>\n",
       "      <td>46.0</td>\n",
       "      <td>7</td>\n",
       "      <td>Bac S</td>\n",
       "      <td>Passable</td>\n",
       "      <td>Entre 10 et 12 (exclus)</td>\n",
       "      <td>DUT R&amp;T</td>\n",
       "      <td>74</td>\n",
       "      <td>2.0</td>\n",
       "      <td>3.00</td>\n",
       "    </tr>\n",
       "    <tr>\n",
       "      <th>4</th>\n",
       "      <td>25</td>\n",
       "      <td>CyberLog</td>\n",
       "      <td>NaN</td>\n",
       "      <td>90</td>\n",
       "      <td>Bac S</td>\n",
       "      <td>Bien</td>\n",
       "      <td>Entre 10 et 12 (exclus)</td>\n",
       "      <td>Prépa concours (CPGE)</td>\n",
       "      <td>67</td>\n",
       "      <td>4.0</td>\n",
       "      <td>3.85</td>\n",
       "    </tr>\n",
       "  </tbody>\n",
       "</table>\n",
       "</div>"
      ],
      "text/plain": [
       "   id_etudiant specialite_ensibs  dpt_entreprise  dpt_lycee    bac  \\\n",
       "0            9          CyberDef            56.0         35  Bac S   \n",
       "1           10          CyberDef            22.0         22  Bac S   \n",
       "2           14          CyberDef            35.0         60  Bac S   \n",
       "3           19          CyberDef            46.0          7  Bac S   \n",
       "4           25          CyberLog             NaN         90  Bac S   \n",
       "\n",
       "  mention_bac           note_maths_bac                postbac  dpt_postbac  \\\n",
       "0  Assez bien  Entre 10 et 12 (exclus)                DUT R&T           35   \n",
       "1  Assez bien  Entre 10 et 12 (exclus)               DUT INFO           22   \n",
       "2        Bien  Entre 10 et 12 (exclus)               DUT INFO           56   \n",
       "3    Passable  Entre 10 et 12 (exclus)                DUT R&T           74   \n",
       "4        Bien  Entre 10 et 12 (exclus)  Prépa concours (CPGE)           67   \n",
       "\n",
       "   gpa_maths_crypto  gpa_protocoles_crypto  \n",
       "0               3.5                   3.45  \n",
       "1               3.0                   3.50  \n",
       "2               0.0                   3.40  \n",
       "3               2.0                   3.00  \n",
       "4               4.0                   3.85  "
      ]
     },
     "execution_count": 170,
     "metadata": {},
     "output_type": "execute_result"
    }
   ],
   "source": [
    "# importation du fichier Excel\n",
    "\n",
    "data = pd.read_excel(\"TP1_Data.xlsx\", sheet_name = \"Reponses\")\n",
    "data.head()"
   ]
  },
  {
   "cell_type": "markdown",
   "metadata": {},
   "source": [
    "## Représentations graphiques"
   ]
  },
  {
   "cell_type": "markdown",
   "metadata": {},
   "source": [
    "*Pour établir les différentes distributions, on pourra utiliser la méthode **.groupby()** (cf. section 4.5 du livre) équivalente au regroupement en SQL.*"
   ]
  },
  {
   "cell_type": "markdown",
   "metadata": {},
   "source": [
    "**Représenter graphiquement**, avec le diagramme le plus adapté (cf. section 5 du livre), la **distribution** :"
   ]
  },
  {
   "cell_type": "markdown",
   "metadata": {},
   "source": [
    "> des trois spécialités"
   ]
  },
  {
   "cell_type": "code",
   "execution_count": 171,
   "metadata": {},
   "outputs": [
    {
     "data": {
      "text/html": [
       "<div>\n",
       "<style scoped>\n",
       "    .dataframe tbody tr th:only-of-type {\n",
       "        vertical-align: middle;\n",
       "    }\n",
       "\n",
       "    .dataframe tbody tr th {\n",
       "        vertical-align: top;\n",
       "    }\n",
       "\n",
       "    .dataframe thead th {\n",
       "        text-align: right;\n",
       "    }\n",
       "</style>\n",
       "<table border=\"1\" class=\"dataframe\">\n",
       "  <thead>\n",
       "    <tr style=\"text-align: right;\">\n",
       "      <th></th>\n",
       "      <th>nb_etudiant</th>\n",
       "    </tr>\n",
       "    <tr>\n",
       "      <th>specialite_ensibs</th>\n",
       "      <th></th>\n",
       "    </tr>\n",
       "  </thead>\n",
       "  <tbody>\n",
       "    <tr>\n",
       "      <th>CyberData</th>\n",
       "      <td>15</td>\n",
       "    </tr>\n",
       "    <tr>\n",
       "      <th>CyberDef</th>\n",
       "      <td>52</td>\n",
       "    </tr>\n",
       "    <tr>\n",
       "      <th>CyberLog</th>\n",
       "      <td>26</td>\n",
       "    </tr>\n",
       "  </tbody>\n",
       "</table>\n",
       "</div>"
      ],
      "text/plain": [
       "                   nb_etudiant\n",
       "specialite_ensibs             \n",
       "CyberData                   15\n",
       "CyberDef                    52\n",
       "CyberLog                    26"
      ]
     },
     "execution_count": 171,
     "metadata": {},
     "output_type": "execute_result"
    }
   ],
   "source": [
    "# on calcule la distribution avec .groupby() et .count()\n",
    "\n",
    "df_dist_spe = data.groupby(\"specialite_ensibs\")[[\"id_etudiant\"]].count()\n",
    "\n",
    "# on renomme la colonne (à la main) pour une meilleure lisibilité du contenu (résultat d'une fonction de groupe)\n",
    "# on verra un moyen automatique plus tard avec la méthode .agg()\n",
    "\n",
    "df_dist_spe = df_dist_spe.rename(columns={\"id_etudiant\":\"nb_etudiant\"})\n",
    "df_dist_spe"
   ]
  },
  {
   "cell_type": "code",
   "execution_count": 172,
   "metadata": {
    "scrolled": true
   },
   "outputs": [
    {
     "data": {
      "text/plain": [
       "<AxesSubplot:xlabel='specialite_ensibs'>"
      ]
     },
     "execution_count": 172,
     "metadata": {},
     "output_type": "execute_result"
    },
    {
     "data": {
      "image/png": "[encoded data removed]",
      "text/plain": [
       "<Figure size 640x480 with 1 Axes>"
      ]
     },
     "metadata": {},
     "output_type": "display_data"
    }
   ],
   "source": [
    "# on représente graphiquement la distribution avec la méthode plot() de la classe DataFrame\n",
    "\n",
    "df_dist_spe.plot(kind=\"bar\")"
   ]
  },
  {
   "cell_type": "code",
   "execution_count": 173,
   "metadata": {
    "scrolled": true
   },
   "outputs": [
    {
     "data": {
      "text/plain": [
       "<AxesSubplot:ylabel='nb_etudiant'>"
      ]
     },
     "execution_count": 173,
     "metadata": {},
     "output_type": "execute_result"
    },
    {
     "data": {
      "image/png": "[encoded data removed]",
      "text/plain": [
       "<Figure size 640x480 with 1 Axes>"
      ]
     },
     "metadata": {},
     "output_type": "display_data"
    }
   ],
   "source": [
    "# on représente graphiquement la distribution avec la méthode plot() de la classe DataFrame\n",
    "\n",
    "df_dist_spe[\"nb_etudiant\"].plot(kind=\"pie\", autopct='%1.1f%%')"
   ]
  },
  {
   "cell_type": "markdown",
   "metadata": {},
   "source": [
    "> des bacs **toute spécialité confondue**"
   ]
  },
  {
   "cell_type": "code",
   "execution_count": 174,
   "metadata": {},
   "outputs": [
    {
     "data": {
      "text/html": [
       "<div>\n",
       "<style scoped>\n",
       "    .dataframe tbody tr th:only-of-type {\n",
       "        vertical-align: middle;\n",
       "    }\n",
       "\n",
       "    .dataframe tbody tr th {\n",
       "        vertical-align: top;\n",
       "    }\n",
       "\n",
       "    .dataframe thead th {\n",
       "        text-align: right;\n",
       "    }\n",
       "</style>\n",
       "<table border=\"1\" class=\"dataframe\">\n",
       "  <thead>\n",
       "    <tr style=\"text-align: right;\">\n",
       "      <th></th>\n",
       "      <th>nb_etudiant</th>\n",
       "    </tr>\n",
       "    <tr>\n",
       "      <th>bac</th>\n",
       "      <th></th>\n",
       "    </tr>\n",
       "  </thead>\n",
       "  <tbody>\n",
       "    <tr>\n",
       "      <th>Bac ES</th>\n",
       "      <td>2</td>\n",
       "    </tr>\n",
       "    <tr>\n",
       "      <th>Bac Pro</th>\n",
       "      <td>3</td>\n",
       "    </tr>\n",
       "    <tr>\n",
       "      <th>Bac S</th>\n",
       "      <td>80</td>\n",
       "    </tr>\n",
       "    <tr>\n",
       "      <th>Bac STHR</th>\n",
       "      <td>1</td>\n",
       "    </tr>\n",
       "    <tr>\n",
       "      <th>Bac STI2D</th>\n",
       "      <td>7</td>\n",
       "    </tr>\n",
       "  </tbody>\n",
       "</table>\n",
       "</div>"
      ],
      "text/plain": [
       "           nb_etudiant\n",
       "bac                   \n",
       "Bac ES               2\n",
       "Bac Pro              3\n",
       "Bac S               80\n",
       "Bac STHR             1\n",
       "Bac STI2D            7"
      ]
     },
     "execution_count": 174,
     "metadata": {},
     "output_type": "execute_result"
    }
   ],
   "source": [
    "# Tableau\n",
    "\n",
    "df_dist_bac = data.groupby(\"bac\")[[\"id_etudiant\"]].count()\n",
    "df_dist_bac = df_dist_bac.rename(columns={\"id_etudiant\":\"nb_etudiant\"})\n",
    "df_dist_bac"
   ]
  },
  {
   "cell_type": "code",
   "execution_count": 175,
   "metadata": {
    "scrolled": true
   },
   "outputs": [
    {
     "data": {
      "text/plain": [
       "<AxesSubplot:ylabel='nb_etudiant'>"
      ]
     },
     "execution_count": 175,
     "metadata": {},
     "output_type": "execute_result"
    },
    {
     "data": {
      "image/png": "[encoded data removed]",
      "text/plain": [
       "<Figure size 640x480 with 1 Axes>"
      ]
     },
     "metadata": {},
     "output_type": "display_data"
    }
   ],
   "source": [
    "# on représente graphiquement la distribution avec la méthode plot() de la classe DataFrame\n",
    "\n",
    "df_dist_bac[\"nb_etudiant\"].plot(kind=\"pie\", autopct='%1.1f%%')"
   ]
  },
  {
   "cell_type": "markdown",
   "metadata": {},
   "source": [
    "> des bacs pour chacune des spécialités"
   ]
  },
  {
   "cell_type": "code",
   "execution_count": 176,
   "metadata": {
    "scrolled": false
   },
   "outputs": [
    {
     "data": {
      "text/html": [
       "<div>\n",
       "<style scoped>\n",
       "    .dataframe tbody tr th:only-of-type {\n",
       "        vertical-align: middle;\n",
       "    }\n",
       "\n",
       "    .dataframe tbody tr th {\n",
       "        vertical-align: top;\n",
       "    }\n",
       "\n",
       "    .dataframe thead tr th {\n",
       "        text-align: left;\n",
       "    }\n",
       "\n",
       "    .dataframe thead tr:last-of-type th {\n",
       "        text-align: right;\n",
       "    }\n",
       "</style>\n",
       "<table border=\"1\" class=\"dataframe\">\n",
       "  <thead>\n",
       "    <tr>\n",
       "      <th></th>\n",
       "      <th colspan=\"3\" halign=\"left\">nb_etudiant</th>\n",
       "    </tr>\n",
       "    <tr>\n",
       "      <th>specialite_ensibs</th>\n",
       "      <th>CyberData</th>\n",
       "      <th>CyberDef</th>\n",
       "      <th>CyberLog</th>\n",
       "    </tr>\n",
       "    <tr>\n",
       "      <th>bac</th>\n",
       "      <th></th>\n",
       "      <th></th>\n",
       "      <th></th>\n",
       "    </tr>\n",
       "  </thead>\n",
       "  <tbody>\n",
       "    <tr>\n",
       "      <th>Bac ES</th>\n",
       "      <td>1.0</td>\n",
       "      <td>NaN</td>\n",
       "      <td>1.0</td>\n",
       "    </tr>\n",
       "    <tr>\n",
       "      <th>Bac Pro</th>\n",
       "      <td>NaN</td>\n",
       "      <td>3.0</td>\n",
       "      <td>NaN</td>\n",
       "    </tr>\n",
       "    <tr>\n",
       "      <th>Bac S</th>\n",
       "      <td>14.0</td>\n",
       "      <td>42.0</td>\n",
       "      <td>24.0</td>\n",
       "    </tr>\n",
       "    <tr>\n",
       "      <th>Bac STHR</th>\n",
       "      <td>NaN</td>\n",
       "      <td>1.0</td>\n",
       "      <td>NaN</td>\n",
       "    </tr>\n",
       "    <tr>\n",
       "      <th>Bac STI2D</th>\n",
       "      <td>NaN</td>\n",
       "      <td>6.0</td>\n",
       "      <td>1.0</td>\n",
       "    </tr>\n",
       "  </tbody>\n",
       "</table>\n",
       "</div>"
      ],
      "text/plain": [
       "                  nb_etudiant                  \n",
       "specialite_ensibs   CyberData CyberDef CyberLog\n",
       "bac                                            \n",
       "Bac ES                    1.0      NaN      1.0\n",
       "Bac Pro                   NaN      3.0      NaN\n",
       "Bac S                    14.0     42.0     24.0\n",
       "Bac STHR                  NaN      1.0      NaN\n",
       "Bac STI2D                 NaN      6.0      1.0"
      ]
     },
     "execution_count": 176,
     "metadata": {},
     "output_type": "execute_result"
    }
   ],
   "source": [
    "# on regroupe selon deux variables (d'abord le bac, puis la spé) et on place le 2ème niveau en colonnes avec unstack()\n",
    "\n",
    "df_dist_spe_bac = data.groupby([\"bac\",\"specialite_ensibs\"])[[\"id_etudiant\"]].count().unstack()\n",
    "\n",
    "df_dist_spe_bac = df_dist_spe_bac.rename(columns={\"id_etudiant\":\"nb_etudiant\"})\n",
    "df_dist_spe_bac"
   ]
  },
  {
   "cell_type": "code",
   "execution_count": 177,
   "metadata": {},
   "outputs": [
    {
     "data": {
      "text/plain": [
       "<AxesSubplot:xlabel='bac'>"
      ]
     },
     "execution_count": 177,
     "metadata": {},
     "output_type": "execute_result"
    },
    {
     "data": {
      "image/png": "[encoded data removed]",
      "text/plain": [
       "<Figure size 640x480 with 1 Axes>"
      ]
     },
     "metadata": {},
     "output_type": "display_data"
    }
   ],
   "source": [
    "# on représente graphiquement les distributions avec la méthode plot() de la classe DataFrame\n",
    "\n",
    "df_dist_spe_bac.plot(kind=\"bar\")"
   ]
  },
  {
   "cell_type": "markdown",
   "metadata": {},
   "source": [
    "> des mentions **au bac S**"
   ]
  },
  {
   "cell_type": "code",
   "execution_count": 178,
   "metadata": {},
   "outputs": [
    {
     "data": {
      "text/html": [
       "<div>\n",
       "<style scoped>\n",
       "    .dataframe tbody tr th:only-of-type {\n",
       "        vertical-align: middle;\n",
       "    }\n",
       "\n",
       "    .dataframe tbody tr th {\n",
       "        vertical-align: top;\n",
       "    }\n",
       "\n",
       "    .dataframe thead th {\n",
       "        text-align: right;\n",
       "    }\n",
       "</style>\n",
       "<table border=\"1\" class=\"dataframe\">\n",
       "  <thead>\n",
       "    <tr style=\"text-align: right;\">\n",
       "      <th></th>\n",
       "      <th>nb_etudiant</th>\n",
       "    </tr>\n",
       "    <tr>\n",
       "      <th>mention_bac</th>\n",
       "      <th></th>\n",
       "    </tr>\n",
       "  </thead>\n",
       "  <tbody>\n",
       "    <tr>\n",
       "      <th>Passable</th>\n",
       "      <td>8</td>\n",
       "    </tr>\n",
       "    <tr>\n",
       "      <th>Assez bien</th>\n",
       "      <td>37</td>\n",
       "    </tr>\n",
       "    <tr>\n",
       "      <th>Bien</th>\n",
       "      <td>27</td>\n",
       "    </tr>\n",
       "    <tr>\n",
       "      <th>Très bien</th>\n",
       "      <td>8</td>\n",
       "    </tr>\n",
       "  </tbody>\n",
       "</table>\n",
       "</div>"
      ],
      "text/plain": [
       "             nb_etudiant\n",
       "mention_bac             \n",
       "Passable               8\n",
       "Assez bien            37\n",
       "Bien                  27\n",
       "Très bien              8"
      ]
     },
     "execution_count": 178,
     "metadata": {},
     "output_type": "execute_result"
    }
   ],
   "source": [
    "# Tableau\n",
    "\n",
    "# on restreint au bac S\n",
    "data_S = data[data[\"bac\"]==\"Bac S\"]\n",
    "\n",
    "# on regroupe et on compte\n",
    "df_dist_mention_S = data_S.groupby(\"mention_bac\")[[\"id_etudiant\"]].count()\n",
    "df_dist_mention_S = df_dist_mention_S.rename(columns={\"id_etudiant\":\"nb_etudiant\"})\n",
    "\n",
    "# on réordonne les index (lignes) qui sont ordonnés dans l'ordre alphabétique par défaut\n",
    "df_dist_mention_S = df_dist_mention_S.reindex(index=[\"Passable\",\"Assez bien\",\"Bien\", \"Très bien\"])\n",
    "\n",
    "df_dist_mention_S"
   ]
  },
  {
   "cell_type": "code",
   "execution_count": 179,
   "metadata": {},
   "outputs": [
    {
     "data": {
      "text/plain": [
       "<AxesSubplot:xlabel='mention_bac'>"
      ]
     },
     "execution_count": 179,
     "metadata": {},
     "output_type": "execute_result"
    },
    {
     "data": {
      "image/png": "[encoded data removed]",
      "text/plain": [
       "<Figure size 640x480 with 1 Axes>"
      ]
     },
     "metadata": {},
     "output_type": "display_data"
    }
   ],
   "source": [
    "# on représente graphiquement la distribution avec la méthode plot() de la classe DataFrame\n",
    "\n",
    "df_dist_mention_S.plot(kind=\"bar\")"
   ]
  },
  {
   "cell_type": "markdown",
   "metadata": {},
   "source": [
    "> des mentions **au bac S** pour chacune des spécialités"
   ]
  },
  {
   "cell_type": "code",
   "execution_count": 180,
   "metadata": {
    "scrolled": true
   },
   "outputs": [
    {
     "data": {
      "text/html": [
       "<div>\n",
       "<style scoped>\n",
       "    .dataframe tbody tr th:only-of-type {\n",
       "        vertical-align: middle;\n",
       "    }\n",
       "\n",
       "    .dataframe tbody tr th {\n",
       "        vertical-align: top;\n",
       "    }\n",
       "\n",
       "    .dataframe thead tr th {\n",
       "        text-align: left;\n",
       "    }\n",
       "\n",
       "    .dataframe thead tr:last-of-type th {\n",
       "        text-align: right;\n",
       "    }\n",
       "</style>\n",
       "<table border=\"1\" class=\"dataframe\">\n",
       "  <thead>\n",
       "    <tr>\n",
       "      <th></th>\n",
       "      <th colspan=\"3\" halign=\"left\">nb_etudiant</th>\n",
       "    </tr>\n",
       "    <tr>\n",
       "      <th>specialite_ensibs</th>\n",
       "      <th>CyberData</th>\n",
       "      <th>CyberDef</th>\n",
       "      <th>CyberLog</th>\n",
       "    </tr>\n",
       "    <tr>\n",
       "      <th>mention_bac</th>\n",
       "      <th></th>\n",
       "      <th></th>\n",
       "      <th></th>\n",
       "    </tr>\n",
       "  </thead>\n",
       "  <tbody>\n",
       "    <tr>\n",
       "      <th>Passable</th>\n",
       "      <td>1</td>\n",
       "      <td>5</td>\n",
       "      <td>2</td>\n",
       "    </tr>\n",
       "    <tr>\n",
       "      <th>Assez bien</th>\n",
       "      <td>8</td>\n",
       "      <td>18</td>\n",
       "      <td>14</td>\n",
       "    </tr>\n",
       "    <tr>\n",
       "      <th>Bien</th>\n",
       "      <td>4</td>\n",
       "      <td>19</td>\n",
       "      <td>7</td>\n",
       "    </tr>\n",
       "    <tr>\n",
       "      <th>Très bien</th>\n",
       "      <td>2</td>\n",
       "      <td>10</td>\n",
       "      <td>3</td>\n",
       "    </tr>\n",
       "  </tbody>\n",
       "</table>\n",
       "</div>"
      ],
      "text/plain": [
       "                  nb_etudiant                  \n",
       "specialite_ensibs   CyberData CyberDef CyberLog\n",
       "mention_bac                                    \n",
       "Passable                    1        5        2\n",
       "Assez bien                  8       18       14\n",
       "Bien                        4       19        7\n",
       "Très bien                   2       10        3"
      ]
     },
     "execution_count": 180,
     "metadata": {},
     "output_type": "execute_result"
    }
   ],
   "source": [
    "# on regroupe selon deux variables et on place le 2ème niveau en colonnes\n",
    "df_dist_spe_mentionBac_S = data.groupby([\"mention_bac\",\"specialite_ensibs\"])[[\"id_etudiant\"]].count().unstack()\n",
    "\n",
    "df_dist_spe_mentionBac_S = df_dist_spe_mentionBac_S.rename(columns={\"id_etudiant\":\"nb_etudiant\"})\n",
    "df_dist_spe_mentionBac_S = df_dist_spe_mentionBac_S.reindex(index=[\"Passable\",\"Assez bien\",\"Bien\", \"Très bien\"])\n",
    "df_dist_spe_mentionBac_S\n"
   ]
  },
  {
   "cell_type": "code",
   "execution_count": 181,
   "metadata": {},
   "outputs": [
    {
     "data": {
      "text/plain": [
       "<AxesSubplot:xlabel='mention_bac'>"
      ]
     },
     "execution_count": 181,
     "metadata": {},
     "output_type": "execute_result"
    },
    {
     "data": {
      "image/png": "[encoded data removed]",
      "text/plain": [
       "<Figure size 640x480 with 1 Axes>"
      ]
     },
     "metadata": {},
     "output_type": "display_data"
    }
   ],
   "source": [
    "# on représente graphiquement les distributions avec la méthode plot() de la classe DataFrame\n",
    "\n",
    "df_dist_spe_mentionBac_S.plot(kind=\"bar\")"
   ]
  },
  {
   "cell_type": "markdown",
   "metadata": {},
   "source": [
    "> des formations postbac"
   ]
  },
  {
   "cell_type": "code",
   "execution_count": 186,
   "metadata": {},
   "outputs": [],
   "source": [
    "# Réponse"
   ]
  },
  {
   "cell_type": "markdown",
   "metadata": {},
   "source": [
    "> des formations postbac pour chacune des spécialités"
   ]
  },
  {
   "cell_type": "code",
   "execution_count": 186,
   "metadata": {},
   "outputs": [],
   "source": [
    "# Réponse"
   ]
  },
  {
   "cell_type": "markdown",
   "metadata": {},
   "source": [
    "> des formations postbac pour chacune des mentions **au bac S**"
   ]
  },
  {
   "cell_type": "code",
   "execution_count": 186,
   "metadata": {},
   "outputs": [],
   "source": [
    "# Réponse"
   ]
  },
  {
   "cell_type": "markdown",
   "metadata": {},
   "source": [
    "> des départements du lycée"
   ]
  },
  {
   "cell_type": "code",
   "execution_count": 186,
   "metadata": {},
   "outputs": [],
   "source": [
    "# Réponse"
   ]
  },
  {
   "cell_type": "markdown",
   "metadata": {},
   "source": [
    "> des étudiants qui n'ont pas changé de département pour leur formation postbac"
   ]
  },
  {
   "cell_type": "code",
   "execution_count": 182,
   "metadata": {},
   "outputs": [
    {
     "data": {
      "text/html": [
       "<div>\n",
       "<style scoped>\n",
       "    .dataframe tbody tr th:only-of-type {\n",
       "        vertical-align: middle;\n",
       "    }\n",
       "\n",
       "    .dataframe tbody tr th {\n",
       "        vertical-align: top;\n",
       "    }\n",
       "\n",
       "    .dataframe thead th {\n",
       "        text-align: right;\n",
       "    }\n",
       "</style>\n",
       "<table border=\"1\" class=\"dataframe\">\n",
       "  <thead>\n",
       "    <tr style=\"text-align: right;\">\n",
       "      <th></th>\n",
       "      <th>id_etudiant</th>\n",
       "      <th>specialite_ensibs</th>\n",
       "      <th>dpt_entreprise</th>\n",
       "      <th>dpt_lycee</th>\n",
       "      <th>bac</th>\n",
       "      <th>mention_bac</th>\n",
       "      <th>note_maths_bac</th>\n",
       "      <th>postbac</th>\n",
       "      <th>dpt_postbac</th>\n",
       "      <th>gpa_maths_crypto</th>\n",
       "      <th>gpa_protocoles_crypto</th>\n",
       "      <th>memeDpt</th>\n",
       "    </tr>\n",
       "  </thead>\n",
       "  <tbody>\n",
       "    <tr>\n",
       "      <th>0</th>\n",
       "      <td>9</td>\n",
       "      <td>CyberDef</td>\n",
       "      <td>56.0</td>\n",
       "      <td>35</td>\n",
       "      <td>Bac S</td>\n",
       "      <td>Assez bien</td>\n",
       "      <td>Entre 10 et 12 (exclus)</td>\n",
       "      <td>DUT R&amp;T</td>\n",
       "      <td>35</td>\n",
       "      <td>3.5</td>\n",
       "      <td>3.45</td>\n",
       "      <td>True</td>\n",
       "    </tr>\n",
       "    <tr>\n",
       "      <th>1</th>\n",
       "      <td>10</td>\n",
       "      <td>CyberDef</td>\n",
       "      <td>22.0</td>\n",
       "      <td>22</td>\n",
       "      <td>Bac S</td>\n",
       "      <td>Assez bien</td>\n",
       "      <td>Entre 10 et 12 (exclus)</td>\n",
       "      <td>DUT INFO</td>\n",
       "      <td>22</td>\n",
       "      <td>3.0</td>\n",
       "      <td>3.50</td>\n",
       "      <td>True</td>\n",
       "    </tr>\n",
       "    <tr>\n",
       "      <th>2</th>\n",
       "      <td>14</td>\n",
       "      <td>CyberDef</td>\n",
       "      <td>35.0</td>\n",
       "      <td>60</td>\n",
       "      <td>Bac S</td>\n",
       "      <td>Bien</td>\n",
       "      <td>Entre 10 et 12 (exclus)</td>\n",
       "      <td>DUT INFO</td>\n",
       "      <td>56</td>\n",
       "      <td>0.0</td>\n",
       "      <td>3.40</td>\n",
       "      <td>False</td>\n",
       "    </tr>\n",
       "    <tr>\n",
       "      <th>3</th>\n",
       "      <td>19</td>\n",
       "      <td>CyberDef</td>\n",
       "      <td>46.0</td>\n",
       "      <td>7</td>\n",
       "      <td>Bac S</td>\n",
       "      <td>Passable</td>\n",
       "      <td>Entre 10 et 12 (exclus)</td>\n",
       "      <td>DUT R&amp;T</td>\n",
       "      <td>74</td>\n",
       "      <td>2.0</td>\n",
       "      <td>3.00</td>\n",
       "      <td>False</td>\n",
       "    </tr>\n",
       "    <tr>\n",
       "      <th>4</th>\n",
       "      <td>25</td>\n",
       "      <td>CyberLog</td>\n",
       "      <td>NaN</td>\n",
       "      <td>90</td>\n",
       "      <td>Bac S</td>\n",
       "      <td>Bien</td>\n",
       "      <td>Entre 10 et 12 (exclus)</td>\n",
       "      <td>Prépa concours (CPGE)</td>\n",
       "      <td>67</td>\n",
       "      <td>4.0</td>\n",
       "      <td>3.85</td>\n",
       "      <td>False</td>\n",
       "    </tr>\n",
       "  </tbody>\n",
       "</table>\n",
       "</div>"
      ],
      "text/plain": [
       "   id_etudiant specialite_ensibs  dpt_entreprise  dpt_lycee    bac  \\\n",
       "0            9          CyberDef            56.0         35  Bac S   \n",
       "1           10          CyberDef            22.0         22  Bac S   \n",
       "2           14          CyberDef            35.0         60  Bac S   \n",
       "3           19          CyberDef            46.0          7  Bac S   \n",
       "4           25          CyberLog             NaN         90  Bac S   \n",
       "\n",
       "  mention_bac           note_maths_bac                postbac  dpt_postbac  \\\n",
       "0  Assez bien  Entre 10 et 12 (exclus)                DUT R&T           35   \n",
       "1  Assez bien  Entre 10 et 12 (exclus)               DUT INFO           22   \n",
       "2        Bien  Entre 10 et 12 (exclus)               DUT INFO           56   \n",
       "3    Passable  Entre 10 et 12 (exclus)                DUT R&T           74   \n",
       "4        Bien  Entre 10 et 12 (exclus)  Prépa concours (CPGE)           67   \n",
       "\n",
       "   gpa_maths_crypto  gpa_protocoles_crypto  memeDpt  \n",
       "0               3.5                   3.45     True  \n",
       "1               3.0                   3.50     True  \n",
       "2               0.0                   3.40    False  \n",
       "3               2.0                   3.00    False  \n",
       "4               4.0                   3.85    False  "
      ]
     },
     "execution_count": 182,
     "metadata": {},
     "output_type": "execute_result"
    }
   ],
   "source": [
    "# on commence par ajouter une colonne (dernière position par défaut)\n",
    "\n",
    "data[\"memeDpt\"] = data[\"dpt_lycee\"] == data[\"dpt_postbac\"]\n",
    "data.head()"
   ]
  },
  {
   "cell_type": "markdown",
   "metadata": {},
   "source": [
    "> des notes de maths au bac"
   ]
  },
  {
   "cell_type": "code",
   "execution_count": 186,
   "metadata": {},
   "outputs": [],
   "source": [
    "# Réponse"
   ]
  },
  {
   "cell_type": "markdown",
   "metadata": {},
   "source": [
    "> des notes de maths au bac pour chacune des spécialités"
   ]
  },
  {
   "cell_type": "code",
   "execution_count": 186,
   "metadata": {},
   "outputs": [],
   "source": [
    "# Réponse"
   ]
  },
  {
   "cell_type": "markdown",
   "metadata": {},
   "source": [
    "> des notes de protocoles en cryptographie"
   ]
  },
  {
   "cell_type": "code",
   "execution_count": 183,
   "metadata": {},
   "outputs": [
    {
     "data": {
      "image/png": "[encoded data removed]",
      "text/plain": [
       "<Figure size 640x480 with 1 Axes>"
      ]
     },
     "metadata": {},
     "output_type": "display_data"
    }
   ],
   "source": [
    "# Graphique\n",
    "\n",
    "# on supprime les lignes où la note n'est pas renseignée (nan)\n",
    "df_gpaProtCrypto_sansNan = data[[\"gpa_protocoles_crypto\"]].dropna()\n",
    "\n",
    "# les valeurs à représenter sont fournies à l'aide d'un Array créé à partir d'un DataFrame\n",
    "plt.hist(np.array(df_gpaProtCrypto_sansNan), bins=nbCl, density=1, edgecolor='black')\n",
    "\n",
    "plt.show()"
   ]
  },
  {
   "cell_type": "markdown",
   "metadata": {},
   "source": [
    "> des notes de protocoles en cryptographie pour chacune des spécialités"
   ]
  },
  {
   "cell_type": "code",
   "execution_count": 184,
   "metadata": {},
   "outputs": [
    {
     "data": {
      "image/png": "[encoded data removed]",
      "text/plain": [
       "<Figure size 640x480 with 1 Axes>"
      ]
     },
     "metadata": {},
     "output_type": "display_data"
    }
   ],
   "source": [
    "# Graphique\n",
    "# /!\\ comme le tableau n'est pas utile ici, j'ai directement affiché la représentation graphique\n",
    "\n",
    "sns.boxplot(data[\"specialite_ensibs\"], data[\"gpa_protocoles_crypto\"])\n",
    "plt.show()"
   ]
  },
  {
   "cell_type": "markdown",
   "metadata": {},
   "source": [
    "> des notes de protocoles en cryptographie pour chacune des formations postbac"
   ]
  },
  {
   "cell_type": "code",
   "execution_count": 185,
   "metadata": {},
   "outputs": [
    {
     "data": {
      "image/png": "[encoded data removed]",
      "text/plain": [
       "<Figure size 640x480 with 1 Axes>"
      ]
     },
     "metadata": {},
     "output_type": "display_data"
    }
   ],
   "source": [
    "# Graphique\n",
    "# /!\\ comme le tableau n'est pas utile ici, j'ai de nouveau directement affiché la représentation graphique\n",
    "\n",
    "sns.boxplot(data[\"postbac\"], data[\"gpa_protocoles_crypto\"])\n",
    "plt.show()"
   ]
  },
  {
   "cell_type": "markdown",
   "metadata": {},
   "source": [
    "## Indicateurs statistiques"
   ]
  },
  {
   "cell_type": "markdown",
   "metadata": {},
   "source": [
    "*Là encore, on pourra utiliser la méthode **.groupby()** (cf. section 4.5 du livre) accompagnée de **.agg()** et **.apply()**.*"
   ]
  },
  {
   "cell_type": "markdown",
   "metadata": {},
   "source": [
    "**Calculer** :"
   ]
  },
  {
   "cell_type": "markdown",
   "metadata": {},
   "source": [
    "> le nombre d'étudiants pour chacune des spécialités"
   ]
  },
  {
   "cell_type": "code",
   "execution_count": 186,
   "metadata": {},
   "outputs": [],
   "source": [
    "# Réponse"
   ]
  },
  {
   "cell_type": "markdown",
   "metadata": {},
   "source": [
    "> la moyenne et l'écart-type des notes de protocoles en cryptographie"
   ]
  },
  {
   "cell_type": "code",
   "execution_count": 187,
   "metadata": {},
   "outputs": [],
   "source": [
    "# Réponse"
   ]
  },
  {
   "cell_type": "markdown",
   "metadata": {},
   "source": [
    "> la moyenne et l'écart-type des notes de protocoles en cryptographie pour chacune des spécialités"
   ]
  },
  {
   "cell_type": "code",
   "execution_count": 188,
   "metadata": {},
   "outputs": [],
   "source": [
    "# Réponse"
   ]
  },
  {
   "cell_type": "markdown",
   "metadata": {},
   "source": [
    "> la moyenne et l'écart-type des notes de protocoles en cryptographie pour chacune des formations postbac"
   ]
  },
  {
   "cell_type": "code",
   "execution_count": 189,
   "metadata": {},
   "outputs": [],
   "source": [
    "# Réponse"
   ]
  },
  {
   "cell_type": "markdown",
   "metadata": {},
   "source": [
    "> la moyenne des extrêmes et l'étendue des notes de maths pour la crypto"
   ]
  },
  {
   "cell_type": "code",
   "execution_count": 190,
   "metadata": {},
   "outputs": [],
   "source": [
    "# Réponse"
   ]
  },
  {
   "cell_type": "markdown",
   "metadata": {},
   "source": [
    "> la moyenne des extrêmes et l'étendue des notes de maths pour la crypto pour chacune des spécialités"
   ]
  },
  {
   "cell_type": "code",
   "execution_count": 191,
   "metadata": {},
   "outputs": [],
   "source": [
    "# Réponse"
   ]
  },
  {
   "cell_type": "markdown",
   "metadata": {},
   "source": [
    "> la moyenne des extrêmes et l'étendue des notes de maths pour la crypto pour chacune des formations postbac"
   ]
  },
  {
   "cell_type": "code",
   "execution_count": 192,
   "metadata": {},
   "outputs": [],
   "source": [
    "# Réponse"
   ]
  },
  {
   "cell_type": "markdown",
   "metadata": {},
   "source": [
    "> la moyenne \"approchée\" et l'écart-type \"approché\" des notes de maths au bac"
   ]
  },
  {
   "cell_type": "code",
   "execution_count": 193,
   "metadata": {},
   "outputs": [],
   "source": [
    "# Réponse"
   ]
  },
  {
   "cell_type": "markdown",
   "metadata": {},
   "source": [
    "> la moyenne \"approchée\" et l'écart-type \"approché\" des notes de maths au bac pour chacune des spécialités"
   ]
  },
  {
   "cell_type": "code",
   "execution_count": 194,
   "metadata": {},
   "outputs": [],
   "source": [
    "# Réponse"
   ]
  },
  {
   "cell_type": "markdown",
   "metadata": {},
   "source": [
    "## Des questions supplémentaires (non facultatives)"
   ]
  },
  {
   "cell_type": "markdown",
   "metadata": {},
   "source": [
    "*Pour les questions suivantes, on pourra se reporter à la section 4.4 du livre*"
   ]
  },
  {
   "cell_type": "markdown",
   "metadata": {},
   "source": [
    "> Afficher les différents indicateurs, à l'aide de la méthode **.describe()**, pour les notes de protocoles en crypto et celles de maths pour la crypto"
   ]
  },
  {
   "cell_type": "code",
   "execution_count": 195,
   "metadata": {},
   "outputs": [],
   "source": [
    "# Réponse"
   ]
  },
  {
   "cell_type": "markdown",
   "metadata": {},
   "source": [
    "> Afficher ces différents indicateurs pour les notes de protocoles en crypto dans chacune des spécialités"
   ]
  },
  {
   "cell_type": "code",
   "execution_count": 196,
   "metadata": {},
   "outputs": [],
   "source": [
    "# Réponse"
   ]
  },
  {
   "cell_type": "markdown",
   "metadata": {},
   "source": [
    "> Afficher ces différents indicateurs pour les notes de protocoles en crypto dans chacune des formations postbac en se restreignant à CyberDef"
   ]
  },
  {
   "cell_type": "code",
   "execution_count": 197,
   "metadata": {},
   "outputs": [],
   "source": [
    "# Réponse"
   ]
  },
  {
   "cell_type": "markdown",
   "metadata": {},
   "source": [
    "> Afficher le 1er et le 9ème décile, le coefficient d'asymétrie et celui d'applatissement pour les notes de protocoles en crypto"
   ]
  },
  {
   "cell_type": "code",
   "execution_count": 198,
   "metadata": {},
   "outputs": [],
   "source": [
    "# Réponse"
   ]
  }
 ],
 "metadata": {
  "kernelspec": {
   "display_name": "Python 3 (ipykernel)",
   "language": "python",
   "name": "python3"
  },
  "language_info": {
   "codemirror_mode": {
    "name": "ipython",
    "version": 3
   },
   "file_extension": ".py",
   "mimetype": "text/x-python",
   "name": "python",
   "nbconvert_exporter": "python",
   "pygments_lexer": "ipython3",
   "version": "3.9.13"
  }
 },
 "nbformat": 4,
 "nbformat_minor": 2
}
