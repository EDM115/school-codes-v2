{
 "cells": [
  {
   "cell_type": "code",
   "execution_count": 1,
   "id": "39e18c36",
   "metadata": {},
   "outputs": [],
   "source": [
    "import matplotlib.pyplot as plt\n",
    "import numpy as np\n",
    "import random\n"
   ]
  },
  {
   "cell_type": "markdown",
   "id": "65fbf600",
   "metadata": {},
   "source": [
    "<center>\n",
    "\n",
    "# TP1 - Mariage stable\n",
    "2024/2025 - T. Godin, L. Naert\n",
    "IUT de Vannes, BUT Informatique\n",
    "\n",
    "</center>"
   ]
  },
  {
   "cell_type": "markdown",
   "id": "e4b0bb48",
   "metadata": {},
   "source": [
    "## Généralités\n",
    "Le problème des mariages stables consiste à trouver une façon stable de mettre en couple les éléments d'une population 1 ($P_1$) avec les éléments d'une population 2 ($P_2$) sachant que chaque élément de $P_1$ et de $P_2$ fournit une liste de ses préférences pour le couplage. \n",
    "\n",
    "L'exemple classique est l'affectation d'étudiants dans une formation après le bac (problème de ParcoursSup). Les étudiants font un classement des formations post-bac, les formations font un classement des étudiants et l'on cherche des mariages stables. \n",
    "\n",
    "Une situation est dite instable s'il y a au moins un étudiant et une formation post-bac qui préféreraient se mettre en couple plutôt que de rester avec leurs \"partenaires\" actuels. \n",
    "\n",
    "__Par exemple__ : `Jean-Pierre` est affecté à l'IUT de _Lannion_ et `Robert` à l'IUT de _Vannes_ alors que `Jean-Pierre` préfère l'IUT de _Vannes_ à l'IUT de _Lannion_ et l'IUT de _Vannes_ préfère `Jean-Pierre` à `Robert`. \n",
    "\n",
    "Durant ce TP, vous implémenterez l'algorithme de Gale–Shapley qui permet de trouver une solution stable au problème des mariages. Vous appliquerez cet algorithme au problème des affectations d'étudiants dans des formations. \n",
    "\n",
    "Le code ci-dessous donne des exemples de listes de préférence stockée dans des dictionnaires: "
   ]
  },
  {
   "cell_type": "code",
   "execution_count": 33,
   "id": "6d84b3ff",
   "metadata": {},
   "outputs": [
    {
     "name": "stdout",
     "output_type": "stream",
     "text": [
      "Nombre d'étudiants : 5\n",
      "Nombre de formations : 5\n"
     ]
    }
   ],
   "source": [
    "etudiantPref = {0:[4, 1, 2, 0, 3], 1:[2, 3, 0, 1, 4], 2:[4, 0, 1, 2, 3], 3:[3, 1, 4, 0, 2], 4:[3, 4, 1, 2, 0]}\n",
    "print(f\"Nombre d'étudiants : {len(etudiantPref)}\")\n",
    "\n",
    "formationPref = {1:[3, 4, 0, 2, 1], 2:[1, 3, 0, 4, 2], 3:[1, 4, 3, 2, 0], 0:[2, 1, 0, 3, 4], 4:[3, 1, 4, 2, 0]}\n",
    "print(f\"Nombre de formations : {len(formationPref)}\")\n"
   ]
  },
  {
   "cell_type": "markdown",
   "id": "e1256785",
   "metadata": {},
   "source": [
    "<tt>etudiantPref</tt> liste les préférences de chaque étudiant.\n",
    "\n",
    "<tt>formationPref</tt> liste les préférences de chaque formation.\n",
    "\n",
    "L'étudiant n°0 préfère la formation n°4, puis la n°1, la n°2, la n°0 et enfin, la n°3. \n",
    "\n",
    "L'étudiant n°1 préfère la formation n°2, puis la n°3, la n°0, la n°1 et enfin, la n°4. \n",
    "etc.\n",
    "\n",
    "Idem pour les formations.\n",
    "La formation n° 0 préfère l'étudiant n°2, puis le n°1, le n°0, le n°3 et enfin, le n°4. \n",
    "etc.\n",
    "\n",
    "\n",
    "__Pour chacune des questions avec un <tt>try/assert</tt>, nous vous demandons de rajouter des cas de test pertinents.__"
   ]
  },
  {
   "cell_type": "markdown",
   "id": "eb91091a-c2f4-41b6-9c24-b26af20550f1",
   "metadata": {},
   "source": [
    "Quelques fonctions utiles pour utiliser un dictionnaire : "
   ]
  },
  {
   "cell_type": "code",
   "execution_count": 34,
   "id": "b2ee851c-3d92-4da4-b6a9-17f0df10b4d5",
   "metadata": {},
   "outputs": [
    {
     "name": "stdout",
     "output_type": "stream",
     "text": [
      "Valeur associé à la clef 3 : 5\n",
      "Liste des clefs : [6, 3, 0, 2, 5]\n",
      "Liste des valeurs : [18, 5, 24, 18, 25]\n",
      "Clef associée à la valeur 18 : 6\n",
      "Clef associée à la valeur 25 : 5\n",
      "Clef associée à la valeur 24 : 0\n"
     ]
    }
   ],
   "source": [
    "# Exemple de dictionnaire simple\n",
    "dico = {6:18, 3:5, 0:24, 2:18, 5:25}\n",
    "\n",
    "# Pour avoir la valeur associé à une certaine clef (ici, clef = 3) :\n",
    "print(f\"Valeur associé à la clef 3 : {dico[3]}\")\n",
    "\n",
    "# Pour avoir la liste des clefs :\n",
    "print(f\"Liste des clefs : {list(dico.keys())}\")\n",
    "\n",
    "# Pour avoir la liste des valeurs :\n",
    "print(f\"Liste des valeurs : {list(dico.values())}\")\n",
    "\n",
    "# Pour avoir la clef associée à la première occurence d'une certaine valeur\n",
    "print(f\"Clef associée à la valeur 18 : {list(dico.keys())[list(dico.values()).index(18)]}\")\n",
    "print(f\"Clef associée à la valeur 25 : {list(dico.keys())[list(dico.values()).index(25)]}\")\n",
    "print(f\"Clef associée à la valeur 24 : {list(dico.keys())[list(dico.values()).index(24)]}\")\n"
   ]
  },
  {
   "cell_type": "markdown",
   "id": "9e8e55ea",
   "metadata": {},
   "source": [
    "> __Question 1 (mise en place)__ : \n",
    "Ecrire un bout de code pour afficher la liste des préférences de l'étudiant n°2, la liste des préférences de la formation n°0, la formation préféré de l'étudiant n°3 et le numéro de la formation dont la liste de préférence est $1, 4, 3, 2, 0$"
   ]
  },
  {
   "cell_type": "code",
   "execution_count": 35,
   "id": "d460fd06",
   "metadata": {},
   "outputs": [
    {
     "name": "stdout",
     "output_type": "stream",
     "text": [
      "Liste des préférences de l'étudiant n°2 : [4, 0, 1, 2, 3]\n",
      "Liste des préférences de la formation n°0 : [2, 1, 0, 3, 4]\n",
      "La formation préférée de l'étudiant n°3 : 3\n",
      "Le numéro de la formation avec la liste de préférences [1, 4, 3, 2, 0] : 3\n"
     ]
    }
   ],
   "source": [
    "etudiantPref = {0:[4, 1, 2, 0, 3], 1:[2, 3, 0, 1, 4], 2:[4, 0, 1, 2, 3], 3:[3, 1, 4, 0, 2], 4:[3, 4, 1, 2, 0]}\n",
    "formationPref = {1:[3, 4, 0, 2, 1], 2:[1, 3, 0, 4, 2], 3:[1, 4, 3, 2, 0], 0:[2, 1, 0, 3, 4], 4:[3, 1, 4, 2, 0]}\n",
    "\n",
    "# 1. Afficher la liste des préférences de l'étudiant n°2\n",
    "print(f\"Liste des préférences de l'étudiant n°2 : {etudiantPref[2]}\")\n",
    "\n",
    "# 2. Afficher la liste des préférences de la formation n°0\n",
    "print(f\"Liste des préférences de la formation n°0 : {formationPref[0]}\")\n",
    "\n",
    "# 3. Afficher la formation préférée de l'étudiant n°3\n",
    "print(f\"La formation préférée de l'étudiant n°3 : {etudiantPref[3][0]}\")\n",
    "\n",
    "# 4. Trouver le numéro de la formation dont la liste de préférence est [1, 4, 3, 2, 0]\n",
    "for formation, preferences in formationPref.items():\n",
    "    if preferences == [1, 4, 3, 2, 0]:\n",
    "        print(f\"Le numéro de la formation avec la liste de préférences [1, 4, 3, 2, 0] : {formation}\")\n",
    "\n",
    "        break\n"
   ]
  },
  {
   "cell_type": "markdown",
   "id": "9e6b6e52",
   "metadata": {},
   "source": [
    "> __Question 2 (préférence)__ : Ecrire une fonction `prefer(pref,c1,c2)` qui renvoie `True` si `c1` est préféré à `c2` d'après la liste des préférence `pref`."
   ]
  },
  {
   "cell_type": "code",
   "execution_count": 36,
   "id": "14d2541b",
   "metadata": {},
   "outputs": [
    {
     "name": "stdout",
     "output_type": "stream",
     "text": [
      "prefer : OK\n"
     ]
    }
   ],
   "source": [
    "def prefer(pref, c1, c2):\n",
    "    \"\"\"\n",
    "    Renvoie True si c1 est préféré à c2 d'après la liste des préférences pref.\n",
    "    \n",
    "    :param array pref: la liste de préférences\n",
    "    :param int c1: premier individu\n",
    "    :param int c2: deuxième individu   \n",
    "    :return: True si c1 est préféré à c2, False sinon\n",
    "    :rtype: bool\n",
    "    \"\"\"\n",
    "\n",
    "    # On vérifie la position de c1 et c2 dans la liste de préférences.\n",
    "    return pref.index(c1) < pref.index(c2)\n",
    "\n",
    "try:\n",
    "    etudiantPref = {0:[4, 1, 2, 0, 3], 1:[2, 3, 0, 1, 4], 2:[4, 0, 1, 2, 3], 3:[3, 1, 4, 0, 2], 4:[3, 4, 1, 2, 0]}\n",
    "    formationPref = {1:[3, 4, 0, 2, 1], 2:[1, 3, 0, 4, 2], 3:[1, 4, 3, 2, 0], 0:[2, 1, 0, 3, 4], 4:[3, 1, 4, 2, 0]}\n",
    "    assert prefer(etudiantPref[0],0,1) == False\n",
    "    assert prefer(etudiantPref[1],0,1) == True\n",
    "    assert prefer(etudiantPref[2],0,1) == True\n",
    "    assert prefer(etudiantPref[3],0,1) == False\n",
    "    assert prefer(etudiantPref[4],0,1) == False\n",
    "    print(\"prefer : OK\")\n",
    "except:\n",
    "    print(\"prefer : ERREUR\")\n"
   ]
  },
  {
   "cell_type": "markdown",
   "id": "1532d1af",
   "metadata": {},
   "source": [
    "Un mariage est également un dictionnaire où les couples (clef, valeur) représente un mariage entre un individu de $P_1$ (clef) et un individu de $P_2$ (valeur). Un exemple est donné ci-dessous : "
   ]
  },
  {
   "cell_type": "code",
   "execution_count": 37,
   "id": "1d294320-93b7-4bf0-acf2-5c9d44b364a7",
   "metadata": {},
   "outputs": [],
   "source": [
    "mariage = {0:0, 2:4, 4:-1, 3:1, 1:2}\n"
   ]
  },
  {
   "cell_type": "markdown",
   "id": "e426ff4c-fc62-48d4-bd09-0e57a4765d2c",
   "metadata": {},
   "source": [
    "Si l'on considère que $P_1$ rassemble les étudiants et $P_2$ les formations. On voit par exemple que l'étudiant 2 est marié à la formation 4 et l'étudiant 4 n'est pas marié (associé à la valeur $-1$)."
   ]
  },
  {
   "cell_type": "markdown",
   "id": "4b551dea",
   "metadata": {},
   "source": [
    "> __Question 3 (mariage)__ : Ecrire une fonction `marriedTo(marriage, e, isP1)` qui renvoie l'identifiant du partenaire de <tt>e</tt> d'après la liste de mariages <tt>marriage</tt>, et -1 s'il n'est pas marié. Attention : <tt>e</tt> appartient à $P_1$ si <tt>isP1</tt> est à <tt>True</tt> et à $P_2$ sinon. "
   ]
  },
  {
   "cell_type": "code",
   "execution_count": 38,
   "id": "d0fa550e",
   "metadata": {},
   "outputs": [
    {
     "name": "stdout",
     "output_type": "stream",
     "text": [
      "marriedTo : OK\n"
     ]
    }
   ],
   "source": [
    "def marriedTo(marriage, e, isP1):\n",
    "    \"\"\"\n",
    "    Renvoie l'identifiant du partenaire de e d'après le dictionnaire des mariages marriage,\n",
    "    et -1 s'il n'est pas marié.\n",
    "    \n",
    "    :param dictionary marriage: la liste des mariages actuels\n",
    "    :param int e: élément de P1 ou de P2\n",
    "    :param bool isP1: permet de connaître le rôle de e (P1 ou P2)\n",
    "    :return: l'identifiant du partenaire de e d'après marriage\n",
    "    :rtype: int\n",
    "    \"\"\"\n",
    "\n",
    "    if isP1:\n",
    "        # Si e appartient à P1, on cherche sa valeur dans le dictionnaire.\n",
    "        return marriage.get(e, -1)\n",
    "    else:\n",
    "        # Si e appartient à P2, on cherche la clé ayant pour valeur e.\n",
    "        for key, value in marriage.items():\n",
    "            if value == e:\n",
    "                return key\n",
    "\n",
    "        return -1\n",
    "\n",
    "try:\n",
    "    mariage = {0:0, 2:4, 4:-1, 3:1, 1:2}\n",
    "    assert marriedTo(mariage, 1, True) == 2\n",
    "    assert marriedTo(mariage, 1, False) == 3\n",
    "    assert marriedTo(mariage, 4, True) == -1\n",
    "    assert marriedTo(mariage, 4, False) == 2\n",
    "    assert marriedTo(mariage, 3, True) == 1\n",
    "    assert marriedTo(mariage, 3, False) == -1\n",
    "    print(\"marriedTo : OK\")\n",
    "except:\n",
    "    print(\"marriedTo : ERREUR\")\n"
   ]
  },
  {
   "cell_type": "markdown",
   "id": "7184bd80",
   "metadata": {},
   "source": [
    "## Algorithme de Gale-Shapley\n",
    "\n",
    "L'algorithme de Gale-Shapley permet de donner une solution au problème des mariages stables. Il fonctionne de manière itérative jusqu'à ce que chacun ait un partenaire.\n",
    "\n",
    "Au départ, les étudiants (i.e. éléments de $P_1$) et les formations (i.e. éléments de $P_2$) ne sont pas appariés.\n",
    "\n",
    "Pour chaque étudiant non \"marié\" : \n",
    "\n",
    "- l'étudiant propose le \"mariage\" à la formation en haut de sa liste (indice = 0) : \n",
    "\n",
    "    - Si la formation est \"célibataire\", elle accepte le mariage.\n",
    "    - Si la formation est \"mariée\" : \n",
    "        - Si le couple précédent est instable, elle accepte le nouveau mariage\n",
    "        - sinon l'étudiant demande à la formation suivante (indice = indice + 1)\n"
   ]
  },
  {
   "cell_type": "markdown",
   "id": "8d0ce541",
   "metadata": {},
   "source": [
    "> __Question 4 (Gale-Shapley)__ : Ecrire une fonction `galeShapley(p1Pref,p2Pref):` qui renvoie une proposition de mariage suivant l'agorithme de Gale-Shapley en fonction des disctionnaires de préférences de $P_1$ (i.e etudiantPref) et de $P_2$ (i.e formationPref)."
   ]
  },
  {
   "cell_type": "code",
   "execution_count": 39,
   "id": "b366e986",
   "metadata": {},
   "outputs": [
    {
     "name": "stdout",
     "output_type": "stream",
     "text": [
      "galeShapley : OK\n"
     ]
    }
   ],
   "source": [
    "def galeShapley(p1Pref, p2Pref):\n",
    "    \"\"\"\n",
    "    Renvoie un dictionnaire de mariages stables suivant l'algorithme de Gale-Shapley.\n",
    "    \n",
    "    :param dictionnaire p1Pref: le dictionnaire des préférences des individus de P1\n",
    "    :param dictionnaire p2Pref: le dictionnaire des préférences des individus de P2\n",
    "    :return: dictionnaire de mariages stables\n",
    "    :rtype: dictionnaire\n",
    "    \"\"\"\n",
    "    \n",
    "    # Initialisation : tous les étudiants (P1) sont célibataires\n",
    "    single_p1 = list(p1Pref.keys())  # Liste des individus de P1 non encore mariés\n",
    "    marriage = {p1: -1 for p1 in p1Pref}  # Dictionnaire des mariages avec -1 pour les non mariés\n",
    "    engaged = {p2: -1 for p2 in p2Pref}  # Les formations (P2) sont également célibataires au départ\n",
    "    next_proposal = {p1: 0 for p1 in p1Pref}  # Garde une trace de la prochaine formation à proposer\n",
    "    \n",
    "    while single_p1:  # Tant qu'il y a des étudiants non mariés\n",
    "        student = single_p1[0]  # Prendre un étudiant non marié\n",
    "        # Trouver la prochaine formation à qui l'étudiant va proposer\n",
    "        preferred_formation = p1Pref[student][next_proposal[student]]\n",
    "        next_proposal[student] += 1  # On met à jour la prochaine proposition à faire\n",
    "\n",
    "        # Si la formation est célibataire, elle accepte directement la proposition\n",
    "        if engaged[preferred_formation] == -1:\n",
    "            marriage[student] = preferred_formation\n",
    "            engaged[preferred_formation] = student\n",
    "            single_p1.pop(0)  # Cet étudiant est maintenant marié\n",
    "        else:\n",
    "            # Si la formation est déjà mariée, elle doit comparer les préférences\n",
    "            current_student = engaged[preferred_formation]\n",
    "\n",
    "            if p2Pref[preferred_formation].index(student) < p2Pref[preferred_formation].index(current_student):\n",
    "                # La formation préfère le nouvel étudiant\n",
    "                marriage[student] = preferred_formation\n",
    "                marriage[current_student] = -1  # L'ancien étudiant devient célibataire\n",
    "                single_p1[0] = current_student  # On remplace le célibataire actuel par l'ancien\n",
    "                engaged[preferred_formation] = student  # La formation est maintenant engagée avec le nouvel étudiant\n",
    "            else:\n",
    "                # La formation préfère rester avec l'étudiant actuel\n",
    "                pass  # L'étudiant reste célibataire et proposera à une autre formation\n",
    "\n",
    "    return marriage\n",
    "\n",
    "try:\n",
    "    e1Pref = {0:[4, 1, 2, 0, 3], 1:[2, 3, 0, 1, 4], 2:[4, 0, 1, 2, 3], 3:[3, 1, 4, 0, 2], 4:[3, 4, 1, 2, 0]}\n",
    "    f1Pref = {1:[3, 4, 0, 2, 1], 2:[1, 3, 0, 4, 2], 3:[1, 4, 3, 2, 0], 0:[2, 1, 0, 3, 4], 4:[3, 1, 4, 2, 0]}\n",
    "    assert galeShapley(e1Pref, f1Pref) == {0: 0, 1: 2, 2: 4, 3: 1, 4: 3}\n",
    "    e2Pref={0:[0,1,2],1:[0,2,1],2:[2,0,1]}\n",
    "    f2Pref={0:[1,2,0],1:[0,2,1],2:[1,2,0]}\n",
    "    assert galeShapley(e2Pref, f2Pref) == {0: 1, 1: 0, 2: 2}\n",
    "    print(\"galeShapley : OK\")\n",
    "except:\n",
    "    print(\"galeShapley : ERREUR\")\n"
   ]
  },
  {
   "cell_type": "markdown",
   "id": "40a58702",
   "metadata": {},
   "source": [
    "## Analyse\n",
    "\n",
    "Pour étudier les mariages obtenus, nous avons besoin d'utiliser l'algorithme sur plusieurs exemples. "
   ]
  },
  {
   "cell_type": "markdown",
   "id": "1538ee1f",
   "metadata": {},
   "source": [
    "> __Question 5 (Préférences aléatoires)__ : \n",
    "Ecrire une fonction `dicoPrefGenerator(n)` qui renvoie un dictionnaire de <tt>n</tt> listes de préférences contenant des nombres aléatoires de 0 à n-1 (sans doublons dans une même liste). \n",
    "\n",
    "Par exemple : `dicoPrefGenerator(5)` pourrait renvoyer `{0: [0, 3, 2, 4, 1], 1: [1, 0, 3, 4, 2], 2: [4, 0, 2, 3, 1], 3: [2, 0, 3, 1, 4], 4: [3, 0, 4, 1, 2]}`"
   ]
  },
  {
   "cell_type": "code",
   "execution_count": 40,
   "id": "5e3720a4",
   "metadata": {},
   "outputs": [
    {
     "name": "stdout",
     "output_type": "stream",
     "text": [
      "Exemple de dico aléatoire : {0: [6, 0, 3, 4, 2, 5, 1], 1: [3, 4, 2, 5, 0, 1, 6], 2: [1, 4, 0, 3, 2, 5, 6], 3: [5, 4, 6, 2, 0, 1, 3], 4: [6, 0, 2, 4, 5, 3, 1], 5: [4, 6, 5, 0, 2, 3, 1], 6: [6, 0, 3, 4, 1, 5, 2]}\n"
     ]
    }
   ],
   "source": [
    "def dicoPrefGenerator(n):\n",
    "    \"\"\"\n",
    "    Renvoie un dictionnaire de n listes de préférences aléatoires contenant des nombres de 0 à n-1.\n",
    "    \n",
    "    :param int n: le nombre d'individus\n",
    "    :return: un dictionnaire de préférences aléatoires\n",
    "    :rtype: dict\n",
    "    \"\"\"\n",
    "\n",
    "    dicoPref = {}\n",
    "\n",
    "    for i in range(n):\n",
    "        # Générer une liste de tous les entiers de 0 à n-1\n",
    "        preferences = list(range(n))\n",
    "        # Mélanger la liste pour obtenir une liste aléatoire sans doublons\n",
    "        random.shuffle(preferences)\n",
    "        # Ajouter la liste mélangée dans le dictionnaire\n",
    "        dicoPref[i] = preferences\n",
    "\n",
    "    return dicoPref\n",
    "\n",
    "print(f\"Exemple de dico aléatoire : {dicoPrefGenerator(7)}\")\n"
   ]
  },
  {
   "cell_type": "markdown",
   "id": "30d1ffc4",
   "metadata": {},
   "source": [
    "> __Question 6 (compléxité moyenne)__ : Quelle est la complexité en pire cas ? Tracer la complexité en pratique sur des instances aléatoires de tailles différentes. De quelle complexité théorique se rapproche t'elle ? N'hésitez pas à rajouter un compteur d'opérations sur votre fonction `galeShapley`"
   ]
  },
  {
   "cell_type": "markdown",
   "id": "72f70133",
   "metadata": {},
   "source": [
    "Complexité théorique :\n",
    "- Dans le pire des cas, chaque étudiant peut proposer à toutes les formations avant d'être marié. Comme il y a $n$ étudiants et $n$ formations, un étudiant peut faire jusqu'à $n$ propositions.\n",
    "- La boucle principale de l'algorithme fonctionne tant qu'il y a des étudiants célibataires. Chaque étudiant propose à une formation, et une formation peut accepter ou rejeter une proposition en comparant les préférences.\n",
    "- Chaque étudiant propose au maximum une fois à chaque formation, ce qui entraîne une complexité temporelle de $O(n²)$, où $n$ est le nombre d'étudiants (ou de formations)."
   ]
  },
  {
   "cell_type": "code",
   "execution_count": 41,
   "id": "742972d2",
   "metadata": {},
   "outputs": [
    {
     "data": {
      "image/png": "[encoded data removed]",
      "text/plain": [
       "<Figure size 640x480 with 1 Axes>"
      ]
     },
     "metadata": {},
     "output_type": "display_data"
    }
   ],
   "source": [
    "def galeShapley(p1Pref, p2Pref):\n",
    "    \"\"\"\n",
    "    Renvoie un dictionnaire de mariages stables suivant l'algorithme de Gale-Shapley.\n",
    "    Comptabilise les opérations réalisées.\n",
    "    \n",
    "    :param dictionnaire p1Pref: le dictionnaire des préférences des individus de P1\n",
    "    :param dictionnaire p2Pref: le dictionnaire des préférences des individus de P2\n",
    "    :return: dictionnaire de mariages stables et nombre d'opérations réalisées\n",
    "    :rtype: dict, int\n",
    "    \"\"\"\n",
    "\n",
    "    operations = 0  # Compteur d'opérations\n",
    "    # Initialisation : tous les étudiants (P1) sont célibataires\n",
    "    single_p1 = list(p1Pref.keys())  # Liste des individus de P1 non encore mariés\n",
    "    marriage = {p1: -1 for p1 in p1Pref}  # Dictionnaire des mariages avec -1 pour les non mariés\n",
    "    engaged = {p2: -1 for p2 in p2Pref}  # Les formations (P2) sont également célibataires au départ\n",
    "    next_proposal = {p1: 0 for p1 in p1Pref}  # Garde une trace de la prochaine formation à proposer\n",
    "\n",
    "    while single_p1:  # Tant qu'il y a des étudiants non mariés\n",
    "        student = single_p1[0]  # Prendre un étudiant non marié\n",
    "        # Trouver la prochaine formation à qui l'étudiant va proposer\n",
    "        preferred_formation = p1Pref[student][next_proposal[student]]\n",
    "        next_proposal[student] += 1  # On met à jour la prochaine proposition à faire\n",
    "        operations += 1  # Compter la proposition\n",
    "        \n",
    "        # Si la formation est célibataire, elle accepte directement la proposition\n",
    "        if engaged[preferred_formation] == -1:\n",
    "            marriage[student] = preferred_formation\n",
    "            engaged[preferred_formation] = student\n",
    "            single_p1.pop(0)  # Cet étudiant est maintenant marié\n",
    "            operations += 1  # Compter l'appariement\n",
    "        else:\n",
    "            # Si la formation est déjà mariée, elle doit comparer les préférences\n",
    "            current_student = engaged[preferred_formation]\n",
    "            operations += 1  # Compter la comparaison\n",
    "\n",
    "            if p2Pref[preferred_formation].index(student) < p2Pref[preferred_formation].index(current_student):\n",
    "                # La formation préfère le nouvel étudiant\n",
    "                marriage[student] = preferred_formation\n",
    "                marriage[current_student] = -1  # L'ancien étudiant devient célibataire\n",
    "                single_p1[0] = current_student  # On remplace le célibataire actuel par l'ancien\n",
    "                engaged[preferred_formation] = student  # La formation est maintenant engagée avec le nouvel étudiant\n",
    "                operations += 2  # Compter l'appariement et le changement de célibataire\n",
    "\n",
    "    return marriage, operations\n",
    "\n",
    "# Étude de la complexité en pratique\n",
    "def complexity_study(max_n):\n",
    "    sizes = []\n",
    "    operations = []\n",
    "    \n",
    "    for n in range(2, max_n + 1):\n",
    "        p1Pref = dicoPrefGenerator(n)\n",
    "        p2Pref = dicoPrefGenerator(n)\n",
    "        _, ops = galeShapley(p1Pref, p2Pref)\n",
    "        sizes.append(n)\n",
    "        operations.append(ops)\n",
    "    \n",
    "    plt.plot(sizes, operations, label=\"Opérations en fonction de n\")\n",
    "    plt.xlabel(\"Taille n\")\n",
    "    plt.ylabel(\"Nombre d'opérations\")\n",
    "    plt.title(\"Complexité pratique de l'algorithme Gale-Shapley\")\n",
    "    plt.legend()\n",
    "    plt.show()\n",
    "\n",
    "# Tracer la complexité pour des valeurs allant jusqu'à 50\n",
    "complexity_study(50)\n"
   ]
  },
  {
   "cell_type": "markdown",
   "id": "cce318b3",
   "metadata": {},
   "source": [
    "On appelle \"regret\" de l'individu $i$ la position du partenaire après mariage dans la liste des préférence de $i$.\n",
    "Par exemple, si la liste de préférence de notre individu est <tt>[0, 3, 2, 1, 4]</tt> et qu'il est marié avec 3, son regret est de 1. Par contre, s'il est marié avec 4, son regret est de 4. \n",
    "Plus le regret de $i$ est faible, plus le mariage est réussi pour $i$. Evidemment, le regret du partenaire est également à prendre en compte pour connaitre la réussite (absolue) du mariage ! \n",
    "\n",
    "> __Question 7 (Regret)__ : Ecrire une fonction `regret(mariage, e, p1Pref, p2Pref, isP1)` qui donne le regret de <tt>e</tt> étant donné le <tt>mariage</tt> et les listes de préférence. Attention, <tt>e</tt> appartient à $P_1$ si <tt>isP1</tt> est à <tt>True</tt> et à $P_2$ sinon. "
   ]
  },
  {
   "cell_type": "code",
   "execution_count": 42,
   "id": "456bd111",
   "metadata": {},
   "outputs": [
    {
     "name": "stdout",
     "output_type": "stream",
     "text": [
      "regret : OK\n"
     ]
    }
   ],
   "source": [
    "def regret(mariage, e, p1Pref, p2Pref, isP1):\n",
    "    \"\"\"\n",
    "    Renvoie le regret de e étant donné le mariage et les listes de préférences.\n",
    "    \n",
    "    :param int e: indice d'un étudiant ou d'une formation\n",
    "    :param dict mariage: résultat d'un mariage\n",
    "    :param dict p1Pref: le dictionnaire des préférences des individus de P1\n",
    "    :param dict p2Pref: le dictionnaire des préférences des individus de P2\n",
    "    :param bool isP1: permet de connaitre la population d'appartenance de e\n",
    "    :return: regret (position du partenaire dans la liste des préférences)\n",
    "    :rtype: int\n",
    "    \"\"\"\n",
    "\n",
    "    if isP1:\n",
    "        # Si e appartient à P1, on récupère le partenaire (formation) du mariage\n",
    "        partenaire = mariage[e]\n",
    "\n",
    "        # Le regret est la position du partenaire dans la liste des préférences de e\n",
    "        return p1Pref[e].index(partenaire)\n",
    "    else:\n",
    "        # Si e appartient à P2, on cherche l'étudiant associé à cette formation\n",
    "        # On inverse le dictionnaire pour trouver le partenaire de la formation\n",
    "        partenaire = next(p for p, f in mariage.items() if f == e)\n",
    "\n",
    "        # Le regret est la position du partenaire dans la liste des préférences de la formation\n",
    "        return p2Pref[e].index(partenaire)\n",
    "\n",
    "try:\n",
    "    e1Pref = {0:[4, 1, 2, 0, 3], 1:[2, 3, 0, 1, 4], 2:[4, 0, 1, 2, 3], 3:[3, 1, 4, 0, 2], 4:[3, 4, 1, 2, 0]}\n",
    "    f1Pref = {1:[3, 4, 0, 2, 1], 2:[1, 3, 0, 4, 2], 3:[1, 4, 3, 2, 0], 0:[2, 1, 0, 3, 4], 4:[3, 1, 4, 2, 0]}\n",
    "    mariage =  {0: 0, 1: 2, 2: 4, 3: 1, 4: 3} #Mariage obtenu par galeShapley\n",
    "    assert regret(mariage,0,e1Pref, f1Pref, False ) == 2\n",
    "    assert regret(mariage,4,e1Pref, f1Pref, False ) == 3 #L'universite 4 est avec l'etudiant 2 donc regret de 3\n",
    "    assert regret(mariage,0,e1Pref, f1Pref, True ) == 3\n",
    "    assert regret(mariage,1,e1Pref, f1Pref, True ) == 0\n",
    "    print(\"regret : OK\")\n",
    "except:\n",
    "    print(\"regret : ERREUR\")\n",
    "    "
   ]
  },
  {
   "cell_type": "markdown",
   "id": "abfc978b",
   "metadata": {},
   "source": [
    "> __Question 8 (Regret, suite)__ : Ecrire une fonction `regrets(mariage, p1Pref, p2Pref)` qui renvoie une liste de deux dictionnaire : le première correspond au regrets des éléments de $P_1$ (étudiants) et le second aux regrets des éléments de $P_2$ (formations).\n",
    "Par exemple :  `[{0: 3, 1: 0, 2: 0, 3: 1, 4: 0}, {1: 0, 2: 0, 3: 1, 0: 2, 4: 3}]` signifie que l'étudiant 0 a un regret de 3, l'étudiant 1 un regret de 0 etc. Et idem pour les formations : La formation 1 un regret de 0 etc.\n"
   ]
  },
  {
   "cell_type": "code",
   "execution_count": 43,
   "id": "353480fb",
   "metadata": {},
   "outputs": [
    {
     "name": "stdout",
     "output_type": "stream",
     "text": [
      "regrets : OK\n"
     ]
    }
   ],
   "source": [
    "def regrets(mariage, p1Pref, p2Pref):\n",
    "    \"\"\"\n",
    "    Renvoie une liste des regrets des éléments de P1 et des regrets des éléments de P2.\n",
    "    \n",
    "    :param dict mariage: résultat d'un mariage\n",
    "    :param dict p1Pref: le dictionnaire des préférences des individus de P1\n",
    "    :param dict p2Pref: le dictionnaire des préférences des individus de P2\n",
    "    :return: liste de deux dictionnaires : le premier avec les regrets de P1 et le deuxième avec les regrets de P2\n",
    "    :rtype: list of dict\n",
    "    \"\"\"\n",
    "    \n",
    "    # Calculer les regrets pour les éléments de P1\n",
    "    regretsP1 = {}\n",
    "\n",
    "    for etudiant in p1Pref:\n",
    "        partenaire = mariage[etudiant]  # Le partenaire de l'étudiant\n",
    "\n",
    "        if partenaire not in p1Pref[etudiant]:\n",
    "            print(f\"Erreur : le partenaire {partenaire} de l'étudiant {etudiant} n'est pas dans ses préférences.\")\n",
    "\n",
    "        regret = p1Pref[etudiant].index(partenaire)  # La position du partenaire dans la liste des préférences\n",
    "        regretsP1[etudiant] = regret\n",
    "    \n",
    "    # Calculer les regrets pour les éléments de P2\n",
    "    regretsP2 = {}\n",
    "    for formation in p2Pref:\n",
    "        partenaire = next(etudiant for etudiant, form in mariage.items() if form == formation)  # Trouver le partenaire de la formation\n",
    "\n",
    "        if partenaire not in p2Pref[formation]:\n",
    "            print(f\"Erreur : l'étudiant {partenaire} de la formation {formation} n'est pas dans ses préférences.\")\n",
    "\n",
    "        regret = p2Pref[formation].index(partenaire)  # La position de l'étudiant dans la liste des préférences de la formation\n",
    "        regretsP2[formation] = regret\n",
    "    \n",
    "    return [regretsP1, regretsP2]\n",
    "\n",
    "try:\n",
    "    e1Pref = {0:[4, 1, 2, 0, 3], 1:[2, 3, 0, 1, 4], 2:[4, 0, 1, 2, 3], 3:[3, 1, 4, 0, 2], 4:[3, 4, 1, 2, 0]}\n",
    "    f1Pref = {1:[3, 4, 0, 2, 1], 2:[1, 3, 0, 4, 2], 3:[1, 4, 3, 2, 0], 0:[2, 1, 0, 3, 4], 4:[3, 1, 4, 2, 0]}\n",
    "    mariage =  {0: 0, 1: 2, 2: 4, 3: 1, 4: 3} #Mariage obtenu par galeShapley 2, 1, 2, 2],\n",
    "    assert regrets(mariage, e1Pref, f1Pref) == [{0: 3, 1: 0, 2: 0, 3: 1, 4: 0}, {1: 0, 2: 0, 3: 1, 0: 2, 4: 3}]\n",
    "    print(\"regrets : OK\")\n",
    "except:\n",
    "    print(\"regrets : ERREUR\")\n"
   ]
  },
  {
   "cell_type": "markdown",
   "id": "7932e13f",
   "metadata": {},
   "source": [
    "> __Question 9 (Indicateurs de regret)__ : Calculer les regrets sur plusieurs exemples, quels indicateurs vous semblent pertinents ? Comment évoluent les regrets avec la tailles des populations ? "
   ]
  },
  {
   "cell_type": "code",
   "execution_count": 44,
   "id": "f66cebc1",
   "metadata": {},
   "outputs": [
    {
     "data": {
      "image/png": "[encoded data removed]",
      "text/plain": [
       "<Figure size 640x480 with 1 Axes>"
      ]
     },
     "metadata": {},
     "output_type": "display_data"
    }
   ],
   "source": [
    "# Correction de l'algo de Gale-Shapley pour ajouter des vérifications (si le partenaire est bien dans les préférences)\n",
    "def galeShapley(p1Pref, p2Pref):\n",
    "    \"\"\"\n",
    "    Implémentation de l'algorithme de Gale-Shapley pour générer des mariages stables.\n",
    "    Les individus de P1 (étudiants) font des propositions aux individus de P2 (formations).\n",
    "    \n",
    "    :param dict p1Pref: Dictionnaire des préférences des individus de P1\n",
    "    :param dict p2Pref: Dictionnaire des préférences des individus de P2\n",
    "    :return: Dictionnaire des mariages (clé = étudiant de P1, valeur = formation de P2)\n",
    "    :rtype: dict\n",
    "    \"\"\"\n",
    "\n",
    "    # Liste des étudiants célibataires\n",
    "    single_p1 = list(p1Pref.keys())\n",
    "    # Initialisation des mariages (au début, tout le monde est célibataire)\n",
    "    marriage = {p1: -1 for p1 in p1Pref}  # Les étudiants de P1 sont non mariés au départ\n",
    "    engaged = {p2: -1 for p2 in p2Pref}   # Les formations de P2 sont non mariées\n",
    "    # Garder une trace du nombre de propositions faites par chaque étudiant\n",
    "    next_proposal = {p1: 0 for p1 in p1Pref}\n",
    "    \n",
    "    while single_p1:  # Tant qu'il y a des étudiants célibataires\n",
    "        student = single_p1[0]  # On prend le premier étudiant célibataire\n",
    "        # Trouver la formation à qui il va faire une proposition\n",
    "        preferred_formation = p1Pref[student][next_proposal[student]]\n",
    "        next_proposal[student] += 1  # Incrémenter l'index pour la prochaine proposition\n",
    "\n",
    "        # Si la formation est célibataire, elle accepte la proposition\n",
    "        if engaged[preferred_formation] == -1:\n",
    "            marriage[student] = preferred_formation\n",
    "            engaged[preferred_formation] = student\n",
    "            single_p1.pop(0)  # Cet étudiant est maintenant marié, on le retire des célibataires\n",
    "        else:\n",
    "            # Si la formation est déjà mariée, elle compare le nouvel étudiant avec son actuel partenaire\n",
    "            current_student = engaged[preferred_formation]\n",
    "            \n",
    "            # Si la formation préfère le nouvel étudiant à son actuel partenaire\n",
    "            if p2Pref[preferred_formation].index(student) < p2Pref[preferred_formation].index(current_student):\n",
    "                # La formation change de partenaire\n",
    "                marriage[student] = preferred_formation\n",
    "                marriage[current_student] = -1  # L'ancien partenaire devient célibataire\n",
    "                single_p1[0] = current_student  # L'ancien partenaire devient célibataire, on le réajoute\n",
    "                engaged[preferred_formation] = student  # La formation accepte le nouvel étudiant\n",
    "            else:\n",
    "                # Si la formation préfère rester avec son actuel partenaire, l'étudiant reste célibataire\n",
    "                pass\n",
    "    \n",
    "    return marriage\n",
    "\n",
    "# Fonction pour calculer les regrets (ajout de vérifications)\n",
    "def regrets(mariage, p1Pref, p2Pref):\n",
    "    regretsP1 = {}\n",
    "    regretsP2 = {}\n",
    "    \n",
    "    for etudiant in p1Pref:\n",
    "        partenaire = mariage[etudiant]\n",
    "\n",
    "        # Ajout d'une vérification : est-ce que le partenaire est bien dans la liste de préférences ?\n",
    "        if partenaire not in p1Pref[etudiant]:\n",
    "            print(f\"Erreur : le partenaire {partenaire} de l'étudiant {etudiant} n'est pas dans ses préférences.\")\n",
    "\n",
    "        regret = p1Pref[etudiant].index(partenaire)\n",
    "        regretsP1[etudiant] = regret\n",
    "    \n",
    "    for formation in p2Pref:\n",
    "        partenaire = next(etudiant for etudiant, form in mariage.items() if form == formation)\n",
    "\n",
    "        # Ajout d'une vérification : est-ce que l'étudiant est bien dans la liste de préférences de la formation ?\n",
    "        if partenaire not in p2Pref[formation]:\n",
    "            print(f\"Erreur : l'étudiant {partenaire} de la formation {formation} n'est pas dans ses préférences.\")\n",
    "\n",
    "        regret = p2Pref[formation].index(partenaire)\n",
    "        regretsP2[formation] = regret\n",
    "    \n",
    "    return [regretsP1, regretsP2]\n",
    "\n",
    "# Fonction pour calculer les indicateurs de regrets\n",
    "def calculate_indicators(n):\n",
    "    p1Pref = dicoPrefGenerator(n)\n",
    "    p2Pref = dicoPrefGenerator(n)\n",
    "    mariage = galeShapley(p1Pref, p2Pref)\n",
    "    rP1, rP2 = regrets(mariage, p1Pref, p2Pref)\n",
    "    # Calcul des indicateurs pour P1\n",
    "    avg_regret_p1 = sum(rP1.values()) / n\n",
    "    max_regret_p1 = max(rP1.values())\n",
    "    # Calcul des indicateurs pour P2\n",
    "    avg_regret_p2 = sum(rP2.values()) / n\n",
    "    max_regret_p2 = max(rP2.values())\n",
    "    # Somme des regrets\n",
    "    total_regret = sum(rP1.values()) + sum(rP2.values())\n",
    "    \n",
    "    return avg_regret_p1, max_regret_p1, avg_regret_p2, max_regret_p2, total_regret\n",
    "\n",
    "# Fonction pour tracer l'évolution des indicateurs en fonction de la taille de la population\n",
    "def study_regret_evolution(max_n):\n",
    "    sizes = []\n",
    "    avg_regrets_p1 = []\n",
    "    avg_regrets_p2 = []\n",
    "    max_regrets_p1 = []\n",
    "    max_regrets_p2 = []\n",
    "    total_regrets = []\n",
    "    \n",
    "    for n in range(2, max_n + 1):\n",
    "        avg_p1, max_p1, avg_p2, max_p2, total_r = calculate_indicators(n)\n",
    "        sizes.append(n)\n",
    "        avg_regrets_p1.append(avg_p1)\n",
    "        avg_regrets_p2.append(avg_p2)\n",
    "        max_regrets_p1.append(max_p1)\n",
    "        max_regrets_p2.append(max_p2)\n",
    "        total_regrets.append(total_r)\n",
    "    \n",
    "    plt.plot(sizes, avg_regrets_p1, label=\"Regret moyen P1\")\n",
    "    plt.plot(sizes, avg_regrets_p2, label=\"Regret moyen P2\")\n",
    "    plt.plot(sizes, max_regrets_p1, label=\"Regret max P1\")\n",
    "    plt.plot(sizes, max_regrets_p2, label=\"Regret max P2\")\n",
    "    plt.plot(sizes, total_regrets, label=\"Somme des regrets\")\n",
    "    plt.xlabel(\"Taille de la population\")\n",
    "    plt.ylabel(\"Regrets\")\n",
    "    plt.title(\"Évolution des regrets en fonction de la taille des populations\")\n",
    "    plt.legend()\n",
    "    plt.show()\n",
    "\n",
    "# Tracer l'évolution pour des tailles de population jusqu'à 50\n",
    "study_regret_evolution(50)\n"
   ]
  },
  {
   "cell_type": "markdown",
   "id": "a85ec18b",
   "metadata": {},
   "source": [
    "> __Question 10 (Conclusion)__ : Qu'en concluez vous ? "
   ]
  },
  {
   "cell_type": "markdown",
   "id": "33d777ab",
   "metadata": {},
   "source": [
    "En conclusion, à mesure que la taille des populations augmente :\n",
    "- Regret moyen : Il peut rester relativement stable si les préférences sont équilibrées, mais il peut aussi augmenter légèrement avec la taille des populations.\n",
    "- Regret maximum : Peut augmenter avec la taille des populations car, dans un grand groupe, il est plus probable qu'un individu se retrouve loin de son partenaire idéal.\n",
    "- Somme des regrets : Comme attendu, cette mesure augmente avec la taille des populations. Elle croît généralement de manière plus linéaire.  \n",
    "\n",
    "Dans l'ensemble, l'algorithme de Gale-Shapley garantit des mariages stables, mais il ne minimise pas nécessairement les regrets individuels."
   ]
  }
 ],
 "metadata": {
  "kernelspec": {
   "display_name": "Python 3 (ipykernel)",
   "language": "python",
   "name": "python3"
  },
  "language_info": {
   "codemirror_mode": {
    "name": "ipython",
    "version": 3
   },
   "file_extension": ".py",
   "mimetype": "text/x-python",
   "name": "python",
   "nbconvert_exporter": "python",
   "pygments_lexer": "ipython3",
   "version": "3.12.5"
  }
 },
 "nbformat": 4,
 "nbformat_minor": 5
}
