{
 "cells": [
  {
   "cell_type": "markdown",
   "metadata": {},
   "source": [
    "# <center>R5.A.11 - Méthodes d'optimisation <br> TP1a - Recuit Simulé<center>\n",
    "\n",
    "\n",
    "_Tom Ferragut, Thibault Godin_\n",
    "\n",
    "_IUT de Vannes, BUT Informatique_\n",
    "\n",
    "\n",
    "Ce TP est inspiré de l'article **Sudokus et algorithmes de recuit** écrit par _**Renaud Sirdey**_ dans le  magazine _Quadrature_ n°62\n",
    "\n",
    "\n",
    "R. Sirdey, « Sudokus et algorithmes de recuit »,\n",
    "Quadrature 62 (Oct.–Déc. 2006) 9–13"
   ]
  },
  {
   "cell_type": "markdown",
   "metadata": {},
   "source": [
    "### imports\n"
   ]
  },
  {
   "cell_type": "code",
   "execution_count": 1,
   "metadata": {},
   "outputs": [],
   "source": [
    "import numpy as np\n",
    "\n",
    "import random\n",
    "\n",
    "import math\n",
    "# Affichage graphique\n",
    "\n",
    "#%matplotlib notebook \n",
    "# enable interactivity of plots\n",
    "# attention a bien fermer les fenetres plt après chaque visualisalgèbreation\n",
    "\n",
    "%matplotlib inline\n",
    "\n",
    "\n",
    "import matplotlib.pyplot as plt\n",
    "\n",
    "import time\n",
    "\n",
    "from ipywidgets import interact\n",
    "import ipywidgets as widgets\n",
    "\n"
   ]
  },
  {
   "cell_type": "markdown",
   "metadata": {},
   "source": [
    "## Vocabulaire et intuition\n",
    "\n",
    "La méthode du recuit simulé (en anglais _simulated annealing_) a été proposée en informatique dans les années 80, par analogie avec une technique dite du recuit, utilisée en science de matériaux et en particulier en sidérurgie.\n",
    "\n",
    "Il s'agit d'un principe général de construction d'algorithmes pour résoudre des problèmes d'optimisation difficiles.\n",
    "\n",
    "Cette métaheuristique est assez bien comprise, d'un point de vue théorique, et permet la création d'algorithmes relativement simples. "
   ]
  },
  {
   "cell_type": "markdown",
   "metadata": {},
   "source": [
    "Soit un problème d'optimisation combinatoire où l'on a \n",
    "\n",
    "\n",
    "- un ensemble de configuration $\\Omega = \\{w_1,...,w_N\\}$\n",
    "\n",
    "- une fonction de coût (aussi appelée fonction d'energie) $c:\\Omega \\to \\mathbb{R}_+$\n",
    "\n",
    "- une fonction de voisinage $V:\\Omega \\to \\mathcal{P}(\\Omega)$\n",
    "\n",
    "\n",
    "\n",
    "La méthode du recuit simulé vise à trouver la configuration de coût (energie) minimal.\n"
   ]
  },
  {
   "cell_type": "markdown",
   "metadata": {},
   "source": [
    "La méthode est alors assez intuitive : \n",
    "\n",
    "Au départ on commence avec une configuration arbitraire. \n",
    "\n",
    "Soit $w$ la configuration courante. \n",
    "\n",
    "À chaque itération, une configuration candidate $w'$ est choisie uniformément dans le voisinage de la solution courante ; et acceptée avec une probabilité $\\min( 1, e^{-\\frac{c(w) -c(w')}{T}})$\n",
    "\n",
    "Le paramètre $T$ s’appelle la _température_ et tend vers $0$ (de manière\n",
    "monotone), selon une fonction appelée _loi de décroissance de la température_. La meilleure solution rencontrée durant l’exécution de l’algorithme est mémorisée et écrite lorsque la condition d’arrêt choisie est vérifiée."
   ]
  },
  {
   "cell_type": "markdown",
   "metadata": {},
   "source": [
    "## 1 - Optimisation de fonction 1D\n",
    "\n",
    "On va commencer par des exemples simples : des fonctions $f : \\: \\mathbb{R} \\to \\mathbb{R}$ (comme l'an dernier en R4.04), et pour débuter la fonction définie par $f(x) = x^2 -1$.\n",
    "\n",
    "Pour fonction de voisinage, on prendra comme transition la loi uniforme sur $[-0.5, 0,5]$ (ce choix est arbitraire mais malheureusement a un impact non négligeable sur la vitesse de convergence).\n",
    "\n",
    "Contrairement à la méthode de gradient de l'an dernier, la recherche n'est pas dirigée mais ressemble plus à une marche au hasard. \n",
    "\n",
    "Avantage : simplicité (pas de dérivée à calculer, moins de conditions)\n",
    "\n",
    "Inconvénient : on exploite pas du tout la structure locale de la fonction."
   ]
  },
  {
   "cell_type": "markdown",
   "metadata": {},
   "source": [
    "> __Question 1__ : Bien lire le code donné ci-dessous, le comprendre et le commenter"
   ]
  },
  {
   "cell_type": "code",
   "execution_count": 15,
   "metadata": {},
   "outputs": [
    {
     "name": "stdout",
     "output_type": "stream",
     "text": [
      "Minimum value found at x = 0.013798146142282475, f(x) = -0.9998096111630362\n"
     ]
    }
   ],
   "source": [
    "def f(x):\n",
    "    #fonction simple à tester\n",
    "    #minimum théorique f(0)=-1\n",
    "    return x**2 - 1\n",
    "\n",
    "def simulated_annealing(initial_x, max_iterations, initial_temperature, cooling_rate):\n",
    "    current_x = initial_x\n",
    "    current_energy = f(current_x)\n",
    "    temperature = initial_temperature\n",
    "\n",
    "    for iteration in range(max_iterations):\n",
    "        # Generate a neighboring solution\n",
    "        delta_x = random.uniform(-0.5, 0.5)\n",
    "        new_x = current_x + delta_x\n",
    "        new_energy = f(new_x)\n",
    "\n",
    "        # Calculate the change in energy\n",
    "        delta_energy = new_energy - current_energy\n",
    "\n",
    "        # Accept the new solution if it's better or with a certain probability\n",
    "        if delta_energy < 0 or random.random() < math.exp(-delta_energy / temperature):\n",
    "            current_x = new_x\n",
    "            current_energy = new_energy\n",
    "\n",
    "        # Cool down the temperature\n",
    "        temperature *= cooling_rate\n",
    "\n",
    "    return current_x, f(current_x)\n",
    "\n",
    "#initial_x = random.uniform(-10, 10)\n",
    "initial_x = math.pi\n",
    "max_iterations = 1000\n",
    "initial_temperature = 1.0\n",
    "cooling_rate = 0.99\n",
    "\n",
    "min_x, min_value = simulated_annealing(initial_x, max_iterations, initial_temperature, cooling_rate)\n",
    "\n",
    "print(f\"Minimum value found at x = {min_x}, f(x) = {min_value}\")\n"
   ]
  },
  {
   "cell_type": "markdown",
   "metadata": {},
   "source": [
    "Cette fonction marche plutôt bien, mais on n'a pas trop d'idée de ce qui s'est passé.\n",
    "On va donc la réécrire en conservant l'historique (et en ajoutant des widgets pour essayer de mieux comprendre ce qui se passe."
   ]
  },
  {
   "cell_type": "code",
   "execution_count": 16,
   "metadata": {},
   "outputs": [
    {
     "data": {
      "application/vnd.jupyter.widget-view+json": {
       "model_id": "38f3885eccd04a6988a0b0d92aa340d2",
       "version_major": 2,
       "version_minor": 0
      },
      "text/plain": [
       "interactive(children=(FloatSlider(value=1.0, description='Initial Temp.', max=10.0, min=0.01, step=0.01), Floa…"
      ]
     },
     "metadata": {},
     "output_type": "display_data"
    },
    {
     "data": {
      "text/plain": [
       "<function __main__.plot_simulated_annealing(initial_temperature, cooling_rate)>"
      ]
     },
     "execution_count": 16,
     "metadata": {},
     "output_type": "execute_result"
    }
   ],
   "source": [
    "def simulated_annealing(initial_x, max_iterations, initial_temperature, cooling_rate):\n",
    "    current_x = initial_x\n",
    "    current_energy = f(current_x)\n",
    "    temperature = initial_temperature\n",
    "\n",
    "    x_values = [current_x]\n",
    "    energy_values = [current_energy]\n",
    "\n",
    "    for iteration in range(max_iterations):\n",
    "        delta_x = random.uniform(-0.5, 0.5)\n",
    "        new_x = current_x + delta_x\n",
    "        new_energy = f(new_x)\n",
    "\n",
    "        delta_energy = new_energy - current_energy\n",
    "\n",
    "        if delta_energy < 0 or random.random() < math.exp(-delta_energy / temperature):\n",
    "            current_x = new_x\n",
    "            current_energy = new_energy\n",
    "\n",
    "        temperature *= cooling_rate\n",
    "\n",
    "        x_values.append(current_x)\n",
    "        energy_values.append(current_energy)\n",
    "\n",
    "    return x_values, energy_values\n",
    "\n",
    "def plot_simulated_annealing(initial_temperature, cooling_rate):\n",
    "    #initial_x = random.uniform(-10, 10)\n",
    "    initial_x = math.pi\n",
    "    #fixed for comparaisons    \n",
    "    max_iterations = 100\n",
    "    cmap = plt.get_cmap('viridis')\n",
    "\n",
    "    \n",
    "    \n",
    "    x_values, energy_values = simulated_annealing(initial_x, max_iterations, initial_temperature, cooling_rate)\n",
    "\n",
    "    \n",
    "    # Plot the function curve and the current state\n",
    "    x = np.arange(-15, 15,0.01)\n",
    "    y = [f(xi) for xi in x]\n",
    "\n",
    "    plt.figure(figsize=(12, 12))\n",
    "    plt.subplot(2, 1, 1)\n",
    "\n",
    "    plt.plot(x, y, label='Function Curve')\n",
    "    plt.scatter(x_values, [f(xi) for xi in x_values], c=range(len(x_values)), cmap=cmap, label='Current State', marker='o')\n",
    "    plt.title('Simulated Annealing Optimization')\n",
    "    plt.xlabel('x')\n",
    "    plt.ylabel('f(x)')\n",
    "    plt.legend()\n",
    "\n",
    "    \n",
    "    \n",
    "\n",
    "    plt.subplot(2, 1, 2)\n",
    "    plt.plot(energy_values, label='x')\n",
    "    plt.title('Energy')\n",
    "    plt.xlabel('Iteration')\n",
    "    plt.ylabel('x')\n",
    "\n",
    "    plt.tight_layout()\n",
    "    plt.show()\n",
    "\n",
    "interact(\n",
    "    plot_simulated_annealing,\n",
    "    initial_temperature=widgets.FloatSlider(min=0.01, max=10.0, step=0.01, value=1.0, description='Initial Temp.'),\n",
    "    cooling_rate=widgets.FloatSlider(min=0.90, max=0.9999, step=0.0001, value=0.99, description='Cooling Rate')\n",
    ")"
   ]
  },
  {
   "cell_type": "markdown",
   "metadata": {},
   "source": [
    "> __Question 2__ : Expliquez ce que change les paramètres `initial_temperature` et `cooling_rate` dans le comportement de l'algorithme.\n",
    "Tester l'algorithme fourni sur les différentes fonctions à optimiser proposées."
   ]
  },
  {
   "cell_type": "code",
   "execution_count": 18,
   "metadata": {},
   "outputs": [
    {
     "data": {
      "application/vnd.jupyter.widget-view+json": {
       "model_id": "cd4f3a9317ee47d9b9fb71742f204175",
       "version_major": 2,
       "version_minor": 0
      },
      "text/plain": [
       "interactive(children=(FloatSlider(value=1.0, description='Initial Temp.', max=5.0, min=0.01, step=0.01), Float…"
      ]
     },
     "metadata": {},
     "output_type": "display_data"
    },
    {
     "data": {
      "text/plain": [
       "<function __main__.plot_simulated_annealing(initial_temperature, cooling_rate)>"
      ]
     },
     "execution_count": 18,
     "metadata": {},
     "output_type": "execute_result"
    }
   ],
   "source": [
    "def f(x):\n",
    "    #return x**2 - 1\n",
    "    #https://machinelearningmastery.com/1d-test-functions-for-function-optimization/\n",
    "    #return -(x + math.sin(x)) * math.exp(-x**2.0)\n",
    "    return math.sin(x) + math.sin((10.0 / 3.0) * x)\n",
    "\n",
    "    \n",
    "\n",
    "interact(\n",
    "    plot_simulated_annealing,\n",
    "    initial_temperature=widgets.FloatSlider(min=0.01, max=5.0, step=0.01, value=1.0, description='Initial Temp.'),\n",
    "    cooling_rate=widgets.FloatSlider(min=0.90, max=0.9999, step=0.0001, value=0.99, description='Cooling Rate')\n",
    ")\n"
   ]
  },
  {
   "cell_type": "markdown",
   "metadata": {},
   "source": [
    "> __Question bonus__ : Comparer cette fonction avec les résultats obtenu par descente de gradient en BUT 2"
   ]
  },
  {
   "cell_type": "markdown",
   "metadata": {},
   "source": [
    "## 2 - Résolution d'un Sudoku\n",
    "\n",
    "Dans cette partie nous allons programmer un algorithme de résolution de sudoku en utilisant la méthode du recuit simulé. \n",
    "\n",
    "Les différents enjeux sont :\n",
    "- Adapter l'implémentation vu dans la partie 1 à un nouvel ensemble de configuration (les différents sudoku possibles). \n",
    "- Trouver une fonction de coût $c$ adéquat (aussi appelé énergie).\n",
    "\n",
    "En langage naturel cela donne:\n"
   ]
  },
  {
   "cell_type": "markdown",
   "metadata": {},
   "source": [
    "\n",
    "<div class= 'alert alert-block alert-info'>\n",
    "<tt>    \n",
    "  \n",
    "<b>\n",
    "Recuit simulé\n",
    "</b> \n",
    "\n",
    "    \n",
    "  \n",
    "Poser $\\delta = 0.1$, et $T = 810$\n",
    "\n",
    "<t>  \n",
    "Choisir $w$ arbitrairement, et faire $c = c(w)$\n",
    "    \n",
    ">Tant que $T \\geqslant 0.002$, faire    <br> \n",
    ">>Choisir $i$ et $j$ uniformément  <br> \n",
    ">>Créer une nouvelle configuration $w_{i,j}$ en assignant une nouvelle valeur aléatoire à la case $[i,j]$ <br> \n",
    ">>Faire $c' = c_{ij}(w_{i,j})$ <br> \n",
    ">>Choisir $u$ uniformément dans [0,1]  <br>     \n",
    "    \n",
    ">>Si $u \\leqslant e^{-\\frac{c'-c}{T}}$, alors <br> \n",
    ">>>faire $c = c'$ (acceptation) <br>  \n",
    "    \n",
    ">>Sinon  <br> \n",
    ">>>faire $w = w$ (rejet) <br> \n",
    "    \n",
    ">>Si $c = 0$, alors écrire $w$ et s'arrêter. <br> \n",
    ">>Faire $T = \\frac{T}{1+\\frac{log(1+\\delta)}{811}T}$ <br> \n",
    "    \n",
    ">Fin Tant que <br> \n",
    "</t>\n",
    "\n",
    "</tt>    \n",
    "\n",
    "\n",
    "</div>"
   ]
  },
  {
   "cell_type": "markdown",
   "metadata": {},
   "source": [
    "\n",
    "La première étape est d'être capable de vérifier si une certaine grille de sudoku est valide.\n",
    "\n",
    ">__Question 3__ : Définire une fonction `is_valid_sudoku` qui étant donné une grille `grid` sous forme de matrice renvoie `True` si la grille est complète et vérifie les différentes règles du sudoku, et renvoie `False` sinon.\n",
    "- Est ce qu'on demande aussi d'écrire la partie \"Check 3x3 subgrids\" ?"
   ]
  },
  {
   "cell_type": "code",
   "execution_count": 20,
   "metadata": {},
   "outputs": [],
   "source": [
    "def is_valid_sudoku(grid):\n",
    "    # Check rows\n",
    "    for row in grid:\n",
    "        if not is_valid_unit(row):\n",
    "            return False\n",
    "\n",
    "    # Check columns\n",
    "    for col in range(9):\n",
    "        column = [grid[row][col] for row in range(9)]\n",
    "        if not is_valid_unit(column):\n",
    "            return False\n",
    "\n",
    "    # Check 3x3 subgrids (boxes)\n",
    "    for i in range(0, 9, 3):\n",
    "        for j in range(0, 9, 3):\n",
    "            box = [grid[x][y] for x in range(i, i + 3) for y in range(j, j + 3)]\n",
    "            if not is_valid_unit(box):\n",
    "                return False\n",
    "\n",
    "    return True\n",
    "\n",
    "def is_valid_unit(unit):\n",
    "    unit = [num for num in unit if num != 0]\n",
    "    return len(unit) == len(set(unit))\n"
   ]
  },
  {
   "cell_type": "markdown",
   "metadata": {},
   "source": [
    "C'est le moment de choisir une fonction d'energie associée à votre méthode de recuit simulé."
   ]
  },
  {
   "cell_type": "markdown",
   "metadata": {},
   "source": [
    ">__Question 4__ : Définissez une fonction `energy` qui, étant donnée une grille de sudoku `state` sous forme de matrice, renvoie la valeur d'énergie (ou de coût) de cette grille. Nous voulons une énergie minimale (idéalement $0$) lorsque le sudoku est complètement résolu."
   ]
  },
  {
   "cell_type": "code",
   "execution_count": 21,
   "metadata": {},
   "outputs": [],
   "source": [
    "def print_sudoku(grid):\n",
    "    for row in grid:\n",
    "        print(' '.join(map(str, row)))\n",
    "\n",
    "def is_valid_move(grid, row, col, num):\n",
    "    # Check if 'num' is not already present in the current row and column\n",
    "    for i in range(9):\n",
    "        if grid[row][i] == num or grid[i][col] == num:\n",
    "            return False\n",
    "\n",
    "    # Check if 'num' is not already present in the 3x3 subgrid\n",
    "    start_row, start_col = 3 * (row // 3), 3 * (col // 3)\n",
    "    for i in range(3):\n",
    "        for j in range(3):\n",
    "            if grid[start_row + i][start_col + j] == num:\n",
    "                return False\n",
    "\n",
    "    return True\n",
    "\n",
    "def nb_occ(grid, row, col):\n",
    "    \n",
    "    num=grid[row][col]\n",
    "    count=0\n",
    "    if num ==0 :\n",
    "        return 0\n",
    "    else :\n",
    "        # Check if 'num' is not already present in the current row and column\n",
    "        for i in range(9):\n",
    "            if grid[row][i] == num and i!=col:\n",
    "                count = count + 1\n",
    "            if grid[i][col] == num and i!=row :\n",
    "                count = count + 1\n",
    "                \n",
    "        # Check if 'num' is not already present in the 3x3 subgrid\n",
    "        start_row, start_col = 3 * (row // 3), 3 * (col // 3)\n",
    "        for i in range(3):\n",
    "            for j in range(3):\n",
    "                if grid[start_row + i][start_col + j] == num and start_row + i != row  and start_col + j !=col:\n",
    "                    count = count + 1\n",
    "\n",
    "\n",
    "    return count\n",
    "\n",
    "\n",
    "\n",
    "def energy(state):\n",
    "    \n",
    "    e=0\n",
    "    for i in range(9) :\n",
    "        for j in range(9):\n",
    "                e=e+nb_occ(state,i,j)\n",
    "    \n",
    "    return e/2"
   ]
  },
  {
   "cell_type": "markdown",
   "metadata": {},
   "source": [
    ">__Question 5__ : Implémentez la fonction `simulated_annealing` correspondant à la méthode de recuit simulé. Étant donnée la grille de départ `grid`, et les différents paramètres `max_iterations`, `initial_temperature` ainsi que `cooling_rate`, la fonction renvoie la grille résolue de sudoku si elle a été obtenu en un nombre d'itérations plus petit que `max_iterations`."
   ]
  },
  {
   "cell_type": "code",
   "execution_count": 75,
   "metadata": {},
   "outputs": [
    {
     "name": "stdout",
     "output_type": "stream",
     "text": [
      "**failure :/ ** max iteration reached and energy is non-zero : energy=  7.0\n",
      "Solved Sudoku:\n",
      "8 6 5 1 3 9 4 2 7\n",
      "1 4 9 8 7 2 5 3 6\n",
      "3 2 7 4 5 6 1 9 8\n",
      "7 5 6 9 1 4 3 8 2\n",
      "4 1 8 6 2 3 7 5 9\n",
      "9 4 2 5 8 7 6 1 1\n",
      "7 8 4 2 6 5 9 1 3\n",
      "6 3 1 7 9 8 2 4 5\n",
      "2 9 5 3 4 1 8 7 6\n",
      "Is valid Sudoku: False\n"
     ]
    },
    {
     "data": {
      "image/png": "[encoded data removed]",
      "text/plain": [
       "<Figure size 432x288 with 1 Axes>"
      ]
     },
     "metadata": {
      "needs_background": "light"
     },
     "output_type": "display_data"
    },
    {
     "name": "stdout",
     "output_type": "stream",
     "text": [
      "[[0 0 0 1 0 9 4 2 7]\n",
      " [1 0 9 8 0 0 0 0 6]\n",
      " [0 0 7 0 5 0 1 0 8]\n",
      " [0 5 6 0 0 0 0 8 2]\n",
      " [0 0 0 0 2 0 0 0 0]\n",
      " [9 4 0 0 0 0 6 1 0]\n",
      " [7 0 4 0 6 0 9 0 0]\n",
      " [6 0 0 0 0 8 2 0 5]\n",
      " [2 9 5 3 0 1 0 0 0]]\n",
      "[[-8 -6 -5  0 -3  0  0  0  0]\n",
      " [ 0 -4  0  0 -7 -2 -5 -3  0]\n",
      " [-3 -2  0 -4  0 -6  0 -9  0]\n",
      " [-7  0  0 -9 -1 -4 -3  0  0]\n",
      " [-4 -1 -8 -6  0 -3 -7 -5 -9]\n",
      " [ 0  0 -2 -5 -8 -7  0  0 -1]\n",
      " [ 0 -8  0 -2  0 -5  0 -1 -3]\n",
      " [ 0 -3 -1 -7 -9  0  0 -4  0]\n",
      " [ 0  0  0  0 -4  0 -8 -7 -6]]\n",
      "7.0\n"
     ]
    }
   ],
   "source": [
    "def get_initial_state(grid):\n",
    "    initial_state = [row[:] for row in grid]\n",
    "    modifiable=[]\n",
    "    for row in range(9):\n",
    "        for col in range(9):\n",
    "            if grid[row][col] == 0:\n",
    "                initial_state[row][col] = random.randint(1, 9)\n",
    "                modifiable.append([row,col])\n",
    "    return initial_state,modifiable\n",
    "\n",
    "def simulated_annealing(grid, max_iterations, initial_temperature, cooling_rate):\n",
    "    current_state,modifiable = get_initial_state(grid)\n",
    "    current_energy = energy(current_state)\n",
    "    temperature = initial_temperature\n",
    "\n",
    "    energy_history = []  # To store energy at each iteration\n",
    "    i=0\n",
    "    \n",
    "    while current_energy > .00002 and i <max_iterations:\n",
    "        \n",
    "        i=i+1\n",
    "        new_state = [row[:] for row in current_state]\n",
    "        row, col= random.choice(modifiable)\n",
    "        #row, col = random.randint(0, 8), random.randint(0, 8)\n",
    "        new_num = random.randint(1, 9)\n",
    "        \n",
    "        new_state[row][col] = new_num\n",
    "        new_energy = energy(new_state)\n",
    "\n",
    "        #print_sudoku(new_state)\n",
    "        #print(new_energy,\"\\n\\n\")\n",
    "        delta_energy = new_energy - current_energy\n",
    "        if delta_energy <= 0 or random.random() < math.exp(-delta_energy / temperature):\n",
    "            current_state = new_state\n",
    "            current_energy = new_energy\n",
    "\n",
    "        temperature *= cooling_rate\n",
    "\n",
    "        energy_history.append(current_energy)\n",
    "    if i<max_iterations :\n",
    "        print(\"low energy!\")\n",
    "        if current_energy<10**-7:\n",
    "            print(\"**success !** Grid solved in \",i ,\" iterations\\n\\n\")\n",
    "        else : \n",
    "            print(\"**yet failure :/ ** energy is non-zero: energy= \",current_energy)\n",
    "    else:\n",
    "        print(\"**failure :/ ** max iteration reached and energy is non-zero : energy= \",current_energy)\n",
    "    return current_state, energy_history\n",
    "\n",
    "\n",
    "\"\"\"\n",
    "sudoku_grid = [\n",
    "    [5, 3, 0, 0, 7, 0, 0, 0, 0],\n",
    "    [6, 0, 0, 1, 9, 5, 0, 0, 0],\n",
    "    [0, 9, 8, 0, 0, 0, 0, 6, 0],\n",
    "    [8, 0, 0, 0, 6, 0, 0, 0, 3],\n",
    "    [4, 0, 0, 8, 0, 3, 0, 0, 1],\n",
    "    [7, 0, 0, 0, 2, 0, 0, 0, 6],\n",
    "    [0, 6, 0, 0, 0, 0, 2, 8, 0],\n",
    "    [0, 0, 0, 4, 1, 9, 0, 0, 5],\n",
    "    [0, 0, 0, 0, 8, 0, 0, 7, 9]\n",
    "]\n",
    "\"\"\"\n",
    "sudoku_grid = [[0, 0, 0, 1, 0, 9, 4, 2, 7],\n",
    "        [1, 0, 9, 8, 0, 0, 0, 0, 6],\n",
    "        [0, 0, 7, 0, 5, 0, 1, 0, 8],\n",
    "        [0, 5, 6, 0, 0, 0, 0, 8, 2],\n",
    "        [0, 0, 0, 0, 2, 0, 0, 0, 0],\n",
    "        [9, 4, 0, 0, 0, 0, 6, 1, 0],\n",
    "        [7, 0, 4, 0, 6, 0, 9, 0, 0],\n",
    "        [6, 0, 0, 0, 0, 8, 2, 0, 5],\n",
    "        [2, 9, 5, 3, 0, 1, 0, 0, 0]]\n",
    "\n",
    "max_iterations = 100000\n",
    "initial_temperature = 810\n",
    "cooling_rate = 0.99\n",
    "\n",
    "solved_sudoku, energy_history = simulated_annealing(sudoku_grid, max_iterations, initial_temperature, cooling_rate)\n",
    "\n",
    "print(\"Solved Sudoku:\")\n",
    "print_sudoku(solved_sudoku)\n",
    "print(\"Is valid Sudoku:\",is_valid_sudoku(solved_sudoku))\n",
    "\n",
    "# Plot the energy history\n",
    "plt.plot(range(len(energy_history)), energy_history)\n",
    "plt.xlabel('Iteration')\n",
    "plt.ylabel('Energy (Number of Empty Cells)')\n",
    "plt.title('Energy (Empty Cells) vs. Iteration')\n",
    "plt.show()\n",
    "\n",
    "print(np.asarray(sudoku_grid))\n",
    "    \n",
    "print(np.asarray(sudoku_grid)-np.asarray(solved_sudoku))\n",
    "\n",
    "print(energy(solved_sudoku))"
   ]
  },
  {
   "cell_type": "code",
   "execution_count": 40,
   "metadata": {},
   "outputs": [],
   "source": [
    "easy = [[0, 0, 0, 1, 0, 9, 4, 2, 7],\n",
    "        [1, 0, 9, 8, 0, 0, 0, 0, 6],\n",
    "        [0, 0, 7, 0, 5, 0, 1, 0, 8],\n",
    "        [0, 5, 6, 0, 0, 0, 0, 8, 2],\n",
    "        [0, 0, 0, 0, 2, 0, 0, 0, 0],\n",
    "        [9, 4, 0, 0, 0, 0, 6, 1, 0],\n",
    "        [7, 0, 4, 0, 6, 0, 9, 0, 0],\n",
    "        [6, 0, 0, 0, 0, 8, 2, 0, 5],\n",
    "        [2, 9, 5, 3, 0, 1, 0, 0, 0]]\n",
    "\n",
    "medium = [[5, 8, 0, 0, 0, 1, 0, 0, 0],\n",
    "        [0, 3, 0, 0, 6, 0, 0, 7, 0],\n",
    "        [9, 0, 0, 3, 2, 0, 1, 0, 6],\n",
    "        [0, 0, 0, 0, 0, 0, 0, 5, 0],\n",
    "        [3, 0, 9, 0, 0, 0, 2, 0, 1],\n",
    "        [0, 5, 0, 0, 0, 0, 0, 0, 0],\n",
    "        [6, 0, 2, 0, 5, 7, 0, 0, 8],\n",
    "        [0, 4, 0, 0, 8, 0, 0, 1, 0],\n",
    "        [0, 0, 0, 1, 0, 0, 0, 6, 5]]\n",
    "\n",
    "evil = [[0, 2, 0, 0, 0, 0, 0, 0, 0],\n",
    "        [0, 0, 0, 6, 0, 0, 0, 0, 3],\n",
    "        [0, 7, 4, 0, 8, 0, 0, 0, 0],\n",
    "        [0, 0, 0, 0, 0, 3, 0, 0, 2],\n",
    "        [0, 8, 0, 0, 4, 0, 0, 1, 0],\n",
    "        [6, 0, 0, 5, 0, 0, 0, 0, 0],\n",
    "        [0, 0, 0, 0, 1, 0, 7, 8, 0],\n",
    "        [5, 0, 0, 0, 0, 9, 0, 0, 0],\n",
    "        [0, 0, 0, 0, 0, 0, 0, 4, 0]]\n",
    "\n",
    "hard = [[0, 2, 0, 0, 0, 0, 0, 3, 0],\n",
    "        [0, 0, 0, 6, 0, 1, 0, 0, 0],\n",
    "        [0, 6, 8, 2, 0, 0, 0, 0, 5],\n",
    "        [0, 0, 9, 0, 0, 8, 3, 0, 0],\n",
    "        [0, 4, 6, 0, 0, 0, 7, 5, 0],\n",
    "        [0, 0, 1, 3, 0, 0, 4, 0, 0],\n",
    "        [9, 0, 0, 0, 0, 7, 5, 1, 0],\n",
    "        [0, 0, 0, 1, 0, 4, 0, 0, 0],\n",
    "        [0, 1, 0, 0, 0, 0, 0, 9, 0]]"
   ]
  },
  {
   "cell_type": "markdown",
   "metadata": {},
   "source": [
    "__Question 6__  Vérifier si la solution contient les chiffres de départ du sudoku. Corriger votre code si ce n'est pas le cas"
   ]
  },
  {
   "cell_type": "markdown",
   "metadata": {},
   "source": [
    "__Question 7__  Implémenter la version (plus complexe) de l'article **Sudokus et algorithmes de recuit** écrit par _**Renaud Sirdey** (sur le moodle)"
   ]
  },
  {
   "cell_type": "code",
   "execution_count": 80,
   "metadata": {},
   "outputs": [
    {
     "name": "stdout",
     "output_type": "stream",
     "text": [
      "low energy!\n",
      "**success !** Grid solved in  20579  iterations\n",
      "\n",
      "\n",
      "Solved Sudoku:\n",
      "5 6 8 1 3 9 4 2 7\n",
      "1 2 9 8 4 7 3 5 6\n",
      "4 3 7 2 5 6 1 9 8\n",
      "3 5 6 9 1 4 7 8 2\n",
      "8 7 1 6 2 3 5 4 9\n",
      "9 4 2 7 8 5 6 1 3\n",
      "7 8 4 5 6 2 9 3 1\n",
      "6 1 3 4 9 8 2 7 5\n",
      "2 9 5 3 7 1 8 6 4\n",
      "Is valid Sudoku: True\n"
     ]
    },
    {
     "data": {
      "image/png": "[encoded data removed]",
      "text/plain": [
       "<Figure size 432x288 with 1 Axes>"
      ]
     },
     "metadata": {
      "needs_background": "light"
     },
     "output_type": "display_data"
    },
    {
     "name": "stdout",
     "output_type": "stream",
     "text": [
      "[[0 0 0 1 0 9 4 2 7]\n",
      " [1 0 9 8 0 0 0 0 6]\n",
      " [0 0 7 0 5 0 1 0 8]\n",
      " [0 5 6 0 0 0 0 8 2]\n",
      " [0 0 0 0 2 0 0 0 0]\n",
      " [9 4 0 0 0 0 6 1 0]\n",
      " [7 0 4 0 6 0 9 0 0]\n",
      " [6 0 0 0 0 8 2 0 5]\n",
      " [2 9 5 3 0 1 0 0 0]]\n",
      "[[-5 -6 -8  0 -3  0  0  0  0]\n",
      " [ 0 -2  0  0 -4 -7 -3 -5  0]\n",
      " [-4 -3  0 -2  0 -6  0 -9  0]\n",
      " [-3  0  0 -9 -1 -4 -7  0  0]\n",
      " [-8 -7 -1 -6  0 -3 -5 -4 -9]\n",
      " [ 0  0 -2 -7 -8 -5  0  0 -3]\n",
      " [ 0 -8  0 -5  0 -2  0 -3 -1]\n",
      " [ 0 -1 -3 -4 -9  0  0 -7  0]\n",
      " [ 0  0  0  0 -7  0 -8 -6 -4]]\n",
      "0.0\n"
     ]
    }
   ],
   "source": [
    "def simulated_annealing_RS(grid, max_iterations, initial_temperature, cooling_rate):\n",
    "    current_state,modifiable = get_initial_state(grid)\n",
    "    current_energy = energy(current_state)\n",
    "    temperature = initial_temperature\n",
    "\n",
    "    energy_history = []  # To store energy at each iteration\n",
    "    i=0\n",
    "    \n",
    "    while current_energy > .00002 and i <max_iterations:\n",
    "        \n",
    "        i=i+1\n",
    "        for k in range(80):\n",
    "            new_state = [row[:] for row in current_state]\n",
    "            row, col= random.choice(modifiable)\n",
    "            #row, col = random.randint(0, 8), random.randint(0, 8)\n",
    "            new_num = random.randint(1, 9)\n",
    "\n",
    "            new_state[row][col] = new_num\n",
    "            new_state = [row[:] for row in current_state]\n",
    "            row, col= random.choice(modifiable)\n",
    "            #row, col = random.randint(0, 8), random.randint(0, 8)\n",
    "            new_num = random.randint(1, 9)\n",
    "\n",
    "            new_state[row][col] = new_num\n",
    "            old_energij = nb_occ(current_state,row,col)\n",
    "            new_energij = nb_occ(new_state,row,col)\n",
    "\n",
    "            #print_sudoku(new_state)\n",
    "            #print(new_energy,\"\\n\\n\")\n",
    "            delta_energy = new_energij-old_energij            \n",
    " \n",
    "            if delta_energy <= 0 or random.random() < math.exp(-delta_energy / temperature):\n",
    "                current_state = new_state\n",
    "                current_energy = energy(current_state)\n",
    "\n",
    "        temperature = temperature/(1+(np.log(2-cooling_rate)/811)*temperature)\n",
    "\n",
    "        energy_history.append(current_energy)\n",
    "    if i<max_iterations :\n",
    "        print(\"low energy!\")\n",
    "        if current_energy<10**-7:\n",
    "            print(\"**success !** Grid solved in \",i ,\" iterations\\n\\n\")\n",
    "        else : \n",
    "            print(\"**yet failure :/ ** energy is non-zero: energy= \",current_energy)\n",
    "    else:\n",
    "        print(\"**failure :/ ** max iteration reached and energy is non-zero : energy= \",current_energy)\n",
    "    return current_state, energy_history\n",
    "\n",
    "\n",
    "max_iterations = 100000\n",
    "\n",
    "initial_temperature = 810\n",
    "cooling_rate = 0.9\n",
    "\n",
    "solved_sudoku, energy_history = simulated_annealing_RS(sudoku_grid, max_iterations, initial_temperature, cooling_rate)\n",
    "\n",
    "print(\"Solved Sudoku:\")\n",
    "print_sudoku(solved_sudoku)\n",
    "print(\"Is valid Sudoku:\",is_valid_sudoku(solved_sudoku))\n",
    "\n",
    "# Plot the energy history\n",
    "plt.plot(range(len(energy_history)), energy_history)\n",
    "plt.xlabel('Iteration')\n",
    "plt.ylabel('Energy (Number of Empty Cells)')\n",
    "plt.title('Energy (Empty Cells) vs. Iteration')\n",
    "plt.show()\n",
    "\n",
    "print(np.asarray(sudoku_grid))\n",
    "    \n",
    "print(np.asarray(sudoku_grid)-np.asarray(solved_sudoku))\n",
    "\n",
    "print(energy(solved_sudoku))"
   ]
  },
  {
   "cell_type": "code",
   "execution_count": null,
   "metadata": {},
   "outputs": [],
   "source": []
  },
  {
   "cell_type": "markdown",
   "metadata": {},
   "source": [
    "__Question 8__ (bonus) : Comparez la convergence de cette méthode pour différentes fonctions d'énergie."
   ]
  },
  {
   "cell_type": "code",
   "execution_count": null,
   "metadata": {},
   "outputs": [],
   "source": []
  },
  {
   "cell_type": "markdown",
   "metadata": {},
   "source": [
    "### À venir : \n",
    "TP1b : voyageur de commerce\n",
    "\n",
    "### Extensions possibles:\n",
    "\n",
    "\n",
    "\n",
    "https://math.stackexchange.com/questions/2096176/are-there-3-disjoint-copies-of-2k-3-3-cup-k-5-5-setminus-c-10-in\n",
    "\n"
   ]
  },
  {
   "cell_type": "code",
   "execution_count": null,
   "metadata": {},
   "outputs": [],
   "source": []
  }
 ],
 "metadata": {
  "kernelspec": {
   "display_name": "Python 3",
   "language": "python",
   "name": "python3"
  },
  "language_info": {
   "codemirror_mode": {
    "name": "ipython",
    "version": 3
   },
   "file_extension": ".py",
   "mimetype": "text/x-python",
   "name": "python",
   "nbconvert_exporter": "python",
   "pygments_lexer": "ipython3",
   "version": "3.8.10"
  }
 },
 "nbformat": 4,
 "nbformat_minor": 4
}
