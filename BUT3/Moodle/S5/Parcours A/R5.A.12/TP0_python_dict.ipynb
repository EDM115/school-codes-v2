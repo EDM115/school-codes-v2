{
 "cells": [
  {
   "cell_type": "markdown",
   "metadata": {
    "id": "Us-mfjz3blCS"
   },
   "source": [
    "# Guide de survie Python \n",
    "\n",
    "**Manipulation des dictionnaires**\n",
    "\n",
    "\n",
    "Le but de ce notebook est d'avoir un crash-course sur les utilisations basiques des dictionnaires python\n",
    "\n",
    "\n",
    "\n",
    "------"
   ]
  },
  {
   "cell_type": "markdown",
   "metadata": {},
   "source": [
    "### Déclaration\n",
    "\n",
    "La manière usuelle de déclarer un dictionaire est la suivante :"
   ]
  },
  {
   "cell_type": "code",
   "execution_count": 46,
   "metadata": {},
   "outputs": [
    {
     "name": "stdout",
     "output_type": "stream",
     "text": [
      "{'R5.A.11': 'Optimisation', 'R5.A.12': 'Modélisation', 'R5.A.25': None}\n"
     ]
    }
   ],
   "source": [
    "dict_ressource = {\"R5.A.11\" : \"Optimisation\", \"R5.A.12\" : \"Modélisation\", \"R5.A.25\" : None}\n",
    "print(dict_ressource)\n"
   ]
  },
  {
   "cell_type": "markdown",
   "metadata": {},
   "source": [
    "_attention au comportement en cas de déclaration multiple_"
   ]
  },
  {
   "cell_type": "code",
   "execution_count": 45,
   "metadata": {},
   "outputs": [
    {
     "name": "stdout",
     "output_type": "stream",
     "text": [
      "what's happening? :  {'R5.A.11': 'Modélisation', 'R5.A.25': None}\n"
     ]
    }
   ],
   "source": [
    "dict_ressource_bis = {\"R5.A.11\" : \"Optimisation\", \"R5.A.11\" : \"Modélisation\", \"R5.A.25\" : None}\n",
    "print(\"what's happening? : \",dict_ressource_bis)\n",
    "\n"
   ]
  },
  {
   "cell_type": "markdown",
   "metadata": {},
   "source": [
    "Attention, on peut faire des choses assez bizarre, python n'est pas (assez ?) contraignant, cela peut jouer des tours si l'on n'y prend pas garde"
   ]
  },
  {
   "cell_type": "code",
   "execution_count": 38,
   "metadata": {},
   "outputs": [
    {
     "name": "stdout",
     "output_type": "stream",
     "text": [
      "{'R5.A.11': ('Optimisation', 'Godin'), 'R5.A.12': ['Modélisation', 'Naert']}\n"
     ]
    }
   ],
   "source": [
    "dict_ressource_resp = {\"R5.A.11\" : (\"Optimisation\",\"Godin\"), \"R5.A.12\" : [\"Modélisation\",\"Naert\"]}\n",
    "print(dict_ressource_resp)"
   ]
  },
  {
   "cell_type": "markdown",
   "metadata": {},
   "source": [
    "Une méthode pratique pour définir des dictionnaires à partir de list déjà définies est `zip` (qui a d'ailleurs de nombreux usages dans une utilisation un peu pointue de python)"
   ]
  },
  {
   "cell_type": "code",
   "execution_count": 40,
   "metadata": {},
   "outputs": [
    {
     "data": {
      "text/plain": [
       "True"
      ]
     },
     "execution_count": 40,
     "metadata": {},
     "output_type": "execute_result"
    }
   ],
   "source": [
    "code = [\"R5.A.11\",\"R5.A.12\",\"R5.A.25\"]\n",
    "intitule = [\"Optimisation\",\"Modélisation\",None]\n",
    "dict_ressource2 = dict(zip(code,intitule))\n",
    "\n",
    "dict_ressource==dict_ressource2"
   ]
  },
  {
   "cell_type": "markdown",
   "metadata": {},
   "source": [
    "-----\n",
    "\n",
    "### clefs et valeurs\n",
    "\n",
    "\n",
    "Pour acceder à une valeur, on fait (presque) comme avec une list : "
   ]
  },
  {
   "cell_type": "code",
   "execution_count": 47,
   "metadata": {},
   "outputs": [
    {
     "data": {
      "text/plain": [
       "'Optimisation'"
      ]
     },
     "execution_count": 47,
     "metadata": {},
     "output_type": "execute_result"
    }
   ],
   "source": [
    "dict_ressource[\"R5.A.11\"]"
   ]
  },
  {
   "cell_type": "markdown",
   "metadata": {},
   "source": [
    "... en gardant en tête que nos \"indices\" ne sont pas forcément des entiers"
   ]
  },
  {
   "cell_type": "code",
   "execution_count": 50,
   "metadata": {},
   "outputs": [
    {
     "ename": "KeyError",
     "evalue": "0",
     "output_type": "error",
     "traceback": [
      "\u001b[0;31m---------------------------------------------------------------------------\u001b[0m",
      "\u001b[0;31mKeyError\u001b[0m                                  Traceback (most recent call last)",
      "\u001b[0;32m<ipython-input-50-34e218bdf440>\u001b[0m in \u001b[0;36m<module>\u001b[0;34m\u001b[0m\n\u001b[0;32m----> 1\u001b[0;31m \u001b[0mdict_ressource\u001b[0m\u001b[0;34m[\u001b[0m\u001b[0;36m0\u001b[0m\u001b[0;34m]\u001b[0m\u001b[0;34m\u001b[0m\u001b[0;34m\u001b[0m\u001b[0m\n\u001b[0m",
      "\u001b[0;31mKeyError\u001b[0m: 0"
     ]
    }
   ],
   "source": [
    "dict_ressource[0]"
   ]
  },
  {
   "cell_type": "markdown",
   "metadata": {},
   "source": [
    "Pour savoir si une clef est présente dans le dictionnaire, on utilise `in` _has_key est déprécié et n'existe plus en python 3.x_"
   ]
  },
  {
   "cell_type": "code",
   "execution_count": 51,
   "metadata": {},
   "outputs": [
    {
     "name": "stdout",
     "output_type": "stream",
     "text": [
      "True\n",
      "False\n"
     ]
    }
   ],
   "source": [
    "print(\"R5.A.11\" in dict_ressource)\n",
    "\n",
    "print(\"Optimisation\" in dict_ressource)"
   ]
  },
  {
   "cell_type": "markdown",
   "metadata": {},
   "source": [
    "Passage des clefs en list :"
   ]
  },
  {
   "cell_type": "code",
   "execution_count": 52,
   "metadata": {},
   "outputs": [
    {
     "name": "stdout",
     "output_type": "stream",
     "text": [
      "<class 'dict_keys'>\n",
      "<class 'list'>\n"
     ]
    }
   ],
   "source": [
    "print(type(dict_ressource.keys()))\n",
    "\n",
    "print(type(list(dict_ressource.keys())))\n"
   ]
  },
  {
   "cell_type": "markdown",
   "metadata": {},
   "source": [
    "Passage des valeurs en list :"
   ]
  },
  {
   "cell_type": "code",
   "execution_count": 53,
   "metadata": {},
   "outputs": [
    {
     "name": "stdout",
     "output_type": "stream",
     "text": [
      "<class 'dict_values'>\n",
      "<class 'list'>\n"
     ]
    }
   ],
   "source": [
    "print(type(dict_ressource.values()))\n",
    "\n",
    "print(type(list(dict_ressource.values())))"
   ]
  },
  {
   "cell_type": "markdown",
   "metadata": {},
   "source": [
    "Recherche de la clef associée à une valeur\n",
    "\n",
    "_remarque : le passage en list de keys et value est garanti d'être cohérent, pas de problème de ce côté._"
   ]
  },
  {
   "cell_type": "code",
   "execution_count": 54,
   "metadata": {},
   "outputs": [
    {
     "data": {
      "text/plain": [
       "'R5.A.11'"
      ]
     },
     "execution_count": 54,
     "metadata": {},
     "output_type": "execute_result"
    }
   ],
   "source": [
    "list(dict_ressource.keys())[list(dict_ressource.values()).index(\"Optimisation\")]"
   ]
  },
  {
   "cell_type": "markdown",
   "metadata": {},
   "source": [
    "Attention à bien vérifier si on n'est pas en train de chercher une valeur qui n'existe pas ! "
   ]
  },
  {
   "cell_type": "code",
   "execution_count": 55,
   "metadata": {},
   "outputs": [
    {
     "ename": "ValueError",
     "evalue": "'Pas là' is not in list",
     "output_type": "error",
     "traceback": [
      "\u001b[0;31m---------------------------------------------------------------------------\u001b[0m",
      "\u001b[0;31mValueError\u001b[0m                                Traceback (most recent call last)",
      "\u001b[0;32m<ipython-input-55-e01b6c1579ad>\u001b[0m in \u001b[0;36m<module>\u001b[0;34m\u001b[0m\n\u001b[0;32m----> 1\u001b[0;31m \u001b[0mlist\u001b[0m\u001b[0;34m(\u001b[0m\u001b[0mdict_ressource\u001b[0m\u001b[0;34m.\u001b[0m\u001b[0mkeys\u001b[0m\u001b[0;34m(\u001b[0m\u001b[0;34m)\u001b[0m\u001b[0;34m)\u001b[0m\u001b[0;34m[\u001b[0m\u001b[0mlist\u001b[0m\u001b[0;34m(\u001b[0m\u001b[0mdict_ressource\u001b[0m\u001b[0;34m.\u001b[0m\u001b[0mvalues\u001b[0m\u001b[0;34m(\u001b[0m\u001b[0;34m)\u001b[0m\u001b[0;34m)\u001b[0m\u001b[0;34m.\u001b[0m\u001b[0mindex\u001b[0m\u001b[0;34m(\u001b[0m\u001b[0;34m\"Pas là\"\u001b[0m\u001b[0;34m)\u001b[0m\u001b[0;34m]\u001b[0m\u001b[0;34m\u001b[0m\u001b[0;34m\u001b[0m\u001b[0m\n\u001b[0m",
      "\u001b[0;31mValueError\u001b[0m: 'Pas là' is not in list"
     ]
    }
   ],
   "source": [
    "list(dict_ressource.keys())[list(dict_ressource.values()).index(\"Pas là\")]"
   ]
  },
  {
   "cell_type": "code",
   "execution_count": 56,
   "metadata": {},
   "outputs": [
    {
     "name": "stdout",
     "output_type": "stream",
     "text": [
      "{'R5.A.11': 'Optimisation', 'R5.A.12': 'Modélisation'}\n"
     ]
    }
   ],
   "source": [
    "del dict_ressource[\"R5.A.25\"]\n",
    "\n",
    "print(dict_ressource)"
   ]
  },
  {
   "cell_type": "markdown",
   "metadata": {},
   "source": [
    "______\n",
    "\n",
    "### Boucle"
   ]
  },
  {
   "cell_type": "code",
   "execution_count": 57,
   "metadata": {},
   "outputs": [
    {
     "name": "stdout",
     "output_type": "stream",
     "text": [
      "R5.A.11 Optimisation\n",
      "R5.A.12 Modélisation\n"
     ]
    }
   ],
   "source": [
    "for key, value in dict_ressource.items():\n",
    "    print(key, value)"
   ]
  },
  {
   "cell_type": "code",
   "execution_count": null,
   "metadata": {},
   "outputs": [],
   "source": []
  }
 ],
 "metadata": {
  "colab": {
   "name": "TP_bonus_guidé.ipynb",
   "provenance": []
  },
  "kernelspec": {
   "display_name": "Python 3",
   "language": "python",
   "name": "python3"
  },
  "language_info": {
   "codemirror_mode": {
    "name": "ipython",
    "version": 3
   },
   "file_extension": ".py",
   "mimetype": "text/x-python",
   "name": "python",
   "nbconvert_exporter": "python",
   "pygments_lexer": "ipython3",
   "version": "3.8.10"
  }
 },
 "nbformat": 4,
 "nbformat_minor": 1
}
