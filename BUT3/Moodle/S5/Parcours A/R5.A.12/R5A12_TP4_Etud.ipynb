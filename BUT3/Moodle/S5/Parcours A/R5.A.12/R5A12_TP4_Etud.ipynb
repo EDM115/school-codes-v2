{
 "cells": [
  {
   "cell_type": "markdown",
   "metadata": {},
   "source": [
    "\n",
    "# <center> R5.A.12 : TP4 - Vecteurs et valeurs propres </center>\n",
    "<center> 2023/2024 - Tom Ferragut, Thibault Godin & Lucie Naert </center>\n",
    "<center> IUT de Vannes, BUT Informatique </center>\n",
    "\n"
   ]
  },
  {
   "cell_type": "code",
   "execution_count": 1,
   "metadata": {},
   "outputs": [],
   "source": [
    "import networkx as nx\n",
    "import numpy as np\n",
    "from numpy import linalg as la\n",
    "import matplotlib.pyplot as plt\n",
    "%matplotlib inline\n",
    "import warnings\n",
    "warnings.filterwarnings('ignore')\n",
    "import matplotlib.colors as cm"
   ]
  },
  {
   "cell_type": "markdown",
   "metadata": {},
   "source": [
    "Fonctions permettant d'afficher des vecteurs. Ne pas hésiter à les utiliser."
   ]
  },
  {
   "cell_type": "code",
   "execution_count": 2,
   "metadata": {},
   "outputs": [],
   "source": [
    "#https://pythonnumericalmethods.berkeley.edu/notebooks/chapter15.04-Eigenvalues-and-Eigenvectors-in-Python.html\n",
    "\n",
    "#Fonctions d'affichages\n",
    "def plot_vect(x, b, xlim, ylim):\n",
    "    '''\n",
    "    function to plot two vectors, \n",
    "    x - the original vector\n",
    "    b - the transformed vector\n",
    "    xlim - the limit for x\n",
    "    ylim - the limit for y\n",
    "    '''\n",
    "    plt.figure(figsize = (10, 10))\n",
    "    plt.quiver(0,0,x[0],x[1],\\\n",
    "        color='k',angles='xy',\\\n",
    "        scale_units='xy',scale=1,\\\n",
    "        label='Original vector')\n",
    "    plt.quiver(0,0,b[0],b[1],\\\n",
    "        color='g',angles='xy',\\\n",
    "        scale_units='xy',scale=1,\\\n",
    "        label ='Transformed vector')\n",
    "    plt.xlim(xlim)\n",
    "    plt.ylim(ylim)\n",
    "    plt.xlabel('X')\n",
    "    plt.ylabel('Y')\n",
    "    plt.legend()\n",
    "    plt.show()\n",
    "    \n",
    "\n",
    "\n",
    "colors = [cm.to_hex(plt.cm.tab20(i)) for i in range(20)]\n",
    "\n",
    "def plot_vects(vects, xlim, ylim):\n",
    "    '''\n",
    "    function to plot two vectors, \n",
    "    vects - list of vectors\n",
    "    xlim - the limit for x\n",
    "    ylim - the limit for y\n",
    "    '''\n",
    "    plt.figure(figsize = (10,10))\n",
    "    for i in range(len(vects)) :\n",
    "        plt.quiver(0,0,vects[i][0],vects[i][1],\\\n",
    "        color=colors[i],angles='xy',\\\n",
    "        scale_units='xy',scale=1,\\\n",
    "        label='vector'+str(i))\n",
    "\n",
    "    plt.xlim(xlim)\n",
    "    plt.ylim(ylim)\n",
    "    plt.xlabel('X')\n",
    "    plt.ylabel('Y')\n",
    "    plt.legend()\n",
    "    plt.show()\n"
   ]
  },
  {
   "cell_type": "markdown",
   "metadata": {},
   "source": [
    "## 1. Definition et premiers exemples \n",
    "\n",
    "On va commencer par quelques rappel sur les matrices, le produit matriciel et son interprétation géométrique.\n",
    "\n",
    "Prenons une matrice et observons les effets géométrique du produit matriciel."
   ]
  },
  {
   "cell_type": "markdown",
   "metadata": {},
   "source": [
    "> __Question 1 (Effets géométriques)__ : utiliser `plot_vect` pour afficher, dans les 3 cellules suivantes, le vecteur `x` et ce même vecteur après multiplication avec la matrice `A`. "
   ]
  },
  {
   "cell_type": "code",
   "execution_count": 3,
   "metadata": {},
   "outputs": [],
   "source": [
    "# Creating a sample matrix\n",
    "A = np.array([[1,6],[1,2]])\n",
    "x=np.array([.5,.5])\n",
    "\n",
    "\n",
    "# Cas \"classique\""
   ]
  },
  {
   "cell_type": "markdown",
   "metadata": {},
   "source": [
    "Certains vecteurs ont des comportements particuliers :"
   ]
  },
  {
   "cell_type": "code",
   "execution_count": 4,
   "metadata": {},
   "outputs": [],
   "source": [
    "\n",
    "x=np.array([2,1])\n",
    "\n",
    "#Comportement \"particulier\"\n"
   ]
  },
  {
   "cell_type": "code",
   "execution_count": 5,
   "metadata": {},
   "outputs": [],
   "source": [
    "x=np.array([-3,1])\n",
    "\n",
    "#Comportement \"particulier\"\n"
   ]
  },
  {
   "cell_type": "markdown",
   "metadata": {},
   "source": [
    "### Vecteur propre, valeur propre\n",
    "\n",
    "Si $A$ est une matrice, on dit que $v$ est un vecteur propre (à droite) assocé à la valeur propre $\\lambda$ si $Av = \\lambda v$."
   ]
  },
  {
   "cell_type": "markdown",
   "metadata": {},
   "source": [
    "> __Question 2 (numpy/linalg)__ : À l'aide de `numpy` et de son module `linalg`, retrouver les valeurs et vecteurs propres de la matrice $A$ précédente. Idem avec la matrice $B$ ci-dessous. Vérifier vos résultats graphiquement et par le calcul python"
   ]
  },
  {
   "cell_type": "code",
   "execution_count": 6,
   "metadata": {},
   "outputs": [],
   "source": [
    "A = np.array([[1,6],[1,2]])\n"
   ]
  },
  {
   "cell_type": "code",
   "execution_count": 7,
   "metadata": {},
   "outputs": [],
   "source": [
    "# Define a matrix\n",
    "B = np.array([[5, 2], [2, 3]])\n",
    "\n"
   ]
  },
  {
   "cell_type": "markdown",
   "metadata": {},
   "source": [
    "> __Question 3 (valeur propre)__ :\n",
    "Écrire une fonction `eigenvec2val(A,v,isLeft)` qui, à partir d'une matrice `A` et de son vecteur propre `v` calcule et renvoie la valeur propre associée. `isLeft` est à `True` s'il s'agit d'un vecteur propre à gauche, `False` s'il s'agit d'un vecteur propre à droite (par défaut). "
   ]
  },
  {
   "cell_type": "code",
   "execution_count": 8,
   "metadata": {},
   "outputs": [
    {
     "ename": "NameError",
     "evalue": "name 'eigenvectors_A' is not defined",
     "output_type": "error",
     "traceback": [
      "\u001b[1;31m---------------------------------------------------------------------------\u001b[0m",
      "\u001b[1;31mNameError\u001b[0m                                 Traceback (most recent call last)",
      "Cell \u001b[1;32mIn[8], line 5\u001b[0m\n\u001b[0;32m      1\u001b[0m \u001b[38;5;28;01mdef\u001b[39;00m \u001b[38;5;21meigenvec2val\u001b[39m(A,v, isLeft \u001b[38;5;241m=\u001b[39m \u001b[38;5;28;01mFalse\u001b[39;00m):\n\u001b[0;32m      2\u001b[0m     \u001b[38;5;28;01mreturn\u001b[39;00m \u001b[38;5;241m0\u001b[39m\n\u001b[1;32m----> 5\u001b[0m eigenvec2val(A,eigenvectors_A[:,\u001b[38;5;241m1\u001b[39m])\n",
      "\u001b[1;31mNameError\u001b[0m: name 'eigenvectors_A' is not defined"
     ]
    }
   ],
   "source": [
    "def eigenvec2val(A,v, isLeft = False):\n",
    "    return 0\n",
    "\n",
    "\n",
    "eigenvec2val(A,eigenvectors_A[:,1])"
   ]
  },
  {
   "cell_type": "markdown",
   "metadata": {},
   "source": [
    "Soit la matrice $\n",
    "M=\n",
    "\\begin{pmatrix}\n",
    "0&1&2\\\\\n",
    "2&1&0\\\\\n",
    "2&2&2\\\\\n",
    "\\end{pmatrix}\n",
    "$\n",
    "\n",
    "> __Question 4 (exemple du cours)__ : \n",
    "Vérifier par le calcul que $(3,2,5)$ est un vecteur propre à droite et donner la valeur propre associée.\n",
    "Idem pour $(-6,-1,4)$. À l'aide de `numpy` et de son module `linalg`, trouver les autres valeurs et vecteurs propres à droite.\n",
    "\n",
    "\n"
   ]
  },
  {
   "cell_type": "code",
   "execution_count": null,
   "metadata": {
    "scrolled": false
   },
   "outputs": [],
   "source": []
  },
  {
   "cell_type": "markdown",
   "metadata": {},
   "source": [
    "Deux vecteurs $u,v$ sont orthogonaux si $u^T . v = 0$\n",
    "\n",
    "La formule suivante renvoie la projection de $v$ sur le vecteur orthogonal à $u$. Le vecteur $v_{\\perp u}$ ainsi obtenu est orthogonal à $u$.\n",
    "\n",
    "$$v_{\\perp u} \\leftarrow v - \\frac{u.v^T}{(u^T.u)} u $$\n",
    "\n",
    "\n",
    "(voir aussi [Algorithme de Gram-Schmidt](https://fr.wikipedia.org/wiki/Algorithme_de_Gram-Schmidt))"
   ]
  },
  {
   "cell_type": "markdown",
   "metadata": {},
   "source": [
    "> __Question 5 (vecteurs orthogonaux)__ : \n",
    "Implémenter cette formule dans une fonction `ortho(u,v)` qui renvoie le projeté orthogonal de `v` selon `u`.\n"
   ]
  },
  {
   "cell_type": "code",
   "execution_count": null,
   "metadata": {},
   "outputs": [],
   "source": [
    "def ortho(u,v) :\n",
    "    return 0\n",
    "\n",
    "\n",
    "u = np.array([1,1])\n",
    "v = np.array([1,2])\n",
    "plot_vects([u,v,v-ortho(u,v),ortho(u,v)],(-2,2),(-1,3))\n",
    "\n",
    "\n",
    "try : \n",
    "    assert ortho(u,v).transpose()@u == 0\n",
    "    print(\"OK\")\n",
    "except :\n",
    "    print(\"ERREUR\")\n"
   ]
  },
  {
   "cell_type": "markdown",
   "metadata": {},
   "source": [
    "On va maintenant étudier des algorithmes pour calculer les valeurs propres.\n",
    "\n",
    "Pour cela, on se donne une fonction renvoyant une matrice symétrique réelle. Le théorème spectral garantie que ces matrices ont $n$ valeurs propres réelles, elles seront donc utiles pour tester nos algorithmes."
   ]
  },
  {
   "cell_type": "code",
   "execution_count": null,
   "metadata": {},
   "outputs": [],
   "source": [
    "def generate_random_symmetric_matrix(n):\n",
    "    # Generate a random matrix\n",
    "    random_matrix = np.random.rand(n, n)-.5\n",
    "    \n",
    "    # Make it symmetric\n",
    "    symmetric_matrix = (random_matrix + random_matrix.T) / 2\n",
    "    \n",
    "    return symmetric_matrix\n",
    "\n",
    "# Example usage\n",
    "n = 4  # Size of the matrix\n",
    "random_symmetric_matrix = generate_random_symmetric_matrix(n)\n",
    "print(\"Random Symmetric Matrix:\")\n",
    "print(random_symmetric_matrix)\n",
    "\n",
    "\n"
   ]
  },
  {
   "cell_type": "markdown",
   "metadata": {},
   "source": [
    "Les fonctions suivantes permettent de normaliser un vecteur en divisant chacune de ses composantes par la norme du vecteur. \n",
    "\n",
    "Pour rappel : Soit $u = (x_1, x_2, ..., x_n)$, $||u|| = \\sqrt{x_1^2 + x_2^2 + ... + x_n^2}$\n",
    "\n",
    "Ou, en désignant le produit scalaire par un point . :  $||u|| = \\sqrt{u.u}$"
   ]
  },
  {
   "cell_type": "code",
   "execution_count": null,
   "metadata": {},
   "outputs": [],
   "source": [
    "def norm(v):\n",
    "    return ((v**2).sum())**0.5\n",
    "\n",
    "def normalize(v):\n",
    "    return v/norm(v)\n",
    "\n",
    "\n",
    "v = np.array([1,2])\n",
    "\n",
    "print(normalize(v))"
   ]
  },
  {
   "cell_type": "markdown",
   "metadata": {},
   "source": [
    "-------------\n",
    "\n",
    "Commençons par la méthodes des puissances itérées, qui est un outil simple et efficace pour calculer __la plus grande valeur propre d'une matrice__.\n",
    "\n",
    "## 2. Méthode des puissances itérées\n",
    "\n",
    "`Puissances iterées`\n",
    "\n",
    "**Inputs** Matrice $M$ carrée de taille $n$ dont on cherche les valeurs propres, nombre d'itération max $nbItermax$ et/ou tolérance $t$\n",
    "\n",
    "**Output** une approximation de la plus grande valeur propre de $M$\n",
    " \n",
    "1. Initialiser un vecteur $v_0$ de taille $n$ avec des valeurs aléatoires. Normaliser $v_0$.\n",
    "2. Initialiser un compteur d'itération à 0.\n",
    "2. $v_1 = Mv_0$ et normaliser $v_1$\n",
    "\n",
    "3. Tant que $||v_k - v_{k+1}|| > t$ et que le nombre d'itérations max n'est pas atteint\n",
    "   \n",
    "\t- $v_{k+1} = Mv_k$ et normaliser $v_{k+1}$\n",
    "    - Incrémenter le nombre d'itérations\n",
    "\n",
    "4. Retourner la valeur propre correspondant au dernier vecteur de la suite $v_k$\n",
    "\n",
    "\n",
    "\n",
    "> __Question 6 (Puissances itérées)__ : \n",
    "Implémenter la méthode des puissances itérées dans une fonction `power_iteration(matrix, num_iter_max, t)`. Cette fonction renvoie la plus grande valeur propre de `matrix`. On utilisera ici `num_iter_max` et `t` pour savoir quand arrêter l'algorithme.\n"
   ]
  },
  {
   "cell_type": "code",
   "execution_count": null,
   "metadata": {},
   "outputs": [],
   "source": [
    "def power_iteration(matrix, num_iter_max, t):\n",
    "   \n",
    "    return 0\n",
    "\n",
    "A = np.array([[1,6],[1,2]])\n",
    "num_iterations_max = 50\n",
    "eigen = power_iteration(A, num_iterations_max, 1e-10)\n",
    "print(round(eigen,2))"
   ]
  },
  {
   "cell_type": "markdown",
   "metadata": {},
   "source": [
    "> __Question 7 (visualisation)__ : Définir fonction `power_iteration_n(matrix, num_iter_max, t)` qui stocke et renvoie les résultats intermédiaires sous forme de deux listes (la suite des vecteurs $v_k$ et la liste des valeurs propres associées à chacun de ces vecteurs). Que représente le graphique proposé ?"
   ]
  },
  {
   "cell_type": "code",
   "execution_count": null,
   "metadata": {},
   "outputs": [],
   "source": [
    "def power_iteration_n(matrix, num_iter_max, t):\n",
    "    \n",
    "    \n",
    "    return [],[]\n",
    "\n",
    "\n",
    "\n",
    "A = np.array([[1,6],[1,2]])\n",
    "num_iter_max = 50\n",
    "vectors, eigens = power_iteration_n(A, num_iter_max, 1e-10)\n",
    "val_propres = la.eigvals(A)\n",
    "val_propres = -np.sort(-val_propres)\n",
    "plt.axhline(val_propres[0], color='r', linestyle='--')\n",
    "plt.plot(range(len(eigens)),eigens, color='b')\n",
    "plt.legend(['eigval','Puissances itérées'])"
   ]
  },
  {
   "cell_type": "markdown",
   "metadata": {},
   "source": [
    "> __Question 8 (erreur)__ : Tracer l'erreur (en valeur absolue) entre la valeur propre calculée par la fonction `eigval` et celle calculée avec votre fonction à chaque itération."
   ]
  },
  {
   "cell_type": "code",
   "execution_count": null,
   "metadata": {},
   "outputs": [],
   "source": []
  },
  {
   "cell_type": "markdown",
   "metadata": {},
   "source": [
    "### Calcul des valeurs propres suivantes\n",
    "\n",
    "Pour calculer les valeurs et vecteurs propres suivants, plusieurs méthodes sont possibles en théorie.\n",
    "\n",
    "Une première consiste à calculer le premier vecteur propre, puis à modifier la matrice pour le faire \"disparaitre\".\n",
    "\n",
    "\n",
    "En pratique, si $v_1$ est le premier vecteur propre, associé à $\\lambda_1$, on appliquera ensuite les puissances itérées sur la matrice\n",
    "\n",
    "$$B = A -  \\lambda_1 v_1 . v_1^T$$ \n"
   ]
  },
  {
   "cell_type": "markdown",
   "metadata": {},
   "source": [
    "> __Question 9 (nouvelle matrice)__ : Ecrire la fonction `newmat(A,v,lamb)` qui calcule $B$ à partir de `A`, `v` et `lamb` ($\\lambda$). On pourra utiliser la fonction `np.outer` et `T`. Calculer les valeurs propres de $B$ pour la matrice $A$ donnée en utilisant `eigvals` et `power_iteration`. Obtenez-vous bien la deuxième valeur propre de $A$ ?"
   ]
  },
  {
   "cell_type": "code",
   "execution_count": null,
   "metadata": {},
   "outputs": [],
   "source": [
    "def newmat(A,v,lamb):\n",
    "    return B\n",
    "\n",
    "A = np.array([[1,6],[1,2]])\n",
    "vectors, eigens = power_iteration_n(A, num_iter_max, 1e-20)\n",
    "print(vectors[-1])\n",
    "B = newmat(A,vectors[-1],eigens[-1])\n",
    "print(np.linalg.eigvals(B))\n",
    "\n",
    "power_iteration(B,50, 1e10-20)\n"
   ]
  },
  {
   "cell_type": "markdown",
   "metadata": {},
   "source": [
    "## 3. Décomposition QR - Partie Bonus\n",
    "\n",
    "Une matrice $O$ est dite _orthogonale_ si $O.O^T = O^T.O = I_n$.\n",
    "\n",
    "On va utiliser ces matrices pour obtenir d'un coup toutes les valeurs propres d'une matrice\n",
    "\n",
    "### 1) Orthonormalisation de Gram-Schmidt"
   ]
  },
  {
   "cell_type": "markdown",
   "metadata": {},
   "source": [
    "Soit $(v_1, ..., v_p)$ une famille de vecteurs linéairement indépendants de $\\mathbb{R}^n$. \n",
    "On rappelle que l’algorithme de Gram-Schmidt consiste à construire une famille orthonormale $(e_1, ..., e_p)$ telle que que $\\mathrm{Vect}(e_1, \\ldots, e_p) = \\mathrm{Vect}(v_1, ..., v_p)$, de la façon suivante :\n",
    "\\begin{align*}\n",
    "u_1 = v_1,& \\hspace{1em} \\text{et}\\hspace{1em} e_1 = \\frac{u_1}{\\Vert u_1 \\Vert}\n",
    "\\\\\n",
    "u_k = v_k - \\sum_{i = 1}^{k-1} \\langle v_k , e_i \\rangle e_i,&\n",
    "\\hspace{1em} \\text{et}\\hspace{1em} e_k = \\frac{u_k}{\\Vert u_k \\Vert}, \\forall k \\in \\{2,\\ldots,p\\}\n",
    "\\end{align*}\n",
    "\n",
    "\n",
    "Pour $A \\in GL_n(\\mathbb{R})$, la famille de vecteurs donnée par les colonnes de $A$ est une base de $\\mathbb{R}^n$. On peut donc lui appliquer le procédé d’orthonormalisation de Gram-Schmidt pour obtenir une base orthonormée, dont les vecteurs forment une matrice $Q \\in O_n(\\mathbb{R})$ (l'ensemble des matrices orthogonales).\n",
    "\n",
    "Les opérations d’orthonormalisation se résument en une matrice triangulaire supérieure $S$ avec des coefficients strictement positifs sur la diagonale, telle que $AS = Q$. On a donc $A = QR$, avec $R = S^{-1}$, également triangulaire supérieure avec des coefficients diagonaux strictement positifs : c’est la décomposition $QR$.\n",
    "\n",
    "> __Question 10 (Gram-Schmidt)__ : Écrire une fonction `ortho(A)` prenant en entrée une matrice inversible $A$ et renvoyant la matrice $Q$ orthogonale, obtenue par orthonormalisation de Schmidt des colonnes de $A$. On pourra utiliser `np.copy` pour faire une copie de $A$, on pourra écrire une fonction auxiliaire calculant le produit scalaire de deux vecteurs.\n",
    "\n",
    "\n"
   ]
  },
  {
   "cell_type": "code",
   "execution_count": null,
   "metadata": {},
   "outputs": [],
   "source": [
    "def ortho(A):\n",
    "    return A"
   ]
  },
  {
   "cell_type": "markdown",
   "metadata": {},
   "source": [
    "> __Question 11 (Décomposition QR)__ :  Si $Q$ est telle que $A = QR$, alors $R = Q^\\top A$. En déduire une fonction `factorQR(A)` renvoyant la décomposition $QR$ de $A$ sous la forme d’un couple de matrices $(Q,R)$."
   ]
  },
  {
   "cell_type": "code",
   "execution_count": null,
   "metadata": {},
   "outputs": [],
   "source": [
    "def factorQR(A):\n",
    "   \n",
    "    return Q,R\n",
    "\n",
    "# Tests\n",
    "Ar =np.random.random((3,3)) \n",
    "Q,R = factorQR(A)\n",
    "print(Q)\n",
    "print(R)"
   ]
  },
  {
   "cell_type": "markdown",
   "metadata": {},
   "source": [
    "## 2) Méthode QR pour l'approximation de valeurs propres\n",
    "\n",
    "Soit $A \\in \\mathcal{M}_{n,n}(\\mathbb{R})$ une matrice diagonaliable. On cherche à approcher numériquement ses éléments propres (vecteurs et valeurs propres). Pour cela, on peut utiliser itérativement la décomposition $QR$ : la méthode, dont le pseudocode est décrit ci-après, s'appelle la **méthode $QR$**.\n",
    "\n",
    "\n",
    ">$A_1 = A$\n",
    ">>**For** $t\\in\\{1,\\ldots,T\\}$\\\n",
    ">>$~~$ Calculer la décomposition $QR$ de $A_t$ :  $A_t = Q_t R_t$\\\n",
    ">>$~~$ $A_{t+1} = R_t Q_t$\n",
    "\n",
    "Une propriété importante est que $A_t$ a les même valeurs propres que $A$. Donc, si $A_t$ prend une forme pour laquelle les valeurs propres sont facilement accessibles, on aura déterminé celles de $A$. L\n",
    "\n",
    "Ainsi, les éléments diagonaux de $A_t$ convergeront vers les valeurs propres de A.\n",
    "\n",
    "> __Question 12 (Méthode QR)__ :  Écrire une fonction `methodeQR(A,T)` renvoyant la matrice $A_{T+1}$ et le produit $Q_1 \\cdots Q_{T+1}$. Vérifier le résultat sur la matrice A données."
   ]
  },
  {
   "cell_type": "code",
   "execution_count": null,
   "metadata": {},
   "outputs": [],
   "source": [
    "def methodeQR(A,T):\n",
    "    \n",
    "    return A,Q\n",
    "\n",
    "A = np.array([[1,6],[1,2]])\n",
    "print(methodeQR(A,10))"
   ]
  },
  {
   "cell_type": "markdown",
   "metadata": {},
   "source": [
    "la **méthode $QR$** définie plus haut converge, au sens où\n",
    "\\begin{align*}\n",
    "\\lim_{t \\to \\infty}(A_t)_{i,i} = \\lambda_i.\n",
    "\\end{align*}\n",
    "De plus la matrice $A_t$ converge vers l'ensemble des matrices triangulaires supérieures :\n",
    "$$\n",
    "\\lim_{t \\to \\infty} (A_t)_{i,j} = 0, \\hspace{.5em}\\text{pour tout } i > j.\n",
    "$$"
   ]
  },
  {
   "cell_type": "code",
   "execution_count": null,
   "metadata": {},
   "outputs": [],
   "source": []
  }
 ],
 "metadata": {
  "kernelspec": {
   "display_name": "Python 3 (ipykernel)",
   "language": "python",
   "name": "python3"
  },
  "language_info": {
   "codemirror_mode": {
    "name": "ipython",
    "version": 3
   },
   "file_extension": ".py",
   "mimetype": "text/x-python",
   "name": "python",
   "nbconvert_exporter": "python",
   "pygments_lexer": "ipython3",
   "version": "3.11.4"
  }
 },
 "nbformat": 4,
 "nbformat_minor": 4
}
