{
 "cells": [
  {
   "cell_type": "code",
   "execution_count": 4,
   "id": "b323f4d2",
   "metadata": {},
   "outputs": [],
   "source": [
    "import random\n",
    "import matplotlib.pyplot as plt\n",
    "import numpy as np\n",
    "import copy\n",
    "\n",
    "#plt.rcParams[\"figure.figsize\"] = [5, 5]\n"
   ]
  },
  {
   "cell_type": "markdown",
   "id": "5263e166",
   "metadata": {},
   "source": [
    "# <center> TP2 - Mariages stables équitables </center>\n",
    "<center> 2023/2024 - T. Godin, L. Naert </center>\n",
    "\n",
    "Dans le TP précédent, nous avons vu que l'algorithme de Gale-Shapley permet de donner une solution au problème des mariages stables entre deux populations $P_1$ et $P_2$ tout en avantageant l'une ou l'autre des parties. Dans notre exemple, les étudiants avaient, en moyenne moins de regret que les formations. Les préférences des étudiants étaient mieux respectées que celle des formations.\n",
    "\n",
    "\n",
    "On peut essayer de résoudre ce problème. Malheureusement \"Gusfield and Irving introduced the equitable stable marriage problem (ESMP), which calls for finding a stable matching that minimizes the \n",
    "distance between men's and women's sum-of-rankings of their spouses. \n",
    "Unfortunately, ESMP is strongly NP-hard\" \n",
    "(_I. Giannakopoulos, P. Karras, D. Tsoumakos, K. Doka and N. Koziris, \"An Equitable Solution to the Stable Marriage Problem,\" 2015 IEEE 27th ICTAI, 2015,  doi: 10.1109/ICTAI.2015.142._)\n",
    "\n",
    "On va donc essayer d'être plus équitable, tout en restant computationnellement raisonnables.\n",
    "\n",
    "\n",
    "__Définitions :__\n",
    " - Pour rappel, on appelle regret d’un étudiant (ou plus généralement, d'un élément de $P_1$) le rang, parmi ses préférences, de la formation (ou plus généralement, de l'élément de $P_2$) avec qui il est apparié. On définit de même le regret d’une formation.\n",
    " - Le regret maximal est le maximum des regrets de tous les individus (ici, formations et étudiants)\n",
    "\n",
    "Dans ce TP vous allez implémenter l'algorithme de Selkow permettant d'avoir un mariage stable équitable, c'est à dire un mariage qui minimise le regret maximal (le regret de l'individu le plus malheureux). \n"
   ]
  },
  {
   "cell_type": "markdown",
   "id": "8866a26e",
   "metadata": {},
   "source": [
    "## Changement de structure de données\n",
    "\n",
    "Pour faciliter l'implémentation de cet algorithme, la structure de données décrivant les préférences des deux populations a été modifiée. Nous utiliserons maintenant des dictionnaires qui nous donne un peu plus de possibilités."
   ]
  },
  {
   "cell_type": "code",
   "execution_count": 5,
   "id": "fce15e31",
   "metadata": {},
   "outputs": [],
   "source": [
    "etudPref = {1:[2, 3, 0, 1, 4], 2:[4, 0, 1, 2, 3], 0:[4, 1, 2, 0, 3], 3:[3, 1, 4, 0, 2], 4:[3, 4, 1, 2, 0]}\n",
    "\n",
    "formaPref = {1:[3, 4, 0, 2, 1], 2:[1, 3, 0, 4, 2], 3:[1, 4, 3, 2, 0], 0:[2, 1, 0, 3, 4], 4:[3, 1, 4, 2, 0]}"
   ]
  },
  {
   "cell_type": "markdown",
   "id": "7fe930be",
   "metadata": {},
   "source": [
    "La clef du dictionnaire donne l'identifiant de l'individu (étudiant ou formation) et la valeur correspondante présente la liste des préférence de l'individu en question. On peut voir, par exemple, que l'étudiant n°0 voudrait aller dans la formation n°4 en priorité, puis la 1, la 2, etc."
   ]
  },
  {
   "cell_type": "markdown",
   "id": "30cd556d",
   "metadata": {},
   "source": [
    "> __Question 1 (mise en place)__ : \n",
    "Pour vous familiariser avec cette nouvelle structure qu'est le dictionnaire, écrire un bout de code pour afficher la liste des préférences de l'étudiant n°2, la liste des préférences de la formation n°4 et la formation préféré de l'étudiant n°3. "
   ]
  },
  {
   "cell_type": "code",
   "execution_count": null,
   "id": "5cefc210",
   "metadata": {},
   "outputs": [],
   "source": []
  },
  {
   "cell_type": "markdown",
   "id": "900dbd12",
   "metadata": {},
   "source": [
    "Vous allez avoir besoin des fonctions écrites dans le TP précédent mais ces fonctions avaient été codées pour fonctionner sur des listes simples. \n",
    "\n",
    "> __Question 2 (dictionnaire)__ : \n",
    "Changer `listPrefGenerator(n)` en `dicoPrefGenerator(n)` pour qu'elle renvoit un dictionnaire de listes de préférence aléatoires et non une liste de liste de préférence"
   ]
  },
  {
   "cell_type": "code",
   "execution_count": 6,
   "id": "eea88549",
   "metadata": {},
   "outputs": [
    {
     "ename": "NameError",
     "evalue": "name 'dicoPrefGenerator' is not defined",
     "output_type": "error",
     "traceback": [
      "\u001b[1;31m---------------------------------------------------------------------------\u001b[0m",
      "\u001b[1;31mNameError\u001b[0m                                 Traceback (most recent call last)",
      "Cell \u001b[1;32mIn[6], line 20\u001b[0m\n\u001b[0;32m     15\u001b[0m         prefList\u001b[38;5;241m.\u001b[39mappend(pref)\n\u001b[0;32m     17\u001b[0m     \u001b[38;5;28;01mreturn\u001b[39;00m prefList\n\u001b[1;32m---> 20\u001b[0m \u001b[38;5;28mprint\u001b[39m(\u001b[38;5;124m\"\u001b[39m\u001b[38;5;124mExemple de dico aléatoire : \u001b[39m\u001b[38;5;124m\"\u001b[39m, dicoPrefGenerator(\u001b[38;5;241m5\u001b[39m))\n",
      "\u001b[1;31mNameError\u001b[0m: name 'dicoPrefGenerator' is not defined"
     ]
    }
   ],
   "source": [
    "def listPrefGenerator(n):\n",
    "    \"\"\"\n",
    "    renvoie une liste de préférences (liste de liste) générée aléatoirement avec des nombres de 0 à n-1\n",
    "    \n",
    "    \n",
    "   :param n taille de la liste de préférence \n",
    "   :return: liste de préférences\n",
    "   :rtype: array\n",
    "    \"\"\"  \n",
    "    # Générer une liste de tous les entiers de 0 à n-1\n",
    "    all_numbers = list(range(n))\n",
    "    prefList= []\n",
    "    for i in range(n):\n",
    "        pref = random.sample(all_numbers, n)\n",
    "        prefList.append(pref)\n",
    "    \n",
    "    return prefList\n",
    "\n",
    "\n",
    "print(\"Exemple de dico aléatoire : \", dicoPrefGenerator(5))\n",
    "\n",
    "\n"
   ]
  },
  {
   "cell_type": "markdown",
   "id": "9a302875",
   "metadata": {},
   "source": [
    "De la même façon, un mariage est également un dictionnaire où les couples (clef, valeur) représente un mariage entre un individu de la population 1 (clef) et un individu de la population 2 (valeur). Un exemple est donné ci-dessous : "
   ]
  },
  {
   "cell_type": "code",
   "execution_count": 7,
   "id": "e3b3c651",
   "metadata": {},
   "outputs": [],
   "source": [
    "mariage = {0:0, 2:4, 4:-1, 3:1, 1:2}"
   ]
  },
  {
   "cell_type": "markdown",
   "id": "7d19ace0",
   "metadata": {},
   "source": [
    "Si l'on considère que $P_1$ (population 1) rassemble les étudiants et $P_2$ (population 2) les formations. On voit par exemple que l'étudiant 2 est marié à la formation 4 et l'étudiant 4 n'est pas marié."
   ]
  },
  {
   "cell_type": "markdown",
   "id": "8291acba",
   "metadata": {},
   "source": [
    "> __Question 3 (dictionnaire)__ : \n",
    "Modifier `marriedTo(marriage, e, isP1)` pour qu'il prenne en compte la nouvelle structure d'un mariage."
   ]
  },
  {
   "cell_type": "code",
   "execution_count": 8,
   "id": "5c124ba7",
   "metadata": {},
   "outputs": [
    {
     "name": "stdout",
     "output_type": "stream",
     "text": [
      "marriedTo : ERREUR\n"
     ]
    }
   ],
   "source": [
    "def marriedTo(marriage,e,isP1):\n",
    "    \"\"\"\n",
    "    renvoie l'identifiant du partenaire de e d'après le dictionnaire des mariages marriage,\n",
    "    et -1 s'il n'est pas marié\n",
    "\n",
    "   :param dictionnary marriage: la liste des mariages actuels\n",
    "   :param int e: élément de P1 ou de P2\n",
    "   :param bool isP1: permet de connaitre le rôle de e (P1 ou P2)\n",
    "   :return: l'identifiant du partenaire de e d'après marriage\n",
    "   :rtype: int\n",
    "    \"\"\"\n",
    "    if(isP1):\n",
    "        return marriage[e]\n",
    "    else :\n",
    "        if not(e in marriage):\n",
    "            return -1\n",
    "        else:\n",
    "            return marriage.index(e)\n",
    "        \n",
    "try:\n",
    "    mariage = {0:0, 2:4, 4:-1, 3:1, 1:2}\n",
    "    assert marriedTo(mariage, 1, True) == 2\n",
    "    assert marriedTo(mariage, 1, False) == 3\n",
    "    assert marriedTo(mariage, 4, True) == -1\n",
    "    assert marriedTo(mariage, 4, False) == 2\n",
    "    assert marriedTo(mariage, 3, True) == 1\n",
    "    assert marriedTo(mariage, 3, False) == -1\n",
    "    print(\"marriedTo : OK\")\n",
    "except:\n",
    "    print(\"marriedTo : ERREUR\")"
   ]
  },
  {
   "cell_type": "markdown",
   "id": "40b41535",
   "metadata": {},
   "source": [
    "Les fonctions suivantes ont été réécrites pour prendre en compte la nouvelle structure de données : \n",
    "- `prefer(pref,c1,c2)` : indique si c1 est préféré à c2, \n",
    "- `galeShapleyDico` : fait un galeShapley sur un dictionnaire, \n",
    "- `regret` : calcule le regret d'un élément et \n",
    "- `regrets` : donne les regrets de chaque individu dans deux dictionnaires.\n",
    "\n",
    "Etes-vous d'accord avec les résultats affichés pour les méthodes `regret` et `regrets` ? "
   ]
  },
  {
   "cell_type": "code",
   "execution_count": 9,
   "id": "516425d4",
   "metadata": {},
   "outputs": [
    {
     "ename": "AttributeError",
     "evalue": "'dict' object has no attribute 'index'",
     "output_type": "error",
     "traceback": [
      "\u001b[1;31m---------------------------------------------------------------------------\u001b[0m",
      "\u001b[1;31mAttributeError\u001b[0m                            Traceback (most recent call last)",
      "Cell \u001b[1;32mIn[9], line 112\u001b[0m\n\u001b[0;32m    110\u001b[0m etudPref \u001b[38;5;241m=\u001b[39m {\u001b[38;5;241m1\u001b[39m:[\u001b[38;5;241m2\u001b[39m, \u001b[38;5;241m3\u001b[39m, \u001b[38;5;241m0\u001b[39m, \u001b[38;5;241m1\u001b[39m, \u001b[38;5;241m4\u001b[39m], \u001b[38;5;241m2\u001b[39m:[\u001b[38;5;241m4\u001b[39m, \u001b[38;5;241m0\u001b[39m, \u001b[38;5;241m1\u001b[39m, \u001b[38;5;241m2\u001b[39m, \u001b[38;5;241m3\u001b[39m], \u001b[38;5;241m0\u001b[39m:[\u001b[38;5;241m4\u001b[39m, \u001b[38;5;241m1\u001b[39m, \u001b[38;5;241m2\u001b[39m, \u001b[38;5;241m0\u001b[39m, \u001b[38;5;241m3\u001b[39m], \u001b[38;5;241m3\u001b[39m:[\u001b[38;5;241m3\u001b[39m, \u001b[38;5;241m1\u001b[39m, \u001b[38;5;241m4\u001b[39m, \u001b[38;5;241m0\u001b[39m, \u001b[38;5;241m2\u001b[39m], \u001b[38;5;241m4\u001b[39m:[\u001b[38;5;241m3\u001b[39m, \u001b[38;5;241m4\u001b[39m, \u001b[38;5;241m1\u001b[39m, \u001b[38;5;241m2\u001b[39m, \u001b[38;5;241m0\u001b[39m]}\n\u001b[0;32m    111\u001b[0m formaPref \u001b[38;5;241m=\u001b[39m {\u001b[38;5;241m1\u001b[39m:[\u001b[38;5;241m3\u001b[39m, \u001b[38;5;241m4\u001b[39m, \u001b[38;5;241m0\u001b[39m, \u001b[38;5;241m2\u001b[39m, \u001b[38;5;241m1\u001b[39m], \u001b[38;5;241m2\u001b[39m:[\u001b[38;5;241m1\u001b[39m, \u001b[38;5;241m3\u001b[39m, \u001b[38;5;241m0\u001b[39m, \u001b[38;5;241m4\u001b[39m, \u001b[38;5;241m2\u001b[39m], \u001b[38;5;241m3\u001b[39m:[\u001b[38;5;241m1\u001b[39m, \u001b[38;5;241m4\u001b[39m, \u001b[38;5;241m3\u001b[39m, \u001b[38;5;241m2\u001b[39m, \u001b[38;5;241m0\u001b[39m], \u001b[38;5;241m0\u001b[39m:[\u001b[38;5;241m2\u001b[39m, \u001b[38;5;241m1\u001b[39m, \u001b[38;5;241m0\u001b[39m, \u001b[38;5;241m3\u001b[39m, \u001b[38;5;241m4\u001b[39m], \u001b[38;5;241m4\u001b[39m:[\u001b[38;5;241m3\u001b[39m, \u001b[38;5;241m1\u001b[39m, \u001b[38;5;241m4\u001b[39m, \u001b[38;5;241m2\u001b[39m, \u001b[38;5;241m0\u001b[39m]}\n\u001b[1;32m--> 112\u001b[0m mariage \u001b[38;5;241m=\u001b[39m galeShapleyDico(etudPref, formaPref)\n\u001b[0;32m    113\u001b[0m \u001b[38;5;28mprint\u001b[39m(\u001b[38;5;124m\"\u001b[39m\u001b[38;5;124mResultat du mariage avec galeShapleyDico : \u001b[39m\u001b[38;5;124m\"\u001b[39m, mariage)\n\u001b[0;32m    114\u001b[0m \u001b[38;5;28mprint\u001b[39m(\u001b[38;5;124m\"\u001b[39m\u001b[38;5;124mRegret de l\u001b[39m\u001b[38;5;124m'\u001b[39m\u001b[38;5;124métudiant 0 : \u001b[39m\u001b[38;5;124m\"\u001b[39m, regret(mariage, \u001b[38;5;241m0\u001b[39m,etudPref, formaPref, \u001b[38;5;28;01mTrue\u001b[39;00m))\n",
      "Cell \u001b[1;32mIn[9], line 44\u001b[0m, in \u001b[0;36mgaleShapleyDico\u001b[1;34m(p1Pref, p2Pref)\u001b[0m\n\u001b[0;32m     41\u001b[0m elemP2 \u001b[38;5;241m=\u001b[39m p1Pref[elemP1][p1Progress[elemP1]]\n\u001b[0;32m     43\u001b[0m p1Progress[elemP1] \u001b[38;5;241m+\u001b[39m\u001b[38;5;241m=\u001b[39m\u001b[38;5;241m1\u001b[39m\n\u001b[1;32m---> 44\u001b[0m fiancee \u001b[38;5;241m=\u001b[39m marriedTo(marriage, elemP2, \u001b[38;5;28;01mFalse\u001b[39;00m) \u001b[38;5;66;03m#on vérifie que l'element de P2 est celibataire\u001b[39;00m\n\u001b[0;32m     45\u001b[0m \u001b[38;5;66;03m# l'element de P2 est celibataire\u001b[39;00m\n\u001b[0;32m     46\u001b[0m \u001b[38;5;28;01mif\u001b[39;00m(fiancee \u001b[38;5;241m==\u001b[39m \u001b[38;5;241m-\u001b[39m\u001b[38;5;241m1\u001b[39m):\n",
      "Cell \u001b[1;32mIn[8], line 18\u001b[0m, in \u001b[0;36mmarriedTo\u001b[1;34m(marriage, e, isP1)\u001b[0m\n\u001b[0;32m     16\u001b[0m     \u001b[38;5;28;01mreturn\u001b[39;00m \u001b[38;5;241m-\u001b[39m\u001b[38;5;241m1\u001b[39m\n\u001b[0;32m     17\u001b[0m \u001b[38;5;28;01melse\u001b[39;00m:\n\u001b[1;32m---> 18\u001b[0m     \u001b[38;5;28;01mreturn\u001b[39;00m marriage\u001b[38;5;241m.\u001b[39mindex(e)\n",
      "\u001b[1;31mAttributeError\u001b[0m: 'dict' object has no attribute 'index'"
     ]
    }
   ],
   "source": [
    "#pref est une liste de préférence\n",
    "def prefer(pref,c1,c2):\n",
    "    \"\"\"\n",
    "    renvoie True si c1 est préféré à c2 d'après la liste des préférence pref.\n",
    "\n",
    "\n",
    "   :param array pref: la liste de préférences\n",
    "   :param int c1: premier individu\n",
    "   :param int c1: deuxième individu   \n",
    "   :return: True si c1 est préféré à c2\n",
    "   :rtype: bool\n",
    "    \"\"\"\n",
    "    if(c1 in pref and c2 in pref): \n",
    "        return pref.index(c1)<pref.index(c2)\n",
    "    else:\n",
    "        return False\n",
    "\n",
    "#GS modifié pour fonctionner avec des dictionnaires\n",
    "def galeShapleyDico(p1Pref,p2Pref):\n",
    "    \"\"\"\n",
    "    renvoie un dictionnaire de mariages stables\n",
    "    \n",
    "    \n",
    "   :param dictionnaire p1Pref: le dictionnaire des préférences des individus de P1\n",
    "   :param dictionnaire p2Pref: le dictionnaire des préférences des individus de P2\n",
    "   :return: dictionnaire de mariages stables\n",
    "   :rtype: dictionnaire\n",
    "    \"\"\" \n",
    "    \n",
    "    # Au départ : personne n'est apparié.\n",
    "    marriage={i:-1 for i in list(p1Pref.keys())}\n",
    "    \n",
    "    # Créer un tableau pour suivre le progrès de chaque element de P1 (l'indice de P2 demandé en mariage)\n",
    "    p1Progress = [0] * (max(p1Pref.keys())+1)\n",
    "    \n",
    "    # Liste pour stocker les éléments de P1 célibataires (pleine au départ)\n",
    "    singleP1 = list(p1Pref.keys())\n",
    "    while(singleP1):\n",
    "\n",
    "        elemP1 = singleP1[0]\n",
    "        elemP2 = p1Pref[elemP1][p1Progress[elemP1]]\n",
    "        \n",
    "        p1Progress[elemP1] +=1\n",
    "        fiancee = marriedTo(marriage, elemP2, False) #on vérifie que l'element de P2 est celibataire\n",
    "        # l'element de P2 est celibataire\n",
    "        if(fiancee == -1):\n",
    "            marriage[elemP1] = elemP2\n",
    "            singleP1.remove(elemP1)\n",
    "        else : \n",
    "            # l'element de P2 est mariee\n",
    "            if(prefer(p2Pref[elemP2],elemP1,fiancee) == True): #mariage instable\n",
    "                marriage[elemP1] = elemP2\n",
    "                marriage[fiancee] = -1\n",
    "                singleP1.remove(elemP1)\n",
    "                singleP1.append(fiancee)\n",
    "    return marriage\n",
    "\n",
    "def regret(mariage, e, p1Pref, p2Pref, isP1):\n",
    "    \"\"\"\n",
    "    renvoie le regret de e\n",
    "    \n",
    "    \n",
    "   :param int e indice d'un etudiant ou d'une université\n",
    "   :param array mariage résultat d'un mariage\n",
    "   :param dictionnaire p1Pref: le dictionnaire des préférences des individus de P1\n",
    "   :param dictionnaire p2Pref: le dictionnaire des préférences des individus de P2\n",
    "   :param bool isP1: permet de connaitre la population d'appartenance de e\n",
    "   \n",
    "   :return: regret\n",
    "   :rtype: int\n",
    "    \"\"\"  \n",
    "        \n",
    "        \n",
    "    regret = len(p1Pref)+1\n",
    "    mari = marriedTo(mariage, e, isP1)\n",
    "    if(mari != -1):\n",
    "        if(isP1):\n",
    "            regret = p1Pref[e].index(mari)\n",
    "        else:\n",
    "            regret = p2Pref[e].index(mari)\n",
    "    return regret\n",
    "\n",
    "\n",
    "def regrets(mariage, p1Pref, p2Pref):\n",
    "    \"\"\"\n",
    "    renvoie une liste des regrets des éléments de P1 et des regrets des éléments de P2\n",
    "    \n",
    "   :param dictionnaire mariage résultat d'un mariage\n",
    "   :param dictionnaire p1Pref le dictionnaire des préférences des individus de P1\n",
    "   :param dictionnaire p2Pref le dictionnaire des préférences des individus de P2\n",
    "   \n",
    "   :return: regrets\n",
    "   :rtype: liste de deux dictionnaires : le premier avec les regrets P1 et le deuxième avec les regrets de P2\n",
    "    \"\"\" \n",
    "    \n",
    "    \n",
    "    tousRegrets = []\n",
    "    regretP1 = {}\n",
    "    regretP2 = {}\n",
    "    for ep1 in list(p1Pref.keys()):\n",
    "        regretP1[ep1] = regret(mariage,ep1, p1Pref, p2Pref, True )\n",
    "    for ep2 in list(p2Pref.keys()):\n",
    "        regretP2[ep2] = regret(mariage,ep2, p1Pref, p2Pref, False )\n",
    "    tousRegrets.append(regretP1)\n",
    "    tousRegrets.append(regretP2)\n",
    "    return tousRegrets\n",
    "\n",
    "\n",
    "\n",
    "etudPref = {1:[2, 3, 0, 1, 4], 2:[4, 0, 1, 2, 3], 0:[4, 1, 2, 0, 3], 3:[3, 1, 4, 0, 2], 4:[3, 4, 1, 2, 0]}\n",
    "formaPref = {1:[3, 4, 0, 2, 1], 2:[1, 3, 0, 4, 2], 3:[1, 4, 3, 2, 0], 0:[2, 1, 0, 3, 4], 4:[3, 1, 4, 2, 0]}\n",
    "mariage = galeShapleyDico(etudPref, formaPref)\n",
    "print(\"Resultat du mariage avec galeShapleyDico : \", mariage)\n",
    "print(\"Regret de l'étudiant 0 : \", regret(mariage, 0,etudPref, formaPref, True))\n",
    "print(\"Regret de la formation 0 : \", regret(mariage, 0,etudPref, formaPref, False))\n",
    "print(\"Regrets de tous le monde : \", regrets(mariage, etudPref, formaPref))\n",
    "\n",
    "\n"
   ]
  },
  {
   "cell_type": "markdown",
   "id": "e3c8dbf6",
   "metadata": {},
   "source": [
    "## Algorithme de Selkow\n",
    "\n",
    "Décrivons maintenant le fonctionnement de l'algorithme de Selkow. \n",
    "\n",
    "\n",
    "**Entrées** : Préférences de $P_1$ et $P_2$\n",
    "\n",
    "**Sortie** : Liste de mariages équitables\n",
    "\n",
    "Initialisation : Personne n'est marié\n",
    "\n",
    "Tant qu'un individu n'est pas marié : \n",
    "- Faire un Gale-Shapley **sur les individus non mariés**\n",
    "- Suite à ce mariage, calculer les bornes supérieures et inférieures des regrets de chaque individu du mariage\n",
    "- Pour chaque individu:\n",
    "    - si la borne sup est égale à la borne inf : le mariage est considéré comme _non perfectible_. On le garde dans la liste des mariages finals.\n",
    "    - sinon : le mariage est perfectible. Il est annulé (il n'est pas ajouté aux mariages finaux)\n",
    "- S'il reste des individus non mariées : \n",
    "    - recherche de l'individu $e$ avec le regret maximal parmi les individus non mariés\n",
    "    - Interdire la possibilité de refaire ce mariage (on retire $e$ de la liste de préférence de son partenaire et/ou on retire le partenaire de la liste des préférences de $e$)\n",
    "    \n",
    "    \n",
    "Notez la besoin de calculer les bornes supérieures et inférieures des regrets de chaque individu !  L'algorithme de Selkow se base en effet sur une propriété interessante de Gale-Shapley pour fonctionner : le mariage résultant de Gale-Shapley est le mariage **le plus optimal** pour les éléments de $P_1$ et **le moins optimal** pour les éléments de $P_2$. \n",
    "\n",
    "Ainsi, après un mariage de type Gale-Shapley, le regret des éléments de $P_1$ sera donc minimal (borne inférieur des regrets de $P_1$) et celui des éléments de $P_2$ maximal (borne supérieure des regrets de $P_2$). Evidemment, si l'on exécute Gale-Shapley après avoir échangé $P_1$ et $P_2$ dans les paramètres, nous aurons donc une deuxième proposition de mariage qui avantage $P_2$, cette fois ci !\n",
    "Le calcul des regrets sur ce nouveau mariage nous donnera la borne inférieure des regrets de $P_2$ et la borne supérieure des regrets de $P_1$. \n",
    "\n",
    "\n",
    "> __Question 4 (Bornes des regrets)__ : Ecrire une fonction `bornesSupInfGS(p1Pref, p2Pref)` qui renvoie les bornes inf et sup des deux populations. Cette fonction appelle donc Gale-Shapley !\n",
    "Dans l'exemple donné dans le try/assert : quels partenaires sont dans des mariages perfectibles ? \n"
   ]
  },
  {
   "cell_type": "code",
   "execution_count": 10,
   "id": "3138707b",
   "metadata": {},
   "outputs": [
    {
     "name": "stdout",
     "output_type": "stream",
     "text": [
      "bornesSupInfGS : ERREUR\n"
     ]
    }
   ],
   "source": [
    "def bornesSupInfGS(p1Pref,p2Pref):\n",
    "    \"\"\"\n",
    "    renvoie une liste des bornes inf et sup des deux populations\n",
    "    \n",
    "   :param dictionnaire p1Pref le dictionnaire des préférences des individus de P1\n",
    "   :param dictionnaire p2Pref le dictionnaire des préférences des individus de P2\n",
    "   \n",
    "   :return: borne inf de P1, borne sup de P1, borne inf de P2, borne sup de P2\n",
    "   :rtype: quatre dictionnaires \n",
    "    \"\"\" \n",
    "    \n",
    "   \n",
    "    return {},{},{},{}\n",
    "\n",
    "try:\n",
    "    etudiantPref1 = {0:[0, 2, 5, 1, 4, 3], \n",
    "                1:[5, 0, 1, 3, 4, 2], \n",
    "                2:[2, 5, 1, 3, 0, 4], \n",
    "                3:[3, 4, 5, 0, 1, 2], \n",
    "                4:[0, 2, 5, 1, 3, 4], \n",
    "                5:[5, 4, 3, 2, 0, 1]}\n",
    "    formationPref1 = {0:[0, 5, 4, 1, 3, 2], \n",
    "                 1:[5, 0, 4, 3, 1, 2], \n",
    "                 2:[0, 1, 3, 4, 5, 2], \n",
    "                 3:[1, 4, 5, 0, 2, 3], \n",
    "                 4:[3, 5, 1, 0, 2, 4], \n",
    "                 5:[4, 1, 2, 0, 3, 5]}\n",
    "    mariage1 = {0: 0, 1: 5, 2: 1, 3: 3, 4: 2, 5: 4}\n",
    "    assert bornesSupInfGS(etudiantPref1, formationPref1) == ({0: 0, 1: 0, 2: 2, 3: 0, 4: 1, 5: 1}, #Borne inf P1\n",
    "                                                        {0: 0, 1: 0, 2: 2, 3: 1, 4: 1, 5: 2}, #Borne sup P1\n",
    "                                                        {0: 0, 1: 5, 2: 3, 3: 2, 4: 0, 5: 1}, #Borne inf P2\n",
    "                                                        {0: 0, 1: 5, 2: 3, 3: 5, 4: 1, 5: 1}) #Borne sup P2\n",
    "\n",
    "    etudiantPref2 = {0:[1,0,2], 1:[2,1,0], 2:[0,2,1]}\n",
    "    formationPref2 ={0:[1,0,2], 1:[2,1,0], 2:[0,2,1]}\n",
    "    assert bornesSupInfGS(etudiantPref2, formationPref2) == ({0: 0, 1: 0, 2: 0}, \n",
    "                                                             {0: 2, 1: 2, 2: 2}, \n",
    "                                                             {0: 0, 1: 0, 2: 0}, \n",
    "                                                             {0: 2, 1: 2, 2: 2})\n",
    "    \n",
    "    print(\"bornesSupInfGS : OK\")\n",
    "except:\n",
    "    print(\"bornesSupInfGS : ERREUR\")"
   ]
  },
  {
   "cell_type": "markdown",
   "id": "f5ffb641",
   "metadata": {},
   "source": [
    "**Réponse** : \n"
   ]
  },
  {
   "cell_type": "markdown",
   "id": "351fae1b",
   "metadata": {},
   "source": [
    "\n",
    "> __Question 5 (Regret max)__ : Ecrire une fonction `individuRegretMax(bornesInfP1, bornesSupP1, bornesInfP2, bornesSupP2)` qui renvoie l’individu avec la borne sup maximale **parmi les individus dont la borne sup est différente de la borne inf.** Cette fonction renvoie, de plus, `True` si l'individu appartient à $P_1$ et `False` sinon.\n"
   ]
  },
  {
   "cell_type": "code",
   "execution_count": 11,
   "id": "05c493a6",
   "metadata": {},
   "outputs": [
    {
     "name": "stdout",
     "output_type": "stream",
     "text": [
      "individuRegretMax : ERREUR\n"
     ]
    }
   ],
   "source": [
    "def individuRegretMax(bornesInfP1, bornesSupP1, bornesInfP2, bornesSupP2):\n",
    "    \"\"\"\n",
    "    cherche l’étudiant ou la formation, parmi ceux dont la borne sup est différente de la\n",
    "    borne inf, tel que sa borne sup soit maximale.\n",
    "    \n",
    "   :param dictionnaire bornesInfP1 borne inf des regrets des individus de P1\n",
    "   :param dictionnaire bornesSupP1 borne sup des regrets des individus de P1\n",
    "   :param dictionnaire bornesInfP2 borne inf des regrets des individus de P2\n",
    "   :param dictionnaire bornesSupP2 borne sup des regrets des individus de P2\n",
    "   \n",
    "   :return: identifiant de l'individu avec le regret max (-1 si non trouvé) et son statut (P1 ou P2)\n",
    "   :rtype: int, bool\n",
    "    \"\"\" \n",
    "\n",
    "   \n",
    "                \n",
    "    return -1, False\n",
    "\n",
    "\n",
    "try:\n",
    "    etudiantPref1 = {0:[0, 2, 5, 1, 4, 3], \n",
    "                1:[5, 0, 1, 3, 4, 2], \n",
    "                2:[2, 5, 1, 3, 0, 4], \n",
    "                3:[3, 4, 5, 0, 1, 2], \n",
    "                4:[0, 2, 5, 1, 3, 4], \n",
    "                5:[5, 4, 3, 2, 0, 1]}\n",
    "    formationPref1 = {0:[0, 5, 4, 1, 3, 2], \n",
    "                 1:[5, 0, 4, 3, 1, 2], \n",
    "                 2:[0, 1, 3, 4, 5, 2], \n",
    "                 3:[1, 4, 5, 0, 2, 3], \n",
    "                 4:[3, 5, 1, 0, 2, 4], \n",
    "                 5:[4, 1, 2, 0, 3, 5]}\n",
    "    borneInfEtud, borneSupEtud, borneInfForma, borneSupForma = bornesSupInfGS(etudiantPref1, formationPref1)\n",
    "    \n",
    "    assert individuRegretMax(borneInfEtud, borneSupEtud, borneInfForma, borneSupForma) == (3, False)\n",
    "    print(\"individuRegretMax : OK\")\n",
    "except:\n",
    "    print(\"individuRegretMax : ERREUR\")\n"
   ]
  },
  {
   "cell_type": "markdown",
   "id": "5c44abaa",
   "metadata": {},
   "source": [
    "__Rappel de l'algorithme de Selkow__\n",
    "\n",
    "**Entrées** : Préférences de $P_1$ et $P_2$\n",
    "\n",
    "**Sortie** : Liste de mariages équitables\n",
    "\n",
    "Initialisation : Personne n'est marié\n",
    "\n",
    "Tant qu'un individu n'est pas marié : \n",
    "- Faire un Gale-Shapley **sur les individus non mariés**\n",
    "- Suite à ce mariage, calculer les bornes supérieures et inférieures des regrets de chaque individu du mariage\n",
    "- Pour chaque individu:\n",
    "    - si la borne sup est égale à la borne inf : le mariage est considéré comme _non perfectible_. On le garde dans la liste des mariages finals.\n",
    "    - sinon : le mariage est perfectible. Il est annulé (il n'est pas ajouté aux mariages finaux)\n",
    "- S'il reste des individus non mariées : \n",
    "    - recherche de l'individu $e$ avec le regret maximal parmi les individus non mariés\n",
    "    - Interdire la possibilité de refaire ce mariage (on retire $e$ de la liste de préférence de son partenaire et/ou on retire le partenaire de la liste des préférences de $e$)"
   ]
  },
  {
   "cell_type": "markdown",
   "id": "809c0c18",
   "metadata": {},
   "source": [
    "> __Question 6 (Selkow)__ : Ecrire une fonction `selkow(etudPref, formaPref)` qui renvoie un mariage stable équitable à partir des listes de préférences en utilisant l'algorithme de Selkow."
   ]
  },
  {
   "cell_type": "code",
   "execution_count": 12,
   "id": "91eb923f",
   "metadata": {},
   "outputs": [
    {
     "name": "stdout",
     "output_type": "stream",
     "text": [
      "selkow : ERREUR\n"
     ]
    }
   ],
   "source": [
    "def selkow(p1Pref, p2Pref):\n",
    "    \"\"\"\n",
    "    renvoie un mariage stable équitable\n",
    "    \n",
    "   :param dictionnaire p1Pref: le dictionnaire des préférences des individus de P1\n",
    "   :param dictionnaire p2Pref: le dictionnaire des préférences des individus de P2\n",
    "   :return: mariages stables equitables selon Selkow\n",
    "   :rtype: dictionnaire\n",
    "    \"\"\" \n",
    "    \n",
    "    \n",
    "    # Au départ : personne n'est apparié.\n",
    "    marriageFinal={i:-1 for i in list(p1prefModif.keys())}\n",
    "\n",
    "   \n",
    "\n",
    "    return marriageFinal\n",
    "\n",
    "\n",
    "\n",
    "#etudiantPref1 = {0:[0,3,1,2,4], \n",
    "#            1:[0,3,4,1,2], \n",
    "#            2:[4,1,2,3,0], \n",
    "#            3:[2,1,3,4,0], \n",
    "#            4:[1,3,2,0,4]}\n",
    "#formationPref1 = {0:[4,1,0,2,3], \n",
    "#             1:[3,0,2,4,1], \n",
    "#             2:[2,1,4,3,0], \n",
    "#             3:[3,0,4,1,2], \n",
    "#             4:[2,0,3,4,1]}\n",
    "    \n",
    "#print(selkow(etudiantPref1, formationPref1 ))\n",
    "\n",
    "\n",
    "    \n",
    "try:\n",
    "    etudiantPref1 = {0:[0, 2, 5, 1, 4, 3], \n",
    "                1:[5, 0, 1, 3, 4, 2], \n",
    "                2:[2, 5, 1, 3, 0, 4], \n",
    "                3:[3, 4, 5, 0, 1, 2], \n",
    "                4:[0, 2, 5, 1, 3, 4], \n",
    "                5:[5, 4, 3, 2, 0, 1]}\n",
    "    formationPref1 = {0:[0, 5, 4, 1, 3, 2], \n",
    "                 1:[5, 0, 4, 3, 1, 2], \n",
    "                 2:[0, 1, 3, 4, 5, 2], \n",
    "                 3:[1, 4, 5, 0, 2, 3], \n",
    "                 4:[3, 5, 1, 0, 2, 4], \n",
    "                 5:[4, 1, 2, 0, 3, 5]}\n",
    "\n",
    "    \n",
    "    assert selkow(etudiantPref1, formationPref1) == {0: 0, 1: 5, 2: 1, 3: 4, 4: 2, 5: 3}\n",
    "    \n",
    "    etudiantPref2 = {0:[1,0,2], 1:[2,1,0], 2:[0,2,1]}\n",
    "    formationPref2 ={0:[1,0,2], 1:[2,1,0], 2:[0,2,1]}\n",
    "\n",
    "    assert selkow(etudiantPref2, formationPref2) == {0: 0, 1: 1, 2: 2}\n",
    "\n",
    "    print(\"selkow : OK\")\n",
    "except:\n",
    "    print(\"selkow : ERREUR\")\n",
    "    \n",
    "    "
   ]
  },
  {
   "cell_type": "markdown",
   "id": "0e3868b9",
   "metadata": {},
   "source": [
    "## Regret maximal\n",
    "\n",
    "L'algorithme de Selkow que vous avez développé cherche à minimiser le regret maximal (le regret de la personne la plus malheureuse, qu'elle appartienne à $P_1$ ou $P_2$)."
   ]
  },
  {
   "cell_type": "markdown",
   "id": "cd893d6f",
   "metadata": {},
   "source": [
    "> __Question 7 (Regret maximal)__ : Ecrire une fonction `regretMaximal(mariage, p1Pref, p2Pref)` qui calcule le regret maximal en fonction d'un mariage et des préférences des populations 1 et 2. Ne pas hésiter à ajouter des tests d'executions."
   ]
  },
  {
   "cell_type": "code",
   "execution_count": 13,
   "id": "68e722b2",
   "metadata": {},
   "outputs": [
    {
     "name": "stdout",
     "output_type": "stream",
     "text": [
      "regretMaximal : ERREUR\n"
     ]
    }
   ],
   "source": [
    "def regretMaximal(mariage, p1Pref, p2Pref):\n",
    "    \"\"\"\n",
    "    renvoie le regret maximal\n",
    "    \n",
    "    :param dictionnaire mariage: un dictionnaire de mariages\n",
    "    :param dictionnaire p1Pref: le dictionnaire des préférences des individus de P1\n",
    "    :param dictionnaire p2Pref: le dictionnaire des préférences des individus de P2\n",
    "    :return: le regret de l'individu le plus malheureux dans son mariage\n",
    "    :rtype: int\n",
    "    \"\"\" \n",
    "    \n",
    "    return 0\n",
    "\n",
    "try:\n",
    "    etudiantPref1 = {0:[1,0,2], 1:[2,1,0], 2:[0,2,1]}\n",
    "    formationPref1 ={0:[1,0,2], 1:[2,1,0], 2:[0,2,1]}\n",
    "    mariage = galeShapleyDico(etudiantPref1, formationPref1)\n",
    "    mariage2 = selkow(etudiantPref1, formationPref1)\n",
    "    assert regretMaximal(mariage, etudiantPref1, formationPref1) == 2\n",
    "    assert regretMaximal(mariage2, etudiantPref1, formationPref1) == 1 # Le regret max a été réduit avec Selkow\n",
    "    print(\"regretMaximal : OK\")\n",
    "except:\n",
    "    print(\"regretMaximal : ERREUR\")\n"
   ]
  },
  {
   "cell_type": "markdown",
   "id": "0484bba4",
   "metadata": {},
   "source": [
    "> __Question 8 (Regret maximal moyen)__ : Tracer le regret maximal moyen pour différentes valeurs de n pour l’algorithme de Gale-Shapley et de Selkow. Que constatez-vous ? "
   ]
  },
  {
   "cell_type": "code",
   "execution_count": 14,
   "id": "121b093a",
   "metadata": {},
   "outputs": [
    {
     "ename": "NameError",
     "evalue": "name 'x' is not defined",
     "output_type": "error",
     "traceback": [
      "\u001b[1;31m---------------------------------------------------------------------------\u001b[0m",
      "\u001b[1;31mNameError\u001b[0m                                 Traceback (most recent call last)",
      "Cell \u001b[1;32mIn[14], line 9\u001b[0m\n\u001b[0;32m      3\u001b[0m y1 \u001b[38;5;241m=\u001b[39m []\n\u001b[0;32m      6\u001b[0m \u001b[38;5;66;03m# Données pour la première courbe\u001b[39;00m\n\u001b[1;32m----> 9\u001b[0m plt\u001b[38;5;241m.\u001b[39mplot(x, y0, label\u001b[38;5;241m=\u001b[39m\u001b[38;5;124m'\u001b[39m\u001b[38;5;124mGale-Shapley\u001b[39m\u001b[38;5;124m'\u001b[39m)\n\u001b[0;32m     10\u001b[0m plt\u001b[38;5;241m.\u001b[39mplot(x, y1, label\u001b[38;5;241m=\u001b[39m\u001b[38;5;124m'\u001b[39m\u001b[38;5;124mSelkow\u001b[39m\u001b[38;5;124m'\u001b[39m)\n\u001b[0;32m     12\u001b[0m \u001b[38;5;66;03m# Ajouter des légendes\u001b[39;00m\n",
      "\u001b[1;31mNameError\u001b[0m: name 'x' is not defined"
     ]
    }
   ],
   "source": [
    "n = 100\n",
    "y0 = []\n",
    "y1 = []\n",
    "\n",
    "\n",
    "# Données pour la première courbe\n",
    "\n",
    "\n",
    "plt.plot(x, y0, label='Gale-Shapley')\n",
    "plt.plot(x, y1, label='Selkow')\n",
    "\n",
    "# Ajouter des légendes\n",
    "plt.legend()\n",
    "\n",
    "# Titres et labels des axes\n",
    "plt.title('Regret maximal moyen')\n",
    "plt.xlabel('n')\n",
    "plt.ylabel('Regret maximal moyen')\n",
    "plt.grid()\n",
    "# Afficher le graphique\n",
    "plt.show()"
   ]
  },
  {
   "cell_type": "markdown",
   "id": "3dfde60e",
   "metadata": {},
   "source": [
    "> __Question 9 (carte blanche)__ : N'hésitez pas à pousser l'analyse : complexité, regrets moyens de chaque population... Lancez-vous ! Mais sans oublier de commenter vos observations."
   ]
  },
  {
   "cell_type": "code",
   "execution_count": null,
   "id": "80ca0eeb",
   "metadata": {},
   "outputs": [],
   "source": []
  },
  {
   "cell_type": "code",
   "execution_count": null,
   "id": "579f69ce",
   "metadata": {},
   "outputs": [],
   "source": []
  }
 ],
 "metadata": {
  "kernelspec": {
   "display_name": "Python 3 (ipykernel)",
   "language": "python",
   "name": "python3"
  },
  "language_info": {
   "codemirror_mode": {
    "name": "ipython",
    "version": 3
   },
   "file_extension": ".py",
   "mimetype": "text/x-python",
   "name": "python",
   "nbconvert_exporter": "python",
   "pygments_lexer": "ipython3",
   "version": "3.11.4"
  }
 },
 "nbformat": 4,
 "nbformat_minor": 5
}
