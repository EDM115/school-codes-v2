{
 "cells": [
  {
   "cell_type": "markdown",
   "id": "f7e4f2da-fca6-41e8-996d-7c51e0db6352",
   "metadata": {},
   "source": [
    "1. __Nom - Prénom :__  \n",
    "2. __Nom - Prénom :__\n"
   ]
  },
  {
   "cell_type": "code",
   "execution_count": 1,
   "id": "39e18c36",
   "metadata": {},
   "outputs": [],
   "source": [
    "import random\n",
    "import matplotlib.pyplot as plt\n",
    "import numpy as np"
   ]
  },
  {
   "cell_type": "markdown",
   "id": "65fbf600",
   "metadata": {},
   "source": [
    "# <center> TP noté : affectations ParcourSup </center>\n",
    "<center> 2024/2025 - T. Godin, L. Naert </center>\n",
    "<center> IUT de Vannes, BUT Informatique </center>"
   ]
  },
  {
   "cell_type": "markdown",
   "id": "fa4d176b",
   "metadata": {},
   "source": [
    "# Contexte et problématique\n",
    "Après avoir vu votre projet sur Gale-Shapley et Selkow, les responsables de ParcourSup vous contacte afin de mettre en place le nouvel algorithme d'affectation des élèves dans le supérieur.\n",
    "\n",
    "Pour la rentrée prochaine, ils ont opté pour une approche totalement différente : au lieu d'un algorithme de mariage classique, ils decident de __proposer aléatoirement une nouvelle formation par jour__ à l'élève, jusqu'à ce qu'il accepte.\n",
    "\n",
    "Pour aider les élèves dans ce choix, ils souhaitent proposer un outil implémentant une stratégie pour l'élève sachant que : \n",
    "\n",
    "- La période d'affectation dure $n$ jours (ce nombre $n$ est connu par les élèves)\n",
    "- Chaque jour, on propose une formation sous la forme d'un score (positif) : plus ce score est grand, plus l'élève souhaite être admis dans la formation (ce score a été déterminé grace aux voeux de l'élève)\n",
    "- Un élève ne peut pas accepter une proposition passée et il ne connait pas les propositions futures.\n",
    "- Toute acceptation est définitive : un élève ne peut pas changer d'avis, il sera affecté dans la formation qu'il a accepté.\n",
    "    \n",
    "Les responsables de Parcoursup attendent de votre part une fonction `choice(n,seen)` dont les paramètres sont : \n",
    "- `n` la durée totale de la période d'affectation\n",
    "- `seen` l'historique des propositions d'affectation sous forme d'une liste de scores. __Le dernier élément de `seen`__ (donc `seen[-1]` ou  `seen[len(seen)-1]`) __est la proposition du jour pour l'élève.__\n",
    "\n",
    "La fonction renvoie `True` si l'élève accepte la proposition du jour et `False` s'il choisit d'attendre."
   ]
  },
  {
   "cell_type": "markdown",
   "id": "a9d62e81-70ba-4ab1-bff9-1857e7fd6922",
   "metadata": {},
   "source": [
    "# Contraintes \n",
    "\n",
    "- Durée du projet : 2h30 (3h20 si étudiants en possession d'un tiers-temps)\n",
    "- Nombre de personnes dans le groupe : 2\n",
    "- L'usage d'IA génératives (chatGPT et copilot notamment) est interdit. \n",
    "- La communication avec les autres binômes que ça soit à l'oral ou par messagerie est interdite\n",
    "- L'usage d'internet (autre qu'IA générative) est autorisé \n",
    "- Tout document de cours (CM, TP) est autorisé \n",
    "\n",
    "# Cahier des charges du rendu\n",
    "\n",
    "Les responsables de ParcourSup souhaiteraient recevoir un travail de synthèse sous la forme de ce __jupyter notebook complété__. \n",
    "\n",
    "Les responsables de ParcourSup devront justifier leur choix, ils attendent donc que vous justifiez et argumentiez votre démarche.\n",
    "\n",
    "Vous pouvez proposer une ou plusieurs versions de la fonction `choice`. Ces propositions devront faire l'objet d'une __analyse des résultats__ (texte, courbes, métriques...). Si plusieurs versions de `choice` sont proposées, une comparaison des performances devra être réalisée pour indiquer quelle version doit être choisie en définitive. \n",
    "\n",
    "# Notation\n",
    "\n",
    "La pertinence des propositions, l'exhaustivité des analyses et la clarté des explications seront pris en compte dans la notation."
   ]
  },
  {
   "cell_type": "markdown",
   "id": "77a22642-6fb9-4f89-b369-404bccc099b3",
   "metadata": {},
   "source": [
    "# Exemple\n",
    "\n",
    "Pour vous guider dans votre travail de recherche, ParcourSup vous a fournit :\n",
    "- un exemple de fonction `choice(n,seen)` appelée `dummy_choice` qui choisit systématiquement la troisième formation proposée\n",
    "- une fonction `rand_list(n)` qui fournit une liste de `n` formations sous forme de scores tirés au hasard entre 100 et 1000. Attention, ces bornes de scores sont celles de l'année passée pour l'étudiant en question, rien ne dit que ce seront les mêmes cette année.\n",
    "- une fonction `resultat(listeScores,fonctionChoix)` qui prend en paramètre la liste des scores (de taille $n$) et le nom de la fonction de choix à utiliser et renvoie le rang et le score de la formation choisie."
   ]
  },
  {
   "cell_type": "code",
   "execution_count": 8,
   "id": "1000e0d2-2127-407d-91fe-e34435ff0e79",
   "metadata": {},
   "outputs": [
    {
     "name": "stdout",
     "output_type": "stream",
     "text": [
      "Vous avez choisi la formation proposée le jour n° 3 . Cette formation a un score de  529\n",
      "Les autres formations avait des scores de : [373, 543, 529, 411, 710, 403, 529, 596, 327, 575]\n"
     ]
    }
   ],
   "source": [
    "def dummy_choice(n,seen):\n",
    "    choice = False\n",
    "    i = len(seen)\n",
    "    if i == 3:\n",
    "        choice = True\n",
    "    return choice\n",
    "\n",
    "def rand_list(n):\n",
    "    rlist =[]\n",
    "    for i in range(n):\n",
    "        num = random.randint(100,1000)\n",
    "        rlist.append(num)\n",
    "    return rlist\n",
    "\n",
    "def resultat(listeScores,fonctionChoix):\n",
    "    \n",
    "    i = 0\n",
    "    choice = False\n",
    "    \n",
    "    while i < len(listeScores) and not(choice) :\n",
    "        i = i + 1\n",
    "        choice = fonctionChoix(n, listeScores[:i])\n",
    "    \n",
    "    chosen = listeScores[i-1]\n",
    "    \n",
    "    return chosen, i\n",
    "    \n",
    "\n",
    "n = 10\n",
    "liste = rand_list(n)\n",
    "chosen, i = resultat(liste, dummy_choice)\n",
    "print(\"Vous avez choisi la formation proposée le jour n°\", i, \". Cette formation a un score de \", chosen)\n",
    "print(\"Les autres formations avait des scores de :\", liste)"
   ]
  },
  {
   "cell_type": "markdown",
   "id": "715e1eea-c2c3-4ca0-ab30-4b52be2b9a46",
   "metadata": {},
   "source": [
    "------------------------"
   ]
  },
  {
   "cell_type": "code",
   "execution_count": null,
   "id": "425ff19f",
   "metadata": {},
   "outputs": [],
   "source": [
    "# A vous de jouer... Vous avez évidemment la possibilité de créer autant de cellules markdown/python que vous le souhaitez."
   ]
  }
 ],
 "metadata": {
  "kernelspec": {
   "display_name": "Python 3 (ipykernel)",
   "language": "python",
   "name": "python3"
  },
  "language_info": {
   "codemirror_mode": {
    "name": "ipython",
    "version": 3
   },
   "file_extension": ".py",
   "mimetype": "text/x-python",
   "name": "python",
   "nbconvert_exporter": "python",
   "pygments_lexer": "ipython3",
   "version": "3.12.0"
  }
 },
 "nbformat": 4,
 "nbformat_minor": 5
}
