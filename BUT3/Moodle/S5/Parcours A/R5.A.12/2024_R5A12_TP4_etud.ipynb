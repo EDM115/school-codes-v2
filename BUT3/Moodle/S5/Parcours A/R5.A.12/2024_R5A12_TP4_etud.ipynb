{
 "cells": [
  {
   "cell_type": "markdown",
   "metadata": {},
   "source": [
    "\n",
    "# <center> R5.A.12 : TP4 - Vecteurs et valeurs propres </center>\n",
    "<center> 2024/2025 - Thibault Godin & Lucie Naert </center>\n",
    "<center> IUT de Vannes, BUT Informatique </center>\n",
    "\n"
   ]
  },
  {
   "cell_type": "code",
   "execution_count": 14,
   "metadata": {},
   "outputs": [],
   "source": [
    "import networkx as nx\n",
    "import numpy as np\n",
    "from numpy import linalg as la\n",
    "import matplotlib.pyplot as plt\n",
    "%matplotlib inline\n",
    "import warnings\n",
    "warnings.filterwarnings('ignore')\n",
    "import matplotlib.colors as cm"
   ]
  },
  {
   "cell_type": "markdown",
   "metadata": {},
   "source": [
    "Fonctions permettant d'afficher des vecteurs. Ne pas hésiter à les utiliser."
   ]
  },
  {
   "cell_type": "code",
   "execution_count": 15,
   "metadata": {},
   "outputs": [],
   "source": [
    "#https://pythonnumericalmethods.berkeley.edu/notebooks/chapter15.04-Eigenvalues-and-Eigenvectors-in-Python.html\n",
    "\n",
    "#Fonctions d'affichages\n",
    "def plot_vect(x, b, xlim, ylim):\n",
    "    '''\n",
    "    function to plot two vectors, \n",
    "    x - the original vector\n",
    "    b - the transformed vector\n",
    "    xlim - the limit for x\n",
    "    ylim - the limit for y\n",
    "    '''\n",
    "    plt.figure(figsize = (3, 3))\n",
    "    plt.quiver(0,0,x[0],x[1],\\\n",
    "        color='k', angles='xy',\\\n",
    "        scale_units='xy',scale=1,\\\n",
    "        label='('+str(x[0])+','+str(x[1])+')')\n",
    "    plt.quiver(0,0,b[0],b[1],\\\n",
    "        color = 'orange',angles='xy',\\\n",
    "        scale_units='xy',scale=1,\\\n",
    "        label ='('+str(b[0])+','+str(b[1])+')')\n",
    "    plt.xlim(xlim)\n",
    "    plt.ylim(ylim)\n",
    "    plt.xlabel('X')\n",
    "    plt.ylabel('Y')\n",
    "    plt.legend()\n",
    "    plt.show()\n",
    "    \n",
    "\n",
    "\n",
    "colors = [cm.to_hex(plt.cm.tab20(i)) for i in range(20)]\n",
    "\n",
    "def plot_vects(vects, xlim, ylim):\n",
    "    '''\n",
    "    function to plot two vectors, \n",
    "    vects - list of vectors\n",
    "    xlim - the limit for x\n",
    "    ylim - the limit for y\n",
    "    '''\n",
    "    plt.figure(figsize = (10,10))\n",
    "    for i in range(len(vects)) :\n",
    "        plt.quiver(0,0,vects[i][0],vects[i][1],\\\n",
    "        color=colors[i],angles='xy',\\\n",
    "        scale_units='xy',scale=1,\\\n",
    "        label='vector'+str(i))\n",
    "\n",
    "    plt.xlim(xlim)\n",
    "    plt.ylim(ylim)\n",
    "    plt.xlabel('X')\n",
    "    plt.ylabel('Y')\n",
    "    plt.legend()\n",
    "    plt.show()\n"
   ]
  },
  {
   "cell_type": "markdown",
   "metadata": {},
   "source": [
    "## 1. Definition et premiers exemples \n",
    "\n",
    "On va commencer par quelques rappel sur les matrices, le produit matriciel et son interprétation géométrique.\n",
    "\n",
    "Prenons une matrice et observons les effets géométrique du produit matriciel."
   ]
  },
  {
   "cell_type": "markdown",
   "metadata": {},
   "source": [
    "> __Question 1 (Effets géométriques)__ : utiliser `plot_vect` pour afficher, dans les 3 cellules suivantes, le vecteur `x` et ce même vecteur après multiplication avec la matrice `A`. Que remarquez-vous ? Parmi les vecteurs affichés, quels sont les vecteurs propres de `A` ? "
   ]
  },
  {
   "cell_type": "code",
   "execution_count": 16,
   "metadata": {},
   "outputs": [
    {
     "data": {
      "image/png": "[encoded data removed]",
      "text/plain": [
       "<Figure size 300x300 with 1 Axes>"
      ]
     },
     "metadata": {},
     "output_type": "display_data"
    }
   ],
   "source": [
    "# Creating a sample matrix\n",
    "A = np.array([[1,2],[4,3]])\n",
    "\n",
    "\n",
    "x=np.array([0,-1])\n",
    "plot_vect(x,A@x,(-4,4),(-4,4))\n",
    "\n",
    "x=np.array([1,1])\n",
    "#todo\n",
    "\n",
    "x=np.array([1,2])\n",
    "#todo\n",
    "\n",
    "x=np.array([-1,1])\n",
    "#todo\n",
    "\n"
   ]
  },
  {
   "cell_type": "markdown",
   "metadata": {},
   "source": [
    "Réponse : TODO"
   ]
  },
  {
   "cell_type": "markdown",
   "metadata": {},
   "source": [
    "### Vecteur propre, valeur propre\n",
    "\n",
    "Si $A$ est une matrice, on dit que $v$ est un **vecteur propre à droite** associé à la valeur propre $\\lambda$ si $Av = \\lambda v$.\n",
    "\n",
    "Si $A$ est une matrice, on dit que $u$ est un **vecteur propre à gauche** associé à la valeur propre $\\lambda$ si $uA = \\lambda u$."
   ]
  },
  {
   "cell_type": "markdown",
   "metadata": {},
   "source": [
    "> __Question 2 (numpy/linalg)__ : À l'aide de `numpy` et de son module `linalg`, retrouver les valeurs et vecteurs propres de la matrice $A$ précédente. Idem avec la matrice $B$ ci-dessous. Vérifier vos résultats graphiquement et par le calcul python"
   ]
  },
  {
   "cell_type": "code",
   "execution_count": 17,
   "metadata": {},
   "outputs": [],
   "source": [
    "# Compute eigenvalues and eigenvectors\n",
    "#todo"
   ]
  },
  {
   "cell_type": "code",
   "execution_count": 18,
   "metadata": {},
   "outputs": [],
   "source": [
    "# Define a matrix\n",
    "B = np.array([[5, 2], [2, 3]])\n",
    "#todo"
   ]
  },
  {
   "cell_type": "markdown",
   "metadata": {},
   "source": [
    "> __Question 3 (valeur propre)__ :\n",
    "Écrire une fonction `eigenvec2val(A,v,isLeft)` qui, à partir d'une matrice `A` et de son vecteur propre `v` calcule et renvoie la valeur propre associée. `isLeft` est à `True` s'il s'agit d'un vecteur propre à gauche, `False` s'il s'agit d'un vecteur propre à droite (par défaut). "
   ]
  },
  {
   "cell_type": "code",
   "execution_count": 19,
   "metadata": {},
   "outputs": [],
   "source": [
    "def eigenvec2val(A,v, isLeft = False):\n",
    "    return #todo\n"
   ]
  },
  {
   "cell_type": "markdown",
   "metadata": {},
   "source": [
    "Soit la matrice $\n",
    "M=\n",
    "\\begin{pmatrix}\n",
    "0&1&2\\\\\n",
    "2&1&0\\\\\n",
    "2&2&2\\\\\n",
    "\\end{pmatrix}\n",
    "$\n",
    "\n",
    "> __Question 4__ : \n",
    "Vérifier par le calcul que $(3,2,5)$ est un vecteur propre à droite et donner la valeur propre associée.\n",
    "Idem pour $(-6,-1,4)$ à gauche. À l'aide de `numpy` et de son module `linalg`, trouver les autres valeurs et vecteurs propres à droite.\n",
    "\n",
    "\n"
   ]
  },
  {
   "cell_type": "code",
   "execution_count": 20,
   "metadata": {},
   "outputs": [],
   "source": [
    "M = np.array([[0,1,2], [2,1,0], [2,2,2]])\n",
    "x=np.array([3,2,5])\n",
    "#todo\n",
    "\n",
    "x=np.array([-6,-1,4])\n",
    "#todo"
   ]
  },
  {
   "cell_type": "markdown",
   "metadata": {},
   "source": [
    "Deux vecteurs $u,v$ sont orthogonaux si $u^T . v = 0$\n",
    "\n",
    "La formule suivante renvoie la projection de $v$ sur le vecteur orthogonal à $u$. Le vecteur $v_{\\perp u}$ ainsi obtenu est orthogonal à $u$.\n",
    "\n",
    "$$v_{\\perp u} \\leftarrow v - \\frac{u.v^T}{(u^T.u)} u $$\n",
    "\n",
    "\n",
    "(voir aussi [Algorithme de Gram-Schmidt](https://fr.wikipedia.org/wiki/Algorithme_de_Gram-Schmidt))"
   ]
  },
  {
   "cell_type": "markdown",
   "metadata": {},
   "source": [
    "> __Question 5 (vecteurs orthogonaux)__ : \n",
    "Implémenter cette formule dans une fonction `ortho(u,v)` qui renvoie le projeté orthogonal de `v` selon `u`. On peut utiliser l'attribut `v.T` pour faire la transposée de `v`.\n"
   ]
  },
  {
   "cell_type": "code",
   "execution_count": 21,
   "metadata": {},
   "outputs": [
    {
     "ename": "TypeError",
     "evalue": "unsupported operand type(s) for -: 'int' and 'NoneType'",
     "output_type": "error",
     "traceback": [
      "\u001b[1;31m---------------------------------------------------------------------------\u001b[0m",
      "\u001b[1;31mTypeError\u001b[0m                                 Traceback (most recent call last)",
      "Cell \u001b[1;32mIn[21], line 8\u001b[0m\n\u001b[0;32m      6\u001b[0m u \u001b[38;5;241m=\u001b[39m np\u001b[38;5;241m.\u001b[39marray([\u001b[38;5;241m1\u001b[39m,\u001b[38;5;241m1\u001b[39m])\n\u001b[0;32m      7\u001b[0m v \u001b[38;5;241m=\u001b[39m np\u001b[38;5;241m.\u001b[39marray([\u001b[38;5;241m1\u001b[39m,\u001b[38;5;241m2\u001b[39m])\n\u001b[1;32m----> 8\u001b[0m plot_vects([u,v,\u001b[43mv\u001b[49m\u001b[38;5;241;43m-\u001b[39;49m\u001b[43mortho\u001b[49m\u001b[43m(\u001b[49m\u001b[43mu\u001b[49m\u001b[43m,\u001b[49m\u001b[43mv\u001b[49m\u001b[43m)\u001b[49m,ortho(u,v)],(\u001b[38;5;241m-\u001b[39m\u001b[38;5;241m2\u001b[39m,\u001b[38;5;241m2\u001b[39m),(\u001b[38;5;241m-\u001b[39m\u001b[38;5;241m1\u001b[39m,\u001b[38;5;241m3\u001b[39m))\n\u001b[0;32m     11\u001b[0m \u001b[38;5;28;01mtry\u001b[39;00m : \n\u001b[0;32m     12\u001b[0m     \u001b[38;5;28;01massert\u001b[39;00m ortho(u,v)\u001b[38;5;241m.\u001b[39mT\u001b[38;5;129m@u\u001b[39m \u001b[38;5;241m==\u001b[39m \u001b[38;5;241m0\u001b[39m\n",
      "\u001b[1;31mTypeError\u001b[0m: unsupported operand type(s) for -: 'int' and 'NoneType'"
     ]
    }
   ],
   "source": [
    "def ortho(u,v) :\n",
    "\n",
    "    return #todo\n",
    "\n",
    "\n",
    "u = np.array([1,1])\n",
    "v = np.array([1,2])\n",
    "plot_vects([u,v,v-ortho(u,v),ortho(u,v)],(-2,2),(-1,3))\n",
    "\n",
    "\n",
    "try : \n",
    "    assert ortho(u,v).T@u == 0\n",
    "    print(\"ortho : OK\")\n",
    "except :\n",
    "    print(\"ortho : ERREUR\")\n"
   ]
  },
  {
   "cell_type": "markdown",
   "metadata": {},
   "source": [
    "On va maintenant étudier des algorithmes pour calculer les valeurs propres.\n",
    "\n",
    "Pour cela, on se donne une fonction renvoyant une matrice symétrique réelle. Le théorème spectral garantie que ces matrices ont $n$ valeurs propres réelles, elles seront donc utiles pour tester nos algorithmes."
   ]
  },
  {
   "cell_type": "code",
   "execution_count": 22,
   "metadata": {},
   "outputs": [
    {
     "name": "stdout",
     "output_type": "stream",
     "text": [
      "Random Symmetric Matrix:\n",
      "[[-0.12774153  0.00701721  0.1272169   0.04283474]\n",
      " [ 0.00701721 -0.21398774  0.3257583   0.12175213]\n",
      " [ 0.1272169   0.3257583   0.39623274  0.11378128]\n",
      " [ 0.04283474  0.12175213  0.11378128 -0.12848762]]\n"
     ]
    }
   ],
   "source": [
    "def generate_random_symmetric_matrix(n):\n",
    "    # Generate a random matrix\n",
    "    random_matrix = np.random.rand(n, n)-.5\n",
    "    \n",
    "    # Make it symmetric\n",
    "    symmetric_matrix = (random_matrix + random_matrix.T) / 2\n",
    "    \n",
    "    return symmetric_matrix\n",
    "\n",
    "# Example usage\n",
    "n = 4  # Size of the matrix\n",
    "random_symmetric_matrix = generate_random_symmetric_matrix(n)\n",
    "print(\"Random Symmetric Matrix:\")\n",
    "print(random_symmetric_matrix)\n",
    "\n",
    "\n"
   ]
  },
  {
   "cell_type": "markdown",
   "metadata": {},
   "source": [
    "La fonction suivante permet de normaliser un vecteur en divisant chacune de ses composantes par la norme du vecteur. \n",
    "\n",
    "Pour rappel : Soit $u = (x_1, x_2, ..., x_n)$, $||u|| = \\sqrt{x_1^2 + x_2^2 + ... + x_n^2}$\n",
    "\n",
    "Ou, en désignant le produit scalaire par un point . :  $||u|| = \\sqrt{u.u}$"
   ]
  },
  {
   "cell_type": "code",
   "execution_count": 23,
   "metadata": {},
   "outputs": [
    {
     "name": "stdout",
     "output_type": "stream",
     "text": [
      "2.23606797749979\n",
      "[0.4472136  0.89442719]\n"
     ]
    }
   ],
   "source": [
    "def norm(v):\n",
    "    return ((v**2).sum())**0.5\n",
    "    #return (v@v)**0.5\n",
    "\n",
    "def normalize(v):\n",
    "    return v/norm(v)\n",
    "\n",
    "\n",
    "v = np.array([1,2])\n",
    "print(norm(v))\n",
    "print(normalize(v))"
   ]
  },
  {
   "cell_type": "markdown",
   "metadata": {},
   "source": [
    "-------------\n",
    "\n",
    "Commençons par la méthodes des puissances itérées, qui est un outil simple et efficace pour calculer __la plus grande valeur propre d'une matrice__.\n",
    "\n",
    "## 2. Méthode des puissances itérées\n",
    "\n",
    "`Puissances iterées`\n",
    "\n",
    "**Inputs** Matrice $M$ carrée de taille $n$ dont on cherche les valeurs propres, nombre d'itération max $nbItermax$ et tolérance $t$\n",
    "\n",
    "**Output** une approximation de la plus grande valeur propre de $M$\n",
    " \n",
    "1. Initialiser un vecteur $v_0$ de taille $n$ avec des valeurs aléatoires. Normaliser $v_0$.\n",
    "2. Initialiser un compteur d'itération à 0.\n",
    "2. $v_1 = Mv_0$ et normaliser $v_1$\n",
    "\n",
    "3. Tant que $||v_k - v_{k+1}|| > t$ et que le nombre d'itérations max n'est pas atteint\n",
    "   \n",
    "\t- $v_{k+1} = Mv_k$ et normaliser $v_{k+1}$\n",
    "    - Incrémenter le nombre d'itérations\n",
    "\n",
    "4. Retourner la valeur propre correspondant au dernier vecteur de la suite $v_k$\n",
    "\n",
    "\n",
    "\n",
    "> __Question 6 (Puissances itérées)__ : \n",
    "Implémenter la méthode des puissances itérées dans une fonction `power_iteration(matrix, num_iter_max, t)`. Cette fonction renvoie la plus grande valeur propre de `matrix`. On utilisera ici `num_iter_max` et `t` pour savoir quand arrêter l'algorithme.\n"
   ]
  },
  {
   "cell_type": "code",
   "execution_count": 24,
   "metadata": {},
   "outputs": [
    {
     "ename": "TypeError",
     "evalue": "type NoneType doesn't define __round__ method",
     "output_type": "error",
     "traceback": [
      "\u001b[1;31m---------------------------------------------------------------------------\u001b[0m",
      "\u001b[1;31mTypeError\u001b[0m                                 Traceback (most recent call last)",
      "Cell \u001b[1;32mIn[24], line 8\u001b[0m\n\u001b[0;32m      6\u001b[0m A \u001b[38;5;241m=\u001b[39m np\u001b[38;5;241m.\u001b[39marray([[\u001b[38;5;241m1\u001b[39m,\u001b[38;5;241m6\u001b[39m],[\u001b[38;5;241m1\u001b[39m,\u001b[38;5;241m2\u001b[39m]])\n\u001b[0;32m      7\u001b[0m num_iterations_max \u001b[38;5;241m=\u001b[39m \u001b[38;5;241m50\u001b[39m\n\u001b[1;32m----> 8\u001b[0m eigen \u001b[38;5;241m=\u001b[39m \u001b[38;5;28;43mround\u001b[39;49m\u001b[43m(\u001b[49m\u001b[43mpower_iteration\u001b[49m\u001b[43m(\u001b[49m\u001b[43mA\u001b[49m\u001b[43m,\u001b[49m\u001b[43m \u001b[49m\u001b[43mnum_iterations_max\u001b[49m\u001b[43m,\u001b[49m\u001b[43m \u001b[49m\u001b[38;5;241;43m1e-10\u001b[39;49m\u001b[43m)\u001b[49m\u001b[43m,\u001b[49m\u001b[38;5;241;43m4\u001b[39;49m\u001b[43m)\u001b[49m\n\u001b[0;32m      9\u001b[0m \u001b[38;5;28;01mtry\u001b[39;00m : \n\u001b[0;32m     10\u001b[0m     \u001b[38;5;28;01massert\u001b[39;00m eigen \u001b[38;5;241m==\u001b[39m \u001b[38;5;241m4.0\u001b[39m\n",
      "\u001b[1;31mTypeError\u001b[0m: type NoneType doesn't define __round__ method"
     ]
    }
   ],
   "source": [
    "def power_iteration(matrix, num_iter_max, t):\n",
    "    \n",
    "    \n",
    "    return #todo\n",
    "\n",
    "A = np.array([[1,6],[1,2]])\n",
    "num_iterations_max = 50\n",
    "eigen = round(power_iteration(A, num_iterations_max, 1e-10),4)\n",
    "try : \n",
    "    assert eigen == 4.0\n",
    "    print(\"power_iteration : OK\")\n",
    "except :\n",
    "    print(\"power_iteration : ERREUR\")"
   ]
  },
  {
   "cell_type": "markdown",
   "metadata": {},
   "source": [
    "> __Question 7 (visualisation)__ : Définir fonction `power_iteration_n(matrix, num_iter_max, t)` qui stocke et renvoie les résultats intermédiaires sous forme de deux listes (la suite des vecteurs $v_k$ et la liste des valeurs propres associées à chacun de ces vecteurs)\n",
    "Que représente le graphique proposé ?"
   ]
  },
  {
   "cell_type": "code",
   "execution_count": 25,
   "metadata": {},
   "outputs": [
    {
     "ename": "NameError",
     "evalue": "name 'vector' is not defined",
     "output_type": "error",
     "traceback": [
      "\u001b[1;31m---------------------------------------------------------------------------\u001b[0m",
      "\u001b[1;31mNameError\u001b[0m                                 Traceback (most recent call last)",
      "Cell \u001b[1;32mIn[25], line 10\u001b[0m\n\u001b[0;32m      8\u001b[0m A \u001b[38;5;241m=\u001b[39m np\u001b[38;5;241m.\u001b[39marray([[\u001b[38;5;241m1\u001b[39m,\u001b[38;5;241m6\u001b[39m],[\u001b[38;5;241m1\u001b[39m,\u001b[38;5;241m2\u001b[39m]])\n\u001b[0;32m      9\u001b[0m num_iter_max \u001b[38;5;241m=\u001b[39m \u001b[38;5;241m50\u001b[39m\n\u001b[1;32m---> 10\u001b[0m vectors, eigens \u001b[38;5;241m=\u001b[39m \u001b[43mpower_iteration_n\u001b[49m\u001b[43m(\u001b[49m\u001b[43mA\u001b[49m\u001b[43m,\u001b[49m\u001b[43m \u001b[49m\u001b[43mnum_iter_max\u001b[49m\u001b[43m,\u001b[49m\u001b[43m \u001b[49m\u001b[38;5;241;43m1e-10\u001b[39;49m\u001b[43m)\u001b[49m\n\u001b[0;32m     11\u001b[0m val_propres \u001b[38;5;241m=\u001b[39m la\u001b[38;5;241m.\u001b[39meigvals(A)\n\u001b[0;32m     12\u001b[0m val_propres \u001b[38;5;241m=\u001b[39m \u001b[38;5;241m-\u001b[39mnp\u001b[38;5;241m.\u001b[39msort(\u001b[38;5;241m-\u001b[39mval_propres)\n",
      "Cell \u001b[1;32mIn[25], line 4\u001b[0m, in \u001b[0;36mpower_iteration_n\u001b[1;34m(matrix, num_iter_max, t)\u001b[0m\n\u001b[0;32m      1\u001b[0m \u001b[38;5;28;01mdef\u001b[39;00m \u001b[38;5;21mpower_iteration_n\u001b[39m(matrix, num_iter_max, t):\n\u001b[0;32m      2\u001b[0m     \u001b[38;5;66;03m#todo\u001b[39;00m\n\u001b[1;32m----> 4\u001b[0m     \u001b[38;5;28;01mreturn\u001b[39;00m \u001b[43mvector\u001b[49m, eigens\n",
      "\u001b[1;31mNameError\u001b[0m: name 'vector' is not defined"
     ]
    }
   ],
   "source": [
    "def power_iteration_n(matrix, num_iter_max, t):\n",
    "    #todo\n",
    "    \n",
    "    return vector, eigens\n",
    "\n",
    "\n",
    "\n",
    "A = np.array([[1,6],[1,2]])\n",
    "num_iter_max = 50\n",
    "vectors, eigens = power_iteration_n(A, num_iter_max, 1e-10)\n",
    "val_propres = la.eigvals(A)\n",
    "val_propres = -np.sort(-val_propres)\n",
    "plt.axhline(val_propres[0], color='r', linestyle='--')\n",
    "plt.plot(range(len(eigens)),eigens, color='b')\n",
    "plt.legend(['eigval','Puissances itérées'])"
   ]
  },
  {
   "cell_type": "markdown",
   "metadata": {},
   "source": [
    "> __Question 8 (erreur)__ : Tracer l'erreur (en valeur absolue) entre la valeur propre calculée par la fonction `eigval` et celle calculée avec votre fonction à chaque itération."
   ]
  },
  {
   "cell_type": "code",
   "execution_count": 26,
   "metadata": {},
   "outputs": [
    {
     "ename": "SyntaxError",
     "evalue": "invalid syntax (2438558626.py, line 1)",
     "output_type": "error",
     "traceback": [
      "\u001b[1;36m  Cell \u001b[1;32mIn[26], line 1\u001b[1;36m\u001b[0m\n\u001b[1;33m    iterations = #todo\u001b[0m\n\u001b[1;37m                 ^\u001b[0m\n\u001b[1;31mSyntaxError\u001b[0m\u001b[1;31m:\u001b[0m invalid syntax\n"
     ]
    }
   ],
   "source": [
    "\n",
    "iterations = #todo\n",
    "error_values = #todo\n",
    "\n",
    "plt.plot(iterations, error_values, marker='o')\n",
    "plt.xlabel('Iterations')\n",
    "plt.ylabel('Error')\n",
    "plt.title('Error in Power Iteration Method')\n",
    "plt.grid(True)\n",
    "plt.show()"
   ]
  },
  {
   "cell_type": "markdown",
   "metadata": {},
   "source": [
    "### Calcul des valeurs propres suivantes\n",
    "\n",
    "Pour calculer les valeurs et vecteurs propres suivants, plusieurs méthodes sont possibles en théorie.\n",
    "\n",
    "Une première consiste à calculer le premier vecteur propre, puis à modifier la matrice pour le faire \"disparaitre\".\n",
    "\n",
    "\n",
    "En pratique, si $v_1$ est le premier vecteur propre, associé à $\\lambda_1$, on appliquera ensuite les puissances itérées sur la matrice\n",
    "\n",
    "$$B = A -  \\lambda_1 v_1 . v_1^T$$ \n"
   ]
  },
  {
   "cell_type": "markdown",
   "metadata": {},
   "source": [
    "> __Question 9 (nouvelle matrice)__ : Ecrire la fonction `newmat(A,v,lamb)` qui calcule $B$ à partir de `A`, `v` et `lamb` ($\\lambda$). On pourra utiliser la fonction `np.outer` (calcul du produit matriciel de deux vecteurs) et `T` (transposée). Calculer les valeurs propres de $B$ pour la matrice $A$ donnée en utilisant `eigvals` et `power_iteration`. Obtenez-vous bien la deuxième valeur propre de $A$ ?"
   ]
  },
  {
   "cell_type": "code",
   "execution_count": 27,
   "metadata": {},
   "outputs": [
    {
     "ename": "SyntaxError",
     "evalue": "invalid syntax (96619584.py, line 6)",
     "output_type": "error",
     "traceback": [
      "\u001b[1;36m  Cell \u001b[1;32mIn[27], line 6\u001b[1;36m\u001b[0m\n\u001b[1;33m    B = #todo\u001b[0m\n\u001b[1;37m        ^\u001b[0m\n\u001b[1;31mSyntaxError\u001b[0m\u001b[1;31m:\u001b[0m invalid syntax\n"
     ]
    }
   ],
   "source": [
    "def newmat(A,v,lamb):\n",
    "    return #todo\n",
    "\n",
    "A = np.array([[1,6],[1,2]])\n",
    "\n",
    "B = #todo\n",
    "\n",
    "eigenB = round(power_iteration(B,50, 1e-20), 4)\n",
    "try : \n",
    "    assert eigenB == -1.0\n",
    "    print(\"newmat : OK\")\n",
    "except :\n",
    "    print(\"newmat : ERREUR\")"
   ]
  },
  {
   "cell_type": "markdown",
   "metadata": {},
   "source": [
    "_Attention_ : La méthode renvoie un vecteur propre $w_2$ associé à `newmat`. On retrouve le vecteur $v_2$ associé à $A$ en résolvant le système $A v = \\lambda_1 v$\n",
    "\n"
   ]
  },
  {
   "cell_type": "markdown",
   "metadata": {},
   "source": [
    "## 3. Partie Bonus : Décomposition QR \n",
    "\n",
    "Une matrice $O$ est dite _orthogonale_ si $O.O^T = O^T.O = I_n$.\n",
    "\n",
    "On va utiliser ces matrices pour obtenir d'un coup toutes les valeurs propres d'une matrice\n",
    "\n",
    "### 1) Orthonormalisation de Gram-Schmidt"
   ]
  },
  {
   "cell_type": "markdown",
   "metadata": {},
   "source": [
    "Soit $(v_1, ..., v_p)$ une famille de vecteurs linéairement indépendants de $\\mathbb{R}^n$. \n",
    "On rappelle que l’algorithme de Gram-Schmidt consiste à construire une famille orthonormale $(e_1, ..., e_p)$ telle que que $\\mathrm{Vect}(e_1, \\ldots, e_p) = \\mathrm{Vect}(v_1, ..., v_p)$, de la façon suivante :\n",
    "\\begin{align*}\n",
    "u_1 = v_1,& \\hspace{1em} \\text{et}\\hspace{1em} e_1 = \\frac{u_1}{\\Vert u_1 \\Vert}\n",
    "\\\\\n",
    "u_k = v_k - \\sum_{i = 1}^{k-1} \\langle v_k , e_i \\rangle e_i,&\n",
    "\\hspace{1em} \\text{et}\\hspace{1em} e_k = \\frac{u_k}{\\Vert u_k \\Vert}, \\forall k \\in \\{2,\\ldots,p\\}\n",
    "\\end{align*}\n",
    "\n",
    "\n",
    "Pour $A \\in GL_n(\\mathbb{R})$ (groupe linéaire), la famille de vecteurs donnée par les colonnes de $A$ est une base de $\\mathbb{R}^n$. On peut donc lui appliquer le procédé d’orthonormalisation de Gram-Schmidt pour obtenir une base orthonormée, dont les vecteurs forment une matrice $Q \\in O_n(\\mathbb{R})$.\n",
    "\n",
    "Les opérations d’orthonormalisation se résument en une matrice triangulaire supérieure $S$ avec des coefficients strictement positifs sur la diagonale, telle que $AS = Q$. On a donc $A = QR$, avec $R = S^{-1}$, également triangulaire supérieure avec des coefficients diagonaux strictement positifs : c’est la décomposition $QR$.\n",
    "\n",
    "> __Question 10 (Gram-Schmidt)__ : Écrire une fonction `ortho(A)` prenant en entrée une matrice inversible $A$ et renvoyant la matrice $Q$ orthogonale, obtenue par orthonormalisation de Schmidt des colonnes de $A$. On pourra utiliser `np.copy` pour faire une copie de $A$. La fonction `ps` renvoie le produit scalaire de deux vecteurs. \n",
    "\n",
    "\n"
   ]
  },
  {
   "cell_type": "code",
   "execution_count": 28,
   "metadata": {},
   "outputs": [
    {
     "name": "stdout",
     "output_type": "stream",
     "text": [
      "[[ 0.70710678  0.70710678]\n",
      " [ 0.70710678 -0.70710678]]\n"
     ]
    }
   ],
   "source": [
    "def ps(v,w):\n",
    "    return np.sum(v*w)\n",
    "    \n",
    "#A[:,i] renvoie la ième colonne de A\n",
    "def ortho(A):\n",
    "    \n",
    "    return #todo\n",
    "A = np.array([[1,6],[1,2]])\n",
    "print(ortho(A))\n"
   ]
  },
  {
   "cell_type": "markdown",
   "metadata": {},
   "source": [
    "> __Question 11 (Décomposition QR)__ : $Q$ est la matrice orthogonale de A et $R = Q^\\top A$. En déduire une fonction `factorQR(A)` renvoyant la décomposition $QR$ de $A$ sous la forme d’un couple de matrices $(Q,R)$."
   ]
  },
  {
   "cell_type": "code",
   "execution_count": 29,
   "metadata": {},
   "outputs": [
    {
     "ename": "SyntaxError",
     "evalue": "invalid syntax (1638541036.py, line 2)",
     "output_type": "error",
     "traceback": [
      "\u001b[1;36m  Cell \u001b[1;32mIn[29], line 2\u001b[1;36m\u001b[0m\n\u001b[1;33m    Q = #todo\u001b[0m\n\u001b[1;37m        ^\u001b[0m\n\u001b[1;31mSyntaxError\u001b[0m\u001b[1;31m:\u001b[0m invalid syntax\n"
     ]
    }
   ],
   "source": [
    "def factorQR(A):\n",
    "    Q = #todo\n",
    "    R = #todo\n",
    "    return Q,R\n",
    "\n",
    "# Tests\n",
    "\n",
    "Ar =np.random.random((3,3)) \n",
    "Q,R = factorQR(A)\n",
    "print(Q)\n",
    "print(Q@Q.T) # matrice ident\n",
    "print(Q.T@Q) # matrice ident\n",
    "print(R)\n",
    "print(A-Q@R) #doit être matrice nulle"
   ]
  },
  {
   "cell_type": "markdown",
   "metadata": {},
   "source": [
    "## 2) Méthode QR pour l'approximation de valeurs propres\n",
    "\n",
    "Soit $A \\in \\mathcal{M}_{n,n}(\\mathbb{R})$ une matrice diagonaliable. On cherche à approcher numériquement ses éléments propres (vecteurs et valeurs propres). Pour cela, on peut utiliser itérativement la décomposition $QR$ : la méthode, dont le pseudocode est décrit ci-après, s'appelle la **méthode $QR$**.\n",
    "\n",
    "\n",
    ">$A_1 = A$\n",
    ">>**For** $t\\in\\{1,\\ldots,T\\}$\\\n",
    ">>$~~$ Calculer la décomposition $QR$ de $A_t$ :  $A_t = Q_t R_t$\\\n",
    ">>$~~$ $A_{t+1} = R_t Q_t$\n",
    "\n",
    "Une propriété importante est que $A_t$ a les même valeurs propres que $A$. Donc, si $A_t$ prend une forme pour laquelle les valeurs propres sont facilement accessibles, on aura déterminé celles de $A$.\n",
    "\n",
    "Ainsi, les éléments diagonaux de $A_t$ convergeront vers les valeurs propres de A.\n",
    "\n",
    "> __Question 12 (Méthode QR)__ :  Écrire une fonction `methodeQR(A,T)` renvoyant la matrice $A_{T+1}$ et le produit $Q_1 \\cdots Q_{T+1}$. Vérifier le résultat sur la matrice A données."
   ]
  },
  {
   "cell_type": "code",
   "execution_count": 30,
   "metadata": {},
   "outputs": [
    {
     "ename": "NameError",
     "evalue": "name 'A_t' is not defined",
     "output_type": "error",
     "traceback": [
      "\u001b[1;31m---------------------------------------------------------------------------\u001b[0m",
      "\u001b[1;31mNameError\u001b[0m                                 Traceback (most recent call last)",
      "Cell \u001b[1;32mIn[30], line 6\u001b[0m\n\u001b[0;32m      3\u001b[0m     \u001b[38;5;28;01mreturn\u001b[39;00m A_t,Q_out\n\u001b[0;32m      5\u001b[0m A \u001b[38;5;241m=\u001b[39m np\u001b[38;5;241m.\u001b[39marray([[\u001b[38;5;241m1\u001b[39m,\u001b[38;5;241m6\u001b[39m],[\u001b[38;5;241m1\u001b[39m,\u001b[38;5;241m2\u001b[39m]])\n\u001b[1;32m----> 6\u001b[0m \u001b[38;5;28mprint\u001b[39m(\u001b[43mmethodeQR\u001b[49m\u001b[43m(\u001b[49m\u001b[43mA\u001b[49m\u001b[43m,\u001b[49m\u001b[38;5;241;43m10\u001b[39;49m\u001b[43m)\u001b[49m) \u001b[38;5;66;03m# Les éléments diagonaux doivent être proches de 4 et -1\u001b[39;00m\n",
      "Cell \u001b[1;32mIn[30], line 3\u001b[0m, in \u001b[0;36mmethodeQR\u001b[1;34m(A, T)\u001b[0m\n\u001b[0;32m      1\u001b[0m \u001b[38;5;28;01mdef\u001b[39;00m \u001b[38;5;21mmethodeQR\u001b[39m(A,T):\n\u001b[0;32m      2\u001b[0m     \u001b[38;5;66;03m#todo\u001b[39;00m\n\u001b[1;32m----> 3\u001b[0m     \u001b[38;5;28;01mreturn\u001b[39;00m \u001b[43mA_t\u001b[49m,Q_out\n",
      "\u001b[1;31mNameError\u001b[0m: name 'A_t' is not defined"
     ]
    }
   ],
   "source": [
    "def methodeQR(A,T):\n",
    "    #todo\n",
    "    return A_t,Q_out\n",
    "\n",
    "A = np.array([[1,6],[1,2]])\n",
    "print(methodeQR(A,10)) # Les éléments diagonaux doivent être proches de 4 et -1"
   ]
  },
  {
   "cell_type": "markdown",
   "metadata": {},
   "source": [
    "la **méthode $QR$** définie plus haut converge, au sens où\n",
    "\\begin{align*}\n",
    "\\lim_{t \\to \\infty}(A_t)_{i,i} = \\lambda_i.\n",
    "\\end{align*}\n",
    "De plus la matrice $A_t$ converge vers l'ensemble des matrices triangulaires supérieures :\n",
    "$$\n",
    "\\lim_{t \\to \\infty} (A_t)_{i,j} = 0, \\hspace{.5em}\\text{pour tout } i > j.\n",
    "$$"
   ]
  },
  {
   "cell_type": "code",
   "execution_count": 31,
   "metadata": {},
   "outputs": [],
   "source": [
    "def track_methodeQR(A,T):\n",
    "    n = len(A)\n",
    "    diag_val = []\n",
    "    max_hors_diag = []\n",
    "    A_temp = np.copy(A*1.)\n",
    "    Q_out = np.eye(n)\n",
    "    for t in range(T):\n",
    "        diag_val += [[A_temp[i,i] for i in range(n)]]\n",
    "        max_hors_diag += [np.max(abs(np.tril(A_temp,-1)))]\n",
    "        Q,R = factorQR(A_temp)\n",
    "        Q_out = Q_out@Q\n",
    "        A_temp = R@Q\n",
    "    return np.array(diag_val),max_hors_diag"
   ]
  },
  {
   "cell_type": "code",
   "execution_count": 32,
   "metadata": {},
   "outputs": [
    {
     "ename": "NameError",
     "evalue": "name 'factorQR' is not defined",
     "output_type": "error",
     "traceback": [
      "\u001b[1;31m---------------------------------------------------------------------------\u001b[0m",
      "\u001b[1;31mNameError\u001b[0m                                 Traceback (most recent call last)",
      "Cell \u001b[1;32mIn[32], line 4\u001b[0m\n\u001b[0;32m      2\u001b[0m n \u001b[38;5;241m=\u001b[39m \u001b[38;5;241m5\u001b[39m\n\u001b[0;32m      3\u001b[0m A \u001b[38;5;241m=\u001b[39m np\u001b[38;5;241m.\u001b[39mrandom\u001b[38;5;241m.\u001b[39mrand(n,n)\n\u001b[1;32m----> 4\u001b[0m diag_val,max_hors_diag \u001b[38;5;241m=\u001b[39m \u001b[43mtrack_methodeQR\u001b[49m\u001b[43m(\u001b[49m\u001b[43mA\u001b[49m\u001b[43m,\u001b[49m\u001b[43mT\u001b[49m\u001b[43m)\u001b[49m\n\u001b[0;32m      5\u001b[0m \u001b[38;5;66;03m# Décroissance des coefficients de A_t en dessous de la diagonale\u001b[39;00m\n\u001b[0;32m      6\u001b[0m plt\u001b[38;5;241m.\u001b[39mplot(\u001b[38;5;28mrange\u001b[39m(T),max_hors_diag)\n",
      "Cell \u001b[1;32mIn[31], line 10\u001b[0m, in \u001b[0;36mtrack_methodeQR\u001b[1;34m(A, T)\u001b[0m\n\u001b[0;32m      8\u001b[0m diag_val \u001b[38;5;241m+\u001b[39m\u001b[38;5;241m=\u001b[39m [[A_temp[i,i] \u001b[38;5;28;01mfor\u001b[39;00m i \u001b[38;5;129;01min\u001b[39;00m \u001b[38;5;28mrange\u001b[39m(n)]]\n\u001b[0;32m      9\u001b[0m max_hors_diag \u001b[38;5;241m+\u001b[39m\u001b[38;5;241m=\u001b[39m [np\u001b[38;5;241m.\u001b[39mmax(\u001b[38;5;28mabs\u001b[39m(np\u001b[38;5;241m.\u001b[39mtril(A_temp,\u001b[38;5;241m-\u001b[39m\u001b[38;5;241m1\u001b[39m)))]\n\u001b[1;32m---> 10\u001b[0m Q,R \u001b[38;5;241m=\u001b[39m \u001b[43mfactorQR\u001b[49m(A_temp)\n\u001b[0;32m     11\u001b[0m Q_out \u001b[38;5;241m=\u001b[39m Q_out\u001b[38;5;129m@Q\u001b[39m\n\u001b[0;32m     12\u001b[0m A_temp \u001b[38;5;241m=\u001b[39m R\u001b[38;5;129m@Q\u001b[39m\n",
      "\u001b[1;31mNameError\u001b[0m: name 'factorQR' is not defined"
     ]
    }
   ],
   "source": [
    "T = 10\n",
    "n = 5\n",
    "A = np.random.rand(n,n)\n",
    "diag_val,max_hors_diag = track_methodeQR(A,T)\n",
    "# Décroissance des coefficients de A_t en dessous de la diagonale\n",
    "plt.plot(range(T),max_hors_diag)\n",
    "plt.yscale('log')\n",
    "plt.show()\n",
    "# Comparaison des coefficients diagonaux avec les valeurs propres\n",
    "val_propres = la.eigvals(A)\n",
    "for i in range(len(val_propres)):\n",
    "    plt.axhline(val_propres[i], color='r', linestyle='--')\n",
    "    plt.plot(range(T),diag_val[:,i], color='b')\n",
    "plt.legend(['la.eigvals','Méthode QR'])"
   ]
  }
 ],
 "metadata": {
  "kernelspec": {
   "display_name": "Python 3 (ipykernel)",
   "language": "python",
   "name": "python3"
  },
  "language_info": {
   "codemirror_mode": {
    "name": "ipython",
    "version": 3
   },
   "file_extension": ".py",
   "mimetype": "text/x-python",
   "name": "python",
   "nbconvert_exporter": "python",
   "pygments_lexer": "ipython3",
   "version": "3.12.1"
  }
 },
 "nbformat": 4,
 "nbformat_minor": 4
}
