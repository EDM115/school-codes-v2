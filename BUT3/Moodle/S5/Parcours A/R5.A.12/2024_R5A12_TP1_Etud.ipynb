{
 "cells": [
  {
   "cell_type": "code",
   "execution_count": 1,
   "id": "39e18c36",
   "metadata": {},
   "outputs": [],
   "source": [
    "import random\n",
    "import matplotlib.pyplot as plt\n",
    "import numpy as np"
   ]
  },
  {
   "cell_type": "markdown",
   "id": "65fbf600",
   "metadata": {},
   "source": [
    "# <center> TP1 - Mariage stable </center>\n",
    "<center> 2024/2025 - T. Godin, L. Naert </center>\n",
    "<center> IUT de Vannes, BUT Informatique </center>"
   ]
  },
  {
   "cell_type": "markdown",
   "id": "e4b0bb48",
   "metadata": {},
   "source": [
    "## Généralités\n",
    "Le problème des mariages stables consiste à trouver une façon stable de mettre en couple les éléments d'une population 1 ($P_1$) avec les éléments d'une population 2 ($P_2$) sachant que chaque élément de $P_1$ et de $P_2$ fournit une liste de ses préférences pour le couplage. \n",
    "\n",
    "L'exemple classique est l'affectation d'étudiants dans une formation après le bac (problème de ParcoursSup). Les étudiants font un classement des formations post-bac, les formations font un classement des étudiants et l'on cherche des mariages stables. \n",
    "\n",
    "Une situation est dite instable s'il y a au moins un étudiant et une formation post-bac qui préféreraient se mettre en couple plutôt que de rester avec leurs \"partenaires\" actuels. \n",
    "\n",
    "__Par exemple__ : `Jean-Pierre` est affecté à l'IUT de _Lannion_ et `Robert` à l'IUT de _Vannes_ alors que `Jean-Pierre` préfère l'IUT de _Vannes_ à l'IUT de _Lannion_ et l'IUT de _Vannes_ préfère `Jean-Pierre` à `Robert`. \n",
    "\n",
    "Durant ce TP, vous implémenterez l'algorithme de Gale–Shapley qui permet de trouver une solution stable au problème des mariages. Vous appliquerez cet algorithme au problème des affectations d'étudiants dans des formations. \n",
    "\n",
    "Le code ci-dessous donne des exemples de listes de préférence stockée dans des dictionnaires: "
   ]
  },
  {
   "cell_type": "code",
   "execution_count": 102,
   "id": "6d84b3ff",
   "metadata": {},
   "outputs": [
    {
     "name": "stdout",
     "output_type": "stream",
     "text": [
      "Nombre d'étudiants :  5\n",
      "Nombre de formations :  5\n"
     ]
    }
   ],
   "source": [
    "etudiantPref = {0:[4, 1, 2, 0, 3], 1:[2, 3, 0, 1, 4], 2:[4, 0, 1, 2, 3], 3:[3, 1, 4, 0, 2], 4:[3, 4, 1, 2, 0]}\n",
    "print(\"Nombre d'étudiants : \", len(etudiantPref))\n",
    "\n",
    "formationPref = {1:[3, 4, 0, 2, 1], 2:[1, 3, 0, 4, 2], 3:[1, 4, 3, 2, 0], 0:[2, 1, 0, 3, 4], 4:[3, 1, 4, 2, 0]}\n",
    "print(\"Nombre de formations : \", len(formationPref))"
   ]
  },
  {
   "cell_type": "markdown",
   "id": "e1256785",
   "metadata": {},
   "source": [
    "<tt>etudiantPref</tt> liste les préférences de chaque étudiant.\n",
    "\n",
    "<tt>formationPref</tt> liste les préférences de chaque formation.\n",
    "\n",
    "L'étudiant n°0 préfère la formation n°4, puis la n°1, la n°2, la n°0 et enfin, la n°3. \n",
    "\n",
    "L'étudiant n°1 préfère la formation n°2, puis la n°3, la n°0, la n°1 et enfin, la n°4. \n",
    "etc.\n",
    "\n",
    "Idem pour les formations.\n",
    "La formation n° 0 préfère l'étudiant n°2, puis le n°1, le n°0, le n°3 et enfin, le n°4. \n",
    "etc.\n",
    "\n",
    "\n",
    "__Pour chacune des questions avec un <tt>try/assert</tt>, nous vous demandons de rajouter des cas de test pertinents.__"
   ]
  },
  {
   "cell_type": "markdown",
   "id": "eb91091a-c2f4-41b6-9c24-b26af20550f1",
   "metadata": {},
   "source": [
    "Quelques fonctions utiles pour utiliser un dictionnaire : "
   ]
  },
  {
   "cell_type": "code",
   "execution_count": 103,
   "id": "b2ee851c-3d92-4da4-b6a9-17f0df10b4d5",
   "metadata": {},
   "outputs": [
    {
     "name": "stdout",
     "output_type": "stream",
     "text": [
      "Valeur associé à la clef 3 :  5\n",
      "Liste des clefs :  [6, 3, 0, 2, 5]\n",
      "Liste des valeurs :  [18, 5, 24, 18, 25]\n",
      "Clef associée à la valeur 18 :  6\n",
      "Clef associée à la valeur 25 :  5\n",
      "Clef associée à la valeur 24 :  0\n"
     ]
    }
   ],
   "source": [
    "#Exemple de dictionnaire simple\n",
    "dico = {6:18, 3:5, 0:24, 2:18, 5:25}\n",
    "\n",
    "# Pour avoir la valeur associé à une certaine clef (ici, clef = 3) :\n",
    "print(\"Valeur associé à la clef 3 : \", dico[3])\n",
    "\n",
    "# Pour avoir la liste des clefs :\n",
    "print(\"Liste des clefs : \", list(dico.keys()))\n",
    "\n",
    "# Pour avoir la liste des valeurs :\n",
    "print(\"Liste des valeurs : \", list(dico.values()))\n",
    "\n",
    "# Pour avoir la clef associée à la première occurence d'une certaine valeur\n",
    "print(\"Clef associée à la valeur 18 : \", list(dico.keys())[list(dico.values()).index(18)])\n",
    "print(\"Clef associée à la valeur 25 : \", list(dico.keys())[list(dico.values()).index(25)])\n",
    "print(\"Clef associée à la valeur 24 : \", list(dico.keys())[list(dico.values()).index(24)])"
   ]
  },
  {
   "cell_type": "markdown",
   "id": "9e8e55ea",
   "metadata": {},
   "source": [
    "> __Question 1 (mise en place)__ : \n",
    "Ecrire un bout de code pour afficher la liste des préférences de l'étudiant n°2, la liste des préférences de la formation n°0, la formation préféré de l'étudiant n°3 et le numéro de la formation dont la liste de préférence est \\[1, 4, 3, 2, 0\\]"
   ]
  },
  {
   "cell_type": "code",
   "execution_count": 2,
   "id": "d460fd06",
   "metadata": {},
   "outputs": [],
   "source": [
    "etudiantPref = {0:[4, 1, 2, 0, 3], 1:[2, 3, 0, 1, 4], 2:[4, 0, 1, 2, 3], 3:[3, 1, 4, 0, 2], 4:[3, 4, 1, 2, 0]}\n",
    "formationPref = {1:[3, 4, 0, 2, 1], 2:[1, 3, 0, 4, 2], 3:[1, 4, 3, 2, 0], 0:[2, 1, 0, 3, 4], 4:[3, 1, 4, 2, 0]}\n",
    "\n",
    "#Todo"
   ]
  },
  {
   "cell_type": "markdown",
   "id": "9e6b6e52",
   "metadata": {},
   "source": [
    "> __Question 2 (préférence)__ : Ecrire une fonction `prefer(pref,c1,c2)` qui renvoie `True` si `c1` est préféré à `c2` d'après la liste des préférence `pref`."
   ]
  },
  {
   "cell_type": "code",
   "execution_count": 3,
   "id": "14d2541b",
   "metadata": {},
   "outputs": [
    {
     "name": "stdout",
     "output_type": "stream",
     "text": [
      "prefer : ERREUR\n"
     ]
    }
   ],
   "source": [
    "def prefer(pref,c1,c2):\n",
    "    \"\"\"\n",
    "    renvoie True si c1 est préféré à c2 d'après la liste des préférence pref.\n",
    "\n",
    "\n",
    "   :param array pref: la liste de préférences\n",
    "   :param int c1: premier individu\n",
    "   :param int c1: deuxième individu   \n",
    "   :return: True si c1 est préféré à c2, False si c2 est préféré à c1 ou si c1 n'est pas dans la liste\n",
    "   :rtype: bool\n",
    "    \"\"\"\n",
    "\n",
    "    \n",
    "    return \"Todo\"\n",
    "    \n",
    "        \n",
    "try:\n",
    "    etudiantPref = {0:[4, 1, 2, 0, 3], 1:[2, 3, 0, 1, 4], 2:[4, 0, 1, 2, 3], 3:[3, 1, 4, 0, 2], 4:[3, 4, 1, 2, 0]}\n",
    "    formationPref = {1:[3, 4, 0, 2, 1], 2:[1, 3, 0, 4, 2], 3:[1, 4, 3, 2, 0], 0:[2, 1, 0, 3, 4], 4:[3, 1, 4, 2, 0]}\n",
    "    assert prefer(etudiantPref[0],0,1) == False\n",
    "    assert prefer(etudiantPref[1],0,1) == True\n",
    "    assert prefer(etudiantPref[2],0,1) == True\n",
    "    assert prefer(etudiantPref[3],0,1) == False\n",
    "    assert prefer(etudiantPref[4],0,1) == False\n",
    "    print(\"prefer : OK\")\n",
    "except:\n",
    "    print(\"prefer : ERREUR\")"
   ]
  },
  {
   "cell_type": "markdown",
   "id": "1532d1af",
   "metadata": {},
   "source": [
    "Un mariage est également un dictionnaire où les couples (clef, valeur) représente un mariage entre un individu de $P_1$ (clef) et un individu de $P_2$ (valeur). Un exemple est donné ci-dessous : "
   ]
  },
  {
   "cell_type": "code",
   "execution_count": 4,
   "id": "1d294320-93b7-4bf0-acf2-5c9d44b364a7",
   "metadata": {},
   "outputs": [],
   "source": [
    "mariage = {0:0, 2:4, 4:-1, 3:1, 1:2}"
   ]
  },
  {
   "cell_type": "markdown",
   "id": "e426ff4c-fc62-48d4-bd09-0e57a4765d2c",
   "metadata": {},
   "source": [
    "Si l'on considère que $P_1$ rassemble les étudiants et $P_2$ les formations. On voit par exemple que l'étudiant 2 est marié à la formation 4 et l'étudiant 4 n'est pas marié (associé à la valeur $-1$)."
   ]
  },
  {
   "cell_type": "markdown",
   "id": "4b551dea",
   "metadata": {},
   "source": [
    "> __Question 3 (mariage)__ : Ecrire une fonction `marriedTo(marriage, e, isP1)` qui renvoie l'identifiant du partenaire de <tt>e</tt> d'après la liste de mariages <tt>marriage</tt>, et -1 s'il n'est pas marié. Attention : <tt>e</tt> appartient à $P_1$ si <tt>isP1</tt> est à <tt>True</tt> et à $P_2$ sinon. "
   ]
  },
  {
   "cell_type": "code",
   "execution_count": 5,
   "id": "d0fa550e",
   "metadata": {},
   "outputs": [
    {
     "name": "stdout",
     "output_type": "stream",
     "text": [
      "marriedTo : ERREUR\n"
     ]
    }
   ],
   "source": [
    "def marriedTo(marriage,e,isP1):\n",
    "    \"\"\"\n",
    "    renvoie l'identifiant du partenaire de e d'après le dictionnaire des mariages marriage,\n",
    "    et -1 s'il n'est pas marié\n",
    "\n",
    "   :param dictionnary marriage: la liste des mariages actuels\n",
    "   :param int e: élément de P1 ou de P2\n",
    "   :param bool isP1: permet de connaitre le rôle de e (P1 ou P2)\n",
    "   :return: l'identifiant du partenaire de e d'après marriage\n",
    "   :rtype: int\n",
    "    \"\"\"\n",
    "    return \"Todo\"\n",
    "\n",
    "        \n",
    "try:\n",
    "    mariage = {0:0, 2:4, 4:-1, 3:1, 1:2}\n",
    "    assert marriedTo(mariage, 1, True) == 2\n",
    "    assert marriedTo(mariage, 1, False) == 3\n",
    "    assert marriedTo(mariage, 4, True) == -1\n",
    "    assert marriedTo(mariage, 4, False) == 2\n",
    "    assert marriedTo(mariage, 3, True) == 1\n",
    "    assert marriedTo(mariage, 3, False) == -1\n",
    "    print(\"marriedTo : OK\")\n",
    "except:\n",
    "    print(\"marriedTo : ERREUR\")"
   ]
  },
  {
   "cell_type": "markdown",
   "id": "7184bd80",
   "metadata": {},
   "source": [
    "## Algorithme de Gale-Shapley\n",
    "\n",
    "L'algorithme de Gale-Shapley permet de donner une solution au problème des mariages stables. Il fonctionne de manière itérative jusqu'à ce que chacun ait un partenaire.\n",
    "\n",
    "Au départ, les étudiants (i.e. éléments de $P_1$) et les formations (i.e. éléments de $P_2$) ne sont pas appariés.\n",
    "\n",
    "Pour chaque étudiant non \"marié\" : \n",
    "\n",
    "- l'étudiant propose le \"mariage\" à la formation en haut de sa liste (indice = 0) : \n",
    "\n",
    "    - Si la formation est \"célibataire\", elle accepte le mariage.\n",
    "    - Si la formation est \"mariée\" : \n",
    "        - Si le couple précédent est instable, elle accepte le nouveau mariage\n",
    "        - sinon l'étudiant demande à la formation suivante (indice = indice + 1)\n"
   ]
  },
  {
   "cell_type": "markdown",
   "id": "8d0ce541",
   "metadata": {},
   "source": [
    "> __Question 4 (Gale-Shapley)__ : Ecrire une fonction `galeShapley(p1Pref,p2Pref):` qui renvoie une proposition de mariage suivant l'agorithme de Gale-Shapley en fonction des disctionnaires de préférences de $P_1$ (i.e etudiantPref) et de $P_2$ (i.e formationPref)."
   ]
  },
  {
   "cell_type": "code",
   "execution_count": 10,
   "id": "b366e986",
   "metadata": {},
   "outputs": [
    {
     "name": "stdout",
     "output_type": "stream",
     "text": [
      "galeShapley : ERREUR\n"
     ]
    }
   ],
   "source": [
    "def galeShapley(p1Pref,p2Pref):\n",
    "    \"\"\"\n",
    "    renvoie un dictionnaire de mariages stables\n",
    "    \n",
    "    \n",
    "   :param dictionnaire p1Pref: le dictionnaire des préférences des individus de P1\n",
    "   :param dictionnaire p2Pref: le dictionnaire des préférences des individus de P2\n",
    "   :return: dictionnaire de mariages stables\n",
    "   :rtype: dictionnaire\n",
    "    \"\"\" \n",
    "    \n",
    "    return \"Todo\"\n",
    "\n",
    "try:\n",
    "    e1Pref = {0:[4, 1, 2, 0, 3], 1:[2, 3, 0, 1, 4], 2:[4, 0, 1, 2, 3], 3:[3, 1, 4, 0, 2], 4:[3, 4, 1, 2, 0]}\n",
    "    f1Pref = {1:[3, 4, 0, 2, 1], 2:[1, 3, 0, 4, 2], 3:[1, 4, 3, 2, 0], 0:[2, 1, 0, 3, 4], 4:[3, 1, 4, 2, 0]}\n",
    "    assert galeShapley(e1Pref, f1Pref) == {0: 0, 1: 2, 2: 4, 3: 1, 4: 3}\n",
    "    e2Pref={0:[0,1,2],1:[0,2,1],2:[2,0,1]}\n",
    "    f2Pref={0:[1,2,0],1:[0,2,1],2:[1,2,0]}\n",
    "    assert galeShapley(e2Pref, f2Pref) == {0: 1, 1: 0, 2: 2}\n",
    "    print(\"galeShapley : OK\")\n",
    "except:\n",
    "    print(\"galeShapley : ERREUR\")\n"
   ]
  },
  {
   "cell_type": "markdown",
   "id": "40a58702",
   "metadata": {},
   "source": [
    "## Analyse\n",
    "\n",
    "Pour étudier les mariages obtenus, nous avons besoin d'utiliser l'algorithme sur plusieurs exemples. "
   ]
  },
  {
   "cell_type": "markdown",
   "id": "1538ee1f",
   "metadata": {},
   "source": [
    "> __Question 5 (Préférences aléatoires)__ : \n",
    "Ecrire une fonction `dicoPrefGenerator(n)` qui renvoie un dictionnaire de <tt>n</tt> listes de préférences contenant des nombres aléatoires de 0 à n-1 (sans doublons dans une même liste). \n",
    "\n",
    "Par exemple : `dicoPrefGenerator(5)` pourrait renvoyer `{0: [0, 3, 2, 4, 1], 1: [1, 0, 3, 4, 2], 2: [4, 0, 2, 3, 1], 3: [2, 0, 3, 1, 4], 4: [3, 0, 4, 1, 2]}`"
   ]
  },
  {
   "cell_type": "code",
   "execution_count": 9,
   "id": "5e3720a4",
   "metadata": {},
   "outputs": [
    {
     "name": "stdout",
     "output_type": "stream",
     "text": [
      "Exemple de dico aléatoire :  Todo\n"
     ]
    }
   ],
   "source": [
    "def dicoPrefGenerator(n):\n",
    "    # Générer une liste de tous les entiers de 0 à n-1\n",
    "    return \"Todo\"\n",
    "\n",
    "print(\"Exemple de dico aléatoire : \", dicoPrefGenerator(7))"
   ]
  },
  {
   "cell_type": "markdown",
   "id": "30d1ffc4",
   "metadata": {},
   "source": [
    "> __Question 6 (compléxité moyenne)__ : Quelle est la complexité en pire cas ? Tracer la complexité en pratique sur des instances aléatoires de tailles différentes. De quelle complexité théorique se rapproche t'elle ? N'hésitez pas à rajouter un compteur d'opérations sur votre fonction `galeShapley`"
   ]
  },
  {
   "cell_type": "markdown",
   "id": "72f70133",
   "metadata": {},
   "source": [
    "Todo réponse"
   ]
  },
  {
   "cell_type": "code",
   "execution_count": 109,
   "id": "742972d2",
   "metadata": {},
   "outputs": [],
   "source": [
    "#Todo code"
   ]
  },
  {
   "cell_type": "markdown",
   "id": "cce318b3",
   "metadata": {},
   "source": [
    "On appelle \"regret\" de l'individu $i$ la position du partenaire après mariage dans la liste des préférence de $i$.\n",
    "Par exemple, si la liste de préférence de notre individu est <tt>[0, 3, 2, 1, 4]</tt> et qu'il est marié avec 3, son regret est de 1. Par contre, s'il est marié avec 4, son regret est de 4. \n",
    "Plus le regret de $i$ est faible, plus le mariage est réussi pour $i$. Evidemment, le regret du partenaire est également à prendre en compte pour connaitre la réussite (absolue) du mariage ! \n",
    "\n",
    "> __Question 7 (Regret)__ : Ecrire une fonction `regret(mariage, e, p1Pref, p2Pref, isP1)` qui donne le regret de <tt>e</tt> étant donné le <tt>mariage</tt> et les listes de préférence. Attention, <tt>e</tt> appartient à $P_1$ si <tt>isP1</tt> est à <tt>True</tt> et à $P_2$ sinon. "
   ]
  },
  {
   "cell_type": "code",
   "execution_count": 11,
   "id": "456bd111",
   "metadata": {},
   "outputs": [
    {
     "name": "stdout",
     "output_type": "stream",
     "text": [
      "regret : ERREUR\n"
     ]
    }
   ],
   "source": [
    "def regret(mariage, e, p1Pref, p2Pref, isP1):\n",
    "    \"\"\"\n",
    "    renvoie le regret de e\n",
    "    \n",
    "    \n",
    "   :param int e indice d'un etudiant ou d'une université\n",
    "   :param array mariage résultat d'un mariage\n",
    "   :param dictionnaire p1Pref: le dictionnaire des préférences des individus de P1\n",
    "   :param dictionnaire p2Pref: le dictionnaire des préférences des individus de P2\n",
    "   :param bool isP1: permet de connaitre la population d'appartenance de e\n",
    "   \n",
    "   :return: regret\n",
    "   :rtype: int\n",
    "    \"\"\"  \n",
    "    return \"todo\"\n",
    "\n",
    "try:\n",
    "    e1Pref = {0:[4, 1, 2, 0, 3], 1:[2, 3, 0, 1, 4], 2:[4, 0, 1, 2, 3], 3:[3, 1, 4, 0, 2], 4:[3, 4, 1, 2, 0]}\n",
    "    f1Pref = {1:[3, 4, 0, 2, 1], 2:[1, 3, 0, 4, 2], 3:[1, 4, 3, 2, 0], 0:[2, 1, 0, 3, 4], 4:[3, 1, 4, 2, 0]}\n",
    "    mariage =  {0: 0, 1: 2, 2: 4, 3: 1, 4: 3} #Mariage obtenu par galeShapley\n",
    "    assert regret(mariage,0,e1Pref, f1Pref, False ) == 2\n",
    "    assert regret(mariage,4,e1Pref, f1Pref, False ) == 3 #L'universite 4 est avec l'etudiant 2 donc regret de 3\n",
    "    assert regret(mariage,0,e1Pref, f1Pref, True ) == 3\n",
    "    assert regret(mariage,1,e1Pref, f1Pref, True ) == 0\n",
    "    print(\"regret : OK\")\n",
    "except:\n",
    "    print(\"regret : ERREUR\")\n",
    "    "
   ]
  },
  {
   "cell_type": "markdown",
   "id": "abfc978b",
   "metadata": {},
   "source": [
    "> __Question 8 (Regret, suite)__ : Ecrire une fonction `regrets(mariage, p1Pref, p2Pref)` qui renvoie une liste de deux dictionnaire : le première correspond au regrets des éléments de $P_1$ (étudiants) et le second aux regrets des éléments de $P_2$ (formations).\n",
    "Par exemple :  `[{0: 3, 1: 0, 2: 0, 3: 1, 4: 0}, {1: 0, 2: 0, 3: 1, 0: 2, 4: 3}]` signifie que l'étudiant 0 a un regret de 3, l'étudiant 1 un regret de 0 etc. Et idem pour les formations : La formation 1 un regret de 0 etc.\n"
   ]
  },
  {
   "cell_type": "code",
   "execution_count": 12,
   "id": "353480fb",
   "metadata": {},
   "outputs": [
    {
     "name": "stdout",
     "output_type": "stream",
     "text": [
      "regrets : ERREUR\n"
     ]
    }
   ],
   "source": [
    "def regrets(mariage, p1Pref, p2Pref):\n",
    "    \"\"\"\n",
    "    renvoie une liste des regrets des éléments de P1 et des regrets des éléments de P2\n",
    "    \n",
    "   :param dictionnaire mariage résultat d'un mariage\n",
    "   :param dictionnaire p1Pref le dictionnaire des préférences des individus de P1\n",
    "   :param dictionnaire p2Pref le dictionnaire des préférences des individus de P2\n",
    "   \n",
    "   :return: regrets\n",
    "   :rtype: liste de deux dictionnaires : le premier avec les regrets P1 et le deuxième avec les regrets de P2\n",
    "    \"\"\"\n",
    "    \n",
    "    return \"todo\"\n",
    "\n",
    "try:\n",
    "    e1Pref = {0:[4, 1, 2, 0, 3], 1:[2, 3, 0, 1, 4], 2:[4, 0, 1, 2, 3], 3:[3, 1, 4, 0, 2], 4:[3, 4, 1, 2, 0]}\n",
    "    f1Pref = {1:[3, 4, 0, 2, 1], 2:[1, 3, 0, 4, 2], 3:[1, 4, 3, 2, 0], 0:[2, 1, 0, 3, 4], 4:[3, 1, 4, 2, 0]}\n",
    "    mariage =  {0: 0, 1: 2, 2: 4, 3: 1, 4: 3} #Mariage obtenu par galeShapley 2, 1, 2, 2],\n",
    "    assert regrets(mariage, e1Pref, f1Pref) == [{0: 3, 1: 0, 2: 0, 3: 1, 4: 0}, {1: 0, 2: 0, 3: 1, 0: 2, 4: 3}]\n",
    "    print(\"regrets : OK\")\n",
    "except:\n",
    "    print(\"regrets : ERREUR\")"
   ]
  },
  {
   "cell_type": "markdown",
   "id": "7932e13f",
   "metadata": {},
   "source": [
    "> __Question 9 (Indicateurs de regret)__ : Calculer les regrets sur plusieurs exemples, quels indicateurs vous semblent pertinents ? Comment évoluent les regrets avec la tailles des populations ? "
   ]
  },
  {
   "cell_type": "code",
   "execution_count": 13,
   "id": "f66cebc1",
   "metadata": {},
   "outputs": [],
   "source": [
    "#todo"
   ]
  },
  {
   "cell_type": "markdown",
   "id": "a85ec18b",
   "metadata": {},
   "source": [
    "> __Question 10 (Conclusion)__ : Qu'en concluez vous ? "
   ]
  },
  {
   "cell_type": "markdown",
   "id": "33d777ab",
   "metadata": {},
   "source": [
    "Todo réponse"
   ]
  }
 ],
 "metadata": {
  "kernelspec": {
   "display_name": "Python 3 (ipykernel)",
   "language": "python",
   "name": "python3"
  },
  "language_info": {
   "codemirror_mode": {
    "name": "ipython",
    "version": 3
   },
   "file_extension": ".py",
   "mimetype": "text/x-python",
   "name": "python",
   "nbconvert_exporter": "python",
   "pygments_lexer": "ipython3",
   "version": "3.12.1"
  }
 },
 "nbformat": 4,
 "nbformat_minor": 5
}
