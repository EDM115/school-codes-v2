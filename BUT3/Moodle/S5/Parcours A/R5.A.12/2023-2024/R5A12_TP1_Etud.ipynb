{
 "cells": [
  {
   "cell_type": "code",
   "execution_count": 7,
   "id": "4335e97c",
   "metadata": {},
   "outputs": [],
   "source": [
    "import random\n",
    "import matplotlib.pyplot as plt\n",
    "import numpy as np"
   ]
  },
  {
   "cell_type": "markdown",
   "id": "d833ced8",
   "metadata": {},
   "source": [
    "# <center> TP1 - Mariage stable </center>\n",
    "<center> 2023/2024 - T. Godin, L. Naert </center>\n",
    "<center> IUT de Vannes, BUT Informatique </center>"
   ]
  },
  {
   "cell_type": "markdown",
   "id": "1920cf9a",
   "metadata": {},
   "source": [
    "## Généralités (Séance 1)\n",
    "Le problème des mariages stables consiste à trouver une façon stable de mettre en couple les éléments d'une population $P_1$ avec les éléments d'une autre population $P_2$ sachant que chaque élément de $P_1$ et de $P_2$ fournit une liste de ses préférences pour le couplage. \n",
    "\n",
    "L'exemple classique est l'affectation d'étudiants dans une formation après le bac (problème de ParcoursSup). Les étudiants font un classement des formations post-bac, les formations font un classement des étudiants et l'on cherche des mariages stables. \n",
    "\n",
    "Une situation est dite instable s'il y a au moins un étudiant et une formation post-bac qui préféreraient se mettre en couple plutôt que de rester avec leurs \"partenaires\" actuels. \n",
    "\n",
    "__Par exemple__ : `Jean-Pierre` est affecté à l'IUT de _Lannion_ et `Robert` à l'IUT de _Vannes_ alors que `Jean-Pierre` préfère l'IUT de _Vannes_ à l'IUT de _Lannion_ et l'IUT de _Vannes_ préfère `Jean-Pierre` à `Robert`. \n",
    "\n",
    "Durant ce TP, vous implémenterez l'algorithme de Gale–Shapley qui permet de trouver une solution stable au problème des mariages. Vous appliquerez cet algorithme au problème des affectations d'étudiants dans des formations. \n",
    "\n",
    "Le code ci-dessous donne des exemples de listes de préférence : "
   ]
  },
  {
   "cell_type": "code",
   "execution_count": 8,
   "id": "739e6775",
   "metadata": {},
   "outputs": [],
   "source": [
    "etudiantPref=[[1,0,2,4,3],[0,2,1,4,3],[2,0,4,1,3],[2,1,4,3,0],[0,1,2,3,4]]\n",
    "\n",
    "formationPref=[[2,0,4,3,1],[1,0,4,3,2],[4,1,2,3,0],[1,0,4,3,2],[2,1,4,3,0]]"
   ]
  },
  {
   "cell_type": "markdown",
   "id": "39d47a54",
   "metadata": {},
   "source": [
    "<tt>etudiantPref</tt> liste les préférences de chaque étudiant.\n",
    "\n",
    "<tt>formationPref</tt> liste les préférences de chaque formation.\n",
    "\n",
    "Il y a donc 5 étudiants (<tt>len(etudiantPref)</tt>) et 5 formations (<tt>len(formationPref)</tt>)\n",
    "\n",
    "L'étudiant n°0 préfère la formation n°1, puis la n°0, la n°2, la n°4 et enfin, la n°3. \n",
    "\n",
    "L'étudiant n°1 préfère la formation n°0, puis la n°2, la n°1, la n°4 et enfin, la n°3. \n",
    "etc.\n",
    "\n",
    "Idem pour les formations.\n",
    "\n",
    "\n",
    "__Pour chacune des questions avec un <tt>try/assert</tt>, nous vous demandons de rajouter des cas de test pertinents.__"
   ]
  },
  {
   "cell_type": "markdown",
   "id": "121839f0",
   "metadata": {},
   "source": [
    "> __Question 1 (mise en place)__ : \n",
    "Ecrire un bout de code pour afficher la liste des préférences de l'étudiant n°2, la liste des préférences de la formation n°4 et la formation préféré de l'étudiant n°3. "
   ]
  },
  {
   "cell_type": "code",
   "execution_count": null,
   "id": "2dbdffc1",
   "metadata": {},
   "outputs": [],
   "source": []
  },
  {
   "cell_type": "markdown",
   "id": "be1477d4",
   "metadata": {},
   "source": [
    "> __Question 2 (préférence)__ : Ecrire une fonction `prefer(pref,c1,c2)` qui renvoie `True` si `c1` est préféré à `c2` d'après la liste des préférence `pref`."
   ]
  },
  {
   "cell_type": "code",
   "execution_count": 9,
   "id": "bb12194a",
   "metadata": {},
   "outputs": [
    {
     "name": "stdout",
     "output_type": "stream",
     "text": [
      "prefer : ERREUR\n"
     ]
    }
   ],
   "source": [
    "def prefer(pref,c1,c2):\n",
    "    \"\"\"\n",
    "    renvoie True si c1 est préféré à c2 d'après la liste des préférence pref.\n",
    "\n",
    "\n",
    "   :param array pref: la liste de préférences\n",
    "   :param int c1: premier individu\n",
    "   :param int c1: deuxième individu   \n",
    "   :return: True si c1 est préféré à c2\n",
    "   :rtype: bool\n",
    "    \"\"\"\n",
    "    return False\n",
    "        \n",
    "try:\n",
    "    assert prefer(etudiantPref[0],0,1) == False\n",
    "    assert prefer(etudiantPref[1],0,1) == True\n",
    "    assert prefer(etudiantPref[2],0,1) == True\n",
    "    assert prefer(etudiantPref[3],0,1) == False\n",
    "    assert prefer(etudiantPref[4],0,1) == True\n",
    "    print(\"prefer : OK\")\n",
    "except:\n",
    "    print(\"prefer : ERREUR\")"
   ]
  },
  {
   "cell_type": "markdown",
   "id": "4926df46",
   "metadata": {},
   "source": [
    "Un mariage est modélisé par une liste de __formations__. \n",
    "Par exemple, avec la liste des étudiants et la liste des formations définies précédemment, un mariage (partiel) pourrait être : `[1,-1,0,4,3]`. Il désigne les couples (étudiant,formation) suivants : (0,1), (2,0), (3,4), (4,3). L'étudiant 1 et la formation 2 sont encore célibataires."
   ]
  },
  {
   "cell_type": "markdown",
   "id": "b8fa2e80",
   "metadata": {},
   "source": [
    "> __Question 3 (mariage)__ : Ecrire une fonction `marriedTo(marriage, e, isStudent)` qui renvoie l'identifiant du partenaire de <tt>e</tt> d'après la liste de mariages <tt>marriage</tt>, et -1 s'il n'est pas marié. Attention : <tt>e</tt> est un étudiant si <tt>isStudent</tt> est à <tt>True</tt> et une formation sinon. "
   ]
  },
  {
   "cell_type": "code",
   "execution_count": 10,
   "id": "81c9491a",
   "metadata": {},
   "outputs": [
    {
     "name": "stdout",
     "output_type": "stream",
     "text": [
      "marriedTo : ERREUR\n"
     ]
    }
   ],
   "source": [
    "def marriedTo(marriage,e,isStudent):\n",
    "    \"\"\"\n",
    "    renvoie l'identifiant du partenaire de e d'après la liste des mariages marriage,\n",
    "    et -1 s'il n'est pas marié\n",
    "\n",
    "   :param array mariage: la liste des mariages actuels\n",
    "   :param int e: étudiant ou formation\n",
    "   :param bool isStudent: permet de connaitre le rôle de e \n",
    "   :return: l'identifiant du partenaire de e d'après la liste des mariages marriage\n",
    "   :rtype: int\n",
    "    \"\"\"\n",
    "    return -1\n",
    "\n",
    "        \n",
    "try:\n",
    "    mariage = [1,-1,0,4,3]  \n",
    "    assert marriedTo(mariage,0,True) == 1 #L'étudiant 0 est marié à  1\n",
    "    assert marriedTo(mariage,1,True) == -1 #L'étudiant 1 n'est pas marié\n",
    "    assert marriedTo(mariage,0,False) == 2 #La formation 0 est mariée à  2\n",
    "    assert marriedTo(mariage,2,False) == -1 #La formation 0 n'est pas mariée\n",
    "    print(\"marriedTo : OK\")\n",
    "except:\n",
    "    print(\"marriedTo : ERREUR\")"
   ]
  },
  {
   "cell_type": "markdown",
   "id": "cfbeaecf",
   "metadata": {},
   "source": [
    "## Algorithme de Gale-Shapley\n",
    "\n",
    "L'algorithme de Gale-Shapley permet de donner une solution au problème des mariages stables. Il fonctionne de manière itérative jusqu'à ce que chacun ait un partenaire.\n",
    "\n",
    "Au départ, les étudiants et les formations ne sont pas appariés.\n",
    "\n",
    "Pour chaque étudiant non \"marié\" : \n",
    "\n",
    "- l'étudiant propose le \"mariage\" à la formation en haut de sa liste (indice = 0) : \n",
    "\n",
    "    - Si la formation est \"célibataire\", elle accepte le mariage.\n",
    "    - Si la formation est \"mariée\" : \n",
    "        - Si le couple précédent est instable, elle accepte le nouveau mariage\n",
    "        - sinon l'étudiant demande à la formation suivante (indice = indice + 1)\n"
   ]
  },
  {
   "cell_type": "markdown",
   "id": "3ca4c8f9",
   "metadata": {},
   "source": [
    "> __Question 4 (Gale-Shapley)__ : Ecrire une fonction `galeShapley(etudiantPref,formationPref):` qui renvoie une proposition de mariage suivant l'agorithme de Gale-Shapley en fonction des listes de préférences des étudiants et des formations."
   ]
  },
  {
   "cell_type": "code",
   "execution_count": 11,
   "id": "beebc4a0",
   "metadata": {},
   "outputs": [
    {
     "name": "stdout",
     "output_type": "stream",
     "text": [
      "galeShapley : ERREUR\n"
     ]
    }
   ],
   "source": [
    "def galeShapley(etudiantPref,formationPref,complexcount=False):\n",
    "    \"\"\"\n",
    "    renvoie un mariage stable\n",
    "    \n",
    "    \n",
    "   :param array etudiantPref: la liste des préférences des étudiants\n",
    "   :param array formationPref: la liste des préférences des formations\n",
    "   :return: mariage stable\n",
    "   :rtype: array\n",
    "    \"\"\"    \n",
    "    return [0]\n",
    "\n",
    "    \n",
    "try:\n",
    "    assert galeShapley(etudiantPref, formationPref) == [3, 1, 0, 4, 2] \n",
    "    print(\"galeShapley : OK\")\n",
    "except:\n",
    "    print(\"galeShapley : ERREUR\")\n"
   ]
  },
  {
   "cell_type": "markdown",
   "id": "15349149",
   "metadata": {},
   "source": [
    "## Analyse (Séance 2)\n",
    "\n",
    "Pour étudier les mariages obtenus, nous avons besoin d'utiliser l'algorithme sur plusieurs exemples. "
   ]
  },
  {
   "cell_type": "markdown",
   "id": "cdaa8420",
   "metadata": {},
   "source": [
    "> __Question 5 (Préférences aléatoires)__ : \n",
    "Ecrire une fonction `listPrefGenerator(n)` qui renvoie une liste de <tt>n</tt> listes de préférences contenant des nombres aléatoires de 0 à n-1 (sans doublons dans une même liste). \n",
    "\n",
    "Par exemple : `listPrefGenerator(5)` pourrait renvoyer `[[0, 3, 2, 1, 4], [2, 3, 0, 4, 1], [2, 3, 1, 0, 4], [0, 3, 1, 2, 4], [0, 2, 3, 4, 1]]`"
   ]
  },
  {
   "cell_type": "code",
   "execution_count": 12,
   "id": "dd19adeb",
   "metadata": {},
   "outputs": [
    {
     "name": "stdout",
     "output_type": "stream",
     "text": [
      "[0]\n"
     ]
    }
   ],
   "source": [
    "def listPrefGenerator(n):\n",
    "    \"\"\"\n",
    "    renvoie une liste de préférences (liste de liste) générée aléatoirement avec des nombres de 0 à n-1\n",
    "    \n",
    "    \n",
    "   :param n taille de la liste de préférence \n",
    "   :return: liste de préférences\n",
    "   :rtype: array\n",
    "    \"\"\"  \n",
    "    \n",
    "    \n",
    "    return [0]\n",
    "\n",
    "n = 5\n",
    "prefList = listPrefGenerator(n)\n",
    "print(prefList)"
   ]
  },
  {
   "cell_type": "markdown",
   "id": "2b3f4a23",
   "metadata": {},
   "source": [
    "> __Question 6 (compléxité moyenne)__ : Quelle est la complexité en pire cas ? Tracer la complexité en pratique sur des instances aléatoires de tailles différentes. De quelle complexité théorique se rapproche t'elle ? N'hésitez pas à rajouter un compteur d'opérations sur votre fonction `galeShapley`"
   ]
  },
  {
   "cell_type": "markdown",
   "id": "24aac97b",
   "metadata": {},
   "source": [
    "Réponse : "
   ]
  },
  {
   "cell_type": "code",
   "execution_count": null,
   "id": "c8fa538c",
   "metadata": {},
   "outputs": [],
   "source": []
  },
  {
   "cell_type": "markdown",
   "id": "fbf76106",
   "metadata": {},
   "source": [
    "On appelle \"regret\" de l'individu $i$ la position du partenaire après mariage dans la liste des préférence de $i$.\n",
    "Par exemple, si la liste de préférence de notre individu est <tt>[0, 3, 2, 1, 4]</tt> et qu'il est marié avec 3, son regret est de 1. Par contre, s'il est marié avec 4, son regret est de 4. \n",
    "Plus le regret de $i$ est faible, plus le mariage est réussi pour $i$. Evidemment, le regret du partenaire est également à prendre en compte pour connaitre la réussite (absolue) du mariage ! \n",
    "\n",
    "> __Question 7 (Regret)__ : Ecrire une fonction `regret(e, mariage, etudPref, formaPref, isStudent)` qui donne le regret de <tt>e</tt> étant donné le <tt>mariage</tt> et les listes de préférence. Attention, <tt>e</tt> est un étudiant si <tt>isStudent</tt> est à <tt>True</tt> et une formation sinon. "
   ]
  },
  {
   "cell_type": "code",
   "execution_count": 13,
   "id": "754171ee",
   "metadata": {},
   "outputs": [
    {
     "name": "stdout",
     "output_type": "stream",
     "text": [
      "regret : ERREUR\n"
     ]
    }
   ],
   "source": [
    "def regret(e, mariage, etudPref, formaPref, isStudent):\n",
    "    \"\"\"\n",
    "    renvoie le regret de e\n",
    "    \n",
    "    \n",
    "   :param int e indice d'un etudiant ou d'une université\n",
    "   :param array mariage résultat d'un mariage\n",
    "   :param array etudPref liste des préférences des étudiants\n",
    "   :param array formaPref liste des préférences des formations\n",
    "   :param bool isStudent: permet de connaitre le rôle de e \n",
    "   \n",
    "   :return: regret\n",
    "   :rtype: int\n",
    "    \"\"\"  \n",
    "    \n",
    "    \n",
    "    return -1\n",
    "\n",
    "try:\n",
    "    etudiantPref=[[1,0,2,4,3],[0,2,1,4,3],[2,0,4,1,3],[2,1,4,3,0],[0,1,2,3,4]]\n",
    "    formationPref=[[2,0,4,3,1],[1,0,4,3,2],[4,1,2,3,0],[1,0,4,3,2],[2,1,4,3,0]]\n",
    "    mariage = [3, 1, 0, 4, 2] #Mariage obtenu par galeShapley\n",
    "    assert regret(0,mariage,etudiantPref, formationPref, False ) == 0\n",
    "    assert regret(4,mariage,etudiantPref, formationPref, False ) == 3 #L'universite 4 est avec l'etudiant 3 donc regret de 3\n",
    "    assert regret(0,mariage,etudiantPref, formationPref, True ) == 4\n",
    "    assert regret(1,mariage,etudiantPref, formationPref, True ) == 2\n",
    "    print(\"regret : OK\")\n",
    "except:\n",
    "    print(\"regret : ERREUR\")\n",
    "    "
   ]
  },
  {
   "cell_type": "markdown",
   "id": "118e1123",
   "metadata": {},
   "source": [
    "> __Question 8 (Regret, suite)__ : Ecrire une fonction `regrets(mariage, etudPref, formaPref)` qui renvoie une liste de deux listes : la première correspond au regrets des étudiants et la seconde aux regrets des formations. "
   ]
  },
  {
   "cell_type": "code",
   "execution_count": 14,
   "id": "83ccefb7",
   "metadata": {},
   "outputs": [
    {
     "name": "stdout",
     "output_type": "stream",
     "text": [
      "regrets : ERREUR\n"
     ]
    }
   ],
   "source": [
    "def regrets(mariage, etudPref, formaPref):\n",
    "    \"\"\"\n",
    "    renvoie une liste des regrets des étudiants et des regrets des formations\n",
    "    \n",
    "   :param array mariage résultat d'un mariage\n",
    "   :param array etudPref liste des préférences des étudiants\n",
    "   :param array formaPref liste des préférences des formations\n",
    "   \n",
    "   :return: regrets\n",
    "   :rtype: array\n",
    "    \"\"\"  \n",
    "    \n",
    "    return [0]\n",
    "\n",
    "try:\n",
    "    etudiantPref=[[1,0,2,4,3],[0,2,1,4,3],[2,0,4,1,3],[2,1,4,3,0],[0,1,2,3,4]]\n",
    "    formationPref=[[2,0,4,3,1],[1,0,4,3,2],[4,1,2,3,0],[1,0,4,3,2],[2,1,4,3,0]]\n",
    "    mariage = [3, 1, 0, 4, 2] #Mariage obtenu par galeShapley\n",
    "    assert regrets(mariage, etudiantPref, formationPref) == [[4, 2, 1, 2, 2], [0, 0, 0, 1, 3]]\n",
    "    print(\"regrets : OK\")\n",
    "except:\n",
    "    print(\"regrets : ERREUR\")"
   ]
  },
  {
   "cell_type": "markdown",
   "id": "daacdcae",
   "metadata": {},
   "source": [
    "> __Question 9 (Indicateurs de regret)__ : Calculer les regrets sur plusieurs exemples, quels indicateurs vous semblent pertinents ? Comment évoluent les regrets avec la tailles des populations ? "
   ]
  },
  {
   "cell_type": "code",
   "execution_count": null,
   "id": "395efc8f",
   "metadata": {},
   "outputs": [],
   "source": []
  },
  {
   "cell_type": "code",
   "execution_count": null,
   "id": "c6d23397",
   "metadata": {},
   "outputs": [],
   "source": []
  },
  {
   "cell_type": "markdown",
   "id": "b44fbcac",
   "metadata": {},
   "source": [
    "> __Question 10 (Conclusion)__ : Qu'en concluez vous ? "
   ]
  },
  {
   "cell_type": "markdown",
   "id": "c1c2a661",
   "metadata": {},
   "source": []
  }
 ],
 "metadata": {
  "kernelspec": {
   "display_name": "Python 3 (ipykernel)",
   "language": "python",
   "name": "python3"
  },
  "language_info": {
   "codemirror_mode": {
    "name": "ipython",
    "version": 3
   },
   "file_extension": ".py",
   "mimetype": "text/x-python",
   "name": "python",
   "nbconvert_exporter": "python",
   "pygments_lexer": "ipython3",
   "version": "3.11.4"
  }
 },
 "nbformat": 4,
 "nbformat_minor": 5
}
