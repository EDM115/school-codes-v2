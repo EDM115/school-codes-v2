{
 "cells": [
  {
   "cell_type": "markdown",
   "metadata": {},
   "source": [
    "\n",
    "# <center> TP7 - SVD, compression et débruitage d'image </center>\n",
    "\n",
    "<center> 2023/2024 - T. Godin, L. Naert </center>\n",
    "<center> IUT de Vannes, BUT Informatique </center>\n",
    "\n",
    "\n",
    "***\n",
    "\n",
    "\n",
    "_Merci à Eddie Aamari et aux enseignants de Paris Sorbonne Cité qui ont partagé le document dont ce TP est issu_\n",
    "\n",
    "\n",
    "***\n",
    "\n",
    "__TP noté : Toute communication entre étudiant est interdite.__\n",
    "\n",
    "__Durée de l'examen : 1h30__"
   ]
  },
  {
   "cell_type": "markdown",
   "metadata": {},
   "source": [
    "Téléchargez l'archive `data.zip` depuis la page moodle du cours. Copiez l'archive `data.zip` dans le même dossier que ce notebook et décompressez-la. Vous devez voir apparaître un dossier `data` contenant trois fichiers : `im1.npy`, `im2.npy`, `im3.npy`.\n",
    "\n",
    "Pour commencer, on charge les packages et fichiers nécessaires."
   ]
  },
  {
   "cell_type": "code",
   "execution_count": 9,
   "metadata": {},
   "outputs": [
    {
     "data": {
      "text/plain": [
       "<Figure size 640x480 with 0 Axes>"
      ]
     },
     "metadata": {},
     "output_type": "display_data"
    }
   ],
   "source": [
    "import numpy as np\n",
    "from numpy import linalg as la\n",
    "import matplotlib.pyplot as plt\n",
    "plt.set_cmap('gray') # Permet d'afficher les images en niveaux de gris"
   ]
  },
  {
   "cell_type": "markdown",
   "metadata": {},
   "source": [
    "## Affichage d'images\n",
    "\n",
    "Le but du jeu est d'afficher les images associées aux 3 fichiers `im1.npy`, `im2.npy`, `im3.npy` et de choisir votre préférée pour travailler avec elle pour la suite du TP.\n",
    "\n",
    "En utilisant les commandes `M1=np.load('data/im1.npy')`, `type(M1)` et `M1.shape`, indiquer de quel type est la variable `M1`, et ses caractéristiques. Faire de même pour les deux autres fichiers `im2.npy`, `im3.npy`, en définissant deux nouvelles variables `M2` et  `M3`. "
   ]
  },
  {
   "cell_type": "code",
   "execution_count": null,
   "metadata": {},
   "outputs": [],
   "source": []
  },
  {
   "cell_type": "markdown",
   "metadata": {},
   "source": [
    "En `python`, les images en noir et blanc sont traitées comme des matrices."
   ]
  },
  {
   "cell_type": "markdown",
   "metadata": {},
   "source": [
    "À l'aide de la commande `plt.imshow`, afficher les 3 images associées à `M1`, `M2` et `M3`. Choisissez votre préférée pour la suite et renommez-la `M`."
   ]
  },
  {
   "cell_type": "code",
   "execution_count": null,
   "metadata": {},
   "outputs": [],
   "source": []
  },
  {
   "cell_type": "markdown",
   "metadata": {},
   "source": [
    "---\n",
    "## Décomposition en valeurs singulières (SVD)\n",
    "Toute matrice $M \\in \\mathcal{M}_{n,m}(\\mathbb{R})$ admet une décomposition en valeurs singulières (SVD) donnée par :\n",
    "\n",
    "<center> $M = U\\Sigma V^\\top$ </center>\n",
    "\n",
    "où $U\\in \\mathcal{M}_{n}(\\mathbb{R})$, $V\\in \\mathcal{M}_{m}(\\mathbb{R})$ sont des matrices orthogonales  (c'est à dire que $U U^\\top = U^\\top U = I_n $ et  $V V^\\top = V^\\top V = I_m $) et $\\Sigma \\in \\mathcal{M}_{n,m}(\\mathbb{R})$ est une matrice diagonale (au sens des matrices rectangulaires) contenant les valeurs singulières de $M$.\n",
    "\n",
    "\n",
    "Les valeurs singulières d'une matrices sont, en quelque sorte, la généralisation pour les matrices rectangulaires des valeurs propres vues durant les TP précédents.\n",
    "\n"
   ]
  },
  {
   "cell_type": "markdown",
   "metadata": {},
   "source": [
    "\n",
    ">__Question 1__<br>\n",
    "A l'aide de la commande `U,S,Vt=la.svd(M)`, effectuer la décomposition en valeurs singulières de `M`. Quels sont les formats de `U`, `S` et `Vt` ? Est-ce cohérent avec l'explication donnée au dessus ? "
   ]
  },
  {
   "cell_type": "code",
   "execution_count": null,
   "metadata": {},
   "outputs": [],
   "source": []
  },
  {
   "cell_type": "markdown",
   "metadata": {},
   "source": [
    "Réponse : "
   ]
  },
  {
   "cell_type": "markdown",
   "metadata": {},
   "source": [
    "\n",
    ">__Question 2__<br>\n",
    "Écrire une fonction `build(S,n,m)` qui prend en entrée un vecteur `S` et fournit en sortie la matrice $\\Sigma$ décrite au dessus : une matrice diagonale (au sens des matrices rectangulaires) de taille $n\\times m$, dont les éléments diagonaux sont `S[0], S[1],...` jusqu'à atteindre le dernier coefficient de `S`, et des $0$ partout ailleurs."
   ]
  },
  {
   "cell_type": "code",
   "execution_count": 10,
   "metadata": {},
   "outputs": [],
   "source": [
    "def build(S,n,m):\n",
    "    \n",
    "    return \"todo\""
   ]
  },
  {
   "cell_type": "markdown",
   "metadata": {},
   "source": [
    ">__Question 3__<br>\n",
    "Créer une matrice diagonale `matS` de taille $n\\times m$ et contenant sur sa diagonale les coefficients du vecteur `S` donné à la question 1."
   ]
  },
  {
   "cell_type": "code",
   "execution_count": null,
   "metadata": {},
   "outputs": [],
   "source": []
  },
  {
   "cell_type": "markdown",
   "metadata": {},
   "source": [
    ">__Question 4__<br>\n",
    "Vérifier la relation $M = U \\Sigma V^\\top$, en utilisant les matrices `U`, `matS` et `Vt` (on pourra utiliser la fonction numpy `allclose` pour effectuer la comparaison puisque l'on traite des float)\n"
   ]
  },
  {
   "cell_type": "code",
   "execution_count": null,
   "metadata": {},
   "outputs": [],
   "source": []
  },
  {
   "cell_type": "markdown",
   "metadata": {},
   "source": [
    ">__Question 5__<br>\n",
    "À l'aide de la commande `plt.plot`, tracer le vecteur `S`. Dans quel ordre les valeurs singulières sont-elles classées ? Comment qualiferiez-vous la répartition entre grandes et petites valeurs singulières ?"
   ]
  },
  {
   "cell_type": "code",
   "execution_count": null,
   "metadata": {},
   "outputs": [],
   "source": []
  },
  {
   "cell_type": "markdown",
   "metadata": {},
   "source": [
    "Réponse :"
   ]
  },
  {
   "cell_type": "markdown",
   "metadata": {},
   "source": [
    "------------------\n",
    "\n",
    "\n",
    "## Compression d'image\n",
    "\n",
    "\n",
    "\n",
    "Dans cette partie, nous allons représenter la même image à partir d'une décomposition de la forme $U \\Sigma V^\\top$ de façon à utiliser moins d'espace, puis nous testerons visuellement le résultat.\n",
    "\n",
    "### Filtrage"
   ]
  },
  {
   "cell_type": "markdown",
   "metadata": {},
   "source": [
    "\n",
    ">__Question 6__ <br>\n",
    "Écrire une fonction `filtre(A,t)` qui prend en entrée une matrice $A$ quelconque et un seuil de tolérance $\\mathtt{t} \\geq 0$, et renvoie la matrice $A_{(t)}$ qui coincide avec $A$, mais dans laquelle tous les coefficients vérifiant $A_{i,j} < t$ ont été remplacés par zéro\n",
    "<br>\n",
    "Évaluer visuellement le résultat lorsque $A$ correspond à l'image `M`. Faire varier le seuil $t$ : que constate-t-on ?"
   ]
  },
  {
   "cell_type": "code",
   "execution_count": 11,
   "metadata": {},
   "outputs": [],
   "source": [
    "def filtre(A,t):\n",
    "    \n",
    "    return \"todo\"\n"
   ]
  },
  {
   "cell_type": "markdown",
   "metadata": {},
   "source": [
    "Réponse : "
   ]
  },
  {
   "cell_type": "markdown",
   "metadata": {},
   "source": [
    ">__Question 7__<br>\n",
    "En utilisant la fonction précédente, calculer $U \\Sigma_{(t)} V^\\top$, où $A = U \\Sigma V^\\top$ est la décomposition en valeurs singulières de $A=$ `M`.<br>\n",
    "Faire varier le seuil $t$ : que constate-t-on visuellement ?"
   ]
  },
  {
   "cell_type": "code",
   "execution_count": null,
   "metadata": {},
   "outputs": [],
   "source": []
  },
  {
   "cell_type": "markdown",
   "metadata": {},
   "source": [
    "Réponse : "
   ]
  },
  {
   "cell_type": "markdown",
   "metadata": {},
   "source": [
    ">__Question 8__<br>\n",
    "Écrire une fonction `filtreK(sigma, k)` qui, plutôt que de seuiller $\\Sigma$ à une valeur $t$ fixée, renvoie $\\Sigma^{(k)}$ ayant ses $k$ premiers coefficients diagonaux égaux à ceux de $\\Sigma$, et zéro ailleurs. Le paramètre `sigma` est une matrice de taille $nm$ avec les valeurs singulières sur la diagonale ($\\Sigma$).<br>\n",
    "Calculer $U \\Sigma^{(k)} V^\\top$, où $A = U \\Sigma V^\\top$ est la décomposition en valeurs singulières de $A=$ `M`.<br>\n",
    "Faire varier le seuil $k$ et commenter (en comparant visuellement les résultats avec la méthode précedente)."
   ]
  },
  {
   "cell_type": "code",
   "execution_count": 12,
   "metadata": {},
   "outputs": [],
   "source": [
    "def filtreK(sigma, k):\n",
    "    \n",
    "    return \"todo\""
   ]
  },
  {
   "cell_type": "markdown",
   "metadata": {},
   "source": [
    "Réponse : "
   ]
  },
  {
   "cell_type": "markdown",
   "metadata": {},
   "source": [
    "### Compression\n",
    "\n",
    "\n",
    "Comme on a conservé uniquement  $k$ valeurs non nulles pour $\\Sigma$, on n'a plus besoin de stocker certaines informations dans $U$ et $V$.\n",
    "\n",
    "Plus précisément, dans  $U \\Sigma^{(k)} V^\\top \\approx M $, peut ne conserver  que les $k$ premières colonnes de $U$, les $k$ première lignes et colonnes de $\\Sigma$ et les $k$ premières lignes de $V$.\n",
    "\n",
    "On notera $U_k, \\Sigma^{(k)}_k   $ et $V_k$ les matrices ainsi obtenue.\n",
    "\n",
    "\n",
    ">__Question 9__<br>\n",
    "Calculer $U_k \\Sigma^{(k)}_k V^\\top_k$, où $A = U \\Sigma V^\\top$ est la décomposition en valeurs singulières de $A=$ `M`.<br>\n",
    "Faire varier le seuil $k$, constater que peu importe le choix de $k$ , on a $U_k \\Sigma^{(k)}_k V^\\top_k = U \\Sigma^{(k)} V^\\top$ (on pourra utiliser la fonction numpy `allclose` pour effectuer la comparaison puisque l'on traite des float)\n"
   ]
  },
  {
   "cell_type": "code",
   "execution_count": null,
   "metadata": {},
   "outputs": [],
   "source": []
  },
  {
   "cell_type": "markdown",
   "metadata": {},
   "source": [
    "\n",
    ">__Question 10__<br>\n",
    "Écrire une fonction `txCompression(M, k)` calculant le taux de compression, c'est-à-dire le nombre de coefficients dans $U_k \\Sigma^{(k)}_k V^\\top_k$  divisé par le nombre de coefficients dans l'image `M` d'origine. <br>\n",
    "<br> Tracer ce ratio en fonction de $k$.\n",
    "Donner une formule exacte pour ce taux.\n",
    "\n",
    "\n"
   ]
  },
  {
   "cell_type": "markdown",
   "metadata": {},
   "source": [
    "Réponse : \n"
   ]
  },
  {
   "cell_type": "code",
   "execution_count": 13,
   "metadata": {},
   "outputs": [],
   "source": [
    "def txCompression(M, k):\n",
    "    \n",
    "    return \"todo\""
   ]
  },
  {
   "cell_type": "markdown",
   "metadata": {},
   "source": [
    "\n",
    ">__Question 11__<br>\n",
    "Écrire une fonction `affiche(M,k)` qui affiche l'image où l'on a gardé que les $k$ premières valeurs et renvoie le taux de compression"
   ]
  },
  {
   "cell_type": "code",
   "execution_count": 14,
   "metadata": {},
   "outputs": [],
   "source": [
    "def affiche(M,k):\n",
    "    \n",
    "    return \"todo\"\n",
    "\n",
    "\n"
   ]
  },
  {
   "cell_type": "markdown",
   "metadata": {},
   "source": [
    "\n",
    ">__Question 12__\n",
    "En utilisant la formule du taux de compression, écrire une fonction `afficheRatio(M,r)` qui affiche l'image compressée à un taux/ratio de $r$ et retourne `k`, le nombre de valeurs singulières conservées."
   ]
  },
  {
   "cell_type": "code",
   "execution_count": 15,
   "metadata": {},
   "outputs": [],
   "source": [
    "def afficheRatio(M,r):\n",
    "\n",
    "    return \"todo\"\n",
    "\n",
    "\n"
   ]
  },
  {
   "cell_type": "markdown",
   "metadata": {},
   "source": [
    "## Débruitage d'images\n",
    "\n",
    "Dans cette partie, on se donne une image bruitee, representee par la matrice `Mb` definie comme suit:"
   ]
  },
  {
   "cell_type": "code",
   "execution_count": 16,
   "metadata": {},
   "outputs": [
    {
     "ename": "NameError",
     "evalue": "name 'M' is not defined",
     "output_type": "error",
     "traceback": [
      "\u001b[1;31m---------------------------------------------------------------------------\u001b[0m",
      "\u001b[1;31mNameError\u001b[0m                                 Traceback (most recent call last)",
      "Cell \u001b[1;32mIn[16], line 2\u001b[0m\n\u001b[0;32m      1\u001b[0m epsilon \u001b[38;5;241m=\u001b[39m \u001b[38;5;241m50\u001b[39m\n\u001b[1;32m----> 2\u001b[0m Mb \u001b[38;5;241m=\u001b[39m \u001b[43mM\u001b[49m \u001b[38;5;241m+\u001b[39m epsilon\u001b[38;5;241m*\u001b[39mnp\u001b[38;5;241m.\u001b[39mrandom\u001b[38;5;241m.\u001b[39mnormal(\u001b[38;5;241m0\u001b[39m,\u001b[38;5;241m1\u001b[39m,size\u001b[38;5;241m=\u001b[39m(np\u001b[38;5;241m.\u001b[39mshape(M)[\u001b[38;5;241m0\u001b[39m],np\u001b[38;5;241m.\u001b[39mshape(M)[\u001b[38;5;241m1\u001b[39m]))\n",
      "\u001b[1;31mNameError\u001b[0m: name 'M' is not defined"
     ]
    }
   ],
   "source": [
    "epsilon = 50\n",
    "Mb = M + epsilon*np.random.normal(0,1,size=(np.shape(M)[0],np.shape(M)[1]))\n"
   ]
  },
  {
   "cell_type": "markdown",
   "metadata": {},
   "source": [
    "\n",
    ">__Question 13__<br>\n",
    "Visualiser l’image bruitée"
   ]
  },
  {
   "cell_type": "code",
   "execution_count": null,
   "metadata": {},
   "outputs": [],
   "source": []
  },
  {
   "cell_type": "markdown",
   "metadata": {},
   "source": [
    "On mesure l’ecart  induit par le bruit en calculant $\\Vert M_b − M\\Vert$ : "
   ]
  },
  {
   "cell_type": "code",
   "execution_count": 17,
   "metadata": {},
   "outputs": [
    {
     "ename": "NameError",
     "evalue": "name 'Mb' is not defined",
     "output_type": "error",
     "traceback": [
      "\u001b[1;31m---------------------------------------------------------------------------\u001b[0m",
      "\u001b[1;31mNameError\u001b[0m                                 Traceback (most recent call last)",
      "Cell \u001b[1;32mIn[17], line 1\u001b[0m\n\u001b[1;32m----> 1\u001b[0m normb \u001b[38;5;241m=\u001b[39m la\u001b[38;5;241m.\u001b[39mnorm(\u001b[43mMb\u001b[49m\u001b[38;5;241m-\u001b[39mM)\n\u001b[0;32m      2\u001b[0m \u001b[38;5;28mprint\u001b[39m(normb)\n",
      "\u001b[1;31mNameError\u001b[0m: name 'Mb' is not defined"
     ]
    }
   ],
   "source": [
    "normb = la.norm(Mb-M)\n",
    "print(normb)"
   ]
  },
  {
   "cell_type": "markdown",
   "metadata": {},
   "source": [
    "\n",
    ">__Question 14__<br>\n",
    "Calculer la décomposition SVD de `Mb`, et filtrer ses valeurs singulières plus petites que\n",
    "$t = 3000$.<br>\n",
    "Comment vous apparaît l’image $M_r(t)$ ainsi obtenue ? \n",
    "<br>Calculer $\\Vert M_r(t) - M \\Vert$."
   ]
  },
  {
   "cell_type": "code",
   "execution_count": null,
   "metadata": {},
   "outputs": [],
   "source": []
  },
  {
   "cell_type": "markdown",
   "metadata": {},
   "source": [
    "\n",
    ">__Question 15__<br>\n",
    "En calculant $\\Vert M_r(t) - M \\Vert$ pour différentes valeurs de $t$, estimer la valeur $t^\\ast$ pour laquelle l'erreur est minimale. \n",
    "<br>Visualiser l'image ainsi débruitée."
   ]
  },
  {
   "cell_type": "code",
   "execution_count": null,
   "metadata": {},
   "outputs": [],
   "source": []
  },
  {
   "cell_type": "markdown",
   "metadata": {},
   "source": [
    "__Fin du TP noté ! A rendre sur Moodle__ \n",
    "\n",
    "\n",
    "----\n",
    "\n",
    "### Ouverture : et si on ne connait pas l'image de base ?\n",
    "\n",
    "La méthode précédente permet donc de trouver le paramètre optimal pour débruiter une image ... si on dispose de l'image de départ.\n",
    "\n",
    "On va essayer de trouver une solution plus utile en pratique.\n",
    "\n",
    "On part toujours d'une image bruitée representee par la matrice `Mb`. \n",
    "On va construire une deuxième image sur-bruitée (avec un bruit équivalent néanmoins)."
   ]
  },
  {
   "cell_type": "code",
   "execution_count": 18,
   "metadata": {},
   "outputs": [
    {
     "ename": "NameError",
     "evalue": "name 'Mb' is not defined",
     "output_type": "error",
     "traceback": [
      "\u001b[1;31m---------------------------------------------------------------------------\u001b[0m",
      "\u001b[1;31mNameError\u001b[0m                                 Traceback (most recent call last)",
      "Cell \u001b[1;32mIn[18], line 1\u001b[0m\n\u001b[1;32m----> 1\u001b[0m Mbb \u001b[38;5;241m=\u001b[39m \u001b[43mMb\u001b[49m \u001b[38;5;241m+\u001b[39m epsilon\u001b[38;5;241m*\u001b[39mnp\u001b[38;5;241m.\u001b[39mrandom\u001b[38;5;241m.\u001b[39mnormal(\u001b[38;5;241m0\u001b[39m,\u001b[38;5;241m1\u001b[39m,size\u001b[38;5;241m=\u001b[39m(np\u001b[38;5;241m.\u001b[39mshape(M)[\u001b[38;5;241m0\u001b[39m],np\u001b[38;5;241m.\u001b[39mshape(M)[\u001b[38;5;241m1\u001b[39m]))\n",
      "\u001b[1;31mNameError\u001b[0m: name 'Mb' is not defined"
     ]
    }
   ],
   "source": [
    "Mbb = Mb + epsilon*np.random.normal(0,1,size=(np.shape(M)[0],np.shape(M)[1]))"
   ]
  },
  {
   "cell_type": "code",
   "execution_count": 19,
   "metadata": {},
   "outputs": [
    {
     "ename": "NameError",
     "evalue": "name 'Mb' is not defined",
     "output_type": "error",
     "traceback": [
      "\u001b[1;31m---------------------------------------------------------------------------\u001b[0m",
      "\u001b[1;31mNameError\u001b[0m                                 Traceback (most recent call last)",
      "Cell \u001b[1;32mIn[19], line 2\u001b[0m\n\u001b[0;32m      1\u001b[0m \u001b[38;5;66;03m#distance entre M_k et une matrice rebruitée : coude à l'optimum ? (TG)\u001b[39;00m\n\u001b[1;32m----> 2\u001b[0m Ub, Sb, Vbt \u001b[38;5;241m=\u001b[39m la\u001b[38;5;241m.\u001b[39msvd(\u001b[43mMb\u001b[49m)\n\u001b[0;32m      3\u001b[0m matSb \u001b[38;5;241m=\u001b[39m build(Sb,n,m)\n\u001b[0;32m      5\u001b[0m K\u001b[38;5;241m=\u001b[39m\u001b[38;5;241m50\u001b[39m\n",
      "\u001b[1;31mNameError\u001b[0m: name 'Mb' is not defined"
     ]
    }
   ],
   "source": [
    "#distance entre M_k et une matrice rebruitée : coude à l'optimum ? (TG)\n",
    "Ub, Sb, Vbt = la.svd(Mb)\n",
    "matSb = build(Sb,n,m)\n",
    "\n",
    "K=50\n",
    "t_range = np.linspace(min(Sb),max(Sb)/10,K)\n",
    "yb = []\n",
    "\n",
    "for t in t_range:\n",
    "    matSbfilt = filtre(matSb,t)\n",
    "    Mr = Ub@matSbfilt@Vbt\n",
    "    yb += [la.norm(Mr-Mbb)]"
   ]
  },
  {
   "cell_type": "code",
   "execution_count": 20,
   "metadata": {},
   "outputs": [
    {
     "ename": "NameError",
     "evalue": "name 't_range' is not defined",
     "output_type": "error",
     "traceback": [
      "\u001b[1;31m---------------------------------------------------------------------------\u001b[0m",
      "\u001b[1;31mNameError\u001b[0m                                 Traceback (most recent call last)",
      "Cell \u001b[1;32mIn[20], line 1\u001b[0m\n\u001b[1;32m----> 1\u001b[0m plt\u001b[38;5;241m.\u001b[39mplot(\u001b[43mt_range\u001b[49m,yb)\n\u001b[0;32m      2\u001b[0m plt\u001b[38;5;241m.\u001b[39mvlines(t_range[np\u001b[38;5;241m.\u001b[39margmin(y)], \u001b[38;5;241m0\u001b[39m, \u001b[38;5;241m100000\u001b[39m, colors\u001b[38;5;241m=\u001b[39m\u001b[38;5;124m\"\u001b[39m\u001b[38;5;124mred\u001b[39m\u001b[38;5;124m\"\u001b[39m, linestyles\u001b[38;5;241m=\u001b[39m\u001b[38;5;124m'\u001b[39m\u001b[38;5;124mdashed\u001b[39m\u001b[38;5;124m'\u001b[39m)\n",
      "\u001b[1;31mNameError\u001b[0m: name 't_range' is not defined"
     ]
    }
   ],
   "source": [
    "plt.plot(t_range,yb)\n",
    "plt.vlines(t_range[np.argmin(y)], 0, 100000, colors=\"red\", linestyles='dashed')"
   ]
  }
 ],
 "metadata": {
  "kernelspec": {
   "display_name": "Python 3 (ipykernel)",
   "language": "python",
   "name": "python3"
  },
  "language_info": {
   "codemirror_mode": {
    "name": "ipython",
    "version": 3
   },
   "file_extension": ".py",
   "mimetype": "text/x-python",
   "name": "python",
   "nbconvert_exporter": "python",
   "pygments_lexer": "ipython3",
   "version": "3.12.0"
  }
 },
 "nbformat": 4,
 "nbformat_minor": 4
}
