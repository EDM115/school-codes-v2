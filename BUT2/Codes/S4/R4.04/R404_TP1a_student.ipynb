{
 "cells": [
  {
   "cell_type": "markdown",
   "metadata": {},
   "source": [
    "# <center> R1.04 Méthodes d'optimisation <br> TP1a - Descente de gradient 1D </center>\n",
    "<center> 2023/2024 - Tom Ferragut & Thibault Godin & Lucie Naert </center>\n",
    "<center> IUT de Vannes, BUT Informatique </center>"
   ]
  },
  {
   "cell_type": "markdown",
   "metadata": {},
   "source": [
    "Le but de ce TP est d'implémenter quelques méthodes numériques d'optimisation, basées sur la descente de gradient, dont le cœur est résumé par :\n",
    "\n",
    "$$a_{k+1} = a_k -  \\delta f'(a_k)$$"
   ]
  },
  {
   "cell_type": "code",
   "execution_count": 30,
   "metadata": {},
   "outputs": [
    {
     "name": "stdout",
     "output_type": "stream",
     "text": [
      "Warning: Cannot change to a different GUI toolkit: widget. Using notebook instead.\n"
     ]
    }
   ],
   "source": [
    "import numpy as np\n",
    "import math\n",
    "\n",
    "# Affichage graphique\n",
    "\n",
    "%matplotlib widget\n",
    "# enable interactivity of plots\n",
    "# attention a bien fermer les fenetres plt après chaque visualisalgèbreation\n",
    "\n",
    "%matplotlib inline\n",
    "\n",
    "import matplotlib.pyplot as plt\n",
    "from mpl_toolkits.mplot3d import Axes3D \n",
    "\n",
    "import time\n"
   ]
  },
  {
   "cell_type": "markdown",
   "metadata": {},
   "source": [
    "# Descente de gradient\n"
   ]
  },
  {
   "cell_type": "markdown",
   "metadata": {},
   "source": [
    "## Exercice 1 : Optimisation de la fonction $f: x \\mapsto x^2 +1$"
   ]
  },
  {
   "cell_type": "markdown",
   "metadata": {},
   "source": [
    "Le but de cet exercice est d'implémenter la méthode (la plus basique) de descente de gradient, en 1D.\n",
    "\n",
    "\n",
    "On va considérer la fonction $f: x \\mapsto x^2 +1$"
   ]
  },
  {
   "cell_type": "markdown",
   "metadata": {},
   "source": [
    "**Question 1** \n",
    "\n",
    "Calculer $f'$ et dresser le tableau de variation de $f$.\n",
    "\n",
    "En déduire que $f$ admet un unique minimum sur $\\mathbb{R}$ et le donner."
   ]
  },
  {
   "cell_type": "markdown",
   "metadata": {},
   "source": [
    "_Réponse :_\n",
    "Pour calculer la dérivée $f'$ de $f$, on utilise les règles de dérivation des fonctions polynomiales. Ainsi, $f'(x) = 2x$.\n",
    "Pour dresser le tableau de variation de $f$, on observe que la dérivée $f'(x) = 2x$ change de signe au point $x=0$ (elle est négative pour $x < 0$ et positive pour $x > 0$), ce qui indique que la fonction $f$ est décroissante avant $x=0$ et croissante après. Comme $f(x)$ est une parabole ouverte vers le haut avec son sommet en $(0, 1)$, on peut conclure qu'elle admet un minimum unique en ce point. Le minimum de $f$ sur $\\mathbb{R}$ est donc $f(0) = 0^2 + 1 = 1$."
   ]
  },
  {
   "cell_type": "markdown",
   "metadata": {},
   "source": [
    "**Question 2** \n",
    "\n",
    "Écrire une fonction `gradDesc_ex1(x0,k,d)` qui implémente la descente de gradient pour la fonction $f$ ci-dessus (on considère que la dérivée est connue). x0 étant l'abscisse de départ, k le nombre d'itérations et d représentant le pas $\\delta$.\n",
    "\n",
    "_Note : pour débugger, il peut être interessant d'afficher les résultats intermédiaires (ajout possible d'un paramètre booléen <tt>verbose</tt>)_"
   ]
  },
  {
   "cell_type": "code",
   "execution_count": 31,
   "metadata": {},
   "outputs": [
    {
     "name": "stdout",
     "output_type": "stream",
     "text": [
      "Iteration 1: x = 0.6, f(x) = 1.3599999999999999\n",
      "Iteration 2: x = 0.36, f(x) = 1.1296\n",
      "Iteration 3: x = 0.216, f(x) = 1.046656\n",
      "Iteration 4: x = 0.1296, f(x) = 1.01679616\n",
      "Iteration 5: x = 0.07776, f(x) = 1.0060466176\n",
      "Iteration 6: x = 0.046655999999999996, f(x) = 1.002176782336\n",
      "Iteration 7: x = 0.027993599999999997, f(x) = 1.00078364164096\n",
      "Iteration 8: x = 0.016796159999999997, f(x) = 1.0002821109907456\n",
      "Iteration 9: x = 0.010077695999999997, f(x) = 1.0001015599566685\n",
      "Iteration 10: x = 0.006046617599999998, f(x) = 1.0000365615844007\n",
      "\n",
      "Minimum atteint en x = 0.006046617599999998, f(x) = 1.0000365615844007\n"
     ]
    }
   ],
   "source": [
    "def gradDesc_ex1(x0, k, d, verbose = False):\n",
    "    x = x0\n",
    "    for i in range(k):\n",
    "        x = x - d * 2 * x  # Mise à jour de x en utilisant la dérivée de f\n",
    "        if verbose:\n",
    "            print(f\"Iteration {i+1}: x = {x}, f(x) = {x**2 + 1}\")\n",
    "    return x\n",
    "\n",
    "minimum = gradDesc_ex1(1, 10, 0.2, verbose = True)\n",
    "print(f\"\\nMinimum atteint en x = {minimum}, f(x) = {minimum**2 + 1}\")\n"
   ]
  },
  {
   "cell_type": "markdown",
   "metadata": {},
   "source": [
    "**Question 3**\n",
    "\n",
    "Ecrire une fonction `gradDescVect_ex1` dans laquelle vous modifierez la fonction précédente <tt>gradDesc_ex1</tt> afin de renvoyer deux vecteurs : le premier listant les points $x$ visités par l'algorithme, le deuxième les valeurs prises par le gradient en chaque point.\n",
    "\n",
    "La fonction `graphique_descente_ex1` utilise le résultat de <tt>gradDescVect_ex1</tt> pour donner une représentation graphique de la descente de gradient."
   ]
  },
  {
   "cell_type": "code",
   "execution_count": 32,
   "metadata": {},
   "outputs": [],
   "source": [
    "def gradDescVect_ex1(x0, k, d):\n",
    "    x = x0\n",
    "    liste_X = [x0]\n",
    "    liste_grad = [2 * x0]\n",
    "    \n",
    "    for _ in range(k):\n",
    "        grad = 2 * x\n",
    "        x = x - d * grad\n",
    "        liste_X.append(x)\n",
    "        liste_grad.append(2 * x)\n",
    "    \n",
    "    return liste_X, liste_grad\n"
   ]
  },
  {
   "cell_type": "code",
   "execution_count": 33,
   "metadata": {},
   "outputs": [
    {
     "data": {
      "image/png": "[encoded data removed]",
      "text/plain": [
       "<Figure size 640x480 with 1 Axes>"
      ]
     },
     "metadata": {},
     "output_type": "display_data"
    },
    {
     "data": {
      "text/plain": [
       "-1"
      ]
     },
     "execution_count": 33,
     "metadata": {},
     "output_type": "execute_result"
    }
   ],
   "source": [
    "def graphique_descente_ex1(x0,k,d):\n",
    "    # inspiré de A. BODIN et F. RECHER    \n",
    "    xmin, xmax = -1.5 * x0, 1.5 * x0\n",
    "    plt.axis([xmin, xmax, -1, x0**2 + 2])\n",
    "     \n",
    "    num = 100\n",
    "    VX = np.linspace(xmin, xmax, num)\n",
    "    # 1 Graphe de la fonctions\n",
    "    VY = VX**2 + 1\n",
    "    plt.plot(VX, VY, color='blue')\n",
    "\n",
    "    # 2. Points et gradients sur l'axe\n",
    "    liste_X, liste_grad = gradDescVect_ex1(x0, k, d)\n",
    "    for x in liste_X: # points\n",
    "        plt.scatter(x, 0, color ='red')\n",
    "    \n",
    "    for i in range(len(liste_X) - 1): # flèches\n",
    "        plt.arrow(liste_X[i], 0, -d * liste_grad[i], 0, linewidth = 1, color = 'orange', length_includes_head = True, head_width = 0.1, head_length = 0.1)\n",
    "\n",
    "    # 3. Points et gradients sur le graphe\n",
    "    for x in liste_X: # points\n",
    "        plt.scatter(x, x**2+1, color='red')\n",
    "    \n",
    "    for i in range(len(liste_X) - 1): # flèches\n",
    "        plt.arrow(liste_X[i], liste_X[i]**2 + 1, -d, -d * liste_grad[i], linewidth = 1, color = 'orange', length_includes_head = True, head_width = 0.05, head_length = 0.1)\n",
    "\n",
    "    plt.tight_layout()\n",
    "    plt.show()\n",
    "    return -1\n",
    "\n",
    "graphique_descente_ex1(x0 = 1, k = 10, d = 0.2)\n"
   ]
  },
  {
   "cell_type": "markdown",
   "metadata": {},
   "source": [
    "## Exercice 2 : Optimisation d'une fonction dérivable $f$ dont on connait la dérivée $f'$"
   ]
  },
  {
   "cell_type": "markdown",
   "metadata": {},
   "source": [
    "**Question 1**\n",
    "\n",
    "1. Ecrire une fonction `gradDesc_ex2(f,fp,x0,k,d)` qui produit le même résultat que <tt>gradDesc_ex1</tt> mais pour une fonction quelconque <tt>f</tt> dont on connait la dérivée <tt>fp</tt>. \n",
    "\n",
    "2. Remarquer que les résultats obtenus sont bien les mêmes que pour l'exercice 1\n",
    "\n",
    "3. Ecrire une fonction `gradDescVect_ex2(f,fp,x0,k,d)` qui produit les mêmes résultats que <tt>gradDescVect_ex1</tt> mais pour une fonction quelconque <tt>f</tt> dont on connait la dérivée <tt>fp</tt>. \n",
    "\n",
    "La fonction `graphique_descente_ex2` utilise le résultat de <tt>gradDescVect_ex2</tt> pour donner une représentation graphique de la descente de gradient."
   ]
  },
  {
   "cell_type": "code",
   "execution_count": 34,
   "metadata": {},
   "outputs": [
    {
     "name": "stdout",
     "output_type": "stream",
     "text": [
      "Obtient-on les mêmes résultats pour le cas x^2 +1 ? True\n"
     ]
    }
   ],
   "source": [
    "def gradDesc_ex2(f, fp, x0, k, d):\n",
    "    x = x0\n",
    "    for _ in range(k):\n",
    "        x = x - d * fp(x)\n",
    "    return x\n",
    "\n",
    "def f(x):\n",
    "    return x**2 + 1\n",
    "\n",
    "def fp(x):\n",
    "    return 2*x\n",
    "\n",
    "print(\"Obtient-on les mêmes résultats pour le cas x^2 +1 ?\", gradDesc_ex2(f, fp, 1, 10, 0.2) == gradDesc_ex1(1, 10, 0.2))\n"
   ]
  },
  {
   "cell_type": "code",
   "execution_count": 35,
   "metadata": {},
   "outputs": [],
   "source": [
    "def gradDescVect_ex2(f, fp, x0, k, d):\n",
    "    x = x0\n",
    "    liste_X = [x0]\n",
    "    liste_grad = [fp(x0)]\n",
    "    \n",
    "    for _ in range(k):\n",
    "        grad = fp(x)\n",
    "        x = x - d * grad\n",
    "        liste_X.append(x)\n",
    "        liste_grad.append(fp(x))\n",
    "    \n",
    "    return liste_X, liste_grad\n"
   ]
  },
  {
   "cell_type": "code",
   "execution_count": 36,
   "metadata": {},
   "outputs": [
    {
     "data": {
      "image/png": "[encoded data removed]",
      "text/plain": [
       "<Figure size 640x480 with 1 Axes>"
      ]
     },
     "metadata": {},
     "output_type": "display_data"
    },
    {
     "data": {
      "text/plain": [
       "-1"
      ]
     },
     "execution_count": 36,
     "metadata": {},
     "output_type": "execute_result"
    }
   ],
   "source": [
    "def graphique_descente_ex2(f, fp, x0, k, d):\n",
    "    # inspiré de A. BODIN et F. RECHER    \n",
    "    xmin, xmax = -3 * x0, 3 * x0\n",
    "    plt.axis([xmin, xmax, -2, 2])\n",
    "    \n",
    "    xmin, xmax = -5 * x0, 5 * x0\n",
    "    plt.axis([xmin, xmax, -2 * f(x0), 2 * f(x0)])\n",
    "     \n",
    "    num = 100\n",
    "    VX = np.linspace(xmin, xmax, num)\n",
    "    # 1 Graphe de la fonctions\n",
    "    VY = f(VX)\n",
    "    plt.plot(VX, VY, color = 'blue')\n",
    "\n",
    "    # 2. Points et gradients sur l'axe\n",
    "    liste_X, liste_grad = gradDescVect_ex2(f, fp, x0, k, d)\n",
    "    for x in liste_X: # points\n",
    "        plt.scatter(x, 0, color = 'red')\n",
    "    \n",
    "    for i in range(len(liste_X) - 1): # flèches\n",
    "        plt.arrow(liste_X[i], 0, -d * liste_grad[i], 0, linewidth = 1, color = 'orange', length_includes_head = True, head_width = 0.05, head_length = 0.1)\n",
    "\n",
    "    # 3. Points et gradients sur le graphe\n",
    "    for x in liste_X: # points\n",
    "        plt.scatter(x, f(x), color = 'red')\n",
    "    \n",
    "    for i in range(len(liste_X) - 1): # flèches\n",
    "        plt.arrow(liste_X[i], f(liste_X[i]), -d, -d * liste_grad[i], linewidth = 1, color = 'orange', length_includes_head = True, head_width = 0.05, head_length = 0.1)\n",
    "\n",
    "    plt.tight_layout()\n",
    "\n",
    "    plt.show()\n",
    "    return -1\n",
    "\n",
    "graphique_descente_ex2(f, fp, 1, 10, 0.2)\n"
   ]
  },
  {
   "cell_type": "markdown",
   "metadata": {},
   "source": [
    "__Question 2 : Exemple de problème d'optimisation__\n",
    "\n",
    "Un industriel cherche à optimiser la quantité de métal utilisée pour la fabrication d’une boite de conserve. Nous avons vu en début de cours que la surface $S$ de métal utilisée dépendait du rayon $r$ de la boite (nous fixons le volume à 425mL).\n",
    "\n",
    "$$S(r) = 2\\pi r^2 + \\frac{2V}{r}$$\n",
    "\n",
    "En utilisant la descente de gradient et les fonctions définies précédemment, donner une approximation du rayon permettant d'utliser le moins de métal possible pour produire la boite. A quelle surface ce rayon correspond-il ?"
   ]
  },
  {
   "cell_type": "code",
   "execution_count": 37,
   "metadata": {},
   "outputs": [
    {
     "name": "stdout",
     "output_type": "stream",
     "text": [
      "Le rayon minimal trouvé en 20 pas est de 0.407445651613783\n",
      "La surface correspondante est égale à 3.1292517050455997\n"
     ]
    }
   ],
   "source": [
    "V = 0.425\n",
    "\n",
    "def f(r):\n",
    "    return 2 * np.pi * r**2 + (2 * V) / r\n",
    "\n",
    "def fp(r):\n",
    "    return 4 * np.pi * r - (2 * V) / (r**2)\n",
    "\n",
    "x0 = 1\n",
    "k = 20\n",
    "d = 0.02\n",
    "rMin = gradDesc_ex2(f, fp, x0, k, d)\n",
    "\n",
    "print(\"Le rayon minimal trouvé en\", k, \"pas est de\", rMin)\n",
    "print(\"La surface correspondante est égale à\", f(rMin))\n"
   ]
  },
  {
   "cell_type": "markdown",
   "metadata": {},
   "source": [
    "**Question 3** \n",
    "\n",
    "À l'aide des widgets suivant, observer l'influence des paramètres $k$ et $d$. Commentez"
   ]
  },
  {
   "cell_type": "code",
   "execution_count": 44,
   "metadata": {},
   "outputs": [
    {
     "data": {
      "application/vnd.jupyter.widget-view+json": {
       "model_id": "37803fb17adb4c47a94b434c0b2345d5",
       "version_major": 2,
       "version_minor": 0
      },
      "text/plain": [
       "interactive(children=(IntSlider(value=25, description='k', max=50), FloatSlider(value=0.25, description='d', m…"
      ]
     },
     "metadata": {},
     "output_type": "display_data"
    },
    {
     "data": {
      "text/plain": [
       "<function __main__.graphique_descente_ex2(f, fp, x0, k, d)>"
      ]
     },
     "execution_count": 44,
     "metadata": {},
     "output_type": "execute_result"
    }
   ],
   "source": [
    "from ipywidgets import interact, fixed\n",
    "\n",
    "def f(x):\n",
    "    return np.sin(x)\n",
    "\n",
    "def fp(x):\n",
    "    return np.cos(x)\n",
    "\n",
    "interact(graphique_descente_ex2, f = fixed(f), fp = fixed(fp), x0 = fixed(1), k = (0, 50, 1), d = (0., .5, 0.005))\n"
   ]
  },
  {
   "cell_type": "code",
   "execution_count": 43,
   "metadata": {},
   "outputs": [
    {
     "data": {
      "application/vnd.jupyter.widget-view+json": {
       "model_id": "2a89e1b0c30245c9878d434c17a969be",
       "version_major": 2,
       "version_minor": 0
      },
      "text/plain": [
       "interactive(children=(IntSlider(value=25, description='k', max=50), FloatSlider(value=2.0, description='d', ma…"
      ]
     },
     "metadata": {},
     "output_type": "display_data"
    },
    {
     "data": {
      "text/plain": [
       "<function __main__.graphique_descente_ex2(f, fp, x0, k, d)>"
      ]
     },
     "execution_count": 43,
     "metadata": {},
     "output_type": "execute_result"
    }
   ],
   "source": [
    "interact(graphique_descente_ex2, f = fixed(f), fp = fixed(fp), x0 = fixed(1), k = (0, 50, 1), d = (0., 4, 0.005))\n"
   ]
  },
  {
   "cell_type": "markdown",
   "metadata": {},
   "source": [
    "__Influence de k :__\n",
    "Le paramètre $k$ contrôle le nombre d'itérations de l'algorithme de descente de gradient. Une valeur plus élevée permet à l'algorithme de faire plus de pas dans la direction du gradient, potentiellement permettant une convergence plus précise vers un minimum local ou global, selon la nature de la fonction.\n",
    "- Avec un faible nombre d'itérations ($k$ petit), l'algorithme peut ne pas avoir suffisamment de temps pour converger vers le minimum, surtout si le point de départ est éloigné du minimum ou si le pas de descente est petit. Cela peut aboutir à une approximation grossière du minimum.\n",
    "- Avec un nombre élevé d'itérations ($k$ grand), l'algorithme a plus de chances de converger vers le minimum si le pas de descente est correctement choisi. Cependant, après un certain point, augmenter davantage le nombre d'itérations n'apportera pas de bénéfice significatif en termes de précision mais augmentera le temps de calcul.\n",
    "\n",
    "__Influence de d :__\n",
    "Le pas de descente $d$ détermine la taille des pas effectués dans la direction opposée au gradient. Sa valeur a un impact significatif sur la vitesse de convergence et la stabilité de l'algorithme.\n",
    "- Avec un petit pas de descente ($d$ faible), l'algorithme fait de petits pas, ce qui peut conduire à une convergence très lente vers le minimum. Cela peut être efficace pour éviter de dépasser le minimum, mais cela nécessite généralement un nombre plus élevé d'itérations pour atteindre une précision acceptable.\n",
    "- Avec un grand pas de descente ($d$ élevé), l'algorithme fait de grands pas. Cela peut accélérer la convergence vers le minimum si le pas n'est pas trop grand. Toutefois, si le pas est excessivement grand, l'algorithme peut osciller autour du minimum ou, pire, diverger, en particulier pour les fonctions non linéaires ou ayant de multiples minima locaux.\n"
   ]
  },
  {
   "cell_type": "markdown",
   "metadata": {},
   "source": [
    "## Exercice 3 : Cas d'une fonction dont on ne connait pas la dérivée\n",
    "\n",
    "Le but de cette dernière partie est de proposer un algorithme pour utiliser la méthode du gradient\n",
    "\n",
    "\n",
    "Pour cela, on utilise :\n",
    "\n",
    "$$f'(x) = \\lim_{t \\to 0} \\frac{f(x)-f(x+t)}{t} \\approx \\frac{f(x)-f(x+\\varepsilon)}{\\varepsilon}$$\n",
    "\n",
    "\n",
    "_Remarque stabilité numérique :  on prend généralement un petit epsilon que l'on fixe, par exemple $\\varepsilon = 10^{-5}$ et l'on symétrise, on choisira donc :_\n",
    "$$f'(x)  \\approx \\frac{f(x+\\varepsilon)-f(x-\\varepsilon)}{2\\varepsilon}$$\n",
    "\n",
    "_Remarque python_ : on pourra utiliser les lambda expressions pour recycler le code précédent https://www.w3schools.com/python/python_lambda.asp\n"
   ]
  },
  {
   "cell_type": "markdown",
   "metadata": {},
   "source": [
    "1. Ecrire une fonction `fp_approx` qui donne l'approximation de la dérivée au point x en utilisant la formule précédente. \n",
    "\n",
    "2. Pour la fonction donnée, écrire la fonction `fp` donnant sa dérivée exacte. Comparer les résultats en un point.\n",
    "\n",
    "3. Faire la descente de gradient en utilisant <tt>fp_approx</tt> pour trouver le minimum"
   ]
  },
  {
   "cell_type": "code",
   "execution_count": 49,
   "metadata": {},
   "outputs": [
    {
     "data": {
      "image/png": "[encoded data removed]",
      "text/plain": [
       "<Figure size 640x480 with 1 Axes>"
      ]
     },
     "metadata": {},
     "output_type": "display_data"
    },
    {
     "data": {
      "text/plain": [
       "-1"
      ]
     },
     "execution_count": 49,
     "metadata": {},
     "output_type": "execute_result"
    }
   ],
   "source": [
    "eps = 1e-5\n",
    "\n",
    "def fp_approx(f, x):\n",
    "    return (f(x + eps) - f(x - eps)) / (2 * eps)\n",
    "\n",
    "def f(x):\n",
    "    return (x**2 - 11)**2 + (x - 7)**2\n",
    "\n",
    "#dérivée -14 - 42*x + 4*x**3\n",
    "graphique_descente_ex2(f, lambda x : fp_approx(f, x), 1, 20, .01)\n"
   ]
  }
 ],
 "metadata": {
  "kernelspec": {
   "display_name": "Python 3 (ipykernel)",
   "language": "python",
   "name": "python3"
  },
  "language_info": {
   "codemirror_mode": {
    "name": "ipython",
    "version": 3
   },
   "file_extension": ".py",
   "mimetype": "text/x-python",
   "name": "python",
   "nbconvert_exporter": "python",
   "pygments_lexer": "ipython3",
   "version": "3.12.3"
  }
 },
 "nbformat": 4,
 "nbformat_minor": 4
}
