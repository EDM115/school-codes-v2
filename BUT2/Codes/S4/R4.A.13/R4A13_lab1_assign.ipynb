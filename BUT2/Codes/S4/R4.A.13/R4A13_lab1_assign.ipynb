{
 "cells": [
  {
   "cell_type": "markdown",
   "metadata": {
    "id": "CuErVRvSQf4F"
   },
   "source": [
    "# Lab1 - AI - Neural networks for digit recognition\n",
    "\n",
    "**R4.A.13 - BUT2 - IUT Vannes**\n"
   ]
  },
  {
   "cell_type": "markdown",
   "metadata": {
    "collapsed": true,
    "id": "UsvsNDplQf4G"
   },
   "source": [
    "## Introduction"
   ]
  },
  {
   "cell_type": "markdown",
   "metadata": {
    "id": "rMX6fHloQf4H"
   },
   "source": [
    "In this lab, we will build and train a neural network for digit recognition from the MNIST dataset. We will use the **nn** module of Pytorch.\n",
    "\n",
    "This lab was prepared based on the tutorial: (https://datahacker.rs/mnist-handwritten-digit-recognition-in-pytorch-1-3/)\n",
    "\n",
    "Please note that the implementation from the tutorial needs to be adapted and corrected. A simple copy/paste will not work.\n"
   ]
  },
  {
   "cell_type": "markdown",
   "metadata": {
    "id": "YxOOiyrUGFBv"
   },
   "source": [
    "**Setting up the environment**\n"
   ]
  },
  {
   "cell_type": "code",
   "execution_count": 1,
   "metadata": {
    "id": "BH7cvRHzGJG6"
   },
   "outputs": [
    {
     "name": "stdout",
     "output_type": "stream",
     "text": [
      "cpu\n"
     ]
    }
   ],
   "source": [
    "# Import required packages from Pytorch\n",
    "import torch\n",
    "from torch import nn\n",
    "from torch import optim\n",
    "import torch.nn.functional as F\n",
    "\n",
    "# fix random seed for reproducibility\n",
    "import numpy as np\n",
    "np.random.seed(7)\n",
    "\n",
    "# moves your model to train on your gpu if available else it uses your cpu\n",
    "device = (\"cuda\" if torch.cuda.is_available() else \"cpu\")\n",
    "print(device)\n"
   ]
  },
  {
   "cell_type": "code",
   "execution_count": 2,
   "metadata": {
    "id": "yZlQXmLdfy6M"
   },
   "outputs": [
    {
     "name": "stderr",
     "output_type": "stream",
     "text": [
      "'nvidia-smi' n’est pas reconnu en tant que commande interne\n",
      "ou externe, un programme exécutable ou un fichier de commandes.\n"
     ]
    }
   ],
   "source": [
    "# what is your GPU ?\n",
    "!nvidia-smi\n"
   ]
  },
  {
   "cell_type": "markdown",
   "metadata": {
    "id": "gVJ9WMDkI2f4"
   },
   "source": [
    "### **1. Loading MNIST dataset from torchvision**"
   ]
  },
  {
   "cell_type": "code",
   "execution_count": 3,
   "metadata": {
    "collapsed": true,
    "id": "2V6e-0mzQf4J"
   },
   "outputs": [],
   "source": [
    "from torchvision import datasets, transforms\n",
    "\n",
    "# Define transform to normalize data\n",
    "\n",
    "transform = transforms.Compose([\n",
    "                                transforms.ToTensor(),\n",
    "                                transforms.Normalize((0.1307,),(0.3081,))\n",
    "                                ])\n",
    "\n",
    "# Download and load the training data and the validation (test) data\n",
    "train_set = datasets.MNIST('DATA_MNIST/', download=True, train=True, transform=transform)\n",
    "trainLoader = torch.utils.data.DataLoader(train_set, batch_size=64, shuffle=True)\n",
    "\n",
    "validation_set = datasets.MNIST('DATA_MNIST/', download=True, train=False, transform=transform)\n",
    "validationLoader = torch.utils.data.DataLoader(validation_set, batch_size=64, shuffle=True)\n"
   ]
  },
  {
   "cell_type": "markdown",
   "metadata": {
    "id": "VoX7A1DICqBX"
   },
   "source": [
    "**---------------Question 1---------------**\n",
    "\n",
    "*   What is the role of *transforms.ToTensor()* ?\n",
    "\n",
    "The role of `transforms.ToTensor()` is to convert PIL Images or NumPy arrays representing images into PyTorch tensors. It automatically scales the images' pixel intensity values from the range [0, 255] to the floating-point values in the range [0.0, 1.0]. This transformation is crucial for preparing the image data for processing by neural networks in PyTorch, ensuring that the data is in the correct format and scale for training.\n",
    "\n",
    "*   What is the role of *transforms.Normalize()* ? What are the values 0.1307 and 0.3081 ?\n",
    "\n",
    "The role of `transforms.Normalize()` is to normalize the tensor image with mean and standard deviation. Given mean: `(0.1307,)` and std: `(0.3081,)`, this transformation normalizes each channel of the input tensor. Specifically, for the MNIST dataset, it subtracts 0.1307 from each pixel and then divides the result by 0.3081. This normalization helps in stabilizing the learning process and significantly reduces the number of training epochs required to train deep learning models. The values 0.1307 and 0.3081 are the global mean and standard deviation of the MNIST dataset, ensuring that the input features are more consistent and potentially speeding up the convergence during training.\n",
    "\n",
    "*   What is the batch size 64 ?\n",
    "\n",
    "The batch size of 64 refers to the number of training examples utilized in one iteration of model training. In this context, the DataLoader will load 64 images and their corresponding labels at once to pass through the neural network for each training step. This size is a compromise between training speed and the accuracy of the gradient estimation. A batch size of 64 is a common choice, providing a good balance between the computational efficiency of processing batches and the stochastic nature of mini-batch gradient descent.\n"
   ]
  },
  {
   "cell_type": "code",
   "execution_count": 4,
   "metadata": {
    "id": "qdGFhKyhixky"
   },
   "outputs": [
    {
     "name": "stdout",
     "output_type": "stream",
     "text": [
      "Train size :  60000\n",
      "validation size :  10000\n"
     ]
    }
   ],
   "source": [
    "# show the training size, test size, number of class\n",
    "print(\"Train size : \", len(train_set))\n",
    "print(\"validation size : \", len(validation_set))\n"
   ]
  },
  {
   "cell_type": "code",
   "execution_count": 5,
   "metadata": {
    "id": "LMp9RgUULgQk"
   },
   "outputs": [
    {
     "name": "stdout",
     "output_type": "stream",
     "text": [
      "torch.Size([64, 1, 28, 28])\n",
      "torch.Size([64])\n"
     ]
    }
   ],
   "source": [
    "# check the size of the image tensors and label tensors\n",
    "training_data = enumerate(trainLoader)\n",
    "batch_idx, (images, labels) = next(training_data)\n",
    "\n",
    "print(images.shape) # the size of the image\n",
    "print(labels.shape) # the size of the labels\n"
   ]
  },
  {
   "cell_type": "code",
   "execution_count": 6,
   "metadata": {
    "collapsed": true,
    "id": "FLJLu3XIQf4Q",
    "scrolled": true
   },
   "outputs": [
    {
     "data": {
      "image/png": "[encoded data removed]",
      "text/plain": [
       "<Figure size 640x480 with 12 Axes>"
      ]
     },
     "metadata": {},
     "output_type": "display_data"
    }
   ],
   "source": [
    "# Display some image samples using matplotlib.pyplot\n",
    "import matplotlib.pyplot as plt\n",
    "%matplotlib inline\n",
    "\n",
    "for i in range(0,12):\n",
    "    plt.subplot(3, 4, i+1)\n",
    "    plt.imshow(images[i].numpy().squeeze(), cmap='gray'); plt.axis('off')\n",
    "    plt.title(\"label: \" + str(labels[i].numpy().squeeze()))\n"
   ]
  },
  {
   "cell_type": "markdown",
   "metadata": {
    "id": "0o2cJzNYj--X"
   },
   "source": [
    "**---------------Question 2---------------**\n",
    "\n",
    "*   What is the role of *numpy()* ?\n",
    "\n",
    "The `numpy()` function is used to convert PyTorch tensors into NumPy arrays. This conversion is necessary because certain operations or libraries, like Matplotlib for plotting, work with NumPy arrays rather than PyTorch tensors. It's a bridge between the two libraries, allowing data to be manipulated or visualized using the extensive toolkit available in NumPy.\n",
    "\n",
    "*   What is the role of *squeeze()* ?\n",
    "\n",
    "The `squeeze()` function is used to remove all of the dimensions of input size 1 from the tensor, thereby reducing the dimensionality of the tensor without changing its data. For example, if the tensor has a shape of `(64, 1, 28, 28)` (representing batch size, channels, height, and width), applying squeeze() to the tensor would remove the single-channel dimension, resulting in a shape of `(64, 28, 28)`. This operation is useful for removing unnecessary dimensions that might complicate tensor operations or visualizations.\n"
   ]
  },
  {
   "cell_type": "code",
   "execution_count": 7,
   "metadata": {
    "id": "KThoZv8kj7K9"
   },
   "outputs": [
    {
     "name": "stdout",
     "output_type": "stream",
     "text": [
      "(28, 28)\n"
     ]
    }
   ],
   "source": [
    "# check the function squeeze()\n",
    "\n",
    "print(images[i].numpy().squeeze().shape)\n"
   ]
  },
  {
   "cell_type": "markdown",
   "metadata": {
    "id": "_0m7Fp6dQf4U"
   },
   "source": [
    "### **2. Build a fully-connected neural network**"
   ]
  },
  {
   "cell_type": "markdown",
   "metadata": {
    "id": "2vcyFKh7Qf4b"
   },
   "source": [
    "Let's define a **2-layer neural network** with:\n",
    "- first layer: 128 neurons\n",
    "- second layer: 256 neurons\n",
    "- activation ReLu\n",
    "- do not use *dropout* layer (as proposed in the tutorial) for the moment"
   ]
  },
  {
   "cell_type": "code",
   "execution_count": 8,
   "metadata": {
    "collapsed": true,
    "id": "uGh8EJjTQf4b"
   },
   "outputs": [],
   "source": [
    "\"\"\"\n",
    "class Network(nn.Module):\n",
    "    def __init__(self):\n",
    "        super(Network, self).__init__()\n",
    "        self.conv1 = nn.Conv2d(in_channels=1, out_channels=6, kernel_size=5)\n",
    "        self.conv2 = nn.Conv2d(in_channels=6, out_channels=12, kernel_size=5)\n",
    "        self.fc1 = nn.Linear(in_features=12*4*4, out_features=120)\n",
    "        self.fc2 = nn.Linear(in_features=120, out_features=60)\n",
    "        self.out = nn.Linear(in_features=60, out_features=10)\n",
    "\n",
    "    def forward(self, t):\n",
    "        # (1) input layer\n",
    "        t = t\n",
    "\n",
    "        # (2) hidden conv layer\n",
    "        t = self.conv1(t)\n",
    "        t = F.relu(t)\n",
    "        t = F.max_pool2d(t, kernel_size=2, stride=2)\n",
    "\n",
    "        # (3) hidden conv layer\n",
    "        t = self.conv2(t)\n",
    "        t = F.relu(t)\n",
    "        t = F.max_pool2d(t, kernel_size=2, stride=2)\n",
    "\n",
    "        # (4) hidden linear layer\n",
    "        t = t.reshape(-1, 12*4*4)\n",
    "        t = self.fc1(t)\n",
    "        t = F.relu(t)\n",
    "\n",
    "        # (5) hidden linear layer\n",
    "        t = self.fc2(t)\n",
    "        t = F.relu(t)\n",
    "\n",
    "        # (6) output layer\n",
    "        t = self.out(t)\n",
    "        #t = F.softmax(t, dim=1)\n",
    "\n",
    "        return t\n",
    "\"\"\"\n",
    "\n",
    "class Network(nn.Module):\n",
    "    def __init__(self):\n",
    "        super(Network, self).__init__()\n",
    "        # MNIST images are 28x28 pixels, so the input size is 784\n",
    "        self.input_size = 28 * 28\n",
    "        self.output_size = 10  # There are 10 classes (digits 0-9)\n",
    "\n",
    "        # Define the first fully connected layer\n",
    "        self.fc1 = nn.Linear(self.input_size, 128)\n",
    "        # Define the second fully connected layer\n",
    "        self.fc2 = nn.Linear(128, 256)\n",
    "        # Define the output layer\n",
    "        self.fc3 = nn.Linear(256, self.output_size)\n",
    "\n",
    "    def forward(self, x):\n",
    "        # Flatten the input tensor\n",
    "        x = x.view(-1, self.input_size)\n",
    "        # First fully connected layer with ReLU activation function\n",
    "        x = F.relu(self.fc1(x))\n",
    "        # Second fully connected layer with ReLU activation function\n",
    "        x = F.relu(self.fc2(x))\n",
    "        # Output layer\n",
    "        x = self.fc3(x)\n",
    "        return x\n"
   ]
  },
  {
   "cell_type": "markdown",
   "metadata": {
    "id": "4G_ZUTc9krgz"
   },
   "source": [
    "Let's now initialize the network"
   ]
  },
  {
   "cell_type": "code",
   "execution_count": 9,
   "metadata": {
    "id": "gSbMPD3fObtH"
   },
   "outputs": [
    {
     "name": "stdout",
     "output_type": "stream",
     "text": [
      "Network(\n",
      "  (fc1): Linear(in_features=784, out_features=128, bias=True)\n",
      "  (fc2): Linear(in_features=128, out_features=256, bias=True)\n",
      "  (fc3): Linear(in_features=256, out_features=10, bias=True)\n",
      ")\n"
     ]
    }
   ],
   "source": [
    "\"\"\"\n",
    "# Create an instance of the network\n",
    "network = Network()\n",
    "network.to(device)\n",
    "\n",
    "# Define the loss function and the optimizer\n",
    "import torch.optim as optim\n",
    "criterion = nn.CrossEntropyLoss()\n",
    "optimizer = optim.Adam(network.parameters(), lr=0.01)\n",
    "\n",
    "# Train the network\n",
    "for epoch in range(5):  # loop over the dataset multiple times\n",
    "\n",
    "    running_loss = 0.0\n",
    "    for i, data in enumerate(trainLoader, 0):\n",
    "        # get the inputs; data is a list of [inputs, labels]\n",
    "        inputs, labels = data\n",
    "        inputs, labels = inputs.to(device), labels.to(device)\n",
    "\n",
    "        # zero the parameter gradients\n",
    "        optimizer.zero_grad()\n",
    "\n",
    "        # forward + backward + optimize\n",
    "        outputs = network(inputs)\n",
    "        loss = criterion(outputs, labels)\n",
    "        loss.backward()\n",
    "        optimizer.step()\n",
    "\n",
    "        # print statistics\n",
    "        running_loss += loss.item()\n",
    "        if i % 100 == 99:    # print every 100 mini-batches\n",
    "            print('[%d, %5d] loss: %.3f' % (epoch + 1, i + 1, running_loss / 100))\n",
    "            running_loss = 0.0\n",
    "\n",
    "print('Finished Training')\n",
    "\n",
    "# Test the network on the validation data\n",
    "correct = 0\n",
    "total = 0\n",
    "with torch.no_grad():\n",
    "    for data in validationLoader:\n",
    "        images, labels = data\n",
    "        images, labels = images.to(device), labels.to(device)\n",
    "        outputs = network(images)\n",
    "        _, predicted = torch.max(outputs.data, 1)\n",
    "        total += labels.size(0)\n",
    "        correct += (predicted == labels).sum().item()\n",
    "\n",
    "print('Accuracy of the network on the 10000 test images: %d %%' % (100 * correct / total))\n",
    "\"\"\"\n",
    "\n",
    "# Instantiate the network\n",
    "model = Network()\n",
    "\n",
    "# Move the model to the device (GPU or CPU)\n",
    "model.to(device)\n",
    "\n",
    "print(model)\n"
   ]
  },
  {
   "cell_type": "markdown",
   "metadata": {
    "id": "k_FGO1uJnao_"
   },
   "source": [
    "**---------------Question 3---------------**\n",
    "\n",
    "*   Cacluate the total number of parameters ?\n",
    "*   How to print the total number of trainable parameters in Pytorch ?"
   ]
  },
  {
   "cell_type": "code",
   "execution_count": 10,
   "metadata": {
    "id": "gIQqFLzpmPqz"
   },
   "outputs": [
    {
     "name": "stdout",
     "output_type": "stream",
     "text": [
      "Total number of trainable parameters: 136074\n"
     ]
    }
   ],
   "source": [
    "# print number of total trainable parameters\n",
    "total_params = sum(p.numel() for p in model.parameters() if p.requires_grad)\n",
    "print(f\"Total number of trainable parameters: {total_params}\")\n"
   ]
  },
  {
   "cell_type": "markdown",
   "metadata": {
    "id": "j3LVhOAdQf4d"
   },
   "source": [
    "### **3. Train the model**"
   ]
  },
  {
   "cell_type": "markdown",
   "metadata": {
    "id": "aSawxt7YcT8P"
   },
   "source": [
    "Let's set up the optimizer and the loss function. You can use the Stochastic **Gradient Descent optimizer (SGD)** and the **Cross-entropy** loss as proposed by the tutorial."
   ]
  },
  {
   "cell_type": "code",
   "execution_count": 11,
   "metadata": {
    "id": "pnxp9T-OnPBi"
   },
   "outputs": [],
   "source": [
    "# Define the loss function\n",
    "criterion = nn.CrossEntropyLoss()\n",
    "\n",
    "# Define the optimizer\n",
    "optimizer = optim.SGD(model.parameters(), lr=0.01)\n"
   ]
  },
  {
   "cell_type": "markdown",
   "metadata": {
    "id": "l9o5T6tmc7j5"
   },
   "source": [
    "Now train and evaluate/validate the model (during the training)"
   ]
  },
  {
   "cell_type": "code",
   "execution_count": 12,
   "metadata": {
    "collapsed": true,
    "id": "pzgvonoZQf4d"
   },
   "outputs": [
    {
     "name": "stdout",
     "output_type": "stream",
     "text": [
      "Epoch 1/10.. Train loss: 0.746.. Train accuracy: 0.810.. Validation loss: 0.326.. Validation accuracy: 0.906\n",
      "Epoch 2/10.. Train loss: 0.301.. Train accuracy: 0.913.. Validation loss: 0.255.. Validation accuracy: 0.926\n",
      "Epoch 3/10.. Train loss: 0.246.. Train accuracy: 0.928.. Validation loss: 0.219.. Validation accuracy: 0.937\n",
      "Epoch 4/10.. Train loss: 0.209.. Train accuracy: 0.940.. Validation loss: 0.192.. Validation accuracy: 0.943\n",
      "Epoch 5/10.. Train loss: 0.183.. Train accuracy: 0.948.. Validation loss: 0.171.. Validation accuracy: 0.949\n",
      "Epoch 6/10.. Train loss: 0.162.. Train accuracy: 0.953.. Validation loss: 0.155.. Validation accuracy: 0.955\n",
      "Epoch 7/10.. Train loss: 0.146.. Train accuracy: 0.958.. Validation loss: 0.143.. Validation accuracy: 0.958\n",
      "Epoch 8/10.. Train loss: 0.132.. Train accuracy: 0.962.. Validation loss: 0.133.. Validation accuracy: 0.959\n",
      "Epoch 9/10.. Train loss: 0.120.. Train accuracy: 0.965.. Validation loss: 0.125.. Validation accuracy: 0.964\n",
      "Epoch 10/10.. Train loss: 0.111.. Train accuracy: 0.968.. Validation loss: 0.118.. Validation accuracy: 0.965\n"
     ]
    }
   ],
   "source": [
    "epochs = 10\n",
    "train_losses, validation_losses = [], []\n",
    "train_accuracies, validation_accuracies = [], []\n",
    "\n",
    "for epoch in range(epochs):\n",
    "    running_loss = 0\n",
    "    correct = 0\n",
    "    total = 0\n",
    "    \n",
    "    model.train()  # Set the model to training mode\n",
    "    for images, labels in trainLoader:\n",
    "        images, labels = images.to(device), labels.to(device)\n",
    "        \n",
    "        optimizer.zero_grad()  # Zero the parameter gradients\n",
    "        \n",
    "        outputs = model(images)  # Forward pass\n",
    "        loss = criterion(outputs, labels)  # Calculate loss\n",
    "        loss.backward()  # Backward pass\n",
    "        optimizer.step()  # Optimize\n",
    "        \n",
    "        running_loss += loss.item()\n",
    "        _, predicted = torch.max(outputs.data, 1)\n",
    "        total += labels.size(0)\n",
    "        correct += (predicted == labels).sum().item()\n",
    "        \n",
    "    train_losses.append(running_loss / len(trainLoader))\n",
    "    train_accuracies.append(correct / total)\n",
    "    \n",
    "    # Validation\n",
    "    model.eval()  # Set the model to evaluation mode\n",
    "    validation_loss = 0\n",
    "    correct = 0\n",
    "    total = 0\n",
    "    with torch.no_grad():  # Disable gradient calculation\n",
    "        for images, labels in validationLoader:\n",
    "            images, labels = images.to(device), labels.to(device)\n",
    "            \n",
    "            outputs = model(images)\n",
    "            loss = criterion(outputs, labels)\n",
    "            validation_loss += loss.item()\n",
    "            _, predicted = torch.max(outputs.data, 1)\n",
    "            total += labels.size(0)\n",
    "            correct += (predicted == labels).sum().item()\n",
    "            \n",
    "    validation_losses.append(validation_loss / len(validationLoader))\n",
    "    validation_accuracies.append(correct / total)\n",
    "    \n",
    "    print(f\"Epoch {epoch+1}/{epochs}.. \"\n",
    "          f\"Train loss: {train_losses[-1]:.3f}.. \"\n",
    "          f\"Train accuracy: {train_accuracies[-1]:.3f}.. \"\n",
    "          f\"Validation loss: {validation_losses[-1]:.3f}.. \"\n",
    "          f\"Validation accuracy: {validation_accuracies[-1]:.3f}\")\n"
   ]
  },
  {
   "cell_type": "markdown",
   "metadata": {
    "id": "AKSTHe0SdKFg"
   },
   "source": [
    "Let’s plot our loss and accuracies and see if they are falling or growing.\n",
    "\n"
   ]
  },
  {
   "cell_type": "code",
   "execution_count": 13,
   "metadata": {
    "id": "KbhjckryPT4Y"
   },
   "outputs": [
    {
     "data": {
      "image/png": "[encoded data removed]",
      "text/plain": [
       "<Figure size 1200x600 with 2 Axes>"
      ]
     },
     "metadata": {},
     "output_type": "display_data"
    }
   ],
   "source": [
    "# plot the loss curves and accuracy curves\n",
    "import matplotlib.pyplot as plt\n",
    "\n",
    "plt.figure(figsize=(12, 6))\n",
    "plt.subplot(1, 2, 1)\n",
    "plt.plot(train_losses, label='Training Loss')\n",
    "plt.plot(validation_losses, label='Validation Loss')\n",
    "plt.xlabel('Epochs')\n",
    "plt.ylabel('Loss')\n",
    "plt.legend()\n",
    "\n",
    "plt.subplot(1, 2, 2)\n",
    "plt.plot(train_accuracies, label='Training Accuracy')\n",
    "plt.plot(validation_accuracies, label='Validation Accuracy')\n",
    "plt.xlabel('Epochs')\n",
    "plt.ylabel('Accuracy')\n",
    "plt.legend()\n",
    "\n",
    "plt.tight_layout()\n",
    "plt.show()\n",
    "\n"
   ]
  },
  {
   "cell_type": "markdown",
   "metadata": {
    "id": "V5XNtf1YemNl"
   },
   "source": [
    "**---------------Question 4---------------**\n",
    "\n",
    "*  Your remarks and comments about the training process ?\n",
    "\n",
    "1. **Batch processing** : The use of mini-batch gradient descent (via DataLoader with a specified batch size) is effective for managing memory resources and accelerating the training process. It strikes a balance between the computational efficiency of batch gradient descent and the stochastic nature of SGD.\n",
    "2. **Learning rate and optimizer** : The choice of SGD and a learning rate of 0.01 is a standard starting point, but the training process could potentially benefit from a learning rate schedule (e.g., reducing the learning rate when a metric has stopped improving) or using more sophisticated optimizers like Adam, which can adapt the learning rates of each parameter.\n",
    "3. **Evaluation during training** : Evaluating the model on a validation set during training is crucial for monitoring overfitting. If the training accuracy continues to improve while the validation accuracy plateaus or decreases, it could indicate that the model is beginning to memorize the training data rather than learning generalizable patterns.\n",
    "4. **Loss and accuracy trends** : The trends in loss and accuracy on both training and validation sets give important feedback about the learning process. Ideally, both training and validation losses should decrease over time, and accuracies should increase. Plateaus or increases in loss or decreases in accuracy could indicate issues such as learning rate problems or model complexity issues.\n",
    "\n",
    "*  Why is the training time of the first epoch is so long ?\n",
    "1. **Initialization overhead** : At the beginning of the training process, there's some one-time setup work that needs to be done, including allocating memory for the model's parameters, initializing the data loaders, and transferring the initial batch of data to the GPU if one is being used. This overhead is only incurred once, making the first epoch take longer than subsequent ones.\n",
    "2. **Caching effects** : When data is loaded for the first time, it may also be cached in memory, making access faster for subsequent epochs. The initial loading and processing of data can contribute to a longer first epoch.\n",
    "3. **Compilation overhead** : In some deep learning frameworks and hardware setups (especially when using GPUs), the first invocation of the model's forward and backward passes might trigger compilation of computational graphs or kernels. This compilation is a one-time cost that makes the first epoch longer.\n",
    "4. **Data loading and augmentation** : If there's significant data preprocessing or augmentation happening on the fly during the data loading phase, this could also make the initial epochs slower as caches and optimizations haven't yet taken full effect.\n"
   ]
  },
  {
   "cell_type": "markdown",
   "metadata": {
    "id": "hxaNP07gQf4i"
   },
   "source": [
    "### **4. Evaluation of a trained network**"
   ]
  },
  {
   "cell_type": "markdown",
   "metadata": {
    "id": "CtEcHaiLfA7H"
   },
   "source": [
    "Once our model is trained, we can simply use the trained weights to make some new predictions by turning off the gradients.\n",
    "\n",
    "Let's first predict label for a single image."
   ]
  },
  {
   "cell_type": "code",
   "execution_count": 14,
   "metadata": {
    "collapsed": true,
    "id": "HCK4iTOfQf4j"
   },
   "outputs": [
    {
     "name": "stdout",
     "output_type": "stream",
     "text": [
      "Predicted Label: 9\n"
     ]
    }
   ],
   "source": [
    "model.eval()  # Set the model to evaluation mode\n",
    "\n",
    "# Get one batch from the validation loader\n",
    "images, labels = next(iter(validationLoader))\n",
    "images, labels = images.to(device), labels.to(device)\n",
    "\n",
    "# Take the first image from the batch\n",
    "img = images[0].unsqueeze(0)  # Model expects a batch, so add batch dimension\n",
    "\n",
    "with torch.no_grad():  # Turn off gradients for validation, saves memory and computations\n",
    "    output = model(img)\n",
    "    _, predicted_label = torch.max(output, 1)\n",
    "\n",
    "# Convert the predicted label tensor to a numpy array and print it\n",
    "print(f\"Predicted Label: {predicted_label.item()}\")\n"
   ]
  },
  {
   "cell_type": "markdown",
   "metadata": {
    "id": "WhDR_0EzfIsw"
   },
   "source": [
    "Predict labels for a batch"
   ]
  },
  {
   "cell_type": "code",
   "execution_count": 15,
   "metadata": {
    "id": "U7hW6patUGAn"
   },
   "outputs": [
    {
     "name": "stdout",
     "output_type": "stream",
     "text": [
      "Predicted Labels: tensor([9, 2, 3, 9, 1, 3, 9, 8, 5, 6, 0, 0, 5, 2, 3, 8, 4, 3, 4, 7, 9, 7, 3, 4,\n",
      "        0, 1, 8, 7, 8, 9, 1, 5, 5, 6, 2, 1, 6, 6, 1, 9, 9, 6, 2, 5, 2, 3, 1, 0,\n",
      "        2, 0, 3, 6, 8, 0, 8, 8, 8, 7, 0, 7, 6, 3, 1, 0])\n",
      "True Labels: tensor([9, 2, 3, 9, 1, 3, 9, 8, 5, 6, 0, 0, 5, 2, 3, 8, 4, 3, 4, 7, 9, 7, 3, 4,\n",
      "        0, 1, 8, 7, 8, 9, 1, 5, 5, 6, 2, 1, 6, 6, 1, 9, 9, 6, 2, 5, 2, 3, 1, 0,\n",
      "        2, 0, 3, 6, 8, 0, 8, 8, 8, 7, 0, 7, 6, 3, 1, 0])\n"
     ]
    }
   ],
   "source": [
    "with torch.no_grad():\n",
    "    outputs = model(images)  # Here, 'images' is a batch from the validation set\n",
    "    _, predicted_labels = torch.max(outputs, 1)\n",
    "\n",
    "# Print the predicted labels and the true labels\n",
    "print(f\"Predicted Labels: {predicted_labels}\")\n",
    "print(f\"True Labels: {labels}\")\n"
   ]
  },
  {
   "cell_type": "markdown",
   "metadata": {
    "id": "OP1hE_klf5ID"
   },
   "source": [
    "Calculate the performance on the whole validation set"
   ]
  },
  {
   "cell_type": "code",
   "execution_count": 16,
   "metadata": {
    "collapsed": true,
    "id": "D3Dhsx2IQf4l"
   },
   "outputs": [
    {
     "name": "stdout",
     "output_type": "stream",
     "text": [
      "Accuracy of the network on the validation images: 96.46%\n"
     ]
    }
   ],
   "source": [
    "correct = 0\n",
    "total = 0\n",
    "\n",
    "with torch.no_grad():\n",
    "    for images, labels in validationLoader:\n",
    "        images, labels = images.to(device), labels.to(device)\n",
    "        outputs = model(images)\n",
    "        _, predicted = torch.max(outputs.data, 1)\n",
    "        total += labels.size(0)\n",
    "        correct += (predicted == labels).sum().item()\n",
    "\n",
    "print(f'Accuracy of the network on the validation images: {100 * correct / total}%')\n"
   ]
  },
  {
   "cell_type": "markdown",
   "metadata": {
    "id": "nRWjiSaQQf4t"
   },
   "source": [
    "### **5. Building other neural networks**\n",
    "Now, you can try other hyper-parameters to see the their influence on the performance.\n",
    "You can also create and test other neural nets by adding more neurons, more layers.\n",
    "\n",
    "Report the performance and comments on your work\n",
    "  "
   ]
  },
  {
   "cell_type": "code",
   "execution_count": 17,
   "metadata": {
    "collapsed": true,
    "id": "J2z71IIFQf4u"
   },
   "outputs": [],
   "source": [
    "import torch\n",
    "from torch import nn, optim\n",
    "import torch.nn.functional as F\n",
    "from torchvision import datasets, transforms\n",
    "from torch.utils.data import DataLoader\n",
    "import matplotlib.pyplot as plt\n",
    "\n",
    "class ComplexNetwork(nn.Module):\n",
    "    def __init__(self):\n",
    "        super(ComplexNetwork, self).__init__()\n",
    "        self.fc1 = nn.Linear(784, 256)  # First layer with more neurons\n",
    "        self.fc2 = nn.Linear(256, 512)  # Additional layer\n",
    "        self.fc3 = nn.Linear(512, 128)  # Additional layer with reduced neurons, to avoid too many params\n",
    "        self.fc4 = nn.Linear(128, 10)   # Output layer for 10 classes\n",
    "\n",
    "    def forward(self, x):\n",
    "        x = x.view(-1, 784)  # Flatten the image\n",
    "        x = F.relu(self.fc1(x))\n",
    "        x = F.relu(self.fc2(x))\n",
    "        x = F.relu(self.fc3(x))\n",
    "        x = self.fc4(x)\n",
    "        return x\n"
   ]
  },
  {
   "cell_type": "code",
   "execution_count": 19,
   "metadata": {
    "collapsed": true,
    "id": "XhoC1PF9Qf4x"
   },
   "outputs": [
    {
     "name": "stdout",
     "output_type": "stream",
     "text": [
      "Epoch 1/10, Training Loss: 0.2255, Validation Loss: 0.1195\n",
      "Epoch 2/10, Training Loss: 0.0946, Validation Loss: 0.0838\n",
      "Epoch 3/10, Training Loss: 0.0701, Validation Loss: 0.0866\n",
      "Epoch 4/10, Training Loss: 0.0533, Validation Loss: 0.0925\n",
      "Epoch 5/10, Training Loss: 0.0495, Validation Loss: 0.0760\n",
      "Epoch 6/10, Training Loss: 0.0374, Validation Loss: 0.0937\n",
      "Epoch 7/10, Training Loss: 0.0341, Validation Loss: 0.0987\n",
      "Epoch 8/10, Training Loss: 0.0286, Validation Loss: 0.1109\n",
      "Epoch 9/10, Training Loss: 0.0240, Validation Loss: 0.1006\n",
      "Epoch 10/10, Training Loss: 0.0260, Validation Loss: 0.0868\n"
     ]
    }
   ],
   "source": [
    "# Data preparation\n",
    "transform = transforms.Compose([transforms.ToTensor(), transforms.Normalize((0.1307,), (0.3081,))])\n",
    "train_set = datasets.MNIST('DATA_MNIST/', download=True, train=True, transform=transform)\n",
    "trainLoader = DataLoader(train_set, batch_size=64, shuffle=True)\n",
    "validation_set = datasets.MNIST('DATA_MNIST/', download=True, train=False, transform=transform)\n",
    "validationLoader = DataLoader(validation_set, batch_size=64, shuffle=True)\n",
    "\n",
    "# Model initialization\n",
    "device = torch.device(\"cuda\" if torch.cuda.is_available() else \"cpu\")\n",
    "model = ComplexNetwork().to(device)\n",
    "\n",
    "# Optimizer and loss function\n",
    "optimizer = optim.Adam(model.parameters(), lr=0.001)  # Using Adam optimizer\n",
    "criterion = nn.CrossEntropyLoss()\n",
    "\n",
    "# Training loop\n",
    "epochs = 10\n",
    "training_losses = []\n",
    "validation_losses = []\n",
    "for epoch in range(epochs):\n",
    "    model.train()\n",
    "    training_loss = 0\n",
    "    for images, labels in trainLoader:\n",
    "        images, labels = images.to(device), labels.to(device)\n",
    "        \n",
    "        optimizer.zero_grad()\n",
    "        output = model(images)\n",
    "        loss = criterion(output, labels)\n",
    "        loss.backward()\n",
    "        optimizer.step()\n",
    "        \n",
    "        training_loss += loss.item()\n",
    "    \n",
    "    # Validation\n",
    "    validation_loss = 0\n",
    "    model.eval()\n",
    "    with torch.no_grad():\n",
    "        for images, labels in validationLoader:\n",
    "            images, labels = images.to(device), labels.to(device)\n",
    "            output = model(images)\n",
    "            loss = criterion(output, labels)\n",
    "            validation_loss += loss.item()\n",
    "    \n",
    "    training_losses.append(training_loss / len(trainLoader))\n",
    "    validation_losses.append(validation_loss / len(validationLoader))\n",
    "    print(f\"Epoch {epoch+1}/{epochs}, Training Loss: {training_losses[-1]:.4f}, Validation Loss: {validation_losses[-1]:.4f}\")\n"
   ]
  },
  {
   "cell_type": "code",
   "execution_count": 20,
   "metadata": {
    "collapsed": true,
    "id": "hE79JZTgQf4y"
   },
   "outputs": [
    {
     "data": {
      "image/png": "[encoded data removed]",
      "text/plain": [
       "<Figure size 640x480 with 1 Axes>"
      ]
     },
     "metadata": {},
     "output_type": "display_data"
    },
    {
     "name": "stdout",
     "output_type": "stream",
     "text": [
      "Final Training Loss: 0.0260\n",
      "Final Validation Loss: 0.0868\n"
     ]
    }
   ],
   "source": [
    "# Plotting training and validation loss\n",
    "plt.plot(training_losses, label='Training Loss')\n",
    "plt.plot(validation_losses, label='Validation Loss')\n",
    "plt.xlabel('Epoch')\n",
    "plt.ylabel('Loss')\n",
    "plt.title('Training and Validation Loss')\n",
    "plt.legend()\n",
    "plt.show()\n",
    "\n",
    "# Final remarks on performance\n",
    "print(f\"Final Training Loss: {training_losses[-1]:.4f}\")\n",
    "print(f\"Final Validation Loss: {validation_losses[-1]:.4f}\")\n"
   ]
  }
 ],
 "metadata": {
  "accelerator": "GPU",
  "anaconda-cloud": {},
  "colab": {
   "gpuType": "T4",
   "provenance": []
  },
  "kernelspec": {
   "display_name": "Python 3",
   "name": "python3"
  },
  "language_info": {
   "codemirror_mode": {
    "name": "ipython",
    "version": 3
   },
   "file_extension": ".py",
   "mimetype": "text/x-python",
   "name": "python",
   "nbconvert_exporter": "python",
   "pygments_lexer": "ipython3",
   "version": "3.12.2"
  }
 },
 "nbformat": 4,
 "nbformat_minor": 0
}
