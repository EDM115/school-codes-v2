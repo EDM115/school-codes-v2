{
 "cells": [
  {
   "cell_type": "markdown",
   "metadata": {},
   "source": [
    "### 19/09/2023\n",
    "#### TP2"
   ]
  },
  {
   "cell_type": "markdown",
   "metadata": {},
   "source": [
    "---\n",
    "\n",
    "<div align=\"center\">\n",
    "\n",
    "# L'algorithme Naïf Bayes :\n",
    "\n",
    "</div>\n",
    "\n",
    "L'algorithme Naive Bayes est un modèle probabiliste largement utilisé en apprentissage automatique, en particulier pour la classification de texte et d'autres types de données catégoriques. Il repose sur le théorème de Bayes, qui permet de calculer la probabilité qu'un exemple donné appartienne à une classe particulière en fonction des probabilités conditionnelles des caractéristiques.\n",
    "\n",
    "Nous verrons l'algorithme Naive Bayes Gaussian, qui est utilisé pour les données continues et est basé sur la distribution gaussienne. Il est également appelé algorithme Naive Bayes Gaussien. Ainsi que l'algorithme Naive Bayes de Bernoulli, qui est utilisé pour les données binaires et est basé sur la distribution de Bernoulli. Il est également appelé algorithme Naive Bayes de Bernoulli.\n",
    "\n",
    "###### Nous les verrons car ce sont ceux qu'on a vu avec Mr. **God**in..."
   ]
  },
  {
   "cell_type": "markdown",
   "metadata": {},
   "source": [
    "### Bayes Naïf : GaussianNB\n",
    "\n",
    "L'algorithme Naive Bayes gaussien est une variante de l'algorithme Naive Bayes qui est utilisée lorsque les caractéristiques d'un ensemble de données sont continues et suivent une distribution gaussienne (normale). Contrairement au Naive Bayes multinomial, qui est adapté aux caractéristiques discrètes telles que les comptages de mots, le Naive Bayes gaussien est utilisé lorsque les caractéristiques sont des variables réelles.\n",
    "\n",
    "$$ P(x_i \\mid y) = \\frac{1}{\\sqrt{2\\pi\\sigma^2_y}} \\exp\\left(-\\frac{(x_i - \\mu_y)^2}{2\\sigma^2_y}\\right) $$\n",
    "\n",
    "$$ P(xi​∣y) $$ \n",
    "\n",
    "<p style=\"text-align: center;\">\n",
    "Probabilité conditionnelle de la caractéristique xi​ sachant la classe y. <br>\n",
    "</p>\n",
    "\n",
    "$$ \\mu_y​ $$ \n",
    "\n",
    "<p style=\"text-align: center;\">\n",
    "La moyenne des valeurs de la caractéristique xi​ pour la classe y. <br>\n",
    "</p>\n",
    "\n",
    "$$ \\sigma^2_y​ $$\n",
    "\n",
    "<p style=\"text-align: center;\">\n",
    "La variance des valeurs de la caractéristique xi​ pour la classe y. <br>\n",
    "</p>\n",
    "\n",
    "Test de l'algorithme Naïf Bayes sur le jeu de données Iris."
   ]
  },
  {
   "cell_type": "code",
   "execution_count": 7,
   "metadata": {},
   "outputs": [
    {
     "name": "stdout",
     "output_type": "stream",
     "text": [
      "Number of mislabeled points out of a total 100 points : 7\n"
     ]
    }
   ],
   "source": [
    "from sklearn.datasets import load_iris # importation du jeu de données\n",
    "from sklearn.model_selection import train_test_split # importation de la fonction de découpage du jeu de données\n",
    "from sklearn.naive_bayes import GaussianNB # importation de la fonction de classification (Gaussian Naive Bayes)\n",
    "X, y = load_iris(return_X_y=True) # chargement du jeu de données\n",
    "X_train, X_test, y_train, y_test = train_test_split(X, y, test_size=0.666, random_state=0) # découpage du jeu de données sur 100 points\n",
    "gnb = GaussianNB() # instanciation de la fonction de classification\n",
    "y_pred = gnb.fit(X_train, y_train).predict(X_test) # prédiction des classes\n",
    "print(\"Number of mislabeled points out of a total %d points : %d\"% (X_test.shape[0], (y_test != y_pred).sum())) # affichage du nombre de points mal classés\n"
   ]
  },
  {
   "cell_type": "markdown",
   "metadata": {},
   "source": [
    "Test de l'algorithme Naïf Bayes sur le jeu de données Iris #2."
   ]
  },
  {
   "cell_type": "code",
   "execution_count": 8,
   "metadata": {},
   "outputs": [
    {
     "name": "stdout",
     "output_type": "stream",
     "text": [
      "Précision du modèle : 94.00%\n"
     ]
    }
   ],
   "source": [
    "# Importer les bibliothèques nécessaires\n",
    "from sklearn import datasets\n",
    "from sklearn.model_selection import train_test_split\n",
    "from sklearn.naive_bayes import GaussianNB\n",
    "from sklearn.metrics import accuracy_score\n",
    "\n",
    "# Charger l'ensemble de données Iris\n",
    "iris = datasets.load_iris()\n",
    "X = iris.data  # Les caractéristiques\n",
    "y = iris.target  # Les étiquettes (classes)\n",
    "\n",
    "# Diviser l'ensemble de données en ensembles d'entraînement et de test\n",
    "X_train, X_test, y_train, y_test = train_test_split(X, y, test_size=0.666, random_state=42)\n",
    "\n",
    "# Créer un classificateur Naive Bayes gaussien\n",
    "gnb = GaussianNB()\n",
    "\n",
    "# Entraîner le modèle sur l'ensemble d'entraînement\n",
    "gnb.fit(X_train, y_train)\n",
    "\n",
    "# Faire des prédictions sur l'ensemble de test\n",
    "y_pred = gnb.predict(X_test)\n",
    "\n",
    "# Calculer la précision du modèle\n",
    "accuracy = accuracy_score(y_test, y_pred)\n",
    "print(\"Précision du modèle : {:.2f}%\".format(accuracy * 100))\n"
   ]
  },
  {
   "cell_type": "markdown",
   "metadata": {},
   "source": [
    "### Bayes Naïf : BernoulliNB\n",
    "\n",
    "L'algorithme de Bayes Naïf avec BernoulliNB est une variante de l'algorithme Naïf Bayes qui est spécifiquement conçue pour les données binaires, c'est-à-dire les données qui ont seulement deux valeurs possibles (1 et 0, vrai et faux, présence et absence, etc.). Il est couramment utilisé pour la classification de texte, la détection de spam et d'autres problèmes de classification binaire.\n",
    "\n",
    "$$ P(x_i \\mid y) = P(x_i = 1 \\mid y) x_i + (1 - P(x_i = 1 \\mid y)) (1 - x_i) $$\n",
    "\n",
    "$$ P(xi​∣y) $$\n",
    "\n",
    "<p style=\"text-align: center;\">\n",
    "Cela représente la probabilité conditionnelle que la caractéristique xi​ soit présente (a la valeur 1) sachant que la classe cible est y. En d'autres termes, quelle est la probabilité que la caractéristique xi​ soit active si nous savons que l'exemple appartient à la classe y.\n",
    "</p>\n",
    "\n",
    "$$ P(xi​=1∣y) $$\n",
    "\n",
    "<p style=\"text-align: center;\">\n",
    "C'est la probabilité que la caractéristique xi soit égale à 1 (activée) lorsque la classe cible est y. C'est l'une des principales quantités que l'algorithme cherche à estimer à partir des données d'entraînement.\n",
    "</p>\n",
    "\n",
    "$$ P(xi​=0∣y) $$\n",
    "\n",
    "<p style=\"text-align: center;\">\n",
    "C'est la probabilité que la caractéristique xi soit égale à 0 (désactivée) lorsque la classe cible est y. C'est l'une des principales quantités que l'algorithme cherche à estimer à partir des données d'entraînement.\n",
    "</p>\n",
    "\n",
    "\n",
    "\n",
    "\n",
    "\n",
    "L'idée principale de cet algorithme est d'estimer les probabilités pour chaque caractéristique xi​ et chaque classe y à partir des données d'entraînement. Ensuite, lors de la prédiction, il utilise ces probabilités estimées pour calculer la probabilité que l'exemple appartienne à chaque classe y en utilisant le théorème de Bayes.\n"
   ]
  },
  {
   "cell_type": "code",
   "execution_count": 9,
   "metadata": {},
   "outputs": [
    {
     "name": "stdout",
     "output_type": "stream",
     "text": [
      "Le sentiment de 'Java' est prédit comme positif.\n",
      "Le sentiment de 'Python' est prédit comme positif.\n",
      "Le sentiment de 'C#' est prédit comme négatif.\n",
      "Précision du modèle : 100.00%\n"
     ]
    }
   ],
   "source": [
    "# Importation des bibliothèques nécessaires\n",
    "from sklearn.feature_extraction.text import CountVectorizer\n",
    "from sklearn.naive_bayes import BernoulliNB\n",
    "from sklearn.metrics import accuracy_score\n",
    "\n",
    "# Création de données factices\n",
    "documents = [\"Python\", \"Java\", \"PHP\", \"C++\"]\n",
    "labels = [1, 1, 0, 0]  # 1 pour positif, 0 pour négatif\n",
    "\n",
    "# Vectorisation des données textuelles\n",
    "vectorizer = CountVectorizer(binary=True)\n",
    "X = vectorizer.fit_transform(documents)\n",
    "\n",
    "# Création du modèle Bernoulli Naive Bayes\n",
    "model = BernoulliNB()\n",
    "\n",
    "# Entraînement du modèle\n",
    "model.fit(X, labels)\n",
    "\n",
    "# Nouvelles données pour la prédiction\n",
    "new_documents = [\"Java\", \"Python\", \"C#\"]\n",
    "\n",
    "# Vectorisation des nouvelles données\n",
    "X_new = vectorizer.transform(new_documents)\n",
    "\n",
    "# Prédiction des étiquettes\n",
    "predictions = model.predict(X_new)\n",
    "\n",
    "# Affichage des prédictions\n",
    "for doc, label in zip(new_documents, predictions):\n",
    "    sentiment = \"positif\" if label == 1 else \"négatif\"\n",
    "    print(f\"Le sentiment de '{doc}' est prédit comme {sentiment}.\")\n",
    "\n",
    "# Évaluation de la précision\n",
    "accuracy = accuracy_score(labels, model.predict(X))\n",
    "print(f\"Précision du modèle : {accuracy * 100:.2f}%\")\n"
   ]
  },
  {
   "cell_type": "markdown",
   "metadata": {},
   "source": [
    "---\n",
    "\n"
   ]
  },
  {
   "cell_type": "markdown",
   "metadata": {},
   "source": [
    "<div align=\"center\" style=\"color:yellow\">\n",
    "<h1>Algorithme LogisticRegression</h1>\n",
    "</div>"
   ]
  },
  {
   "cell_type": "markdown",
   "metadata": {},
   "source": [
    "## Introduction\n",
    "\n",
    "La régression logistique est l'un des algorithmes de machine learning les plus fondamentaux et couramment utilisés pour résoudre des problèmes de classification. Que ce soit pour prédire si un e-mail est du spam ou non, diagnostiquer une maladie médicale, ou même distinguer entre deux types d'animaux, la régression logistique est un outil polyvalent qui peut être appliqué à une multitude de domaines.\n",
    "\n",
    "Dans cet exemple, nous allons plonger dans le monde de la régression logistique en utilisant la bibliothèque Python scikit-learn (ou sklearn). Nous allons explorer chaque étape du processus, de la génération de données synthétiques à la création, l'entraînement et l'évaluation d'un modèle de régression logistique. Nous verrons également comment visualiser la frontière de décision du modèle pour comprendre comment il prend des décisions de classification.\n",
    "\n",
    "L'objectif de cette introduction est de vous familiariser avec la régression logistique et de vous montrer comment l'utiliser de manière pratique pour résoudre des problèmes de classification. Nous allons couvrir les bases et introduire des concepts plus avancés tels que la régularisation et la gestion des classes déséquilibrées. À la fin de cet exemple, vous aurez une compréhension solide de la régression logistique et de son application dans le monde réel."
   ]
  },
  {
   "cell_type": "markdown",
   "metadata": {},
   "source": [
    "## Étape 1 : Importation des bibliothèques\n",
    "\n",
    " Au début, nous devons importer des bibliothèques de Python pour effectuer des calculs mathématiques, créer des graphiques, et utiliser des outils de machine learning comme scikit-learn."
   ]
  },
  {
   "cell_type": "code",
   "execution_count": 10,
   "metadata": {},
   "outputs": [],
   "source": [
    "\n",
    "# Importation des bibliothèques nécessaires\n",
    "import numpy as np\n",
    "import matplotlib.pyplot as plt\n",
    "from sklearn.datasets import make_classification  # Pour générer des données synthétiques\n",
    "from sklearn.model_selection import train_test_split  # Pour diviser les données en ensembles d'entraînement et de test\n",
    "from sklearn.linear_model import LogisticRegression  # Pour créer et entraîner le modèle de régression logistique\n",
    "from sklearn.metrics import accuracy_score, confusion_matrix, classification_report  # Pour évaluer le modèle\n",
    "\n"
   ]
  },
  {
   "cell_type": "markdown",
   "metadata": {},
   "source": [
    "## Étape 2 : Génération de données synthétiques\n",
    "\n",
    "Nous générons des données synthétiques pour notre exemple. Ces données sont constituées de deux caractéristiques `(n_features=2)` et deux classes `(n_classes=2)`."
   ]
  },
  {
   "cell_type": "code",
   "execution_count": 11,
   "metadata": {},
   "outputs": [],
   "source": [
    "\n",
    "# Génération de données synthétiques pour l'exemple\n",
    "X, y = make_classification(\n",
    "    n_samples=100,            # Nombre total d'échantillons\n",
    "    n_features=2,             # Nombre de caractéristiques\n",
    "    n_informative=2,          # Nombre de caractéristiques informatives\n",
    "    n_redundant=0,            # Nombre de caractéristiques redondantes\n",
    "    n_classes=2,              # Nombre de classes (dans cet exemple, 2 : chat ou chien)\n",
    "    n_clusters_per_class=1,   # Nombre de clusters par classe\n",
    "    random_state=42            # Seed pour la reproductibilité\n",
    ")\n",
    "\n"
   ]
  },
  {
   "cell_type": "markdown",
   "metadata": {},
   "source": [
    "## Étape 3 : Séparation des données\n",
    "\n",
    "Nous divisons les données en ensembles d'entraînement et de test pour évaluer la performance du modèle."
   ]
  },
  {
   "cell_type": "code",
   "execution_count": 12,
   "metadata": {},
   "outputs": [],
   "source": [
    "# Séparation des données en ensembles d'entraînement et de test (80% - 20%)\n",
    "X_train, X_test, y_train, y_test = train_test_split(X, y, test_size=0.2, random_state=42)\n"
   ]
  },
  {
   "cell_type": "markdown",
   "metadata": {},
   "source": [
    "## Étape 4 : Création et entraînement du modèle\n",
    "\n",
    "Nous créons un modèle de régression logistique et l'entraînons sur l'ensemble d'entraînement."
   ]
  },
  {
   "cell_type": "code",
   "execution_count": 13,
   "metadata": {},
   "outputs": [
    {
     "data": {
      "text/html": [
       "<style>#sk-container-id-1 {color: black;}#sk-container-id-1 pre{padding: 0;}#sk-container-id-1 div.sk-toggleable {background-color: white;}#sk-container-id-1 label.sk-toggleable__label {cursor: pointer;display: block;width: 100%;margin-bottom: 0;padding: 0.3em;box-sizing: border-box;text-align: center;}#sk-container-id-1 label.sk-toggleable__label-arrow:before {content: \"▸\";float: left;margin-right: 0.25em;color: #696969;}#sk-container-id-1 label.sk-toggleable__label-arrow:hover:before {color: black;}#sk-container-id-1 div.sk-estimator:hover label.sk-toggleable__label-arrow:before {color: black;}#sk-container-id-1 div.sk-toggleable__content {max-height: 0;max-width: 0;overflow: hidden;text-align: left;background-color: #f0f8ff;}#sk-container-id-1 div.sk-toggleable__content pre {margin: 0.2em;color: black;border-radius: 0.25em;background-color: #f0f8ff;}#sk-container-id-1 input.sk-toggleable__control:checked~div.sk-toggleable__content {max-height: 200px;max-width: 100%;overflow: auto;}#sk-container-id-1 input.sk-toggleable__control:checked~label.sk-toggleable__label-arrow:before {content: \"▾\";}#sk-container-id-1 div.sk-estimator input.sk-toggleable__control:checked~label.sk-toggleable__label {background-color: #d4ebff;}#sk-container-id-1 div.sk-label input.sk-toggleable__control:checked~label.sk-toggleable__label {background-color: #d4ebff;}#sk-container-id-1 input.sk-hidden--visually {border: 0;clip: rect(1px 1px 1px 1px);clip: rect(1px, 1px, 1px, 1px);height: 1px;margin: -1px;overflow: hidden;padding: 0;position: absolute;width: 1px;}#sk-container-id-1 div.sk-estimator {font-family: monospace;background-color: #f0f8ff;border: 1px dotted black;border-radius: 0.25em;box-sizing: border-box;margin-bottom: 0.5em;}#sk-container-id-1 div.sk-estimator:hover {background-color: #d4ebff;}#sk-container-id-1 div.sk-parallel-item::after {content: \"\";width: 100%;border-bottom: 1px solid gray;flex-grow: 1;}#sk-container-id-1 div.sk-label:hover label.sk-toggleable__label {background-color: #d4ebff;}#sk-container-id-1 div.sk-serial::before {content: \"\";position: absolute;border-left: 1px solid gray;box-sizing: border-box;top: 0;bottom: 0;left: 50%;z-index: 0;}#sk-container-id-1 div.sk-serial {display: flex;flex-direction: column;align-items: center;background-color: white;padding-right: 0.2em;padding-left: 0.2em;position: relative;}#sk-container-id-1 div.sk-item {position: relative;z-index: 1;}#sk-container-id-1 div.sk-parallel {display: flex;align-items: stretch;justify-content: center;background-color: white;position: relative;}#sk-container-id-1 div.sk-item::before, #sk-container-id-1 div.sk-parallel-item::before {content: \"\";position: absolute;border-left: 1px solid gray;box-sizing: border-box;top: 0;bottom: 0;left: 50%;z-index: -1;}#sk-container-id-1 div.sk-parallel-item {display: flex;flex-direction: column;z-index: 1;position: relative;background-color: white;}#sk-container-id-1 div.sk-parallel-item:first-child::after {align-self: flex-end;width: 50%;}#sk-container-id-1 div.sk-parallel-item:last-child::after {align-self: flex-start;width: 50%;}#sk-container-id-1 div.sk-parallel-item:only-child::after {width: 0;}#sk-container-id-1 div.sk-dashed-wrapped {border: 1px dashed gray;margin: 0 0.4em 0.5em 0.4em;box-sizing: border-box;padding-bottom: 0.4em;background-color: white;}#sk-container-id-1 div.sk-label label {font-family: monospace;font-weight: bold;display: inline-block;line-height: 1.2em;}#sk-container-id-1 div.sk-label-container {text-align: center;}#sk-container-id-1 div.sk-container {/* jupyter's `normalize.less` sets `[hidden] { display: none; }` but bootstrap.min.css set `[hidden] { display: none !important; }` so we also need the `!important` here to be able to override the default hidden behavior on the sphinx rendered scikit-learn.org. See: https://github.com/scikit-learn/scikit-learn/issues/21755 */display: inline-block !important;position: relative;}#sk-container-id-1 div.sk-text-repr-fallback {display: none;}</style><div id=\"sk-container-id-1\" class=\"sk-top-container\"><div class=\"sk-text-repr-fallback\"><pre>LogisticRegression(class_weight=&#x27;balanced&#x27;)</pre><b>In a Jupyter environment, please rerun this cell to show the HTML representation or trust the notebook. <br />On GitHub, the HTML representation is unable to render, please try loading this page with nbviewer.org.</b></div><div class=\"sk-container\" hidden><div class=\"sk-item\"><div class=\"sk-estimator sk-toggleable\"><input class=\"sk-toggleable__control sk-hidden--visually\" id=\"sk-estimator-id-1\" type=\"checkbox\" checked><label for=\"sk-estimator-id-1\" class=\"sk-toggleable__label sk-toggleable__label-arrow\">LogisticRegression</label><div class=\"sk-toggleable__content\"><pre>LogisticRegression(class_weight=&#x27;balanced&#x27;)</pre></div></div></div></div></div>"
      ],
      "text/plain": [
       "LogisticRegression(class_weight='balanced')"
      ]
     },
     "execution_count": 13,
     "metadata": {},
     "output_type": "execute_result"
    }
   ],
   "source": [
    "\n",
    "# Création d'un modèle de régression logistique avec régularisation L2\n",
    "# et gestion des classes déséquilibrées\n",
    "model = LogisticRegression(penalty='l2', class_weight='balanced')\n",
    "\n",
    "# Entraînement du modèle sur l'ensemble d'entraînement\n",
    "model.fit(X_train, y_train)\n"
   ]
  },
  {
   "cell_type": "markdown",
   "metadata": {},
   "source": [
    "## Étape 5 : Prédictions et évaluation du modèle\n",
    "\n",
    "Nous faisons des prédictions sur l'ensemble de test et évaluons la performance du modèle en calculant la précision, la matrice de confusion et le rapport de classification."
   ]
  },
  {
   "cell_type": "code",
   "execution_count": 14,
   "metadata": {},
   "outputs": [
    {
     "name": "stdout",
     "output_type": "stream",
     "text": [
      "Précision du modèle: 1.0\n",
      "\n",
      "Matrice de confusion:\n",
      " [[13  0]\n",
      " [ 0  7]]\n",
      "\n",
      "Rapport de classification:\n",
      "               precision    recall  f1-score   support\n",
      "\n",
      "           0       1.00      1.00      1.00        13\n",
      "           1       1.00      1.00      1.00         7\n",
      "\n",
      "    accuracy                           1.00        20\n",
      "   macro avg       1.00      1.00      1.00        20\n",
      "weighted avg       1.00      1.00      1.00        20\n",
      "\n"
     ]
    }
   ],
   "source": [
    "# Prédictions sur l'ensemble de test\n",
    "y_pred = model.predict(X_test)\n",
    "\n",
    "# Évaluation du modèle\n",
    "accuracy = accuracy_score(y_test, y_pred)  # Calcul de la précision du modèle\n",
    "confusion = confusion_matrix(y_test, y_pred)  # Matrice de confusion pour évaluer les vrais et faux positifs/négatifs\n",
    "report = classification_report(y_test, y_pred)  # Rapport de classification pour obtenir plus d'informations sur les performances\n",
    "\n",
    "# Affichage des résultats\n",
    "print(\"Précision du modèle:\", accuracy)\n",
    "print(\"\\nMatrice de confusion:\\n\", confusion)\n",
    "print(\"\\nRapport de classification:\\n\", report)\n"
   ]
  },
  {
   "cell_type": "markdown",
   "metadata": {},
   "source": [
    "## Étape 6 : Visualisation des résultats\n",
    "\n",
    "Nous visualisons les résultats en affichant la frontière de décision du modèle, ce qui nous permet de voir comment il sépare les deux classes."
   ]
  },
  {
   "cell_type": "code",
   "execution_count": 15,
   "metadata": {},
   "outputs": [
    {
     "data": {
      "image/png": "[encoded data removed]",
      "text/plain": [
       "<Figure size 1000x600 with 1 Axes>"
      ]
     },
     "metadata": {},
     "output_type": "display_data"
    }
   ],
   "source": [
    "# Crée une nouvelle figure de graphique avec une taille de 10 pouces de largeur et 6 pouces de hauteur\n",
    "plt.figure(figsize=(10, 6))\n",
    "\n",
    "# Crée une grille de points pour xx et yy qui couvre toute la plage des valeurs possibles pour les deux caractéristiques.\n",
    "# Cette grille est utilisée pour afficher la frontière de décision du modèle sur le graphique.\n",
    "xx, yy = np.meshgrid(np.linspace(X[:, 0].min() - 1, X[:, 0].max() + 1, 100),\n",
    "                     np.linspace(X[:, 1].min() - 1, X[:, 1].max() + 1, 100))\n",
    "\n",
    "# Utilise le modèle de régression logistique pour prédire la classe de chaque point de la grille.\n",
    "# Cela crée une matrice de prédictions Z avec les mêmes dimensions que xx et yy.\n",
    "Z = model.predict(np.c_[xx.ravel(), yy.ravel()])\n",
    "\n",
    "# Remodèle la matrice Z pour qu'elle ait les mêmes dimensions que xx et yy.\n",
    "Z = Z.reshape(xx.shape)\n",
    "\n",
    "# Affiche la frontière de décision en utilisant des couleurs pour représenter les différentes classes.\n",
    "plt.contourf(xx, yy, Z, cmap=plt.cm.Spectral, alpha=0.8)\n",
    "\n",
    "# Affiche les points de données sur le graphique, en utilisant les vraies étiquettes de classe (c=y) pour les couleurs.\n",
    "plt.scatter(X[:, 0], X[:, 1], c=y, cmap=plt.cm.Spectral)\n",
    "\n",
    "# Ajoute des étiquettes d'axe pour indiquer les caractéristiques 1 et 2.\n",
    "plt.xlabel('Caractéristique 1')\n",
    "plt.ylabel('Caractéristique 2')\n",
    "\n",
    "# Donne un titre au graphique pour indiquer qu'il s'agit de la frontière de décision de la régression logistique.\n",
    "plt.title('Frontière de décision de la régression logistique')\n",
    "\n",
    "# Affiche le graphique à l'écran.\n",
    "plt.show()\n",
    "\n"
   ]
  },
  {
   "cell_type": "markdown",
   "metadata": {},
   "source": [
    "---"
   ]
  },
  {
   "cell_type": "markdown",
   "metadata": {},
   "source": [
    "<div align=\"center\">\n",
    "\n",
    "## **Support vector machine (Machine à vecteurs de support)**"
   ]
  },
  {
   "cell_type": "markdown",
   "metadata": {},
   "source": [
    "La machine à vecteurs de support est un algorithme d'apprentissage supervisé utilisé pour la classification ou la régression. L'idée principale derrière SVM est de trouver un hyperplan qui sépare au mieux les données de deux classes. L'hyperplan est choisi de manière à maximiser la marge entre les deux classes. Cette marge est définie comme la distance entre l'hyperplan et les points les plus proches de chaque classe, appelés vecteurs de support. Les SVM peuvent également être utilisés pour des problèmes de classification non linéaire en utilisant le \"kernel trick\", qui transforme les données dans un espace de dimension supérieure où elles deviennent linéairement séparables."
   ]
  },
  {
   "cell_type": "markdown",
   "metadata": {},
   "source": [
    "### Exemple d'utilisation :"
   ]
  },
  {
   "cell_type": "code",
   "execution_count": 16,
   "metadata": {},
   "outputs": [
    {
     "name": "stdout",
     "output_type": "stream",
     "text": [
      "Précision du modèle SVM: 97.78%\n"
     ]
    }
   ],
   "source": [
    "# Importation des bibliothèques nécessaires\n",
    "from sklearn import datasets\n",
    "from sklearn.model_selection import train_test_split\n",
    "from sklearn.preprocessing import StandardScaler\n",
    "from sklearn.svm import SVC\n",
    "\n",
    "# Chargement des données\n",
    "iris = datasets.load_iris()\n",
    "X = iris.data\n",
    "y = iris.target\n",
    "\n",
    "# Division des données en ensembles d'entraînement et de test\n",
    "X_train, X_test, y_train, y_test = train_test_split(X, y, test_size=0.3, random_state=42)\n",
    "\n",
    "# Normalisation des données\n",
    "sc = StandardScaler()\n",
    "X_train = sc.fit_transform(X_train)\n",
    "X_test = sc.transform(X_test)\n",
    "\n",
    "# Création du modèle SVM\n",
    "svm = SVC(kernel='linear', C=1.0, random_state=42)\n",
    "svm.fit(X_train, y_train)\n",
    "\n",
    "# Prédiction sur l'ensemble de test\n",
    "y_pred = svm.predict(X_test)\n",
    "\n",
    "# Affichage de la précision\n",
    "print(f\"Précision du modèle SVM: {svm.score(X_test, y_test) * 100:.2f}%\")\n"
   ]
  },
  {
   "cell_type": "markdown",
   "metadata": {},
   "source": [
    "### Définitions liées :"
   ]
  },
  {
   "cell_type": "markdown",
   "metadata": {},
   "source": [
    "- **Classification supervisée** : C'est une technique d'apprentissage automatique où l'algorithme apprend à partir d'un ensemble de données étiqueté, et fait des prédictions basées sur cet apprentissage.\n",
    "- **Hyperplan** : Dans le contexte de SVM, c'est une frontière qui sépare les données de deux classes.\n",
    "- **Marge** : C'est la distance entre l'hyperplan et les points les plus proches de chaque classe.\n",
    "- **Vecteurs de support** : Ce sont les points de données les plus proches de l'hyperplan. Ces points sont essentiels pour définir l'hyperplan optimal."
   ]
  }
 ],
 "metadata": {
  "kernelspec": {
   "display_name": "Python 3",
   "language": "python",
   "name": "python3"
  },
  "language_info": {
   "codemirror_mode": {
    "name": "ipython",
    "version": 3
   },
   "file_extension": ".py",
   "mimetype": "text/x-python",
   "name": "python",
   "nbconvert_exporter": "python",
   "pygments_lexer": "ipython3",
   "version": "3.11.5"
  }
 },
 "nbformat": 4,
 "nbformat_minor": 2
}
