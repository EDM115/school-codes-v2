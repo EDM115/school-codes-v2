{
 "cells": [
  {
   "cell_type": "markdown",
   "metadata": {},
   "source": [
    "<h1 style=\"color:red; text-align:center\">R3.A.15 Machine Learning TP1</h1>\n",
    "\n",
    "### Basol Nathan - Stephan Mathieu - Maccrez Allan - Lederrey Lussandre\n"
   ]
  },
  {
   "cell_type": "markdown",
   "metadata": {},
   "source": [
    "<h2> Vocabulaire </h2>"
   ]
  },
  {
   "cell_type": "markdown",
   "metadata": {},
   "source": [
    "\n",
    "_______________________________________________________________________________________________________________________"
   ]
  },
  {
   "cell_type": "markdown",
   "metadata": {},
   "source": [
    "<div style=\"color:blue\"><h3>Différence entre classification et régression</h3></div>\n",
    "\n",
    "- La classification consiste catégoriser des données à partir d'un ensemble de variables quantitatives ou qualitatives.\n",
    "exemple : prédire si un mail est un spam ou non à partir de son contenu.\n",
    "\n",
    "- La régression consiste à prédire une variable quantitative à partir d'un ensemble de variables quantitatives ou qualitatives.\n",
    "exemple : prédire le prix d'une maison à partir de sa surface ou son nombre de pièces\n"
   ]
  },
  {
   "cell_type": "markdown",
   "metadata": {},
   "source": [
    "<div style=\"color:blue\"><h3>Différence entre apprentissage supervisé et non supervisé</h3></div>\n",
    "\n",
    "- Dans l'apprentissage supervisé, l'algorithme est \"enseigné\" à partir d'exemples étiquetés. On lui donne des données d'entrée avec des étiquettes (par exemple des images de chats avec l'étiquette \"chat\" ou \"chien\").\n",
    "L'objectif de l'algorithme est d'apprendre à faire des prédictions en se basant sur ces étiquettes, afin de pouvoir attribuer correctement des étiquettes aux nouvelles données qu'il n'a jamais vues auparavant.\n",
    "\n",
    "- Dans l'apprentissage non supervisé, l'algorithme n'a pas d'étiquettes à suivre. On lui donne simplement des données d'entrée sans étiquettes. L'objectif de l'algorithme est de découvrir des structures ou des motifs cachés dans les données, généralement en regroupant les données similaires ensemble."
   ]
  },
  {
   "cell_type": "markdown",
   "metadata": {},
   "source": [
    "> Nous allons aujourd'hui utiliser le site Scikit-learn.org pour commencer à apprendre les notions de machine learning en utilisant python."
   ]
  },
  {
   "cell_type": "markdown",
   "metadata": {},
   "source": [
    "\n",
    "_______________________________________________________________________________________________________________________"
   ]
  },
  {
   "cell_type": "markdown",
   "metadata": {},
   "source": [
    "<h2> Exemple numéro 1 du site scikit-learn.org </h2>"
   ]
  },
  {
   "cell_type": "markdown",
   "metadata": {},
   "source": [
    "> Ce code est un exemple d'utilisation de la bibliothèque scikit-learn  pour entraîner un modèle de classification et effectuer des prédictions sur de nouvelles données."
   ]
  },
  {
   "cell_type": "code",
   "execution_count": 1,
   "metadata": {},
   "outputs": [
    {
     "data": {
      "text/html": [
       "<style>#sk-container-id-1 {color: black;}#sk-container-id-1 pre{padding: 0;}#sk-container-id-1 div.sk-toggleable {background-color: white;}#sk-container-id-1 label.sk-toggleable__label {cursor: pointer;display: block;width: 100%;margin-bottom: 0;padding: 0.3em;box-sizing: border-box;text-align: center;}#sk-container-id-1 label.sk-toggleable__label-arrow:before {content: \"▸\";float: left;margin-right: 0.25em;color: #696969;}#sk-container-id-1 label.sk-toggleable__label-arrow:hover:before {color: black;}#sk-container-id-1 div.sk-estimator:hover label.sk-toggleable__label-arrow:before {color: black;}#sk-container-id-1 div.sk-toggleable__content {max-height: 0;max-width: 0;overflow: hidden;text-align: left;background-color: #f0f8ff;}#sk-container-id-1 div.sk-toggleable__content pre {margin: 0.2em;color: black;border-radius: 0.25em;background-color: #f0f8ff;}#sk-container-id-1 input.sk-toggleable__control:checked~div.sk-toggleable__content {max-height: 200px;max-width: 100%;overflow: auto;}#sk-container-id-1 input.sk-toggleable__control:checked~label.sk-toggleable__label-arrow:before {content: \"▾\";}#sk-container-id-1 div.sk-estimator input.sk-toggleable__control:checked~label.sk-toggleable__label {background-color: #d4ebff;}#sk-container-id-1 div.sk-label input.sk-toggleable__control:checked~label.sk-toggleable__label {background-color: #d4ebff;}#sk-container-id-1 input.sk-hidden--visually {border: 0;clip: rect(1px 1px 1px 1px);clip: rect(1px, 1px, 1px, 1px);height: 1px;margin: -1px;overflow: hidden;padding: 0;position: absolute;width: 1px;}#sk-container-id-1 div.sk-estimator {font-family: monospace;background-color: #f0f8ff;border: 1px dotted black;border-radius: 0.25em;box-sizing: border-box;margin-bottom: 0.5em;}#sk-container-id-1 div.sk-estimator:hover {background-color: #d4ebff;}#sk-container-id-1 div.sk-parallel-item::after {content: \"\";width: 100%;border-bottom: 1px solid gray;flex-grow: 1;}#sk-container-id-1 div.sk-label:hover label.sk-toggleable__label {background-color: #d4ebff;}#sk-container-id-1 div.sk-serial::before {content: \"\";position: absolute;border-left: 1px solid gray;box-sizing: border-box;top: 0;bottom: 0;left: 50%;z-index: 0;}#sk-container-id-1 div.sk-serial {display: flex;flex-direction: column;align-items: center;background-color: white;padding-right: 0.2em;padding-left: 0.2em;position: relative;}#sk-container-id-1 div.sk-item {position: relative;z-index: 1;}#sk-container-id-1 div.sk-parallel {display: flex;align-items: stretch;justify-content: center;background-color: white;position: relative;}#sk-container-id-1 div.sk-item::before, #sk-container-id-1 div.sk-parallel-item::before {content: \"\";position: absolute;border-left: 1px solid gray;box-sizing: border-box;top: 0;bottom: 0;left: 50%;z-index: -1;}#sk-container-id-1 div.sk-parallel-item {display: flex;flex-direction: column;z-index: 1;position: relative;background-color: white;}#sk-container-id-1 div.sk-parallel-item:first-child::after {align-self: flex-end;width: 50%;}#sk-container-id-1 div.sk-parallel-item:last-child::after {align-self: flex-start;width: 50%;}#sk-container-id-1 div.sk-parallel-item:only-child::after {width: 0;}#sk-container-id-1 div.sk-dashed-wrapped {border: 1px dashed gray;margin: 0 0.4em 0.5em 0.4em;box-sizing: border-box;padding-bottom: 0.4em;background-color: white;}#sk-container-id-1 div.sk-label label {font-family: monospace;font-weight: bold;display: inline-block;line-height: 1.2em;}#sk-container-id-1 div.sk-label-container {text-align: center;}#sk-container-id-1 div.sk-container {/* jupyter's `normalize.less` sets `[hidden] { display: none; }` but bootstrap.min.css set `[hidden] { display: none !important; }` so we also need the `!important` here to be able to override the default hidden behavior on the sphinx rendered scikit-learn.org. See: https://github.com/scikit-learn/scikit-learn/issues/21755 */display: inline-block !important;position: relative;}#sk-container-id-1 div.sk-text-repr-fallback {display: none;}</style><div id=\"sk-container-id-1\" class=\"sk-top-container\"><div class=\"sk-text-repr-fallback\"><pre>RandomForestClassifier(random_state=0)</pre><b>In a Jupyter environment, please rerun this cell to show the HTML representation or trust the notebook. <br />On GitHub, the HTML representation is unable to render, please try loading this page with nbviewer.org.</b></div><div class=\"sk-container\" hidden><div class=\"sk-item\"><div class=\"sk-estimator sk-toggleable\"><input class=\"sk-toggleable__control sk-hidden--visually\" id=\"sk-estimator-id-1\" type=\"checkbox\" checked><label for=\"sk-estimator-id-1\" class=\"sk-toggleable__label sk-toggleable__label-arrow\">RandomForestClassifier</label><div class=\"sk-toggleable__content\"><pre>RandomForestClassifier(random_state=0)</pre></div></div></div></div></div>"
      ],
      "text/plain": [
       "RandomForestClassifier(random_state=0)"
      ]
     },
     "execution_count": 1,
     "metadata": {},
     "output_type": "execute_result"
    }
   ],
   "source": [
    "from sklearn.ensemble import RandomForestClassifier\n",
    "clf = RandomForestClassifier(random_state=0) # randome_state fixe garantit que les résultats seront reproductibles\n",
    "X = [[ 1,  2,  3],  # liste de deux échantillons de donnés\n",
    "    [11, 12, 13]]\n",
    "y = [0, 1]  # les étiquettes associés à chaques échantillons\n",
    "clf.fit(X, y) # apprentissage du modèle"
   ]
  },
  {
   "cell_type": "code",
   "execution_count": 2,
   "metadata": {},
   "outputs": [
    {
     "data": {
      "text/plain": [
       "array([0, 1])"
      ]
     },
     "execution_count": 2,
     "metadata": {},
     "output_type": "execute_result"
    }
   ],
   "source": [
    "clf.predict([[4, 5, 6], [14, 15, 16]])"
   ]
  },
  {
   "cell_type": "markdown",
   "metadata": {},
   "source": [
    "Cette ligne de code effectue des prédictions sur de nouvelles données. deux nouvelles données sont fournies. Le modèle de forêt aléatoire prédit les classes pour ces nouveaux échantillons. Les prédictions sont [0, 1], ce qui signifie que le modèle a prédit que le premier échantillon appartient à la classe 0 et que le deuxième échantillon appartient à la classe 1.\n"
   ]
  },
  {
   "cell_type": "code",
   "execution_count": 3,
   "metadata": {},
   "outputs": [
    {
     "data": {
      "text/plain": [
       "array([1, 1])"
      ]
     },
     "execution_count": 3,
     "metadata": {},
     "output_type": "execute_result"
    }
   ],
   "source": [
    "clf.predict([[11, 18, 21], [14, 15, 16]])"
   ]
  },
  {
   "cell_type": "markdown",
   "metadata": {},
   "source": [
    "On a mis des valeurs un peu plus grandes que celles d'avant pour le premier tableau et on voit que ça renvoie 1 pour le premier tableau et 1 pour le deuxième tableau."
   ]
  },
  {
   "cell_type": "markdown",
   "metadata": {},
   "source": [
    "_______________________________________________________________________________________________________________________"
   ]
  },
  {
   "cell_type": "markdown",
   "metadata": {},
   "source": [
    "<h2> Normalisation des données </h2>"
   ]
  },
  {
   "cell_type": "code",
   "execution_count": 4,
   "metadata": {},
   "outputs": [
    {
     "data": {
      "text/plain": [
       "0.9736842105263158"
      ]
     },
     "execution_count": 4,
     "metadata": {},
     "output_type": "execute_result"
    }
   ],
   "source": [
    "from sklearn.preprocessing import StandardScaler\n",
    "from sklearn.linear_model import LogisticRegression\n",
    "from sklearn.pipeline import make_pipeline\n",
    "from sklearn.datasets import load_iris\n",
    "from sklearn.model_selection import train_test_split\n",
    "from sklearn.metrics import accuracy_score\n",
    "# create a pipeline object\n",
    "pipe = make_pipeline(\n",
    "    StandardScaler(),\n",
    "    LogisticRegression()\n",
    "    )\n",
    "# load the iris dataset and split it into train and test sets\n",
    "X, y = load_iris(return_X_y=True)\n",
    "X_train, X_test, y_train, y_test = train_test_split(X, y, random_state=0)\n",
    "# fit the whole pipeline\n",
    "pipe.fit(X_train, y_train)\n",
    "# we can now use it like any other estimator\n",
    "accuracy_score(pipe.predict(X_test), y_test)"
   ]
  },
  {
   "cell_type": "markdown",
   "metadata": {},
   "source": [
    "\n",
    "\n",
    " On utilise la bibliothèque scikit-learn (sklearn) pour créer un pipeline d'apprentissage automatique, entraîner un modèle de régression logistique et évaluer sa précision en utilisant l'ensemble de données Iris. <br>\n",
    "\n",
    " Le code crée un pipeline en utilisant make_pipeline. Le pipeline comprend deux étapes : <br>\n",
    "\n",
    "StandardScaler() : Il effectue une mise à l'échelle standard des caractéristiques, ce qui est souvent important pour les modèles de régression logistique. <br>\n",
    "\n",
    "LogisticRegression() : Il s'agit du modèle de régression logistique qui sera utilisé pour la classification.\n",
    "Le pipeline est ensuite entraîné en utilisant les données d'entraînement. <br>\n",
    "\n",
    "Chargement des données Iris :\n",
    "Il utilise load_iris(return_X_y=True) pour charger l'ensemble de données Iris. Les données sont divisées en X (caractéristiques) et y (étiquettes de classe). <br>\n",
    "\n",
    "Division des données :\n",
    "\n",
    "Les données sont ensuite divisées en ensembles d'entraînement (X_train, y_train) et de test (X_test, y_test) en utilisant train_test_split. Cela permet d'évaluer la performance du modèle sur des données qu'il n'a pas vues lors de l'entraînement. <br>\n",
    "\n",
    "Entraînement du modèle :\n",
    "\n",
    "Le pipeline complet (pipe) est ajusté aux données d'entraînement en utilisant pipe.fit(X_train, y_train). <br>\n",
    "\n",
    "Évaluation de la précision :\n",
    "\n",
    "Enfin, la précision du modèle est calculée en utilisant accuracy_score(pipe.predict(X_test), y_test). Le modèle fait des prédictions sur l'ensemble de test (X_test), puis la fonction accuracy_score compare ces prédictions aux vraies étiquettes (y_test) pour calculer la précision du modèle. <br>\n",
    "    "
   ]
  },
  {
   "cell_type": "markdown",
   "metadata": {},
   "source": [
    "\n",
    "_______________________________________________________________________________________________________________________"
   ]
  },
  {
   "cell_type": "markdown",
   "metadata": {},
   "source": [
    "<h2>Mise en situation</h2>"
   ]
  },
  {
   "cell_type": "markdown",
   "metadata": {},
   "source": [
    "> Voici le code du site scikit. Nous allons essayer de le comprendre et de l'améliorer"
   ]
  },
  {
   "cell_type": "code",
   "execution_count": 5,
   "metadata": {},
   "outputs": [
    {
     "name": "stdout",
     "output_type": "stream",
     "text": [
      "RandomForestClassifier(random_state=0)\n",
      "[0 1]\n",
      "[0 1]\n",
      "[[-1.  1.]\n",
      " [ 1. -1.]]\n",
      "Pipeline(steps=[('standardscaler', StandardScaler()),\n",
      "                ('logisticregression', LogisticRegression())])\n",
      "0.9736842105263158\n"
     ]
    },
    {
     "name": "stdout",
     "output_type": "stream",
     "text": [
      "[1. 1. 1. 1. 1.]\n",
      "RandomizedSearchCV(estimator=RandomForestRegressor(random_state=0), n_iter=5,\n",
      "                   param_distributions={'max_depth': <scipy.stats._distn_infrastructure.rv_discrete_frozen object at 0x0000029F7A0141D0>,\n",
      "                                        'n_estimators': <scipy.stats._distn_infrastructure.rv_discrete_frozen object at 0x0000029F7982FF90>},\n",
      "                   random_state=0)\n",
      "{'max_depth': 9, 'n_estimators': 4}\n",
      "0.735363411343253\n"
     ]
    }
   ],
   "source": [
    "from sklearn.ensemble import RandomForestClassifier\n",
    "from sklearn.preprocessing import StandardScaler\n",
    "from sklearn.linear_model import LogisticRegression\n",
    "from sklearn.pipeline import make_pipeline\n",
    "from sklearn.datasets import load_iris\n",
    "from sklearn.model_selection import train_test_split\n",
    "from sklearn.metrics import accuracy_score\n",
    "from sklearn.datasets import make_regression\n",
    "from sklearn.linear_model import LinearRegression\n",
    "from sklearn.model_selection import cross_validate\n",
    "from sklearn.datasets import fetch_california_housing\n",
    "from sklearn.ensemble import RandomForestRegressor\n",
    "from sklearn.model_selection import RandomizedSearchCV\n",
    "from sklearn.model_selection import train_test_split\n",
    "from scipy.stats import randint\n",
    "\n",
    "clf = RandomForestClassifier(random_state=0)\n",
    "X = [\n",
    "\t[1, 2, 3],\n",
    "\t[11, 12, 13]\n",
    "]  # 2 samples, 3 features\n",
    "y = [0, 1]  # classes of each sample\n",
    "print(clf.fit(X, y))\n",
    "print(clf.predict(X))  # predict classes of the training data\n",
    "print(clf.predict([[4, 5, 6], [14, 15, 16]]))  # predict classes of new data\n",
    "\n",
    "X = [\n",
    "\t[0, 15],\n",
    "\t[1, -10] \n",
    "]\n",
    "print(StandardScaler().fit(X).transform(X))  # scale data according to computed scaling values\n",
    "\n",
    "# create a pipeline object\n",
    "pipe = make_pipeline(\n",
    "\tStandardScaler(),\n",
    "\tLogisticRegression()\n",
    ")\n",
    "# load the iris dataset and split it into train and test sets\n",
    "X, y = load_iris(return_X_y=True)\n",
    "X_train, X_test, y_train, y_test = train_test_split(X, y, random_state=0)\n",
    "# fit the whole pipeline\n",
    "print(pipe.fit(X_train, y_train))\n",
    "# we can now use it like any other estimator\n",
    "print(accuracy_score(pipe.predict(X_test), y_test))\n",
    "\n",
    "X, y = make_regression(n_samples=1000, random_state=0)\n",
    "lr = LinearRegression()\n",
    "result = cross_validate(lr, X, y)  # defaults to 5-fold CV\n",
    "print(result['test_score'])  # r_squared score is high because dataset is easy\n",
    "\n",
    "X, y = fetch_california_housing(return_X_y=True)\n",
    "X_train, X_test, y_train, y_test = train_test_split(X, y, random_state=0)\n",
    "# define the parameter space that will be searched over\n",
    "param_distributions = {'n_estimators': randint(1, 5),\n",
    "                       'max_depth': randint(5, 10)}\n",
    "# now create a searchCV object and fit it to the data\n",
    "search = RandomizedSearchCV(estimator=RandomForestRegressor(random_state=0),\n",
    "                            n_iter=5,\n",
    "                            param_distributions=param_distributions,\n",
    "                            random_state=0)\n",
    "print(search.fit(X_train, y_train))\n",
    "print(search.best_params_)\n",
    "# the search object now acts like a normal random forest estimator\n",
    "# with max_depth=9 and n_estimators=4\n",
    "print(search.score(X_test, y_test))"
   ]
  },
  {
   "cell_type": "markdown",
   "metadata": {},
   "source": [
    "Ce code est un ensemble de démonstrations sur comment utiliser plusieurs fonctions et méthodes fournies par la bibliothèque `scikit-learn` pour la classification, la régression, la mise à l'échelle des données, la validation croisée et la recherche d'hyperparamètres.\n",
    "\n",
    "Voici une explication étape par étape:\n",
    "\n",
    "1. **Initialisation et Classification avec RandomForest**:\n",
    "   - Un classificateur basé sur des forêts aléatoires (RandomForestClassifier) est initialisé.\n",
    "   - Il est ensuite formé sur un petit ensemble de données `X` avec des étiquettes correspondantes `y`.\n",
    "   - Après l'entraînement, le classificateur est utilisé pour prédire les classes des données d'entraînement, ainsi que celles de deux nouveaux échantillons.\n",
    "  \n",
    "2. **Mise à l'échelle des données avec StandardScaler**:\n",
    "   - Un exemple démontre comment mettre à l'échelle des données à l'aide de `StandardScaler` pour que ces données aient une moyenne de 0 et un écart-type de 1.\n",
    "  \n",
    "3. **Pipeline avec StandardScaler et LogisticRegression**:\n",
    "   - Une pipeline est créée, combinant la mise à l'échelle des données et la régression logistique.\n",
    "   - L'ensemble de données Iris est chargé et divisé en ensembles d'entraînement et de test.\n",
    "   - La pipeline est formée sur l'ensemble d'entraînement et évaluée sur l'ensemble de test pour obtenir un score d'exactitude.\n",
    "  \n",
    "4. **Validation croisée avec LinearRegression**:\n",
    "   - Un ensemble de données de régression est généré.\n",
    "   - Une régression linéaire est évaluée à l'aide d'une validation croisée (par défaut 5 plis) pour obtenir des scores R^2 sur les différents plis.\n",
    "  \n",
    "5. **Recherche d'hyperparamètres avec RandomizedSearchCV**:\n",
    "   - L'ensemble de données du logement en Californie est chargé et divisé en ensembles d'entraînement et de test.\n",
    "   - Une recherche aléatoire est effectuée sur un ensemble de forêts aléatoires (RandomForestRegressor) pour trouver la meilleure combinaison d'hyperparamètres `n_estimators` et `max_depth`.\n",
    "   - Une fois la recherche terminée, les meilleurs hyperparamètres sont affichés et le modèle final est évalué sur l'ensemble de test pour obtenir un score R^2.\n",
    "  \n",
    "En résumé, ce code présente différentes façons d'entraîner, de prétraiter et d'évaluer des modèles en utilisant scikit-learn."
   ]
  },
  {
   "cell_type": "markdown",
   "metadata": {},
   "source": [
    "___________________________________________________________________________________________________________________"
   ]
  },
  {
   "cell_type": "markdown",
   "metadata": {},
   "source": [
    "<h2> Améliorations possibles du code </h2>"
   ]
  },
  {
   "cell_type": "markdown",
   "metadata": {},
   "source": [
    "Le code présenté est une démonstration de base des fonctionnalités de `scikit-learn`. Il existe cependant plusieurs améliorations et ajustements que vous pourriez envisager d'apporter pour l'optimisation, la généralisation et la simplification. Voici ce qu'on pourrait améliorer :\n",
    "\n",
    "1. **Séparation des démonstrations**:\n",
    "   - Pour une meilleure organisation et lisibilité, séparer les différentes démonstrations en fonctions ou blocs distincts.\n",
    "\n",
    "2. **Utilisation d'un plus grand ensemble de données**:\n",
    "   - Les démonstrations avec des petits ensembles de données (comme `X = [[1, 2, 3], [11, 12, 13]]`) ne sont pas très significatives. Utiliser un ensemble de données plus large peut aider à mieux démontrer l'utilité et la capacité des modèles.\n",
    "\n",
    "3. **Optimisation de `RandomizedSearchCV`**:\n",
    "   - Augmenter la valeur de `n_iter` pour explorer un plus grand espace d'hyperparamètres.\n",
    "   - Étendre la plage des hyperparamètres (par exemple, recherchez sur un plus grand nombre d'estimateurs ou sur plus de profondeurs).\n",
    "   - Ajouter d'autres hyperparamètres pertinents à la recherche, comme `min_samples_split` ou `max_features`.\n",
    "   - Utiliser `GridSearchCV` pour explorer toutes les combinaisons possibles d'hyperparamètres au lieu d'une sélection aléatoire.\n",
    "\n",
    "4. **Validation croisée**:\n",
    "   - Pour de meilleurs résultats, augmenter le nombre de plis (k) dans la validation croisée ou envisager d'utiliser une StratifiedKFold pour des problèmes de classification pour garantir que chaque pli est un bon représentant de l'ensemble.\n",
    "\n",
    "5. **Evaluation supplémentaire**:\n",
    "   - En plus du score d'exactitude ou R^2, envisager d'afficher d'autres métriques d'évaluation comme la matrice de confusion, le rappel, la précision, le score F1, le ROC AUC, etc.\n",
    "   \n",
    "6. **Visualisation**:\n",
    "   - Intégrer des graphiques pour mieux comprendre les résultats. Par exemple, visualiser l'importance des caractéristiques pour les forêts aléatoires ou tracer des courbes ROC pour la classification.\n",
    "\n",
    "7. **Prétraitement amélioré**:\n",
    "   - Envisager d'utiliser d'autres techniques de prétraitement comme la normalisation MinMax, l'encodage à chaud pour les variables catégorielles ou la réduction de dimensionnalité avec PCA.\n",
    "\n",
    "8. **Gestion des erreurs**:\n",
    "   - Ajouter des blocs try-except pour gérer les erreurs potentielles, comme des problèmes d'ajustement du modèle, des données manquantes, etc.\n",
    "\n",
    "9. **Commentaires et documentation**:\n",
    "   - Ajouter des commentaires détaillés et une documentation pour chaque bloc de code, afin que d'autres personnes puissent facilement comprendre et modifier le code.\n"
   ]
  },
  {
   "cell_type": "code",
   "execution_count": 6,
   "metadata": {},
   "outputs": [
    {
     "name": "stdout",
     "output_type": "stream",
     "text": [
      "\tExécution des démonstrations :\n",
      "\n",
      "\n",
      "\n",
      "\t--- Démonstration RandomForest ---\n",
      "\n",
      "[0 1]\n",
      "[0 1]\n",
      "\n",
      "\n",
      "\t--- Démonstration StandardScaler ---\n",
      "\n",
      "[[-1.  1.]\n",
      " [ 1. -1.]]\n",
      "\n",
      "\n",
      "\t--- Démonstration Pipeline ---\n",
      "\n",
      "0.9736842105263158\n",
      "              precision    recall  f1-score   support\n",
      "\n",
      "           0       1.00      1.00      1.00        13\n",
      "           1       1.00      0.94      0.97        16\n",
      "           2       0.90      1.00      0.95         9\n",
      "\n",
      "    accuracy                           0.97        38\n",
      "   macro avg       0.97      0.98      0.97        38\n",
      "weighted avg       0.98      0.97      0.97        38\n",
      "\n"
     ]
    },
    {
     "data": {
      "image/png": "[encoded data removed]",
      "text/plain": [
       "<Figure size 640x480 with 2 Axes>"
      ]
     },
     "metadata": {},
     "output_type": "display_data"
    },
    {
     "name": "stdout",
     "output_type": "stream",
     "text": [
      "\n",
      "\n",
      "\t--- Démonstration LinearRegression ---\n",
      "\n",
      "[1. 1. 1. 1. 1. 1. 1. 1. 1. 1.]\n",
      "\n",
      "\n",
      "\t--- Démonstration RandomizedSearchCV ---\n",
      "\n",
      "{'max_depth': 9, 'max_features': 'log2', 'min_samples_split': 2, 'n_estimators': 17}\n",
      "0.7134662966407328\n"
     ]
    }
   ],
   "source": [
    "import numpy as np\n",
    "import matplotlib.pyplot as plt\n",
    "from sklearn.metrics import classification_report, confusion_matrix\n",
    "\n",
    "# ----------------- Fonction pour la démonstration RandomForest -----------------\n",
    "\n",
    "def random_forest_demo():\n",
    "    print(\"\\n\\n\\t--- Démonstration RandomForest ---\\n\")\n",
    "    clf = RandomForestClassifier(random_state=0)\n",
    "    X_demo = [\n",
    "        [1, 2, 3],\n",
    "        [11, 12, 13]\n",
    "    ] \n",
    "    y_demo = [0, 1] \n",
    "    clf.fit(X_demo, y_demo)\n",
    "    \n",
    "    print(clf.predict(X_demo))\n",
    "    print(clf.predict([[4, 5, 6], [14, 15, 16]]))\n",
    "\n",
    "\n",
    "# ------------ Fonction pour la mise à l'échelle avec StandardScaler -------------\n",
    "\n",
    "def standard_scaler_demo():\n",
    "    print(\"\\n\\n\\t--- Démonstration StandardScaler ---\\n\")\n",
    "    X_demo = [\n",
    "        [0, 15],\n",
    "        [1, -10]\n",
    "    ]\n",
    "    print(StandardScaler().fit(X_demo).transform(X_demo))\n",
    "\n",
    "\n",
    "# --------------- Fonction pour la pipeline avec LogisticRegression ---------------\n",
    "\n",
    "def logistic_regression_pipeline():\n",
    "    print(\"\\n\\n\\t--- Démonstration Pipeline ---\\n\")\n",
    "    pipe = make_pipeline(\n",
    "        StandardScaler(),\n",
    "        LogisticRegression()\n",
    "    )\n",
    "    X, y = load_iris(return_X_y=True)\n",
    "    X_train, X_test, y_train, y_test = train_test_split(X, y, random_state=0)\n",
    "    pipe.fit(X_train, y_train)\n",
    "\n",
    "    y_pred = pipe.predict(X_test)\n",
    "    print(accuracy_score(y_pred, y_test))\n",
    "    \n",
    "    # Affichage des métriques supplémentaires\n",
    "    print(classification_report(y_test, y_pred))\n",
    "    cm = confusion_matrix(y_test, y_pred)\n",
    "    plt.imshow(cm, interpolation='nearest', cmap=plt.cm.Wistia)\n",
    "    plt.title(\"Confusion Matrix\")\n",
    "    plt.colorbar()\n",
    "    tick_marks = np.arange(len(load_iris().target_names))\n",
    "    plt.xticks(tick_marks, load_iris().target_names)\n",
    "    plt.yticks(tick_marks, load_iris().target_names)\n",
    "    plt.ylabel('True label')\n",
    "    plt.xlabel('Predicted label')\n",
    "    plt.show()\n",
    "\n",
    "\n",
    "# --------------- Fonction pour la validation croisée avec LinearRegression ---------------\n",
    "\n",
    "def linear_regression_demo():\n",
    "    print(\"\\n\\n\\t--- Démonstration LinearRegression ---\\n\")\n",
    "    X, y = make_regression(n_samples=1000, random_state=0)\n",
    "    lr = LinearRegression()\n",
    "    result = cross_validate(lr, X, y, cv=10)  # Utilisation d'une 10-fold CV\n",
    "    print(result['test_score'])\n",
    "\n",
    "\n",
    "# --------------- Fonction pour RandomizedSearchCV avec RandomForestRegressor ---------------\n",
    "\n",
    "def randomized_search_demo():\n",
    "    print(\"\\n\\n\\t--- Démonstration RandomizedSearchCV ---\\n\")\n",
    "    \n",
    "    X, y = fetch_california_housing(return_X_y=True)\n",
    "    \n",
    "    # Utiliser un sous-ensemble des données\n",
    "    X, y = X[:2000], y[:2000]\n",
    "    \n",
    "    X_train, X_test, y_train, y_test = train_test_split(X, y, random_state=0)\n",
    "\n",
    "    param_distributions = {\n",
    "        'n_estimators': randint(1, 50),\n",
    "        'max_depth': randint(1, 10),\n",
    "        'min_samples_split': randint(2, 5),\n",
    "        'max_features': ['sqrt', 'log2']\n",
    "    }\n",
    "\n",
    "    search = RandomizedSearchCV(\n",
    "        estimator=RandomForestRegressor(random_state=0),\n",
    "        n_iter=10,\n",
    "        param_distributions=param_distributions,\n",
    "        random_state=0,\n",
    "        cv=10\n",
    "    )\n",
    "    \n",
    "    search.fit(X_train, y_train)\n",
    "    \n",
    "    print(search.best_params_)\n",
    "    print(search.score(X_test, y_test))\n",
    "\n",
    "\n",
    "\n",
    "# ----------------- Exécution des démonstrations -----------------\n",
    "\n",
    "print(\"\\tExécution des démonstrations :\\n\")\n",
    "random_forest_demo()\n",
    "standard_scaler_demo()\n",
    "logistic_regression_pipeline()\n",
    "linear_regression_demo()\n",
    "randomized_search_demo()\n"
   ]
  },
  {
   "cell_type": "markdown",
   "metadata": {},
   "source": [
    "\n",
    "___________________________________________________________________________________________________________________"
   ]
  },
  {
   "cell_type": "markdown",
   "metadata": {},
   "source": [
    "<h2> Données Iris </h2>"
   ]
  },
  {
   "cell_type": "code",
   "execution_count": 7,
   "metadata": {},
   "outputs": [
    {
     "name": "stdout",
     "output_type": "stream",
     "text": [
      "Pipeline(steps=[('standardscaler', StandardScaler()),\n",
      "                ('logisticregression', LogisticRegression())])\n",
      "0.9736842105263158\n"
     ]
    }
   ],
   "source": [
    "# load the iris dataset and split it into train and test sets\n",
    "X, y = load_iris(return_X_y=True)\n",
    "X_train, X_test, y_train, y_test = train_test_split(X, y, random_state=0)\n",
    "# fit the whole pipeline\n",
    "print(pipe.fit(X_train, y_train))\n",
    "# we can now use it like any other estimator\n",
    "print(accuracy_score(pipe.predict(X_test), y_test))"
   ]
  },
  {
   "cell_type": "markdown",
   "metadata": {},
   "source": [
    "Ce code effectue plusieurs opérations sur l'ensemble de données \"Iris\" en utilisant un pipeline. Voici une explication simple étape par étape :\n",
    "\n",
    "1. **Chargement de l'ensemble de données Iris** : Les données d'Iris sont chargées, où \"`X`\" contient les caractéristiques (les mesures des fleurs) et \"`y`\" contient les étiquettes de classe (les espèces de fleurs).\n",
    "\n",
    "2. **Division des données en ensembles d'entraînement et de test** : Les données sont séparées en deux ensembles, l'un pour l'entraînement (`X_train`, `y_train`) et l'autre pour les tests (`X_test`, `y_test`). Cela permet d'évaluer la performance du modèle sur des données qu'il n'a pas encore vues.\n",
    "\n",
    "2. **Création du pipeline : Un pipeline est créé en combinant deux étapes** : la mise à l'échelle des données avec `StandardScaler()` et l'entraînement d'un modèle de régression logistique avec `LogisticRegression()`.\n",
    "\n",
    "3. **Entraînement du pipeline** : Le pipeline est entraîné sur l'ensemble d'entraînement (`X_train`, `y_train`) en utilisant `pipe.fit(X_train, y_train)`.\n",
    "\n",
    "4. **Prédiction et évaluation** : Le modèle entraîné est utilisé pour faire des prédictions sur l'ensemble de test (`X_test`), puis la précision des prédictions est calculée avec `accuracy_score()`. Cela mesure à quel point les prédictions du modèle sont correctes par rapport aux étiquettes réelles.\n",
    "\n",
    "En résumé, ce code charge les données Iris, les divise en ensembles d'entraînement et de test, puis utilise un pipeline pour mettre à l'échelle les données et entraîner un modèle de régression logistique. Enfin, il évalue la précision du modèle sur les données de test."
   ]
  },
  {
   "cell_type": "markdown",
   "metadata": {},
   "source": [
    "\n",
    "___________________________________________________________________________________________________________________"
   ]
  },
  {
   "cell_type": "markdown",
   "metadata": {},
   "source": [
    "<h2> Régression linéaire </h2>"
   ]
  },
  {
   "cell_type": "code",
   "execution_count": 8,
   "metadata": {},
   "outputs": [
    {
     "name": "stdout",
     "output_type": "stream",
     "text": [
      "[1. 1. 1. 1. 1.]\n"
     ]
    }
   ],
   "source": [
    "X, y = make_regression(n_samples=1000, random_state=0)\n",
    "lr = LinearRegression()\n",
    "result = cross_validate(lr, X, y)  # defaults to 5-fold CV\n",
    "print(result['test_score'])  # r_squared score is high because dataset is easy"
   ]
  },
  {
   "cell_type": "markdown",
   "metadata": {},
   "source": [
    "Ce code effectue des opérations liées à la régression linéaire en utilisant une technique appelée \"validation croisée\". Voici une explication simple étape par étape :\n",
    "\n",
    "1. **Création de données artificielles** : Un ensemble de données est généré avec 1000 échantillons (lignes) et des valeurs aléatoires. Les caractéristiques sont stockées dans \"`X`\", et les valeurs cibles (ce que nous essayons de prédire) sont stockées dans \"`y`\".\n",
    "\n",
    "2. **Création d'un modèle de régression linéaire** : Un modèle de régression linéaire est créé et stocké dans la variable \"`lr`\". Ce modèle sera utilisé pour effectuer des prédictions basées sur les données.\n",
    "\n",
    "3. **Validation croisée** : La fonction `cross_validate()` est utilisée pour évaluer les performances du modèle de régression linéaire. La validation croisée est une technique qui divise les données en plusieurs sous-ensembles, puis entraîne et évalue le modèle plusieurs fois. Dans ce cas, la validation croisée utilise la métrique par défaut (`r_squared`) pour évaluer la performance du modèle.\n",
    "\n",
    "4. **Impression des scores de test** : Les scores de test issus de la validation croisée sont imprimés à l'écran en utilisant `print(result['test_score'])`. Ces scores reflètent à quel point le modèle de régression linéaire est performant pour prédire les valeurs cibles. Le fait que le score R² soit élevé suggère que le modèle s'adapte bien aux données, ce qui signifie qu'il est capable de faire des prédictions précises.\n",
    "\n",
    "En résumé, ce code génère des données, crée un modèle de régression linéaire, utilise la validation croisée pour évaluer sa performance, puis affiche les scores de test pour indiquer à quel point le modèle est bon pour faire des prédictions."
   ]
  },
  {
   "cell_type": "markdown",
   "metadata": {},
   "source": [
    "\n",
    "___________________________________________________________________________________________________________________"
   ]
  },
  {
   "cell_type": "markdown",
   "metadata": {},
   "source": [
    "<h2> RandomForestRegressor </h2>"
   ]
  },
  {
   "cell_type": "code",
   "execution_count": 9,
   "metadata": {},
   "outputs": [
    {
     "name": "stdout",
     "output_type": "stream",
     "text": [
      "RandomizedSearchCV(estimator=RandomForestRegressor(random_state=0), n_iter=5,\n",
      "                   param_distributions={'max_depth': <scipy.stats._distn_infrastructure.rv_discrete_frozen object at 0x0000029F7B13C310>,\n",
      "                                        'n_estimators': <scipy.stats._distn_infrastructure.rv_discrete_frozen object at 0x0000029F7B0C6090>},\n",
      "                   random_state=0)\n",
      "{'max_depth': 9, 'n_estimators': 4}\n",
      "0.735363411343253\n"
     ]
    }
   ],
   "source": [
    "X, y = fetch_california_housing(return_X_y=True)\n",
    "X_train, X_test, y_train, y_test = train_test_split(X, y, random_state=0)\n",
    "# define the parameter space that will be searched over\n",
    "param_distributions = {'n_estimators': randint(1, 5),\n",
    "                       'max_depth': randint(5, 10)}\n",
    "# now create a searchCV object and fit it to the data\n",
    "search = RandomizedSearchCV(estimator=RandomForestRegressor(random_state=0),\n",
    "                            n_iter=5,\n",
    "                            param_distributions=param_distributions,\n",
    "                            random_state=0)\n",
    "print(search.fit(X_train, y_train))\n",
    "print(search.best_params_)\n",
    "# the search object now acts like a normal random forest estimator\n",
    "# with max_depth=9 and n_estimators=4\n",
    "print(search.score(X_test, y_test))"
   ]
  },
  {
   "cell_type": "markdown",
   "metadata": {},
   "source": [
    "Ce code effectue une recherche aléatoire de paramètres pour un modèle de régression RandomForestRegressor sur l'ensemble de données \"California Housing\". Voici une explication étape par étape :\n",
    "\n",
    "1. **Chargement et division des données** : Les données \"California Housing\" sont chargées, puis divisées en ensembles d'entraînement (`X_train`, `y_train`) et de test (`X_test`, `y_test`).\n",
    "\n",
    "2. **Définition de l'espace des paramètres** : Un espace de paramètres à explorer est défini dans \"`param_distributions`\". Il s'agit des paramètres possibles pour le modèle de régression aléatoire, tels que le nombre d'arbres dans la forêt (\"`n_estimators`\") et la profondeur maximale des arbres (\"`max_depth`\"). Ces paramètres seront ajustés pour trouver les meilleures valeurs.\n",
    "\n",
    "3. **Création d'un objet de recherche aléatoire** : Un objet `RandomizedSearchCV` est créé. Il utilise le modèle `RandomForestRegressor` comme estimateur de base et effectue une recherche aléatoire dans l'espace des paramètres défini précédemment. La recherche est limitée à 5 itérations (`n_iter=5`) pour des raisons de performance.\n",
    "\n",
    "4. **Ajustement du modèle aux données d'entraînement** : Le modèle de recherche aléatoire est ajusté aux données d'entraînement (`X_train`, `y_train`) en utilisant `search.fit(X_train, y_train)`.\n",
    "\n",
    "5. **Affichage des meilleurs paramètres** : Les meilleurs paramètres trouvés par la recherche aléatoire sont affichés à l'aide de `print(search.best_params_)`. Ces paramètres sont ceux qui donnent la meilleure performance sur les données d'entraînement.\n",
    "\n",
    "6. **Évaluation du modèle** : Enfin, le modèle avec les meilleurs paramètres trouvés est évalué sur les données de test (`X_test`, `y_test`) en utilisant `search.score(X_test, y_test)`. Cette étape mesure à quel point le modèle est bon pour faire des prédictions sur de n`ouvelles données.\n",
    "\n",
    "En résumé, ce code cherche les meilleurs paramètres pour un modèle de régression aléatoire en utilisant une recherche aléatoire sur un ensemble de données \"California Housing\". Il ajuste ensuite le modèle avec les meilleurs paramètres trouvés et évalue sa performance sur les données de test"
   ]
  }
 ],
 "metadata": {
  "kernelspec": {
   "display_name": "Python 3",
   "language": "python",
   "name": "python3"
  },
  "language_info": {
   "codemirror_mode": {
    "name": "ipython",
    "version": 3
   },
   "file_extension": ".py",
   "mimetype": "text/x-python",
   "name": "python",
   "nbconvert_exporter": "python",
   "pygments_lexer": "ipython3",
   "version": "3.11.4"
  }
 },
 "nbformat": 4,
 "nbformat_minor": 2
}
