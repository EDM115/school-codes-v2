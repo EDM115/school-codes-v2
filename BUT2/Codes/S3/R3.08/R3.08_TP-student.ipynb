{
 "cells": [
  {
   "cell_type": "markdown",
   "metadata": {},
   "source": [
    "# <center> R3.08 - Probabilités <br> TP - Simulation probabiliste </center>\n",
    "<center> A. Ridard </center>"
   ]
  },
  {
   "cell_type": "code",
   "execution_count": 2,
   "metadata": {},
   "outputs": [
    {
     "ename": "ImportError",
     "evalue": "The `scipy` install you are using seems to be broken, (extension modules cannot be imported), please try reinstalling.",
     "output_type": "error",
     "traceback": [
      "\u001b[1;31m---------------------------------------------------------------------------\u001b[0m",
      "\u001b[1;31mImportError\u001b[0m                               Traceback (most recent call last)",
      "File \u001b[1;32md:\\EDM115\\Programmes\\Python3\\Lib\\site-packages\\scipy\\__init__.py:156\u001b[0m\n\u001b[0;32m    155\u001b[0m \u001b[39mtry\u001b[39;00m:\n\u001b[1;32m--> 156\u001b[0m     \u001b[39mfrom\u001b[39;00m \u001b[39mscipy\u001b[39;00m\u001b[39m.\u001b[39;00m\u001b[39m_lib\u001b[39;00m\u001b[39m.\u001b[39;00m\u001b[39m_ccallback\u001b[39;00m \u001b[39mimport\u001b[39;00m LowLevelCallable\n\u001b[0;32m    157\u001b[0m \u001b[39mexcept\u001b[39;00m \u001b[39mImportError\u001b[39;00m \u001b[39mas\u001b[39;00m e:\n",
      "File \u001b[1;32md:\\EDM115\\Programmes\\Python3\\Lib\\site-packages\\scipy\\_lib\\_ccallback.py:1\u001b[0m\n\u001b[1;32m----> 1\u001b[0m \u001b[39mfrom\u001b[39;00m \u001b[39m.\u001b[39;00m \u001b[39mimport\u001b[39;00m _ccallback_c\n\u001b[0;32m      3\u001b[0m \u001b[39mimport\u001b[39;00m \u001b[39mctypes\u001b[39;00m\n",
      "\u001b[1;31mImportError\u001b[0m: cannot import name '_ccallback_c' from 'scipy._lib' (d:\\EDM115\\Programmes\\Python3\\Lib\\site-packages\\scipy\\_lib\\__init__.py)",
      "\nThe above exception was the direct cause of the following exception:\n",
      "\u001b[1;31mImportError\u001b[0m                               Traceback (most recent call last)",
      "\u001b[1;32md:\\EDM115\\Documents\\IUT\\school-codes-v2\\BUT2\\Codes\\S3\\R3.08\\R3.08_TP-student.ipynb Cell 2\u001b[0m line \u001b[0;36m4\n\u001b[0;32m      <a href='vscode-notebook-cell:/d%3A/EDM115/Documents/IUT/school-codes-v2/BUT2/Codes/S3/R3.08/R3.08_TP-student.ipynb#W1sZmlsZQ%3D%3D?line=1'>2</a>\u001b[0m \u001b[39mimport\u001b[39;00m \u001b[39mnumpy\u001b[39;00m \u001b[39mas\u001b[39;00m \u001b[39mnp\u001b[39;00m\n\u001b[0;32m      <a href='vscode-notebook-cell:/d%3A/EDM115/Documents/IUT/school-codes-v2/BUT2/Codes/S3/R3.08/R3.08_TP-student.ipynb#W1sZmlsZQ%3D%3D?line=2'>3</a>\u001b[0m \u001b[39mimport\u001b[39;00m \u001b[39mnumpy\u001b[39;00m\u001b[39m.\u001b[39;00m\u001b[39mrandom\u001b[39;00m \u001b[39mas\u001b[39;00m \u001b[39mnpr\u001b[39;00m\n\u001b[1;32m----> <a href='vscode-notebook-cell:/d%3A/EDM115/Documents/IUT/school-codes-v2/BUT2/Codes/S3/R3.08/R3.08_TP-student.ipynb#W1sZmlsZQ%3D%3D?line=3'>4</a>\u001b[0m \u001b[39mimport\u001b[39;00m \u001b[39mscipy\u001b[39;00m\u001b[39m.\u001b[39;00m\u001b[39mstats\u001b[39;00m \u001b[39mas\u001b[39;00m \u001b[39msps\u001b[39;00m\n\u001b[0;32m      <a href='vscode-notebook-cell:/d%3A/EDM115/Documents/IUT/school-codes-v2/BUT2/Codes/S3/R3.08/R3.08_TP-student.ipynb#W1sZmlsZQ%3D%3D?line=4'>5</a>\u001b[0m \u001b[39mimport\u001b[39;00m \u001b[39mmatplotlib\u001b[39;00m\u001b[39m.\u001b[39;00m\u001b[39mpyplot\u001b[39;00m \u001b[39mas\u001b[39;00m \u001b[39mplt\u001b[39;00m\n",
      "File \u001b[1;32md:\\EDM115\\Programmes\\Python3\\Lib\\site-packages\\scipy\\__init__.py:161\u001b[0m\n\u001b[0;32m    157\u001b[0m \u001b[39mexcept\u001b[39;00m \u001b[39mImportError\u001b[39;00m \u001b[39mas\u001b[39;00m e:\n\u001b[0;32m    158\u001b[0m     msg \u001b[39m=\u001b[39m \u001b[39m\"\u001b[39m\u001b[39mThe `scipy` install you are using seems to be broken, \u001b[39m\u001b[39m\"\u001b[39m \u001b[39m+\u001b[39m \\\n\u001b[0;32m    159\u001b[0m           \u001b[39m\"\u001b[39m\u001b[39m(extension modules cannot be imported), \u001b[39m\u001b[39m\"\u001b[39m \u001b[39m+\u001b[39m \\\n\u001b[0;32m    160\u001b[0m           \u001b[39m\"\u001b[39m\u001b[39mplease try reinstalling.\u001b[39m\u001b[39m\"\u001b[39m\n\u001b[1;32m--> 161\u001b[0m     \u001b[39mraise\u001b[39;00m \u001b[39mImportError\u001b[39;00m(msg) \u001b[39mfrom\u001b[39;00m \u001b[39me\u001b[39;00m\n\u001b[0;32m    163\u001b[0m \u001b[39mfrom\u001b[39;00m \u001b[39mscipy\u001b[39;00m\u001b[39m.\u001b[39;00m\u001b[39m_lib\u001b[39;00m\u001b[39m.\u001b[39;00m\u001b[39m_testutils\u001b[39;00m \u001b[39mimport\u001b[39;00m PytestTester\n\u001b[0;32m    164\u001b[0m test \u001b[39m=\u001b[39m PytestTester(\u001b[39m__name__\u001b[39m)\n",
      "\u001b[1;31mImportError\u001b[0m: The `scipy` install you are using seems to be broken, (extension modules cannot be imported), please try reinstalling."
     ]
    }
   ],
   "source": [
    "# importation des modules\n",
    "import numpy as np\n",
    "import numpy.random as npr\n",
    "import scipy.stats as sps\n",
    "import matplotlib.pyplot as plt"
   ]
  },
  {
   "cell_type": "markdown",
   "metadata": {},
   "source": [
    "**Remarque :** \n",
    "- Pour calculer les lois de probabilité (pmf ou pdf) et les fonctions de répartition (cdf), on utilisera scipy.stats (sps)\n",
    "- Pour générer des tableaux de nombres aléatoires, on utilisera numpy.random (npr)"
   ]
  },
  {
   "cell_type": "markdown",
   "metadata": {},
   "source": [
    "## Lois usuelles finies : le point de vue théorique"
   ]
  },
  {
   "cell_type": "markdown",
   "metadata": {},
   "source": [
    "Dans cette partie, nous allons représenter graphiquement les trois lois usuelles finies vues en cours."
   ]
  },
  {
   "cell_type": "markdown",
   "metadata": {},
   "source": [
    "### Loi uniforme (sps.randint) sur $\\{1,...,6\\}$"
   ]
  },
  {
   "cell_type": "code",
   "execution_count": null,
   "metadata": {},
   "outputs": [
    {
     "ename": "",
     "evalue": "",
     "output_type": "error",
     "traceback": [
      "\u001b[1;31mRunning cells with 'd:\\EDM115\\Programmes\\Python3\\python.exe' requires the ipykernel package.\n",
      "\u001b[1;31mRun the following command to install 'ipykernel' into the Python environment. \n",
      "\u001b[1;31mCommand: 'd:/EDM115/Programmes/Python3/python.exe -m pip install ipykernel -U --user --force-reinstall'"
     ]
    }
   ],
   "source": [
    "fig, (ax1, ax2) = plt.subplots(1, 2)\n",
    "plt.tight_layout(rect = [0, 0, 1, 0.85])\n",
    "plt.suptitle('Loi uniforme sur $\\{1,...,6\\}$', fontsize=16)\n",
    "\n",
    "ax1.set_title('Loi de probabilité')\n",
    "ax1.set_ylim(-0.05, 1)\n",
    "a = 1\n",
    "b = 6\n",
    "x = np.arange(a,b+1)\n",
    "y = sps.randint.pmf(x, a, b+1)\n",
    "ax1.stem(x, y)\n",
    "\n",
    "ax2.set_title('Fonction de répartition')\n",
    "x = np.linspace(-1, b+1, int(1e3))\n",
    "y = sps.randint.cdf(x, a, b+1)\n",
    "ax2.plot(x, y)\n",
    "\n",
    "plt.show()"
   ]
  },
  {
   "cell_type": "code",
   "execution_count": null,
   "metadata": {},
   "outputs": [
    {
     "ename": "",
     "evalue": "",
     "output_type": "error",
     "traceback": [
      "\u001b[1;31mRunning cells with 'd:\\EDM115\\Programmes\\Python3\\python.exe' requires the ipykernel package.\n",
      "\u001b[1;31mRun the following command to install 'ipykernel' into the Python environment. \n",
      "\u001b[1;31mCommand: 'd:/EDM115/Programmes/Python3/python.exe -m pip install ipykernel -U --user --force-reinstall'"
     ]
    }
   ],
   "source": [
    "fig, (ax1, ax2) = plt.subplots(1, 2)\n",
    "plt.tight_layout(rect = [0, 0, 1, 0.85])\n",
    "plt.suptitle('Loi Bernouilli de paramètre $p = .3$', fontsize=16)\n",
    "\n",
    "ax1.set_title('Loi de probabilité')\n",
    "ax1.set_ylim(-0.05, 1)\n",
    "a = 0\n",
    "b = 1\n",
    "p = .3\n",
    "x = np.arange(a,b+1)\n",
    "y = sps.bernoulli.pmf(x, p)\n",
    "ax1.stem(x, y)\n",
    "\n",
    "ax2.set_title('Fonction de répartition')\n",
    "x = np.linspace(-1, b+1, int(1e3))\n",
    "y = sps.bernoulli.cdf(x, p)\n",
    "ax2.plot(x, y)\n",
    "\n",
    "plt.show()"
   ]
  },
  {
   "cell_type": "markdown",
   "metadata": {},
   "source": [
    "### Loi de Bernoulli (sps.bernoulli) de paramètre $p = 0.3$"
   ]
  },
  {
   "cell_type": "code",
   "execution_count": null,
   "metadata": {},
   "outputs": [
    {
     "ename": "",
     "evalue": "",
     "output_type": "error",
     "traceback": [
      "\u001b[1;31mRunning cells with 'd:\\EDM115\\Programmes\\Python3\\python.exe' requires the ipykernel package.\n",
      "\u001b[1;31mRun the following command to install 'ipykernel' into the Python environment. \n",
      "\u001b[1;31mCommand: 'd:/EDM115/Programmes/Python3/python.exe -m pip install ipykernel -U --user --force-reinstall'"
     ]
    }
   ],
   "source": [
    "# Réponse\n",
    "fig, (ax1, ax2) = plt.subplots(1, 2)\n",
    "plt.tight_layout(rect = [0, 0, 1, 0.85])\n",
    "plt.suptitle('Loi de Bernouilli de paramètre $p=.3$', fontsize=16)\n",
    "\n",
    "ax1.set_title('Loi de probabilité')\n",
    "ax1.set_ylim(-0.05, 1)\n",
    "p=.3\n",
    "a = 0\n",
    "b = 1\n",
    "x = np.arange(a,b+1)\n",
    "y = sps.bernoulli.pmf(x,p)\n",
    "ax1.stem(x, y)\n",
    "\n",
    "ax2.set_title('Fonction de répartition')\n",
    "x = np.linspace(-1, b+1, int(1e3))\n",
    "y = sps.bernoulli.cdf(x, p)\n",
    "ax2.plot(x, y)\n",
    "\n",
    "plt.show()"
   ]
  },
  {
   "cell_type": "markdown",
   "metadata": {},
   "source": [
    "### Loi binomiale (sps.binom) de paramètres $n = 20$ et $p = 0.3$"
   ]
  },
  {
   "cell_type": "code",
   "execution_count": null,
   "metadata": {},
   "outputs": [
    {
     "ename": "",
     "evalue": "",
     "output_type": "error",
     "traceback": [
      "\u001b[1;31mRunning cells with 'd:\\EDM115\\Programmes\\Python3\\python.exe' requires the ipykernel package.\n",
      "\u001b[1;31mRun the following command to install 'ipykernel' into the Python environment. \n",
      "\u001b[1;31mCommand: 'd:/EDM115/Programmes/Python3/python.exe -m pip install ipykernel -U --user --force-reinstall'"
     ]
    }
   ],
   "source": [
    "# Réponse\n",
    "# Réponse\n",
    "fig, (ax1, ax2) = plt.subplots(1, 2)\n",
    "plt.tight_layout(rect = [0, 0, 1, 0.85])\n",
    "plt.suptitle('Loi binomiale de paramètres $n=20$ et $p=.3$', fontsize=16)\n",
    "\n",
    "ax1.set_title('Loi de probabilité')\n",
    "ax1.set_ylim(-0.05, 1)\n",
    "p = .3\n",
    "n = 20\n",
    "a = 0\n",
    "b = 20\n",
    "x = np.arange(a,b+1)\n",
    "y = sps.binom.pmf(x,n,p)\n",
    "ax1.stem(x, y)\n",
    "\n",
    "ax2.set_title('Fonction de répartition')\n",
    "x = np.linspace(-1, b+1, int(1e3))\n",
    "y = sps.binom.cdf(x,n,p)\n",
    "\n",
    "ax2.plot(x, y)\n",
    "\n",
    "plt.show()"
   ]
  },
  {
   "cell_type": "markdown",
   "metadata": {},
   "source": [
    "## Lois usuelles finies : le point de vue empirique"
   ]
  },
  {
   "cell_type": "markdown",
   "metadata": {},
   "source": [
    "Dans cette partie, nous allons effectuer nos premières simulations pour approcher les espérances vues en cours."
   ]
  },
  {
   "cell_type": "markdown",
   "metadata": {},
   "source": [
    "### Utilisation des générateurs fournis par numpy.random (npr)"
   ]
  },
  {
   "cell_type": "markdown",
   "metadata": {
    "collapsed": true
   },
   "source": [
    "> Pour chacune des lois suivantes :\n",
    "- Simuler 100 réalisations à l'aide du générateur adapté\n",
    "- Calculer la moyenne de ces 100 valeurs\n",
    "- Comparer cette moyenne empirique avec la moyenne théorique (espérance) vue en cours"
   ]
  },
  {
   "cell_type": "markdown",
   "metadata": {},
   "source": [
    "**Loi uniforme (npr.randint) sur $\\{1,...,6\\}$**"
   ]
  },
  {
   "cell_type": "code",
   "execution_count": null,
   "metadata": {},
   "outputs": [
    {
     "ename": "",
     "evalue": "",
     "output_type": "error",
     "traceback": [
      "\u001b[1;31mRunning cells with 'd:\\EDM115\\Programmes\\Python3\\python.exe' requires the ipykernel package.\n",
      "\u001b[1;31mRun the following command to install 'ipykernel' into the Python environment. \n",
      "\u001b[1;31mCommand: 'd:/EDM115/Programmes/Python3/python.exe -m pip install ipykernel -U --user --force-reinstall'"
     ]
    }
   ],
   "source": [
    "# Réponse\n",
    "a=1\n",
    "b=6\n",
    "k=10000\n",
    "emp_unif=npr.randint(a,b+1, size=k)\n",
    "print(set(emp_unif))\n",
    "emp_mean=sum(emp_unif)/k\n",
    "\n",
    "print(\"la moyenne empirique est \", emp_mean, \"tandis que la moyenne théorique est \", (a+b)/2)"
   ]
  },
  {
   "cell_type": "markdown",
   "metadata": {},
   "source": [
    "**Loi de Bernoulli (npr.binomial) de paramètre $p = 0.3$**"
   ]
  },
  {
   "cell_type": "code",
   "execution_count": null,
   "metadata": {},
   "outputs": [
    {
     "ename": "",
     "evalue": "",
     "output_type": "error",
     "traceback": [
      "\u001b[1;31mRunning cells with 'd:\\EDM115\\Programmes\\Python3\\python.exe' requires the ipykernel package.\n",
      "\u001b[1;31mRun the following command to install 'ipykernel' into the Python environment. \n",
      "\u001b[1;31mCommand: 'd:/EDM115/Programmes/Python3/python.exe -m pip install ipykernel -U --user --force-reinstall'"
     ]
    }
   ],
   "source": [
    "# Réponse\n",
    "p=.3\n",
    "k=100\n",
    "emp_unif=npr.binomial(1,p, size=k)\n",
    "set(emp_unif)\n",
    "emp_mean=sum(emp_unif)/k\n",
    "\n",
    "print(\"la moyenne empirique est \", emp_mean, \"tandis que la moyenne théorique est \", p)"
   ]
  },
  {
   "cell_type": "markdown",
   "metadata": {},
   "source": [
    "**Loi binomiale (npr.binomial) de paramètres $n = 20$ et $p = 0.3$**"
   ]
  },
  {
   "cell_type": "code",
   "execution_count": null,
   "metadata": {},
   "outputs": [
    {
     "ename": "",
     "evalue": "",
     "output_type": "error",
     "traceback": [
      "\u001b[1;31mRunning cells with 'd:\\EDM115\\Programmes\\Python3\\python.exe' requires the ipykernel package.\n",
      "\u001b[1;31mRun the following command to install 'ipykernel' into the Python environment. \n",
      "\u001b[1;31mCommand: 'd:/EDM115/Programmes/Python3/python.exe -m pip install ipykernel -U --user --force-reinstall'"
     ]
    }
   ],
   "source": [
    "# Réponse\n",
    "n=20\n",
    "p=.3\n",
    "k=1000\n",
    "emp_unif=npr.binomial(n,p, size=k)\n",
    "set(emp_unif)\n",
    "emp_mean=sum(emp_unif)/k\n",
    "\n",
    "print(\"la moyenne empirique est \", emp_mean, \"tandis que la moyenne théorique est \", n*p)"
   ]
  },
  {
   "cell_type": "markdown",
   "metadata": {},
   "source": [
    "### Définition de nos propres générateurs à partir de celui de la loi uniforme sur [0,1[ (npr.rand)"
   ]
  },
  {
   "cell_type": "markdown",
   "metadata": {},
   "source": [
    "**Loi uniforme sur $\\{1,...,6\\}$**"
   ]
  },
  {
   "cell_type": "markdown",
   "metadata": {
    "collapsed": true
   },
   "source": [
    "> \n",
    "- A l'aide de **npr.rand**, définir une fonction **myRandint** qui génère un tableau de nombres aléatoires (selon la loi considérée)<br>\n",
    "- Simuler 100 réalisations à l'aide de ce générateur\n",
    "- Comparer la moyenne empirique avec la moyenne théorique"
   ]
  },
  {
   "cell_type": "code",
   "execution_count": null,
   "metadata": {},
   "outputs": [
    {
     "ename": "",
     "evalue": "",
     "output_type": "error",
     "traceback": [
      "\u001b[1;31mRunning cells with 'd:\\EDM115\\Programmes\\Python3\\python.exe' requires the ipykernel package.\n",
      "\u001b[1;31mRun the following command to install 'ipykernel' into the Python environment. \n",
      "\u001b[1;31mCommand: 'd:/EDM115/Programmes/Python3/python.exe -m pip install ipykernel -U --user --force-reinstall'"
     ]
    }
   ],
   "source": [
    "# Réponse\n",
    "def myRandint(a=1,b=6,size=1):\n",
    "    if size == 1:\n",
    "        return int(a+np.floor(npr.random()*(b-a+1)))\n",
    "    else:\n",
    "        ret=np.zeros(size,int)\n",
    "        for i in range(size):\n",
    "            ret[i]=int(a+np.floor(npr.random()*(b-a+1)))\n",
    "        return ret\n",
    "\n",
    "k=1000\n",
    "emp_unif=myRandint(1,6, size=k)\n",
    "print(set(emp_unif))\n",
    "\n",
    "emp_mean=sum(emp_unif)/k\n",
    "\n",
    "print(\"la moyenne empirique est \", emp_mean, \"tandis que la moyenne théorique est \", (a+b)/2)"
   ]
  },
  {
   "cell_type": "markdown",
   "metadata": {},
   "source": [
    "**Loi de Bernoulli de paramètre $p = 0.3$**"
   ]
  },
  {
   "cell_type": "markdown",
   "metadata": {
    "collapsed": true
   },
   "source": [
    "> \n",
    "- A l'aide de **npr.rand**, définir une fonction **myBernoulli** qui génère un tableau de nombres aléatoires (selon la loi considérée)<br>\n",
    "- Simuler 100 réalisations à l'aide de ce générateur\n",
    "- Comparer la moyenne empirique avec la moyenne théorique"
   ]
  },
  {
   "cell_type": "code",
   "execution_count": null,
   "metadata": {},
   "outputs": [
    {
     "ename": "",
     "evalue": "",
     "output_type": "error",
     "traceback": [
      "\u001b[1;31mRunning cells with 'd:\\EDM115\\Programmes\\Python3\\python.exe' requires the ipykernel package.\n",
      "\u001b[1;31mRun the following command to install 'ipykernel' into the Python environment. \n",
      "\u001b[1;31mCommand: 'd:/EDM115/Programmes/Python3/python.exe -m pip install ipykernel -U --user --force-reinstall'"
     ]
    }
   ],
   "source": [
    "# Réponse\n",
    "def myBernoulli(p=.5,size=1):\n",
    "    if size == 1:\n",
    "        return int(npr.random()<p)\n",
    "    else:\n",
    "        ret=np.zeros(size,int)\n",
    "        for i in range(size):\n",
    "            ret[i]=int(npr.random()<p)\n",
    "        return ret\n",
    "\n",
    "k=1000\n",
    "p=.3\n",
    "emp_unif=myBernoulli(p, size=k)\n",
    "print(set(emp_unif))\n",
    "\n",
    "emp_mean=sum(emp_unif)/k\n",
    "\n",
    "print(\"la moyenne empirique est \", emp_mean, \"tandis que la moyenne théorique est \", p)"
   ]
  },
  {
   "cell_type": "markdown",
   "metadata": {},
   "source": [
    "**Loi binomiale de paramètres $n = 20$ et $p = 0.3$**"
   ]
  },
  {
   "cell_type": "markdown",
   "metadata": {
    "collapsed": true
   },
   "source": [
    "> \n",
    "- A l'aide de *myBernoulli*, définir une fonction **myBinomial** qui génère un tableau de nombres aléatoires (selon la loi considérée)<br>\n",
    "- Simuler 100 réalisations à l'aide de ce générateur\n",
    "- Comparer la moyenne empirique avec la moyenne théorique"
   ]
  },
  {
   "cell_type": "code",
   "execution_count": null,
   "metadata": {},
   "outputs": [
    {
     "ename": "",
     "evalue": "",
     "output_type": "error",
     "traceback": [
      "\u001b[1;31mRunning cells with 'd:\\EDM115\\Programmes\\Python3\\python.exe' requires the ipykernel package.\n",
      "\u001b[1;31mRun the following command to install 'ipykernel' into the Python environment. \n",
      "\u001b[1;31mCommand: 'd:/EDM115/Programmes/Python3/python.exe -m pip install ipykernel -U --user --force-reinstall'"
     ]
    }
   ],
   "source": [
    "# Réponse\n",
    "def myBinomial(n,p=.5,size=1):\n",
    "    if size == 1:\n",
    "        return sum([myBernoulli(p) for i in range(n)])\n",
    "    else:\n",
    "        ret=np.zeros(size,int)\n",
    "        for i in range(size):\n",
    "            ret[i]=sum([myBernoulli(p) for i in range(n)])\n",
    "        return ret\n",
    "\n",
    "k=100000\n",
    "p=.3\n",
    "emp_unif=myBinomial(20,p, size=k)\n",
    "print(set(emp_unif))\n",
    "\n",
    "emp_mean=sum(emp_unif)/k\n",
    "\n",
    "print(\"la moyenne empirique est \", emp_mean, \"tandis que la moyenne théorique est \", n*p)"
   ]
  },
  {
   "cell_type": "markdown",
   "metadata": {},
   "source": [
    "**Remarque :** on peut en fait simuler toutes les lois usuelles, même les lois continues, à l'aide de la seule loi uniforme sur [0,1[ !"
   ]
  },
  {
   "cell_type": "markdown",
   "metadata": {},
   "source": [
    "## Loi Forte des Grands Nombres"
   ]
  },
  {
   "cell_type": "markdown",
   "metadata": {},
   "source": [
    "Nous avons observé, pour trois lois usuelles finies, que la moyenne empirique (pour 100 réalisations) était proche de la moyenne théorique.<br>\n",
    "En fait, ce résultat se généralise au travers du théorème de la Loi Forte des Grands Nombres (LFGN)."
   ]
  },
  {
   "cell_type": "markdown",
   "metadata": {},
   "source": [
    "-----------------------------------------------------------------------------------\n",
    "-----------------------------------------------------------------------------------\n",
    "**Théorème (LFGN) :**<br>\n",
    "\n",
    "Soit $X_i$ des v.a. indépendantes et de même loi (éventuellement inconnue) d'espérance $m$.<br />\n",
    "Alors, la moyenne empirique converge (presque sûrement) vers la moyenne théorique :\n",
    "$$\\bar X_n=\\displaystyle\\frac{1}{n}\\sum_{i=1}^{n}X_i\\xrightarrow[n\\to+\\infty]{(p.s.)}m$$\n",
    "\n",
    "*En pratique, on considère que la moyenne empirique (pour $n$ assez grand) est proche de la moyenne théorique*\n",
    "\n",
    "-----------------------------------------------------------------------------------\n",
    "-----------------------------------------------------------------------------------"
   ]
  },
  {
   "cell_type": "markdown",
   "metadata": {},
   "source": [
    "> Ecrire un script permettant d'illustrer ce théorème de la manière suivante, par exemple avec les $X_i$ de loi uniforme sur [0,1[. \n",
    "<img src=\"LFGN.png\" width=\"400\">"
   ]
  },
  {
   "cell_type": "code",
   "execution_count": null,
   "metadata": {},
   "outputs": [
    {
     "ename": "",
     "evalue": "",
     "output_type": "error",
     "traceback": [
      "\u001b[1;31mRunning cells with 'd:\\EDM115\\Programmes\\Python3\\python.exe' requires the ipykernel package.\n",
      "\u001b[1;31mRun the following command to install 'ipykernel' into the Python environment. \n",
      "\u001b[1;31mCommand: 'd:/EDM115/Programmes/Python3/python.exe -m pip install ipykernel -U --user --force-reinstall'"
     ]
    }
   ],
   "source": [
    "# Réponse\n",
    "def plotLFGN(n):\n",
    "    fig, (ax1) = plt.subplots(1, 1)\n",
    "    plt.tight_layout(rect = [0, 0, 1, 0.85])\n",
    "    plt.suptitle('LFGN', fontsize=16)\n",
    "\n",
    "    ax1.set_title('Loi uniforme')\n",
    "    ax1.set_ylim(-0.05, 1.05)\n",
    "    x=np.arange(n)\n",
    "    mean_theo=np.ones(n)*.5\n",
    "    mean_emp=np.zeros(n)\n",
    "    mean_emp[0]=npr.random()\n",
    "    sum=mean_emp[0]\n",
    "    for i in range(1,n):\n",
    "        rand=npr.random()\n",
    "        sum=sum+rand\n",
    "        mean_emp[i]=sum/(i+1)\n",
    "        \n",
    "    plt.plot(x,mean_emp)\n",
    "    plt.plot(x,mean_theo,'r',)\n",
    "    \n",
    "plotLFGN(500)"
   ]
  },
  {
   "cell_type": "markdown",
   "metadata": {},
   "source": [
    "**Remarque :** si les $X_i\\sim \\mathcal B(p)$, alors la LFGN légitime l'approximation d'une probabilité par une fréquence empirique ! "
   ]
  },
  {
   "cell_type": "markdown",
   "metadata": {},
   "source": [
    "> Justifier cette remarque"
   ]
  },
  {
   "cell_type": "markdown",
   "metadata": {
    "collapsed": true
   },
   "source": [
    "*Réponse :*\n",
    "\n",
    "La remarque suggère qu'une suite de variables aléatoires $X_i$ suivant une loi binomiale $\\mathcal B(p)$ peut être approximée par sa fréquence empirique grâce à la Loi Forte des Grands Nombres (LFGN). Justifions cette remarque :\n",
    "\n",
    "### Justification\n",
    "\n",
    "Lorsque les $X_i$ sont des variables aléatoires indépendantes et identiquement distribuées (i.i.d) suivant une loi binomiale de paramètre $p$ (noté $X_i \\sim \\mathcal B(p)$), l'espérance (ou moyenne théorique) de cette distribution est $m = p$.\n",
    "\n",
    "La moyenne empirique $\\bar X_n$ de $n$ réalisations de $X_i$ est définie comme :\n",
    "$$ \\bar X_n=\\frac{1}{n}\\sum_{i=1}^{n}X_i $$\n",
    "\n",
    "Selon la LFGN, si les $X_i$ sont i.i.d et possèdent une espérance finie (ce qui est le cas ici), alors la moyenne empirique converge presque sûrement vers l'espérance théorique quand $n$ tend vers l'infini :\n",
    "$$ \\bar X_n \\xrightarrow[n\\to+\\infty]{(p.s.)}m $$\n",
    "$$ \\Rightarrow \\frac{1}{n}\\sum_{i=1}^{n}X_i \\xrightarrow[n\\to+\\infty]{(p.s.)}p $$\n",
    "\n",
    "Dans le contexte de la loi binomiale $\\mathcal B(p)$, $p$ est la probabilité de succès (obtenir 1) à chaque essai. Ainsi, la LFGN nous dit que la moyenne empirique des réalisations (qui est la fréquence empirique des succès) converge vers la probabilité théorique de succès $p$ quand le nombre d'essais $n$ est suffisamment grand. \n",
    "\n",
    "### Implication Pratique\n",
    "\n",
    "Cela signifie qu'en pratique, si nous faisons un grand nombre d'essais de Bernoulli (i.e., des essais avec deux issues possibles, succès ou échec), la fréquence empirique de succès est une bonne approximation de la probabilité réelle de succès. C'est-à-dire que la proportion observée de succès dans un grand échantillon est proche de la probabilité théorique de succès. Cette propriété est fréquemment utilisée dans les expérimentations et les simulations statistiques.\n",
    "\n",
    "### Exemple \n",
    "\n",
    "Si nous lançons une pièce (biaisée) dont la probabilité d'obtenir face est $p$, et si nous lançons cette pièce un grand nombre de fois ($n$), alors la proportion observée de faces ($\\bar X_n$) devrait être proche de $p$ selon la LFGN.\n",
    "\n",
    "### Conclusion\n",
    "\n",
    "La LFGN est fondamentale en statistiques et sciences des données, elle fournit une base solide pour l'inférence statistique et la modélisation, et elle est largement utilisée pour justifier l'utilisation de la moyenne empirique comme estimateur de l'espérance théorique."
   ]
  },
  {
   "cell_type": "markdown",
   "metadata": {},
   "source": [
    "## Applications de la LFGN"
   ]
  },
  {
   "cell_type": "markdown",
   "metadata": {},
   "source": [
    "### Résoudre un problème probabiliste par la simulation"
   ]
  },
  {
   "cell_type": "markdown",
   "metadata": {},
   "source": [
    "> Résoudre par simulation le problème de Monty Hall (cf. cours), autrement dit :\n",
    "- Simuler un grand nombre de \"parties\" (disons 100) avec les deux stratégies possibles.<br>\n",
    "*Pour chacune des stratégies, on notera 1 si la partie est gagnée et 0 sinon*\n",
    "- Calculer alors, pour chacune des stratégies, la fréquence empirique des parties gagnées.<br>\n",
    "*Souvenez-vous, elle doit être proche de $\\frac{2}{3}$ lorsque le joueur décide de changer d'avis, et proche de $\\frac{1}{3}$ sinon.*"
   ]
  },
  {
   "cell_type": "code",
   "execution_count": null,
   "metadata": {},
   "outputs": [
    {
     "ename": "",
     "evalue": "",
     "output_type": "error",
     "traceback": [
      "\u001b[1;31mRunning cells with 'd:\\EDM115\\Programmes\\Python3\\python.exe' requires the ipykernel package.\n",
      "\u001b[1;31mRun the following command to install 'ipykernel' into the Python environment. \n",
      "\u001b[1;31mCommand: 'd:/EDM115/Programmes/Python3/python.exe -m pip install ipykernel -U --user --force-reinstall'"
     ]
    }
   ],
   "source": [
    "def MontyChange():\n",
    "    voit=myRandint(1,3)\n",
    "    choix=myRandint(1,3)\n",
    "    if voit==choix:\n",
    "        return 0\n",
    "    else :\n",
    "        return 1\n",
    "        \n",
    "print(MontyChange())\n",
    "\n",
    "def MontyUnChange():\n",
    "    voit=myRandint(1,3)\n",
    "    choix=myRandint(1,3)\n",
    "    \n",
    "    if voit==choix:\n",
    "        return 1\n",
    "    else :\n",
    "        return 0\n",
    "        \n",
    "def empMean(fct,n):\n",
    "\n",
    "    mean_emp=np.zeros(n)\n",
    "    mean_emp[0]=fct()\n",
    "    print(mean_emp[0])\n",
    "    for i in range(1,n):\n",
    "        rand=fct()\n",
    "        mean_emp[i]=(i*mean_emp[i-1]+rand)/(i+1)\n",
    "        \n",
    "    return(mean_emp)\n",
    "        \n",
    "        \n",
    "fig, (ax1) = plt.subplots(1, 1)\n",
    "plt.tight_layout(rect = [0, 0, 1, 0.85])\n",
    "plt.suptitle('MontyHall', fontsize=16)\n",
    "\n",
    "ax1.set_ylim(-0.05, 1.05)\n",
    "\n",
    "n=1000\n",
    "x=np.arange(n)\n",
    "y=np.ones(n)\n",
    "empChange=empMean(MontyChange,n)\n",
    "empUnChange=empMean(MontyUnChange,n)\n",
    "\n",
    "plt.plot(x,empChange,'r',label='Change_emp')\n",
    "plt.plot(x,y*2/3, linestyle='dotted', linewidth=1, color=\"pink\")\n",
    "plt.plot(x,empUnChange,'b',label='UnChange_emp')\n",
    "plt.plot(x,y*1/3, linestyle='dotted', linewidth=1, color=\"cyan\")\n",
    "plt.legend(loc='best')\n",
    "\n",
    "plt.show()"
   ]
  },
  {
   "cell_type": "markdown",
   "metadata": {},
   "source": [
    "### Approcher une loi théorique par sa loi empirique"
   ]
  },
  {
   "cell_type": "markdown",
   "metadata": {},
   "source": [
    "**Dans le cas discret**"
   ]
  },
  {
   "cell_type": "code",
   "execution_count": null,
   "metadata": {},
   "outputs": [
    {
     "ename": "",
     "evalue": "",
     "output_type": "error",
     "traceback": [
      "\u001b[1;31mRunning cells with 'd:\\EDM115\\Programmes\\Python3\\python.exe' requires the ipykernel package.\n",
      "\u001b[1;31mRun the following command to install 'ipykernel' into the Python environment. \n",
      "\u001b[1;31mCommand: 'd:/EDM115/Programmes/Python3/python.exe -m pip install ipykernel -U --user --force-reinstall'"
     ]
    }
   ],
   "source": [
    "# paramètres de la binomiale\n",
    "n, p = 20, 0.3 \n",
    "\n",
    "# loi théorique\n",
    "x = np.arange(n+1)\n",
    "yTh = sps.binom.pmf(x, n, p)\n",
    "plt.stem(x, yTh, 'r', label='Loi théorique')\n",
    "\n",
    "# loi empirique\n",
    "N = int(1e4)\n",
    "yEmp = npr.binomial(n, p ,N)\n",
    "plt.hist(yEmp, bins=n+1, density=1, range=(-0.5,n+0.5), rwidth=0.4, edgecolor='black', color='white', label='Loi empirique')\n",
    "\n",
    "plt.legend()\n",
    "plt.show()"
   ]
  },
  {
   "cell_type": "markdown",
   "metadata": {},
   "source": [
    "> Ecrire un script permettant de vérifier vos fonctions myRandint, myBernoulli et myBinomial."
   ]
  },
  {
   "cell_type": "code",
   "execution_count": null,
   "metadata": {},
   "outputs": [
    {
     "ename": "",
     "evalue": "",
     "output_type": "error",
     "traceback": [
      "\u001b[1;31mRunning cells with 'd:\\EDM115\\Programmes\\Python3\\python.exe' requires the ipykernel package.\n",
      "\u001b[1;31mRun the following command to install 'ipykernel' into the Python environment. \n",
      "\u001b[1;31mCommand: 'd:/EDM115/Programmes/Python3/python.exe -m pip install ipykernel -U --user --force-reinstall'"
     ]
    }
   ],
   "source": [
    "# Réponse\n",
    "# paramètres de la loi uniforme discrète\n",
    "a,b = 1,100\n",
    "\n",
    "# loi théorique\n",
    "n=b-a+1\n",
    "x = np.arange(a,b+1)\n",
    "yTh = sps.randint.pmf(x, a,b+1)\n",
    "plt.stem(x, yTh, 'r', label='Loi théorique')\n",
    "\n",
    "# loi empirique\n",
    "N = int(1e6)\n",
    "yEmp = myRandint(a,b,N)\n",
    "print(set(yEmp))\n",
    "plt.hist(yEmp, bins=n, density=1, range=(1-0.5,n+0.5), rwidth=0.5, edgecolor='black', color='white', label='Loi empirique')\n",
    "\n",
    "plt.legend()\n",
    "plt.show()"
   ]
  },
  {
   "cell_type": "markdown",
   "metadata": {},
   "source": [
    "**Dans le cas continu**"
   ]
  },
  {
   "cell_type": "code",
   "execution_count": null,
   "metadata": {
    "scrolled": true
   },
   "outputs": [
    {
     "ename": "",
     "evalue": "",
     "output_type": "error",
     "traceback": [
      "\u001b[1;31mRunning cells with 'd:\\EDM115\\Programmes\\Python3\\python.exe' requires the ipykernel package.\n",
      "\u001b[1;31mRun the following command to install 'ipykernel' into the Python environment. \n",
      "\u001b[1;31mCommand: 'd:/EDM115/Programmes/Python3/python.exe -m pip install ipykernel -U --user --force-reinstall'"
     ]
    }
   ],
   "source": [
    "# loi théorique\n",
    "x = np.linspace(-4, 4, 1000)\n",
    "yTh = sps.norm.pdf(x)\n",
    "plt.plot(x, yTh, 'r', label='Loi théorique')\n",
    "\n",
    "# loi empirique\n",
    "N = int(1e4)\n",
    "nbCl = int(N**(1/3))\n",
    "yEmp = npr.randn(N)\n",
    "plt.hist(yEmp, bins=nbCl, density=True, edgecolor='black', label='Loi empirique')\n",
    "\n",
    "plt.legend(loc='best')\n",
    "plt.show()"
   ]
  },
  {
   "cell_type": "markdown",
   "metadata": {},
   "source": [
    "## Théorème Central Limite"
   ]
  },
  {
   "cell_type": "markdown",
   "metadata": {},
   "source": [
    "Nous savons maintenant (LFGN) que la moyenne empirique (pour $n$ assez grand) est \"proche\" de la moyenne théorique, mais comment se distribue-t-elle ? <br>\n",
    "Autrement dit, si l'on calcule plusieurs moyennes empiriques (pour un même $n$ assez grand), comment se répartissent-elles autour de la moyenne théorique ?<br>\n",
    "C'est le Théorème Central Limite (TCL) qui répond à cette question."
   ]
  },
  {
   "cell_type": "markdown",
   "metadata": {},
   "source": [
    "---------------------------------------------------------------------------------------------\n",
    "---------------------------------------------------------------------------------------------\n",
    "**Théorème (TCL) :**<br>\n",
    "\n",
    "Soit $X_i$ des v.a. indépendantes et de même loi (éventuellement inconnue) d'espérance $m$ et d'écart-type $\\sigma$.<br />\n",
    "Alors, la moyenne empirique centrée réduite converge (en loi) vers la gaussienne centrée réduite :\n",
    "$$\\displaystyle\\frac{\\bar X_n-m}{\\frac{\\sigma}{\\sqrt{n}}}\\xrightarrow[n\\to +\\infty]{\\mathcal L}\\mathcal N(0,1)$$\n",
    "\n",
    "*En pratique, on considère que la loi de la moyenne empirique centrée-réduite est proche de la loi normale centrée-réduite.*\n",
    "\n",
    "---------------------------------------------------------------------------------------------\n",
    "---------------------------------------------------------------------------------------------"
   ]
  },
  {
   "cell_type": "markdown",
   "metadata": {},
   "source": [
    "> Ecrire un script permettant d'illustrer ce théorème de la manière suivante, par exemple avec les $X_i$ de loi uniforme sur [0,1[.\n",
    "<img src=\"TCL.png\" width=\"400\">"
   ]
  },
  {
   "cell_type": "code",
   "execution_count": null,
   "metadata": {},
   "outputs": [
    {
     "ename": "",
     "evalue": "",
     "output_type": "error",
     "traceback": [
      "\u001b[1;31mRunning cells with 'd:\\EDM115\\Programmes\\Python3\\python.exe' requires the ipykernel package.\n",
      "\u001b[1;31mRun the following command to install 'ipykernel' into the Python environment. \n",
      "\u001b[1;31mCommand: 'd:/EDM115/Programmes/Python3/python.exe -m pip install ipykernel -U --user --force-reinstall'"
     ]
    }
   ],
   "source": [
    "# Réponse\n",
    "\n",
    "# loi théorique\n",
    "a=1\n",
    "b=6\n",
    "n=b-a+1\n",
    "x = np.linspace(-4, 4, 1000)\n",
    "yTh = sps.norm.pdf(x)\n",
    "plt.plot(x, yTh, 'r', label='Loi théorique')\n",
    "\n",
    "# loi empirique\n",
    "\n",
    "def TCL_unif(a,b,N):\n",
    "    return (sum(myRandint(a,b,N)) - N*(b+a)/2)/(np.sqrt(((b-a+1)**2-1)/12 * N))\n",
    "N = 2*int(1e3)\n",
    "nbCl = 50 ##int(N**(1/3))\n",
    "\n",
    "yEmp = [TCL_unif(a,b,N) for i in range(N)]\n",
    "##print((yEmp))\n",
    "plt.hist(yEmp, bins=nbCl, density=1, range=(-n-.5,n+0.5), rwidth=0.5, edgecolor='black', color='white', label='Loi empirique')\n",
    "\n",
    "plt.legend()\n",
    "plt.show()"
   ]
  },
  {
   "cell_type": "markdown",
   "metadata": {},
   "source": [
    "**Remarque :** le TCL est à la base de la statistique inférentielle qui sera présentée en R5.C.09 dans le parcours C"
   ]
  }
 ],
 "metadata": {
  "kernelspec": {
   "display_name": "Python 3",
   "language": "python",
   "name": "python3"
  },
  "language_info": {
   "codemirror_mode": {
    "name": "ipython",
    "version": 3
   },
   "file_extension": ".py",
   "mimetype": "text/x-python",
   "name": "python",
   "nbconvert_exporter": "python",
   "pygments_lexer": "ipython3",
   "version": "3.12.0"
  }
 },
 "nbformat": 4,
 "nbformat_minor": 2
}
