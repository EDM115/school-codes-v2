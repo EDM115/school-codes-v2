{
 "cells": [
  {
   "cell_type": "code",
   "execution_count": 22,
   "metadata": {},
   "outputs": [],
   "source": [
    "import numpy as np\n"
   ]
  },
  {
   "cell_type": "markdown",
   "metadata": {},
   "source": [
    "<center>\n",
    "\n",
    "# TP1 - Chiffrement par substitution monoalphabétique\n",
    "2023/2024 - L. Naert, T. Ferragut, T. Godin\n",
    "\n",
    "</center>\n",
    "\n",
    "Le chiffrement par substitution monoalphabétique consiste à remplacer chaque symbole d'un message en clair par un autre symbole (généralement du même alphabet) pour constituer le message chiffré. \n",
    "\n",
    "Dans ce TP, nous étudierons 2 types de chiffrement par substitution monoalphabétique : le chiffrement par décalage et le chiffrement affine.\n",
    "\n",
    "Pour chaque type de chiffrement, nous développerons des fonctions pour:\n",
    "1. chiffrer un message en clair à l'aide d'une clef\n",
    "2. déchiffrer un message (en connaissant la clef)\n",
    "3. décrypter un message (ne connaissant pas la clef) en faisant appel à l'analyse de fréquence\n",
    "\n",
    "\n",
    "Par convention, nous appelerons :\n",
    "- $k$ : la clef\n",
    "- $E_k$ : la fonction de chiffrement\n",
    "- $D_k$ : la fonction de déchiffrement\n",
    "- $m$ : le message en clair\n",
    "- $m_i$ : la lettre de rang $i$ sur message en clair\n",
    "- $c$ : le message chiffré\n",
    "- $c_i$ : la lettre de rang $i$ sur message en clair\n",
    "\n"
   ]
  },
  {
   "cell_type": "markdown",
   "metadata": {},
   "source": [
    "## 1 - Chiffrement par décalage, dit \"chiffrement de César\"\n",
    "\n",
    "César, pour assurer la confidentialité de sa correspondance, avaient l'habitude de remplacer chaque lettre de ses messages par la lettre qui était située 3 rangs après dans l'alphabet ('a' devenait ainsi 'd', 'b' devenait 'e', etc.). \n",
    "\n",
    "Il s'agit d'un cas particulier de __chiffrement par décalage__ qui consiste à décaler, dans un sens ou dans l'autre, les lettres de l'alphabet d'un nombre constant de position. Ce nombre constitue la clef du chiffrement par décalage.\n",
    "\n",
    "Il s'agit évidemment d'un décalage circulaire : 'z' décalé de 3 positions devient ainsi 'c'. Plus généralement, cela revient à travailler dans l'ensemble $\\mathbb{Z}/26\\mathbb{Z}$ en considérant chaque lettre comme un entier entre $0$ (pour 'a') et $25$ (pour 'z').\n",
    "\n",
    "Ainsi, en appelant $k$ la clef de décalage, la fonction $E_k$ de chiffrement d'une lettre est : \n",
    "\n",
    "\\begin{align*}\n",
    "  E_k \\colon \\mathbb{Z}/26\\mathbb{Z} &\\to \\mathbb{Z}/26\\mathbb{Z}\\\\\n",
    "  m_i &\\mapsto c_i = m_i + k\n",
    "\\end{align*}"
   ]
  },
  {
   "cell_type": "code",
   "execution_count": 23,
   "metadata": {},
   "outputs": [
    {
     "name": "stdout",
     "output_type": "stream",
     "text": [
      "Lettre -> entier : w -> 22\n",
      "Entier -> Lettre : 22 -> w\n"
     ]
    }
   ],
   "source": [
    "# Quelques fonctions utiles (ou pas)\n",
    "def lettreToEntier(lettre, alphabet = \"abcdefghijklmnopqrstuvwxyz\"):\n",
    "    return alphabet.find(lettre)\n",
    "\n",
    "def entierToLettre(a, alphabet = \"abcdefghijklmnopqrstuvwxyz\"):\n",
    "    return alphabet[a]\n",
    "\n",
    "print(\"Lettre -> entier : w ->\", lettreToEntier('w'))\n",
    "print(\"Entier -> Lettre : 22 ->\", entierToLettre(22))\n"
   ]
  },
  {
   "cell_type": "markdown",
   "metadata": {},
   "source": [
    "### 1 - a) Chiffrement/Déchiffrement\n",
    "\n",
    "\n",
    "> __Question 1 (chiffrement)__ : Définir une fonction `chiffrementDecalage(msgClair, clef, alphabet)` qui étant donné un message en clair `msgClair`, un certain décalage `clef` et un alphabet `alphabet` (par défaut, l'alphabet français) renvoie le message chiffré correspondant."
   ]
  },
  {
   "cell_type": "code",
   "execution_count": 24,
   "metadata": {},
   "outputs": [
    {
     "name": "stdout",
     "output_type": "stream",
     "text": [
      "chiffrementDecalage : OK\n"
     ]
    }
   ],
   "source": [
    "def chiffrementDecalage(msgClair, clef, alphabet=\"abcdefghijklmnopqrstuvwxyz\"):\n",
    "    msgChiffre = \"\"\n",
    "\n",
    "    for lettre in msgClair:\n",
    "        msgChiffre += entierToLettre((lettreToEntier(lettre) + clef) % len(alphabet))\n",
    "\n",
    "    return msgChiffre\n",
    "\n",
    "try:\n",
    "    assert chiffrementDecalage(\"messageenclair\", 3) == \"phvvdjhhqfodlu\"\n",
    "    assert chiffrementDecalage(\"venividivici\", -3) == \"sbkfsfafsfzf\"\n",
    "    print(\"chiffrementDecalage : OK\")\n",
    "except:\n",
    "    print(\"chiffrementDecalage : ERREUR\")\n"
   ]
  },
  {
   "cell_type": "markdown",
   "metadata": {},
   "source": [
    "Partant du message chiffré et connaissant la clef de chiffrement (la valeur du décalage), il est aisé de déchiffrer le message en opérant le décalage inverse. Ainsi : \n",
    "\n",
    "\\begin{align*}\n",
    "  D_k \\colon \\mathbb{Z}/26\\mathbb{Z} &\\to \\mathbb{Z}/26\\mathbb{Z}\\\\\n",
    "  c_i &\\mapsto m_i = c_i - k\n",
    "\\end{align*}\n",
    "\n",
    "\n",
    "> __Question 2 (déchiffrement)__ : Définir une fonction `dechiffrementDecalage(msgChiffre, clef, alphabet)` qui étant donné un message chiffré `msgChiffre`, la clef qui a servi à construire ce message chiffré `clef` et un alphabet `alphabet` (par défaut, l'alphabet français) renvoie le message en clair correspondant."
   ]
  },
  {
   "cell_type": "code",
   "execution_count": 25,
   "metadata": {},
   "outputs": [
    {
     "name": "stdout",
     "output_type": "stream",
     "text": [
      "dechiffrementDecalage : OK\n"
     ]
    }
   ],
   "source": [
    "def dechiffrementDecalage(msgChiffre, clef, alphabet=\"abcdefghijklmnopqrstuvwxyz\"):\n",
    "    msgClair = \"\"\n",
    "\n",
    "    for lettre in msgChiffre:\n",
    "        msgClair += entierToLettre((lettreToEntier(lettre) - clef) % len(alphabet))\n",
    "\n",
    "    return msgClair\n",
    "\n",
    "try:\n",
    "    assert dechiffrementDecalage(\"phvvdjhhqfodlu\", 3) == \"messageenclair\"\n",
    "    assert dechiffrementDecalage(\"sbkfsfafsfzf\", -3) == \"venividivici\"\n",
    "    print(\"dechiffrementDecalage : OK\")\n",
    "except:\n",
    "    print(\"dechiffrementDecalage : ERREUR\")\n"
   ]
  },
  {
   "cell_type": "markdown",
   "metadata": {},
   "source": [
    "### 1 - b) Attaques : Force brute et analyse de fréquence\n",
    "\n",
    "Mais que faire si nous tombons sur un message chiffré par décalage mais que nous ne connaissons pas la clef ? \n",
    "\n",
    "La grande faille du chiffrement par décalage est le faible nombre de clefs possibles : $26$ en français (et même $25$ car un décalage de 0 n'en est pas un). Une __attaque par force brute__, en testant toutes les clefs possibles est donc très efficace sur ce genre de chiffrement\n",
    "\n",
    "> __Question 3 (attaque par force brute)__ : Définir une fonction `attaqueForceBruteDec(msgChiffre, alphabet)` qui étant donné un message chiffré `msgChiffre`, et un alphabet `alphabet` (par défaut, l'alphabet français) affiche tous les messages en clair possibles avec la clef correspondante."
   ]
  },
  {
   "cell_type": "code",
   "execution_count": 26,
   "metadata": {},
   "outputs": [
    {
     "name": "stdout",
     "output_type": "stream",
     "text": [
      "Clef : 0 \tMessage : phvvdjhhqfodlu\n",
      "Clef : 1 \tMessage : oguuciggpenckt\n",
      "Clef : 2 \tMessage : nfttbhffodmbjs\n",
      "Clef : 3 \tMessage : messageenclair\n",
      "Clef : 4 \tMessage : ldrrzfddmbkzhq\n",
      "Clef : 5 \tMessage : kcqqyecclajygp\n",
      "Clef : 6 \tMessage : jbppxdbbkzixfo\n",
      "Clef : 7 \tMessage : iaoowcaajyhwen\n",
      "Clef : 8 \tMessage : hznnvbzzixgvdm\n",
      "Clef : 9 \tMessage : gymmuayyhwfucl\n",
      "Clef : 10 \tMessage : fxlltzxxgvetbk\n",
      "Clef : 11 \tMessage : ewkksywwfudsaj\n",
      "Clef : 12 \tMessage : dvjjrxvvetcrzi\n",
      "Clef : 13 \tMessage : cuiiqwuudsbqyh\n",
      "Clef : 14 \tMessage : bthhpvttcrapxg\n",
      "Clef : 15 \tMessage : asggoussbqzowf\n",
      "Clef : 16 \tMessage : zrffntrrapynve\n",
      "Clef : 17 \tMessage : yqeemsqqzoxmud\n",
      "Clef : 18 \tMessage : xpddlrppynwltc\n",
      "Clef : 19 \tMessage : wocckqooxmvksb\n",
      "Clef : 20 \tMessage : vnbbjpnnwlujra\n",
      "Clef : 21 \tMessage : umaaiommvktiqz\n",
      "Clef : 22 \tMessage : tlzzhnllujshpy\n",
      "Clef : 23 \tMessage : skyygmkktirgox\n",
      "Clef : 24 \tMessage : rjxxfljjshqfnw\n",
      "Clef : 25 \tMessage : qiwwekiirgpemv\n"
     ]
    }
   ],
   "source": [
    "def attaqueForceBruteDec(msgChiffre, alphabet=\"abcdefghijklmnopqrstuvwxyz\"):\n",
    "    for clef in range(len(alphabet)):\n",
    "        print(\"Clef :\", clef, \"\\tMessage :\", dechiffrementDecalage(msgChiffre, clef))\n",
    "\n",
    "attaqueForceBruteDec(\"phvvdjhhqfodlu\")\n"
   ]
  },
  {
   "cell_type": "markdown",
   "metadata": {},
   "source": [
    "Même si l'attaque par force brute fonctionne très bien dans le cas du chiffrement par décalage du fait du très petit nombre de clefs disponibles, l'attaque la plus courante dans le cas des chiffrements par substitution monoalphabétique est l'__analyse de fréquence__. Connaissant la langue dans laquelle a été écrit le message en clair initial et la fréquence d'apparition de chaque lettre dans cette langue, il est possible de retrouver, en calculant la fréquence de chaque lettre dans le message chiffré, la correspondance entre les lettres du message chiffré et celles du message en clair.\n",
    "\n",
    "En fait, dans le cas d'un chiffrement par décalage, la connaissance de la correspondance entre une unique lettre du chiffré et une lettre de l'alphabet d'origine suffit à calculer le pas de décalage (la clef) et donc à décrypter le message.\n",
    "\n",
    "Il s'agit en effet de trouver la valeur de $k$ dans l'équation : $x_c - k = x_m \\mod 26$ avec $x_c$ la lettre du message chiffré correspondant à la lettre $x_m$ de l'alphabet d'origine.\n",
    "\n",
    "L'analyse de fréquence nous permet de tester directement des candidats pertinents pour $x_m$ et $x_c$. En effet, il est probable pour que la lettre la plus fréquente dans le message chiffré serve à coder la lettre la plus fréquente dans la langue étudiée. Par exemple, en français, la lettre la plus utilisée est le \"e\". Si, dans le message chiffré, la lettre la plus utilisée est le \"v\", il y a de grandes chances pour que \"v\" serve à coder \"e\". Cette méthode sera d'autant plus efficace que le message à déchiffrer est long.\n",
    "\n",
    "> __Question 3 (attaque par analyse de fréquence)__ : \n",
    "- Définir une fonction `frequenceLettre(lettre, txt)` qui calcule la fréquence en pourcentages du caractère `lettre` dans la chaine de caractere `txt`.\n",
    "- Définir une fonction `frequenceTouteLettre(txt, alphabet)` qui calcule la fréquence en pourcentages de chaque lettre de `alphabet` dans `txt`. Cette fonction renvoie un dictionnaire ayant pour clef chaque lettre et pour valeur la fréquence correspondante.\n",
    "- Définir une fonction `triFreq(freqs)` qui, étant donné un dictionnaire de fréquence `freqs`, les éléments triées par fréquence décroissante. \n",
    "- Définir une fonction `getNiemelettre(freqs, n)` qui renvoie la n-ième lettre la plus fréquente (par exemple, si n = 1, la fonction renverra la lettre la plus frequente) d'après `freqs`.\n",
    "- Définir une fonction `calculeDecalage(lettre1, lettre2, alphabet)` qui renvoie la valeur du décalage entre les deux lettres en paramètre étant donné un alphabet. Ce décalage sera exprimé dans $\\mathbb{Z}/n\\mathbb{Z}$ avec $n$ la longueur de l'alphabet considéré.\n",
    "- Définir une fonction `attaqueFrequenceDec\n",
    "(msgChiffre, frequenceLangue, alphabet)` qui utilise les fonctions précédentes pour décrypter le message en paramètre en comparant la lettre la plus fréquente dans le message chiffré et dans la langue considérée. `frequenceLangue` est un dictionnaire des fréquences dans la langue du message (le dictionnaire des fréquences de chaque lettre en français `frequenceFrancais` vous est fourni).\n",
    "\n",
    "_Note_ : si le message n'est pas assez long ou pas assez représentatif de la langue considéré, une analyse de fréquence ne se basant que sur la lettre la plus fréquente risque de ne pas aboutir. Il peut dans ce cas être interessant de tester plusieurs possibilités (par exemple en calculant le décalage entre la deuxième lettre la plus fréquente dans le chiffré et la lettre la plus fréquente du français)."
   ]
  },
  {
   "cell_type": "code",
   "execution_count": 27,
   "metadata": {},
   "outputs": [
    {
     "name": "stdout",
     "output_type": "stream",
     "text": [
      "frequenceLettre : OK\n"
     ]
    }
   ],
   "source": [
    "def frequenceLettre(lettre, txt):\n",
    "    nbLettre = 0\n",
    "\n",
    "    for l in txt:\n",
    "        if l == lettre:\n",
    "            nbLettre += 1\n",
    "\n",
    "    return nbLettre / len(txt) * 100\n",
    "\n",
    "chiffre = \"abhffbzzrfpbzzrqrfanvafnffvffheqrfrcnhyrfqrtrnagffvabhfiblbafcyhfqrpubfrfrgcyhfrybvtarrfdhrhkprarfgcnfnpnhfrqryncrefcvpnpvgrqrabgerihravqrabgertenaqrheprfgcneprdhrabhffbzzrfryrirfcnerhk\"\n",
    "\n",
    "try:\n",
    "    assert round(frequenceLettre('f',chiffre),2) == 15.68\n",
    "    assert round(frequenceLettre('a',chiffre),2) == 7.03\n",
    "    print(\"frequenceLettre : OK\")\n",
    "except:\n",
    "    print(\"frequenceLettre : ERREUR\")\n"
   ]
  },
  {
   "cell_type": "code",
   "execution_count": 28,
   "metadata": {},
   "outputs": [
    {
     "name": "stdout",
     "output_type": "stream",
     "text": [
      "Frequence de chaque lettre dans le chiffre :  {'a': 7.027027027027027, 'b': 6.486486486486487, 'c': 4.324324324324325, 'd': 1.0810810810810811, 'e': 4.324324324324325, 'f': 15.675675675675677, 'g': 3.783783783783784, 'h': 7.567567567567568, 'i': 1.6216216216216217, 'j': 0.0, 'k': 1.0810810810810811, 'l': 0.5405405405405406, 'm': 0.0, 'n': 6.486486486486487, 'o': 0.0, 'p': 4.324324324324325, 'q': 4.324324324324325, 'r': 18.91891891891892, 's': 0.0, 't': 1.6216216216216217, 'u': 0.5405405405405406, 'v': 3.783783783783784, 'w': 0.0, 'x': 0.0, 'y': 3.2432432432432434, 'z': 3.2432432432432434}\n"
     ]
    }
   ],
   "source": [
    "def frequenceTouteLettre(txt, alphabet = \"abcdefghijklmnopqrstuvwxyz\"):\n",
    "    frequence = {}\n",
    "\n",
    "    for lettre in alphabet:\n",
    "        frequence[lettre] = frequenceLettre(lettre, txt)\n",
    "\n",
    "    return frequence\n",
    "\n",
    "print(\"Frequence de chaque lettre dans le chiffre : \", frequenceTouteLettre(chiffre))\n"
   ]
  },
  {
   "cell_type": "code",
   "execution_count": 29,
   "metadata": {},
   "outputs": [
    {
     "name": "stdout",
     "output_type": "stream",
     "text": [
      "[('e', 17.39), ('a', 8.15), ('s', 8.14), ('i', 7.31), ('t', 7.22), ('n', 7.12), ('r', 6.64), ('u', 6.38), ('l', 5.69), ('o', 5.28), ('d', 3.73), ('c', 3.15), ('m', 2.87), ('p', 2.8), ('v', 1.64), ('q', 1.21), ('f', 1.12), ('b', 0.97), ('g', 0.97), ('h', 0.85), ('j', 0.45), ('x', 0.41), ('y', 0.28), ('z', 0.15), ('w', 0.03), ('k', 0.02)]\n",
      "v\n",
      "getNiemeLettre : OK\n"
     ]
    }
   ],
   "source": [
    "def triFreq(freqs):\n",
    "    return sorted(freqs.items(), key = lambda x: x[1], reverse = True)\n",
    "\n",
    "def getNiemeLettre(freqs, n):\n",
    "    return triFreq(freqs)[n - 1][0]\n",
    "\n",
    "\n",
    "# Frequence des lettres en français\n",
    "# Source : https://www.apprendre-en-ligne.net/crypto/stat/francais.html\n",
    "frequenceFrancais = {'a': 8.15, 'b': 0.97, 'c': 3.15, 'd': 3.73, 'e': 17.39, \n",
    "                     'f': 1.12, 'g': 0.97, 'h': 0.85, 'i': 7.31, 'j': 0.45, \n",
    "                     'k': 0.02, 'l': 5.69, 'm': 2.87, 'n': 7.12, 'o': 5.28, \n",
    "                     'p': 2.80, 'q': 1.21, 'r': 6.64, 's': 8.14, 't': 7.22, \n",
    "                     'u': 6.38, 'v': 1.64, 'w': 0.03, 'x': 0.41, 'y': 0.28, \n",
    "                     'z': 0.15}\n",
    "\n",
    "print(triFreq(frequenceFrancais))\n",
    "print(getNiemeLettre(frequenceFrancais, 15))\n",
    "\n",
    "try:\n",
    "    assert getNiemeLettre(frequenceTouteLettre(chiffre), 1) == 'r'\n",
    "    assert getNiemeLettre(frequenceFrancais, 1) == 'e'\n",
    "    assert getNiemeLettre(frequenceFrancais, 2) == 'a'\n",
    "    assert getNiemeLettre(frequenceFrancais, 3) == 's'\n",
    "    print(\"getNiemeLettre : OK\")\n",
    "except:\n",
    "    print(\"getNiemeLettre : ERREUR\")\n"
   ]
  },
  {
   "cell_type": "code",
   "execution_count": 30,
   "metadata": {},
   "outputs": [
    {
     "name": "stdout",
     "output_type": "stream",
     "text": [
      "calculDecalage : OK\n"
     ]
    }
   ],
   "source": [
    "def calculDecalage(lettre1, lettre2, alphabet = \"abcdefghijklmnopqrstuvwxyz\"):\n",
    "    return (lettreToEntier(lettre2) - lettreToEntier(lettre1)) % len(alphabet)\n",
    "\n",
    "try:\n",
    "    assert calculDecalage('a', 'd') == 3\n",
    "    assert calculDecalage('d', 'a') == 23\n",
    "    assert calculDecalage('z', 'c') == 3\n",
    "    assert calculDecalage('r', 'a') == 9\n",
    "    print(\"calculDecalage : OK\")\n",
    "except:\n",
    "    print(\"calculDecalage : ERREUR\")\n"
   ]
  },
  {
   "cell_type": "code",
   "execution_count": 31,
   "metadata": {},
   "outputs": [
    {
     "name": "stdout",
     "output_type": "stream",
     "text": [
      "noussommescommedesnainsassissurdesepaulesdegeantssinousvoyonsplusdechosesetpluseloigneesqueuxcenestpasacausedelaperspicacitedenotrevuenidenotregrandeurcestparcequenoussommeselevespareux\n",
      "\n",
      "Plus dur...\n",
      "\n",
      "horsdiciaulogisfaineantsaulogisestcequecestaujourdhuijourdefetecommentestcequevousnesavezpasquetantdesartisansvousnedevezpasvousmontrerunjourouvriersansavoirlesinsignesdevosprofessionsparletoiquelesttonmetier\n"
     ]
    }
   ],
   "source": [
    "\"\"\"\n",
    "def attaqueFrequenceDec(msgChiffre, frequenceLangue = frequenceFrancais, alphabet = \"abcdefghijklmnopqrstuvwxyz\", nbLettres = 20):\n",
    "    freqsMsg = frequenceTouteLettre(msgChiffre)\n",
    "    freqsLangueTriees = triFreq(frequenceLangue)\n",
    "    meilleurScore = 0\n",
    "    meilleurMessage = \"\"\n",
    "\n",
    "    for i in range(nbLettres):\n",
    "        lettreMsgFrequente = getNiemeLettre(freqsMsg, i + 1)\n",
    "\n",
    "        for j in range(nbLettres):\n",
    "            lettreLangueFrequente = freqsLangueTriees[j][0]\n",
    "            clefPotentielle = calculDecalage(lettreMsgFrequente, lettreLangueFrequente, alphabet)\n",
    "            messageDechiffre = dechiffrementDecalage(msgChiffre, clefPotentielle, alphabet)\n",
    "            score = isPlausible(messageDechiffre)\n",
    "\n",
    "            if score > meilleurScore:\n",
    "                meilleurScore = score\n",
    "                meilleurMessage = messageDechiffre\n",
    "\n",
    "    return meilleurMessage\n",
    "\"\"\"\n",
    "\n",
    "def attaqueFrequenceDec(msgChiffre, frequenceLangue = frequenceFrancais, alphabet = \"abcdefghijklmnopqrstuvwxyz\", nbLettres = 15):\n",
    "    freqsMsg = frequenceTouteLettre(msgChiffre)\n",
    "    freqsLangueTriees = triFreq(frequenceLangue)\n",
    "    plausibleWords = []\n",
    "    msgDechifres = []\n",
    "\n",
    "    if nbLettres == 15:\n",
    "        nbLettres=len(msgChiffre) // 10\n",
    "\n",
    "    for i in range(nbLettres):\n",
    "        lettreMsgFrequente = getNiemeLettre(freqsMsg, i + 1)\n",
    "\n",
    "        for j in range(nbLettres):\n",
    "            lettreLangueFrequente = freqsLangueTriees[j][0]\n",
    "            clefPotentielle = calculDecalage(lettreMsgFrequente, lettreLangueFrequente, alphabet)\n",
    "            messageDechiffre = dechiffrementDecalage(msgChiffre, clefPotentielle, alphabet)\n",
    "            plausible = isPlausible(messageDechiffre)\n",
    "\n",
    "            if plausible[1]:\n",
    "                plausibleWords.append(plausible[0])\n",
    "                msgDechifres.append(messageDechiffre)\n",
    "\n",
    "    if len(msgDechifres) > 0:\n",
    "        return msgDechifres[plausibleWords.index(max(plausibleWords, key=len))]\n",
    "    else:\n",
    "        return \"Décryptage échoué\"\n",
    "\n",
    "def isPlausible(decryptedMessage):\n",
    "    motsFrequents = [\"le\", \"de\", \"et\", \"la\", \"les\", \"un\", \"une\", \"des\", \"du\", \"en\", \"que\", \"qui\", \"ne\", \"il\", \"a\", \"dans\", \"ce\", \"au\", \"sur\", \"pour\", \"par\", \"plus\", \"pas\", \"se\", \"son\", \"avec\", \"tout\", \"faire\", \"comme\", \"mais\", \"nous\", \"vous\", \"sa\", \"ses\", \"leur\", \"leurs\", \"sans\", \"si\", \"ou\", \"aussi\", \"lui\", \"entre\", \"alors\", \"donc\", \"car\", \"ni\", \"cette\", \"ces\", \"tous\", \"toutes\", \"meme\", \"me\", \"mes\", \"te\", \"tes\", \"lui\", \"leur\", \"eux\", \"y\", \"en\", \"ou\", \"lequel\", \"laquelle\", \"lesquels\", \"lesquelles\", \"dont\", \"quel\", \"quelle\", \"quels\", \"quelles\", \"ceux\", \"celui\", \"celle\", \"celles\", \"celui\"]\n",
    "    #return sum(mot in decryptedMessage for mot in motsFrequents)\n",
    "    return [[mot for mot in motsFrequents if mot in decryptedMessage], any(mot in decryptedMessage for mot in motsFrequents)]\n",
    "\n",
    "print(attaqueFrequenceDec(chiffre))\n",
    "print(\"\\nPlus dur...\\n\")\n",
    "chiffre2=\"vcfgrwqwoizcuwgtowbsobhgoizcuwgsghqseisqsghoixcifrviwxcifrstshsqcaasbhsghqseisjcigbsgojsndogeishobhrsgofhwgobgjcigbsrsjsndogjcigacbhfsfibxcifcijfwsfgobgojcwfzsgwbgwubsgrsjcgdfctsggwcbgdofzshcweiszsghhcbashwsf\"\n",
    "print(attaqueFrequenceDec(chiffre2))\n"
   ]
  },
  {
   "cell_type": "markdown",
   "metadata": {},
   "source": [
    "## 2 - Chiffrement Affine\n",
    "\n",
    "Le chiffrement affine est un autre type de chiffrement par substitution monoalphabétique. Ici, la clef de chiffrement $k$ est composée d'un couple d'entiers $(a,b)$ avec $a \\in (\\mathbb{Z}/n\\mathbb{Z})^*$ (l'ensemble des éléments inversibles de $\\mathbb{Z}/n\\mathbb{Z}$) et $b \\in \\mathbb{Z}/n\\mathbb{Z}$\n",
    "\n",
    "La fonction de chiffrement correspondante est : \n",
    "\n",
    "\\begin{align*}\n",
    "  E_k \\colon \\mathbb{Z}/26\\mathbb{Z} &\\to \\mathbb{Z}/26\\mathbb{Z}\\\\\n",
    "  m_i & \\mapsto c_i = am_i + b\n",
    "\\end{align*}\n",
    "\n",
    "Ainsi, si k = (3,4), la lettre codée 6 (donc 'g') sera chiffrée avec la lettre codée $(3*6+4)\\mod 26 = 22$ (donc 'w').\n",
    "\n",
    "### 2 - a) Chiffrement/Déchiffrement\n",
    "\n",
    "> __Question 4 (chiffrement)__ : Définir une fonction `chiffrementAffine(msgClair, a, b, alphabet)` qui étant donné un message en clair `msgClair`, une clef de chiffrement `clef`$=[a,b]$ et un alphabet `alphabet` (par défaut, l'alphabet français) renvoie le message chiffré correspondant."
   ]
  },
  {
   "cell_type": "code",
   "execution_count": 32,
   "metadata": {},
   "outputs": [
    {
     "name": "stdout",
     "output_type": "stream",
     "text": [
      "chiffrementAffine : OK\n"
     ]
    }
   ],
   "source": [
    "def chiffrementAffine(msgClair, clef, alphabet = \"abcdefghijklmnopqrstuvwxyz\") :\n",
    "    msgChiffre = \"\"\n",
    "    for lettre in msgClair:\n",
    "        msgChiffre += entierToLettre((lettreToEntier(lettre) * clef[0] + clef[1]) % len(alphabet))\n",
    "    return msgChiffre\n",
    "\n",
    "try:\n",
    "    assert chiffrementAffine(\"messageenclair\", [3, 4]) == \"oqggewqqrklecd\"\n",
    "    assert chiffrementAffine(\"messageenclair\", [23, 6]) == \"wueegouutazgih\"\n",
    "    print(\"chiffrementAffine : OK\")\n",
    "except:\n",
    "    print(\"chiffrementAffine : ERREUR\")\n"
   ]
  },
  {
   "cell_type": "markdown",
   "metadata": {},
   "source": [
    "Partant du message chiffré et connaissant la clef de chiffrement (les valeurs de a et b), il est possible de déchiffrer le message.\n",
    "\n",
    "La fonction de déchiffrement peut s'écrire : \n",
    "\n",
    "\\begin{align*}\n",
    "  D_k \\colon \\mathbb{Z}/26\\mathbb{Z} &\\to \\mathbb{Z}/26\\mathbb{Z}\\\\\n",
    "  c_i &\\mapsto m_i = \\alpha c_i + \\beta\n",
    "\\end{align*}\n",
    "\n",
    "avec $\\alpha = a^{-1}$ et $\\beta = (-a^{-1}b) \\mod n$\n",
    "\n",
    "où $a^{-1}$ désigne l'inverse modulaire de $a$"
   ]
  },
  {
   "cell_type": "markdown",
   "metadata": {},
   "source": [
    "Avant de faire la fonction permettant de déchiffrer un message chiffré connaissant sa clef, il est donc nécessaire de faire une parenthèse plus mathématique sur les inverses modulaires ! \n",
    "\n",
    "#### Inversibilité dans $\\mathbb{Z}/n\\mathbb{Z}$\n",
    "\n",
    "S'il existe un entier $b$ de $\\mathbb{Z}/n\\mathbb{Z}$ tel que $a*b \\mod n = 1$ alors b est appelé __inverse__ de a dans $\\mathbb{Z}/n\\mathbb{Z}$ et est noté $a^{-1}$.\n",
    "\n",
    "$a$ est inversible dans $\\mathbb{Z}/n\\mathbb{Z}$ ssi $a$ et $n$ sont premiers entre eux, c'est à dire qu'ils n'ont aucun diviseur commun (i.e. $pgcd(a,n) = 1$).\n",
    "\n",
    "> __Question 5 :__\n",
    "- Faire une fonction `estInversible(a, n)` qui renvoie `True` si $a$ est inversible sur $\\mathbb{Z}/n\\mathbb{Z}$ et `False`sinon.\n",
    "- Faire une fonction `listeInversibles(n)` qui renvoie la liste de tous les éléments inversibles de $\\mathbb{Z}/n\\mathbb{Z}$\n",
    "\n"
   ]
  },
  {
   "cell_type": "code",
   "execution_count": 33,
   "metadata": {},
   "outputs": [
    {
     "name": "stdout",
     "output_type": "stream",
     "text": [
      "estInversible : OK\n"
     ]
    }
   ],
   "source": [
    "def estInversible(a, n):\n",
    "    for i in range(1, n):\n",
    "        if (a * i) % n == 1:\n",
    "            return True\n",
    "    return False\n",
    "\n",
    "try:\n",
    "    assert estInversible(0, 180) == False\n",
    "    assert estInversible(1, 180) == True\n",
    "    assert estInversible(4, 180) == False\n",
    "    assert estInversible(5, 180) == False\n",
    "    assert estInversible(179, 180) == True\n",
    "    assert estInversible(11, 180) == True\n",
    "    assert estInversible(131, 180) == True\n",
    "    assert estInversible(13, 26) == False\n",
    "    assert estInversible(4, 26) == False\n",
    "    assert estInversible(5, 26) == True\n",
    "    print(\"estInversible : OK\")\n",
    "except:\n",
    "    print(\"estInversible : ERREUR\")\n",
    "\n"
   ]
  },
  {
   "cell_type": "code",
   "execution_count": 34,
   "metadata": {},
   "outputs": [
    {
     "name": "stdout",
     "output_type": "stream",
     "text": [
      "listeInversibles : OK\n"
     ]
    }
   ],
   "source": [
    "def listeInversibles(n):\n",
    "    liste = []\n",
    "    for i in range(1, n):\n",
    "        if estInversible(i, n):\n",
    "            liste.append(i)\n",
    "    return liste\n",
    "\n",
    "try:\n",
    "    assert listeInversibles(26) == [1, 3, 5, 7, 9, 11, 15, 17, 19, 21, 23, 25]\n",
    "    assert listeInversibles(5) == [1, 2, 3, 4]\n",
    "    assert listeInversibles(6) == [1, 5]\n",
    "    print(\"listeInversibles : OK\")\n",
    "except:\n",
    "    print(\"listeInversibles : ERREUR\")\n",
    "    "
   ]
  },
  {
   "cell_type": "markdown",
   "metadata": {},
   "source": [
    "Maintenant que nous savons si un nombre est inversible dans $\\mathbb{Z}/n\\mathbb{Z}$, il nous faut pouvoir calculer son inverse. Une méthode consiste à trouver les __coefficients de Bezout__ entre $a$ et $n$.\n",
    "\n",
    "De manière générale, les coefficients de Bezout de $a$ et $b$ sont les entiers relatifs $s$ et $t$ tels que $sa + tb = pgcd(a,b) $ \n",
    "\n",
    "Si $a$ est inversible, il s'agit donc de trouver les entiers relatifs $s$ et $t$ tels que $sa + tn = 1 $ car a et n sont premiers entre eux (donc $pgcd(a,n) = 1$)\n",
    "\n",
    "Comme $tn = 0$ dans $\\mathbb{Z}/n\\mathbb{Z}$ ($tn$ est un multiple de n), on a $sa=1$ donc $a^{-1} = s\\mod n$ (définition de l'inverse).\n",
    "\n",
    ">__Question 6 :__\n",
    "A partie de la fonction `coeffBezout(a, b)` qui renvoie les valeurs de $pgcd(a,b)$, $s$ et $t$ dans une liste, faire une fonction `inverse(a, n)` qui teste si $a$ est inversible et, si oui, renvoie sont inverse. Sinon, renvoie -1.\n",
    "\n",
    "sources : cette [vidéo](https://www.youtube.com/watch?v=7o79t2KAKxE&list=PLE8WtfrsTAinMMyQkK_CzXhXU_LHRNXy_&index=3)  \n",
    "et [celle-ci](https://www.youtube.com/watch?v=BkK1_FspgYQ)."
   ]
  },
  {
   "cell_type": "code",
   "execution_count": 35,
   "metadata": {},
   "outputs": [
    {
     "name": "stdout",
     "output_type": "stream",
     "text": [
      "coeffBezout : OK\n"
     ]
    }
   ],
   "source": [
    "def coeffBezout(a, b) :\n",
    "    l1 = np.array([a, 1, 0])\n",
    "    l2 = np.array([b, 0, 1])\n",
    "\n",
    "    while(l2[0] != 0):\n",
    "        mult = l1[0] // l2[0]\n",
    "        ltmp = l2\n",
    "        l2 = l1 - mult * l2\n",
    "        l1 = ltmp\n",
    "\n",
    "    if(l1[0] < 0):\n",
    "        l1 = -l1\n",
    "\n",
    "    return l1.tolist()\n",
    "\n",
    "try:\n",
    "    assert coeffBezout(180, 11) == [1, 3,-49]\n",
    "    assert coeffBezout(23, 26) == [1, -9, 8]\n",
    "    assert coeffBezout(26, 3) == [1, -1, 9]\n",
    "    print(\"coeffBezout : OK\")\n",
    "except:\n",
    "    print(\"coeffBezout : ERREUR\")\n",
    "    "
   ]
  },
  {
   "cell_type": "code",
   "execution_count": 36,
   "metadata": {},
   "outputs": [
    {
     "name": "stdout",
     "output_type": "stream",
     "text": [
      "inverse : OK\n"
     ]
    }
   ],
   "source": [
    "def inverse(a, n) :\n",
    "    return coeffBezout(a, n)[1] % n\n",
    "\n",
    "try:\n",
    "    assert inverse(11, 180) == 131\n",
    "    assert inverse(3, 26) == 9\n",
    "    assert inverse(23, 26) == 17\n",
    "    print(\"inverse : OK\")\n",
    "except:\n",
    "    print(\"inverse : ERREUR\")\n"
   ]
  },
  {
   "cell_type": "markdown",
   "metadata": {},
   "source": [
    "Nous avons maintenant toutes les cartes en main pour définir la fonction de déchiffrement affine. Pour rappel : \n",
    "\n",
    "\\begin{align*}\n",
    "  D_k \\colon \\mathbb{Z}/26\\mathbb{Z} &\\to \\mathbb{Z}/26\\mathbb{Z}\\\\\n",
    "  c_i &\\mapsto m_i = \\alpha c_i + \\beta\n",
    "\\end{align*}\n",
    "\n",
    "avec $\\alpha = a^{-1}$ et $\\beta = (-a^{-1}b) \\mod n$\n",
    "\n",
    "où $a^{-1}$ désigne l'inverse modulaire de $a$.\n",
    "\n",
    "\n",
    "\n",
    "> __Question 7 (déchiffrement)__ : Définir une fonction `dechiffrementAffine(msgChiffre, clef, alphabet)` qui étant donné un message chiffré `msgChiffre`, la `clef` qui a servi à construire ce message chiffré composée de a et b et un alphabet `alphabet` (par défaut, l'alphabet français) renvoie le message en clair correspondant."
   ]
  },
  {
   "cell_type": "code",
   "execution_count": 37,
   "metadata": {},
   "outputs": [
    {
     "name": "stdout",
     "output_type": "stream",
     "text": [
      "dechiffrementAffine : OK\n"
     ]
    }
   ],
   "source": [
    "def dechiffrementAffine(msgChiffre, clef, alphabet = \"abcdefghijklmnopqrstuvwxyz\"):\n",
    "    msgClair = \"\"\n",
    "\n",
    "    for lettre in msgChiffre:\n",
    "        msgClair += entierToLettre((lettreToEntier(lettre) - clef[1]) * inverse(clef[0], len(alphabet)) % len(alphabet))\n",
    "\n",
    "    return msgClair\n",
    "\n",
    "try:\n",
    "    assert dechiffrementAffine(\"oqggewqqrklecd\", [3, 4]) == \"messageenclair\"\n",
    "    assert dechiffrementAffine(\"wueegouutazgih\", [23, 6]) == \"messageenclair\"\n",
    "    print(\"dechiffrementAffine : OK\")\n",
    "except:\n",
    "    print(\"dechiffrementAffine : ERREUR\")\n"
   ]
  },
  {
   "cell_type": "markdown",
   "metadata": {},
   "source": [
    "### 2 - b) Attaque : Analyse de fréquence\n",
    "\n",
    "Nous allons maintenant coder une attaque par analyse de fréquence dans le cas du chiffrement affine. Dans le chiffrement par décalage, il n'y avait qu'une seule inconnue : le pas de décalage $k$. Dans le chiffrement affine, il s'agit de trouver les valeurs de $a$ et $b$, ou plus exactement, de $\\alpha$ et $\\beta$. Il nous faut donc résoudre deux équations à deux inconnues : \n",
    "\n",
    "$$\n",
    "\\left\\{\n",
    "    \\begin{array}{ll}\n",
    "        x_c\\alpha + \\beta & = x_m \\mod 26 \\\\\n",
    "        y_c\\alpha + \\beta & = y_m \\mod 26 \\\\\n",
    "    \\end{array}\n",
    "\\right.\n",
    "$$\n",
    "\n",
    "où $x_c$ (resp. $y_c$) désigne la lettre qui code $x_m$ (resp. $y_m$) dans le message chiffré.\n",
    "\n",
    "_Note_ : L'attaque par force brute est toujours très faisable. Il n'y aurait que $Card((\\mathbb{Z}/n\\mathbb{Z})^*)*Card(\\mathbb{Z}/n\\mathbb{Z}) = 12 * 26 = 312$ clefs à tester.\n",
    "\n",
    "> __Question 8 (attaque par analyse de fréquence)__ : Résolution de deux équations à deux inconnues.\n",
    "- Faire une fonction `resEquations(xc,xm,yc,ym,alphabet)` qui renvoie les valeurs de $\\alpha$ et $\\beta$ par résolution du système d'équation donné ci-dessus.\n",
    "- Faire une fonction `attaqueFrequenceAff(msgCrypte, frequenceLangue, alphabet)` qui utilise les fonctions précédentes pour décrypter le message en paramètre en comparant les lettres les plus fréquentes dans le message chiffré et dans la langue considérée. `frequenceLangue` est un dictionnaire des fréquences dans la langue du message (le dictionnaire des fréquences de chaque lettre en français `frequenceFrancais` vous est fourni plus haut). Il faudra certainement tester plusieurs possibilités...\n"
   ]
  },
  {
   "cell_type": "code",
   "execution_count": 38,
   "metadata": {},
   "outputs": [
    {
     "name": "stdout",
     "output_type": "stream",
     "text": [
      "resEquations : OK\n"
     ]
    }
   ],
   "source": [
    "\"\"\"\n",
    "resolution des equations\n",
    "xc * alpha + beta = xm mod 26\n",
    "yc * alpha + beta = ym mod 26\n",
    "\"\"\"\n",
    "\n",
    "def resEquations(xc, xm, yc, ym, alphabet = \"abcdefghijklmnopqrstuvwxyz\"):\n",
    "    xc = alphabet.index(xc)\n",
    "    xm = alphabet.index(xm)\n",
    "    yc = alphabet.index(yc)\n",
    "    ym = alphabet.index(ym)\n",
    "    alpha = None\n",
    "    beta = None\n",
    "\n",
    "    for potential_alpha in range(26):\n",
    "        if (xc - yc) * potential_alpha % 26 == (xm - ym) % 26:\n",
    "            alpha = potential_alpha\n",
    "            break\n",
    "\n",
    "    if alpha is not None:\n",
    "        beta = (ym - yc * alpha) % 26\n",
    "\n",
    "    return alpha, beta\n",
    "\n",
    "try:\n",
    "    assert resEquations('a', 'd', 'd', 'e') == (9, 3)\n",
    "    assert resEquations('t', 'e', 'm', 't') == (9, 15)\n",
    "    assert resEquations('t', 'e', 'm', 'a') == (8, 8)\n",
    "    assert resEquations('r', 'e', 'f', 'a') == (9, 7)\n",
    "    print(\"resEquations : OK\")\n",
    "except AssertionError:\n",
    "    print(\"resEquations : ERREUR\")\n"
   ]
  },
  {
   "cell_type": "code",
   "execution_count": 39,
   "metadata": {},
   "outputs": [
    {
     "name": "stdout",
     "output_type": "stream",
     "text": [
      "nousallonsmaintenantcoderuneattaqueparanalysedefrequencedanslecasduchiffrementaffineattentionilfautlaisseunpeudejeulapremierelettreduchiffrenecorrespondpasforcementalapremierelettredufrancaisidempourladeuxieme\n",
      "\n",
      "Un peu plus complique...\n",
      "cestuntroudeverdureouchanteuneriviereaccrochantfollementauxherbesdeshaillonsdargentoulesoleildelamontagnefiereluitcestunpetitvalquimoussederayons\n"
     ]
    }
   ],
   "source": [
    "#Passer de alpha/beta à a/b\n",
    "#n = len(alphabet)\n",
    "#a = inverse(alpha,n)\n",
    "#b = (-beta*a)%26\n",
    "#print(\"a, b\",a,b)\n",
    "\n",
    "\"\"\"\n",
    "def attaqueFrequenceAff(msgCrypte, frequenceLangue = frequenceFrancais, alphabet = \"abcdefghijklmnopqrstuvwxyz\"):\n",
    "    frequenceMsg = {letter: msgCrypte.count(letter) for letter in alphabet}\n",
    "    sortedMsgFreq = sorted(frequenceMsg, key = frequenceMsg.get, reverse = True)\n",
    "    sortedLangFreq = sorted(frequenceLangue, key = frequenceLangue.get, reverse = True)\n",
    "\n",
    "    for i in range(len(sortedLangFreq)):\n",
    "        for j in range(len(sortedLangFreq)):\n",
    "            if i != j:\n",
    "                xc, yc = sortedMsgFreq[i], sortedMsgFreq[j]\n",
    "                for xm, ym in [(sortedLangFreq[x], sortedLangFreq[y]) for x in range(len(sortedLangFreq)) for y in range(len(sortedLangFreq)) if x != y]:\n",
    "                    alpha, beta = resEquations(xc, xm, yc, ym, alphabet)\n",
    "\n",
    "                    if alpha is not None and beta is not None and estInversible(alpha, len(alphabet)):\n",
    "                        a = inverse(alpha, len(alphabet))\n",
    "                        b = (-beta * a) % len(alphabet)\n",
    "                        decryptedMessage = dechiffrementAffine(msgCrypte, (a, b), alphabet)\n",
    "\n",
    "                        if isPlausible(decryptedMessage)[1]:\n",
    "                            return decryptedMessage\n",
    "\n",
    "    return \"Décryptage échoué\"\n",
    "\"\"\"\n",
    "\n",
    "def attaqueFrequenceAff(msgCrypte, frequenceLangue = frequenceFrancais, alphabet = \"abcdefghijklmnopqrstuvwxyz\", nbLettres = 15):\n",
    "    frequenceMsg = {letter: msgCrypte.count(letter) for letter in alphabet}\n",
    "    sortedMsgFreq = sorted(frequenceMsg, key = frequenceMsg.get, reverse = True)\n",
    "    sortedLangFreq = sorted(frequenceLangue, key = frequenceLangue.get, reverse = True)\n",
    "\n",
    "    if nbLettres == 15:\n",
    "        nbLettres = max(len(msgCrypte) // 10, 2)\n",
    "    nbLettres = min(nbLettres, len(sortedLangFreq), len(sortedMsgFreq))\n",
    "\n",
    "    for i in range(nbLettres):\n",
    "        for j in range(nbLettres):\n",
    "            if i != j:\n",
    "                xc, yc = sortedMsgFreq[i], sortedMsgFreq[j]\n",
    "                for k in range(nbLettres):\n",
    "                    for l in range(nbLettres):\n",
    "                        if k != l:\n",
    "                            xm, ym = sortedLangFreq[k], sortedLangFreq[l]\n",
    "                            alpha, beta = resEquations(xc, xm, yc, ym, alphabet)\n",
    "\n",
    "                            if alpha is not None and beta is not None and estInversible(alpha, len(alphabet)):\n",
    "                                a = inverse(alpha, len(alphabet))\n",
    "                                b = (-beta * a) % len(alphabet)\n",
    "                                decryptedMessage = dechiffrementAffine(msgCrypte, (a, b), alphabet)\n",
    "\n",
    "                                if isPlausible(decryptedMessage)[1]:\n",
    "                                    return decryptedMessage\n",
    "\n",
    "    return \"Décryptage échoué\"\n",
    "\n",
    "c1 = \"svnhfmmvshpfdskrsfsklvorensrfkkfbnryfefsfmzhroruerbnrslrofshmrlfhonladuuerprskfuudsrfkkrskdvsdmufnkmfdhhrnsyrnorgrnmfyerpdrermrkkeronladuuersrlveerhyvsoyfhuvelrprskfmfyerpdrermrkkeronuefslfdhdorpyvnemfornwdrpr\"\n",
    "print(attaqueFrequenceAff(c1))\n",
    "print(\"\\nUn peu plus complique...\")\n",
    "c2 = \"ntjmpumgxpqtstgqpgtxpnchumtputgfsftgthnngxnchumwxootrtumhpyctgktjqtjchfooxujqhgztumxpotjxotfoqtohrxumhzutwftgtopfmntjmpuatmfmshodpfrxpjjtqtghbxuj\"\n",
    "print(attaqueFrequenceAff(c2))\n"
   ]
  }
 ],
 "metadata": {
  "kernelspec": {
   "display_name": "Python 3 (ipykernel)",
   "language": "python",
   "name": "python3"
  },
  "language_info": {
   "codemirror_mode": {
    "name": "ipython",
    "version": 3
   },
   "file_extension": ".py",
   "mimetype": "text/x-python",
   "name": "python",
   "nbconvert_exporter": "python",
   "pygments_lexer": "ipython3",
   "version": "3.12.0"
  }
 },
 "nbformat": 4,
 "nbformat_minor": 4
}
