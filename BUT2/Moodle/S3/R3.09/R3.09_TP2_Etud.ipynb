{
 "cells": [
  {
   "cell_type": "code",
   "execution_count": 1,
   "metadata": {},
   "outputs": [],
   "source": [
    "import numpy as np"
   ]
  },
  {
   "cell_type": "markdown",
   "metadata": {},
   "source": [
    "# <center> TP2 - Chiffrement par substitution polyalphabétique </center>\n",
    "<center> 2023/2024 - L. Naert, T. Ferragut, T. Godin </center>\n",
    "\n",
    "_Certains exemples et textes de ce TP sont tirés de Exercices et Problèmes de cryptographie de Damien Vergnaud, 3ème édition_\n",
    "\n",
    "Dans le chiffrement par substitution monoalphabétique, un symbole du message en clair était toujours remplacé par un même symbole pour constituer le message chiffré et un symbole du chiffré correspondait toujours au même symbole du clair. L'attaque par analyse de fréquence est donc très efficace sur ce type de chiffrement. \n",
    "\n",
    "Dans le chiffrement par substitution polyalphabétique, plusieurs alphabets de chiffrement sont utilisés. Un symbole du message en clair sera remplacé par un autre symbole en fonction de sa position dans le clair, de l'algorithme de chiffrement utilisé et de la clef choisi. Ainsi, deux occurences d'un même symbole dans le clair peuvent être remplacées par des symboles différents dans le chiffré. Et un même symbole dans le chiffré peut servir à coder des lettres différentes du clair. \n",
    "\n",
    "Dans ce TP, nous étudierons 2 types de chiffrement par substitution polyalphabétique : le chiffrement de Vigenère et le chiffrement de Hill.\n",
    "\n",
    "Pour chaque type de chiffrement, nous développerons des fonctions pour:\n",
    "1. chiffrer un message en clair à l'aide d'une clef\n",
    "2. déchiffrer un message (en connaissant la clef)\n",
    "3. (décrypter un message (ne connaissant pas la clef)) $\\to$ partie optionnelle et seulement pour Vigenère\n",
    "\n",
    "\n",
    "Par convention, nous appelerons :\n",
    "- $k$ : la clef\n",
    "- $E_k$ : la fonction de chiffrement\n",
    "- $D_k$ : la fonction de déchiffrement\n",
    "- $m$ : le message en clair\n",
    "- $m_i$ : la lettre de rang $i$ sur message en clair\n",
    "- $c$ : le message chiffré\n",
    "- $c_i$ : la lettre de rang $i$ sur message chiffré\n",
    "\n"
   ]
  },
  {
   "cell_type": "markdown",
   "metadata": {},
   "source": [
    "## 1 - Chiffrement de Vigenère\n",
    "\n",
    "Le chiffrement de Vigenère consiste à effectuer de façon périodique plusieurs chiffrements par décalage. La clef utilisée est un mot, bien plus court que le message à chiffrer, qui donne la valeur du décalage à effectuer pour chaque lettre du clair.\n",
    "\n",
    "Par exemple, chiffrons le mot __chiffrement__ à l'aide de l'algorithme de Vigenère et de la clef __clef__. Cette clef indique que :\n",
    "- la première lettre du clair sera chiffrée à l'aide d'un décalage de 2 positions ('c' est codé par \"2\" dans $\\mathbb{Z}/26\\mathbb{Z}$), \n",
    "- la deuxième lettre subira un décalage de 11 positions ('l' est codé par \"11\"), \n",
    "- la troisième de 4 positions ('e' est codé par \"4\"), \n",
    "- la quatrième de 5 positions (f est codé par \"5\"), \n",
    "- et on recommence : la cinquième de 2 positions,\n",
    "- la sixième de 11 positions\n",
    "- etc.\n",
    "\n",
    "Le mot __chiffrement__ sera donc chiffré __esmkhcirgyx__. On peut remarquer que les deux \"f\" du clair sont chiffrés par \"k\" et \"h\" respectivement. "
   ]
  },
  {
   "cell_type": "code",
   "execution_count": 2,
   "metadata": {},
   "outputs": [
    {
     "name": "stdout",
     "output_type": "stream",
     "text": [
      "Lettre -> entier : w -> 22\n",
      "Entier -> Lettre : 22 -> w\n"
     ]
    }
   ],
   "source": [
    "# Quelques fonctions utiles (ou pas)\n",
    "def lettreToEntier(lettre, alphabet = \"abcdefghijklmnopqrstuvwxyz\"):\n",
    "    return alphabet.find(lettre)\n",
    "def entierToLettre(a, alphabet = \"abcdefghijklmnopqrstuvwxyz\"):\n",
    "    return alphabet[int(a)]\n",
    "\n",
    "print(\"Lettre -> entier : w ->\", lettreToEntier('w'))\n",
    "print(\"Entier -> Lettre : 22 ->\", entierToLettre(22))"
   ]
  },
  {
   "cell_type": "markdown",
   "metadata": {},
   "source": [
    "### 1 - a) Chiffrement\n",
    "\n",
    "\n",
    "> __Question 1 (chiffrement)__ : Définir une fonction `chiffrementVigenere(msgClair, clef, alphabet)` qui étant donné un message en clair `msgClair`, un mot `clef` et un alphabet `alphabet` (par défaut, l'alphabet français) renvoie le message chiffré par l'algorithme de Vigenère.\n",
    "\n",
    "_Note_ : il est bien sûr possible et conseillé de réutiliser les fonctions codées dans le TP précédent."
   ]
  },
  {
   "cell_type": "code",
   "execution_count": 9,
   "metadata": {},
   "outputs": [
    {
     "name": "stdout",
     "output_type": "stream",
     "text": [
      "chiffrementVigenere : ERREUR\n"
     ]
    }
   ],
   "source": [
    "def chiffrementVigenere(msgClair, clef, alphabet=\"abcdefghijklmnopqrstuvwxyz\"):\n",
    "    return \"TODO\"\n",
    "\n",
    "\n",
    "try:\n",
    "    assert chiffrementVigenere(\"vigenere\",\"truc\") == \"ozaggvlg\"\n",
    "    assert chiffrementVigenere(\"chiffrement\",\"clef\") == \"esmkhcirgyx\"\n",
    "    print(\"chiffrementVigenere : OK\")\n",
    "except:\n",
    "    print(\"chiffrementVigenere : ERREUR\")\n"
   ]
  },
  {
   "cell_type": "markdown",
   "metadata": {},
   "source": [
    "### 1 - b) Déchiffrement\n",
    "\n",
    "Partant du message chiffré et connaissant la clef de chiffrement, il est possible de déchiffrer le message en opérant le décalage inverse.\n",
    "\n",
    "> __Question 2 (déchiffrement)__ : Définir une fonction `dechiffrementVigenere(msgChiffre, clef, alphabet)` qui étant donné un message chiffré `msgChiffre`, la clef qui a servi à construire ce message chiffré `clef` et un alphabet `alphabet` (par défaut, l'alphabet français) renvoie le message en clair correspondant."
   ]
  },
  {
   "cell_type": "code",
   "execution_count": 10,
   "metadata": {},
   "outputs": [
    {
     "name": "stdout",
     "output_type": "stream",
     "text": [
      "dechiffrementVigenere : ERREUR\n"
     ]
    }
   ],
   "source": [
    "def dechiffrementVigenere(msgChiffre, clef, alphabet=\"abcdefghijklmnopqrstuvwxyz\"):\n",
    "    return \"TODO\"\n",
    "\n",
    "\n",
    "try:\n",
    "    assert dechiffrementVigenere(\"esmkhcirgyx\",\"clef\") == \"chiffrement\"\n",
    "    assert dechiffrementVigenere(\"ozaggvlg\",\"truc\") == \"vigenere\"\n",
    "    print(\"dechiffrementVigenere : OK\")\n",
    "except:\n",
    "    print(\"dechiffrementVigenere : ERREUR\")\n",
    "    \n",
    "  "
   ]
  },
  {
   "cell_type": "markdown",
   "metadata": {},
   "source": [
    "### 1 - c) Attaque : taille de la clef et analyse de fréquence\n",
    "\n",
    "__-----------  Début de la partie optionnelle  ---------------__\n",
    "\n",
    "\n",
    "__Attention, cette partie n'est à faire que si le reste du TP (dont Chiffrement de Hill en partie 2) est terminé.__\n",
    "\n",
    "Une attaque directe par analyse de fréquence sur l'ensemble du chiffré ne sera pas efficace sur un message chiffré avec l'algorithme de  Vigenère car une même lettre du clair peut-être chiffrée par des lettres différentes et une même lettre du chiffré peut représenter des lettres du clair distinctes.\n",
    "\n",
    "Mais, si l'on connait le nombre de lettres $l$ que comporte la clef, il devient possible d'effectuer des analyses de fréquences efficaces sur chacun des sous-messages chiffrés déterminés en prenant les lettres du message clair espacées de $l$. Il y a donc $l$ sous-messages chiffrés à cryptanalyser.\n",
    "\n",
    "L'attaque pour décrypter un message codé avec Vigenère consiste donc tout d'abord à déterminer la taille de la clef et à ensuite effectuer une attaque similaire à celle du chiffrement par décalage (analyse de fréquence) sur chaque sous message chiffré.\n",
    "\n",
    "__Exemple__ : Si le chiffré est :\"dbsndqufgdi\" et que la clef est de longueur $3$. Il faudra faire 3 analyses de fréquences (il s'agit d'un exemple totalement fictif, le message est trop court pour pouvoir faire une analyse de fréquence, encore moins 3...) : \n",
    "- la première sur \"dnud\"\n",
    "- la deuxième sur \"bdfi\"\n",
    "- la troisière sur \"sqg\"\n",
    "\n",
    "\n",
    "\n",
    "Le _test de Kasiski_ est une méthode pour déterminer la longueur de la clef. Il repose sur le fait que si plusieurs groupes de lettres sont égaux dans le chiffré, ils correspondent certainement au même groupe de lettre dans le clair chiffré avec la même partie de la clef. La taille de l'intervalle séparant les motifs identiques sera donc probablement un multiple de la taille de la clef. S'il y a plusieurs répétitions de motifs, le plus grand diviseur commun de ces longeurs d'intervalle est possiblement la taille de la clef.\n",
    "\n",
    "> __Question 3 (Test de Kasiski)__ : Définir une fonction `testKasiski(msgChiffre)` qui étant donné un message chiffré `msgChiffre` renvoie la taille de clef la plus probable."
   ]
  },
  {
   "cell_type": "code",
   "execution_count": 11,
   "metadata": {},
   "outputs": [
    {
     "name": "stdout",
     "output_type": "stream",
     "text": [
      "testKasiski : ERREUR\n"
     ]
    }
   ],
   "source": [
    "def testKasiski(msgChiffre):\n",
    "    return \"TODO\"\n",
    "\n",
    "c = \"zbpuevpuqsdlzgllksousvpasfpddggaqwptdgptzweemqzrdjtddefekeferdprrcyndgluaowcnbptzzzrbvpssfpashpncotemhaeqrferdlrlwwertlussfikgoeuswotfdgqsyasrlnrzppdhtticfrciwurhcezrpmhtpuwiyenamrdbzyzwelzucamrptzqseqcfgdrfrhrpatsepzgfnaffisbpvdblisrplzgnemswaqoxpdseehbeeksdptdttqsdddgxurwnidbdddplncsd\"\n",
    "\n",
    "try:\n",
    "    assert testKasiski(c) == 4\n",
    "    print(\"testKasiski : OK\")\n",
    "except:\n",
    "    print(\"testKasiski : ERREUR\")\n",
    "\n"
   ]
  },
  {
   "cell_type": "markdown",
   "metadata": {},
   "source": [
    "> __Question 4 (attaque par analyse de fréquence avec longueur de clef connue)__ : Définir une fonction `attaqueFrequenceVig(msgChiffre, l, frequenceLangue, alphabet)` qui décrypte le message en paramètre en effectuant des analyses de fréquences connaissant la longueur `l` de la clef ayant servie à chiffrer le message. `frequenceLangue` est un dictionnaire des fréquences dans la langue du message (le dictionnaire des fréquences de chaque lettre en français `frequenceFrancais` vous est fourni).\n",
    "\n",
    "_Note : n'hésitez pas à utiliser des fonctions écrites dans le TP précédent._"
   ]
  },
  {
   "cell_type": "code",
   "execution_count": 12,
   "metadata": {},
   "outputs": [
    {
     "name": "stdout",
     "output_type": "stream",
     "text": [
      "attaqueFrequenceVig : ERREUR\n"
     ]
    }
   ],
   "source": [
    "frequenceFrancais = {'a': 8.15, 'b': 0.97, 'c': 3.15, 'd': 3.73, 'e': 17.39, \n",
    "                     'f': 1.12, 'g': 0.97, 'h': 0.85, 'i': 7.31, 'j': 0.45, \n",
    "                     'k': 0.02, 'l': 5.69, 'm': 2.87, 'n': 7.12, 'o': 5.28, \n",
    "                     'p': 2.80, 'q': 1.21, 'r': 6.64, 's': 8.14, 't': 7.22, \n",
    "                     'u': 6.38, 'v': 1.64, 'w': 0.03, 'x': 0.41, 'y': 0.28, \n",
    "                     'z': 0.15}\n",
    "\n",
    "\n",
    "def attaqueFrequenceVig(msgChiffre, l, frequenceLangue = frequenceFrancais, alphabet=\"abcdefghijklmnopqrstuvwxyz\"):\n",
    "    return \"TODO\"\n",
    "\n",
    "c = \"zbpuevpuqsdlzgllksousvpasfpddggaqwptdgptzweemqzrdjtddefekeferdprrcyndgluaowcnbptzzzrbvpssfpashpncotemhaeqrferdlrlwwertlussfikgoeuswotfdgqsyasrlnrzppdhtticfrciwurhcezrpmhtpuwiyenamrdbzyzwelzucamrptzqseqcfgdrfrhrpatsepzgfnaffisbpvdblisrplzgnemswaqoxpdseehbeeksdptdttqsdddgxurwnidbdddplncsd\"\n",
    "\n",
    "try:\n",
    "    assert attaqueFrequenceVig(c,4) == \"aneufheureslasalledutheatredesvarietesetaitencorevidequelquespersonnesaubalconetalorchestreattendaientperduesparmilesfauteuilsdeveloursgrenatdanslepetitjourdulustreademifeuxuneombrenoyaitlagrandetacherougedurideauetpasunbruitnevenaitdelascenelarampeeteintelespupitresdesmusiciensdebandes\"\n",
    "    print(\"attaqueFrequenceVig : OK\")\n",
    "except:\n",
    "    print(\"attaqueFrequenceVig : ERREUR\")"
   ]
  },
  {
   "cell_type": "markdown",
   "metadata": {},
   "source": [
    "__-----------  Fin de la partie optionnelle  -----------__"
   ]
  },
  {
   "cell_type": "markdown",
   "metadata": {},
   "source": [
    "## 2 - Chiffrement de Hill\n",
    "\n",
    "Le chiffrement de Hill est un type de chiffrement par substitution polyalphabétique où les lettres du clair sont chiffrées et déchiffrées par paquets et non les unes à la suite des autres. Ce chiffrement est donc mieux protégé contre les attaques par analyse de fréquence.\n",
    "\n",
    "Pour chiffrer, on commence par choisir une matrice carrée inversible (nous verrons plus tard comment vérifier qu'une matrice est inversible dans $\\mathbb{Z}/26\\mathbb{Z}$) de taille $p \\times p$. Cette matrice constitue la clef de chiffrement. Ensuite, le message en clair est divisé en blocs/vecteurs de longueur $p$. Le dernier bloc est éventuellement complété avec une lettre choisie arbitrairement si sa longueur est différente de $p$. Chaque vecteur est chiffré en le multipliant avec la matrice carré. Evidemment, pour effectuer la multiplication matricielle, les lettres des messages sont converties en nombre entre 0 et 25. \n",
    "\n",
    "La fonction de chiffrement correspondante pour un bloc de $p$ lettres est : \n",
    "\n",
    "\\begin{align*}\n",
    "  E \\colon (\\mathbb{Z}/26\\mathbb{Z})^p &\\to (\\mathbb{Z}/26\\mathbb{Z})^p\\\\\n",
    "    \\begin{pmatrix}\n",
    "m_i\\\\\n",
    "m_{i+1}\\\\\n",
    "... \\\\\n",
    "m_{i+p-1} \\\\\n",
    "\\end{pmatrix} & \\mapsto \\begin{pmatrix}\n",
    "c_i\\\\\n",
    "c_{i+1}\\\\\n",
    "... \\\\\n",
    "c_{i+p-1} \\\\\n",
    "\\end{pmatrix} = K \\times     \\begin{pmatrix}\n",
    "m_i\\\\\n",
    "m_{i+1}\\\\\n",
    "... \\\\\n",
    "m_{i+p-1} \\\\\n",
    "\\end{pmatrix}\n",
    "\\end{align*}\n",
    "\n",
    "où $K$ est une matrice carrée inversible de taille $p \\times p$.\n",
    "\n",
    "Par exemple, Chiffrons le message \"TEXTE\" avec une matrice $K \\in \\mathcal{M_{2,2}}$ : \n",
    "$\\begin{pmatrix}\n",
    "3 & 5\\\\\n",
    "6 & 17\\\\\n",
    "\\end{pmatrix}$.\n",
    "\n",
    "Nous commençons par faire des blocs de 2 lettres : \"TE\",\"XT\",\"EW\" (ici, on rajoute un W en fin de message pour avoir un dernier bloc de deux lettres car le message initial n'a pas un nombre pair de lettres). \n",
    "\n",
    "\"TE\" correspond au couple de valeurs (19,4). \n",
    "\n",
    "\n",
    "$\n",
    "\\begin{pmatrix}\n",
    "3 & 5\\\\\n",
    "6 & 17\\\\\n",
    "\\end{pmatrix} \\times\n",
    "\\begin{pmatrix}\n",
    "19\\\\\n",
    "4\\\\\n",
    "\\end{pmatrix} = \n",
    "\\begin{pmatrix}\n",
    "77\\\\\n",
    "182\\\\\n",
    "\\end{pmatrix}\n",
    "$\n",
    "\n",
    "\n",
    "Il faut ensuite convertir le résultat $\\begin{pmatrix}\n",
    "77\\\\\n",
    "182\\\\\n",
    "\\end{pmatrix}$ en nombre de $\\mathbb{Z}/26\\mathbb{Z}$ :$\\begin{pmatrix}\n",
    "25\\\\\n",
    "0\\\\\n",
    "\\end{pmatrix}$ puis en lettre : $\\begin{pmatrix}\n",
    "Z\\\\\n",
    "A\\\\\n",
    "\\end{pmatrix}.$\n",
    "\"TE\" sera donc chiffré \"ZA\". \n",
    "En recommançant le processus pour les autres couples de lettres, le clair \"TEXTE\" devient le chiffré \"ZAITSI\".\n",
    "\n",
    "\n",
    "\n",
    "\n",
    "### 2 - a) Chiffrement\n",
    "\n",
    "> __Question 5 (chiffrement)__ : Définir une fonction `chiffrementHill(msgClair, clef, lettreRemplacement, alphabet)` qui étant donné un message en clair `msgClair`, une clef de chiffrement `clef` sous forme de matrice carré $p \\times p$, une lettre de \"padding\" (par défaut \"w\") s'il n'est pas possible de diviser le message clair en blocs de taille p et un alphabet `alphabet` (par défaut, l'alphabet français), renvoie le message chiffré correspondant."
   ]
  },
  {
   "cell_type": "code",
   "execution_count": 13,
   "metadata": {},
   "outputs": [
    {
     "name": "stdout",
     "output_type": "stream",
     "text": [
      "chiffrementHill : ERREUR\n"
     ]
    }
   ],
   "source": [
    "def chiffrementHill(msgClair, clef, lettrePadding = 'w', alphabet = \"abcdefghijklmnopqrstuvwxyz\") :\n",
    "    return \"TODO\"\n",
    "\n",
    "\n",
    "try:\n",
    "    assert chiffrementHill(\"texte\",np.array([[3,5],[6,17]])) == \"zaitsi\"\n",
    "    assert chiffrementHill(\"chiffredehill\",np.array([[1,3,1],[1,1,0],[2,9,3]])) == \"fjnlkcrhvqppvha\"\n",
    "    print(\"chiffrementHill : OK\")\n",
    "except:\n",
    "    print(\"chiffrementHill : ERREUR\")\n"
   ]
  },
  {
   "cell_type": "markdown",
   "metadata": {},
   "source": [
    "### 2 - b) Déchiffrement\n",
    "\n",
    "\n",
    "Partant du message chiffré $c$ et connaissant la matrice de chiffrement de taille $p \\times p $, il est possible de déchiffrer le message pour obtenir le clair $m$.\n",
    "\n",
    "Il s'agit de diviser le message chiffré en vecteurs de $p$ lettres et de multiplier ces vecteurs par l'__inverse__ de la matrice de chiffrement.\n",
    "\n",
    "La fonction de déchiffrement d'un bloc de $p$ lettres est ainsi : \n",
    "\n",
    "\\begin{align*}\n",
    "  D \\colon (\\mathbb{Z}/26\\mathbb{Z})^p &\\to (\\mathbb{Z}/26\\mathbb{Z})^p\\\\\n",
    "    \\begin{pmatrix}\n",
    "c_i\\\\\n",
    "c_{i+1}\\\\\n",
    "... \\\\\n",
    "c_{i+p-1} \\\\\n",
    "\\end{pmatrix} & \\mapsto \\begin{pmatrix}\n",
    "m_i\\\\\n",
    "m_{i+1}\\\\\n",
    "... \\\\\n",
    "m_{i+p-1} \\\\\n",
    "\\end{pmatrix} = K^{-1} \\times     \\begin{pmatrix}\n",
    "c_i\\\\\n",
    "c_{i+1}\\\\\n",
    "... \\\\\n",
    "c_{i+p-1} \\\\\n",
    "\\end{pmatrix}\n",
    "\\end{align*}\n",
    "\n",
    "où $ K^{-1}$ est l'inverse de la matrice de chiffrement K dans $\\mathbb{Z}/26\\mathbb{Z}$.\n",
    "\n",
    "\n",
    "Pour déchiffrer le message, nous avons donc besoin d'inverser la matrice K dans $\\mathbb{Z}/26\\mathbb{Z}$. \n",
    "\n",
    "\n",
    "__La matrice K est inversible dans $\\mathbb{Z}/n\\mathbb{Z}$ si son déterminant est inversible dans $\\mathbb{Z}/n\\mathbb{Z}$.__\n"
   ]
  },
  {
   "cell_type": "markdown",
   "metadata": {},
   "source": [
    "> __Question 6 :__ Faire une fonction `estInversibleMat(k, n)` qui renvoie `True` si la matrice carrée $k$ est inversible sur $\\mathbb{Z}/n\\mathbb{Z}$ et `False`sinon."
   ]
  },
  {
   "cell_type": "code",
   "execution_count": 14,
   "metadata": {},
   "outputs": [
    {
     "name": "stdout",
     "output_type": "stream",
     "text": [
      "estInversibleMat : ERREUR\n"
     ]
    }
   ],
   "source": [
    "def estInversibleMat(k,n):\n",
    "    \"\"\"\n",
    "    k est une matrice carree\n",
    "    \"\"\"\n",
    "    return \"TODO\"\n",
    "\n",
    "try:\n",
    "    assert estInversibleMat(np.array([[3,5],[6,17]]),26) == True\n",
    "    assert estInversibleMat(np.array([[1,3,1],[1,1,0],[2,9,3]]),26) == True\n",
    "    assert estInversibleMat(np.array([[1,2],[3,4]]),26) == False\n",
    "    print(\"estInversibleMat : OK\")\n",
    "except:\n",
    "    print(\"estInversibleMat : ERREUR\")\n"
   ]
  },
  {
   "cell_type": "markdown",
   "metadata": {},
   "source": [
    "__Pour inverser K, il faut multiplier la transposée de la comatrice de K par un inverse modulaire de son déterminant.__\n",
    "\n",
    "\n",
    "> __Question 7 :__ A partir de la fonction `comatrice` fournie, faire une fonction `inverseMat(k, n)` qui teste si k est inversible. Si oui, renvoie la matrice inverse de k dans $\\mathbb{Z}/n\\mathbb{Z}$ et sinon, renvoie -1. N'hésitez pas à réutiliser des fonctions du TP précédent."
   ]
  },
  {
   "cell_type": "code",
   "execution_count": 15,
   "metadata": {},
   "outputs": [
    {
     "name": "stdout",
     "output_type": "stream",
     "text": [
      "Matrice des cofacteurs/Comatrice :\n",
      " [[ 4. -3.]\n",
      " [-2.  1.]]\n",
      "inverseMat : ERREUR\n"
     ]
    },
    {
     "name": "stderr",
     "output_type": "stream",
     "text": [
      "<ipython-input-15-9bce48df2838>:14: FutureWarning: elementwise comparison failed; returning scalar instead, but in the future will perform elementwise comparison\n",
      "  assert (inverseMat([[9,4],[5,7]],26) == np.array([[ 5, 12],[15, 25]])).all\n"
     ]
    }
   ],
   "source": [
    "def comatrice(mat):\n",
    "    det = np.linalg.det(mat)\n",
    "    if(det!=0):\n",
    "        return np.linalg.inv(mat).T * det\n",
    "    else:\n",
    "        return \"Matrice non inversible\"\n",
    "        \n",
    "print(\"Matrice des cofacteurs/Comatrice :\\n\", comatrice([[1, 2], [3, 4]]))\n",
    "\n",
    "def inverseMat(k,n):\n",
    "    return \"TODO\"\n",
    "    \n",
    "try:\n",
    "    assert (inverseMat([[9,4],[5,7]],26) == np.array([[ 5, 12],[15, 25]])).all\n",
    "    assert (inverseMat([[3,7],[5,8]],26) == np.array([[ 4, 3],[17, 21]])).all\n",
    "    assert (inverseMat(np.array([[1,3,1],[1,1,0],[2,9,3]]),26) == np.array([[ 3,0,25],[23,1,1],[ 7,23,24]])).all\n",
    "    print(\"inverseMat : OK\")\n",
    "except:\n",
    "    print(\"inverseMat : ERREUR\")\n",
    "    \n",
    "    \n"
   ]
  },
  {
   "cell_type": "markdown",
   "metadata": {},
   "source": [
    "> __Question 8 (déchiffrement)__ : Définir une fonction `dechiffrementHill(msgChiffre, clef, alphabet)` qui étant donné un message chiffré `msgChiffre`, la matrice de chiffrement `clef` qui a servi à construire ce message chiffré et un alphabet `alphabet` (par défaut, l'alphabet français) renvoie le message en clair correspondant."
   ]
  },
  {
   "cell_type": "code",
   "execution_count": 16,
   "metadata": {},
   "outputs": [
    {
     "name": "stdout",
     "output_type": "stream",
     "text": [
      "dechiffrementHill : ERREUR\n"
     ]
    }
   ],
   "source": [
    "def dechiffrementHill(msgChiffre, clef, alphabet = \"abcdefghijklmnopqrstuvwxyz\"):\n",
    "    return \"TODO\"\n",
    "\n",
    "try:\n",
    "    assert dechiffrementHill(\"zaitsi\",np.array([[3,5],[6,17]])) == \"textew\"\n",
    "    assert dechiffrementHill(\"fjnlkcrhvqppvha\",np.array([[1,3,1],[1,1,0],[2,9,3]])) == \"chiffredehillww\"\n",
    "    print(\"dechiffrementHill : OK\")\n",
    "except:\n",
    "    print(\"dechiffrementHill : ERREUR\")"
   ]
  }
 ],
 "metadata": {
  "kernelspec": {
   "display_name": "Python 3 (ipykernel)",
   "language": "python",
   "name": "python3"
  },
  "language_info": {
   "codemirror_mode": {
    "name": "ipython",
    "version": 3
   },
   "file_extension": ".py",
   "mimetype": "text/x-python",
   "name": "python",
   "nbconvert_exporter": "python",
   "pygments_lexer": "ipython3",
   "version": "3.12.0"
  }
 },
 "nbformat": 4,
 "nbformat_minor": 4
}
