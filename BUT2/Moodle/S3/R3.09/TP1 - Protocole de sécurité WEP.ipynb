{
 "cells": [
  {
   "cell_type": "markdown",
   "metadata": {},
   "source": [
    "# <center>R4.B.10 - Cryptographie et sécurité <br> TP1 - Protocole de sécurité WEP <center>\n",
    "\n",
    "\n",
    "_Tom Ferragut_\n",
    "    \n",
    "_IUT de Vannes, BUT Informatique_"
   ]
  },
  {
   "cell_type": "code",
   "execution_count": 1,
   "metadata": {},
   "outputs": [],
   "source": [
    "import numpy\n",
    "import random"
   ]
  },
  {
   "cell_type": "markdown",
   "metadata": {},
   "source": [
    "## 1 - Simulation du protocole\n",
    "\n",
    "Le protocole WEP (Wired Equivalent Privacy) a été l'une des premières tentatives de sécurisation des réseaux sans fil. Malheureusement, des faiblesses majeures ont été découvertes, le rendant vulnérable à diverses attaques. Dans cette première partie du TP, nous simulerons le fonctionnement de la sécurité WEP en générant des discussions entre des périphériques connectés à un réseau.\n",
    "\n",
    "Voici quelques fonctions que vous pourrez utiliser dans les questions suivantes."
   ]
  },
  {
   "cell_type": "code",
   "execution_count": 2,
   "metadata": {},
   "outputs": [],
   "source": [
    "def generate_key(k, WEP_key, iv):\n",
    "    # Générer grâce à la clé WEP et à l'IV une keystream aléatoire de k bits\n",
    "    random.seed( iv+WEP_key )\n",
    "    return ''.join(random.choice('01') for _ in range(k))\n",
    "\n",
    "def encrypt(message, keystream):\n",
    "    # Chiffrer le message en utilisant une keystream\n",
    "    encrypted_message = ''\n",
    "    for i in range(len(message)):\n",
    "        encrypted_message += chr(ord(message[i]) ^ ord(keystream[i % len(keystream)]))\n",
    "    return encrypted_message\n",
    "\n",
    "def decrypt(encrypted_message, keystream):\n",
    "    # Déchiffrer le message en utilisant une clé généré par WEP et l'IV\n",
    "    decrypted_message = encrypt(encrypted_message,keystream)\n",
    "    return decrypted_message\n"
   ]
  },
  {
   "cell_type": "markdown",
   "metadata": {},
   "source": [
    ">__Question 1 :__ Implémenter une fonction `discussion` prenant en paramètre un entier `n` et renvoyant une liste de `n` couples $[~[IV\\_1,Message\\_1]~,~...~,~[IV\\_n,Message\\_n]~]$ contenant chacun un IV (de 8 bit) aléatoire ainsi qu'un message aléatoire de 12 caractères commençant par les quatres caractères IPv4.\n",
    ">\n",
    ">Pour générer des caractères aléatoires vous pouvez utiliser la fonction __random.choice__."
   ]
  },
  {
   "cell_type": "code",
   "execution_count": 5,
   "metadata": {},
   "outputs": [
    {
     "name": "stdout",
     "output_type": "stream",
     "text": [
      "Liste de messages générée avec n = 5 :\n",
      "None\n"
     ]
    }
   ],
   "source": [
    "def discussion(n):\n",
    "    \n",
    "    # TODO #\n",
    "    \n",
    "    #Vous pouvez utiliser la commande :#\n",
    "    random.choice('ABCDEFGHIJKLMNOPQRSTUVWXYZabcdefghijklmnopqrstuvwxyz')\n",
    "    ##\n",
    "    \n",
    "    return \n",
    "\n",
    "# Test de la fonction avec n=5\n",
    "n = 5\n",
    "liste_messages = discussion(n)\n",
    "print(\"Liste de messages générée avec n =\", n, \":\")\n",
    "print(liste_messages)\n"
   ]
  },
  {
   "cell_type": "markdown",
   "metadata": {},
   "source": [
    ">__Question 2 :__ Implémenter une fonction `ecoute` prenant en paramètre un entier `n` et une clé WEP `WEP_key` et renvoyant une liste de `n` couples $[~[IV\\_1,Message\\_ crypté\\_1]~,~...~,~[IV\\_n,Message\\_crypté\\_n]~]$ contenant chacun un IV (de 8 bit) aléatoire ainsi que le message crypté provenant d'une discussion générée dans la fonction `discussion`. \n",
    ">\n",
    ">Chaque message est chiffré par la _keystream_ généré par `generate_key` grâce à son IV et une clé WEP commune."
   ]
  },
  {
   "cell_type": "code",
   "execution_count": 6,
   "metadata": {},
   "outputs": [
    {
     "name": "stdout",
     "output_type": "stream",
     "text": [
      "Liste de messages cryptés générée avec n = 5 :\n",
      "None\n"
     ]
    }
   ],
   "source": [
    "def ecoute(n,WEP_key):\n",
    "    \n",
    "    # TODO #\n",
    "    \n",
    "    return \n",
    "\n",
    "\n",
    "# Test de la fonction avec n=5\n",
    "n = 5\n",
    "WEP_key = ''.join(random.choice('01') for _ in range(15))\n",
    "\n",
    "\n",
    "liste_messages = ecoute(n,WEP_key)\n",
    "print(\"Liste de messages cryptés générée avec n =\", n, \":\")\n",
    "print(liste_messages)"
   ]
  },
  {
   "cell_type": "markdown",
   "metadata": {},
   "source": [
    "Une première faiblesse du protocole WEP est le fait qu'il transporte en claire une partie de la clé : l'__IV__. Cela est sencé créer différentes _keystream_ pour différents paquets envoyés, rendant la tâche de décryptage plus difficile. Cependant, même pour une un IV de 8bits ($2^8=256$ possibilités), deux messages ayant un même IV arrive très souvent."
   ]
  },
  {
   "cell_type": "markdown",
   "metadata": {},
   "source": [
    ">__Question 3 :__ Implémenter une fonction `find_double` qui écoute un réseau WEP puis identifie et retourne deux messages cryptés ayant le même IV."
   ]
  },
  {
   "cell_type": "code",
   "execution_count": 3,
   "metadata": {},
   "outputs": [
    {
     "ename": "NameError",
     "evalue": "name 'ecoute' is not defined",
     "output_type": "error",
     "traceback": [
      "\u001b[1;31m---------------------------------------------------------------------------\u001b[0m",
      "\u001b[1;31mNameError\u001b[0m                                 Traceback (most recent call last)",
      "Cell \u001b[1;32mIn[3], line 9\u001b[0m\n\u001b[0;32m      7\u001b[0m \u001b[38;5;66;03m# Test de la fonction avec une liste de messages\u001b[39;00m\n\u001b[0;32m      8\u001b[0m n\u001b[38;5;241m=\u001b[39m\u001b[38;5;241m30\u001b[39m\n\u001b[1;32m----> 9\u001b[0m messages \u001b[38;5;241m=\u001b[39m ecoute(n)\n\u001b[0;32m     10\u001b[0m resultat \u001b[38;5;241m=\u001b[39m find_double(messages)\n\u001b[0;32m     11\u001b[0m \u001b[38;5;28mprint\u001b[39m(\u001b[38;5;124m\"\u001b[39m\u001b[38;5;124mDouble trouvé :\u001b[39m\u001b[38;5;124m\"\u001b[39m, resultat)\n",
      "\u001b[1;31mNameError\u001b[0m: name 'ecoute' is not defined"
     ]
    }
   ],
   "source": [
    "def find_double(messages):\n",
    "    \n",
    "    # TODO #\n",
    "    \n",
    "    return \n",
    "\n",
    "# Test de la fonction avec une liste de messages\n",
    "n=30\n",
    "messages = ecoute(n,WEP_key)\n",
    "resultat = find_double(messages)\n",
    "print(\"Double trouvé :\", resultat)"
   ]
  },
  {
   "cell_type": "markdown",
   "metadata": {},
   "source": [
    "## 2 - Attaque par fragmentation de paquets\n",
    "\n",
    "\n",
    "La deuxième partie de ce TP se concentrera sur une attaque spécifique exploitant une faiblesse du protocole WEP liée à la fragmentation des paquets. Cette attaque permet de retrouver la _keystream_ utilisée pour crypter les messages, compromettant ainsi la sécurité du réseau.\n",
    "\n",
    "Grâce à deux messages envoyés avec un même IV, il est possible de trouver les premiers bits de la _keystream_. Une autre solution pour obtenir les premiers éléments de la clé est d'utiliser la structure des paquets envoyés, par exemple le fait qu'ici chaque message commence par 'IPv4'. \n",
    "\n",
    "Voici une fonction `find_key` donnant la clé chiffrante à partir du message en clair et du message chiffré."
   ]
  },
  {
   "cell_type": "markdown",
   "metadata": {},
   "source": [
    ">__Question 4 :__ Implémenter une fonction `find_key` qui donne la clé à partir du message en clair et du message crypté."
   ]
  },
  {
   "cell_type": "code",
   "execution_count": 9,
   "metadata": {},
   "outputs": [
    {
     "name": "stdout",
     "output_type": "stream",
     "text": [
      "Clé récupérée : None\n"
     ]
    }
   ],
   "source": [
    "def find_key(plaintext, encrypted_message):\n",
    "    \n",
    "    # Effectuer une opération XOR entre le message en clair et le message crypté pour obtenir la partie de la keystream\n",
    "    keystream = ''\n",
    "    for i in range(len(plaintext)):\n",
    "        keystream += chr(ord(plaintext[i]) ^ ord(encrypted_message[i]))\n",
    "    return keystream\n",
    "\n",
    "\n",
    "key = '0100'\n",
    "\n",
    "message1 = 'IPv4'\n",
    "encrypted_message1 = encrypt(message1, key)\n",
    "\n",
    "found_key = find_key(message1, encrypted_message1)\n",
    "\n",
    "print(\"Clé récupérée :\", found_key)\n"
   ]
  },
  {
   "cell_type": "markdown",
   "metadata": {},
   "source": [
    "Nous allons maintenant utiliser le principe de fragmentation de paquets utilisé dans le protocole WEP. Un message n'est pas envoyé en un seul bloc, mais découpé en morceaux plus petits envoyés séparéments."
   ]
  },
  {
   "cell_type": "markdown",
   "metadata": {},
   "source": [
    ">__Question 4 :__ Implémenter une fonction `fragment_packet` qui prend en argument une paquet `packet` (une message) et une taille de fragment `fragment_size` puist qui renvoie une liste contenant, dans l'ordre, les morceaux de taille `fragment_size` composant le `packet`."
   ]
  },
  {
   "cell_type": "code",
   "execution_count": 15,
   "metadata": {},
   "outputs": [],
   "source": [
    "def fragment_packet(packet, fragment_size):\n",
    "    \n",
    "    # TODO #\n",
    "    \n",
    "    return "
   ]
  },
  {
   "cell_type": "markdown",
   "metadata": {},
   "source": [
    "__La première faiblesse__ de sécurité est que chaque fragment du paquet est chiffré avec une même sous-partie du keystream, une clé plus petite que l'on appellera `small_key`."
   ]
  },
  {
   "cell_type": "markdown",
   "metadata": {},
   "source": [
    ">__Question 5 :__ Implémenter une fonction `encrypting_fragments` qui prend en argument une une liste de fragments `fragments` et une clé `small_key` et qui renvoie la liste des fragments chiffrés par la clé `small_key`."
   ]
  },
  {
   "cell_type": "code",
   "execution_count": 16,
   "metadata": {},
   "outputs": [],
   "source": [
    "def encrypting_fragments(fragments, small_key):\n",
    "    \n",
    "    # TODO #\n",
    "    \n",
    "    return "
   ]
  },
  {
   "cell_type": "markdown",
   "metadata": {},
   "source": [
    "__La deuxième faiblesse__ du protocole WEP, celle nous permettant de retrouver le _keystream_ complet, est le passage des fragments par l'_Access Point_ (AP). Cet AP décrypte localement les fragments, réassemble le message en clair et renvoie le message chiffré par le _keystream_ complet."
   ]
  },
  {
   "cell_type": "code",
   "execution_count": 17,
   "metadata": {},
   "outputs": [],
   "source": [
    "def AP(fragmented_encrypted_message,small_key, keystream): \n",
    "    \n",
    "    #l'AP décrypte les fragments du message\n",
    "    decrypted_fragments=[encrypt(fragment, small_key) for fragment in fragmented_encrypted_message]\n",
    "    #l'AP reconstruit le message et le renvoie crypté\n",
    "    reconstructed_message = ''.join(decrypted_fragments)\n",
    "    #l'AP recrypte le message avec la keystream\n",
    "    encrypted_message = encrypt(reconstructed_message, keystream)\n",
    "    \n",
    "    return encrypted_message"
   ]
  },
  {
   "cell_type": "markdown",
   "metadata": {},
   "source": [
    "Nous avons maintenant l'ensemble des éléments pour décrypté le message et ainsi obtenir le _keystream_ complet, voyez-vous comment ?"
   ]
  },
  {
   "cell_type": "markdown",
   "metadata": {},
   "source": [
    ">__Question 6 :__ Implémenter une fonction `recover_keystream_from_fragments` qui à partir d'une liste de fragments cryptés, trouve et renvoie le message en clair correspondant ainsi que la `keystream` utilisée pour crypter le message."
   ]
  },
  {
   "cell_type": "code",
   "execution_count": 18,
   "metadata": {},
   "outputs": [],
   "source": [
    "def recover_key_from_fragments(message_crypted_fragments,fragment_size):\n",
    "    \n",
    "    # TODO #\n",
    "    \n",
    "    return \n"
   ]
  },
  {
   "cell_type": "markdown",
   "metadata": {},
   "source": [
    "Vous pouvez tester votre méthode en exécutant la cellule suivante."
   ]
  },
  {
   "cell_type": "code",
   "execution_count": 20,
   "metadata": {},
   "outputs": [
    {
     "name": "stdout",
     "output_type": "stream",
     "text": [
      "--- Données non accessibles ---\n",
      "\n",
      "Message en clair : IPv4: Contenu du contrôle terminal de la ressource Cryptographie et sécurité\n",
      "Clé WEP : 011100100011100\n",
      "IV : 00111001\n",
      "Keystream cryptant le message : 0101111101001010100101101000101100000001000111000101101101001110011001011000  \n",
      "\n",
      "--- Données accessibles ---\n",
      "\n",
      "Liste des communications écoutés : None\n"
     ]
    },
    {
     "ename": "TypeError",
     "evalue": "'NoneType' object is not subscriptable",
     "output_type": "error",
     "traceback": [
      "\u001b[1;31m---------------------------------------------------------------------------\u001b[0m",
      "\u001b[1;31mTypeError\u001b[0m                                 Traceback (most recent call last)",
      "Cell \u001b[1;32mIn[20], line 34\u001b[0m\n\u001b[0;32m     28\u001b[0m \u001b[38;5;28mprint\u001b[39m(\u001b[38;5;124m\"\u001b[39m\u001b[38;5;124mKeystream cryptant le message :\u001b[39m\u001b[38;5;124m\"\u001b[39m, keystream,\u001b[38;5;124m'''\u001b[39m\u001b[38;5;124m \u001b[39m\n\u001b[0;32m     29\u001b[0m \n\u001b[0;32m     30\u001b[0m \u001b[38;5;124m--- Données accessibles ---\u001b[39m\n\u001b[0;32m     31\u001b[0m \u001b[38;5;124m'''\u001b[39m)\n\u001b[0;32m     33\u001b[0m \u001b[38;5;28mprint\u001b[39m(\u001b[38;5;124m\"\u001b[39m\u001b[38;5;124mListe des communications écoutés :\u001b[39m\u001b[38;5;124m\"\u001b[39m,encrypted_fragments)\n\u001b[1;32m---> 34\u001b[0m \u001b[38;5;28mprint\u001b[39m(\u001b[38;5;124m\"\u001b[39m\u001b[38;5;124mKeystream récupéré :\u001b[39m\u001b[38;5;124m\"\u001b[39m, recovered_key_from_fragments[\u001b[38;5;241m1\u001b[39m])\n\u001b[0;32m     35\u001b[0m \u001b[38;5;28mprint\u001b[39m(\u001b[38;5;124m'\u001b[39m\u001b[38;5;124mMessage en clair :\u001b[39m\u001b[38;5;124m'\u001b[39m, recovered_key_from_fragments[\u001b[38;5;241m0\u001b[39m])\n",
      "\u001b[1;31mTypeError\u001b[0m: 'NoneType' object is not subscriptable"
     ]
    }
   ],
   "source": [
    "### Exemple d'utilisation ###\n",
    "\n",
    "## Données non accessibles ##\n",
    "\n",
    "message = \"IPv4: Contenu du contrôle terminal de la ressource Cryptographie et sécurité\"\n",
    "WEP_key = ''.join(random.choice('01') for _ in range(15))\n",
    "iv = ''.join(random.choice('01') for _ in range(8))  # Générer un IV aléatoire\n",
    "keystream = generate_key(len(message),WEP_key,iv)\n",
    "small_key=keystream[:4]\n",
    "\n",
    "fragment_size=4\n",
    "\n",
    "## Données accessibles ##\n",
    "\n",
    "#Ecoute du message (fragmenté) crypté\n",
    "encrypted_fragments = encrypting_fragments(fragment_packet(message, fragment_size),keystream[:fragment_size])\n",
    "\n",
    "#Appel de la fonction de décryptage\n",
    "recovered_key_from_fragments = recover_key_from_fragments(encrypted_fragments,fragment_size)\n",
    "\n",
    "## Affichage du résultat ##\n",
    "\n",
    "print('''--- Données non accessibles ---\n",
    "''')\n",
    "print(\"Message en clair :\", message)\n",
    "print(\"Clé WEP :\", WEP_key)\n",
    "print(\"IV :\", iv)\n",
    "print(\"Keystream cryptant le message :\", keystream,''' \n",
    "\n",
    "--- Données accessibles ---\n",
    "''')\n",
    "\n",
    "print(\"Liste des communications écoutés :\",encrypted_fragments)\n",
    "print(\"Keystream récupéré :\", recovered_key_from_fragments[1])\n",
    "print('Message en clair :', recovered_key_from_fragments[0])"
   ]
  },
  {
   "cell_type": "code",
   "execution_count": null,
   "metadata": {},
   "outputs": [],
   "source": []
  },
  {
   "cell_type": "code",
   "execution_count": null,
   "metadata": {},
   "outputs": [],
   "source": []
  }
 ],
 "metadata": {
  "kernelspec": {
   "display_name": "Python 3 (ipykernel)",
   "language": "python",
   "name": "python3"
  },
  "language_info": {
   "codemirror_mode": {
    "name": "ipython",
    "version": 3
   },
   "file_extension": ".py",
   "mimetype": "text/x-python",
   "name": "python",
   "nbconvert_exporter": "python",
   "pygments_lexer": "ipython3",
   "version": "3.11.5"
  }
 },
 "nbformat": 4,
 "nbformat_minor": 4
}
