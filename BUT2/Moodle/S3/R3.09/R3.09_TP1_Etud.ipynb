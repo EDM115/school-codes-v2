{
 "cells": [
  {
   "cell_type": "code",
   "execution_count": 17,
   "metadata": {},
   "outputs": [],
   "source": [
    "import numpy as np"
   ]
  },
  {
   "cell_type": "markdown",
   "metadata": {},
   "source": [
    "# <center> TP1 - Chiffrement par substitution monoalphabétique </center>\n",
    "<center> 2023/2024 - L. Naert, T. Ferragut, T. Godin </center>\n",
    "\n",
    "Le chiffrement par substitution monoalphabétique consiste à remplacer chaque symbole d'un message en clair par un autre symbole (généralement du même alphabet) pour constituer le message chiffré. \n",
    "\n",
    "Dans ce TP, nous étudierons 2 types de chiffrement par substitution monoalphabétique : le chiffrement par décalage et le chiffrement affine.\n",
    "\n",
    "Pour chaque type de chiffrement, nous développerons des fonctions pour:\n",
    "1. chiffrer un message en clair à l'aide d'une clef\n",
    "2. déchiffrer un message (en connaissant la clef)\n",
    "3. décrypter un message (ne connaissant pas la clef) en faisant appel à l'analyse de fréquence\n",
    "\n",
    "\n",
    "Par convention, nous appelerons :\n",
    "- $k$ : la clef\n",
    "- $E_k$ : la fonction de chiffrement\n",
    "- $D_k$ : la fonction de déchiffrement\n",
    "- $m$ : le message en clair\n",
    "- $m_i$ : la lettre de rang $i$ sur message en clair\n",
    "- $c$ : le message chiffré\n",
    "- $c_i$ : la lettre de rang $i$ sur message en clair\n",
    "\n"
   ]
  },
  {
   "cell_type": "markdown",
   "metadata": {},
   "source": [
    "## 1 - Chiffrement par décalage, dit \"chiffrement de César\"\n",
    "\n",
    "César, pour assurer la confidentialité de sa correspondance, avaient l'habitude de remplacer chaque lettre de ses messages par la lettre qui était située 3 rangs après dans l'alphabet ('a' devenait ainsi 'd', 'b' devenait 'e', etc.). \n",
    "\n",
    "Il s'agit d'un cas particulier de __chiffrement par décalage__ qui consiste à décaler, dans un sens ou dans l'autre, les lettres de l'alphabet d'un nombre constant de position. Ce nombre constitue la clef du chiffrement par décalage.\n",
    "\n",
    "Il s'agit évidemment d'un décalage circulaire : 'z' décalé de 3 positions devient ainsi 'c'. Plus généralement, cela revient à travailler dans l'ensemble $\\mathbb{Z}/26\\mathbb{Z}$ en considérant chaque lettre comme un entier entre $0$ (pour 'a') et $25$ (pour 'z').\n",
    "\n",
    "Ainsi, en appelant $k$ la clef de décalage, la fonction $E_k$ de chiffrement d'une lettre est : \n",
    "\n",
    "\\begin{align*}\n",
    "  E_k \\colon \\mathbb{Z}/26\\mathbb{Z} &\\to \\mathbb{Z}/26\\mathbb{Z}\\\\\n",
    "  m_i &\\mapsto c_i = m_i + k\n",
    "\\end{align*}"
   ]
  },
  {
   "cell_type": "code",
   "execution_count": 2,
   "metadata": {},
   "outputs": [
    {
     "name": "stdout",
     "output_type": "stream",
     "text": [
      "Lettre -> entier : w -> 22\n",
      "Entier -> Lettre : 22 -> w\n"
     ]
    }
   ],
   "source": [
    "# Quelques fonctions utiles (ou pas)\n",
    "def lettreToEntier(lettre, alphabet = \"abcdefghijklmnopqrstuvwxyz\"):\n",
    "    return alphabet.find(lettre)\n",
    "def entierToLettre(a, alphabet = \"abcdefghijklmnopqrstuvwxyz\"):\n",
    "    return alphabet[a]\n",
    "\n",
    "print(\"Lettre -> entier : w ->\", lettreToEntier('w'))\n",
    "print(\"Entier -> Lettre : 22 ->\", entierToLettre(22))"
   ]
  },
  {
   "cell_type": "markdown",
   "metadata": {},
   "source": [
    "### 1 - a) Chiffrement/Déchiffrement\n",
    "\n",
    "\n",
    "> __Question 1 (chiffrement)__ : Définir une fonction `chiffrementDecalage(msgClair, clef, alphabet)` qui étant donné un message en clair `msgClair`, un certain décalage `clef` et un alphabet `alphabet` (par défaut, l'alphabet français) renvoie le message chiffré correspondant."
   ]
  },
  {
   "cell_type": "code",
   "execution_count": 3,
   "metadata": {},
   "outputs": [
    {
     "name": "stdout",
     "output_type": "stream",
     "text": [
      "chiffrementDecalage : ERREUR\n"
     ]
    }
   ],
   "source": [
    "def chiffrementDecalage(msgClair, clef, alphabet=\"abcdefghijklmnopqrstuvwxyz\"):\n",
    "    return \"TO DO\"\n",
    "\n",
    "try:\n",
    "    assert chiffrementDecalage(\"messageenclair\",3) == \"phvvdjhhqfodlu\"\n",
    "    assert chiffrementDecalage(\"venividivici\",-3) == \"sbkfsfafsfzf\"\n",
    "    print(\"chiffrementDecalage : OK\")\n",
    "except:\n",
    "    print(\"chiffrementDecalage : ERREUR\")"
   ]
  },
  {
   "cell_type": "markdown",
   "metadata": {},
   "source": [
    "Partant du message chiffré et connaissant la clef de chiffrement (la valeur du décalage), il est aisé de déchiffrer le message en opérant le décalage inverse. Ainsi : \n",
    "\n",
    "\\begin{align*}\n",
    "  D_k \\colon \\mathbb{Z}/26\\mathbb{Z} &\\to \\mathbb{Z}/26\\mathbb{Z}\\\\\n",
    "  c_i &\\mapsto m_i = c_i - k\n",
    "\\end{align*}\n",
    "\n",
    "\n",
    "> __Question 2 (déchiffrement)__ : Définir une fonction `dechiffrementDecalage(msgChiffre, clef, alphabet)` qui étant donné un message chiffré `msgChiffre`, la clef qui a servi à construire ce message chiffré `clef` et un alphabet `alphabet` (par défaut, l'alphabet français) renvoie le message en clair correspondant."
   ]
  },
  {
   "cell_type": "code",
   "execution_count": 4,
   "metadata": {},
   "outputs": [
    {
     "name": "stdout",
     "output_type": "stream",
     "text": [
      "dechiffrementDecalage : ERREUR\n"
     ]
    }
   ],
   "source": [
    "\n",
    "def dechiffrementDecalage(msgChiffre, clef, alphabet=\"abcdefghijklmnopqrstuvwxyz\"):\n",
    "    return \"TO DO\"\n",
    "\n",
    "try:\n",
    "    assert dechiffrementDecalage(\"phvvdjhhqfodlu\",3) == \"messageenclair\"\n",
    "    assert dechiffrementDecalage(\"sbkfsfafsfzf\",-3) == \"venividivici\"\n",
    "    print(\"dechiffrementDecalage : OK\")\n",
    "except:\n",
    "    print(\"dechiffrementDecalage : ERREUR\")\n",
    "    \n",
    "  "
   ]
  },
  {
   "cell_type": "markdown",
   "metadata": {},
   "source": [
    "### 1 - b) Attaques : Force brute et analyse de fréquence\n",
    "\n",
    "Mais que faire si nous tombons sur un message chiffré par décalage mais que nous ne connaissons pas la clef ? \n",
    "\n",
    "La grande faille du chiffrement par décalage est le faible nombre de clefs possibles : $26$ en français (et même $25$ car un décalage de 0 n'en est pas un). Une __attaque par force brute__, en testant toutes les clefs possibles est donc très efficace sur ce genre de chiffrement\n",
    "\n",
    "> __Question 3 (attaque par force brute)__ : Définir une fonction `attaqueForceBruteDec(msgChiffre, alphabet)` qui étant donné un message chiffré `msgChiffre`, et un alphabet `alphabet` (par défaut, l'alphabet français) affiche tous les messages en clair possibles avec la clef correspondante."
   ]
  },
  {
   "cell_type": "code",
   "execution_count": 5,
   "metadata": {},
   "outputs": [
    {
     "data": {
      "text/plain": [
       "'TO DO'"
      ]
     },
     "execution_count": 5,
     "metadata": {},
     "output_type": "execute_result"
    }
   ],
   "source": [
    "\n",
    "def attaqueForceBruteDec(msgChiffre, alphabet=\"abcdefghijklmnopqrstuvwxyz\"):\n",
    "    return \"TO DO\"\n",
    "\n",
    "attaqueForceBruteDec(\"phvvdjhhqfodlu\")"
   ]
  },
  {
   "cell_type": "markdown",
   "metadata": {},
   "source": [
    "Même si l'attaque par force brute fonctionne très bien dans le cas du chiffrement par décalage du fait du très petit nombre de clefs disponibles, l'attaque la plus courante dans le cas des chiffrements par substitution monoalphabétique est l'__analyse de fréquence__. Connaissant la langue dans laquelle a été écrit le message en clair initial et la fréquence d'apparition de chaque lettre dans cette langue, il est possible de retrouver, en calculant la fréquence de chaque lettre dans le message chiffré, la correspondance entre les lettres du message chiffré et celles du message en clair.\n",
    "\n",
    "En fait, dans le cas d'un chiffrement par décalage, la connaissance de la correspondance entre une unique lettre du chiffré et une lettre de l'alphabet d'origine suffit à calculer le pas de décalage (la clef) et donc à décrypter le message.\n",
    "\n",
    "Il s'agit en effet de trouver la valeur de $k$ dans l'équation : $x_c - k = x_m \\mod 26$ avec $x_c$ la lettre du message chiffré correspondant à la lettre $x_m$ de l'alphabet d'origine.\n",
    "\n",
    "L'analyse de fréquence nous permet de tester directement des candidats pertinents pour $x_m$ et $x_c$. En effet, il est probable pour que la lettre la plus fréquente dans le message chiffré serve à coder la lettre la plus fréquente dans la langue étudiée. Par exemple, en français, la lettre la plus utilisée est le \"e\". Si, dans le message chiffré, la lettre la plus utilisée est le \"v\", il y a de grandes chances pour que \"v\" serve à coder \"e\". Cette méthode sera d'autant plus efficace que le message à déchiffrer est long.\n",
    "\n",
    "> __Question 3 (attaque par analyse de fréquence)__ : \n",
    "- Définir une fonction `frequenceLettre(lettre, txt)` qui calcule la fréquence en pourcentages du caractère `lettre` dans la chaine de caractere `txt`.\n",
    "- Définir une fonction `frequenceTouteLettre(txt, alphabet)` qui calcule la fréquence en pourcentages de chaque lettre de `alphabet` dans `txt`. Cette fonction renvoie un dictionnaire ayant pour clef chaque lettre et pour valeur la fréquence correspondante.\n",
    "- Définir une fonction `triFreq(freqs)` qui, étant donné un dictionnaire de fréquence `freqs`, les éléments triées par fréquence décroissante. \n",
    "- Définir une fonction `getNiemelettre(freqs, n)` qui renvoie la n-ième lettre la plus fréquente (par exemple, si n = 1, la fonction renverra la lettre la plus frequente) d'après `freqs`.\n",
    "- Définir une fonction `calculeDecalage(lettre1, lettre2, alphabet)` qui renvoie la valeur du décalage entre les deux lettres en paramètre étant donné un alphabet. Ce décalage sera exprimé dans $\\mathbb{Z}/n\\mathbb{Z}$ avec $n$ la longueur de l'alphabet considéré.\n",
    "- Définir une fonction `attaqueFrequenceDec\n",
    "(msgChiffre, frequenceLangue, alphabet)` qui utilise les fonctions précédentes pour décrypter le message en paramètre en comparant la lettre la plus fréquente dans le message chiffré et dans la langue considérée. `frequenceLangue` est un dictionnaire des fréquences dans la langue du message (le dictionnaire des fréquences de chaque lettre en français `frequenceFrancais` vous est fourni).\n",
    "\n",
    "_Note_ : si le message n'est pas assez long ou pas assez représentatif de la langue considéré, une analyse de fréquence ne se basant que sur la lettre la plus fréquente risque de ne pas aboutir. Il peut dans ce cas être interessant de tester plusieurs possibilités (par exemple en calculant le décalage entre la deuxième lettre la plus fréquente dans le chiffré et la lettre la plus fréquente du français)."
   ]
  },
  {
   "cell_type": "code",
   "execution_count": 6,
   "metadata": {},
   "outputs": [
    {
     "name": "stdout",
     "output_type": "stream",
     "text": [
      "frequenceLettre : ERREUR\n"
     ]
    }
   ],
   "source": [
    "def frequenceLettre(lettre, txt):\n",
    "    return \"TODO\"\n",
    "\n",
    "chiffre =\"abhffbzzrfpbzzrqrfanvafnffvffheqrfrcnhyrfqrtrnagffvabhfiblbafcyhfqrpubfrfrgcyhfrybvtarrfdhrhkprarfgcnfnpnhfrqryncrefcvpnpvgrqrabgerihravqrabgertenaqrheprfgcneprdhrabhffbzzrfryrirfcnerhk\"\n",
    "\n",
    "try:\n",
    "    assert round(frequenceLettre('f',chiffre),2) == 15.68\n",
    "    assert round(frequenceLettre('a',chiffre),2) == 7.03\n",
    "    print(\"frequenceLettre : OK\")\n",
    "except:\n",
    "    print(\"frequenceLettre : ERREUR\")"
   ]
  },
  {
   "cell_type": "code",
   "execution_count": 7,
   "metadata": {},
   "outputs": [
    {
     "name": "stdout",
     "output_type": "stream",
     "text": [
      "Frequence de chaque lettre dans le chiffre :  TODO\n"
     ]
    }
   ],
   "source": [
    "def frequenceTouteLettre(txt, alphabet=\"abcdefghijklmnopqrstuvwxyz\"):\n",
    "    return \"TODO\"\n",
    "\n",
    "print(\"Frequence de chaque lettre dans le chiffre : \", frequenceTouteLettre(chiffre))"
   ]
  },
  {
   "cell_type": "code",
   "execution_count": 9,
   "metadata": {},
   "outputs": [
    {
     "name": "stdout",
     "output_type": "stream",
     "text": [
      "TODO\n",
      "TODO\n",
      "getNiemeLettre : ERREUR\n"
     ]
    }
   ],
   "source": [
    "def triFreq(freqs):\n",
    "    return \"TODO\"\n",
    "\n",
    "def getNiemeLettre(freqs, n):\n",
    "    return \"TODO\"\n",
    "\n",
    "\n",
    "# Frequence des lettres en français\n",
    "# Source : https://www.apprendre-en-ligne.net/crypto/stat/francais.html\n",
    "frequenceFrancais = {'a': 8.15, 'b': 0.97, 'c': 3.15, 'd': 3.73, 'e': 17.39, \n",
    "                     'f': 1.12, 'g': 0.97, 'h': 0.85, 'i': 7.31, 'j': 0.45, \n",
    "                     'k': 0.02, 'l': 5.69, 'm': 2.87, 'n': 7.12, 'o': 5.28, \n",
    "                     'p': 2.80, 'q': 1.21, 'r': 6.64, 's': 8.14, 't': 7.22, \n",
    "                     'u': 6.38, 'v': 1.64, 'w': 0.03, 'x': 0.41, 'y': 0.28, \n",
    "                     'z': 0.15}\n",
    "print(triFreq(frequenceFrancais))\n",
    "print(getNiemeLettre(frequenceFrancais,15))\n",
    "try:\n",
    "    assert getNiemeLettre(frequenceTouteLettre(chiffre),1) == 'r'\n",
    "    assert getNiemeLettre(frequenceFrancais,1) == 'e'\n",
    "    assert getNiemeLettre(frequenceFrancais,2) == 'a'\n",
    "    assert getNiemeLettre(frequenceFrancais,3) == 's'\n",
    "    print(\"getNiemeLettre : OK\")\n",
    "except:\n",
    "    print(\"getNiemeLettre : ERREUR\")"
   ]
  },
  {
   "cell_type": "code",
   "execution_count": 10,
   "metadata": {},
   "outputs": [
    {
     "name": "stdout",
     "output_type": "stream",
     "text": [
      "calculDecalage : ERREUR\n"
     ]
    }
   ],
   "source": [
    "def calculDecalage(lettre1, lettre2, alphabet=\"abcdefghijklmnopqrstuvwxyz\"):\n",
    "    return \"TODO\"\n",
    "\n",
    "try:\n",
    "    assert calculDecalage('a','d') == 3\n",
    "    assert calculDecalage('d','a') == 23\n",
    "    assert calculDecalage('z','c') == 3\n",
    "    assert calculDecalage('r','a') == 9\n",
    "    print(\"calculDecalage : OK\")\n",
    "except:\n",
    "    print(\"calculDecalage : ERREUR\")"
   ]
  },
  {
   "cell_type": "code",
   "execution_count": 11,
   "metadata": {},
   "outputs": [
    {
     "name": "stdout",
     "output_type": "stream",
     "text": [
      "TODO\n"
     ]
    }
   ],
   "source": [
    "def attaqueFrequenceDec(msgChiffre, frequenceLangue = frequenceFrancais, alphabet=\"abcdefghijklmnopqrstuvwxyz\"):\n",
    "    return \"TODO\"\n",
    "\n",
    "print(attaqueFrequenceDec(chiffre))\n",
    "#chiffre2=\"vcfgrwqwoizcuwgtowbsobhgoizcuwgsghqseisqsghoixcifrviwxcifrstshsqcaasbhsghqseisjcigbsgojsndogeishobhrsgofhwgobgjcigbsrsjsndogjcigacbhfsfibxcifcijfwsfgobgojcwfzsgwbgwubsgrsjcgdfctsggwcbgdofzshcweiszsghhcbashwsf\"\n",
    "#print(attaqueFrequenceDec(chiffre2))"
   ]
  },
  {
   "cell_type": "markdown",
   "metadata": {},
   "source": [
    "## 2 - Chiffrement Affine\n",
    "\n",
    "Le chiffrement affine est un autre type de chiffrement par substitution monoalphabétique. Ici, la clef de chiffrement $k$ est composée d'un couple d'entiers $(a,b)$ avec $a \\in (\\mathbb{Z}/n\\mathbb{Z})^*$ (l'ensemble des éléments inversibles de $\\mathbb{Z}/n\\mathbb{Z}$) et $b \\in \\mathbb{Z}/n\\mathbb{Z}$\n",
    "\n",
    "La fonction de chiffrement correspondante est : \n",
    "\n",
    "\\begin{align*}\n",
    "  E_k \\colon \\mathbb{Z}/26\\mathbb{Z} &\\to \\mathbb{Z}/26\\mathbb{Z}\\\\\n",
    "  m_i & \\mapsto c_i = am_i + b\n",
    "\\end{align*}\n",
    "\n",
    "Ainsi, si k = (3,4), la lettre codée 6 (donc 'g') sera chiffrée avec la lettre codée $(3*6+4)\\mod 26 = 22$ (donc 'w').\n",
    "\n",
    "### 2 - a) Chiffrement/Déchiffrement\n",
    "\n",
    "> __Question 4 (chiffrement)__ : Définir une fonction `chiffrementAffine(msgClair, a, b, alphabet)` qui étant donné un message en clair `msgClair`, une clef de chiffrement `clef`$=[a,b]$ et un alphabet `alphabet` (par défaut, l'alphabet français) renvoie le message chiffré correspondant."
   ]
  },
  {
   "cell_type": "code",
   "execution_count": 12,
   "metadata": {},
   "outputs": [
    {
     "name": "stdout",
     "output_type": "stream",
     "text": [
      "chiffrementAffine : ERREUR\n"
     ]
    }
   ],
   "source": [
    "def chiffrementAffine(msgClair, clef, alphabet = \"abcdefghijklmnopqrstuvwxyz\") :\n",
    "    return \"TODO\"\n",
    "\n",
    "try:\n",
    "    assert chiffrementAffine(\"messageenclair\",[3,4]) == \"oqggewqqrklecd\"\n",
    "    assert chiffrementAffine(\"messageenclair\",[23,6]) == \"wueegouutazgih\"\n",
    "    print(\"chiffrementAffine : OK\")\n",
    "except:\n",
    "    print(\"chiffrementAffine : ERREUR\")\n"
   ]
  },
  {
   "cell_type": "markdown",
   "metadata": {},
   "source": [
    "Partant du message chiffré et connaissant la clef de chiffrement (les valeurs de a et b), il est possible de déchiffrer le message.\n",
    "\n",
    "La fonction de déchiffrement peut s'écrire : \n",
    "\n",
    "\\begin{align*}\n",
    "  D_k \\colon \\mathbb{Z}/26\\mathbb{Z} &\\to \\mathbb{Z}/26\\mathbb{Z}\\\\\n",
    "  c_i &\\mapsto m_i = \\alpha c_i + \\beta\n",
    "\\end{align*}\n",
    "\n",
    "avec $\\alpha = a^{-1}$ et $\\beta = (-a^{-1}b) \\mod n$\n",
    "\n",
    "où $a^{-1}$ désigne l'inverse modulaire de $a$"
   ]
  },
  {
   "cell_type": "markdown",
   "metadata": {},
   "source": [
    "Avant de faire la fonction permettant de déchiffrer un message chiffré connaissant sa clef, il est donc nécessaire de faire une parenthèse plus mathématique sur les inverses modulaires ! \n",
    "\n",
    "#### Inversibilité dans $\\mathbb{Z}/n\\mathbb{Z}$\n",
    "\n",
    "S'il existe un entier $b$ de $\\mathbb{Z}/n\\mathbb{Z}$ tel que $a*b \\mod n = 1$ alors b est appelé __inverse__ de a dans $\\mathbb{Z}/n\\mathbb{Z}$ et est noté $a^{-1}$.\n",
    "\n",
    "$a$ est inversible dans $\\mathbb{Z}/n\\mathbb{Z}$ ssi $a$ et $n$ sont premiers entre eux, c'est à dire qu'ils n'ont aucun diviseur commun (i.e. $pgcd(a,n) = 1$).\n",
    "\n",
    "> __Question 5 :__\n",
    "- Faire une fonction `estInversible(a, n)` qui renvoie `True` si $a$ est inversible sur $\\mathbb{Z}/n\\mathbb{Z}$ et `False`sinon.\n",
    "- Faire une fonction `listeInversibles(n)` qui renvoie la liste de tous les éléments inversibles de $\\mathbb{Z}/n\\mathbb{Z}$\n",
    "\n"
   ]
  },
  {
   "cell_type": "code",
   "execution_count": 13,
   "metadata": {},
   "outputs": [
    {
     "name": "stdout",
     "output_type": "stream",
     "text": [
      "estInversible : ERREUR\n"
     ]
    }
   ],
   "source": [
    "def estInversible(a,n):\n",
    "    return \"TODO\"\n",
    "\n",
    "\n",
    "try:\n",
    "    assert estInversible(0,180) == False\n",
    "    assert estInversible(1,180) == True\n",
    "    assert estInversible(4,180) == False\n",
    "    assert estInversible(5,180) == False\n",
    "    assert estInversible(179,180) == True\n",
    "    assert estInversible(11,180) == True\n",
    "    assert estInversible(131,180) == True\n",
    "    assert estInversible(13,26) == False\n",
    "    assert estInversible(4,26) == False\n",
    "    assert estInversible(5,26) == True\n",
    "    print(\"estInversible : OK\")\n",
    "except:\n",
    "    print(\"estInversible : ERREUR\")\n"
   ]
  },
  {
   "cell_type": "code",
   "execution_count": 14,
   "metadata": {},
   "outputs": [
    {
     "name": "stdout",
     "output_type": "stream",
     "text": [
      "listeInversibles : ERREUR\n"
     ]
    }
   ],
   "source": [
    "def listeInversibles(n):\n",
    "    return \"TODO\"\n",
    "\n",
    "try:\n",
    "    assert listeInversibles(26) == [1, 3, 5, 7, 9, 11, 15, 17, 19, 21, 23, 25]\n",
    "    assert listeInversibles(5) == [1, 2, 3, 4]\n",
    "    assert listeInversibles(6) == [1, 5]\n",
    "    print(\"listeInversibles : OK\")\n",
    "except:\n",
    "    print(\"listeInversibles : ERREUR\")\n",
    "\n",
    "    "
   ]
  },
  {
   "cell_type": "markdown",
   "metadata": {},
   "source": [
    "Maintenant que nous savons si un nombre est inversible dans $\\mathbb{Z}/n\\mathbb{Z}$, il nous faut pouvoir calculer son inverse. Une méthode consiste à trouver les __coefficients de Bezout__ entre $a$ et $n$.\n",
    "\n",
    "De manière générale, les coefficients de Bezout de $a$ et $b$ sont les entiers relatifs $s$ et $t$ tels que $sa + tb = pgcd(a,b) $ \n",
    "\n",
    "Si $a$ est inversible, il s'agit donc de trouver les entiers relatifs $s$ et $t$ tels que $sa + tn = 1 $ car a et n sont premiers entre eux (donc $pgcd(a,n) = 1$)\n",
    "\n",
    "Comme $tn = 0$ dans $\\mathbb{Z}/n\\mathbb{Z}$ ($tn$ est un multiple de n), on a $sa=1$ donc $a^{-1} = s\\mod n$ (définition de l'inverse).\n",
    "\n",
    ">__Question 6 :__\n",
    "A partie de la fonction `coeffBezout(a, b)` qui renvoie les valeurs de $pgcd(a,b)$, $s$ et $t$ dans une liste, faire une fonction `inverse(a, n)` qui teste si $a$ est inversible et, si oui, renvoie sont inverse. Sinon, renvoie -1."
   ]
  },
  {
   "cell_type": "code",
   "execution_count": 19,
   "metadata": {},
   "outputs": [
    {
     "name": "stdout",
     "output_type": "stream",
     "text": [
      "coeffBezout : OK\n"
     ]
    }
   ],
   "source": [
    "# sources : cette [vidéo](https://www.youtube.com/watch?v=7o79t2KAKxE&list=PLE8WtfrsTAinMMyQkK_CzXhXU_LHRNXy_&index=3) \n",
    "# et [celle-ci](https://www.youtube.com/watch?v=BkK1_FspgYQ).\n",
    "def coeffBezout(a, b) :\n",
    "    l1 = np.array([a, 1, 0])\n",
    "    l2 = np.array([b, 0, 1])\n",
    "    \n",
    "    while( l2[0] != 0):\n",
    "        mult = l1[0]//l2[0]\n",
    "        ltmp = l2\n",
    "        l2 = l1 - mult*l2\n",
    "        l1 = ltmp\n",
    "    if(l1[0]<0):\n",
    "        l1 = -l1\n",
    "        \n",
    "    return l1.tolist()\n",
    "\n",
    "try:\n",
    "    assert coeffBezout(180, 11) == [1, 3,-49]\n",
    "    assert coeffBezout(23,26) == [1, -9, 8]\n",
    "    assert coeffBezout(26, 3) == [1, -1, 9]\n",
    "    print(\"coeffBezout : OK\")\n",
    "except:\n",
    "    print(\"coeffBezout : ERREUR\")\n",
    "    "
   ]
  },
  {
   "cell_type": "code",
   "execution_count": 20,
   "metadata": {},
   "outputs": [
    {
     "name": "stdout",
     "output_type": "stream",
     "text": [
      "inverse : ERREUR\n"
     ]
    }
   ],
   "source": [
    "def inverse(a, n) :\n",
    "    return \"TODO\"\n",
    "try:\n",
    "    assert inverse(11, 180) == 131\n",
    "    assert inverse(3, 26) == 9\n",
    "    assert inverse(23, 26) == 17\n",
    "    print(\"inverse : OK\")\n",
    "except:\n",
    "    print(\"inverse : ERREUR\")\n",
    "    \n",
    "    "
   ]
  },
  {
   "cell_type": "markdown",
   "metadata": {},
   "source": [
    "Nous avons maintenant toutes les cartes en main pour définir la fonction de déchiffrement affine. Pour rappel : \n",
    "\n",
    "\\begin{align*}\n",
    "  D_k \\colon \\mathbb{Z}/26\\mathbb{Z} &\\to \\mathbb{Z}/26\\mathbb{Z}\\\\\n",
    "  c_i &\\mapsto m_i = \\alpha c_i + \\beta\n",
    "\\end{align*}\n",
    "\n",
    "avec $\\alpha = a^{-1}$ et $\\beta = (-a^{-1}b) \\mod n$\n",
    "\n",
    "où $a^{-1}$ désigne l'inverse modulaire de $a$.\n",
    "\n",
    "\n",
    "\n",
    "> __Question 7 (déchiffrement)__ : Définir une fonction `dechiffrementAffine(msgChiffre, clef, alphabet)` qui étant donné un message chiffré `msgChiffre`, la `clef` qui a servi à construire ce message chiffré composée de a et b et un alphabet `alphabet` (par défaut, l'alphabet français) renvoie le message en clair correspondant."
   ]
  },
  {
   "cell_type": "code",
   "execution_count": 21,
   "metadata": {},
   "outputs": [
    {
     "name": "stdout",
     "output_type": "stream",
     "text": [
      "dechiffrementAffine : ERREUR\n"
     ]
    }
   ],
   "source": [
    "def dechiffrementAffine(msgChiffre, clef, alphabet = \"abcdefghijklmnopqrstuvwxyz\"):\n",
    "    return \"TODO\"\n",
    "\n",
    "try:\n",
    "    assert dechiffrementAffine(\"oqggewqqrklecd\",[3, 4]) == \"messageenclair\"\n",
    "    assert dechiffrementAffine(\"wueegouutazgih\",[23,6]) == \"messageenclair\"\n",
    "    print(\"dechiffrementAffine : OK\")\n",
    "except:\n",
    "    print(\"dechiffrementAffine : ERREUR\")"
   ]
  },
  {
   "cell_type": "markdown",
   "metadata": {},
   "source": [
    "### 2 - b) Attaque : Analyse de fréquence\n",
    "\n",
    "Nous allons maintenant coder une attaque par analyse de fréquence dans le cas du chiffrement affine. Dans le chiffrement par décalage, il n'y avait qu'une seule inconnue : le pas de décalage $k$. Dans le chiffrement affine, il s'agit de trouver les valeurs de $a$ et $b$, ou plus exactement, de $\\alpha$ et $\\beta$. Il nous faut donc résoudre deux équations à deux inconnues : \n",
    "\n",
    "$$\n",
    "\\left\\{\n",
    "    \\begin{array}{ll}\n",
    "        x_c\\alpha + \\beta & = x_m \\mod 26 \\\\\n",
    "        y_c\\alpha + \\beta & = y_m \\mod 26 \\\\\n",
    "    \\end{array}\n",
    "\\right.\n",
    "$$\n",
    "\n",
    "où $x_c$ (resp. $y_c$) désigne la lettre qui code $x_m$ (resp. $y_m$) dans le message chiffré.\n",
    "\n",
    "_Note_ : L'attaque par force brute est toujours très faisable. Il n'y aurait que $Card((\\mathbb{Z}/n\\mathbb{Z})^*)*Card(\\mathbb{Z}/n\\mathbb{Z}) = 12 * 26 = 312$ clefs à tester.\n",
    "\n",
    "> __Question 8 (attaque par analyse de fréquence)__ : Résolution de deux équations à deux inconnues.\n",
    "- Faire une fonction `resEquations(xc,xm,yc,ym,alphabet)` qui renvoie les valeurs de $\\alpha$ et $\\beta$ par résolution du système d'équation donné ci-dessus.\n",
    "- Faire une fonction `attaqueFrequenceAff(msgCrypte, frequenceLangue, alphabet)` qui utilise les fonctions précédentes pour décrypter le message en paramètre en comparant les lettres les plus fréquentes dans le message chiffré et dans la langue considérée. `frequenceLangue` est un dictionnaire des fréquences dans la langue du message (le dictionnaire des fréquences de chaque lettre en français `frequenceFrancais` vous est fourni plus haut). Il faudra certainement tester plusieurs possibilités...\n"
   ]
  },
  {
   "cell_type": "code",
   "execution_count": 22,
   "metadata": {},
   "outputs": [
    {
     "name": "stdout",
     "output_type": "stream",
     "text": [
      "resEquations : ERREUR\n"
     ]
    }
   ],
   "source": [
    "\"\"\"\n",
    "resolution des equations\n",
    "xc * alpha + beta = xm mod 26\n",
    "yc * alpha + beta = ym mod 26\n",
    "\"\"\"\n",
    "def resEquations(xc,xm,yc,ym, alphabet = \"abcdefghijklmnopqrstuvwxyz\"):\n",
    "    return \"TODO\"\n",
    "\n",
    "try:\n",
    "    assert resEquations('a','d','d','e') == (9,3)\n",
    "    assert resEquations('t','e','m','t') == (9,15)\n",
    "    assert resEquations('t','e','m','a') == (8,8)\n",
    "    assert resEquations('r','e','f','a') == (9,7)\n",
    "    print(\"resEquations : OK\")\n",
    "except:\n",
    "    print(\"resEquations : ERREUR\")\n"
   ]
  },
  {
   "cell_type": "code",
   "execution_count": 25,
   "metadata": {},
   "outputs": [
    {
     "name": "stdout",
     "output_type": "stream",
     "text": [
      "TODO\n",
      "\n",
      "Un peu plus complique...\n",
      "TODO\n"
     ]
    }
   ],
   "source": [
    "def attaqueFrequenceAff(msgCrypte, frequenceLangue = frequenceFrancais, alphabet = \"abcdefghijklmnopqrstuvwxyz\"):\n",
    "    return \"TODO\"\n",
    "\n",
    "#Passer de alpha/beta à a/b\n",
    "#n = len(alphabet)\n",
    "#a = inverse(alpha,n)\n",
    "#b = (-beta*a)%26\n",
    "#print(\"a, b\",a,b)\n",
    "\n",
    "\n",
    "\n",
    "\n",
    "c1 = \"svnhfmmvshpfdskrsfsklvorensrfkkfbnryfefsfmzhroruerbnrslrofshmrlfhonladuuerprskfuudsrfkkrskdvsdmufnkmfdhhrnsyrnorgrnmfyerpdrermrkkeronladuuersrlveerhyvsoyfhuvelrprskfmfyerpdrermrkkeronuefslfdhdorpyvnemfornwdrpr\"\n",
    "print(attaqueFrequenceAff(c1))\n",
    "\n",
    "print(\"\\nUn peu plus complique...\")\n",
    "c2 = \"ntjmpumgxpqtstgqpgtxpnchumtputgfsftgthnngxnchumwxootrtumhpyctgktjqtjchfooxujqhgztumxpotjxotfoqtohrxumhzutwftgtopfmntjmpuatmfmshodpfrxpjjtqtghbxuj\"\n",
    "print(attaqueFrequenceAff(c2))\n"
   ]
  }
 ],
 "metadata": {
  "kernelspec": {
   "display_name": "Python 3 (ipykernel)",
   "language": "python",
   "name": "python3"
  },
  "language_info": {
   "codemirror_mode": {
    "name": "ipython",
    "version": 3
   },
   "file_extension": ".py",
   "mimetype": "text/x-python",
   "name": "python",
   "nbconvert_exporter": "python",
   "pygments_lexer": "ipython3",
   "version": "3.11.4"
  }
 },
 "nbformat": 4,
 "nbformat_minor": 4
}
