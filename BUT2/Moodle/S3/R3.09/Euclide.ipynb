{
 "cells": [
  {
   "cell_type": "code",
   "execution_count": 2,
   "metadata": {
    "collapsed": true
   },
   "outputs": [],
   "source": [
    "import sympy\n",
    "import numpy as np"
   ]
  },
  {
   "cell_type": "markdown",
   "metadata": {},
   "source": [
    "La preuve de l'infinité des nombres premiers par Euclide se base sur le fait que, s'il existait un nombre fini $k$ de nombres premiers $p_1 < p_2 <... < p_k$, alors l'entier $q = \\prod_{i=1}^k p_i  \\quad +1 = p_1p_2\\cdots p_k + 1$ ne serait divisible par aucun des $p_i$ c'est à dire par aucun nombre premier ce qui est absurde.\n",
    "\n",
    "On pourrait penser que cela donne une méthode pour construire de nouveaux nombres premiers. Ce n'est pas le cas, comme le montre le code suivant :"
   ]
  },
  {
   "cell_type": "code",
   "execution_count": 3,
   "metadata": {},
   "outputs": [
    {
     "name": "stdout",
     "output_type": "stream",
     "text": [
      "3 True {3: 1}\n",
      "7 True {7: 1}\n",
      "31 True {31: 1}\n",
      "211 True {211: 1}\n",
      "2311 True {2311: 1}\n",
      "30031 False {59: 1, 509: 1}\n",
      "510511 False {19: 1, 97: 1, 277: 1}\n",
      "9699691 False {347: 1, 27953: 1}\n",
      "223092871 False {317: 1, 703763: 1}\n",
      "6469693231 False {331: 1, 571: 1, 34231: 1}\n",
      "200560490131 True {200560490131: 1}\n",
      "7420738134811 False {181: 1, 60611: 1, 676421: 1}\n",
      "304250263527211 False {61: 1, 450451: 1, 11072701: 1}\n",
      "13082761331670031 False {167: 1, 78339888213593: 1}\n",
      "614889782588491411 False {953: 1, 46727: 1, 13808181181: 1}\n",
      "32589158477190044731 False {73: 1, 139: 1, 173: 1, 18564761860301: 1}\n",
      "1922760350154212639071 False {277: 1, 3467: 1, 105229: 1, 19026377261: 1}\n",
      "117288381359406970983271 False {223: 1, 525956867082542470777: 1}\n",
      "7858321551080267055879091 False {54730729297: 1, 143581524529603: 1}\n",
      "557940830126698960967415391 False {1063: 1, 303049: 1, 598841: 1, 2892214489673: 1}\n"
     ]
    }
   ],
   "source": [
    "#liste des nombres premiers <1000\n",
    "p=[     2,   3,   5,   7,  11,  13,  17,  19,  23,  29,  31,  37,\n",
    "        41,  43,  47,  53,  59,  61,  67,  71,  73,  79,  83,  89,  97,\n",
    "        101, 103, 107, 109, 113, 127, 131, 137, 139, 149, 151, 157, 163,\n",
    "        167, 173, 179, 181, 191, 193, 197, 199, 211, 223, 227, 229, 233,\n",
    "        239, 241, 251, 257, 263, 269, 271, 277, 281, 283, 293, 307, 311,\n",
    "        313, 317, 331, 337, 347, 349, 353, 359, 367, 373, 379, 383, 389,\n",
    "        397, 401, 409, 419, 421, 431, 433, 439, 443, 449, 457, 461, 463,\n",
    "        467, 479, 487, 491, 499, 503, 509, 521, 523, 541, 547, 557, 563,\n",
    "        569, 571, 577, 587, 593, 599, 601, 607, 613, 617, 619, 631, 641,\n",
    "        643, 647, 653, 659, 661, 673, 677, 683, 691, 701, 709, 719, 727,\n",
    "        733, 739, 743, 751, 757, 761, 769, 773, 787, 797, 809, 811, 821,\n",
    "        823, 827, 829, 839, 853, 857, 859, 863, 877, 881, 883, 887, 907,\n",
    "        911, 919, 929, 937, 941, 947, 953, 967, 971, 977, 983, 991, 997]\n",
    "\n",
    "\n",
    "q=1\n",
    "for i in range(0,20):\n",
    "    q=q*p[i]\n",
    "    print(q+1,sympy.isprime(q+1),sympy.factorint(q+1))\n",
    "\n"
   ]
  },
  {
   "cell_type": "markdown",
   "metadata": {},
   "source": [
    "Cependant, en prenant le plus grand facteur premier $f$ de $q = \\prod_{i=1}^k p_i  \\quad +1 = p_1p_2\\cdots p_k + 1$, on obtient bien un nouveau nombre premier strictement plus grand que $p_k$."
   ]
  },
  {
   "cell_type": "code",
   "execution_count": 4,
   "metadata": {},
   "outputs": [
    {
     "name": "stdout",
     "output_type": "stream",
     "text": [
      "3 2 3\n",
      "7 3 7\n",
      "31 5 31\n",
      "211 7 211\n",
      "2311 11 2311\n",
      "30031 13 509\n",
      "510511 17 277\n",
      "9699691 19 27953\n",
      "223092871 23 703763\n",
      "6469693231 29 34231\n",
      "200560490131 31 200560490131\n",
      "7420738134811 37 676421\n",
      "304250263527211 41 11072701\n",
      "13082761331670031 43 78339888213593\n",
      "614889782588491411 47 13808181181\n",
      "32589158477190044731 53 18564761860301\n",
      "1922760350154212639071 59 19026377261\n",
      "117288381359406970983271 61 525956867082542470777\n",
      "7858321551080267055879091 67 143581524529603\n",
      "557940830126698960967415391 71 2892214489673\n"
     ]
    }
   ],
   "source": [
    "q=1\n",
    "for i in range(0,20):\n",
    "    q=q*p[i]\n",
    "    l=list(sympy.factorint(q+1).keys())\n",
    "    print(q+1,p[i],max(l))\n",
    "    \n"
   ]
  },
  {
   "cell_type": "markdown",
   "metadata": {},
   "source": [
    "Au passage, on pourra noter la lenteur de l'exécution."
   ]
  }
 ],
 "metadata": {
  "kernelspec": {
   "display_name": "Python 3",
   "language": "python",
   "name": "python3"
  },
  "language_info": {
   "codemirror_mode": {
    "name": "ipython",
    "version": 3
   },
   "file_extension": ".py",
   "mimetype": "text/x-python",
   "name": "python",
   "nbconvert_exporter": "python",
   "pygments_lexer": "ipython3",
   "version": "3.6.1"
  }
 },
 "nbformat": 4,
 "nbformat_minor": 5
}
