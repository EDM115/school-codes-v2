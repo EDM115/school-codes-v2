{
 "cells": [
  {
   "cell_type": "markdown",
   "id": "fcf2862e",
   "metadata": {},
   "source": [
    "# <center> R3.08 - Probabilités <br> Anonymisation de réponses : Randomized responses </center>\n",
    "<center> Th. Godin, A. Ridard </center>\n",
    "\n"
   ]
  },
  {
   "cell_type": "code",
   "execution_count": 2,
   "id": "8005bd12",
   "metadata": {},
   "outputs": [],
   "source": [
    "# importation des modules\n",
    "import numpy as np\n",
    "import numpy.random as npr\n",
    "import scipy.stats as sps\n",
    "import matplotlib.pyplot as plt"
   ]
  },
  {
   "cell_type": "markdown",
   "id": "14899c0d",
   "metadata": {},
   "source": [
    "Le but de ce notebook<a name=\"cite_ref-1\"></a>[<sup>[1]</sup>](#cite_note-1) est d'illustrer une technique de sondage permettant d'obtenir des informations sur des sujets \"sensibles\".\n",
    "\n",
    "Imaginons qu'une personne soit chargée d'estimer<a name=\"cite_ref-2\"></a>[<sup>[2]</sup>](#cite_note-2) la _proportion de bretons mangeants du beurre doux_. Comme la question est sensible, il est vraissemblable que si l'on pose directement la question, certaines personnes intérogées mentent, ce qui fausserait le résultat.\n",
    "\n",
    "Pour éviter cela, elle propose aux participants le protocole suivant :\n",
    "\n",
    "   - La personne lance un dé à 6 face (équilibré)\n",
    "   -   - Si le résultat est entre 1 et 5, la personne répond la vérité\n",
    "       - Sinon (si le résultat est 6), la personne répond en mentant (dit l'inverse)\n",
    "       \n",
    "       \n",
    "On va noter : \n",
    "\n",
    "- $B_d$ l'événement \"mange du beurre doux\" (que l'on souhaite mesurer)\n",
    "- $D \\sim \\mathcal{U}_6$ la variable aléatoire représentant le résultat du dé (que l'on comprend bien) \n",
    "- $R$ l'évenement \"répond manger du beurre doux\" (que l'on a mesuré par le sondage).\n",
    "----\n",
    "\n",
    " <a name=\"cite_note-1\"></a>1. [^](#cite_ref-1) Assez théorique au final : il ne contient que 2 cases de python, s'en servant essentielement comme d'une calculette.\n",
    " <a name=\"cite_note-2\"></a>2. [^](#cite_ref-2) On utilisera le vocabulaire statistique, mais les résultats que l'on traite sont de nature probabilistes ; même s'ils se transposent facilement en stat."
   ]
  },
  {
   "cell_type": "markdown",
   "id": "ed12ee0e",
   "metadata": {},
   "source": [
    "On a alors : \n",
    "\n",
    "\\begin{align*}\n",
    "\\mathbb{P}(R) &\\overset{proba.~ totales}{ = } \\mathbb{P}(R|D <6)P(D<6) + \\mathbb{P}(R|D =6)P(D=6)\\\\\n",
    "~\\\\\n",
    "& \\textit{Par construction du protocole, $\\mathbb{P}(R|D <6)= \\mathbb{P}(B_d)$ et $\\mathbb{P}(R|D =6)= \\mathbb{P}(\\bar{B_d})$}\\\\\n",
    "~\\\\\n",
    "&= \\mathbb{P}(B_d)P(D<6) + \\mathbb{P}(\\bar{B_d})P(D=6)\\\\\n",
    "&= \\mathbb{P}(B_d)\\frac{5}{6} + (1-\\mathbb{P}({B_d}))\\frac{1}{6}\\\\\n",
    "&= \\frac16 + \\frac46\\mathbb{P}({B_d})\\\\\n",
    "& \\textit{Donc}\\\\\n",
    "\\mathbb{P}({B_d})&= \\frac64(\\mathbb{P}(R) -\\frac16)\n",
    "\\end{align*}\n",
    "\n",
    "\n",
    "----\n",
    "\n",
    "_Application numérique :_ Avec le sondage, on mesure que $25\\%$ des répondants affirme manger du beurre doux, la proportion réélle est donc\n",
    "\\begin{align*}\n",
    "\\mathbb{P}({B_d})&= \\frac64(\\mathbb{P}(R) -\\frac16)\\\\\n",
    "&= \\frac64(\\frac{1}{4} -\\frac16)\\\\\n",
    "&= \\frac18\\\\\n",
    "\\end{align*}"
   ]
  },
  {
   "cell_type": "markdown",
   "id": "1932c59c",
   "metadata": {},
   "source": [
    "Pour terminer, on peut tracer le diagramme $\\mathbb{P}({R})= f(\\mathbb{P}(B_d)) = \\frac16 + \\frac46\\mathbb{P}({B_d})$ donnant a proportion réelle en fonction de la proportion observée."
   ]
  },
  {
   "cell_type": "code",
   "execution_count": 3,
   "id": "0ba70003",
   "metadata": {},
   "outputs": [
    {
     "data": {
      "image/png": "[encoded data removed]",
      "text/plain": [
       "<Figure size 432x288 with 1 Axes>"
      ]
     },
     "metadata": {
      "needs_background": "light"
     },
     "output_type": "display_data"
    }
   ],
   "source": [
    "reelle=np.arange(0,1,0.005)\n",
    "obs=[1/6 +4/6 * i for i in reelle]\n",
    "\n",
    "\n",
    "plt.plot(reelle,obs)\n",
    "plt.title('proportion réelle en fonction de la proportion observée')\n",
    "plt.draw()\n",
    "plt.show()\n"
   ]
  },
  {
   "cell_type": "markdown",
   "id": "1b9cc929",
   "metadata": {},
   "source": [
    "**remarques :** La dépendance entre la proportion réélle  et celle observée est linéaire, cependant on  ne peut pas observer toutes les valeurs entre $0$ et $1$ !\n",
    "En effet, si la proportion réelle était $0$ on aurait forcémeent $\\frac16$ de personne répondant manger du beurre doux, et inversement pour une proportion réelle de $1$ on observera seulement $\\frac56$ de réponse positives."
   ]
  },
  {
   "cell_type": "markdown",
   "id": "55255bf2",
   "metadata": {},
   "source": [
    "----"
   ]
  },
  {
   "cell_type": "markdown",
   "id": "5e632bc6",
   "metadata": {},
   "source": [
    "## Test numérique\n",
    "\n",
    "On va vérifié que notre modèle est cohérent\\footnote{ là encore on a une approche assez stateuse (fréquenciste) des probabilité. Cette approche est justifiée mais nous n'auront pas le temps de rentrer dans les datails.}.\n",
    "Pour cela on va fixer $\\mathbb{P}(B_b) \\sim \\mathcal{B}(p)$ et mesurer via un grand nombre d'essais la probabilité de réponse."
   ]
  },
  {
   "cell_type": "code",
   "execution_count": 16,
   "id": "9a279f38",
   "metadata": {},
   "outputs": [
    {
     "data": {
      "text/plain": [
       "array([5, 3, 4, 1, 5, 4, 4, 2, 5, 4, 5, 2, 1, 1, 2, 4, 4, 5, 2, 3, 5, 4,\n",
       "       1, 2, 5, 1, 3, 1, 4, 5, 3, 1, 3, 1, 2, 3, 1, 1, 2, 2, 4, 5, 4, 5,\n",
       "       4, 3, 4, 3, 2, 2, 5, 3, 3, 4, 5, 4, 2, 1, 4, 3, 2, 2, 1, 1, 1, 4,\n",
       "       1, 1, 5, 4, 5, 5, 1, 4, 1, 1, 1, 3, 3, 3, 2, 1, 2, 2, 1, 1, 1, 2,\n",
       "       3, 4, 2, 1, 2, 3, 1, 5, 4, 5, 2, 5])"
      ]
     },
     "execution_count": 16,
     "metadata": {},
     "output_type": "execute_result"
    }
   ],
   "source": [
    "npr.binomial(1,.9,10)\n",
    "npr.randint(1,6,100)"
   ]
  },
  {
   "cell_type": "code",
   "execution_count": 32,
   "id": "89be5b15",
   "metadata": {},
   "outputs": [],
   "source": [
    "def exp(p):\n",
    "    \n",
    "    sale = npr.binomial(1,p)\n",
    "    #la personne mange du beurre salé\n",
    "    dice = npr.randint(1,7)\n",
    "    #resultat du dé\n",
    "    \n",
    "    if dice<6:\n",
    "        return sale\n",
    "    else :\n",
    "        return abs(1-sale) #dirty\n"
   ]
  },
  {
   "cell_type": "code",
   "execution_count": 33,
   "id": "cc71a56b",
   "metadata": {},
   "outputs": [
    {
     "data": {
      "image/png": "[encoded data removed]",
      "text/plain": [
       "<Figure size 432x288 with 1 Axes>"
      ]
     },
     "metadata": {
      "needs_background": "light"
     },
     "output_type": "display_data"
    }
   ],
   "source": [
    "\n",
    "\n",
    "reelle=np.arange(0,1,0.005)\n",
    "obs=[1/6+4/6*i for i in reelle]\n",
    "expe=[np.mean([exp(i) for j in range(1000)]) for i in reelle]\n",
    "\n",
    "\n",
    "plt.plot(reelle,obs)\n",
    "plt.plot(reelle,expe)\n",
    "\n",
    "plt.title('proportion observée théorique et expérimentale en fonction de la proportion réelle')\n",
    "plt.draw()\n",
    "plt.show()"
   ]
  },
  {
   "cell_type": "markdown",
   "id": "b5e4c41a",
   "metadata": {},
   "source": [
    "---\n",
    "---"
   ]
  },
  {
   "cell_type": "markdown",
   "id": "2bc83498",
   "metadata": {},
   "source": [
    "**_Variante :_** On peut procéder à un raisonement similaire avec comme hypothèse\n",
    "\n",
    "   - Si le dé donne 1, la personne répond \"Oui\"\n",
    "   - Sinon, la personne répond la vérité\n",
    "   \n",
    "Là encore la mise en équation permet de récupérer (encore plus) facilement le proportion réelle de bretons qui mangent du beurre doux.  Vous pouvez aussi consulter [wikipedia](https://en.wikipedia.org/wiki/Randomized_response)"
   ]
  },
  {
   "cell_type": "code",
   "execution_count": null,
   "id": "f97e6c5f",
   "metadata": {},
   "outputs": [],
   "source": []
  }
 ],
 "metadata": {
  "kernelspec": {
   "display_name": "Python 3",
   "language": "python",
   "name": "python3"
  },
  "language_info": {
   "codemirror_mode": {
    "name": "ipython",
    "version": 3
   },
   "file_extension": ".py",
   "mimetype": "text/x-python",
   "name": "python",
   "nbconvert_exporter": "python",
   "pygments_lexer": "ipython3",
   "version": "3.8.10"
  }
 },
 "nbformat": 4,
 "nbformat_minor": 5
}
