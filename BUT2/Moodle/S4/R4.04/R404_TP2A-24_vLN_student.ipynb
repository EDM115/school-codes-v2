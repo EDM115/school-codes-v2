{
 "cells": [
  {
   "cell_type": "markdown",
   "metadata": {},
   "source": [
    "# <center> R4.04 Méthodes d'optimisation <br> $\\mathbf{SAT}$-Solvers </center>\n",
    "<center> 2023/2024 - Tom Ferragut, Thibault Godin & Lucie Naert </center>\n",
    "<center> IUT de Vannes, BUT Informatique </center>\n"
   ]
  },
  {
   "cell_type": "markdown",
   "metadata": {},
   "source": [
    " "
   ]
  },
  {
   "cell_type": "code",
   "execution_count": 3,
   "metadata": {},
   "outputs": [],
   "source": [
    "import numpy as np \n",
    "import pycosat\n",
    "import itertools\n",
    "import sys, getopt \n",
    "import time\n",
    "from pprint import pprint\n",
    "\n",
    "#pip install pycosat"
   ]
  },
  {
   "cell_type": "markdown",
   "metadata": {},
   "source": [
    "*********\n",
    "\n",
    "# $\\mathbf{ SAT}$\n",
    "\n",
    "\n",
    "En première année, vous avez vu les concepts d'assertions et de formules (booléennes) logiques. Par exemple la formule\n",
    "\n",
    "$$A :=  (\\neg P \\wedge Q) \\vee  (P\\wedge \\neg Q) $$\n",
    "\n",
    "\n",
    "qui a pour table de vérité <a name=\"cite_ref-1\"></a>[<sup>[1]</sup>](#cite_note-1) :\n",
    "\n",
    "\n",
    "|P|Q|A|\n",
    "| ------------- |:-------------:| -----:|\n",
    "|V|V|F|\n",
    "|V|F|V|\n",
    "|F|V|V|\n",
    "|F|F|F|\n",
    "\n",
    "\n",
    "Étant donnée une assertion $A$, on dira que l'assertion est _satisfaisable_ (satisfiable) s'il existe des valeurs de vérités pour les variables atomiques (ici $P$ et $Q$) telle que $A$ soit vraie. Dans notre exemple $A$ est satisfaisable, et un _témoin_ (witness) est le choix de valeurs $P=V$ et $Q=F$. \n",
    "\n",
    "\n",
    "La question _\"étant donnée une assertion logique $A$, déterminer si elle est satisfaisable\"_ est un problème majeur en informatique, appelé [SAT](https://fr.wikipedia.org/wiki/Probl%C3%A8me_SAT)\n",
    "\n",
    "\n",
    "<a name=\"cite_note-1\"></a>1. [^](#cite_ref-1) On appelle généralement cet opérateur xor (ou exclusif), noté $\\oplus$\n",
    "\n"
   ]
  },
  {
   "cell_type": "markdown",
   "metadata": {},
   "source": [
    "**_question 1_**\n",
    "Déterminer si les assertions suivantes sont satisfaisables, et donner un témoin si elle le sont.\n",
    "\n",
    "\n",
    "- $A_1 :=  \\neg (P \\wedge Q) \\vee R $\n",
    "- $A_2 :=  (P \\Longleftrightarrow Q) \\wedge (P \\oplus Q) $\n",
    "- $A_3 :=  \\neg (P \\wedge Q) \\vee P $\n",
    "- $A_4 :=  \\neg (P \\wedge Q \\wedge \\neg R) \\vee (P \\wedge R)$\n"
   ]
  },
  {
   "cell_type": "markdown",
   "metadata": {},
   "source": [
    "Réponse : \n"
   ]
  },
  {
   "cell_type": "markdown",
   "metadata": {},
   "source": [
    "*********\n",
    "\n",
    "## CNF\n",
    "\n",
    "Pour les problèmes de satisfaisabilité, on a généralement un grand nombre de variables booléennes. On les notera généralement $x_1, x_2, \\dots, x_n$, et on dira que $n$ est la _taille_ de l'instance.\n",
    "De plus, on a vu en R1.06 que toute formule peut s'écrire à l'aide des seules opérations $\\neg, \\vee, \\wedge$, et l'on peut même exiger que les $\\neg$ ne porte que sur des propositions atomiques (les $x_i$).\n"
   ]
  },
  {
   "cell_type": "markdown",
   "metadata": {},
   "source": [
    "**_question 2_**\n",
    "\n",
    "Transformer les propositions suivantes de manière à n'utiliser que les opérations $\\neg, \\vee, \\wedge$, et que les $\\neg$ ne porte que sur des propositions atomiques.\n",
    "- $A_1 :=  \\neg (P \\wedge Q) \\vee P $\n",
    "- $A_1 :=  \\neg (P \\wedge Q \\wedge \\neg R) \\vee (P \\wedge R)$\n",
    "- $A_3 := \\neg (P \\Longrightarrow Q)$\n",
    "- $A_4 :=  (P \\Longleftrightarrow Q) \\vee \\neg P $\n",
    "\n",
    "\n"
   ]
  },
  {
   "cell_type": "markdown",
   "metadata": {},
   "source": [
    "Réponse : \n"
   ]
  },
  {
   "cell_type": "markdown",
   "metadata": {},
   "source": [
    "\n",
    "Pour faciliter la saisie des assertion, on va normaliser un peu plus encore : on va demander à ce que nos formules soient des conjonctions (des \"et\") de disjonctions (des \"ou\") de variables. On appelle cette forme [CNF](https://fr.wikipedia.org/wiki/Forme_normale_conjonctive)<a name=\"cite_ref-2\"></a>[<sup>[2]</sup>](#cite_note-2).\n",
    "\n",
    "Exemples d'assertions en CNF : $(x_1 \\vee x_2 \\vee \\neg x_3) \\wedge (x_1 \\vee x_3)$ et  $(x_1 \\vee \\neg x_5 \\vee x_4) \\wedge (\\neg x_1 \\vee  x_5 \\vee x_3 \\vee x_4) \\wedge (\\neg x_3 \\vee \\neg x_4)$.\n",
    "\n",
    "Les exemples suivants ne sont pas en CNF : $ \\neg(x_1 \\wedge x_2 \\wedge \\neg x_3) \\vee (x_1 \\wedge x_3)$ et $(x_1 \\wedge \\neg x_5 \\wedge x_4) \\vee  (\\neg x_1 \\wedge  x_5 \\wedge x_3 \\wedge x_4) \\vee  (\\neg x_3 \\wedge \\neg x_4)$ (le dernier exemple est en forme normale disjonctive, DNF)\n",
    "\n",
    "\n",
    "On appelera _clause_ les parties entre deux $\\wedge$'s consécutifs.\n",
    "\n",
    "<a name=\"cite_note-2\"></a> 2. [^](#cite_ref-2) On peut aller encore plus loin en imposant que la formule soit une conjonction (un \"et\") de disjonctions (des \"ou\") d'au plus $3$ variables. On optient le problème [3-SAT](https://fr.wikipedia.org/wiki/Probl%C3%A8me_3-SAT) qui est équivalent au problème $\\mathbf{SAT}$"
   ]
  },
  {
   "cell_type": "markdown",
   "metadata": {},
   "source": [
    "*********\n",
    "**_question 3_**\n",
    "\n",
    "Mettre $A_3$ et $A_4$ en CNF."
   ]
  },
  {
   "cell_type": "markdown",
   "metadata": {},
   "source": [
    "Réponse : \n",
    "\n"
   ]
  },
  {
   "cell_type": "markdown",
   "metadata": {},
   "source": [
    "*********\n",
    "Une manière d'encoder une formule booléenne est la suivante : chaque clause est encodée dans un tableau d'entiers, la variable $x_5$ étant représentée par <tt>5</tt> et la variable $\\neg x_5$ étant représentée par <tt>-5</tt>\n",
    "\n",
    "\n",
    "Par exemple :"
   ]
  },
  {
   "cell_type": "code",
   "execution_count": 7,
   "metadata": {},
   "outputs": [],
   "source": [
    "cnf = [[1, -5, 4], [-1, 5, 3, 4], [-3, -4]]"
   ]
  },
  {
   "cell_type": "markdown",
   "metadata": {},
   "source": [
    "représente la formule \n",
    "\n",
    "\n",
    " $(x_1 \\vee \\neg x_5 \\vee x_4) \\wedge (\\neg x_1 \\vee  x_5 \\vee x_3 \\vee x_4) \\wedge (\\neg x_3 \\vee \\neg x_4)$ \n",
    " \n",
    " \n",
    "Ici, on a 5 variables et 3 clauses, la première clause étant $(x_1 \\vee \\neg x_5 \\vee x_4)$. \n",
    "\n",
    "*********\n",
    "\n",
    "\n",
    "On définit une fonction pour afficher des CNF et une fonction retournant le nombre de variables et de clauses d'une formule en CNF"
   ]
  },
  {
   "cell_type": "code",
   "execution_count": 8,
   "metadata": {},
   "outputs": [
    {
     "name": "stdout",
     "output_type": "stream",
     "text": [
      "(x1 ou non x5 ou x4) et (non x1 ou x5 ou x3 ou x4) et (non x3 ou non x4)\n",
      "Nombre de variable :  5 \n",
      "Nombre de clauses :  3\n"
     ]
    }
   ],
   "source": [
    "def display(cnf):\n",
    "    monCnf = \"(\"\n",
    "    for i in range(len(cnf)):\n",
    "        for j in range(len(cnf[i])):\n",
    "            if cnf[i][j] < 0:\n",
    "                monCnf += \"non \"\n",
    "            monCnf += \"x\"+str(abs(cnf[i][j]))\n",
    "            if j != len(cnf[i]) - 1:\n",
    "                monCnf +=\" ou \"\n",
    "        if i != len(cnf) -1 :\n",
    "            monCnf += \") et (\"\n",
    "        else :\n",
    "            monCnf += \")\"\n",
    "    return monCnf\n",
    "\n",
    "strcnf = display(cnf)\n",
    "print(strcnf)\n",
    "\n",
    "\n",
    "def cnflen(cnf):\n",
    "    #returns the number of variables and of clauses of a boolean formula given under CNF\n",
    "    return max([abs(max(max(cnf, key=max))),abs(min(min(cnf, key=min)))]),len(cnf)\n",
    "\n",
    "nbVar, nbClause = cnflen(cnf)\n",
    "\n",
    "print(\"Nombre de variable : \",nbVar, \"\\nNombre de clauses : \", nbClause)\n",
    "\n"
   ]
  },
  {
   "cell_type": "markdown",
   "metadata": {},
   "source": [
    "*********\n",
    "**_question 4_**\n",
    "\n",
    "\n",
    "Essayer de résoudre quelques instances en CNF sur [SAT Game](http://www.cril.univ-artois.fr/~roussel/satgame/satgame.php?level=2&lang=fr)\n"
   ]
  },
  {
   "cell_type": "markdown",
   "metadata": {},
   "source": [
    "*********\n",
    "\n",
    "# $\\mathbf{SAT}$-Solver\n",
    "\n",
    "\n",
    "\n",
    "La résolution algorithmique d'un problème $\\mathbf{SAT}$ est assez facile : on peut tester tous les cas possibles, jusqu'à ce que l'on trouve un témoin ou que l'on ait essayé toutes les combinaisons. S'il y a $n$ variables, il n'y a \"que\" $2^n$ cas à tester.\n",
    "\n",
    "\n",
    "*********\n",
    "\n",
    "**_question 5_**\n",
    "\n",
    "\n",
    "1. Écrire une fonction `eval(cnf,wit)` qui prend en entrée `cnf` une formule booléenne en CNF à $n$ variables et `wit` un tableau de $n$ valeurs booléennes (0 ou 1) et retourne l'évaluation de la formule sur ces valeurs \n",
    "2. Faire 3 tests : \n",
    "    - un test avec un premier CNF et un ensemble de valeurs pour lesquelles l'évaluation est \"True\"\n",
    "    - un test avec le même CNF et un ensemble de valeurs pour lesquelles l'évaluation est \"False\"\n",
    "    - un test avec un autre CNF"
   ]
  },
  {
   "cell_type": "code",
   "execution_count": 17,
   "metadata": {},
   "outputs": [
    {
     "name": "stdout",
     "output_type": "stream",
     "text": [
      "True\n",
      "False\n",
      "(x1) et (x2)\n",
      "(2, 2)\n",
      "False\n"
     ]
    }
   ],
   "source": [
    "def eval(cnf,wit):\n",
    "    \n",
    "   \n",
    "        \n",
    "    return \"todo\"\n",
    "\n",
    "#Exemple True             \n",
    "wit=[1, 0, 0, 0, 1]               \n",
    "cnf = [[1, -5, 4], [-1, 5, 3, 4], [-3, -4]]\n",
    "print(eval(cnf,wit))"
   ]
  },
  {
   "cell_type": "markdown",
   "metadata": {},
   "source": [
    "*********\n",
    "\n",
    "**_question 6_**\n",
    "\n",
    "\n",
    "Écrire une fonction `bruteSAT(cnf, verbose = False)` qui essaie de resoudre une formule en CNF par force-brute (en essayant toutes les possibilités) et renvoie un témoin si la formule est satisfaisable et -1 sinon. Si `verbose = True` et qu'un témoin est trouvé, le nombre d'essai avant de trouver un témoin doit être affiché ainsi que le nombre maximum d'essais possibles.\n",
    "\n",
    "_On pourra utiliser le module itertool.product de python_\n"
   ]
  },
  {
   "cell_type": "code",
   "execution_count": 18,
   "metadata": {},
   "outputs": [
    {
     "name": "stdout",
     "output_type": "stream",
     "text": [
      "(x1 ou non x5 ou x4) et (non x1 ou x5 ou x3 ou x4) et (non x3 ou non x4)\n",
      "Trouvé en 1 essais sur 32\n",
      "[0, 0, 0, 0, 0]\n",
      "Trouvé en 2 essais sur 4\n",
      "[0, 1]\n",
      "[1, 1]\n",
      "[1, 1]\n",
      "-1\n"
     ]
    }
   ],
   "source": [
    "def bruteSAT(cnf, verbose = False):\n",
    "    return \"todo\"\n",
    "    \n",
    "cnf = [[1, -5, 4], [-1, 5, 3, 4], [-3, -4]]\n",
    "\n",
    "print(display(cnf))\n",
    "print(bruteSAT(cnf, True))\n",
    "print(bruteSAT([[1,2]], True))\n",
    "print(bruteSAT([[1],[2]]))\n",
    "print(bruteSAT([[1,2],[-1,2],[1,-2]]))\n",
    "print(bruteSAT([[1,2],[-1,2],[1,-2],[-1,-2]]))\n",
    "\n",
    "\n"
   ]
  },
  {
   "cell_type": "markdown",
   "metadata": {},
   "source": [
    "*********\n",
    "\n",
    "## PycoSAT\n",
    "\n",
    "On ne sait pas aujourd'hui s'il existe un algorithme polynômial (_ie_ s'executant en temps raisonnable) pour résoudre $\\mathbf{SAT}$. Cependant ce problème, bien qu'abstrait et théorique, est central en informatique ;  et on peut résoudre beaucoup de problèmes (qui paraissent pourtant complétement différents) en les traduisant en des formules logiques.\n",
    "On verra partie 2 l'exemple du Sudoku, mais bien d'autres [problèmes](https://fr.wikipedia.org/wiki/Liste_de_probl%C3%A8mes_NP-complets)  (3-coloration, emplois du temps ...) pourraient être ainsi résolus <a name=\"cite_ref-3\"></a>[<sup>[3]</sup>](#cite_note-3) grâce à $\\mathbf{SAT}$ (plus précisément à $\\mathbf{3-SAT}$, qui [sert de référence](https://fr.wikipedia.org/wiki/Probl%C3%A8me_3-SAT) pour la [$\\mathbf{NP}$-complétude](https://fr.wikipedia.org/wiki/Probl%C3%A8me_NP-complet))\n",
    "\n",
    "\n",
    "\n",
    "\n",
    "\n",
    "<a name=\"cite_note-3\"></a>3. [^](#cite_ref-3) les problèmes polynomiaux peuvent aussi être résolu par $\\mathbf{SAT}$, ce n'est cependant pas pertinent pusiqu'ils sont justement polynomiaux tandis que $\\mathbf{SAT}$ peut être exponentiel (sauf si $\\mathbf{P} = \\mathbf{NP})$\n",
    "\n",
    "*********"
   ]
  },
  {
   "cell_type": "markdown",
   "metadata": {},
   "source": [
    "\n",
    "En raison de cette importance, de nombreuses personnes cherchent à optimiser la résolution de formule, en créant des [SAT-Solver](https://en.wikipedia.org/wiki/SAT_solver) les plus efficaces possibles.\n",
    "\n",
    "Dans ce TP, nous allons utiliser **pycosat**\n",
    "https://pypi.org/project/pycosat/\n",
    "\n",
    "La syntaxe de pycosat est légérement différente de la notre, comme le montre l'exemple suivant :\n"
   ]
  },
  {
   "cell_type": "code",
   "execution_count": 59,
   "metadata": {},
   "outputs": [
    {
     "data": {
      "text/plain": [
       "[1, -2, -3, -4, 5]"
      ]
     },
     "execution_count": 59,
     "metadata": {},
     "output_type": "execute_result"
    }
   ],
   "source": [
    "cnf = [[1, -5, 4], [-1, 5, 3, 4], [-3, -4]]\n",
    "pycosat.solve(cnf)"
   ]
  },
  {
   "cell_type": "markdown",
   "metadata": {},
   "source": [
    "`[1, -2, -3, -4, 5]` est une solution possible trouvée par pycosat. Elle équivaut à un $[1,0,0,0,1]$ avec notre notation."
   ]
  },
  {
   "cell_type": "markdown",
   "metadata": {},
   "source": [
    "Ce qui signifie \n",
    "$x_1  = \\top ; x_2 = x_3 = x_4 = \\bot $ et $x_5 = \\top$\n",
    "\n",
    "Dans notre formule\n",
    "\n",
    "$(x_1 \\vee \\neg x_5 \\vee x_4) \\wedge (\\neg x_1 \\vee  x_5 \\vee x_3 \\vee x_4) \\wedge (\\neg x_3 \\vee \\neg x_4)$ \n",
    "\n",
    "on a donc \n",
    "\n",
    "$(\\top \\vee \\neg \\top \\vee \\bot) \\wedge (\\neg \\top \\vee  \\top \\vee \\bot\\vee \\bot) \\wedge (\\neg \\bot \\vee \\neg \\bot)$ \n",
    "\n",
    "soit \n",
    "\\begin{align*}\n",
    "(\\top \\vee \\bot \\vee \\bot) \\wedge ( \\bot  \\vee  \\top \\vee \\bot\\vee \\bot) \\wedge (\\top \\vee \\top) \\\\\n",
    "= \\top \\wedge \\top \\wedge \\top \\\\\n",
    "= \\top\n",
    "\\end{align*}\n",
    "\n",
    "La solution est donc valide.\n",
    "Cependant on ne retrouve pas notre solution brute-force\n",
    "$x_1  = x_2 = x_3 = x_4 = x_5 = \\bot $.\n",
    "\n",
    "**Pycosat** nous propose toutefois d'énumérer toutes les solutions :"
   ]
  },
  {
   "cell_type": "code",
   "execution_count": 19,
   "metadata": {},
   "outputs": [
    {
     "name": "stdout",
     "output_type": "stream",
     "text": [
      "[1, -2, -3, -4, 5]\n",
      "[1, -2, -3, 4, -5]\n",
      "[1, -2, -3, 4, 5]\n",
      "[1, -2, 3, -4, -5]\n",
      "[1, -2, 3, -4, 5]\n",
      "[1, 2, 3, -4, -5]\n",
      "[1, 2, 3, -4, 5]\n",
      "[1, 2, -3, -4, 5]\n",
      "[1, 2, -3, 4, -5]\n",
      "[1, 2, -3, 4, 5]\n",
      "[-1, 2, -3, 4, -5]\n",
      "[-1, 2, -3, 4, 5]\n",
      "[-1, 2, -3, -4, -5]\n",
      "[-1, 2, 3, -4, -5]\n",
      "[-1, -2, 3, -4, -5]\n",
      "[-1, -2, -3, -4, -5]\n",
      "[-1, -2, -3, 4, 5]\n",
      "[-1, -2, -3, 4, -5]\n"
     ]
    }
   ],
   "source": [
    "for sol in pycosat.itersolve(cnf):\n",
    "    print(sol)"
   ]
  },
  {
   "cell_type": "markdown",
   "metadata": {},
   "source": [
    "On retrouve bien $x_1  = x_2 = x_3 = x_4 = x_5 = \\bot $ qui correspond à <tt>[-1,-2,-3,-4,-5] </tt> ($[0,0,0,0,0]$ avec notre syntaxe)"
   ]
  },
  {
   "cell_type": "markdown",
   "metadata": {},
   "source": [
    "*********\n",
    "\n",
    "\n",
    "\n",
    "\n",
    "# Sudoku -- Shidoku\n",
    "\n",
    "On va maintenant essayer de résoudre un problème \"plus concret\".\n",
    "\n",
    "Le problème général (sur une grille $n\\times n$) du sudoku est $\\mathbf{NP}$-complet, on ne connait pas d'algorithme efficace pour le résoudre.\n",
    "Une approche classique de résolution est le _backtracking_, nous allons de nôtre côté utiliser pycosat.\n",
    "\n",
    "Pour simplifier le TP, on commencera par la version $4 \\times 4$ du sudoku (aussi appelé shidoku)\n",
    "\n",
    "On se donne quelques grilles d'exemple (vous pouvez créer les vôtres)."
   ]
  },
  {
   "cell_type": "code",
   "execution_count": 20,
   "metadata": {},
   "outputs": [
    {
     "name": "stdout",
     "output_type": "stream",
     "text": [
      "[0, 0, 0, 0]\n",
      "[3, 0, 2, 0]\n",
      "[0, 0, 0, 0]\n",
      "[4, 0, 0, 1]\n"
     ]
    }
   ],
   "source": [
    "\n",
    "# Exemple de grille de Shidoku (0 représente une case vide)\n",
    "# https://masteringsudoku.com/shidoku/\n",
    "easy = [\n",
    "    [ 0, 0, 0, 0],\n",
    "    [ 3, 0, 2, 0],\n",
    "    [ 0, 0, 0, 0],\n",
    "    [ 4, 0, 0, 1],\n",
    "]\n",
    "medium = [\n",
    "    [ 1, 0, 0, 0],\n",
    "    [ 0, 2, 0, 0],\n",
    "    [ 0, 0, 3, 0],\n",
    "    [ 0, 0, 0, 4],\n",
    "]\n",
    "\n",
    "hard =[\n",
    "    [ 0, 0, 0, 0],\n",
    "    [ 0, 3, 2, 0],\n",
    "    [ 0, 1, 4, 0],\n",
    "    [ 0, 0, 0, 0],\n",
    "]\n",
    "# Exemple de grille de Shidoku (0 représente une case vide)\n",
    "blank = [\n",
    "    [ 0, 0, 0, 0],\n",
    "    [ 0, 0, 0, 0],\n",
    "    [ 0, 0, 0, 0],\n",
    "    [ 0, 0, 0, 0],\n",
    "]\n",
    "\n",
    "def show_board(board):\n",
    "    for row in board:\n",
    "        print(row)\n",
    "        \n",
    "        \n",
    "show_board(easy)"
   ]
  },
  {
   "cell_type": "markdown",
   "metadata": {},
   "source": [
    "On va encoder une grille de la manière suivante : \n",
    "\n",
    "Dans ce problème, les variable $v_{(i,j,d)}$ signifie \"la cellule ligne $i$ colonne $j$ contient le chiffre $d$\".\n",
    "\n",
    "Ainsi, la variable $v_{(1,3,2)}$ signifie \"La cellule à la ligne 1 et colonne 3 contient un 2\"\n",
    "\n",
    "et $\\neg v_{(1,3,2)}$ signifie évidemment \"La cellule à la ligne 1 et colonne 3 ne contient pas un 2\"\n",
    "\n",
    "Malheureusement c'est une représentation $3$D (une variable est désignée par 3 nombres i, j, d), et nos CNF sont $1$D (un nombre désigne une variable). La fonction `x(i,j,d)` permet donc de faire une transformation 3D vers 1D\n",
    "\n",
    "$v_{(i,j,d)} \\leadsto v_{16*(i-1) + 4*(j-1) + d}$\n",
    "\n",
    "Par exemple $v_{2,1,3}$ signifie que la case située en ligne $2$, colonne $1$ contient le chiffre $3$ (comme c'est le cas dans la grille <tt>easy</tt>). Cela se traduit par la variable $x_{16*(i-1) + 4*(j-1) + d} = x_{16*(2-1) + 4*(1-1) + d} = x_{19}$.\n",
    "\n",
    "On obtient ainsi une réprésentation unique pour le placement de chaque chiffre dans chaque case.\n",
    "\n",
    "Evidemment, vous utiliserez la notation $v(i,j,d)$, beaucoup plus lisible.\n",
    "\n",
    "\n"
   ]
  },
  {
   "cell_type": "code",
   "execution_count": 21,
   "metadata": {},
   "outputs": [],
   "source": [
    "#variable \"the cell i,j contains digit d\"\n",
    "#example:  19 <-> v_{16*(2-1) + 4*(1-1) + 3} means the cell at row 2 and column 1 contains a 3\n",
    "\n",
    "def v(i, j, d): \n",
    "    return 16 * (i - 1) + 4 * (j - 1) + d\n",
    "\n"
   ]
  },
  {
   "cell_type": "markdown",
   "metadata": {},
   "source": [
    "Les fonctions suivantes permettent de transformer la solution du SAT-solver en chiffres à ajouter dans le shidoku."
   ]
  },
  {
   "cell_type": "code",
   "execution_count": 23,
   "metadata": {},
   "outputs": [],
   "source": [
    "def read_cell(sol,i, j):\n",
    "    # return the digit of cell i, j according to the solution\n",
    "    for d in range(1, 5):\n",
    "        if v(i, j, d) in sol: #variable found -> v_{i,j,d} = True. Otherwise -v_{i,j,d} would be found\n",
    "            return d\n",
    "\n",
    "#puis on remplit la grille        \n",
    "        \n",
    "def fill_board(sol):\n",
    "    grid=blank    \n",
    "    for i in range(1, 5):\n",
    "        for j in range(1, 5):\n",
    "            grid[i - 1][j - 1] = read_cell(sol,i, j)\n",
    "    return grid"
   ]
  },
  {
   "cell_type": "markdown",
   "metadata": {},
   "source": [
    "**_question 7_**\n",
    "\n",
    "On donne une fonction <tt> clause </tt> qui interdit aux cases stockée dans <tt>cells</tt> de contenir le même chiffre\n",
    "\n",
    "Utiliser cette fonction pour créer une fonction <tt>shidoku_clauses()</tt> correspondant aux règles du Shidoku."
   ]
  },
  {
   "cell_type": "code",
   "execution_count": 29,
   "metadata": {},
   "outputs": [
    {
     "data": {
      "text/plain": [
       "[[-1, -25],\n",
       " [-2, -26],\n",
       " [-3, -27],\n",
       " [-4, -28],\n",
       " [-1, -49],\n",
       " [-2, -50],\n",
       " [-3, -51],\n",
       " [-4, -52],\n",
       " [-25, -49],\n",
       " [-26, -50],\n",
       " [-27, -51],\n",
       " [-28, -52]]"
      ]
     },
     "execution_count": 29,
     "metadata": {},
     "output_type": "execute_result"
    }
   ],
   "source": [
    "        \n",
    "def clause_forbidSameValues(res,cells):\n",
    "    #verify that each cell in res has a different colour\n",
    "    for i, xi in enumerate(cells):\n",
    "        for j, xj in enumerate(cells):\n",
    "            if i < j:\n",
    "                for d in range(1, 5):\n",
    "                    res.append([-v(xi[0], xi[1], d), -v(xj[0], xj[1], d)])\n",
    "    return res\n",
    "#exemple\n",
    "clause_forbidSameValues([],[(1,1),(2,3),(4,1)])\n",
    "#les cases (1,1) (2,3) et (4,1) n'ont pas le droit de contenir pas le même chiffre"
   ]
  },
  {
   "cell_type": "code",
   "execution_count": 28,
   "metadata": {},
   "outputs": [],
   "source": [
    "#règles globales du shidoku\n",
    "def shidoku_clauses(): \n",
    "    res = []\n",
    "    # for all cells, ensure that each cell contains exactly one digit:\n",
    "\n",
    "\n",
    "   \n",
    "    # ensure rows and columns have distinct values\n",
    "\n",
    "    # ensure 2x2 sub-grids \"regions\" have distinct values\n",
    "    \n",
    "    \n",
    "    return res\n",
    "\n",
    "#ajoute les contraintes de la grille préremplie\n",
    "def gridToCNF(grid=blank):\n",
    "    #turns a grid into a CNF\n",
    "    clauses = shidoku_clauses()\n",
    "    \n",
    "    return clauses"
   ]
  },
  {
   "cell_type": "markdown",
   "metadata": {},
   "source": [
    "**_question 8_**\n",
    "\n",
    "Utiliser **pycosat** pour résoudre le shidoku."
   ]
  },
  {
   "cell_type": "code",
   "execution_count": 30,
   "metadata": {},
   "outputs": [
    {
     "name": "stdout",
     "output_type": "stream",
     "text": [
      "[0, 0, 0, 0]\n",
      "[3, 0, 2, 0]\n",
      "[0, 0, 0, 0]\n",
      "[4, 0, 0, 1]\n",
      "P CNF 500(number of clauses)\n",
      "Time: 0.0\n",
      "[2, 4, 1, 3]\n",
      "[3, 1, 2, 4]\n",
      "[1, 3, 4, 2]\n",
      "[4, 2, 3, 1]\n"
     ]
    }
   ],
   "source": [
    "def solve(grid=blank):\n",
    "\n",
    "\n",
    "    return grid\n",
    "\n",
    "\n",
    "show_board(easy)\n",
    "show_board(solve(easy))"
   ]
  }
 ],
 "metadata": {
  "kernelspec": {
   "display_name": "Python 3 (ipykernel)",
   "language": "python",
   "name": "python3"
  },
  "language_info": {
   "codemirror_mode": {
    "name": "ipython",
    "version": 3
   },
   "file_extension": ".py",
   "mimetype": "text/x-python",
   "name": "python",
   "nbconvert_exporter": "python",
   "pygments_lexer": "ipython3",
   "version": "3.12.0"
  }
 },
 "nbformat": 4,
 "nbformat_minor": 4
}
