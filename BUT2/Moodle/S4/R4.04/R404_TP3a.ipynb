{
 "cells": [
  {
   "cell_type": "markdown",
   "metadata": {},
   "source": [
    "# <center> R1.04 Méthodes d'optimisation <br> TP3a - Interpolation polynomiale : Introduction </center>\n",
    "<center> 2022/2023 - Thibault Godin & Lucie Naert </center>\n",
    "<center> IUT de Vannes, BUT Informatique </center>"
   ]
  },
  {
   "cell_type": "markdown",
   "metadata": {},
   "source": [
    "Le but de ce TP est d'apprehénder le concept d'interpolation polynomiale.\n",
    "Le TP suivant sera consacré à une application, le _partage de secret_\n",
    "\n"
   ]
  },
  {
   "cell_type": "code",
   "execution_count": 2,
   "metadata": {},
   "outputs": [],
   "source": [
    "import numpy as np\n",
    "\n",
    "\n",
    "# Affichage graphique\n",
    "\n",
    "#%matplotlib notebook \n",
    "# enable interactivity of plots\n",
    "# attention a bien fermer les fenetres plt après chaque visualisalisation\n",
    "\n",
    "%matplotlib inline\n",
    "\n",
    "\n",
    "import matplotlib.pyplot as plt\n",
    "from mpl_toolkits.mplot3d import Axes3D \n",
    "import matplotlib.colors as mcolors\n",
    "\n",
    "names_col = list(mcolors.XKCD_COLORS)\n",
    "cycle = plt.rcParams['axes.prop_cycle'].by_key()['color']\n",
    "\n",
    "\n",
    "import time\n",
    "\n"
   ]
  },
  {
   "cell_type": "markdown",
   "metadata": {},
   "source": [
    "##### L'idée de base derière l'interpolation est la suivante :\n",
    "\n",
    "on observe $n$ points $(x_1,y_1), ..., (x_n,y_n)$ de $\\mathbb{R}^2$ ;\n",
    "\n",
    "on suppose que ces points représentent les observation d'une fonction (inconnue) $f : \\mathbb{R} \\to \\mathbb{R}$\n",
    "\n",
    "\n",
    "On souhaite approcher $f$ par un polynôme de degré max $n-1$. \n",
    "\n",
    "Ce degré est le plus bas possible, en effet on a  \n",
    "\n",
    "\n",
    "<div class=\"alert alert-block alert-info\"><b>Théorème</b> \n",
    "Soient $n$ points de points de $\\mathbb{R}^2$ $(x_1,y_1), ..., (x_n,y_n)$\n",
    "\n",
    "    \n",
    "Alors il existe un unique polynôme de degré $n-1$ $P_{(x_1,y_1), ..., (x_n,y_n)}$ tel que $P_{(x_1,y_1), ..., (x_n,y_n)}(x_i) = y_i$ pour tout $0 \\le i\\le n$\n",
    "   \n",
    "</div>\n",
    "\n",
    "Ce théorème est la généralisation du principe que vous connaissez depuis le collège : il existe une unique droite (polynôme de degré 1) passant par 2 points donnés.\n",
    "\n",
    "\n",
    "\n",
    "Dans toute la suite du TP on considère que les points $(x_1,y_1), ..., (x_n,y_n)$ sont fixés"
   ]
  },
  {
   "cell_type": "code",
   "execution_count": 3,
   "metadata": {},
   "outputs": [
    {
     "name": "stdout",
     "output_type": "stream",
     "text": [
      "[0, 2, 3, 4, 4.5] [  6.           1.92506768 -14.88453084 -30.68773248 -13.97523315]\n"
     ]
    },
    {
     "data": {
      "text/plain": [
       "<matplotlib.collections.PathCollection at 0x14f1feef9d0>"
      ]
     },
     "execution_count": 3,
     "metadata": {},
     "output_type": "execute_result"
    },
    {
     "data": {
      "image/png": "[encoded data removed]",
      "text/plain": [
       "<Figure size 432x288 with 1 Axes>"
      ]
     },
     "metadata": {
      "needs_background": "light"
     },
     "output_type": "display_data"
    }
   ],
   "source": [
    "def f(x):\n",
    "    \n",
    "    return np.exp(x)*np.cos(x)+5\n",
    "\n",
    "###Données\n",
    "X=[0,2,3,4,4.5]\n",
    "Y=f(X)\n",
    "\n",
    "\n",
    "print(X,Y)\n",
    "\n",
    "#tracé\n",
    "\n",
    "xcont=np.linspace(-.25,4.75,500)\n",
    "ycont=f(xcont)\n",
    "\n",
    "plt.plot(xcont,ycont, color='blue')\n",
    "plt.scatter(X,Y, color='blue')\n",
    "\n"
   ]
  },
  {
   "cell_type": "markdown",
   "metadata": {},
   "source": [
    "## Polynomes de Lagrange\n",
    "\n",
    "\n",
    "Posons \n",
    "\n",
    "$l_i(x) = y_i \\times \\prod_{j=0, j\\neq i}^n\\frac{x-x_j}{x_i-x_j} = y_i \\times \\frac{x-x_0}{x_i-x_0} \\cdots \\frac{x-x_{i-1}}{x_i-x_{i-1}} ~ \\frac{x-x_{i+1}}{x_i-x_{i+1}} \\cdots \\frac{x-x_n}{x_i-x_n} $\n",
    "\n",
    "le $i$ème  polynôme de Lagrange et\n",
    "\n",
    "$L(x)=\\sum_i l_i(x) = l_1(x) + l_2(x) + \\cdots + l_n(x)$\n",
    "\n",
    "\n",
    "**question 1**\n",
    "Calculer $l_1(x_1)$ et $l_1(x_2)$. Généraliser à $l_i(x_j)$\n",
    "\n"
   ]
  },
  {
   "cell_type": "markdown",
   "metadata": {},
   "source": [
    "#todo\n"
   ]
  },
  {
   "cell_type": "markdown",
   "metadata": {},
   "source": [
    "**question 2**\n",
    "\n",
    "1. Définir une fonction `pol_li(varX,i,X,Y)` qui calcule $l_i(varX)$ sachant que `X` est le vecteur des $x_i$ et `Y` le vecteur des $y_i$ \n",
    "1. Définir une fonction `pol_Lagrange(varX,X,Y)` qui calcule $L(varX)$"
   ]
  },
  {
   "cell_type": "code",
   "execution_count": 4,
   "metadata": {},
   "outputs": [
    {
     "name": "stdout",
     "output_type": "stream",
     "text": [
      "1 1\n"
     ]
    }
   ],
   "source": [
    "def pol_li(varX,i,X,Y):\n",
    "    #todo\n",
    "    return 1\n",
    "\n",
    "\n",
    "print(pol_li(X[0],0,X,Y),pol_li(X[1],0,X,Y))\n",
    "\n",
    "def pol_Lagrange(varX,X,Y):\n",
    "    #todo\n",
    "    return 1\n",
    "\n",
    "\n"
   ]
  },
  {
   "cell_type": "code",
   "execution_count": 5,
   "metadata": {},
   "outputs": [
    {
     "ename": "ValueError",
     "evalue": "x and y must have same first dimension, but have shapes (500,) and (1,)",
     "output_type": "error",
     "traceback": [
      "\u001b[1;31m---------------------------------------------------------------------------\u001b[0m",
      "\u001b[1;31mValueError\u001b[0m                                Traceback (most recent call last)",
      "\u001b[1;32m<ipython-input-5-0aa7b6944996>\u001b[0m in \u001b[0;36m<module>\u001b[1;34m\u001b[0m\n\u001b[0;32m     15\u001b[0m \u001b[0mi\u001b[0m \u001b[1;33m=\u001b[0m \u001b[1;36m2\u001b[0m\u001b[1;33m\u001b[0m\u001b[1;33m\u001b[0m\u001b[0m\n\u001b[0;32m     16\u001b[0m \u001b[0mlegend\u001b[0m \u001b[1;33m=\u001b[0m \u001b[1;34m\"l\"\u001b[0m \u001b[1;33m+\u001b[0m\u001b[0mstr\u001b[0m\u001b[1;33m(\u001b[0m\u001b[0mi\u001b[0m\u001b[1;33m)\u001b[0m\u001b[1;33m\u001b[0m\u001b[1;33m\u001b[0m\u001b[0m\n\u001b[1;32m---> 17\u001b[1;33m \u001b[0mplt\u001b[0m\u001b[1;33m.\u001b[0m\u001b[0mplot\u001b[0m\u001b[1;33m(\u001b[0m\u001b[0mxcont\u001b[0m\u001b[1;33m,\u001b[0m\u001b[0mpol_li\u001b[0m\u001b[1;33m(\u001b[0m\u001b[0mxcont\u001b[0m\u001b[1;33m,\u001b[0m\u001b[0mi\u001b[0m\u001b[1;33m,\u001b[0m\u001b[0mX\u001b[0m\u001b[1;33m,\u001b[0m\u001b[0mY\u001b[0m\u001b[1;33m)\u001b[0m\u001b[1;33m,\u001b[0m \u001b[0mlabel\u001b[0m \u001b[1;33m=\u001b[0m \u001b[0mlegend\u001b[0m\u001b[1;33m,\u001b[0m\u001b[0mcolor\u001b[0m\u001b[1;33m=\u001b[0m\u001b[0mnames_col\u001b[0m\u001b[1;33m[\u001b[0m\u001b[0mi\u001b[0m\u001b[1;33m]\u001b[0m\u001b[1;33m)\u001b[0m\u001b[1;33m\u001b[0m\u001b[1;33m\u001b[0m\u001b[0m\n\u001b[0m\u001b[0;32m     18\u001b[0m \u001b[0mplt\u001b[0m\u001b[1;33m.\u001b[0m\u001b[0mplot\u001b[0m\u001b[1;33m(\u001b[0m\u001b[0mxcont\u001b[0m\u001b[1;33m,\u001b[0m\u001b[0mpol_Lagrange\u001b[0m\u001b[1;33m(\u001b[0m\u001b[0mxcont\u001b[0m\u001b[1;33m,\u001b[0m\u001b[0mX\u001b[0m\u001b[1;33m,\u001b[0m\u001b[0mY\u001b[0m\u001b[1;33m)\u001b[0m\u001b[1;33m,\u001b[0m \u001b[0mlabel\u001b[0m \u001b[1;33m=\u001b[0m \u001b[1;34m\"Polynome de Lagrange\"\u001b[0m\u001b[1;33m,\u001b[0m \u001b[0mcolor\u001b[0m\u001b[1;33m=\u001b[0m\u001b[1;34m'red'\u001b[0m\u001b[1;33m)\u001b[0m\u001b[1;33m\u001b[0m\u001b[1;33m\u001b[0m\u001b[0m\n\u001b[0;32m     19\u001b[0m \u001b[0mplt\u001b[0m\u001b[1;33m.\u001b[0m\u001b[0mlegend\u001b[0m\u001b[1;33m(\u001b[0m\u001b[0mloc\u001b[0m\u001b[1;33m=\u001b[0m\u001b[1;34m'center left'\u001b[0m\u001b[1;33m,\u001b[0m \u001b[0mbbox_to_anchor\u001b[0m\u001b[1;33m=\u001b[0m\u001b[1;33m(\u001b[0m\u001b[1;36m1\u001b[0m\u001b[1;33m,\u001b[0m \u001b[1;36m0.5\u001b[0m\u001b[1;33m)\u001b[0m\u001b[1;33m)\u001b[0m\u001b[1;33m\u001b[0m\u001b[1;33m\u001b[0m\u001b[0m\n",
      "\u001b[1;32m~\\anaconda3\\lib\\site-packages\\matplotlib\\pyplot.py\u001b[0m in \u001b[0;36mplot\u001b[1;34m(scalex, scaley, data, *args, **kwargs)\u001b[0m\n\u001b[0;32m   2838\u001b[0m \u001b[1;33m@\u001b[0m\u001b[0m_copy_docstring_and_deprecators\u001b[0m\u001b[1;33m(\u001b[0m\u001b[0mAxes\u001b[0m\u001b[1;33m.\u001b[0m\u001b[0mplot\u001b[0m\u001b[1;33m)\u001b[0m\u001b[1;33m\u001b[0m\u001b[1;33m\u001b[0m\u001b[0m\n\u001b[0;32m   2839\u001b[0m \u001b[1;32mdef\u001b[0m \u001b[0mplot\u001b[0m\u001b[1;33m(\u001b[0m\u001b[1;33m*\u001b[0m\u001b[0margs\u001b[0m\u001b[1;33m,\u001b[0m \u001b[0mscalex\u001b[0m\u001b[1;33m=\u001b[0m\u001b[1;32mTrue\u001b[0m\u001b[1;33m,\u001b[0m \u001b[0mscaley\u001b[0m\u001b[1;33m=\u001b[0m\u001b[1;32mTrue\u001b[0m\u001b[1;33m,\u001b[0m \u001b[0mdata\u001b[0m\u001b[1;33m=\u001b[0m\u001b[1;32mNone\u001b[0m\u001b[1;33m,\u001b[0m \u001b[1;33m**\u001b[0m\u001b[0mkwargs\u001b[0m\u001b[1;33m)\u001b[0m\u001b[1;33m:\u001b[0m\u001b[1;33m\u001b[0m\u001b[1;33m\u001b[0m\u001b[0m\n\u001b[1;32m-> 2840\u001b[1;33m     return gca().plot(\n\u001b[0m\u001b[0;32m   2841\u001b[0m         \u001b[1;33m*\u001b[0m\u001b[0margs\u001b[0m\u001b[1;33m,\u001b[0m \u001b[0mscalex\u001b[0m\u001b[1;33m=\u001b[0m\u001b[0mscalex\u001b[0m\u001b[1;33m,\u001b[0m \u001b[0mscaley\u001b[0m\u001b[1;33m=\u001b[0m\u001b[0mscaley\u001b[0m\u001b[1;33m,\u001b[0m\u001b[1;33m\u001b[0m\u001b[1;33m\u001b[0m\u001b[0m\n\u001b[0;32m   2842\u001b[0m         **({\"data\": data} if data is not None else {}), **kwargs)\n",
      "\u001b[1;32m~\\anaconda3\\lib\\site-packages\\matplotlib\\axes\\_axes.py\u001b[0m in \u001b[0;36mplot\u001b[1;34m(self, scalex, scaley, data, *args, **kwargs)\u001b[0m\n\u001b[0;32m   1741\u001b[0m         \"\"\"\n\u001b[0;32m   1742\u001b[0m         \u001b[0mkwargs\u001b[0m \u001b[1;33m=\u001b[0m \u001b[0mcbook\u001b[0m\u001b[1;33m.\u001b[0m\u001b[0mnormalize_kwargs\u001b[0m\u001b[1;33m(\u001b[0m\u001b[0mkwargs\u001b[0m\u001b[1;33m,\u001b[0m \u001b[0mmlines\u001b[0m\u001b[1;33m.\u001b[0m\u001b[0mLine2D\u001b[0m\u001b[1;33m)\u001b[0m\u001b[1;33m\u001b[0m\u001b[1;33m\u001b[0m\u001b[0m\n\u001b[1;32m-> 1743\u001b[1;33m         \u001b[0mlines\u001b[0m \u001b[1;33m=\u001b[0m \u001b[1;33m[\u001b[0m\u001b[1;33m*\u001b[0m\u001b[0mself\u001b[0m\u001b[1;33m.\u001b[0m\u001b[0m_get_lines\u001b[0m\u001b[1;33m(\u001b[0m\u001b[1;33m*\u001b[0m\u001b[0margs\u001b[0m\u001b[1;33m,\u001b[0m \u001b[0mdata\u001b[0m\u001b[1;33m=\u001b[0m\u001b[0mdata\u001b[0m\u001b[1;33m,\u001b[0m \u001b[1;33m**\u001b[0m\u001b[0mkwargs\u001b[0m\u001b[1;33m)\u001b[0m\u001b[1;33m]\u001b[0m\u001b[1;33m\u001b[0m\u001b[1;33m\u001b[0m\u001b[0m\n\u001b[0m\u001b[0;32m   1744\u001b[0m         \u001b[1;32mfor\u001b[0m \u001b[0mline\u001b[0m \u001b[1;32min\u001b[0m \u001b[0mlines\u001b[0m\u001b[1;33m:\u001b[0m\u001b[1;33m\u001b[0m\u001b[1;33m\u001b[0m\u001b[0m\n\u001b[0;32m   1745\u001b[0m             \u001b[0mself\u001b[0m\u001b[1;33m.\u001b[0m\u001b[0madd_line\u001b[0m\u001b[1;33m(\u001b[0m\u001b[0mline\u001b[0m\u001b[1;33m)\u001b[0m\u001b[1;33m\u001b[0m\u001b[1;33m\u001b[0m\u001b[0m\n",
      "\u001b[1;32m~\\anaconda3\\lib\\site-packages\\matplotlib\\axes\\_base.py\u001b[0m in \u001b[0;36m__call__\u001b[1;34m(self, data, *args, **kwargs)\u001b[0m\n\u001b[0;32m    271\u001b[0m                 \u001b[0mthis\u001b[0m \u001b[1;33m+=\u001b[0m \u001b[0margs\u001b[0m\u001b[1;33m[\u001b[0m\u001b[1;36m0\u001b[0m\u001b[1;33m]\u001b[0m\u001b[1;33m,\u001b[0m\u001b[1;33m\u001b[0m\u001b[1;33m\u001b[0m\u001b[0m\n\u001b[0;32m    272\u001b[0m                 \u001b[0margs\u001b[0m \u001b[1;33m=\u001b[0m \u001b[0margs\u001b[0m\u001b[1;33m[\u001b[0m\u001b[1;36m1\u001b[0m\u001b[1;33m:\u001b[0m\u001b[1;33m]\u001b[0m\u001b[1;33m\u001b[0m\u001b[1;33m\u001b[0m\u001b[0m\n\u001b[1;32m--> 273\u001b[1;33m             \u001b[1;32myield\u001b[0m \u001b[1;32mfrom\u001b[0m \u001b[0mself\u001b[0m\u001b[1;33m.\u001b[0m\u001b[0m_plot_args\u001b[0m\u001b[1;33m(\u001b[0m\u001b[0mthis\u001b[0m\u001b[1;33m,\u001b[0m \u001b[0mkwargs\u001b[0m\u001b[1;33m)\u001b[0m\u001b[1;33m\u001b[0m\u001b[1;33m\u001b[0m\u001b[0m\n\u001b[0m\u001b[0;32m    274\u001b[0m \u001b[1;33m\u001b[0m\u001b[0m\n\u001b[0;32m    275\u001b[0m     \u001b[1;32mdef\u001b[0m \u001b[0mget_next_color\u001b[0m\u001b[1;33m(\u001b[0m\u001b[0mself\u001b[0m\u001b[1;33m)\u001b[0m\u001b[1;33m:\u001b[0m\u001b[1;33m\u001b[0m\u001b[1;33m\u001b[0m\u001b[0m\n",
      "\u001b[1;32m~\\anaconda3\\lib\\site-packages\\matplotlib\\axes\\_base.py\u001b[0m in \u001b[0;36m_plot_args\u001b[1;34m(self, tup, kwargs)\u001b[0m\n\u001b[0;32m    397\u001b[0m \u001b[1;33m\u001b[0m\u001b[0m\n\u001b[0;32m    398\u001b[0m         \u001b[1;32mif\u001b[0m \u001b[0mx\u001b[0m\u001b[1;33m.\u001b[0m\u001b[0mshape\u001b[0m\u001b[1;33m[\u001b[0m\u001b[1;36m0\u001b[0m\u001b[1;33m]\u001b[0m \u001b[1;33m!=\u001b[0m \u001b[0my\u001b[0m\u001b[1;33m.\u001b[0m\u001b[0mshape\u001b[0m\u001b[1;33m[\u001b[0m\u001b[1;36m0\u001b[0m\u001b[1;33m]\u001b[0m\u001b[1;33m:\u001b[0m\u001b[1;33m\u001b[0m\u001b[1;33m\u001b[0m\u001b[0m\n\u001b[1;32m--> 399\u001b[1;33m             raise ValueError(f\"x and y must have same first dimension, but \"\n\u001b[0m\u001b[0;32m    400\u001b[0m                              f\"have shapes {x.shape} and {y.shape}\")\n\u001b[0;32m    401\u001b[0m         \u001b[1;32mif\u001b[0m \u001b[0mx\u001b[0m\u001b[1;33m.\u001b[0m\u001b[0mndim\u001b[0m \u001b[1;33m>\u001b[0m \u001b[1;36m2\u001b[0m \u001b[1;32mor\u001b[0m \u001b[0my\u001b[0m\u001b[1;33m.\u001b[0m\u001b[0mndim\u001b[0m \u001b[1;33m>\u001b[0m \u001b[1;36m2\u001b[0m\u001b[1;33m:\u001b[0m\u001b[1;33m\u001b[0m\u001b[1;33m\u001b[0m\u001b[0m\n",
      "\u001b[1;31mValueError\u001b[0m: x and y must have same first dimension, but have shapes (500,) and (1,)"
     ]
    },
    {
     "data": {
      "image/png": "[encoded data removed]",
      "text/plain": [
       "<Figure size 432x288 with 1 Axes>"
      ]
     },
     "metadata": {
      "needs_background": "light"
     },
     "output_type": "display_data"
    }
   ],
   "source": [
    "#tracé\n",
    "\n",
    "\n",
    "plt.plot(xcont,ycont, color='blue')\n",
    "plt.scatter(X,Y, color='blue')\n",
    "\n",
    "\n",
    "n=len(X)\n",
    "\n",
    "\n",
    "#for i in range(n):\n",
    "#    legend = \"l\" +str(i)\n",
    "#    plt.plot(xcont,pol_li(xcont,i,X,Y), label = legend, color=names_col[i])\n",
    "\n",
    "i = 2\n",
    "legend = \"l\" +str(i)\n",
    "plt.plot(xcont,pol_li(xcont,i,X,Y), label = legend,color=names_col[i])    \n",
    "plt.plot(xcont,pol_Lagrange(xcont,X,Y), label = \"Polynome de Lagrange\", color='red')\n",
    "plt.legend(loc='center left', bbox_to_anchor=(1, 0.5))\n",
    "plt.xlabel('x')\n",
    "plt.ylabel('y')\n",
    "plt.axhline(y=0, color='k', linewidth = 1)\n",
    "plt.show()"
   ]
  },
  {
   "cell_type": "markdown",
   "metadata": {},
   "source": [
    "## Algorithme de Newton"
   ]
  },
  {
   "cell_type": "markdown",
   "metadata": {},
   "source": [
    "La fonction retournant le polynôme de Lagrange que nous venons d'implémenter possède un défaut : si on rajoute un point à nos données, on doit tout recalculer. Si on a de nombreuses données évoluant au cours du temps, c'est un problème\n",
    "\n",
    "On va donc constuire ce polynôme d'une autre façon, recursivement à l'aide des différences divisées.\n",
    "\n",
    "Le polynôme d'interpolation de Newton $N(x)$\n",
    "associé à $k$ points $(x_1, y_1),\\ldots,(x_k, y_k)$ est défini par :\n",
    "\n",
    "\n",
    "$$N(x)=[y_1]+[y_1,y_2]n_1(x)+\\ldots+[y_1,\\ldots,y_k]n_{k-1}(x)$$\n",
    "\n",
    "Avec $n_j(x)$ le $j$-ème polynôme de Newton : $n_j(x)=\\prod_{1\\le i<j}(x-x_i)$ \n",
    "\n",
    "et $[y_1,...,y_j]$ les différences divisées, définies récursivement par\n",
    "$\\begin{cases}\n",
    "[y_{\\alpha}] &= y_{\\alpha} \\\\\n",
    "[y_{\\alpha},\\ldots,y_{\\alpha+j}] &= \\frac{[y_{\\alpha+1},\\ldots y_{\\alpha+j}] - [y_{\\alpha},\\ldots y_{\\alpha+j-1}]}{x_{\\alpha+j}-x_{\\alpha}}\n",
    "\\end{cases}$\n",
    "\n",
    "\n",
    "**question 3**\n",
    "\n",
    "1. Implémenter la fonction `pol_ni(varX,i,X,Y)` donnant le $i$-ème polynôme de Newton $n_i(varX)$.\n",
    "\n",
    "2. Implémenter la fonction `diffdiv(X,Y,i)` donnant la différence divisée $[y_1,...,y_{1+i}]$"
   ]
  },
  {
   "cell_type": "code",
   "execution_count": 5,
   "metadata": {},
   "outputs": [
    {
     "name": "stdout",
     "output_type": "stream",
     "text": [
      "[0, 2, 3, 4, 4.5] [  6.           1.92506768 -14.88453084 -30.68773248 -13.97523315]\n",
      "-4.924044121062649\n",
      "-4.924044121062649\n"
     ]
    },
    {
     "data": {
      "text/plain": [
       "[<matplotlib.lines.Line2D at 0x224a282f610>]"
      ]
     },
     "execution_count": 5,
     "metadata": {},
     "output_type": "execute_result"
    },
    {
     "data": {
      "image/png": "[encoded data removed]",
      "text/plain": [
       "<Figure size 432x288 with 1 Axes>"
      ]
     },
     "metadata": {
      "needs_background": "light"
     },
     "output_type": "display_data"
    }
   ],
   "source": [
    "def pol_ni(varX,i,X,Y):\n",
    "    #todo\n",
    "    return 1\n",
    "\n",
    "\n",
    "def diffdiv(X,Y,i):\n",
    "   #todo\n",
    "    return 1\n",
    "    \n",
    "print(X,Y)\n",
    "\n",
    "a=(Y[1]-Y[0]) / (X[1]-X[0])\n",
    "b=(Y[2]-Y[1]) / (X[2]-X[1])\n",
    "\n",
    "print((b-a)/(X[2]-X[0]))\n",
    "print(diffdiv(X,Y,2))\n",
    "\n",
    "plt.plot(xcont,pol_ni(xcont,3,X,Y), color='blue')"
   ]
  },
  {
   "cell_type": "markdown",
   "metadata": {},
   "source": [
    "\n",
    "    \n",
    "    \n",
    "**question 4**\n",
    "1. Ecrire une fonction `pol_Newton(varX,X,Y)` qui calcule le polynôme de Newton \n",
    "2. Observer graphiquement les résultats de l'interpolation.  \n",
    "    "
   ]
  },
  {
   "cell_type": "code",
   "execution_count": 6,
   "metadata": {},
   "outputs": [
    {
     "data": {
      "image/png": "[encoded data removed]",
      "text/plain": [
       "<Figure size 432x288 with 1 Axes>"
      ]
     },
     "metadata": {
      "needs_background": "light"
     },
     "output_type": "display_data"
    }
   ],
   "source": [
    "def pol_Newton(varX,X,Y):\n",
    "    #todo\n",
    "    return 1\n",
    "\n",
    "#tracé\n",
    "\n",
    "\n",
    "plt.plot(xcont,ycont,label = \"fonction de départ\", color='blue')\n",
    "plt.scatter(X,Y, color='blue')\n",
    "\n",
    "\n",
    "varX=xcont\n",
    "\n",
    "n=len(X)\n",
    "\n",
    "\n",
    "for i in range(2,n):\n",
    "    legend = \"pol de Newton avec \" +str(i)+\" points\"\n",
    "    plt.plot(xcont,pol_Newton(xcont,X[:i],Y[:i]), label = legend, color=names_col[i])\n",
    "\n",
    "#i = 3\n",
    "#legend = \"n\" +str(i)\n",
    "#plt.plot(xcont,pol_Newton(xcont,X[:i],Y[:i]),label = legend,color=names_col[i])    \n",
    "plt.plot(xcont,pol_Newton(xcont,X,Y), label = \"Polynome de Newton final\", color='red')\n",
    "plt.legend(loc='center left', bbox_to_anchor=(1, 0.5))\n",
    "plt.xlabel('x')\n",
    "plt.ylabel('y')\n",
    "plt.show()\n"
   ]
  },
  {
   "cell_type": "markdown",
   "metadata": {},
   "source": [
    "## Interpolation et regression\n",
    "\n",
    "Attention, l'interpolation n'est pas (forcément) un bon outil pour la prédiction pour les sciences des données :\n",
    "\n",
    "\n",
    "Premièrement l'interpolation demande de passer _exactement_ par les points\n",
    "En effet, même si l'on a un contrôle assez précis de l'erreur, donnée par les points $(x_1,y_1), ..., (x_n,y_n)$, ce qui est rarement souhaitable pour une modélisation : mieux vaut souvent une droite de regression pertinente mais ne passant par aucun point mais expliquant bien les données (coût des moindres carrés faible) plutôt qu'un polynôme de degré $n$ passant par tous les points exactement. Ce phénomène est appelé _overfitting_  en machine learning.\n",
    "\n",
    "\n",
    "\n",
    "Deuxièment, le polynôme interpolant n'est pas un bon outil de prédiction :\n",
    "\n",
    "\n",
    "<div class=\"alert alert-block alert-info\"><b>Proposition : erreur </b> \n",
    "    \n",
    "\n",
    "Si  $f$ est $n+1$ fois différentiable sur $ I = [\\min(x_i),\\max(x_i)]$,  alors :\n",
    "    $$\\exists\\xi \\in I\\quad f(x) - p_n(x) = \\frac{f^{(n+1)}(\\xi)}{(n+1)!} \\prod_{i=0}^n (x-x_i)$$\n",
    "\n",
    "</div>\n",
    "\n",
    "il convient de remarquer que\n",
    "\n",
    "- cette formule suppose que l'on connait bien $f$ (ce qui est toutefois souvent raisonnable)\n",
    "- elle n'est valable que sur  $ I = [\\min(x_i),\\max(x_i)]$, on ne peut donc pas extrapoler au delà\n",
    "- la valeur de $\\xi$ est inconnue, seule son existence est prouvée\n",
    "\n",
    "\n",
    "\n",
    "\n",
    "**question 5**\n",
    "\n",
    "illustrer ce phénomène avec la fonction $f : x \\mapsto \\sin(x)$"
   ]
  },
  {
   "cell_type": "code",
   "execution_count": 6,
   "metadata": {},
   "outputs": [],
   "source": [
    "def f(x):  \n",
    "    return np.sin(x)\n",
    "\n",
    "#todo"
   ]
  },
  {
   "cell_type": "markdown",
   "metadata": {},
   "source": [
    "### Extensions suggérées :\n",
    "\n",
    "\n",
    "#### explication des données et overfitting\n",
    "\n",
    "Une manière d'utiliser l'interpolation comme un outil (naïf et imparfait) d'apprentissage d'IA est de partager les données entre données d'entrainement et données de validation (train et test). Si l'erreur $\\sum_{test} (f(x_i) -y_i)^2 $ est faible alors on a un bon modèle.\n",
    "\n",
    "Illustrer ce principe sur des exemples.\n",
    "\n",
    "_remarque :_ même si l'interpolation n'est pas à proprement parler une méthode de machine learning, cette méthode d'analyse qualitative de l'approximation est centrale en apprentissage. \n",
    "\n",
    "#### phénomène de Runge\n",
    "\n",
    "L'interpolation d'une fonction peut donner des résultats abhérents, ou toutefois déroutant.\n",
    "\n",
    "Un exemple est le [phénomène de Runge](https://fr.wikipedia.org/wiki/Ph%C3%A9nom%C3%A8ne_de_Runge)\n",
    "\n",
    "L'illustrer avec python, et des exemple ne provenant pas de wikipedia.\n",
    "\n",
    "#### interpolation de Hermite\n",
    "\n",
    "On peut essayer de construire une fonction qui ressemble à $f$ aux points $x_i$, mais aussi à $f'$. Cela conduit à [l'interpolation de Hermite](https://fr.wikipedia.org/wiki/Interpolation_d'Hermite)\n",
    "\n",
    "L'illustrer avec python, et des exemple ne provenant pas de wikipedia."
   ]
  },
  {
   "cell_type": "code",
   "execution_count": null,
   "metadata": {},
   "outputs": [],
   "source": []
  }
 ],
 "metadata": {
  "kernelspec": {
   "display_name": "Python 3",
   "language": "python",
   "name": "python3"
  },
  "language_info": {
   "codemirror_mode": {
    "name": "ipython",
    "version": 3
   },
   "file_extension": ".py",
   "mimetype": "text/x-python",
   "name": "python",
   "nbconvert_exporter": "python",
   "pygments_lexer": "ipython3",
   "version": "3.8.5"
  }
 },
 "nbformat": 4,
 "nbformat_minor": 4
}
