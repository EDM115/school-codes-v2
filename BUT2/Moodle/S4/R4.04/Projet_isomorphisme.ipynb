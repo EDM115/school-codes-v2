{
 "cells": [
  {
   "cell_type": "markdown",
   "metadata": {},
   "source": [
    "***\n",
    "\n",
    "\n",
    "# Projet :  Isomorphisme de graphes\n",
    "***\n",
    "***\n",
    "\n",
    "\n",
    "Thibault Godin <br>\n",
    "_IUT de Vannes département Informatique_\n"
   ]
  },
  {
   "cell_type": "code",
   "execution_count": 1,
   "metadata": {},
   "outputs": [],
   "source": [
    "import networkx as nx\n",
    "import numpy as np\n",
    "import matplotlib.pyplot as plt\n",
    "%matplotlib inline\n",
    "#magic\n",
    "import warnings\n",
    "warnings.filterwarnings('ignore')\n",
    "\n",
    "import time\n",
    "\n",
    "\n",
    "import pandas as pd"
   ]
  },
  {
   "cell_type": "markdown",
   "metadata": {},
   "source": [
    "# Présentation du problème"
   ]
  },
  {
   "cell_type": "markdown",
   "metadata": {},
   "source": [
    "Le problème de l'isomorphisme de graphe consiste à savoir si deux graphes sont, essentiellement, identiques.\n",
    "\n",
    "Plus précisément :\n",
    "\n",
    ">**Isomorphisme de graphes : définition**<br>\n",
    ">Deux graphes $\\mathcal{G}=(S,A)$ et $\\mathcal{H}=(T,B)$ sont isomorphes s'il existe une bijection $f : S \\to T$ >telle que $\\{a,a'\\} \\in A \\Longleftrightarrow \\{f(a),f(a')\\} \\in B$\t\n",
    "\n",
    "\n",
    "\n",
    "Par exemple : \n",
    "\n",
    "<img src=\"isom1.png\" width=\"500\">\n",
    "\n",
    "\n",
    "\n",
    "sont isomorphes. Un isomorphisme possible est :\n",
    "\n",
    "\n",
    "$f(0)=a,f(1)=d, f(2)=f, f(3)=e,f(4) =c, f(5) = b$"
   ]
  },
  {
   "cell_type": "markdown",
   "metadata": {},
   "source": [
    "Ce problème est important à la fois du point de vue théorique et du point de vue pratique.\n",
    "\n",
    "_D'un point de vue théorique_ c'est un des rares problèmes qui n'est pas dans $\\mathbf{P}$ (on ne connait pas d'algorithme résolvant l'isomorphisme en temps polynomial) mais qui n'est pas non plus $\\mathbf{NP}$-complet (le problème est clairement dans $\\mathbf{NP}$ car si on donne l'isomorphisme correct la vérification se fait en temps linéaire).\n",
    "\n",
    "C'est donc un problème qui se situe entre ces deux classes de complexité. On rappelle que la question $\\mathbf{P}  \\overset{?}{=}  \\mathbf{NP}$ est centrale en informatique théorique (toute la cryptographie arithmétique type RSA est basée sur la difficulté de $\\mathbf{NP}$) et fait partie des prix du millénaire de l'institut Clay.\n",
    "\n",
    "Actuellement l'algorithme ayant la meilleure complexité théorique est de complexité quasi-polynomiale, en $\\exp(O(\\ln n)^3) $, du à Babai en 2015 (pour l'annonce, avec quelques corrections et collaboration ultérieures pour la preuve finale).\n",
    "\n",
    "\n",
    "On pourra noter qu'une légère variation du problème (par exemple chercher une copie d'un graphe $G$ comme sous graphe du graphe $H$, le problème de l'isomorphisme de sous-graphe) devient $\\mathbf{NP}$-complet, le problème semble donc être réellement à la frontière entre $\\mathbf{P} $ et $\\mathbf{NP}$.\n",
    "\n",
    "\n",
    "\n",
    "_D'un point de vue pratique_ les graphes sont un outil très puissant de modélisation, et on peut par exemple imaginer des applications du type \"reconnaitre une molécule dans une base de données\", qui s'appliquerait en pharmacologie."
   ]
  },
  {
   "cell_type": "markdown",
   "metadata": {},
   "source": [
    "# Graph non-isomorphism for dummies\n",
    "\n",
    "\n",
    "Le but de ce notebook va être de trouver des critères permettant de prouver que 2 graphes ne sont **pas** isomorphes, puis de comparer ces critères selon deux métriques :\n",
    "\n",
    " - la puissance : quelle proportion de graphes est séparée par notre critère ?\n",
    " - l'efficacité : quel est le temps d'exécution/la complexité théorique de notre critère ?\n",
    " \n",
    " notre base de donnée de graphe sera l'**atlas des graphes**, une base exhaustive des graphes (simples, non-orientés) d'ordre inférieur ou égal à $7$, tous uniques _à isomorphisme près_, fournie dans la bibliothèque <tt>networkx</tt>\n",
    " \n",
    " \n",
    "Nous testerons les critères :\n",
    "\n",
    "  - ordre (nombre de sommets)\n",
    "  - taille (nombre d'arêtes)\n",
    "  - suite des degrés\n",
    "  - suite des excentricités\n",
    "  - spectre d'adjacence\n",
    "  - spectre laplacien\n",
    "  \n",
    "  \n",
    "ainsi que la conjonction de certains de ces critères.\n",
    "\n",
    "On travaillera sur les _matrices d'adjacences_ des graphes."
   ]
  },
  {
   "cell_type": "markdown",
   "metadata": {},
   "source": [
    "## Benchmark : prise en main\n",
    "\n",
    "On présente rapidement la base sur laquelle nous allons effectuer nos tests :"
   ]
  },
  {
   "cell_type": "code",
   "execution_count": 2,
   "metadata": {},
   "outputs": [
    {
     "data": {
      "text/plain": [
       "1253"
      ]
     },
     "execution_count": 2,
     "metadata": {},
     "output_type": "execute_result"
    }
   ],
   "source": [
    "G_all = nx.graph_atlas_g()\n",
    "\n",
    "NUM_GRAPH = len(G_all)\n",
    "NUM_GRAPH"
   ]
  },
  {
   "cell_type": "code",
   "execution_count": 3,
   "metadata": {},
   "outputs": [
    {
     "data": {
      "image/png": "[encoded data removed]",
      "text/plain": [
       "<Figure size 432x288 with 1 Axes>"
      ]
     },
     "metadata": {},
     "output_type": "display_data"
    }
   ],
   "source": [
    "#graph taureau\n",
    "nx.draw(G_all[35])"
   ]
  },
  {
   "cell_type": "code",
   "execution_count": 4,
   "metadata": {},
   "outputs": [
    {
     "data": {
      "text/plain": [
       "array([[0, 1, 1, 0, 1],\n",
       "       [1, 0, 1, 0, 0],\n",
       "       [1, 1, 0, 1, 0],\n",
       "       [0, 0, 1, 0, 0],\n",
       "       [1, 0, 0, 0, 0]])"
      ]
     },
     "execution_count": 4,
     "metadata": {},
     "output_type": "execute_result"
    }
   ],
   "source": [
    "G_adj = [nx.to_numpy_array(graph,dtype=int) for graph in G_all]\n",
    "##standardisation\n",
    "G_adj[0] = np.array([[0]])\n",
    "G_adj[35]\n",
    "\n"
   ]
  },
  {
   "cell_type": "markdown",
   "metadata": {},
   "source": [
    "La base de graphe étant de taille $1253$, on effectuera $\\frac{1253 \\times 1252}{2} = 784\\:378$ appels à chaque test d'un critère.\n",
    "\n"
   ]
  },
  {
   "cell_type": "code",
   "execution_count": 5,
   "metadata": {},
   "outputs": [
    {
     "data": {
      "text/plain": [
       "(784378, 784378.0)"
      ]
     },
     "execution_count": 5,
     "metadata": {},
     "output_type": "execute_result"
    }
   ],
   "source": [
    "cnt=0\n",
    "for i in range(NUM_GRAPH):\n",
    "    for j in range(i+1,NUM_GRAPH):\n",
    "        cnt = cnt +1\n",
    "        \n",
    "cnt, NUM_GRAPH*(NUM_GRAPH-1)/2"
   ]
  },
  {
   "cell_type": "markdown",
   "metadata": {},
   "source": [
    "On va stocker nos résultats dans un dataframe panda dont voici la structure :"
   ]
  },
  {
   "cell_type": "code",
   "execution_count": 6,
   "metadata": {},
   "outputs": [
    {
     "data": {
      "text/html": [
       "<div>\n",
       "<style scoped>\n",
       "    .dataframe tbody tr th:only-of-type {\n",
       "        vertical-align: middle;\n",
       "    }\n",
       "\n",
       "    .dataframe tbody tr th {\n",
       "        vertical-align: top;\n",
       "    }\n",
       "\n",
       "    .dataframe thead th {\n",
       "        text-align: right;\n",
       "    }\n",
       "</style>\n",
       "<table border=\"1\" class=\"dataframe\">\n",
       "  <thead>\n",
       "    <tr style=\"text-align: right;\">\n",
       "      <th></th>\n",
       "      <th>Critere</th>\n",
       "      <th>Efficacite</th>\n",
       "      <th>Non_separes</th>\n",
       "      <th>Puissance</th>\n",
       "    </tr>\n",
       "  </thead>\n",
       "  <tbody>\n",
       "    <tr>\n",
       "      <th>0</th>\n",
       "      <td>Aucun</td>\n",
       "      <td>0.0</td>\n",
       "      <td>1568756</td>\n",
       "      <td>0.0</td>\n",
       "    </tr>\n",
       "  </tbody>\n",
       "</table>\n",
       "</div>"
      ],
      "text/plain": [
       "  Critere  Efficacite  Non_separes  Puissance\n",
       "0   Aucun         0.0      1568756        0.0"
      ]
     },
     "execution_count": 6,
     "metadata": {},
     "output_type": "execute_result"
    }
   ],
   "source": [
    "doNothing = pd.Series({'Critere': 'Aucun',\n",
    "                        'Efficacite': 0.0,\n",
    "                        'Non_separes' : NUM_GRAPH*(NUM_GRAPH-1),\n",
    "                        'Puissance': 0.0})\n",
    "\n",
    "Critere_Iso = pd.DataFrame([doNothing])\n",
    "\n",
    "Critere_Iso"
   ]
  },
  {
   "cell_type": "markdown",
   "metadata": {},
   "source": [
    "## Ordre du graphe\n",
    "\n",
    "\n",
    "Le critère le plus évident est le nombre de sommets, l'**ordre** du graphe.\n",
    "\n",
    "Deux graphes ayant un nombre différent de sommets ne peuvent pas être isomorphes. \n",
    "\n",
    "\n",
    "On va utiliser une fonction précodée en <tt>numpy</tt> mais il est raisonnable de penser que la complexité est linéaire, donc $Ordre(n) = O(n)$."
   ]
  },
  {
   "cell_type": "code",
   "execution_count": 7,
   "metadata": {},
   "outputs": [
    {
     "data": {
      "text/plain": [
       "5"
      ]
     },
     "execution_count": 7,
     "metadata": {},
     "output_type": "execute_result"
    }
   ],
   "source": [
    "def ordre(graph):\n",
    "    return graph.shape[0]\n",
    "\n",
    "ordre(G_adj[35])"
   ]
  },
  {
   "cell_type": "code",
   "execution_count": 8,
   "metadata": {},
   "outputs": [],
   "source": [
    "def test_ordre():\n",
    "    \n",
    "    unconclusive_cnt = 0 ## nombre de paires non séparées par le critère\n",
    "    unconclusive = [] ## paires non séparées par le critère\n",
    "\n",
    "    for i in range(NUM_GRAPH):\n",
    "        for j in range(i+1,NUM_GRAPH):\n",
    "            if ordre(G_adj[i]) == ordre(G_adj[j]):\n",
    "                unconclusive_cnt = unconclusive_cnt + 1\n",
    "                unconclusive.append([i,j])\n",
    "                \n",
    "                \n",
    "    return unconclusive_cnt,unconclusive"
   ]
  },
  {
   "cell_type": "code",
   "execution_count": 9,
   "metadata": {},
   "outputs": [
    {
     "name": "stdout",
     "output_type": "stream",
     "text": [
      "durée :  0.767693281173706\n",
      "non spéparés :  557160  puissance :  0.6451228273996056 %\n"
     ]
    }
   ],
   "source": [
    "start = time.time()\n",
    "ordre_cnt,ordre_list = test_ordre()\n",
    "end = time.time()\n",
    "\n",
    "\n",
    "duree_ordre = end - start\n",
    "efficacité_ordre = ordre_cnt/(NUM_GRAPH * NUM_GRAPH-1)\n",
    "\n",
    "print(\"durée : \", duree_ordre)\n",
    "print(\"non spéparés : \",ordre_cnt, \" puissance : \", 1-efficacité_ordre, \"%\")\n"
   ]
  },
  {
   "cell_type": "code",
   "execution_count": 10,
   "metadata": {},
   "outputs": [
    {
     "data": {
      "text/html": [
       "<div>\n",
       "<style scoped>\n",
       "    .dataframe tbody tr th:only-of-type {\n",
       "        vertical-align: middle;\n",
       "    }\n",
       "\n",
       "    .dataframe tbody tr th {\n",
       "        vertical-align: top;\n",
       "    }\n",
       "\n",
       "    .dataframe thead th {\n",
       "        text-align: right;\n",
       "    }\n",
       "</style>\n",
       "<table border=\"1\" class=\"dataframe\">\n",
       "  <thead>\n",
       "    <tr style=\"text-align: right;\">\n",
       "      <th></th>\n",
       "      <th>Critere</th>\n",
       "      <th>Efficacite</th>\n",
       "      <th>Non_separes</th>\n",
       "      <th>Puissance</th>\n",
       "    </tr>\n",
       "  </thead>\n",
       "  <tbody>\n",
       "    <tr>\n",
       "      <th>0</th>\n",
       "      <td>Aucun</td>\n",
       "      <td>0.0</td>\n",
       "      <td>1568756</td>\n",
       "      <td>0.0</td>\n",
       "    </tr>\n",
       "    <tr>\n",
       "      <th>0</th>\n",
       "      <td>Ordre</td>\n",
       "      <td>0.767693</td>\n",
       "      <td>557160</td>\n",
       "      <td>0.645123</td>\n",
       "    </tr>\n",
       "  </tbody>\n",
       "</table>\n",
       "</div>"
      ],
      "text/plain": [
       "  Critere Efficacite Non_separes Puissance\n",
       "0   Aucun        0.0     1568756       0.0\n",
       "0   Ordre   0.767693      557160  0.645123"
      ]
     },
     "execution_count": 10,
     "metadata": {},
     "output_type": "execute_result"
    }
   ],
   "source": [
    "ordrepd = pd.Series({'Critere': 'Ordre',\n",
    "                        'Efficacite': duree_ordre,\n",
    "                        'Non_separes' : ordre_cnt,\n",
    "                        'Puissance': 1-efficacité_ordre})\n",
    "\n",
    "Critere_Iso = pd.concat([Critere_Iso, ordrepd.to_frame().T])\n",
    "Critere_Iso"
   ]
  },
  {
   "cell_type": "markdown",
   "metadata": {},
   "source": [
    "Ce critère est donc très efficace (la complexité est très bonne), mais très peu puissante. C'était attendu car c'est le critère le plus naïf possible.\n",
    "\n",
    "\n",
    "-----------------"
   ]
  },
  {
   "cell_type": "markdown",
   "metadata": {},
   "source": [
    "## Taille du graphe\n",
    "\n",
    "\n",
    "Le critère suivant est le nombre d'arêtes, la **taille** du graphe.\n",
    "\n",
    "Deux graphes ayant un nombre différent d'arêtes ne peuvent pas être isomorphes. \n",
    "\n",
    "\n",
    "L'algorithme naïf pour calculer la taille se base sur une variation du _lemme des poignées de main_, on somme tous les éléments de la matrice puis on divise par $2$. La complexité est donc quadratique, $Taille(n) = O(n^2)$."
   ]
  },
  {
   "cell_type": "code",
   "execution_count": 11,
   "metadata": {},
   "outputs": [
    {
     "data": {
      "text/plain": [
       "5"
      ]
     },
     "execution_count": 11,
     "metadata": {},
     "output_type": "execute_result"
    }
   ],
   "source": [
    "def taille(graph):\n",
    "    return sum(sum(graph))//2\n",
    "\n",
    "\n",
    "taille(G_adj[35])"
   ]
  },
  {
   "cell_type": "code",
   "execution_count": 12,
   "metadata": {},
   "outputs": [],
   "source": [
    "def test_taille():\n",
    "    \n",
    "    unconclusive_cnt = 0 ## nombre de paires non séparées par le critère\n",
    "    unconclusive = [] ## paires non séparées par le critère\n",
    "\n",
    "    for i in range(NUM_GRAPH):\n",
    "        for j in range(i+1,NUM_GRAPH):\n",
    "            if taille(G_adj[i]) == taille(G_adj[j]):\n",
    "                unconclusive_cnt = unconclusive_cnt + 1\n",
    "                unconclusive.append([i,j])\n",
    "                \n",
    "                \n",
    "    return unconclusive_cnt,unconclusive"
   ]
  },
  {
   "cell_type": "code",
   "execution_count": 13,
   "metadata": {},
   "outputs": [
    {
     "name": "stdout",
     "output_type": "stream",
     "text": [
      "durée :  10.748990058898926\n",
      "non spéparés :  70156  efficacité :  0.9553148773764211 %\n"
     ]
    }
   ],
   "source": [
    "start = time.time()\n",
    "taille_cnt,taille_list = test_taille()\n",
    "end = time.time()\n",
    "\n",
    "\n",
    "duree_taille = end - start\n",
    "efficacité_taille = taille_cnt/(NUM_GRAPH * NUM_GRAPH-1)\n",
    "\n",
    "print(\"durée : \", duree_taille)\n",
    "print(\"non spéparés : \",taille_cnt, \" efficacité : \", 1-efficacité_taille, \"%\")"
   ]
  },
  {
   "cell_type": "code",
   "execution_count": 14,
   "metadata": {},
   "outputs": [
    {
     "data": {
      "text/html": [
       "<div>\n",
       "<style scoped>\n",
       "    .dataframe tbody tr th:only-of-type {\n",
       "        vertical-align: middle;\n",
       "    }\n",
       "\n",
       "    .dataframe tbody tr th {\n",
       "        vertical-align: top;\n",
       "    }\n",
       "\n",
       "    .dataframe thead th {\n",
       "        text-align: right;\n",
       "    }\n",
       "</style>\n",
       "<table border=\"1\" class=\"dataframe\">\n",
       "  <thead>\n",
       "    <tr style=\"text-align: right;\">\n",
       "      <th></th>\n",
       "      <th>Critere</th>\n",
       "      <th>Efficacite</th>\n",
       "      <th>Non_separes</th>\n",
       "      <th>Puissance</th>\n",
       "    </tr>\n",
       "  </thead>\n",
       "  <tbody>\n",
       "    <tr>\n",
       "      <th>0</th>\n",
       "      <td>Aucun</td>\n",
       "      <td>0.0</td>\n",
       "      <td>1568756</td>\n",
       "      <td>0.0</td>\n",
       "    </tr>\n",
       "    <tr>\n",
       "      <th>0</th>\n",
       "      <td>Ordre</td>\n",
       "      <td>0.767693</td>\n",
       "      <td>557160</td>\n",
       "      <td>0.645123</td>\n",
       "    </tr>\n",
       "    <tr>\n",
       "      <th>0</th>\n",
       "      <td>Taille</td>\n",
       "      <td>10.74899</td>\n",
       "      <td>70156</td>\n",
       "      <td>0.955315</td>\n",
       "    </tr>\n",
       "  </tbody>\n",
       "</table>\n",
       "</div>"
      ],
      "text/plain": [
       "  Critere Efficacite Non_separes Puissance\n",
       "0   Aucun        0.0     1568756       0.0\n",
       "0   Ordre   0.767693      557160  0.645123\n",
       "0  Taille   10.74899       70156  0.955315"
      ]
     },
     "execution_count": 14,
     "metadata": {},
     "output_type": "execute_result"
    }
   ],
   "source": [
    "taillepd = pd.Series({'Critere': 'Taille',\n",
    "                        'Efficacite': duree_taille,\n",
    "                        'Non_separes' : taille_cnt,\n",
    "                        'Puissance': 1-efficacité_taille})\n",
    "\n",
    "Critere_Iso = pd.concat([Critere_Iso, taillepd.to_frame().T])\n",
    "Critere_Iso"
   ]
  },
  {
   "cell_type": "markdown",
   "metadata": {},
   "source": [
    "Le critère est déjà nettement plus puissant, mais devient déjà plus lent. On peut essayer de combiner les deux, le critère de l'ordre étant quasiment gratuit au regard de celui de la taille"
   ]
  },
  {
   "cell_type": "code",
   "execution_count": 15,
   "metadata": {},
   "outputs": [],
   "source": [
    "\n",
    "def test_ordretaille():\n",
    "    \n",
    "    unconclusive_cnt = 0 ## nombre de paires non séparées par le critère\n",
    "    unconclusive = [] ## paires non séparées par le critère\n",
    "\n",
    "    for i in range(NUM_GRAPH):\n",
    "        for j in range(i+1,NUM_GRAPH):\n",
    "            if ordre(G_adj[i]) == ordre(G_adj[j]) :\n",
    "                if taille(G_adj[i]) == taille(G_adj[j]):\n",
    "                    unconclusive_cnt = unconclusive_cnt + 1\n",
    "                    unconclusive.append([i,j])\n",
    "                \n",
    "                \n",
    "    return unconclusive_cnt,unconclusive\n",
    "\n"
   ]
  },
  {
   "cell_type": "code",
   "execution_count": 16,
   "metadata": {},
   "outputs": [
    {
     "name": "stdout",
     "output_type": "stream",
     "text": [
      "durée :  8.511829137802124\n",
      "non spéparés :  70156  efficacité :  0.9644772510713321 %\n"
     ]
    }
   ],
   "source": [
    "start = time.time()\n",
    "ordretaille_cnt,ordretaille_list = test_ordretaille()\n",
    "end = time.time()\n",
    "\n",
    "\n",
    "duree_ordretaille = end - start\n",
    "efficacité_ordretaille = ordretaille_cnt/(NUM_GRAPH * NUM_GRAPH-1)\n",
    "\n",
    "print(\"durée : \", duree_ordretaille)\n",
    "print(\"non spéparés : \",taille_cnt, \" efficacité : \", 1-efficacité_ordretaille, \"%\")"
   ]
  },
  {
   "cell_type": "code",
   "execution_count": 17,
   "metadata": {},
   "outputs": [
    {
     "data": {
      "text/html": [
       "<div>\n",
       "<style scoped>\n",
       "    .dataframe tbody tr th:only-of-type {\n",
       "        vertical-align: middle;\n",
       "    }\n",
       "\n",
       "    .dataframe tbody tr th {\n",
       "        vertical-align: top;\n",
       "    }\n",
       "\n",
       "    .dataframe thead th {\n",
       "        text-align: right;\n",
       "    }\n",
       "</style>\n",
       "<table border=\"1\" class=\"dataframe\">\n",
       "  <thead>\n",
       "    <tr style=\"text-align: right;\">\n",
       "      <th></th>\n",
       "      <th>Critere</th>\n",
       "      <th>Efficacite</th>\n",
       "      <th>Non_separes</th>\n",
       "      <th>Puissance</th>\n",
       "    </tr>\n",
       "  </thead>\n",
       "  <tbody>\n",
       "    <tr>\n",
       "      <th>0</th>\n",
       "      <td>Aucun</td>\n",
       "      <td>0.0</td>\n",
       "      <td>1568756</td>\n",
       "      <td>0.0</td>\n",
       "    </tr>\n",
       "    <tr>\n",
       "      <th>0</th>\n",
       "      <td>Ordre</td>\n",
       "      <td>0.767693</td>\n",
       "      <td>557160</td>\n",
       "      <td>0.645123</td>\n",
       "    </tr>\n",
       "    <tr>\n",
       "      <th>0</th>\n",
       "      <td>Taille</td>\n",
       "      <td>10.74899</td>\n",
       "      <td>70156</td>\n",
       "      <td>0.955315</td>\n",
       "    </tr>\n",
       "    <tr>\n",
       "      <th>0</th>\n",
       "      <td>OrdreTaille</td>\n",
       "      <td>8.511829</td>\n",
       "      <td>55771</td>\n",
       "      <td>0.964477</td>\n",
       "    </tr>\n",
       "  </tbody>\n",
       "</table>\n",
       "</div>"
      ],
      "text/plain": [
       "       Critere Efficacite Non_separes Puissance\n",
       "0        Aucun        0.0     1568756       0.0\n",
       "0        Ordre   0.767693      557160  0.645123\n",
       "0       Taille   10.74899       70156  0.955315\n",
       "0  OrdreTaille   8.511829       55771  0.964477"
      ]
     },
     "execution_count": 17,
     "metadata": {},
     "output_type": "execute_result"
    }
   ],
   "source": [
    "ordretaillepd = pd.Series({'Critere': 'OrdreTaille',\n",
    "                        'Efficacite': duree_ordretaille,\n",
    "                        'Non_separes' : ordretaille_cnt,\n",
    "                        'Puissance': 1-efficacité_ordretaille})\n",
    "\n",
    "Critere_Iso = pd.concat([Critere_Iso, ordretaillepd.to_frame().T])\n",
    "Critere_Iso"
   ]
  },
  {
   "cell_type": "markdown",
   "metadata": {},
   "source": [
    "On constate une légère amélioration pour un temps légèrement meilleur (on coupe certains calculs en ne considérant pas les graphes trivialement différents). Cette stratégie est donc à privilégier.\n",
    "\n",
    "\n",
    "------------"
   ]
  },
  {
   "cell_type": "markdown",
   "metadata": {},
   "source": [
    "## Degré\n",
    "\n",
    "Le calcul de la taille est finalement un peu artificiel, puisqu'on calcule les degrés (le nombre de voisins de chaque sommet) en sommant ligne par ligne, avant de sommer le tout.\n",
    "\n",
    "On va donc calculer la liste (triée) des degrés. La complexité est alors de $O(n \\times n)$ (on fait $n$ sommes de lignes de longueur $n$) puis $O(n\\ln n)$ (tri de la liste des degrés. Globalement on est donc en $O(n^2)$."
   ]
  },
  {
   "cell_type": "code",
   "execution_count": 18,
   "metadata": {},
   "outputs": [
    {
     "data": {
      "text/plain": [
       "array([1, 1, 2, 3, 3])"
      ]
     },
     "execution_count": 18,
     "metadata": {},
     "output_type": "execute_result"
    }
   ],
   "source": [
    "def degres(graph):\n",
    "    return np.sort(sum(graph))\n",
    "\n",
    "degres(G_adj[35])\n",
    "\n"
   ]
  },
  {
   "cell_type": "markdown",
   "metadata": {},
   "source": [
    "__Remarque :__\n",
    "- Pour Linux, ajouter le critère ordre n'est pas pertinent car le test numpy vérifie déjà cela, comme montré ci-dessous (à l'exception des graphes de taille 0 et 1 qui sont des cas particuliers (il sera sans doute pertinent de les enlever).\n",
    "- Pour Windows, on a besoin de tester l'ordre d'abord ! (les cases suivantes ne fonctionnent pas -> Passez directement à \"test_ordredegres\")"
   ]
  },
  {
   "cell_type": "code",
   "execution_count": 19,
   "metadata": {},
   "outputs": [
    {
     "name": "stdout",
     "output_type": "stream",
     "text": [
      "False\n",
      "True\n"
     ]
    }
   ],
   "source": [
    "print(np.all(degres(G_adj[4]) == degres(G_adj[2])))\n",
    "print(np.alltrue(degres(G_adj[4]) == degres(G_adj[1])))"
   ]
  },
  {
   "cell_type": "code",
   "execution_count": 20,
   "metadata": {},
   "outputs": [],
   "source": [
    "def test_degres():\n",
    "    \n",
    "    unconclusive_cnt = 0 ## nombre de paires non séparées par le critère\n",
    "    unconclusive = [] ## paires non séparées par le critère\n",
    "\n",
    "    for i in range(NUM_GRAPH):\n",
    "        for j in range(i+1,NUM_GRAPH):\n",
    "            if np.alltrue(degres(G_adj[i]) == degres(G_adj[j])):\n",
    "                unconclusive_cnt = unconclusive_cnt + 1\n",
    "                unconclusive.append([i,j])\n",
    "                \n",
    "                \n",
    "    return unconclusive_cnt,unconclusive"
   ]
  },
  {
   "cell_type": "code",
   "execution_count": 21,
   "metadata": {},
   "outputs": [
    {
     "name": "stdout",
     "output_type": "stream",
     "text": [
      "durée :  20.909059524536133\n",
      "non spéparés :  3388  efficacité :  0.9978420492124881 %\n"
     ]
    }
   ],
   "source": [
    "start = time.time()\n",
    "degres_cnt,degres_list = test_degres()\n",
    "end = time.time()\n",
    "\n",
    "\n",
    "duree_degres = end - start\n",
    "efficacité_degres = degres_cnt/(NUM_GRAPH * NUM_GRAPH-1)\n",
    "\n",
    "print(\"durée : \", duree_degres)\n",
    "print(\"non spéparés : \", degres_cnt, \" efficacité : \", 1-efficacité_degres, \"%\")"
   ]
  },
  {
   "cell_type": "code",
   "execution_count": 22,
   "metadata": {},
   "outputs": [
    {
     "data": {
      "text/html": [
       "<div>\n",
       "<style scoped>\n",
       "    .dataframe tbody tr th:only-of-type {\n",
       "        vertical-align: middle;\n",
       "    }\n",
       "\n",
       "    .dataframe tbody tr th {\n",
       "        vertical-align: top;\n",
       "    }\n",
       "\n",
       "    .dataframe thead th {\n",
       "        text-align: right;\n",
       "    }\n",
       "</style>\n",
       "<table border=\"1\" class=\"dataframe\">\n",
       "  <thead>\n",
       "    <tr style=\"text-align: right;\">\n",
       "      <th></th>\n",
       "      <th>Critere</th>\n",
       "      <th>Efficacite</th>\n",
       "      <th>Non_separes</th>\n",
       "      <th>Puissance</th>\n",
       "    </tr>\n",
       "  </thead>\n",
       "  <tbody>\n",
       "    <tr>\n",
       "      <th>0</th>\n",
       "      <td>Aucun</td>\n",
       "      <td>0.0</td>\n",
       "      <td>1568756</td>\n",
       "      <td>0.0</td>\n",
       "    </tr>\n",
       "    <tr>\n",
       "      <th>0</th>\n",
       "      <td>Ordre</td>\n",
       "      <td>0.767693</td>\n",
       "      <td>557160</td>\n",
       "      <td>0.645123</td>\n",
       "    </tr>\n",
       "    <tr>\n",
       "      <th>0</th>\n",
       "      <td>Taille</td>\n",
       "      <td>10.74899</td>\n",
       "      <td>70156</td>\n",
       "      <td>0.955315</td>\n",
       "    </tr>\n",
       "    <tr>\n",
       "      <th>0</th>\n",
       "      <td>OrdreTaille</td>\n",
       "      <td>8.511829</td>\n",
       "      <td>55771</td>\n",
       "      <td>0.964477</td>\n",
       "    </tr>\n",
       "    <tr>\n",
       "      <th>0</th>\n",
       "      <td>Degres</td>\n",
       "      <td>20.90906</td>\n",
       "      <td>3388</td>\n",
       "      <td>0.997842</td>\n",
       "    </tr>\n",
       "  </tbody>\n",
       "</table>\n",
       "</div>"
      ],
      "text/plain": [
       "       Critere Efficacite Non_separes Puissance\n",
       "0        Aucun        0.0     1568756       0.0\n",
       "0        Ordre   0.767693      557160  0.645123\n",
       "0       Taille   10.74899       70156  0.955315\n",
       "0  OrdreTaille   8.511829       55771  0.964477\n",
       "0       Degres   20.90906        3388  0.997842"
      ]
     },
     "execution_count": 22,
     "metadata": {},
     "output_type": "execute_result"
    }
   ],
   "source": [
    "degrespd = pd.Series({'Critere': 'Degres',\n",
    "                        'Efficacite': duree_degres,\n",
    "                        'Non_separes' : degres_cnt,\n",
    "                        'Puissance': 1-efficacité_degres})\n",
    "\n",
    "Critere_Iso = pd.concat([Critere_Iso, degrespd.to_frame().T])\n",
    "Critere_Iso"
   ]
  },
  {
   "cell_type": "markdown",
   "metadata": {},
   "source": [
    "L'efficacité est divisée par deux par rapport à la taille, mais la puissance est multipliée par 10, c'est donc une amélioration.\n",
    "\n",
    "__Les utilisateurs de Windows reviennent ici !__"
   ]
  },
  {
   "cell_type": "code",
   "execution_count": 23,
   "metadata": {},
   "outputs": [],
   "source": [
    "def test_ordredegres():\n",
    "    \n",
    "    unconclusive_cnt = 0 ## nombre de paires non séparées par le critère\n",
    "    unconclusive = [] ## paires non séparées par le critère\n",
    "\n",
    "    for i in range(NUM_GRAPH):\n",
    "        for j in range(i+1,NUM_GRAPH):\n",
    "            if ordre(G_adj[i]) == ordre(G_adj[j]) : \n",
    "                if np.alltrue(degres(G_adj[i]) == degres(G_adj[j])):\n",
    "                    unconclusive_cnt = unconclusive_cnt + 1\n",
    "                    unconclusive.append([i,j])\n",
    "\n",
    "                \n",
    "    return unconclusive_cnt,unconclusive"
   ]
  },
  {
   "cell_type": "code",
   "execution_count": 24,
   "metadata": {},
   "outputs": [
    {
     "name": "stdout",
     "output_type": "stream",
     "text": [
      "durée :  13.532360792160034\n",
      "non spéparés :  3376  efficacité :  0.9978496924856434 %\n"
     ]
    }
   ],
   "source": [
    "start = time.time()\n",
    "ordredegres_cnt,ordredegres_list = test_ordredegres()\n",
    "end = time.time()\n",
    "\n",
    "\n",
    "duree_ordredegres = end - start\n",
    "efficacité_ordredegres = ordredegres_cnt/(NUM_GRAPH * NUM_GRAPH-1)\n",
    "\n",
    "print(\"durée : \", duree_ordredegres)\n",
    "print(\"non spéparés : \", ordredegres_cnt, \" efficacité : \", 1-efficacité_ordredegres, \"%\")"
   ]
  },
  {
   "cell_type": "code",
   "execution_count": 25,
   "metadata": {},
   "outputs": [
    {
     "data": {
      "text/html": [
       "<div>\n",
       "<style scoped>\n",
       "    .dataframe tbody tr th:only-of-type {\n",
       "        vertical-align: middle;\n",
       "    }\n",
       "\n",
       "    .dataframe tbody tr th {\n",
       "        vertical-align: top;\n",
       "    }\n",
       "\n",
       "    .dataframe thead th {\n",
       "        text-align: right;\n",
       "    }\n",
       "</style>\n",
       "<table border=\"1\" class=\"dataframe\">\n",
       "  <thead>\n",
       "    <tr style=\"text-align: right;\">\n",
       "      <th></th>\n",
       "      <th>Critere</th>\n",
       "      <th>Efficacite</th>\n",
       "      <th>Non_separes</th>\n",
       "      <th>Puissance</th>\n",
       "    </tr>\n",
       "  </thead>\n",
       "  <tbody>\n",
       "    <tr>\n",
       "      <th>0</th>\n",
       "      <td>Aucun</td>\n",
       "      <td>0.0</td>\n",
       "      <td>1568756</td>\n",
       "      <td>0.0</td>\n",
       "    </tr>\n",
       "    <tr>\n",
       "      <th>0</th>\n",
       "      <td>Ordre</td>\n",
       "      <td>0.767693</td>\n",
       "      <td>557160</td>\n",
       "      <td>0.645123</td>\n",
       "    </tr>\n",
       "    <tr>\n",
       "      <th>0</th>\n",
       "      <td>Taille</td>\n",
       "      <td>10.74899</td>\n",
       "      <td>70156</td>\n",
       "      <td>0.955315</td>\n",
       "    </tr>\n",
       "    <tr>\n",
       "      <th>0</th>\n",
       "      <td>OrdreTaille</td>\n",
       "      <td>8.511829</td>\n",
       "      <td>55771</td>\n",
       "      <td>0.964477</td>\n",
       "    </tr>\n",
       "    <tr>\n",
       "      <th>0</th>\n",
       "      <td>Degres</td>\n",
       "      <td>20.90906</td>\n",
       "      <td>3388</td>\n",
       "      <td>0.997842</td>\n",
       "    </tr>\n",
       "    <tr>\n",
       "      <th>0</th>\n",
       "      <td>OrdreDegres</td>\n",
       "      <td>13.532361</td>\n",
       "      <td>3376</td>\n",
       "      <td>0.99785</td>\n",
       "    </tr>\n",
       "  </tbody>\n",
       "</table>\n",
       "</div>"
      ],
      "text/plain": [
       "       Critere Efficacite Non_separes Puissance\n",
       "0        Aucun        0.0     1568756       0.0\n",
       "0        Ordre   0.767693      557160  0.645123\n",
       "0       Taille   10.74899       70156  0.955315\n",
       "0  OrdreTaille   8.511829       55771  0.964477\n",
       "0       Degres   20.90906        3388  0.997842\n",
       "0  OrdreDegres  13.532361        3376   0.99785"
      ]
     },
     "execution_count": 25,
     "metadata": {},
     "output_type": "execute_result"
    }
   ],
   "source": [
    "ordredegrespd = pd.Series({'Critere': 'OrdreDegres',\n",
    "                        'Efficacite': duree_ordredegres,\n",
    "                        'Non_separes' : ordredegres_cnt,\n",
    "                        'Puissance': 1-efficacité_ordredegres})\n",
    "\n",
    "Critere_Iso = pd.concat([Critere_Iso, ordredegrespd.to_frame().T])\n",
    "Critere_Iso"
   ]
  },
  {
   "cell_type": "markdown",
   "metadata": {},
   "source": [
    "Le gain en puissance est mineur mais celui en efficacité est sensible."
   ]
  },
  {
   "cell_type": "markdown",
   "metadata": {},
   "source": [
    "-----------------"
   ]
  },
  {
   "cell_type": "markdown",
   "metadata": {},
   "source": [
    "## Excentricités\n",
    "\n",
    "\n",
    "Une autre caractéristique d'un degré est sa distance aux autres degrés, son _excentricité_.\n",
    "\n",
    "L'algorithme qui calcule cette valeur est plus compliqué, on passe ici l'algorithme de Floyd-Warshall afin d'obtenir la matrice des distances, puis on prend le maximum ligne à ligne.\n",
    "\n",
    "Floyd-Warshall est en $O(n^3)$ tandis que le maximum est en $O(n)$ et le tri en $O(n \\ln n)$. Le critère est donc en $O(n^3)$."
   ]
  },
  {
   "cell_type": "code",
   "execution_count": 26,
   "metadata": {},
   "outputs": [
    {
     "name": "stdout",
     "output_type": "stream",
     "text": [
      "[[0. 1. 1. 2. 1.]\n",
      " [1. 0. 1. 2. 2.]\n",
      " [1. 1. 0. 1. 2.]\n",
      " [2. 2. 1. 0. 3.]\n",
      " [1. 2. 2. 3. 0.]]\n"
     ]
    }
   ],
   "source": [
    "def FloydWarshall(A):\n",
    "    \n",
    "    W = np.copy(A)    \n",
    "    n = A.shape[0]\n",
    "    W = W.astype(float)\n",
    "    #prétraitement, matrice pondérée des distances initiales\n",
    "    for i in range(n):\n",
    "        for j in range(n):\n",
    "            if W[i,j]==0 :\n",
    "                W[i,j] = np.inf\n",
    "                \n",
    "    for i in range(n):\n",
    "        W[i,i]=0\n",
    "    #coeur de l'algorithme\n",
    "    for i in range(n):\n",
    "        for j in range(n):\n",
    "            for k in range(n):\n",
    "                W[i,j] = min(W[i,j],W[i,k]+W[k,j])\n",
    "    return W\n",
    "print(FloydWarshall(G_adj[35]))"
   ]
  },
  {
   "cell_type": "code",
   "execution_count": 27,
   "metadata": {},
   "outputs": [
    {
     "data": {
      "text/plain": [
       "array([2., 2., 2., 3., 3.])"
      ]
     },
     "execution_count": 27,
     "metadata": {},
     "output_type": "execute_result"
    }
   ],
   "source": [
    "def excentricites(graph):\n",
    "    dist = FloydWarshall(graph)\n",
    "    exc = np.max(dist,axis=0)\n",
    "    \n",
    "    return np.sort(exc)\n",
    "\n",
    "excentricites(G_adj[35])"
   ]
  },
  {
   "cell_type": "code",
   "execution_count": 28,
   "metadata": {},
   "outputs": [],
   "source": [
    "def test_excentricites():\n",
    "    \n",
    "    unconclusive_cnt = 0 ## nombre de paires non séparées par le critère\n",
    "    unconclusive = [] ## paires non séparées par le critère\n",
    "\n",
    "    for i in range(NUM_GRAPH):\n",
    "        for j in range(i+1,NUM_GRAPH):\n",
    "            if ordre(G_adj[i]) == ordre(G_adj[j]) : #obligatoire pour le bon fonctionnement de la comparaison suivante\n",
    "                if np.allclose(excentricites(G_adj[i]),excentricites(G_adj[j])): ##floating point -> changing == to close\n",
    "                    unconclusive_cnt = unconclusive_cnt + 1\n",
    "                    unconclusive.append([i,j])\n",
    "                \n",
    "                \n",
    "    return unconclusive_cnt,unconclusive"
   ]
  },
  {
   "cell_type": "code",
   "execution_count": 29,
   "metadata": {},
   "outputs": [
    {
     "name": "stdout",
     "output_type": "stream",
     "text": [
      "durée :  351.7594358921051\n",
      "non spéparés :  68472  efficacité :  0.9563874833758809 %\n"
     ]
    }
   ],
   "source": [
    "start = time.time()\n",
    "excentricites_cnt,excentricites_list = test_excentricites()\n",
    "end = time.time()\n",
    "\n",
    "\n",
    "duree_excentricites = end - start\n",
    "efficacité_excentricites = excentricites_cnt/(NUM_GRAPH * NUM_GRAPH-1)\n",
    "\n",
    "print(\"durée : \", duree_excentricites)\n",
    "print(\"non spéparés : \", excentricites_cnt, \" efficacité : \", 1-efficacité_excentricites, \"%\")"
   ]
  },
  {
   "cell_type": "code",
   "execution_count": 30,
   "metadata": {},
   "outputs": [
    {
     "data": {
      "text/html": [
       "<div>\n",
       "<style scoped>\n",
       "    .dataframe tbody tr th:only-of-type {\n",
       "        vertical-align: middle;\n",
       "    }\n",
       "\n",
       "    .dataframe tbody tr th {\n",
       "        vertical-align: top;\n",
       "    }\n",
       "\n",
       "    .dataframe thead th {\n",
       "        text-align: right;\n",
       "    }\n",
       "</style>\n",
       "<table border=\"1\" class=\"dataframe\">\n",
       "  <thead>\n",
       "    <tr style=\"text-align: right;\">\n",
       "      <th></th>\n",
       "      <th>Critere</th>\n",
       "      <th>Efficacite</th>\n",
       "      <th>Non_separes</th>\n",
       "      <th>Puissance</th>\n",
       "    </tr>\n",
       "  </thead>\n",
       "  <tbody>\n",
       "    <tr>\n",
       "      <th>0</th>\n",
       "      <td>Aucun</td>\n",
       "      <td>0.0</td>\n",
       "      <td>1568756</td>\n",
       "      <td>0.0</td>\n",
       "    </tr>\n",
       "    <tr>\n",
       "      <th>0</th>\n",
       "      <td>Ordre</td>\n",
       "      <td>0.767693</td>\n",
       "      <td>557160</td>\n",
       "      <td>0.645123</td>\n",
       "    </tr>\n",
       "    <tr>\n",
       "      <th>0</th>\n",
       "      <td>Taille</td>\n",
       "      <td>10.74899</td>\n",
       "      <td>70156</td>\n",
       "      <td>0.955315</td>\n",
       "    </tr>\n",
       "    <tr>\n",
       "      <th>0</th>\n",
       "      <td>OrdreTaille</td>\n",
       "      <td>8.511829</td>\n",
       "      <td>55771</td>\n",
       "      <td>0.964477</td>\n",
       "    </tr>\n",
       "    <tr>\n",
       "      <th>0</th>\n",
       "      <td>Degres</td>\n",
       "      <td>20.90906</td>\n",
       "      <td>3388</td>\n",
       "      <td>0.997842</td>\n",
       "    </tr>\n",
       "    <tr>\n",
       "      <th>0</th>\n",
       "      <td>OrdreDegres</td>\n",
       "      <td>13.532361</td>\n",
       "      <td>3376</td>\n",
       "      <td>0.99785</td>\n",
       "    </tr>\n",
       "    <tr>\n",
       "      <th>0</th>\n",
       "      <td>Excentricites</td>\n",
       "      <td>351.759436</td>\n",
       "      <td>68472</td>\n",
       "      <td>0.956387</td>\n",
       "    </tr>\n",
       "  </tbody>\n",
       "</table>\n",
       "</div>"
      ],
      "text/plain": [
       "         Critere  Efficacite Non_separes Puissance\n",
       "0          Aucun         0.0     1568756       0.0\n",
       "0          Ordre    0.767693      557160  0.645123\n",
       "0         Taille    10.74899       70156  0.955315\n",
       "0    OrdreTaille    8.511829       55771  0.964477\n",
       "0         Degres    20.90906        3388  0.997842\n",
       "0    OrdreDegres   13.532361        3376   0.99785\n",
       "0  Excentricites  351.759436       68472  0.956387"
      ]
     },
     "execution_count": 30,
     "metadata": {},
     "output_type": "execute_result"
    }
   ],
   "source": [
    "excentricitespd = pd.Series({'Critere': 'Excentricites',\n",
    "                        'Efficacite': duree_excentricites,\n",
    "                        'Non_separes' : excentricites_cnt,\n",
    "                        'Puissance': 1-efficacité_excentricites})\n",
    "\n",
    "Critere_Iso = pd.concat([Critere_Iso, excentricitespd.to_frame().T])\n",
    "Critere_Iso"
   ]
  },
  {
   "cell_type": "markdown",
   "metadata": {},
   "source": [
    "Le critère commence à prendre un certain temps, pour une puissance moyenne. On peut cependant essayer de l'employer en complément de notre critère \"degrés\"."
   ]
  },
  {
   "cell_type": "code",
   "execution_count": 31,
   "metadata": {},
   "outputs": [],
   "source": [
    "def test_degresexcentricites():\n",
    "    \n",
    "    unconclusive_cnt = 0 ## nombre de paires non séparées par le critère\n",
    "    unconclusive = [] ## paires non séparées par le critère\n",
    "\n",
    "    for i in range(NUM_GRAPH):\n",
    "        for j in range(i+1,NUM_GRAPH):\n",
    "            if ordre(G_adj[i]) == ordre(G_adj[j]) : #obligatoire pour le bon fonctionnement de la comparaison suivante\n",
    "                if np.alltrue(degres(G_adj[i]) == degres(G_adj[j])):\n",
    "                    if np.allclose(excentricites(G_adj[i]),excentricites(G_adj[j])): ##floating point -> changing == to close\n",
    "                        unconclusive_cnt = unconclusive_cnt + 1\n",
    "                        unconclusive.append([i,j])\n",
    "                \n",
    "                \n",
    "    return unconclusive_cnt,unconclusive"
   ]
  },
  {
   "cell_type": "code",
   "execution_count": 32,
   "metadata": {},
   "outputs": [
    {
     "name": "stdout",
     "output_type": "stream",
     "text": [
      "durée :  15.763463735580444\n",
      "non spéparés :  1243  efficacité :  0.9992082842889972 %\n"
     ]
    }
   ],
   "source": [
    "start = time.time()\n",
    "degresexcentricites_cnt,excentricites_list = test_degresexcentricites()\n",
    "end = time.time()\n",
    "\n",
    "\n",
    "duree_degresexcentricites = end - start\n",
    "efficacité_degresexcentricites = degresexcentricites_cnt/(NUM_GRAPH * NUM_GRAPH-1)\n",
    "\n",
    "print(\"durée : \", duree_degresexcentricites)\n",
    "print(\"non spéparés : \", degresexcentricites_cnt, \" efficacité : \", 1-efficacité_degresexcentricites, \"%\")"
   ]
  },
  {
   "cell_type": "code",
   "execution_count": 33,
   "metadata": {},
   "outputs": [
    {
     "data": {
      "text/html": [
       "<div>\n",
       "<style scoped>\n",
       "    .dataframe tbody tr th:only-of-type {\n",
       "        vertical-align: middle;\n",
       "    }\n",
       "\n",
       "    .dataframe tbody tr th {\n",
       "        vertical-align: top;\n",
       "    }\n",
       "\n",
       "    .dataframe thead th {\n",
       "        text-align: right;\n",
       "    }\n",
       "</style>\n",
       "<table border=\"1\" class=\"dataframe\">\n",
       "  <thead>\n",
       "    <tr style=\"text-align: right;\">\n",
       "      <th></th>\n",
       "      <th>Critere</th>\n",
       "      <th>Efficacite</th>\n",
       "      <th>Non_separes</th>\n",
       "      <th>Puissance</th>\n",
       "    </tr>\n",
       "  </thead>\n",
       "  <tbody>\n",
       "    <tr>\n",
       "      <th>0</th>\n",
       "      <td>Aucun</td>\n",
       "      <td>0.0</td>\n",
       "      <td>1568756</td>\n",
       "      <td>0.0</td>\n",
       "    </tr>\n",
       "    <tr>\n",
       "      <th>0</th>\n",
       "      <td>Ordre</td>\n",
       "      <td>0.767693</td>\n",
       "      <td>557160</td>\n",
       "      <td>0.645123</td>\n",
       "    </tr>\n",
       "    <tr>\n",
       "      <th>0</th>\n",
       "      <td>Taille</td>\n",
       "      <td>10.74899</td>\n",
       "      <td>70156</td>\n",
       "      <td>0.955315</td>\n",
       "    </tr>\n",
       "    <tr>\n",
       "      <th>0</th>\n",
       "      <td>OrdreTaille</td>\n",
       "      <td>8.511829</td>\n",
       "      <td>55771</td>\n",
       "      <td>0.964477</td>\n",
       "    </tr>\n",
       "    <tr>\n",
       "      <th>0</th>\n",
       "      <td>Degres</td>\n",
       "      <td>20.90906</td>\n",
       "      <td>3388</td>\n",
       "      <td>0.997842</td>\n",
       "    </tr>\n",
       "    <tr>\n",
       "      <th>0</th>\n",
       "      <td>OrdreDegres</td>\n",
       "      <td>13.532361</td>\n",
       "      <td>3376</td>\n",
       "      <td>0.99785</td>\n",
       "    </tr>\n",
       "    <tr>\n",
       "      <th>0</th>\n",
       "      <td>Excentricites</td>\n",
       "      <td>351.759436</td>\n",
       "      <td>68472</td>\n",
       "      <td>0.956387</td>\n",
       "    </tr>\n",
       "    <tr>\n",
       "      <th>0</th>\n",
       "      <td>DegresExcentricites</td>\n",
       "      <td>15.763464</td>\n",
       "      <td>1243</td>\n",
       "      <td>0.999208</td>\n",
       "    </tr>\n",
       "  </tbody>\n",
       "</table>\n",
       "</div>"
      ],
      "text/plain": [
       "               Critere  Efficacite Non_separes Puissance\n",
       "0                Aucun         0.0     1568756       0.0\n",
       "0                Ordre    0.767693      557160  0.645123\n",
       "0               Taille    10.74899       70156  0.955315\n",
       "0          OrdreTaille    8.511829       55771  0.964477\n",
       "0               Degres    20.90906        3388  0.997842\n",
       "0          OrdreDegres   13.532361        3376   0.99785\n",
       "0        Excentricites  351.759436       68472  0.956387\n",
       "0  DegresExcentricites   15.763464        1243  0.999208"
      ]
     },
     "execution_count": 33,
     "metadata": {},
     "output_type": "execute_result"
    }
   ],
   "source": [
    "degresexcentricitespd = pd.Series({'Critere': 'DegresExcentricites',\n",
    "                        'Efficacite': duree_degresexcentricites,\n",
    "                        'Non_separes' : degresexcentricites_cnt,\n",
    "                        'Puissance': 1-efficacité_degresexcentricites})\n",
    "\n",
    "Critere_Iso = pd.concat([Critere_Iso, degresexcentricitespd.to_frame().T])\n",
    "Critere_Iso"
   ]
  },
  {
   "cell_type": "markdown",
   "metadata": {},
   "source": [
    "-----------"
   ]
  },
  {
   "cell_type": "markdown",
   "metadata": {},
   "source": [
    "# Approche algébrique : Valeurs propres\n",
    "\n",
    "Un puissant invariant de matrice est leur spectre, c'est-à-dire l'ensemble des valeurs propres.\n",
    "\n",
    "Pour rappel : \n",
    "\n",
    "Soit $M$ une matrice. $ \\alpha$ est une \\textbf{valeur propre} de $M$ si $\\exists \\mathbf{v}, \\: \\: M\\mathbf{v} = \\alpha \\mathbf{v}$\n",
    "Si $M$ est une matrice, on notera $sp(M)$ son spectre, c'est-à-dire la liste (triée) de toutes ses valeurs propres (deux-à-deux indépendantes).\n",
    "\n",
    "\n",
    "La partie des maths qui s'intéresse aux valeurs propres des graphes est la **théorie algébrique des graphes**. C'est un domaine dynamique qui trouve ses origines et ses applications notamment dans la chimie et les sciences des données (ACP, clustering spectral ...).\n",
    "\n"
   ]
  },
  {
   "cell_type": "markdown",
   "metadata": {},
   "source": [
    "\n",
    "\n",
    "## Matrice d'adjacence\n",
    "\n",
    "Il est standard que si $M$ et $M'$ sont deux matrices d'adjacences de graphes isomorphe, alors $sp(M) = sp(N)$.\n",
    "\n",
    "\n",
    "On va utiliser la réciproque comme critère.\n",
    "Le calcul du spectre (approché) est en $O(n^3)$ (mais comme le problème est important et bien étudié, les implémentations sont généralement plus efficaces en pratique).\n",
    "\n",
    "On va utiliser <tt>np.linalg.eigvals</tt> qui traite spécifiquement les matrices symétriques (c'est le cas de nos matrices d'adjacences) pour lesquels des résultats forts existent.\n",
    "\n",
    "\n"
   ]
  },
  {
   "cell_type": "code",
   "execution_count": 34,
   "metadata": {},
   "outputs": [
    {
     "data": {
      "text/plain": [
       "array([-1.61803399e+00, -1.30277564e+00,  5.35809654e-17,  6.18033989e-01,\n",
       "        2.30277564e+00])"
      ]
     },
     "execution_count": 34,
     "metadata": {},
     "output_type": "execute_result"
    }
   ],
   "source": [
    "def spectreAdj(graph):\n",
    "    sp = np.linalg.eigvals(graph)\n",
    "    \n",
    "    return np.sort(sp)\n",
    "\n",
    "spectreAdj(G_adj[35]) ## on voit ici qu'on obtient seulement une approximation, le spectre théorique est [1/2 * (-1 - sqrt(5)) ;  1/2 + (1 - sqrt(13)) ;  0 ;  1/2 * (-1 + sqrt(5)) ; 1/2 + (1 + sqrt(13))]"
   ]
  },
  {
   "cell_type": "code",
   "execution_count": 35,
   "metadata": {},
   "outputs": [],
   "source": [
    "def test_spectreAdj():\n",
    "    \n",
    "    unconclusive_cnt = 0 ## nombre de paires non séparées par le critère\n",
    "    unconclusive = [] ## paires non séparées par le critère\n",
    "\n",
    "    for i in range(NUM_GRAPH):\n",
    "        for j in range(i+1,NUM_GRAPH):\n",
    "            if ordre(G_adj[i]) == ordre(G_adj[j]) : #obligatoire pour le bon fonctionnement de la comparaison suivante\n",
    "                if np.allclose(spectreAdj(G_adj[i]),spectreAdj(G_adj[j])): ##floating point -> changing == to close\n",
    "                    unconclusive_cnt = unconclusive_cnt + 1\n",
    "                    unconclusive.append([i,j])\n",
    "                \n",
    "                \n",
    "    return unconclusive_cnt,unconclusive"
   ]
  },
  {
   "cell_type": "code",
   "execution_count": 36,
   "metadata": {},
   "outputs": [
    {
     "name": "stdout",
     "output_type": "stream",
     "text": [
      "durée :  67.47574234008789\n",
      "non spéparés :  65  efficacité :  0.9999585989370755 %\n"
     ]
    }
   ],
   "source": [
    "start = time.time()\n",
    "spectreAdj_cnt,spectreAdj_list = test_spectreAdj()\n",
    "end = time.time()\n",
    "\n",
    "\n",
    "duree_spectreAdj = end - start\n",
    "efficacité_spectreAdj = spectreAdj_cnt/(NUM_GRAPH * NUM_GRAPH-1)\n",
    "\n",
    "print(\"durée : \", duree_spectreAdj)\n",
    "print(\"non spéparés : \", spectreAdj_cnt, \" efficacité : \", 1-efficacité_spectreAdj, \"%\")"
   ]
  },
  {
   "cell_type": "code",
   "execution_count": 37,
   "metadata": {},
   "outputs": [
    {
     "data": {
      "text/html": [
       "<div>\n",
       "<style scoped>\n",
       "    .dataframe tbody tr th:only-of-type {\n",
       "        vertical-align: middle;\n",
       "    }\n",
       "\n",
       "    .dataframe tbody tr th {\n",
       "        vertical-align: top;\n",
       "    }\n",
       "\n",
       "    .dataframe thead th {\n",
       "        text-align: right;\n",
       "    }\n",
       "</style>\n",
       "<table border=\"1\" class=\"dataframe\">\n",
       "  <thead>\n",
       "    <tr style=\"text-align: right;\">\n",
       "      <th></th>\n",
       "      <th>Critere</th>\n",
       "      <th>Efficacite</th>\n",
       "      <th>Non_separes</th>\n",
       "      <th>Puissance</th>\n",
       "    </tr>\n",
       "  </thead>\n",
       "  <tbody>\n",
       "    <tr>\n",
       "      <th>0</th>\n",
       "      <td>Aucun</td>\n",
       "      <td>0.0</td>\n",
       "      <td>1568756</td>\n",
       "      <td>0.0</td>\n",
       "    </tr>\n",
       "    <tr>\n",
       "      <th>0</th>\n",
       "      <td>Ordre</td>\n",
       "      <td>0.767693</td>\n",
       "      <td>557160</td>\n",
       "      <td>0.645123</td>\n",
       "    </tr>\n",
       "    <tr>\n",
       "      <th>0</th>\n",
       "      <td>Taille</td>\n",
       "      <td>10.74899</td>\n",
       "      <td>70156</td>\n",
       "      <td>0.955315</td>\n",
       "    </tr>\n",
       "    <tr>\n",
       "      <th>0</th>\n",
       "      <td>OrdreTaille</td>\n",
       "      <td>8.511829</td>\n",
       "      <td>55771</td>\n",
       "      <td>0.964477</td>\n",
       "    </tr>\n",
       "    <tr>\n",
       "      <th>0</th>\n",
       "      <td>Degres</td>\n",
       "      <td>20.90906</td>\n",
       "      <td>3388</td>\n",
       "      <td>0.997842</td>\n",
       "    </tr>\n",
       "    <tr>\n",
       "      <th>0</th>\n",
       "      <td>OrdreDegres</td>\n",
       "      <td>13.532361</td>\n",
       "      <td>3376</td>\n",
       "      <td>0.99785</td>\n",
       "    </tr>\n",
       "    <tr>\n",
       "      <th>0</th>\n",
       "      <td>Excentricites</td>\n",
       "      <td>351.759436</td>\n",
       "      <td>68472</td>\n",
       "      <td>0.956387</td>\n",
       "    </tr>\n",
       "    <tr>\n",
       "      <th>0</th>\n",
       "      <td>DegresExcentricites</td>\n",
       "      <td>15.763464</td>\n",
       "      <td>1243</td>\n",
       "      <td>0.999208</td>\n",
       "    </tr>\n",
       "    <tr>\n",
       "      <th>0</th>\n",
       "      <td>SpectreAdjacence</td>\n",
       "      <td>67.475742</td>\n",
       "      <td>65</td>\n",
       "      <td>0.999959</td>\n",
       "    </tr>\n",
       "  </tbody>\n",
       "</table>\n",
       "</div>"
      ],
      "text/plain": [
       "               Critere  Efficacite Non_separes Puissance\n",
       "0                Aucun         0.0     1568756       0.0\n",
       "0                Ordre    0.767693      557160  0.645123\n",
       "0               Taille    10.74899       70156  0.955315\n",
       "0          OrdreTaille    8.511829       55771  0.964477\n",
       "0               Degres    20.90906        3388  0.997842\n",
       "0          OrdreDegres   13.532361        3376   0.99785\n",
       "0        Excentricites  351.759436       68472  0.956387\n",
       "0  DegresExcentricites   15.763464        1243  0.999208\n",
       "0     SpectreAdjacence   67.475742          65  0.999959"
      ]
     },
     "execution_count": 37,
     "metadata": {},
     "output_type": "execute_result"
    }
   ],
   "source": [
    "spectreAdjpd = pd.Series({'Critere': 'SpectreAdjacence',\n",
    "                        'Efficacite': duree_spectreAdj,\n",
    "                        'Non_separes' : spectreAdj_cnt,\n",
    "                        'Puissance': 1-efficacité_spectreAdj})\n",
    "\n",
    "Critere_Iso = pd.concat([Critere_Iso, spectreAdjpd.to_frame().T])\n",
    "Critere_Iso"
   ]
  },
  {
   "cell_type": "markdown",
   "metadata": {},
   "source": [
    "L'utilisation d'une bibliothèque externe rend l'efficacité tout à fait acceptable, surtout à la vue du la puissance. On peut toutefois remarquer l'existence de paires non-séparées alors que des critères précédant feraient la différence. Par exemple :"
   ]
  },
  {
   "cell_type": "code",
   "execution_count": 38,
   "metadata": {},
   "outputs": [
    {
     "data": {
      "text/plain": [
       "[28, 29]"
      ]
     },
     "execution_count": 38,
     "metadata": {},
     "output_type": "execute_result"
    }
   ],
   "source": [
    "spectreAdj_list[1] #paire cospectrale (non triviale)"
   ]
  },
  {
   "cell_type": "code",
   "execution_count": 39,
   "metadata": {},
   "outputs": [
    {
     "data": {
      "image/png": "[encoded data removed]",
      "text/plain": [
       "<Figure size 432x288 with 1 Axes>"
      ]
     },
     "metadata": {},
     "output_type": "display_data"
    }
   ],
   "source": [
    "nx.draw(G_all[28])"
   ]
  },
  {
   "cell_type": "code",
   "execution_count": 40,
   "metadata": {},
   "outputs": [
    {
     "data": {
      "image/png": "[encoded data removed]",
      "text/plain": [
       "<Figure size 432x288 with 1 Axes>"
      ]
     },
     "metadata": {},
     "output_type": "display_data"
    }
   ],
   "source": [
    "nx.draw(G_all[29])"
   ]
  },
  {
   "cell_type": "markdown",
   "metadata": {},
   "source": [
    "On peut rajouter le critère \"degré\", qui est très efficace et relativement puissant"
   ]
  },
  {
   "cell_type": "code",
   "execution_count": 41,
   "metadata": {},
   "outputs": [],
   "source": [
    "def test_degreeSpectreAdj():\n",
    "    \n",
    "    unconclusive_cnt = 0 ## nombre de paires non séparées par le critère\n",
    "    unconclusive = [] ## paires non séparées par le critère\n",
    "\n",
    "    for i in range(NUM_GRAPH):\n",
    "        for j in range(i+1,NUM_GRAPH):\n",
    "            if ordre(G_adj[i]) == ordre(G_adj[j]) : #obligatoire pour le bon fonctionnement de la comparaison suivante\n",
    "                if np.alltrue(degres(G_adj[i]) == degres(G_adj[j])):\n",
    "                    if np.allclose(spectreAdj(G_adj[i]),spectreAdj(G_adj[j])): ##floating point -> changing == to close\n",
    "                        unconclusive_cnt = unconclusive_cnt + 1\n",
    "                        unconclusive.append([i,j])\n",
    "                \n",
    "                \n",
    "    return unconclusive_cnt,unconclusive"
   ]
  },
  {
   "cell_type": "code",
   "execution_count": 42,
   "metadata": {},
   "outputs": [
    {
     "name": "stdout",
     "output_type": "stream",
     "text": [
      "durée :  13.879982709884644\n",
      "non spéparés :  1  efficacité :  0.9999993630605704 %\n"
     ]
    }
   ],
   "source": [
    "start = time.time()\n",
    "degreeSpectreAdj_cnt,degreeSpectreAdj_list = test_degreeSpectreAdj()\n",
    "end = time.time()\n",
    "\n",
    "\n",
    "duree_degreeSpectreAdj = end - start\n",
    "efficacité_degreeSpectreAdj = degreeSpectreAdj_cnt/(NUM_GRAPH * NUM_GRAPH-1)\n",
    "\n",
    "print(\"durée : \", duree_degreeSpectreAdj)\n",
    "print(\"non spéparés : \",degreeSpectreAdj_cnt, \" efficacité : \", 1-efficacité_degreeSpectreAdj, \"%\")"
   ]
  },
  {
   "cell_type": "code",
   "execution_count": 43,
   "metadata": {},
   "outputs": [
    {
     "data": {
      "text/html": [
       "<div>\n",
       "<style scoped>\n",
       "    .dataframe tbody tr th:only-of-type {\n",
       "        vertical-align: middle;\n",
       "    }\n",
       "\n",
       "    .dataframe tbody tr th {\n",
       "        vertical-align: top;\n",
       "    }\n",
       "\n",
       "    .dataframe thead th {\n",
       "        text-align: right;\n",
       "    }\n",
       "</style>\n",
       "<table border=\"1\" class=\"dataframe\">\n",
       "  <thead>\n",
       "    <tr style=\"text-align: right;\">\n",
       "      <th></th>\n",
       "      <th>Critere</th>\n",
       "      <th>Efficacite</th>\n",
       "      <th>Non_separes</th>\n",
       "      <th>Puissance</th>\n",
       "    </tr>\n",
       "  </thead>\n",
       "  <tbody>\n",
       "    <tr>\n",
       "      <th>0</th>\n",
       "      <td>Aucun</td>\n",
       "      <td>0.0</td>\n",
       "      <td>1568756</td>\n",
       "      <td>0.0</td>\n",
       "    </tr>\n",
       "    <tr>\n",
       "      <th>0</th>\n",
       "      <td>Ordre</td>\n",
       "      <td>0.767693</td>\n",
       "      <td>557160</td>\n",
       "      <td>0.645123</td>\n",
       "    </tr>\n",
       "    <tr>\n",
       "      <th>0</th>\n",
       "      <td>Taille</td>\n",
       "      <td>10.74899</td>\n",
       "      <td>70156</td>\n",
       "      <td>0.955315</td>\n",
       "    </tr>\n",
       "    <tr>\n",
       "      <th>0</th>\n",
       "      <td>OrdreTaille</td>\n",
       "      <td>8.511829</td>\n",
       "      <td>55771</td>\n",
       "      <td>0.964477</td>\n",
       "    </tr>\n",
       "    <tr>\n",
       "      <th>0</th>\n",
       "      <td>Degres</td>\n",
       "      <td>20.90906</td>\n",
       "      <td>3388</td>\n",
       "      <td>0.997842</td>\n",
       "    </tr>\n",
       "    <tr>\n",
       "      <th>0</th>\n",
       "      <td>OrdreDegres</td>\n",
       "      <td>13.532361</td>\n",
       "      <td>3376</td>\n",
       "      <td>0.99785</td>\n",
       "    </tr>\n",
       "    <tr>\n",
       "      <th>0</th>\n",
       "      <td>Excentricites</td>\n",
       "      <td>351.759436</td>\n",
       "      <td>68472</td>\n",
       "      <td>0.956387</td>\n",
       "    </tr>\n",
       "    <tr>\n",
       "      <th>0</th>\n",
       "      <td>DegresExcentricites</td>\n",
       "      <td>15.763464</td>\n",
       "      <td>1243</td>\n",
       "      <td>0.999208</td>\n",
       "    </tr>\n",
       "    <tr>\n",
       "      <th>0</th>\n",
       "      <td>SpectreAdjacence</td>\n",
       "      <td>67.475742</td>\n",
       "      <td>65</td>\n",
       "      <td>0.999959</td>\n",
       "    </tr>\n",
       "    <tr>\n",
       "      <th>0</th>\n",
       "      <td>DegreeSpectreAdjacence</td>\n",
       "      <td>13.879983</td>\n",
       "      <td>1</td>\n",
       "      <td>0.999999</td>\n",
       "    </tr>\n",
       "  </tbody>\n",
       "</table>\n",
       "</div>"
      ],
      "text/plain": [
       "                  Critere  Efficacite Non_separes Puissance\n",
       "0                   Aucun         0.0     1568756       0.0\n",
       "0                   Ordre    0.767693      557160  0.645123\n",
       "0                  Taille    10.74899       70156  0.955315\n",
       "0             OrdreTaille    8.511829       55771  0.964477\n",
       "0                  Degres    20.90906        3388  0.997842\n",
       "0             OrdreDegres   13.532361        3376   0.99785\n",
       "0           Excentricites  351.759436       68472  0.956387\n",
       "0     DegresExcentricites   15.763464        1243  0.999208\n",
       "0        SpectreAdjacence   67.475742          65  0.999959\n",
       "0  DegreeSpectreAdjacence   13.879983           1  0.999999"
      ]
     },
     "execution_count": 43,
     "metadata": {},
     "output_type": "execute_result"
    }
   ],
   "source": [
    "degreespectreAdjpd = pd.Series({'Critere': 'DegreeSpectreAdjacence',\n",
    "                        'Efficacite': duree_degreeSpectreAdj,\n",
    "                        'Non_separes' : degreeSpectreAdj_cnt,\n",
    "                        'Puissance': 1-efficacité_degreeSpectreAdj})\n",
    "\n",
    "Critere_Iso = pd.concat([Critere_Iso, degreespectreAdjpd.to_frame().T])\n",
    "Critere_Iso"
   ]
  },
  {
   "cell_type": "markdown",
   "metadata": {},
   "source": [
    "\n",
    "## Matrice Laplacienne\n",
    "\n",
    "Une autre matrice très importante en théorie spectrale des graphes est la **matrice Laplacienne**.\n",
    "\n",
    "\n",
    "Cette matrice est définie comme $L_G =  M_G - \\Delta_G$ où $M_G$ est la matrice d'adjacence du graphe et $\\Delta_G$ est la matrice diagonale contenant les degrés des sommets.\n",
    "\n",
    "Là encore la complexité est, au pire, en $O(n^3)$\n",
    "\n"
   ]
  },
  {
   "cell_type": "code",
   "execution_count": 44,
   "metadata": {},
   "outputs": [
    {
     "data": {
      "text/plain": [
       "array([[ 3, -1, -1,  0, -1],\n",
       "       [-1,  2, -1,  0,  0],\n",
       "       [-1, -1,  3, -1,  0],\n",
       "       [ 0,  0, -1,  1,  0],\n",
       "       [-1,  0,  0,  0,  1]])"
      ]
     },
     "execution_count": 44,
     "metadata": {},
     "output_type": "execute_result"
    }
   ],
   "source": [
    "#la matrice laplacienne étant une matrice classique, elle est implémentée dans networkx au même titre que la matrice d'adjacence\n",
    "G_lapl= G_adj.copy()\n",
    "#la matrice d'adjacence du graphe à 1 sommet n'est pas défini, il faut donc le traiter à part#\n",
    "G_lapl[0] = np.array([[0]])\n",
    "G_lapl[1:] = [nx.laplacian_matrix(graph).toarray() for graph in G_all[1:]]\n",
    "\n",
    "\n",
    "G_lapl[35]\n"
   ]
  },
  {
   "cell_type": "code",
   "execution_count": 45,
   "metadata": {},
   "outputs": [
    {
     "data": {
      "text/plain": [
       "array([9.26785575e-17, 6.97224362e-01, 1.38196601e+00, 3.61803399e+00,\n",
       "       4.30277564e+00])"
      ]
     },
     "execution_count": 45,
     "metadata": {},
     "output_type": "execute_result"
    }
   ],
   "source": [
    "def spectreLapl(graph):\n",
    "    sp = np.linalg.eigvals(graph)    \n",
    "    return np.sort(sp)\n",
    "\n",
    "spectreAdj(G_lapl[35]) ## on voit ici qu'on obtient seulement une approximation, le spectre théorique est contient 0"
   ]
  },
  {
   "cell_type": "code",
   "execution_count": 46,
   "metadata": {},
   "outputs": [],
   "source": [
    "def test_spectreLapl():\n",
    "    \n",
    "    unconclusive_cnt = 0 ## nombre de paires non séparées par le critère\n",
    "    unconclusive = [] ## paires non séparées par le critère\n",
    "\n",
    "    for i in range(NUM_GRAPH):\n",
    "        for j in range(i+1,NUM_GRAPH):\n",
    "            if ordre(G_lapl[i]) == ordre(G_lapl[j]) : #ordre fonctionne aussi avec lapl\n",
    "                if np.allclose(spectreLapl(G_lapl[i]),spectreLapl(G_lapl[j])): ##floating point -> changing == to close\n",
    "                    unconclusive_cnt = unconclusive_cnt + 1\n",
    "                    unconclusive.append([i,j])\n",
    "                \n",
    "                \n",
    "    return unconclusive_cnt,unconclusive"
   ]
  },
  {
   "cell_type": "code",
   "execution_count": 47,
   "metadata": {},
   "outputs": [
    {
     "name": "stdout",
     "output_type": "stream",
     "text": [
      "durée :  65.14037990570068\n",
      "non spéparés :  77  efficacité :  0.9999509556639202 %\n"
     ]
    }
   ],
   "source": [
    "start = time.time()\n",
    "spectreLapl_cnt,spectreLapl_list = test_spectreLapl()\n",
    "end = time.time()\n",
    "\n",
    "\n",
    "duree_spectreLapl = end - start\n",
    "efficacité_spectreLapl = spectreLapl_cnt/(NUM_GRAPH * NUM_GRAPH-1)\n",
    "\n",
    "print(\"durée : \", duree_spectreLapl)\n",
    "print(\"non spéparés : \", spectreLapl_cnt, \" efficacité : \", 1-efficacité_spectreLapl, \"%\")"
   ]
  },
  {
   "cell_type": "code",
   "execution_count": 48,
   "metadata": {},
   "outputs": [
    {
     "data": {
      "text/html": [
       "<div>\n",
       "<style scoped>\n",
       "    .dataframe tbody tr th:only-of-type {\n",
       "        vertical-align: middle;\n",
       "    }\n",
       "\n",
       "    .dataframe tbody tr th {\n",
       "        vertical-align: top;\n",
       "    }\n",
       "\n",
       "    .dataframe thead th {\n",
       "        text-align: right;\n",
       "    }\n",
       "</style>\n",
       "<table border=\"1\" class=\"dataframe\">\n",
       "  <thead>\n",
       "    <tr style=\"text-align: right;\">\n",
       "      <th></th>\n",
       "      <th>Critere</th>\n",
       "      <th>Efficacite</th>\n",
       "      <th>Non_separes</th>\n",
       "      <th>Puissance</th>\n",
       "    </tr>\n",
       "  </thead>\n",
       "  <tbody>\n",
       "    <tr>\n",
       "      <th>0</th>\n",
       "      <td>Aucun</td>\n",
       "      <td>0.0</td>\n",
       "      <td>1568756</td>\n",
       "      <td>0.0</td>\n",
       "    </tr>\n",
       "    <tr>\n",
       "      <th>0</th>\n",
       "      <td>Ordre</td>\n",
       "      <td>0.767693</td>\n",
       "      <td>557160</td>\n",
       "      <td>0.645123</td>\n",
       "    </tr>\n",
       "    <tr>\n",
       "      <th>0</th>\n",
       "      <td>Taille</td>\n",
       "      <td>10.74899</td>\n",
       "      <td>70156</td>\n",
       "      <td>0.955315</td>\n",
       "    </tr>\n",
       "    <tr>\n",
       "      <th>0</th>\n",
       "      <td>OrdreTaille</td>\n",
       "      <td>8.511829</td>\n",
       "      <td>55771</td>\n",
       "      <td>0.964477</td>\n",
       "    </tr>\n",
       "    <tr>\n",
       "      <th>0</th>\n",
       "      <td>Degres</td>\n",
       "      <td>20.90906</td>\n",
       "      <td>3388</td>\n",
       "      <td>0.997842</td>\n",
       "    </tr>\n",
       "    <tr>\n",
       "      <th>0</th>\n",
       "      <td>OrdreDegres</td>\n",
       "      <td>13.532361</td>\n",
       "      <td>3376</td>\n",
       "      <td>0.99785</td>\n",
       "    </tr>\n",
       "    <tr>\n",
       "      <th>0</th>\n",
       "      <td>Excentricites</td>\n",
       "      <td>351.759436</td>\n",
       "      <td>68472</td>\n",
       "      <td>0.956387</td>\n",
       "    </tr>\n",
       "    <tr>\n",
       "      <th>0</th>\n",
       "      <td>DegresExcentricites</td>\n",
       "      <td>15.763464</td>\n",
       "      <td>1243</td>\n",
       "      <td>0.999208</td>\n",
       "    </tr>\n",
       "    <tr>\n",
       "      <th>0</th>\n",
       "      <td>SpectreAdjacence</td>\n",
       "      <td>67.475742</td>\n",
       "      <td>65</td>\n",
       "      <td>0.999959</td>\n",
       "    </tr>\n",
       "    <tr>\n",
       "      <th>0</th>\n",
       "      <td>DegreeSpectreAdjacence</td>\n",
       "      <td>13.879983</td>\n",
       "      <td>1</td>\n",
       "      <td>0.999999</td>\n",
       "    </tr>\n",
       "    <tr>\n",
       "      <th>0</th>\n",
       "      <td>SpectreLaplacien</td>\n",
       "      <td>65.14038</td>\n",
       "      <td>77</td>\n",
       "      <td>0.999951</td>\n",
       "    </tr>\n",
       "  </tbody>\n",
       "</table>\n",
       "</div>"
      ],
      "text/plain": [
       "                  Critere  Efficacite Non_separes Puissance\n",
       "0                   Aucun         0.0     1568756       0.0\n",
       "0                   Ordre    0.767693      557160  0.645123\n",
       "0                  Taille    10.74899       70156  0.955315\n",
       "0             OrdreTaille    8.511829       55771  0.964477\n",
       "0                  Degres    20.90906        3388  0.997842\n",
       "0             OrdreDegres   13.532361        3376   0.99785\n",
       "0           Excentricites  351.759436       68472  0.956387\n",
       "0     DegresExcentricites   15.763464        1243  0.999208\n",
       "0        SpectreAdjacence   67.475742          65  0.999959\n",
       "0  DegreeSpectreAdjacence   13.879983           1  0.999999\n",
       "0        SpectreLaplacien    65.14038          77  0.999951"
      ]
     },
     "execution_count": 48,
     "metadata": {},
     "output_type": "execute_result"
    }
   ],
   "source": [
    "spectreLaplpd = pd.Series({'Critere': 'SpectreLaplacien',\n",
    "                        'Efficacite': duree_spectreLapl,\n",
    "                        'Non_separes' : spectreLapl_cnt,\n",
    "                        'Puissance': 1-efficacité_spectreLapl})\n",
    "\n",
    "Critere_Iso = pd.concat([Critere_Iso, spectreLaplpd.to_frame().T])\n",
    "Critere_Iso"
   ]
  },
  {
   "cell_type": "markdown",
   "metadata": {},
   "source": [
    "Là aussi, on peut utiliser les degrés, en utilisant la structre de la laplacienne pour plus d'efficacité"
   ]
  },
  {
   "cell_type": "code",
   "execution_count": 49,
   "metadata": {},
   "outputs": [],
   "source": [
    "def test_degreeSpectreLapl():\n",
    "    \n",
    "    unconclusive_cnt = 0 ## nombre de paires non séparées par le critère\n",
    "    unconclusive = [] ## paires non séparées par le critère\n",
    "\n",
    "    for i in range(NUM_GRAPH):\n",
    "        for j in range(i+1,NUM_GRAPH):\n",
    "            if ordre(G_lapl[i]) == ordre(G_lapl[j]) : #ordre fonctionne aussi avec lapl\n",
    "                if np.alltrue(np.sort(np.diag((G_lapl[i]))) == np.sort(np.diag((G_lapl[j])))):                \n",
    "                    if np.allclose(spectreLapl(G_lapl[i]),spectreLapl(G_lapl[j])): ##floating point -> changing == to close\n",
    "                        unconclusive_cnt = unconclusive_cnt + 1\n",
    "                        unconclusive.append([i,j])\n",
    "                \n",
    "                \n",
    "    return unconclusive_cnt,unconclusive"
   ]
  },
  {
   "cell_type": "code",
   "execution_count": 50,
   "metadata": {},
   "outputs": [
    {
     "name": "stdout",
     "output_type": "stream",
     "text": [
      "durée :  8.829781532287598\n",
      "non spéparés :  39  efficacité :  0.9999751593622452 %\n"
     ]
    }
   ],
   "source": [
    "start = time.time()\n",
    "degreeSpectreLapl_cnt,degreeSpectreLapl_list = test_degreeSpectreLapl()\n",
    "end = time.time()\n",
    "\n",
    "\n",
    "duree_degreeSpectreLapl = end - start\n",
    "efficacité_degreeSpectreLapl = degreeSpectreLapl_cnt/(NUM_GRAPH * NUM_GRAPH-1)\n",
    "\n",
    "print(\"durée : \", duree_degreeSpectreLapl)\n",
    "print(\"non spéparés : \", degreeSpectreLapl_cnt, \" efficacité : \", 1-efficacité_degreeSpectreLapl, \"%\")"
   ]
  },
  {
   "cell_type": "code",
   "execution_count": 51,
   "metadata": {},
   "outputs": [
    {
     "data": {
      "text/html": [
       "<div>\n",
       "<style scoped>\n",
       "    .dataframe tbody tr th:only-of-type {\n",
       "        vertical-align: middle;\n",
       "    }\n",
       "\n",
       "    .dataframe tbody tr th {\n",
       "        vertical-align: top;\n",
       "    }\n",
       "\n",
       "    .dataframe thead th {\n",
       "        text-align: right;\n",
       "    }\n",
       "</style>\n",
       "<table border=\"1\" class=\"dataframe\">\n",
       "  <thead>\n",
       "    <tr style=\"text-align: right;\">\n",
       "      <th></th>\n",
       "      <th>Critere</th>\n",
       "      <th>Efficacite</th>\n",
       "      <th>Non_separes</th>\n",
       "      <th>Puissance</th>\n",
       "    </tr>\n",
       "  </thead>\n",
       "  <tbody>\n",
       "    <tr>\n",
       "      <th>0</th>\n",
       "      <td>Aucun</td>\n",
       "      <td>0.0</td>\n",
       "      <td>1568756</td>\n",
       "      <td>0.0</td>\n",
       "    </tr>\n",
       "    <tr>\n",
       "      <th>0</th>\n",
       "      <td>Ordre</td>\n",
       "      <td>0.767693</td>\n",
       "      <td>557160</td>\n",
       "      <td>0.645123</td>\n",
       "    </tr>\n",
       "    <tr>\n",
       "      <th>0</th>\n",
       "      <td>Taille</td>\n",
       "      <td>10.74899</td>\n",
       "      <td>70156</td>\n",
       "      <td>0.955315</td>\n",
       "    </tr>\n",
       "    <tr>\n",
       "      <th>0</th>\n",
       "      <td>OrdreTaille</td>\n",
       "      <td>8.511829</td>\n",
       "      <td>55771</td>\n",
       "      <td>0.964477</td>\n",
       "    </tr>\n",
       "    <tr>\n",
       "      <th>0</th>\n",
       "      <td>Degres</td>\n",
       "      <td>20.90906</td>\n",
       "      <td>3388</td>\n",
       "      <td>0.997842</td>\n",
       "    </tr>\n",
       "    <tr>\n",
       "      <th>0</th>\n",
       "      <td>OrdreDegres</td>\n",
       "      <td>13.532361</td>\n",
       "      <td>3376</td>\n",
       "      <td>0.99785</td>\n",
       "    </tr>\n",
       "    <tr>\n",
       "      <th>0</th>\n",
       "      <td>Excentricites</td>\n",
       "      <td>351.759436</td>\n",
       "      <td>68472</td>\n",
       "      <td>0.956387</td>\n",
       "    </tr>\n",
       "    <tr>\n",
       "      <th>0</th>\n",
       "      <td>DegresExcentricites</td>\n",
       "      <td>15.763464</td>\n",
       "      <td>1243</td>\n",
       "      <td>0.999208</td>\n",
       "    </tr>\n",
       "    <tr>\n",
       "      <th>0</th>\n",
       "      <td>SpectreAdjacence</td>\n",
       "      <td>67.475742</td>\n",
       "      <td>65</td>\n",
       "      <td>0.999959</td>\n",
       "    </tr>\n",
       "    <tr>\n",
       "      <th>0</th>\n",
       "      <td>DegreeSpectreAdjacence</td>\n",
       "      <td>13.879983</td>\n",
       "      <td>1</td>\n",
       "      <td>0.999999</td>\n",
       "    </tr>\n",
       "    <tr>\n",
       "      <th>0</th>\n",
       "      <td>SpectreLaplacien</td>\n",
       "      <td>65.14038</td>\n",
       "      <td>77</td>\n",
       "      <td>0.999951</td>\n",
       "    </tr>\n",
       "    <tr>\n",
       "      <th>0</th>\n",
       "      <td>DegreeSpectreLaplacien</td>\n",
       "      <td>8.829782</td>\n",
       "      <td>39</td>\n",
       "      <td>0.999975</td>\n",
       "    </tr>\n",
       "  </tbody>\n",
       "</table>\n",
       "</div>"
      ],
      "text/plain": [
       "                  Critere  Efficacite Non_separes Puissance\n",
       "0                   Aucun         0.0     1568756       0.0\n",
       "0                   Ordre    0.767693      557160  0.645123\n",
       "0                  Taille    10.74899       70156  0.955315\n",
       "0             OrdreTaille    8.511829       55771  0.964477\n",
       "0                  Degres    20.90906        3388  0.997842\n",
       "0             OrdreDegres   13.532361        3376   0.99785\n",
       "0           Excentricites  351.759436       68472  0.956387\n",
       "0     DegresExcentricites   15.763464        1243  0.999208\n",
       "0        SpectreAdjacence   67.475742          65  0.999959\n",
       "0  DegreeSpectreAdjacence   13.879983           1  0.999999\n",
       "0        SpectreLaplacien    65.14038          77  0.999951\n",
       "0  DegreeSpectreLaplacien    8.829782          39  0.999975"
      ]
     },
     "execution_count": 51,
     "metadata": {},
     "output_type": "execute_result"
    }
   ],
   "source": [
    "degreeSpectreLaplpd = pd.Series({'Critere': 'DegreeSpectreLaplacien',\n",
    "                        'Efficacite': duree_degreeSpectreLapl,\n",
    "                        'Non_separes' : degreeSpectreLapl_cnt,\n",
    "                        'Puissance': 1-efficacité_degreeSpectreLapl})\n",
    "\n",
    "Critere_Iso = pd.concat([Critere_Iso, degreeSpectreLaplpd.to_frame().T])\n",
    "Critere_Iso"
   ]
  },
  {
   "cell_type": "markdown",
   "metadata": {},
   "source": [
    "Enfin, on se demande s'il existe des (petits) graphes cospectraux pour la matrice d'adjacence _et_ la matrice laplacienne."
   ]
  },
  {
   "cell_type": "code",
   "execution_count": 52,
   "metadata": {},
   "outputs": [],
   "source": [
    "def test_SpectresAdjLapl():\n",
    "    \n",
    "    unconclusive_cnt = 0 ## nombre de paires non séparées par le critère\n",
    "    unconclusive = [] ## paires non séparées par le critère\n",
    "    cnt1 = 0\n",
    "    cnt2 = 0\n",
    "    \n",
    "    for i in range(NUM_GRAPH):\n",
    "        for j in range(i+1,NUM_GRAPH):\n",
    "            if ordre(G_lapl[i]) == ordre(G_lapl[j]) : #ordre fonctionne aussi avec lapl\n",
    "                cnt2 = cnt2+1\n",
    " \n",
    "                if np.allclose(spectreAdj(G_adj[i]),spectreAdj(G_adj[j])): ##floating point -> changing == to close\n",
    "                    cnt1 = cnt1+1\n",
    "                    if np.allclose(spectreLapl(G_lapl[i]),spectreLapl(G_lapl[j])): ##floating point -> changing == to close\n",
    "                        unconclusive_cnt = unconclusive_cnt + 1\n",
    "                        unconclusive.append([i,j])\n",
    "                \n",
    "    print(cnt1,cnt2)           \n",
    "    return unconclusive_cnt,unconclusive"
   ]
  },
  {
   "cell_type": "code",
   "execution_count": 53,
   "metadata": {},
   "outputs": [
    {
     "name": "stdout",
     "output_type": "stream",
     "text": [
      "65 557160\n",
      "durée :  63.05851340293884\n",
      "non spéparés :  1  efficacité :  0.9999993630605704 %\n"
     ]
    }
   ],
   "source": [
    "start = time.time()\n",
    "SpectresAdjLapl_cnt,SpectresAdjLapl_list = test_SpectresAdjLapl()\n",
    "end = time.time()\n",
    "\n",
    "\n",
    "duree_SpectresAdjLapl = end - start\n",
    "efficacité_SpectresAdjLapl = SpectresAdjLapl_cnt/(NUM_GRAPH * NUM_GRAPH-1)\n",
    "\n",
    "print(\"durée : \", duree_SpectresAdjLapl)\n",
    "print(\"non spéparés : \", SpectresAdjLapl_cnt, \" efficacité : \", 1-efficacité_SpectresAdjLapl, \"%\")"
   ]
  },
  {
   "cell_type": "code",
   "execution_count": 54,
   "metadata": {},
   "outputs": [
    {
     "data": {
      "text/html": [
       "<div>\n",
       "<style scoped>\n",
       "    .dataframe tbody tr th:only-of-type {\n",
       "        vertical-align: middle;\n",
       "    }\n",
       "\n",
       "    .dataframe tbody tr th {\n",
       "        vertical-align: top;\n",
       "    }\n",
       "\n",
       "    .dataframe thead th {\n",
       "        text-align: right;\n",
       "    }\n",
       "</style>\n",
       "<table border=\"1\" class=\"dataframe\">\n",
       "  <thead>\n",
       "    <tr style=\"text-align: right;\">\n",
       "      <th></th>\n",
       "      <th>Critere</th>\n",
       "      <th>Efficacite</th>\n",
       "      <th>Non_separes</th>\n",
       "      <th>Puissance</th>\n",
       "    </tr>\n",
       "  </thead>\n",
       "  <tbody>\n",
       "    <tr>\n",
       "      <th>0</th>\n",
       "      <td>Aucun</td>\n",
       "      <td>0.0</td>\n",
       "      <td>1568756</td>\n",
       "      <td>0.0</td>\n",
       "    </tr>\n",
       "    <tr>\n",
       "      <th>0</th>\n",
       "      <td>Ordre</td>\n",
       "      <td>0.767693</td>\n",
       "      <td>557160</td>\n",
       "      <td>0.645123</td>\n",
       "    </tr>\n",
       "    <tr>\n",
       "      <th>0</th>\n",
       "      <td>Taille</td>\n",
       "      <td>10.74899</td>\n",
       "      <td>70156</td>\n",
       "      <td>0.955315</td>\n",
       "    </tr>\n",
       "    <tr>\n",
       "      <th>0</th>\n",
       "      <td>OrdreTaille</td>\n",
       "      <td>8.511829</td>\n",
       "      <td>55771</td>\n",
       "      <td>0.964477</td>\n",
       "    </tr>\n",
       "    <tr>\n",
       "      <th>0</th>\n",
       "      <td>Degres</td>\n",
       "      <td>20.90906</td>\n",
       "      <td>3388</td>\n",
       "      <td>0.997842</td>\n",
       "    </tr>\n",
       "    <tr>\n",
       "      <th>0</th>\n",
       "      <td>OrdreDegres</td>\n",
       "      <td>13.532361</td>\n",
       "      <td>3376</td>\n",
       "      <td>0.99785</td>\n",
       "    </tr>\n",
       "    <tr>\n",
       "      <th>0</th>\n",
       "      <td>Excentricites</td>\n",
       "      <td>351.759436</td>\n",
       "      <td>68472</td>\n",
       "      <td>0.956387</td>\n",
       "    </tr>\n",
       "    <tr>\n",
       "      <th>0</th>\n",
       "      <td>DegresExcentricites</td>\n",
       "      <td>15.763464</td>\n",
       "      <td>1243</td>\n",
       "      <td>0.999208</td>\n",
       "    </tr>\n",
       "    <tr>\n",
       "      <th>0</th>\n",
       "      <td>SpectreAdjacence</td>\n",
       "      <td>67.475742</td>\n",
       "      <td>65</td>\n",
       "      <td>0.999959</td>\n",
       "    </tr>\n",
       "    <tr>\n",
       "      <th>0</th>\n",
       "      <td>DegreeSpectreAdjacence</td>\n",
       "      <td>13.879983</td>\n",
       "      <td>1</td>\n",
       "      <td>0.999999</td>\n",
       "    </tr>\n",
       "    <tr>\n",
       "      <th>0</th>\n",
       "      <td>SpectreLaplacien</td>\n",
       "      <td>65.14038</td>\n",
       "      <td>77</td>\n",
       "      <td>0.999951</td>\n",
       "    </tr>\n",
       "    <tr>\n",
       "      <th>0</th>\n",
       "      <td>DegreeSpectreLaplacien</td>\n",
       "      <td>8.829782</td>\n",
       "      <td>39</td>\n",
       "      <td>0.999975</td>\n",
       "    </tr>\n",
       "    <tr>\n",
       "      <th>0</th>\n",
       "      <td>SpectresAdjacenceLaplacien</td>\n",
       "      <td>63.058513</td>\n",
       "      <td>1</td>\n",
       "      <td>0.999999</td>\n",
       "    </tr>\n",
       "  </tbody>\n",
       "</table>\n",
       "</div>"
      ],
      "text/plain": [
       "                      Critere  Efficacite Non_separes Puissance\n",
       "0                       Aucun         0.0     1568756       0.0\n",
       "0                       Ordre    0.767693      557160  0.645123\n",
       "0                      Taille    10.74899       70156  0.955315\n",
       "0                 OrdreTaille    8.511829       55771  0.964477\n",
       "0                      Degres    20.90906        3388  0.997842\n",
       "0                 OrdreDegres   13.532361        3376   0.99785\n",
       "0               Excentricites  351.759436       68472  0.956387\n",
       "0         DegresExcentricites   15.763464        1243  0.999208\n",
       "0            SpectreAdjacence   67.475742          65  0.999959\n",
       "0      DegreeSpectreAdjacence   13.879983           1  0.999999\n",
       "0            SpectreLaplacien    65.14038          77  0.999951\n",
       "0      DegreeSpectreLaplacien    8.829782          39  0.999975\n",
       "0  SpectresAdjacenceLaplacien   63.058513           1  0.999999"
      ]
     },
     "execution_count": 54,
     "metadata": {},
     "output_type": "execute_result"
    }
   ],
   "source": [
    "SpectresAdjLaplpd = pd.Series({'Critere': 'SpectresAdjacenceLaplacien',\n",
    "                        'Efficacite': duree_SpectresAdjLapl,\n",
    "                        'Non_separes' : SpectresAdjLapl_cnt,\n",
    "                        'Puissance': 1-efficacité_SpectresAdjLapl})\n",
    "\n",
    "Critere_Iso = pd.concat([Critere_Iso, SpectresAdjLaplpd.to_frame().T])\n",
    "Critere_Iso"
   ]
  },
  {
   "cell_type": "markdown",
   "metadata": {},
   "source": [
    "--------------"
   ]
  },
  {
   "cell_type": "markdown",
   "metadata": {},
   "source": [
    "# Conclusion\n",
    "\n",
    "Voici le résumé de nos expérimentations : "
   ]
  },
  {
   "cell_type": "code",
   "execution_count": 55,
   "metadata": {},
   "outputs": [
    {
     "data": {
      "text/html": [
       "<div>\n",
       "<style scoped>\n",
       "    .dataframe tbody tr th:only-of-type {\n",
       "        vertical-align: middle;\n",
       "    }\n",
       "\n",
       "    .dataframe tbody tr th {\n",
       "        vertical-align: top;\n",
       "    }\n",
       "\n",
       "    .dataframe thead th {\n",
       "        text-align: right;\n",
       "    }\n",
       "</style>\n",
       "<table border=\"1\" class=\"dataframe\">\n",
       "  <thead>\n",
       "    <tr style=\"text-align: right;\">\n",
       "      <th></th>\n",
       "      <th>Critere</th>\n",
       "      <th>Efficacite</th>\n",
       "      <th>Non_separes</th>\n",
       "      <th>Puissance</th>\n",
       "    </tr>\n",
       "  </thead>\n",
       "  <tbody>\n",
       "    <tr>\n",
       "      <th>0</th>\n",
       "      <td>Aucun</td>\n",
       "      <td>0.0</td>\n",
       "      <td>1568756</td>\n",
       "      <td>0.0</td>\n",
       "    </tr>\n",
       "    <tr>\n",
       "      <th>0</th>\n",
       "      <td>Ordre</td>\n",
       "      <td>0.767693</td>\n",
       "      <td>557160</td>\n",
       "      <td>0.645123</td>\n",
       "    </tr>\n",
       "    <tr>\n",
       "      <th>0</th>\n",
       "      <td>Taille</td>\n",
       "      <td>10.74899</td>\n",
       "      <td>70156</td>\n",
       "      <td>0.955315</td>\n",
       "    </tr>\n",
       "    <tr>\n",
       "      <th>0</th>\n",
       "      <td>OrdreTaille</td>\n",
       "      <td>8.511829</td>\n",
       "      <td>55771</td>\n",
       "      <td>0.964477</td>\n",
       "    </tr>\n",
       "    <tr>\n",
       "      <th>0</th>\n",
       "      <td>Degres</td>\n",
       "      <td>20.90906</td>\n",
       "      <td>3388</td>\n",
       "      <td>0.997842</td>\n",
       "    </tr>\n",
       "    <tr>\n",
       "      <th>0</th>\n",
       "      <td>OrdreDegres</td>\n",
       "      <td>13.532361</td>\n",
       "      <td>3376</td>\n",
       "      <td>0.99785</td>\n",
       "    </tr>\n",
       "    <tr>\n",
       "      <th>0</th>\n",
       "      <td>Excentricites</td>\n",
       "      <td>351.759436</td>\n",
       "      <td>68472</td>\n",
       "      <td>0.956387</td>\n",
       "    </tr>\n",
       "    <tr>\n",
       "      <th>0</th>\n",
       "      <td>DegresExcentricites</td>\n",
       "      <td>15.763464</td>\n",
       "      <td>1243</td>\n",
       "      <td>0.999208</td>\n",
       "    </tr>\n",
       "    <tr>\n",
       "      <th>0</th>\n",
       "      <td>SpectreAdjacence</td>\n",
       "      <td>67.475742</td>\n",
       "      <td>65</td>\n",
       "      <td>0.999959</td>\n",
       "    </tr>\n",
       "    <tr>\n",
       "      <th>0</th>\n",
       "      <td>DegreeSpectreAdjacence</td>\n",
       "      <td>13.879983</td>\n",
       "      <td>1</td>\n",
       "      <td>0.999999</td>\n",
       "    </tr>\n",
       "    <tr>\n",
       "      <th>0</th>\n",
       "      <td>SpectreLaplacien</td>\n",
       "      <td>65.14038</td>\n",
       "      <td>77</td>\n",
       "      <td>0.999951</td>\n",
       "    </tr>\n",
       "    <tr>\n",
       "      <th>0</th>\n",
       "      <td>DegreeSpectreLaplacien</td>\n",
       "      <td>8.829782</td>\n",
       "      <td>39</td>\n",
       "      <td>0.999975</td>\n",
       "    </tr>\n",
       "    <tr>\n",
       "      <th>0</th>\n",
       "      <td>SpectresAdjacenceLaplacien</td>\n",
       "      <td>63.058513</td>\n",
       "      <td>1</td>\n",
       "      <td>0.999999</td>\n",
       "    </tr>\n",
       "  </tbody>\n",
       "</table>\n",
       "</div>"
      ],
      "text/plain": [
       "                      Critere  Efficacite Non_separes Puissance\n",
       "0                       Aucun         0.0     1568756       0.0\n",
       "0                       Ordre    0.767693      557160  0.645123\n",
       "0                      Taille    10.74899       70156  0.955315\n",
       "0                 OrdreTaille    8.511829       55771  0.964477\n",
       "0                      Degres    20.90906        3388  0.997842\n",
       "0                 OrdreDegres   13.532361        3376   0.99785\n",
       "0               Excentricites  351.759436       68472  0.956387\n",
       "0         DegresExcentricites   15.763464        1243  0.999208\n",
       "0            SpectreAdjacence   67.475742          65  0.999959\n",
       "0      DegreeSpectreAdjacence   13.879983           1  0.999999\n",
       "0            SpectreLaplacien    65.14038          77  0.999951\n",
       "0      DegreeSpectreLaplacien    8.829782          39  0.999975\n",
       "0  SpectresAdjacenceLaplacien   63.058513           1  0.999999"
      ]
     },
     "execution_count": 55,
     "metadata": {},
     "output_type": "execute_result"
    }
   ],
   "source": [
    "Critere_Iso"
   ]
  },
  {
   "cell_type": "markdown",
   "metadata": {},
   "source": [
    "On constate que, même si le problème est théoriquement complexe, on arrive à le résoudre en pratique sur de petits exemples avec des critères relativement simples. \n",
    "\n",
    "En particulier les deux critères naïfs **Ordre** et **Degrés** sont particulièrement efficaces et puissants. Ils doivent certainement être effectués en premiers et systématiquement.\n",
    "\n",
    "La méthode de **Excentricité** est couteuse et ne présente pas un avantage conséquent par rapport aux méthodes naïves, elle semble donc utile seulement si on a déjà calculé la matrice des distances (ce qui peut être le cas dans certaines applications.\n",
    "\n",
    "\n",
    "Les méthodes algébriques, **Spectre d'adjacence** et **Spectre Laplacien** sont quant à elles certes couteuse mais très puissantes. Le coût est légèrement amorti par l'utilisation de bibliothèques externes (car l'étude des valeurs propres d'une matrice est un problème fondamental en mathématiques appliquées, physique, traitement du signal et de l'image). Leur utilisation associée au calcul de degré est particulièrement puissant (tous les graphes sont séparés par **Degree-Spectre d'adjacence**, hormis le cas particulier du couple <tt>(atlas[0],atlas[1])</tt>).\n",
    "\n",
    "De plus l'association des deux spectres sépare elle aussi toutes les paires. Une étude un peu plus approfondie de ces approches est faite [dans cet article](https://arxiv.org/pdf/2212.05297)\n",
    "\n",
    "On remarque néanmoins que nos nombres de paires cospectrales diffère pour le spectre Laplacien. Il conviendrait de récupérer leur implémentation afin de mieux comprendre si cette différence est du à des approximations différentes du spectre, une erreur théorique ou une autre raison à déterminer.\n",
    "\n",
    "\n",
    "Il serait bien entendu intéressant d'approfondir notre étude (notamment en poussant l'ordre des graphes au delà de $7$, même si cela fera forcément exploser le temps de calcul).\n",
    "\n",
    "Comme nous n'avons utilisé que des algorithmes polynomiaux nos critères ne sont absolument pas parfaits pour des graphes plus gros. En revanche il est probable que ces critères fonctionnent bien pour des graphes _aléatoires_ (pour une définition raisonnable d'aléatoire), les cas problématiques rendant le problème difficile étant finalement assez rares en pratique.\n",
    "\n",
    "Trouver d'autres critères simples (taille du $2$-voisinage par exemple) semble également un axe intéressant.\n",
    "\n",
    "\n",
    "Enfin, on peut se demander si l'efficacité d'un critère dépend de l'ordre du graphe, ou si au contraire certains critères deviennent plus pertinents quand l'ordre augmente.\n",
    "Pour cela il serait intéressant de calculer la puissance de chaque critère à une taille donnée puis de les comparer ou de les classer, pour voir si ce classement évolue significativement. Pour ce problème encore plus particulièrement il faudrait aller au-delà des graphes à $7$ sommets."
   ]
  },
  {
   "cell_type": "markdown",
   "metadata": {},
   "source": [
    "-----------------------\n",
    "-----------------------"
   ]
  },
  {
   "cell_type": "markdown",
   "metadata": {},
   "source": [
    "\n",
    "\n",
    "### Référence\n",
    "\n",
    "- Isomorphismes de graphes en temps quasi-polynomial (d'après Babai et Luks, Weisfeiler-Leman...);  _Harald Andrés Helfgott_, [https://arxiv.org/abs/1701.04372](https://arxiv.org/abs/1701.04372)\n",
    "- Practical graph isomorphism, II ; _Brendan D. McKay, Adolfo Piperno_ [https://arxiv.org/abs/1301.1493](https://arxiv.org/abs/1301.1493\n",
    "- Which graphs are determined by their spectrum? ; _Edwin R. van Dam, Willem H. Haemers ; [https://www.sciencedirect.com/science/article/pii/S002437950300483X](https://www.sciencedirect.com/science/article/pii/S002437950300483X)\n",
    "- The Degree-Distance and Transmission-Adjacency Matrices ; _Carlos A. Alfaro, Octavio Zapata_, [https://arxiv.org/abs/2212.05297](https://arxiv.org/abs/2212.05297)"
   ]
  },
  {
   "cell_type": "code",
   "execution_count": null,
   "metadata": {},
   "outputs": [],
   "source": []
  }
 ],
 "metadata": {
  "kernelspec": {
   "display_name": "Python 3",
   "language": "python",
   "name": "python3"
  },
  "language_info": {
   "codemirror_mode": {
    "name": "ipython",
    "version": 3
   },
   "file_extension": ".py",
   "mimetype": "text/x-python",
   "name": "python",
   "nbconvert_exporter": "python",
   "pygments_lexer": "ipython3",
   "version": "3.8.10"
  }
 },
 "nbformat": 4,
 "nbformat_minor": 4
}
