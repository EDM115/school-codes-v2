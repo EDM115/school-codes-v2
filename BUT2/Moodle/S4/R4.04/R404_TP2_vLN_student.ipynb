{
 "cells": [
  {
   "cell_type": "markdown",
   "metadata": {},
   "source": [
    "# <center> R4.04 Méthodes d'optimisation <br> TP2 - SAT Solvers </center>\n",
    "<center> 2022/2023 - Thibault Godin & Lucie Naert </center>\n",
    "<center> IUT de Vannes, BUT Informatique </center>"
   ]
  },
  {
   "cell_type": "markdown",
   "metadata": {},
   "source": [
    " "
   ]
  },
  {
   "cell_type": "code",
   "execution_count": 1,
   "metadata": {},
   "outputs": [],
   "source": [
    "import numpy as np \n",
    "import pycosat\n",
    "import itertools\n",
    "import sys, getopt \n",
    "import time\n",
    "from pprint import pprint\n",
    "import math\n",
    "\n",
    "import copy"
   ]
  },
  {
   "cell_type": "markdown",
   "metadata": {},
   "source": [
    "*********\n",
    "\n",
    "# $\\mathbf{ SAT}$\n",
    "\n",
    "\n",
    "En première année, vous avez vu les concepts d'assertions et de formules (booléennes) logiques. Par exemple la formule\n",
    "\n",
    "$$A :=  (\\neg P \\wedge Q) \\vee  (P\\wedge \\neg Q) $$\n",
    "\n",
    "\n",
    "qui a pour table de vérité <a name=\"cite_ref-1\"></a>[<sup>[1]</sup>](#cite_note-1) :\n",
    "\n",
    "\n",
    "|P|Q|A|\n",
    "| ------------- |:-------------:| -----:|\n",
    "|V|V|F|\n",
    "|V|F|V|\n",
    "|F|V|V|\n",
    "|F|F|F|\n",
    "\n",
    "\n",
    "Étant donnée une assertion $A$, on dira que l'assertion est _satisfaisable_ (satisfiable) s'il existe des valeurs de vérités pour les variables atomiques (ici $P$ et $Q$) telle que $A$ soit vraie. Dans notre exemple $A$ est satisfaisable, et un _témoin_ (witness) est le choix de valeurs $P=V$ et $Q=F$. \n",
    "\n",
    "\n",
    "La question _\"étant donnée une assertion logique $A$, déterminer si elle est satisfaisable\"_ est un problème majeur en informatique, appelé [SAT](https://fr.wikipedia.org/wiki/Probl%C3%A8me_SAT)\n",
    "\n",
    "\n",
    "<a name=\"cite_note-1\"></a>1. [^](#cite_ref-1) On appelle généralement cet opérateur xor (ou exclusif)\n",
    "\n"
   ]
  },
  {
   "cell_type": "markdown",
   "metadata": {},
   "source": [
    "**_question 1_**\n",
    "Déterminer si les assertions suivantes sont satisfaisables, et donner un témoin si elle le sont.\n",
    "\n",
    "\n",
    "- $A_1 :=  \\neg (P \\wedge Q) \\vee R $\n",
    "- $A_2 :=  (P \\Longleftrightarrow Q) \\wedge (P \\oplus Q) $\n",
    "- $A_3 :=  \\neg (P \\wedge Q) \\vee P $\n",
    "- $A_4 :=  \\neg (P \\wedge Q \\wedge \\neg R) \\vee (P \\wedge R)$\n"
   ]
  },
  {
   "cell_type": "markdown",
   "metadata": {},
   "source": [
    "Réponse : \n"
   ]
  },
  {
   "cell_type": "markdown",
   "metadata": {},
   "source": [
    "*********\n",
    "\n",
    "## CNF\n",
    "\n",
    "Pour les problèmes de satisfiabilité, on a généralement un grand nombre de variables booléennes. On les notera généralement $x_1, x_2, \\dots, x_n$, et on dira que $n$ est la _taille_ de l'instance.\n",
    "De plus, on a vu en R1.06 que toute formule peut s'écrire à l'aide des seules opérations $\\neg, \\vee, \\wedge$, et l'on peut même exiger que les $\\neg$ ne porte que sur des propositions atomiques (les $x_i$).\n"
   ]
  },
  {
   "cell_type": "markdown",
   "metadata": {},
   "source": [
    "**_question 2_**\n",
    "\n",
    "Transformer les propositions suivantes de manière à n'utiliser que les opérations $\\neg, \\vee, \\wedge$, et que les $\\neg$ ne porte que sur des propositions atomiques.\n",
    "- $A_1 :=  \\neg (P \\wedge Q) \\vee P $\n",
    "- $A_1 :=  \\neg (P \\wedge Q \\wedge \\neg R) \\vee (P \\wedge R)$\n",
    "- $A_3 := \\neg (P \\Longleftarrow Q)$\n",
    "- $A_4 :=  (P \\Longleftrightarrow Q) \\vee \\neg P $"
   ]
  },
  {
   "cell_type": "markdown",
   "metadata": {},
   "source": [
    "Réponse:"
   ]
  },
  {
   "cell_type": "markdown",
   "metadata": {},
   "source": [
    "\n",
    "\n",
    "Pour faciliter la saisie des assertion, on va normaliser un peu plus encore : on va demander à ce que nos formules soient des conjonctions (des \"et\") de disjonctions (des \"ou\") de variables. On appelle cette forme [CNF](https://fr.wikipedia.org/wiki/Forme_normale_conjonctive).<a name=\"cite_ref-3\"></a>[<sup>[2]</sup>](#cite_note-3)\n",
    "\n",
    "Par exemple $(x_1 \\vee x_2 \\vee \\neg x_3) \\wedge (x_1 \\vee x_3)$ et  $(x_1 \\vee \\neg x_5 \\vee x_4) \\wedge (\\neg x_1 \\vee  x_5 \\vee x_3 \\vee x_4) \\wedge (\\neg x_3 \\vee \\neg x_4)$ est en CNF,\n",
    "tandis que $ \\neg(x_1 \\wedge x_2 \\wedge \\neg x_3) \\vee (x_1 \\wedge x_3)$ et $(x_1 \\wedge \\neg x_5 \\wedge x_4) \\vee  (\\neg x_1 \\wedge  x_5 \\wedge x_3 \\wedge x_4) \\vee  (\\neg x_3 \\wedge \\neg x_4)$ (le dernier exemple est en forme normale disjonctive, DNF)\n",
    "\n",
    "\n",
    "On appelera _clause_ les parties entre deux $\\wedge$ consécutifs.\n",
    "\n",
    "<a name=\"cite_note-3\"></a> 2. [^](#cite_ref-3) On peut aller encore plus loin en imposant que la formule soit une conjonction (un \"et\") de disjonctions (des \"ou\") d'au plus $3$ variables. On optient le problème [3-SAT](https://fr.wikipedia.org/wiki/Probl%C3%A8me_3-SAT) qui est équivalent au problème $\\mathbf{SAT}$"
   ]
  },
  {
   "cell_type": "markdown",
   "metadata": {},
   "source": [
    "*********\n",
    "**_question 3_**\n",
    "\n",
    "Mettre $A_4$ en CNF."
   ]
  },
  {
   "cell_type": "markdown",
   "metadata": {},
   "source": [
    "Réponse : \n"
   ]
  },
  {
   "cell_type": "markdown",
   "metadata": {},
   "source": [
    "Une manière d'encoder une formule booléenne est la suivante : chaque clause est encodée dans un tableau d'entiers, la variable $x_5$ étant représentée par <tt>5</tt> et la variable $\\neg x_5$ étant représentée par <tt>-5</tt>\n",
    "\n",
    "\n",
    "Par exemple :"
   ]
  },
  {
   "cell_type": "code",
   "execution_count": 2,
   "metadata": {},
   "outputs": [],
   "source": [
    "cnf = [[1, -5, 4], [-1, 5, 3, 4], [-3, -4]]"
   ]
  },
  {
   "cell_type": "markdown",
   "metadata": {},
   "source": [
    "représente la formule \n",
    "\n",
    "\n",
    " $(x_1 \\vee \\neg x_5 \\vee x_4) \\wedge (\\neg x_1 \\vee  x_5 \\vee x_3 \\vee x_4) \\wedge (\\neg x_3 \\vee \\neg x_4)$ \n",
    " \n",
    " \n",
    "Ici, on a 5 variables et 3 clauses, la première clause étant $(x_1 \\vee \\neg x_5 \\vee x_4)$. \n",
    "\n",
    "*********\n",
    "\n",
    "\n",
    "On définit une fonction pour afficher des CNF et une fonction retournant le nombre de variables et de clauses d'une formule en CNF"
   ]
  },
  {
   "cell_type": "code",
   "execution_count": 3,
   "metadata": {},
   "outputs": [
    {
     "name": "stdout",
     "output_type": "stream",
     "text": [
      "(x1 ou non x5 ou x4) et (non x1 ou x5 ou x3 ou x4) et (non x3 ou non x4)\n",
      "Nombre de variable :  5 \n",
      "Nombre de clauses :  3\n"
     ]
    }
   ],
   "source": [
    "def display(cnf):\n",
    "    monCnf = \"(\"\n",
    "    for i in range(len(cnf)):\n",
    "        for j in range(len(cnf[i])):\n",
    "            if cnf[i][j] < 0:\n",
    "                monCnf += \"non \"\n",
    "            monCnf += \"x\"+str(abs(cnf[i][j]))\n",
    "            if j != len(cnf[i]) - 1:\n",
    "                monCnf +=\" ou \"\n",
    "        if i != len(cnf) -1 :\n",
    "            monCnf += \") et (\"\n",
    "        else :\n",
    "            monCnf += \")\"\n",
    "    return monCnf\n",
    "\n",
    "strcnf = display(cnf)\n",
    "print(strcnf)\n",
    "\n",
    "\n",
    "def cnflen(cnf):\n",
    "    #returns the number of variables and of clauses of a boolean formula given under CNF\n",
    "    return max([abs(max(max(cnf, key=max))),abs(min(min(cnf, key=min)))]),len(cnf)\n",
    "\n",
    "nbVar, nbClause = cnflen(cnf)\n",
    "\n",
    "print(\"Nombre de variable : \",nbVar, \"\\nNombre de clauses : \", nbClause)\n",
    "\n"
   ]
  },
  {
   "cell_type": "markdown",
   "metadata": {},
   "source": [
    "*********\n",
    "**_question 4_**\n",
    "\n",
    "\n",
    "Essayer de résoudre quelques instances en CNF sur [SAT Game](http://www.cril.univ-artois.fr/~roussel/satgame/satgame.php?level=2&lang=fr)\n"
   ]
  },
  {
   "cell_type": "markdown",
   "metadata": {},
   "source": [
    "*********\n",
    "\n",
    "# $\\mathbf{SAT}$-Solver\n",
    "\n",
    "\n",
    "\n",
    "La résolution algorithmique d'un problème $\\mathbf{SAT}$ est assez facile : on peut tester tous les cas possibles, jusqu'à ce que l'on trouve un témoin ou que l'on ait essayé toutes les combinaisons. S'il y a $n$ variables, il n'y a \"que\" $2^n$ cas à tester.\n",
    "\n",
    "\n",
    "*********\n",
    "\n",
    "**_question 5_**\n",
    "\n",
    "\n",
    "1. Écrire une fonction `Eval(cnf,wit)` qui prend en entrée `cnf` une formule booléenne en CNF à $n$ variables et `wit` un tableau de valeurs booléennes et retourne l'évaluation de la formule sur ces valeurs. Regarder bien le tests faits en dessous pour comprendre les types des paramètres.\n",
    "2. Faire 3 tests supplémentaires : \n",
    "    - un test avec un premier CNF et un ensemble de valeurs pour lesquelles l'évaluation est \"True\"\n",
    "    - un test avec le même CNF et un ensemble de valeurs pour lesquelles l'évaluation est \"False\"\n",
    "    - un test avec un autre CNF"
   ]
  },
  {
   "cell_type": "code",
   "execution_count": 4,
   "metadata": {},
   "outputs": [
    {
     "name": "stdout",
     "output_type": "stream",
     "text": [
      "(non x1 ou x2) et (x2)\n",
      "(2, 2)\n",
      "True\n"
     ]
    }
   ],
   "source": [
    "def Eval(cnf,wit):\n",
    "    res=True\n",
    "    #Todo\n",
    "    return bool(res)\n",
    "\n",
    "#Doit retourner Faux\n",
    "witTest= [1,0]\n",
    "cnfTest = [[-1, 2],[2]]\n",
    "print(display(cnfTest))\n",
    "print(cnflen(cnfTest))\n",
    "print(Eval(cnfTest,witTest))\n",
    "\n",
    "#Todo"
   ]
  },
  {
   "cell_type": "markdown",
   "metadata": {},
   "source": [
    "*********\n",
    "\n",
    "**_question 6_**\n",
    "\n",
    "\n",
    "Écrire une fonction `bruteSAT(cnf, verbose = False)` qui essaie de resoudre une formule en CNF par force-brute (en essayant toutes les possibilités) et renvoie un témoin si la formule est satisfaisable et -1 sinon. Si `verbose = True` et qu'un témoin est trouvé, le nombre d'essai avant de trouver un témoin doit être affiché ainsi que le nombre maximum d'essais possibles.\n",
    "\n",
    "_On pourra utiliser le module itertool.product de python_\n"
   ]
  },
  {
   "cell_type": "code",
   "execution_count": 5,
   "metadata": {},
   "outputs": [
    {
     "name": "stdout",
     "output_type": "stream",
     "text": [
      "(x1 ou non x5 ou x4) et (non x1 ou x5 ou x3 ou x4) et (non x3 ou non x4)\n",
      "-1\n",
      "-1\n",
      "-1\n",
      "-1\n",
      "-1\n"
     ]
    }
   ],
   "source": [
    "def bruteSAT(cnf):\n",
    "    return -1\n",
    "\n",
    "\n",
    "print(display(cnf))\n",
    "print(bruteSAT(cnf))\n",
    "print(bruteSAT([[1,2]]))\n",
    "print(bruteSAT([[1],[2]]))\n",
    "print(bruteSAT([[1,2],[-1,2],[1,-2]]))\n",
    "print(bruteSAT([[1,2],[-1,2],[1,-2],[-1,-2]]))\n",
    "\n"
   ]
  },
  {
   "cell_type": "markdown",
   "metadata": {},
   "source": [
    "*********\n",
    "\n",
    "## PycoSAT\n",
    "\n",
    "On ne sait pas aujourd'hui s'il existe un algorithme polynômial (_ie_ s'executant en temps raisonnable) pour résoudre $\\mathbf{SAT}$. Cependant ce problème, bien qu'abstrait et théorique, est central en informatique ;  et on peut résoudre beaucoup de problèmes (qui paraissent pourtant complétement différents) en les traduisant en des formules logiques.\n",
    "On verra partie 2 l'exemple du Sudoku, mais bien d'autres [problèmes](https://fr.wikipedia.org/wiki/Liste_de_probl%C3%A8mes_NP-complets) (3-coloration, emplois du temps ...) pourraient être résolus <a name=\"cite_ref-2\"></a>[<sup>[3]</sup>](#cite_note-2) grâce à $\\mathbf{SAT}$ (plus précisément à $\\mathbf{3-SAT}$, qui [sert de référence](https://fr.wikipedia.org/wiki/Probl%C3%A8me_3-SAT) pour la [$\\mathbf{NP}$-complétude](https://fr.wikipedia.org/wiki/Probl%C3%A8me_NP-complet))\n",
    "\n",
    "\n",
    "\n",
    "\n",
    "\n",
    "<a name=\"cite_note-2\"></a>3. [^](#cite_ref-2) les problèmes polynomiaux peuvent aussi être résolu par $\\mathbf{SAT}$, ce n'est cependant pas pertinent pusiqu'ils sont justement polynomiaux tandis que $\\mathbf{SAT}$ peut être exponentiel (sauf si $\\mathbf{P} = \\mathbf{NP})$\n",
    "\n",
    "*********"
   ]
  },
  {
   "cell_type": "markdown",
   "metadata": {},
   "source": [
    "\n",
    "En raison de cette importance, de nombreuses personnes cherchent à optimiser la résolution de formule, en créant des [SAT-Solver](https://en.wikipedia.org/wiki/SAT_solver) les plus efficaces possibles.\n",
    "\n",
    "Dans ce TP, nous allons utiliser **pycosat**\n",
    "https://pypi.org/project/pycosat/\n",
    "\n",
    "La syntaxe de pycosat est légérement différente de la notre, comme le montre l'exemple suivant :\n"
   ]
  },
  {
   "cell_type": "code",
   "execution_count": 6,
   "metadata": {},
   "outputs": [
    {
     "data": {
      "text/plain": [
       "[1, -2, -3, -4, 5]"
      ]
     },
     "execution_count": 6,
     "metadata": {},
     "output_type": "execute_result"
    }
   ],
   "source": [
    "cnf = [[1, -5, 4], [-1, 5, 3, 4], [-3, -4]]\n",
    "pycosat.solve(cnf)"
   ]
  },
  {
   "cell_type": "markdown",
   "metadata": {},
   "source": [
    "`[1, -2, -3, -4, 5]` est une solution possible trouvée par pycosat. Elle équivaut à un $[1,0,0,0,1]$ avec notre notation.\n",
    "\n",
    "### Solutions multiples"
   ]
  },
  {
   "cell_type": "code",
   "execution_count": 7,
   "metadata": {},
   "outputs": [
    {
     "name": "stdout",
     "output_type": "stream",
     "text": [
      "[1, -2, -3, -4, 5]\n",
      "[1, -2, -3, 4, -5]\n",
      "[1, -2, -3, 4, 5]\n",
      "[1, -2, 3, -4, -5]\n",
      "[1, -2, 3, -4, 5]\n",
      "[1, 2, 3, -4, -5]\n",
      "[1, 2, 3, -4, 5]\n",
      "[1, 2, -3, -4, 5]\n",
      "[1, 2, -3, 4, -5]\n",
      "[1, 2, -3, 4, 5]\n",
      "[-1, 2, -3, 4, -5]\n",
      "[-1, 2, -3, 4, 5]\n",
      "[-1, 2, -3, -4, -5]\n",
      "[-1, 2, 3, -4, -5]\n",
      "[-1, -2, 3, -4, -5]\n",
      "[-1, -2, -3, -4, -5]\n",
      "[-1, -2, -3, 4, 5]\n",
      "[-1, -2, -3, 4, -5]\n"
     ]
    }
   ],
   "source": [
    "for sol in pycosat.itersolve(cnf):\n",
    "    print(sol)"
   ]
  },
  {
   "cell_type": "markdown",
   "metadata": {},
   "source": [
    "*********\n",
    "\n",
    "\n",
    "# Sudoku\n",
    "\n",
    "\n",
    "Le problème général (sur une grille $n\\times n$) du sudoku est $\\mathbf{NP}$-complet, on ne connait pas d'algorithme efficace pour le résoudre. Il est plus simple de vérifier qu'une solution fonctionne que d'en trouver une.\n",
    "Une approche classique de résolution est le _backtracking_, nous allons de nôtre côté utiliser pycosat.\n",
    "\n",
    "On se donne quelques grilles d'exemple (vous pouvez créer les vôtres)."
   ]
  },
  {
   "cell_type": "code",
   "execution_count": 8,
   "metadata": {},
   "outputs": [],
   "source": [
    "\n",
    "#https://github.com/taufanardi/sudoku-sat-solver/blob/master/Sudoku.py\n",
    "\n",
    "\n",
    "easy = [[0, 0, 0, 1, 0, 9, 4, 2, 7],\n",
    "        [1, 0, 9, 8, 0, 0, 0, 0, 6],\n",
    "        [0, 0, 7, 0, 5, 0, 1, 0, 8],\n",
    "        [0, 5, 6, 0, 0, 0, 0, 8, 2],\n",
    "        [0, 0, 0, 0, 2, 0, 0, 0, 0],\n",
    "        [9, 4, 0, 0, 0, 0, 6, 1, 0],\n",
    "        [7, 0, 4, 0, 6, 0, 9, 0, 0],\n",
    "        [6, 0, 0, 0, 0, 8, 2, 0, 5],\n",
    "        [2, 9, 5, 3, 0, 1, 0, 0, 0]]\n",
    "\n",
    "medium = [[5, 8, 0, 0, 0, 1, 0, 0, 0],\n",
    "        [0, 3, 0, 0, 6, 0, 0, 7, 0],\n",
    "        [9, 0, 0, 3, 2, 0, 1, 0, 6],\n",
    "        [0, 0, 0, 0, 0, 0, 0, 5, 0],\n",
    "        [3, 0, 9, 0, 0, 0, 2, 0, 1],\n",
    "        [0, 5, 0, 0, 0, 0, 0, 0, 0],\n",
    "        [6, 0, 2, 0, 5, 7, 0, 0, 8],\n",
    "        [0, 4, 0, 0, 8, 0, 0, 1, 0],\n",
    "        [0, 0, 0, 1, 0, 0, 0, 6, 5]]\n",
    "\n",
    "evil = [[0, 2, 0, 0, 0, 0, 0, 0, 0],\n",
    "        [0, 0, 0, 6, 0, 0, 0, 0, 3],\n",
    "        [0, 7, 4, 0, 8, 0, 0, 0, 0],\n",
    "        [0, 0, 0, 0, 0, 3, 0, 0, 2],\n",
    "        [0, 8, 0, 0, 4, 0, 0, 1, 0],\n",
    "        [6, 0, 0, 5, 0, 0, 0, 0, 0],\n",
    "        [0, 0, 0, 0, 1, 0, 7, 8, 0],\n",
    "        [5, 0, 0, 0, 0, 9, 0, 0, 0],\n",
    "        [0, 0, 0, 0, 0, 0, 0, 4, 0]]\n",
    "\n",
    "hard = [[0, 2, 0, 0, 0, 0, 0, 3, 0],\n",
    "        [0, 0, 0, 6, 0, 1, 0, 0, 0],\n",
    "        [0, 6, 8, 2, 0, 0, 0, 0, 5],\n",
    "        [0, 0, 9, 0, 0, 8, 3, 0, 0],\n",
    "        [0, 4, 6, 0, 0, 0, 7, 5, 0],\n",
    "        [0, 0, 1, 3, 0, 0, 4, 0, 0],\n",
    "        [9, 0, 0, 0, 0, 7, 5, 1, 0],\n",
    "        [0, 0, 0, 1, 0, 4, 0, 0, 0],\n",
    "        [0, 1, 0, 0, 0, 0, 0, 9, 0]]\n",
    "\n",
    "blank = [[0, 0, 0, 0, 0, 0, 0, 0, 0],\n",
    "        [0, 0, 0, 0, 0, 0, 0, 0, 0],\n",
    "        [0, 0, 0, 0, 0, 0, 0, 0, 0],\n",
    "        [0, 0, 0, 0, 0, 0, 0, 0, 0],\n",
    "        [0, 0, 0, 0, 0, 0, 0, 0, 0],\n",
    "        [0, 0, 0, 0, 0, 0, 0, 0, 0],\n",
    "        [0, 0, 0, 0, 0, 0, 0, 0, 0],\n",
    "        [0, 0, 0, 0, 0, 0, 0, 0, 0],\n",
    "        [0, 0, 0, 0, 0, 0, 0, 0, 0]]\n",
    "    \n",
    "\n",
    "\n"
   ]
  },
  {
   "cell_type": "markdown",
   "metadata": {},
   "source": [
    "On va encoder une grille de la manière suivante : \n",
    "\n",
    "Dans ce problème, les variable $x_{(i,j,d)}$ signifie \"La cellule (i,j) contient d\". \n",
    "\n",
    "Ainsi, la variable $x_{(1,3,2)}$ signifie \"La cellule à la ligne 1 et colonne 3 contient un 2\"\n",
    "\n",
    "et $\\neg x_{(1,3,2)}$ signifie évidemment \"La cellule à la ligne 1 et colonne 3 ne contient pas un 2\"\n",
    "\n",
    "Malheureusement c'est une représentation $3$D (une variable est désignée par 3 nombres i, j, d), et nos CNF sont $1$d (un nombre désigne une variable). La fonction `x(i,j,d)` permet donc de faire une transformation 3D vers 1D\n",
    "\n",
    "$x_{(i,j,d)} \\leadsto 81*(i-1) + 9*(j-1) + d$\n",
    "\n",
    "(Transformation pour que chaque case ait un numéro unique)\n",
    "\n",
    "Evidemment, vous utiliserez la notation $x(i,j,d)$, beaucoup plus lisible.\n",
    "\n",
    "\n"
   ]
  },
  {
   "cell_type": "code",
   "execution_count": 9,
   "metadata": {},
   "outputs": [
    {
     "name": "stdout",
     "output_type": "stream",
     "text": [
      "340\n"
     ]
    }
   ],
   "source": [
    "# variable \"La cellule (i,j) contient d\"\n",
    "# exemple:  x(5,2,7) signifie que la cellule à la ligne 5 et colonne 2 contient un 7 \n",
    "# Pour pycosat, ce sera la variable 340 -> 81*(5-1) + 9*(2-1) + 7\n",
    "def x(i, j, d): \n",
    "    return 81 * (i - 1) + 9 * (j - 1) + d\n",
    "\n",
    "print(x(5,2,7))\n"
   ]
  },
  {
   "cell_type": "markdown",
   "metadata": {},
   "source": [
    "**_question 7_**\n",
    "\n",
    "Ecrire une fonction `gridToCNF(grid)` qui transforme une grille de Sudoku pré-remplie en conjonction de clauses. "
   ]
  },
  {
   "cell_type": "code",
   "execution_count": 10,
   "metadata": {},
   "outputs": [],
   "source": [
    "def gridToCNF(grid=blank):\n",
    "    #turns a grid into a CNF\n",
    "    cnf = []\n",
    "    #Todo\n",
    "    return cnf\n"
   ]
  },
  {
   "cell_type": "markdown",
   "metadata": {},
   "source": [
    "**_question 8_**\n",
    "\n",
    "\n",
    "Ecrire en python les formules CNF correspondant aux assertions : \n",
    "1. \"chaque cellule doit contenir un nombre\" (remplir `auMoinsUnNb()`)\n",
    "2. \"une cellule ne peut pas avoir plus d'un nombre\" (remplir `auPlusUnNb()`)"
   ]
  },
  {
   "cell_type": "code",
   "execution_count": 11,
   "metadata": {},
   "outputs": [
    {
     "name": "stdout",
     "output_type": "stream",
     "text": [
      "Erreur\n"
     ]
    }
   ],
   "source": [
    "def auMoinsUnNb() :\n",
    "    cnf= []\n",
    "    #todo\n",
    "    return cnf\n",
    "        \n",
    "try:\n",
    "    assert len(auMoinsUnNb()) == 81\n",
    "    print(\"En tout cas, le nombre de clauses est correct...\")\n",
    "except:\n",
    "    print(\"Erreur\")"
   ]
  },
  {
   "cell_type": "code",
   "execution_count": 12,
   "metadata": {},
   "outputs": [
    {
     "name": "stdout",
     "output_type": "stream",
     "text": [
      "Erreur, optimisation possible ou vous avez une autre (potentiellement meilleure) solution que moi\n"
     ]
    }
   ],
   "source": [
    "def auPlusUnNb() :\n",
    "    cnf= []\n",
    "    #todo\n",
    "                \n",
    "    return cnf\n",
    "\n",
    "try:\n",
    "    assert len(verifLigne()) == 2916\n",
    "    print(\"En tout cas, le nombre de clauses parait correct...\")\n",
    "except:\n",
    "    print(\"Erreur, optimisation possible ou vous avez une autre (potentiellement meilleure) solution que moi\")\n",
    "    \n",
    "\n"
   ]
  },
  {
   "cell_type": "markdown",
   "metadata": {},
   "source": [
    "**_question 9_**\n",
    "\n",
    "Quelles sont les règles du Sudoku ? Proposer et implémenter les 3 règles du Sudoku sous forme de CNF"
   ]
  },
  {
   "cell_type": "code",
   "execution_count": 13,
   "metadata": {},
   "outputs": [
    {
     "name": "stdout",
     "output_type": "stream",
     "text": [
      "Erreur, optimisation possible ou vous avez une autre (potentiellement meilleure) solution que moi\n"
     ]
    }
   ],
   "source": [
    "def verifLigne() :\n",
    "    cnf= []\n",
    "    #todo         \n",
    "    return cnf\n",
    "\n",
    "try:\n",
    "    assert len(verifLigne()) == 2916\n",
    "    print(\"En tout cas, le nombre de clauses parait correct...\")\n",
    "except:\n",
    "    print(\"Erreur, optimisation possible ou vous avez une autre (potentiellement meilleure) solution que moi\")\n",
    "    \n",
    "\n",
    "\n"
   ]
  },
  {
   "cell_type": "code",
   "execution_count": 14,
   "metadata": {},
   "outputs": [
    {
     "name": "stdout",
     "output_type": "stream",
     "text": [
      "Erreur, optimisation possible ou vous avez une autre (potentiellement meilleure) solution que moi\n"
     ]
    }
   ],
   "source": [
    "def verifColonne() :\n",
    "    cnf= []\n",
    "    #todo\n",
    "    return cnf\n",
    "\n",
    "try:\n",
    "    assert len(verifColonne()) == 2916\n",
    "    print(\"En tout cas, le nombre de clauses parait correct...\")\n",
    "except:\n",
    "    print(\"Erreur, optimisation possible ou vous avez une autre (potentiellement meilleure) solution que moi\")\n",
    "    \n",
    "\n"
   ]
  },
  {
   "cell_type": "code",
   "execution_count": 15,
   "metadata": {},
   "outputs": [
    {
     "name": "stdout",
     "output_type": "stream",
     "text": [
      "Erreur, optimisation possible ou vous avez une autre (potentiellement meilleure) solution que moi\n"
     ]
    }
   ],
   "source": [
    "def verifCarre() :\n",
    "    cnf= []\n",
    "    #todo\n",
    "                \n",
    "    return cnf\n",
    "\n",
    "try:\n",
    "    assert len(verifCarre()) == 2916\n",
    "    print(\"En tout cas, le nombre de clauses parait correct...\")\n",
    "except:\n",
    "    print(\"Erreur, optimisation possible ou vous avez une autre (potentiellement meilleure) solution que moi\")\n",
    "  "
   ]
  },
  {
   "cell_type": "markdown",
   "metadata": {},
   "source": [
    "Les fonctions suivantes assemblent les fonctions développées précédemment pour calculer et afficher la solution d'un Sudoku quand il est satisfaisable."
   ]
  },
  {
   "cell_type": "code",
   "execution_count": 16,
   "metadata": {},
   "outputs": [],
   "source": [
    "def sudokuClauses(grid) : \n",
    "    return gridToCNF(grid)+ auMoinsUnNb() + auPlusUnNb() + verifLigne() + verifColonne() + verifCarre()\n",
    "\n",
    "def solve(grid=blank):\n",
    "\n",
    "    # solve the SAT problem\n",
    "    clauses = sudokuClauses(grid)\n",
    "    #print(clauses)\n",
    "    \n",
    "    start = time.time()\n",
    "    sol = set(pycosat.solve(clauses))\n",
    "    end = time.time()\n",
    "    print(\"Time: \"+str(end - start))\n",
    "    \n",
    "\n",
    "    gridRes = copy.deepcopy(grid)\n",
    "    for i in range(1, 10):\n",
    "        for j in range(1, 10):\n",
    "            gridRes[i - 1][j - 1] = read_cell(sol,i, j)\n",
    "    return gridRes\n",
    "\n",
    "            \n",
    "# A partir d'une grille-solution (en code pycosat), cette fonction permet de retourner la valeur d'une cellule dont on donne les coordonées\n",
    "def read_cell(sol,i, j):\n",
    "    # return the digit of cell i, j according to the solution\n",
    "    for d in range(1, 10):\n",
    "        if x(i, j, d) in sol:\n",
    "            return d\n",
    "            \n",
    "def solve_problem(problemset):\n",
    "    print('Problem:') \n",
    "    pprint(problemset)  \n",
    "    new_grid = solve(problemset) \n",
    "    print('Answer:')\n",
    "    pprint(new_grid) \n",
    "\n",
    "    \n",
    "    \n"
   ]
  },
  {
   "cell_type": "markdown",
   "metadata": {},
   "source": [
    "**_question 10_**\n",
    "\n",
    "Vous pouvez maintenant tester la modélisation de votre problème."
   ]
  },
  {
   "cell_type": "code",
   "execution_count": 17,
   "metadata": {},
   "outputs": [
    {
     "name": "stdout",
     "output_type": "stream",
     "text": [
      "Problem:\n",
      "[[0, 2, 0, 0, 0, 0, 0, 3, 0],\n",
      " [0, 0, 0, 6, 0, 1, 0, 0, 0],\n",
      " [0, 6, 8, 2, 0, 0, 0, 0, 5],\n",
      " [0, 0, 9, 0, 0, 8, 3, 0, 0],\n",
      " [0, 4, 6, 0, 0, 0, 7, 5, 0],\n",
      " [0, 0, 1, 3, 0, 0, 4, 0, 0],\n",
      " [9, 0, 0, 0, 0, 7, 5, 1, 0],\n",
      " [0, 0, 0, 1, 0, 4, 0, 0, 0],\n",
      " [0, 1, 0, 0, 0, 0, 0, 9, 0]]\n",
      "Time: 0.0\n",
      "Answer:\n",
      "[[None, None, None, None, None, None, None, None, None],\n",
      " [None, None, None, None, None, None, None, None, None],\n",
      " [None, None, None, None, None, None, None, None, None],\n",
      " [None, None, None, None, None, None, None, None, None],\n",
      " [None, None, None, None, None, None, None, None, None],\n",
      " [None, None, None, None, None, None, None, None, None],\n",
      " [None, None, None, None, None, None, None, None, None],\n",
      " [None, None, None, None, None, None, None, None, None],\n",
      " [None, None, None, None, None, None, None, None, None]]\n"
     ]
    }
   ],
   "source": [
    "solve_problem(hard)"
   ]
  },
  {
   "cell_type": "markdown",
   "metadata": {},
   "source": [
    "### Extensions suggérées :\n",
    "\n",
    "\n",
    "#### Génération aléatoire de grilles (résolubles)\n",
    "\n",
    "à l'aide des algorithmes précédents, écrire une fonction engendrant des grilles partielles de sudoku (résolubles)\n",
    "\n",
    "\n",
    "\n",
    "#### 3-Coloriage\n",
    "\n",
    "De nombreux problèmes importants en informatique (les problèmes inclus dans $\\mathbf{NP}$ sont _réductibles_ à 3-SAT, c'est-à-dire qu'on peut les convertir en un problème 3-SAT et vis-et-versa (en temps polynomial, avec un nombre de d'inconnues polynomial). \n",
    "\n",
    "On peut donc (essayer de) résoudre de nombreux problème avec 3-SAT. Parmi eux la 3-coloration (étant donné un graphe $G$, admet-il une 3 coloration ?)\n",
    "\n",
    "Écrire un programme qui, étant donné un graphe $G$ transforme 3-col en 3-SAT, résout le prolème à l'aide d'un SAT-solver, puis donne la solution en terme de graphe).\n",
    "\n",
    "\n",
    "_note :_ Pour le sens inverse, vous pouvez vous référer à https://cgi.csc.liv.ac.uk/~igor/COMP309/3CP.pdf par exemple"
   ]
  },
  {
   "cell_type": "code",
   "execution_count": null,
   "metadata": {},
   "outputs": [],
   "source": []
  }
 ],
 "metadata": {
  "kernelspec": {
   "display_name": "Python 3",
   "language": "python",
   "name": "python3"
  },
  "language_info": {
   "codemirror_mode": {
    "name": "ipython",
    "version": 3
   },
   "file_extension": ".py",
   "mimetype": "text/x-python",
   "name": "python",
   "nbconvert_exporter": "python",
   "pygments_lexer": "ipython3",
   "version": "3.8.5"
  }
 },
 "nbformat": 4,
 "nbformat_minor": 4
}
