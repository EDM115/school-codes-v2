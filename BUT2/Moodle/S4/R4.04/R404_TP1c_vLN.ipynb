{
 "cells": [
  {
   "cell_type": "markdown",
   "metadata": {},
   "source": [
    "# <center> R1.04 Méthodes d'optimisation <br> TP1c - Régression linéaire </center>\n",
    "<center> 2023/2024 - Tom Ferragut, Thibault Godin & Lucie Naert </center>\n",
    "<center> IUT de Vannes, BUT Informatique </center>\n"
   ]
  },
  {
   "cell_type": "markdown",
   "metadata": {},
   "source": [
    "Le but de ce TP est d'appliquer les méthodes de gradient sur un exemple important en machine learning : la regression linéaire."
   ]
  },
  {
   "cell_type": "code",
   "execution_count": 165,
   "metadata": {},
   "outputs": [],
   "source": [
    "import numpy as np\n",
    "from ipywidgets import interact, fixed\n",
    "\n",
    "# Affichage graphique\n",
    "\n",
    "#%matplotlib notebook \n",
    "# enable interactivity of plots\n",
    "# attention a bien fermer les fenetres plt après chaque visualisalgèbreation\n",
    "\n",
    "%matplotlib inline\n",
    "\n",
    "\n",
    "import matplotlib.pyplot as plt\n",
    "from mpl_toolkits.mplot3d import Axes3D \n",
    "\n",
    "cmap_reversed = plt.cm.get_cmap('RdBu_r')"
   ]
  },
  {
   "cell_type": "markdown",
   "metadata": {},
   "source": [
    "## Régression linéaire\n",
    "\n",
    "\n",
    "\n",
    "\n",
    "\n",
    "Le but de cette partie est d'effectuer une **régression linéaire**, c'est-à-dire d'approcher nos données à l'aide d'une fonction affine. On utilisera la descente de gradient et le package Python *numpy*.\n",
    "\n",
    "Notre premier exemple est un tableau de taille et poids pour 15 personnes.\n",
    "\n",
    "\n",
    "**Données :** \n",
    "\n",
    "| Id        | Height (cm)           | Weight (kg)  |\n",
    "| ------------- |:-------------:| -----:|\n",
    "| 1     | 147 |  49 |\n",
    "| 2    | 150      |   50 |\n",
    "|3 | 153      |     51 |\n",
    "| 4     | 155 |  52 |\n",
    "| 5    | 158      |   54 |\n",
    "|6 | 160      |     56 |\n",
    "| 7     | 163 |  58 |\n",
    "| 8    | 165      |   59 |\n",
    "|9 | 168      |     60 |\n",
    "| 10     | 170 |  62 |\n",
    "| 11    | 173      |   63 |\n",
    "|12 | 175      |     64 |\n",
    "| 13     | 178 |  66 |\n",
    "| 14    | 180      |   67 |\n",
    "|15 | 183      |     68 |"
   ]
  },
  {
   "cell_type": "markdown",
   "metadata": {
    "tags": []
   },
   "source": [
    "Lecture et visualisation des données"
   ]
  },
  {
   "cell_type": "code",
   "execution_count": 166,
   "metadata": {},
   "outputs": [
    {
     "data": {
      "image/png": "[encoded data removed]",
      "text/plain": [
       "<Figure size 432x288 with 1 Axes>"
      ]
     },
     "metadata": {
      "needs_background": "light"
     },
     "output_type": "display_data"
    }
   ],
   "source": [
    "plt.close()\n",
    "\n",
    "# data\n",
    "#taille en mètres\n",
    "x = [1.47, 1.50, 1.53, 1.55, 1.58, 1.60, 1.63, 1.65, 1.68, 1.70, 1.73, 1.75, 1.78, 1.80, 1.83] #Taille\n",
    "y = [49.,50.,51.,52.,54.,56.,58.,59.,60.,62.,63.,64.,66.,67.,68.] #Poids\n",
    "\n",
    "#print(X.shape)\n",
    "#print(y.shape)\n",
    "\n",
    "\n",
    "# plot the data\n",
    "plt.scatter(x,y, color='red')\n",
    "plt.title('Poids en fonction de taille')\n",
    "plt.xlabel('Taille (m)')\n",
    "plt.ylabel('Poids (kg)')\n",
    "\n",
    "plt.show()\n",
    "\n",
    "\n",
    "\n"
   ]
  },
  {
   "cell_type": "markdown",
   "metadata": {},
   "source": [
    "On voudrait approcher les données au mieux à l'aide d'une droite $y = a . x + b$.\n",
    "\n",
    "\n",
    "Ici la fonction à minimiser est la fonction $E(a,b) = \\sum_i(y_ i - (aX_i + b))^2$.\n",
    "\n",
    "\n",
    "La fonction `plotDroite` affiche en rouge les données de coordonnées $(dataX[i], dataY[i])$  et, en bleu, la droite  $y = ax+b$"
   ]
  },
  {
   "cell_type": "code",
   "execution_count": 167,
   "metadata": {},
   "outputs": [
    {
     "data": {
      "image/png": "[encoded data removed]",
      "text/plain": [
       "<Figure size 432x288 with 1 Axes>"
      ]
     },
     "metadata": {
      "needs_background": "light"
     },
     "output_type": "display_data"
    }
   ],
   "source": [
    "def plotDroite(dataX,dataY,a,b):\n",
    "    \n",
    "    # Representation des donnees x en fct de y\n",
    "    plt.scatter(dataX,dataY, color='red')\n",
    "    plt.title('Poids en fonction de taille')\n",
    "    plt.xlabel('Taille (en m)')\n",
    "    plt.ylabel('Poids')\n",
    "    \n",
    "    #Representation de la droite y=ax+b\n",
    "    xinf=np.linspace(min(x)-10,max(x)+10,500)\n",
    "    yinf=[a*i+b for i in xinf]\n",
    "    \n",
    "    plt.plot(xinf,yinf, color='blue')\n",
    "    plt.ylim(min(y)-5,max(y)+5)\n",
    "    plt.xlim(min(x)-0.1,max(x)+0.1)\n",
    "    \n",
    "    plt.tight_layout()\n",
    "\n",
    "    plt.show()\n",
    "\n",
    "plotDroite(x,y,0,60)"
   ]
  },
  {
   "cell_type": "markdown",
   "metadata": {},
   "source": [
    "**Question 1** \n",
    "\n",
    "A l'aide des widgets, visualiser l'effet d'un changement de a et b. Arrivez-vous à trouver des valeurs de a et b qui permettent d'approcher les données ?"
   ]
  },
  {
   "cell_type": "code",
   "execution_count": 168,
   "metadata": {},
   "outputs": [
    {
     "data": {
      "application/vnd.jupyter.widget-view+json": {
       "model_id": "064908e1a50d451b9da96b036e0eb2f6",
       "version_major": 2,
       "version_minor": 0
      },
      "text/plain": [
       "interactive(children=(FloatSlider(value=0.0, description='a', max=80.0, min=-80.0, step=0.5), FloatSlider(valu…"
      ]
     },
     "metadata": {},
     "output_type": "display_data"
    },
    {
     "data": {
      "text/plain": [
       "<function __main__.plotDroite(dataX, dataY, a, b)>"
      ]
     },
     "execution_count": 168,
     "metadata": {},
     "output_type": "execute_result"
    }
   ],
   "source": [
    "interact(plotDroite, dataX=fixed(x),dataY=fixed(y),a=(-80, 80, 0.5), b=(-50, 50, .1))"
   ]
  },
  {
   "cell_type": "markdown",
   "metadata": {},
   "source": [
    "**Question 2** \n",
    "\n",
    "Nous avons vu en cours la formule pour calculer théoriquement les paramètres $a^*$ et $b^*$ optimaux pour la regression linéaire à partir du gradient de $E$.\n",
    "\n",
    "1. Rappelez la formule de $a^*$ et $b^*$ trouvées en cours et utiliser Python pour calculer ces paramètres optimaux.\n",
    "\n",
    "2. En déduire le poids théorique d'une personne de $1.77$m\n",
    "\n",
    "3. Quelle est la valeur de l'erreur minimale $E(a^*,b^*)$ ?\n"
   ]
  },
  {
   "cell_type": "markdown",
   "metadata": {},
   "source": [
    "Réponse 1. :\n"
   ]
  },
  {
   "cell_type": "code",
   "execution_count": 1,
   "metadata": {},
   "outputs": [
    {
     "ename": "SyntaxError",
     "evalue": "unexpected EOF while parsing (<ipython-input-1-4997eb6d11aa>, line 7)",
     "output_type": "error",
     "traceback": [
      "\u001b[1;36m  File \u001b[1;32m\"<ipython-input-1-4997eb6d11aa>\"\u001b[1;36m, line \u001b[1;32m7\u001b[0m\n\u001b[1;33m    print(\"Erreur minimale (somme des écarts au carré):\", #TODO)\u001b[0m\n\u001b[1;37m                                                                ^\u001b[0m\n\u001b[1;31mSyntaxError\u001b[0m\u001b[1;31m:\u001b[0m unexpected EOF while parsing\n"
     ]
    }
   ],
   "source": [
    "#Réponse 1.\n",
    "#TODO\n",
    "#Réponse 2.\n",
    "print(\"Poids d'une personne de 177 cm :\", #TODO)\n",
    "\n",
    "#Réponse 3.\n",
    "print(\"Erreur minimale (somme des écarts au carré):\", #TODO)"
   ]
  },
  {
   "cell_type": "markdown",
   "metadata": {},
   "source": [
    "**Question 3**\n",
    "\n",
    "1. Calculer théoriquement le gradient de la fonction de coût $E(a,b)$ (on pourra se reporter au cours)\n",
    "\n",
    "2. Ecrire la fonction `gradReg(a,b,x,y)` qui retourne le gradient associé à la fonction de coût pour la regression linéaire.\n",
    "\n",
    "3. Ecrire la fonction `graddes(dataX,dataY,a0,b0,k,d)` qui fait la descente de gradient et renvoie les valeurs de a et b après k pas."
   ]
  },
  {
   "cell_type": "markdown",
   "metadata": {},
   "source": [
    "Réponse 1. :\n",
    "#TODO"
   ]
  },
  {
   "cell_type": "code",
   "execution_count": 170,
   "metadata": {},
   "outputs": [
    {
     "data": {
      "text/plain": [
       "(56.37938700585497, -34.53873591498596)"
      ]
     },
     "execution_count": 170,
     "metadata": {},
     "output_type": "execute_result"
    }
   ],
   "source": [
    "def gradreg(a,b,x,y):\n",
    "    \"\"\"\n",
    "    Retourne le gradient associé à la fonction d'erreur pour la regression linéaire\n",
    "    \"\"\"\n",
    "    #TODO\n",
    "    return np.array([da,db])\n",
    "\n",
    "\n",
    "def graddes(dataX,dataY,a0,b0,k,d):\n",
    "    \"\"\"\n",
    "    Algorithme de descente de gradient adapté au contexte de la régression linéaire\n",
    "    \"\"\"\n",
    "    #TODO\n",
    "    return a,b\n",
    "\n",
    "graddes(x,y,a0=0, b0=1,k=10000, d=0.01)          "
   ]
  },
  {
   "cell_type": "markdown",
   "metadata": {},
   "source": [
    "**Question 4** \n",
    "\n",
    "Ecrire une fonction `plotErrEtDroite(dataX,dataY,a0,b0,k,d)` qui trace la valeur de l'erreur $E(a,b)$ en fonction du temps (nombre de pas) et qui trace les données et la droite de régression obtenue après la descente de gradient sur le même graphe (utiliser <tt>plotDroite</tt>)"
   ]
  },
  {
   "cell_type": "code",
   "execution_count": 2,
   "metadata": {},
   "outputs": [
    {
     "ename": "NameError",
     "evalue": "name 'x' is not defined",
     "output_type": "error",
     "traceback": [
      "\u001b[1;31m---------------------------------------------------------------------------\u001b[0m",
      "\u001b[1;31mNameError\u001b[0m                                 Traceback (most recent call last)",
      "\u001b[1;32m<ipython-input-2-a26d62231b43>\u001b[0m in \u001b[0;36m<module>\u001b[1;34m\u001b[0m\n\u001b[0;32m      7\u001b[0m \u001b[1;33m\u001b[0m\u001b[0m\n\u001b[0;32m      8\u001b[0m \u001b[1;33m\u001b[0m\u001b[0m\n\u001b[1;32m----> 9\u001b[1;33m \u001b[0merr\u001b[0m \u001b[1;33m=\u001b[0m \u001b[0mplotErrEtDroite\u001b[0m\u001b[1;33m(\u001b[0m\u001b[0mx\u001b[0m\u001b[1;33m,\u001b[0m\u001b[0my\u001b[0m\u001b[1;33m,\u001b[0m\u001b[0mk\u001b[0m \u001b[1;33m=\u001b[0m \u001b[1;36m10000\u001b[0m\u001b[1;33m)\u001b[0m\u001b[1;33m\u001b[0m\u001b[1;33m\u001b[0m\u001b[0m\n\u001b[0m",
      "\u001b[1;31mNameError\u001b[0m: name 'x' is not defined"
     ]
    }
   ],
   "source": [
    "def plotErrEtDroite(dataX,dataY,a0 =0,b0=1,k=10,d=.01):\n",
    "    err = []\n",
    "    #TODO\n",
    "    \n",
    "    plt.scatter(range(k), err, color='red')#Erreur en fonction du temps\n",
    "    plt.show()\n",
    "\n",
    "\n",
    "err = plotErrEtDroite(x,y,k = 10000)"
   ]
  },
  {
   "cell_type": "markdown",
   "metadata": {},
   "source": [
    "**Question 5** \n",
    "\n",
    "Utiliser les widgets pour visualiser l'effet d'un changement de k et d."
   ]
  },
  {
   "cell_type": "code",
   "execution_count": 172,
   "metadata": {},
   "outputs": [
    {
     "data": {
      "application/vnd.jupyter.widget-view+json": {
       "model_id": "9fc7a14a0e83404ea66bedbb68364b5b",
       "version_major": 2,
       "version_minor": 0
      },
      "text/plain": [
       "interactive(children=(IntSlider(value=10, description='k', max=5000, step=10), Output()), _dom_classes=('widge…"
      ]
     },
     "metadata": {},
     "output_type": "display_data"
    },
    {
     "data": {
      "text/plain": [
       "<function __main__.plotErrEtDroite(dataX, dataY, a0=0, b0=1, k=10, d=0.01)>"
      ]
     },
     "execution_count": 172,
     "metadata": {},
     "output_type": "execute_result"
    }
   ],
   "source": [
    "from ipywidgets import interact, fixed\n",
    "interact(plotErrEtDroite,dataX=fixed(x),dataY=fixed(y), a0=fixed(0), b0=fixed(1), k=(0, 5000, 10),d=fixed(0.01))"
   ]
  },
  {
   "cell_type": "markdown",
   "metadata": {},
   "source": [
    "**Question 6** Que ce passe-t-il si on fait la régression sur la taille en centimètres plutôt qu'en mètres. Expliquer. "
   ]
  },
  {
   "cell_type": "markdown",
   "metadata": {},
   "source": [
    "#TODO"
   ]
  },
  {
   "cell_type": "markdown",
   "metadata": {},
   "source": [
    "**Question 7** Retrouver les résulats précédents à l'aide de la fonction  <tt> LinearRegression </tt> de <tt>sklearn.linear_model</tt>"
   ]
  },
  {
   "cell_type": "code",
   "execution_count": 164,
   "metadata": {},
   "outputs": [
    {
     "name": "stdout",
     "output_type": "stream",
     "text": [
      "[0.56381549] -34.54231974921628\n",
      "65.25302283922974\n"
     ]
    }
   ],
   "source": [
    "from sklearn import metrics\n",
    "from sklearn.linear_model import LinearRegression\n",
    "\n",
    "#TODO"
   ]
  },
  {
   "cell_type": "markdown",
   "metadata": {},
   "source": [
    "### Bonus (pourra être utilisé pour le projet à rendre)\n",
    "\n",
    "#### Augmentation des dimensions\n",
    "Utiliser la méthode du gradient pour étudier l'influence du nombre d'heures de travail et du nombre de machine par heure sur la production d'une entreprise, à partir des données suivantes :\n",
    "\n",
    "| Objs        | Work (hours)           | Machine/hour  |   Production ( 100 tons) |\n",
    "| ------------- |:-------------:| -----:|  -----:|\n",
    "| 1     | 1100 |  300 | 60  |\n",
    "| 2     | 1200 |  400 | 120  |\n",
    "| 3     | 1430 |  420 | 190  |\n",
    "| 4     | 1500 |  400 | 250  |\n",
    "| 5     | 1520 |  510 | 300  |\n",
    "| 6     | 1620 |  590 | 360  |\n",
    "| 7     | 1800 |  600 | 380  |\n",
    "| 8     | 1820 |  630 | 430  |\n",
    "| 9     | 1800 |  610 | 440  |\n",
    "\n",
    "\n",
    "\n",
    "On cherche donc a obtenir une formule du type :\n",
    "\n",
    "$$P= \\alpha_1 W + \\alpha_2 Mh + \\beta $$\n",
    "\n",
    "Dont l'erreur est donnée par \n",
    "\n",
    "$$E(\\alpha_1,\\alpha_2,\\beta) =  \\sum_i (P_i - (\\alpha_1W_i + \\alpha_2Mh_i + \\beta)$$\n",
    "\n"
   ]
  },
  {
   "cell_type": "code",
   "execution_count": null,
   "metadata": {},
   "outputs": [],
   "source": []
  }
 ],
 "metadata": {
  "kernelspec": {
   "display_name": "Python 3",
   "language": "python",
   "name": "python3"
  },
  "language_info": {
   "codemirror_mode": {
    "name": "ipython",
    "version": 3
   },
   "file_extension": ".py",
   "mimetype": "text/x-python",
   "name": "python",
   "nbconvert_exporter": "python",
   "pygments_lexer": "ipython3",
   "version": "3.8.10"
  }
 },
 "nbformat": 4,
 "nbformat_minor": 4
}
