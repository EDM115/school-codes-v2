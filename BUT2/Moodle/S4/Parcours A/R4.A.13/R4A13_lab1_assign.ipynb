{
  "nbformat": 4,
  "nbformat_minor": 0,
  "metadata": {
    "accelerator": "GPU",
    "anaconda-cloud": {},
    "colab": {
      "provenance": [],
      "gpuType": "T4"
    },
    "kernelspec": {
      "display_name": "Python 3",
      "name": "python3"
    },
    "language_info": {
      "codemirror_mode": {
        "name": "ipython",
        "version": 3
      },
      "file_extension": ".py",
      "mimetype": "text/x-python",
      "name": "python",
      "nbconvert_exporter": "python",
      "pygments_lexer": "ipython3",
      "version": "3.5.3"
    }
  },
  "cells": [
    {
      "cell_type": "markdown",
      "metadata": {
        "id": "CuErVRvSQf4F"
      },
      "source": [
        "# Lab1 - AI - Neural networks for digit recognition\n",
        "\n",
        "**R4.A.13 - BUT2 - IUT Vannes**\n"
      ]
    },
    {
      "cell_type": "markdown",
      "metadata": {
        "collapsed": true,
        "id": "UsvsNDplQf4G"
      },
      "source": [
        "## Introduction"
      ]
    },
    {
      "cell_type": "markdown",
      "metadata": {
        "id": "rMX6fHloQf4H"
      },
      "source": [
        "In this lab, we will build and train a neural network for digit recognition from the MNIST dataset. We will use the **nn** module of Pytorch.\n",
        "\n",
        "This lab was prepared based on the tutorial: (https://datahacker.rs/mnist-handwritten-digit-recognition-in-pytorch-1-3/)\n",
        "\n",
        "Please note that the implementation from the tutorial needs to be adapted and corrected. A simple copy/paste will not work.\n"
      ]
    },
    {
      "cell_type": "markdown",
      "metadata": {
        "id": "YxOOiyrUGFBv"
      },
      "source": [
        "**Setting up the environment**\n"
      ]
    },
    {
      "cell_type": "code",
      "metadata": {
        "id": "BH7cvRHzGJG6"
      },
      "source": [
        "# Import required packages from Pytorch\n",
        "import torch\n",
        "from torch import nn\n",
        "from torch import optim\n",
        "import torch.nn.functional as F\n",
        "\n",
        "# fix random seed for reproducibility\n",
        "import numpy as np\n",
        "np.random.seed(7)\n",
        "\n",
        "# moves your model to train on your gpu if available else it uses your cpu\n",
        "device = (\"cuda\" if torch.cuda.is_available() else \"cpu\")\n",
        "print(device)\n"
      ],
      "execution_count": null,
      "outputs": []
    },
    {
      "cell_type": "code",
      "source": [
        "# what is your GPU ?\n",
        "!nvidia-smi"
      ],
      "metadata": {
        "id": "yZlQXmLdfy6M"
      },
      "execution_count": null,
      "outputs": []
    },
    {
      "cell_type": "markdown",
      "metadata": {
        "id": "gVJ9WMDkI2f4"
      },
      "source": [
        "### **1. Loading MNIST dataset from torchvision**"
      ]
    },
    {
      "cell_type": "code",
      "metadata": {
        "collapsed": true,
        "id": "2V6e-0mzQf4J"
      },
      "source": [
        "from torchvision import datasets, transforms\n",
        "\n",
        "# Define transform to normalize data\n",
        "\n",
        "transform = transforms.Compose([\n",
        "                                transforms.ToTensor(),\n",
        "                                transforms.Normalize((0.1307,),(0.3081,))\n",
        "                                ])\n",
        "\n",
        "# Download and load the training data and the validation (test) data\n",
        "train_set = datasets.MNIST('DATA_MNIST/', download=True, train=True, transform=transform)\n",
        "trainLoader = torch.utils.data.DataLoader(train_set, batch_size=64, shuffle=True)\n",
        "\n",
        "validation_set = datasets.MNIST('DATA_MNIST/', download=True, train=False, transform=transform)\n",
        "validationLoader = torch.utils.data.DataLoader(validation_set, batch_size=64, shuffle=True)"
      ],
      "execution_count": null,
      "outputs": []
    },
    {
      "cell_type": "markdown",
      "source": [
        "**---------------Question 1---------------**\n",
        "\n",
        "*   What is the role of *transforms.ToTensor()* ?\n",
        "*   What is the role of *transforms.Normalize()* ? What are the values 0.1307 and 0.3081 ?\n",
        "*   What is the batch size 64 ?\n",
        "\n",
        "\n",
        "\n"
      ],
      "metadata": {
        "id": "VoX7A1DICqBX"
      }
    },
    {
      "cell_type": "code",
      "source": [
        "# show the training size, test size, number of class\n",
        "print(\"Train size : \", len(train_set))\n",
        "print(\"validation size : \", len(validation_set))"
      ],
      "metadata": {
        "id": "qdGFhKyhixky"
      },
      "execution_count": null,
      "outputs": []
    },
    {
      "cell_type": "code",
      "source": [
        "# check the size of the image tensors and label tensors\n",
        "training_data = enumerate(trainLoader)\n",
        "batch_idx, (images, labels) = next(training_data)\n",
        "\n",
        "print(images.shape) # the size of the image\n",
        "print(labels.shape) # the size of the labels"
      ],
      "metadata": {
        "id": "LMp9RgUULgQk"
      },
      "execution_count": null,
      "outputs": []
    },
    {
      "cell_type": "code",
      "metadata": {
        "collapsed": true,
        "id": "FLJLu3XIQf4Q",
        "scrolled": true
      },
      "source": [
        "# Display some image samples using matplotlib.pyplot\n",
        "import matplotlib.pyplot as plt\n",
        "%matplotlib inline\n",
        "\n",
        "for i in range(0,12):\n",
        "    plt.subplot(3, 4, i+1)\n",
        "    plt.imshow(images[i].numpy().squeeze(), cmap='gray'); plt.axis('off')\n",
        "    plt.title(\"label: \" + str(labels[i].numpy().squeeze()))"
      ],
      "execution_count": null,
      "outputs": []
    },
    {
      "cell_type": "markdown",
      "source": [
        "**---------------Question 2---------------**\n",
        "\n",
        "*   What is the role of *numpy()* ?\n",
        "*   What is the role of *squeeze()* ?\n"
      ],
      "metadata": {
        "id": "0o2cJzNYj--X"
      }
    },
    {
      "cell_type": "code",
      "source": [
        "# check the function squeeze()\n",
        "\n",
        "# print(images[i].numpy().squeeze().shape)\n"
      ],
      "metadata": {
        "id": "KThoZv8kj7K9"
      },
      "execution_count": null,
      "outputs": []
    },
    {
      "cell_type": "markdown",
      "metadata": {
        "id": "_0m7Fp6dQf4U"
      },
      "source": [
        "### **2. Build a fully-connected neural network**"
      ]
    },
    {
      "cell_type": "markdown",
      "metadata": {
        "id": "2vcyFKh7Qf4b"
      },
      "source": [
        "Let's define a **2-layer neural network** with:\n",
        "- first layer: 128 neurons\n",
        "- second layer: 256 neurons\n",
        "- activation ReLu\n",
        "- do not use *dropout* layer (as proposed in the tutorial) for the moment"
      ]
    },
    {
      "cell_type": "code",
      "metadata": {
        "collapsed": true,
        "id": "uGh8EJjTQf4b"
      },
      "source": [
        "class Network(nn.Module):\n",
        "# to complete"
      ],
      "execution_count": null,
      "outputs": []
    },
    {
      "cell_type": "markdown",
      "source": [
        "Let's now initialize the network"
      ],
      "metadata": {
        "id": "4G_ZUTc9krgz"
      }
    },
    {
      "cell_type": "code",
      "source": [
        "# your work"
      ],
      "metadata": {
        "id": "gSbMPD3fObtH"
      },
      "execution_count": null,
      "outputs": []
    },
    {
      "cell_type": "markdown",
      "source": [
        "**---------------Question 3---------------**\n",
        "\n",
        "*   Cacluate the total number of parameters ?\n",
        "*   How to print the total number of trainable parameters in Pytorch ?"
      ],
      "metadata": {
        "id": "k_FGO1uJnao_"
      }
    },
    {
      "cell_type": "code",
      "source": [
        "# print number of total trainable parameters\n",
        "\n"
      ],
      "metadata": {
        "id": "gIQqFLzpmPqz"
      },
      "execution_count": null,
      "outputs": []
    },
    {
      "cell_type": "markdown",
      "metadata": {
        "id": "j3LVhOAdQf4d"
      },
      "source": [
        "### **3. Train the model**"
      ]
    },
    {
      "cell_type": "markdown",
      "source": [
        "Let's set up the optimizer and the loss function. You can use the Stochastic **Gradient Descent optimizer (SGD)** and the **Cross-entropy** loss as proposed by the tutorial."
      ],
      "metadata": {
        "id": "aSawxt7YcT8P"
      }
    },
    {
      "cell_type": "code",
      "source": [
        "# your work"
      ],
      "metadata": {
        "id": "pnxp9T-OnPBi"
      },
      "execution_count": null,
      "outputs": []
    },
    {
      "cell_type": "markdown",
      "source": [
        "Now train and evaluate/validate the model (during the training)"
      ],
      "metadata": {
        "id": "l9o5T6tmc7j5"
      }
    },
    {
      "cell_type": "code",
      "metadata": {
        "collapsed": true,
        "id": "pzgvonoZQf4d"
      },
      "source": [
        "# your work\n",
        "\n"
      ],
      "execution_count": null,
      "outputs": []
    },
    {
      "cell_type": "markdown",
      "source": [
        "Let’s plot our loss and accuracies and see if they are falling or growing.\n",
        "\n"
      ],
      "metadata": {
        "id": "AKSTHe0SdKFg"
      }
    },
    {
      "cell_type": "code",
      "source": [
        "# plot the loss curves\n",
        "\n"
      ],
      "metadata": {
        "id": "KbhjckryPT4Y"
      },
      "execution_count": null,
      "outputs": []
    },
    {
      "cell_type": "code",
      "source": [
        "# plot the accuracy curves\n",
        "\n"
      ],
      "metadata": {
        "id": "Z3DE3sL1PWl2"
      },
      "execution_count": null,
      "outputs": []
    },
    {
      "cell_type": "markdown",
      "source": [
        "**---------------Question 4---------------**\n",
        "\n",
        "*  Your remarks and comments about the training process ?\n",
        "*  Why is the training time of the first epoch is so long ?\n"
      ],
      "metadata": {
        "id": "V5XNtf1YemNl"
      }
    },
    {
      "cell_type": "markdown",
      "metadata": {
        "id": "hxaNP07gQf4i"
      },
      "source": [
        "### **4. Evaluation a trained network**"
      ]
    },
    {
      "cell_type": "markdown",
      "source": [
        "Once our model is trained, we can simply use the trained weights to make some new predictions by turning off the gradients.\n",
        "\n",
        "Let's first predict label for a single image."
      ],
      "metadata": {
        "id": "CtEcHaiLfA7H"
      }
    },
    {
      "cell_type": "code",
      "metadata": {
        "collapsed": true,
        "id": "HCK4iTOfQf4j"
      },
      "source": [
        "# your work\n"
      ],
      "execution_count": null,
      "outputs": []
    },
    {
      "cell_type": "code",
      "source": [
        "#"
      ],
      "metadata": {
        "id": "HMQHnpCgTkBh"
      },
      "execution_count": null,
      "outputs": []
    },
    {
      "cell_type": "markdown",
      "source": [
        "Predict labels for a batch"
      ],
      "metadata": {
        "id": "WhDR_0EzfIsw"
      }
    },
    {
      "cell_type": "code",
      "source": [
        "# your work\n"
      ],
      "metadata": {
        "id": "U7hW6patUGAn"
      },
      "execution_count": null,
      "outputs": []
    },
    {
      "cell_type": "code",
      "source": [],
      "metadata": {
        "id": "geMMfsGGUHun"
      },
      "execution_count": null,
      "outputs": []
    },
    {
      "cell_type": "markdown",
      "source": [
        "Calculate the performance on the whole validation set"
      ],
      "metadata": {
        "id": "OP1hE_klf5ID"
      }
    },
    {
      "cell_type": "code",
      "metadata": {
        "collapsed": true,
        "id": "D3Dhsx2IQf4l"
      },
      "source": [
        "# your work\n"
      ],
      "execution_count": null,
      "outputs": []
    },
    {
      "cell_type": "markdown",
      "metadata": {
        "id": "nRWjiSaQQf4t"
      },
      "source": [
        "### **5. Building other neural networks**\n",
        "Now, you can try other hyper-parameters to see the their influence on the performance.\n",
        "You can also create and test other neural nets by adding more neurons, more layers.\n",
        "\n",
        "Report the performance and comments on your work\n",
        "  "
      ]
    },
    {
      "cell_type": "code",
      "metadata": {
        "collapsed": true,
        "id": "J2z71IIFQf4u"
      },
      "source": [
        "# your work\n",
        "\n"
      ],
      "execution_count": null,
      "outputs": []
    },
    {
      "cell_type": "code",
      "metadata": {
        "collapsed": true,
        "id": "XhoC1PF9Qf4x"
      },
      "source": [
        "# your work\n",
        "\n"
      ],
      "execution_count": null,
      "outputs": []
    },
    {
      "cell_type": "code",
      "metadata": {
        "collapsed": true,
        "id": "hE79JZTgQf4y"
      },
      "source": [
        "# your work\n"
      ],
      "execution_count": null,
      "outputs": []
    }
  ]
}